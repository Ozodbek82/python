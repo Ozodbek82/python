{
 "cells": [
  {
   "cell_type": "code",
   "execution_count": 3,
   "id": "13206897",
   "metadata": {},
   "outputs": [
    {
     "name": "stdout",
     "output_type": "stream",
     "text": [
      "n=5\n",
      "15\n"
     ]
    }
   ],
   "source": [
    "#1 1 dan n gacha sonlar yig`indisi \n",
    "n=int(input(\"n=\"))\n",
    "s=0\n",
    "for i in range(1,n+1):\n",
    "    s+=i\n",
    "print(s)"
   ]
  },
  {
   "cell_type": "code",
   "execution_count": 8,
   "id": "8327bc8b",
   "metadata": {},
   "outputs": [
    {
     "name": "stdout",
     "output_type": "stream",
     "text": [
      "n=29\n",
      "tub son\n"
     ]
    }
   ],
   "source": [
    "#3 tub son yoki emas\n",
    "n=int(input(\"n=\"))\n",
    "a=0\n",
    "for i in range(2,n):\n",
    "    if n%i==0:\n",
    "         a=\"tub son emas\"\n",
    "if a!=\"tub son emas\":\n",
    "    a=\"tub son\"\n",
    "print(a)\n",
    "    \n",
    "    \n",
    "        "
   ]
  },
  {
   "cell_type": "code",
   "execution_count": 48,
   "id": "a567abee",
   "metadata": {},
   "outputs": [
    {
     "name": "stdout",
     "output_type": "stream",
     "text": [
      "n=100\n",
      "2 3 5 7 11 13 17 19 23 29 31 37 41 43 47 53 59 61 67 71 73 79 83 89 97 \n",
      " 25\n"
     ]
    }
   ],
   "source": [
    "#4-1 1 dan n gacha tub sonlar va ular soni\n",
    "n=int(input(\"n=\"))\n",
    "a=0; s=0 \n",
    "for i in range(2,n+1):\n",
    "    for j in range(2,i):    \n",
    "        if i%j==0:\n",
    "            a=a+1\n",
    "            break\n",
    "    if a==0:\n",
    "        print(i,end=\" \")\n",
    "        s+=1\n",
    "    else:\n",
    "        a=0\n",
    "print(\"\\n\",s)"
   ]
  },
  {
   "cell_type": "code",
   "execution_count": 1,
   "id": "f601def3",
   "metadata": {},
   "outputs": [
    {
     "name": "stdout",
     "output_type": "stream",
     "text": [
      "n=100\n",
      "2 3 5 7 11 13 17 19 23 29 31 37 41 43 47 53 59 61 67 71 73 79 83 89 97 \n",
      " soni= 25\n"
     ]
    }
   ],
   "source": [
    "#4-2 1 dan n gacha tub sonlar va ular soni\n",
    "n=int(input(\"n=\"))\n",
    "a=0; s=1 \n",
    "print(2,end=\" \")\n",
    "for i in range(3,n+1,2):\n",
    "    for j in range(2,i):    \n",
    "        if i%j==0:\n",
    "            a=a+1\n",
    "            break\n",
    "    if a==0:\n",
    "        print(i,end=\" \")\n",
    "        s+=1\n",
    "    else:\n",
    "        a=0\n",
    "print(\"\\n soni=\",s)"
   ]
  },
  {
   "cell_type": "code",
   "execution_count": 2,
   "id": "b88a484b",
   "metadata": {},
   "outputs": [
    {
     "name": "stdout",
     "output_type": "stream",
     "text": [
      "n = 1000\n",
      "2 3 5 7 11 13 17 19 23 29 31 37 41 43 47 53 59 61 67 71 73 79 83 89 97 101 103 107 109 113 127 131 137 139 149 151 157 163 167 173 179 181 191 193 197 199 211 223 227 229 233 239 241 251 257 263 269 271 277 281 283 293 307 311 313 317 331 337 347 349 353 359 367 373 379 383 389 397 401 409 419 421 431 433 439 443 449 457 461 463 467 479 487 491 499 503 509 521 523 541 547 557 563 569 571 577 587 593 599 601 607 613 617 619 631 641 643 647 653 659 661 673 677 683 691 701 709 719 727 733 739 743 751 757 761 769 773 787 797 809 811 821 823 827 829 839 853 857 859 863 877 881 883 887 907 911 919 929 937 941 947 953 967 971 977 983 991 997 2019\n"
     ]
    }
   ],
   "source": [
    "#4-3 1 dan n gacha tub sonlar (optimali)\n",
    "from math import sqrt\n",
    "n = int(input('n = '))\n",
    "print(2,end=' ');k=0\n",
    "for i in range(3,n+1,2):\n",
    "    S=0\n",
    "    for j in range(3,int(sqrt(i))+1,2):\n",
    "        if i%j==0:\n",
    "            S+=1\n",
    "            break\n",
    "        k+=1\n",
    "    if S==0:\n",
    "        print(i,end=' ')\n",
    "print(k)"
   ]
  },
  {
   "cell_type": "code",
   "execution_count": 52,
   "id": "43387019",
   "metadata": {},
   "outputs": [
    {
     "name": "stdout",
     "output_type": "stream",
     "text": [
      "n=5\n",
      "120\n"
     ]
    }
   ],
   "source": [
    "#5 n faktorialni hisoblovchi\n",
    "n=int(input(\"n=\"))\n",
    "p=1\n",
    "for i in range(1,n+1):\n",
    "    p*=i\n",
    "print(p)"
   ]
  },
  {
   "cell_type": "code",
   "execution_count": 59,
   "id": "73d7de08",
   "metadata": {},
   "outputs": [
    {
     "name": "stdout",
     "output_type": "stream",
     "text": [
      "n=100\n",
      "97\n"
     ]
    }
   ],
   "source": [
    "#6 n gacha bo`lgan tub sonlarning oxirgisi\n",
    "n=int(input(\"n=\"))\n",
    "k=0\n",
    "for i in range(n-1,1,-1):\n",
    "    for j in range(2,i):\n",
    "        if i%j==0:\n",
    "            k+=1\n",
    "            break\n",
    "    if k==0:\n",
    "        print(i)\n",
    "        break\n",
    "    else:\n",
    "        k=0      "
   ]
  },
  {
   "cell_type": "code",
   "execution_count": 38,
   "id": "f87a07af",
   "metadata": {},
   "outputs": [
    {
     "name": "stdout",
     "output_type": "stream",
     "text": [
      "a=-56\n",
      "b=48\n",
      "-8\n"
     ]
    }
   ],
   "source": [
    "# 7 Ikki sonning eng katta umumiy bo'linuvchisini (EKUB)\n",
    "a=int(input(\"a=\"))\n",
    "b=int(input(\"b=\"))\n",
    "for i in range(a+b):\n",
    "    if a>b and a!=0 and b!=0:\n",
    "        a=a%b\n",
    "    elif b>a and a!=0 and b!=0:\n",
    "        b=b%a\n",
    "    else:\n",
    "        break\n",
    "k=a+b\n",
    "print(k)   "
   ]
  },
  {
   "cell_type": "code",
   "execution_count": 64,
   "id": "a9b47fc4",
   "metadata": {},
   "outputs": [
    {
     "name": "stdout",
     "output_type": "stream",
     "text": [
      "n=22222\n",
      "10\n"
     ]
    }
   ],
   "source": [
    "#8  Berilgan sonning raqamlari yig`indisini aniqlovchi\n",
    "n=int(input(\"n=\"))\n",
    "p=n; k=n; s=0\n",
    "for i in range(1,n):\n",
    "    if p==0:\n",
    "        break\n",
    "    p=p%10\n",
    "    s=s+p\n",
    "    k=k//10\n",
    "    p=k\n",
    "print(s)"
   ]
  },
  {
   "cell_type": "code",
   "execution_count": 60,
   "id": "ffe332e3",
   "metadata": {},
   "outputs": [
    {
     "name": "stdout",
     "output_type": "stream",
     "text": [
      "n=5\n",
      "35\n"
     ]
    }
   ],
   "source": [
    "#9  # (1) + (1 + 2) + (1 + 2 + 3) + (1 + 2 + 3 + 4) + ... + (1\n",
    "n=int(input(\"n=\"))\n",
    "p=0; s=0\n",
    "for i in range(1,n+1):\n",
    "    p=p+i\n",
    "    s=s+p\n",
    "print(s)\n",
    "    "
   ]
  },
  {
   "cell_type": "code",
   "execution_count": 42,
   "id": "ffabbbc9",
   "metadata": {},
   "outputs": [
    {
     "name": "stdout",
     "output_type": "stream",
     "text": [
      "nechta son=3\n",
      "son=45\n",
      "son=12\n",
      "son=3\n",
      " maximum=45\n",
      " minimum=3\n",
      " musbat sonlar3-ta\n"
     ]
    }
   ],
   "source": [
    "#10 nechta musbat son borligini va Maksimum, minimum qiymat\n",
    "n=int(input(\"nechta son=\"))\n",
    "maxi=0; mini=0; summ=0\n",
    "for i in range(1,n+1):\n",
    "    a=int(input(\"son=\"))\n",
    "    if a>0:\n",
    "        summ=summ+1\n",
    "    if i==1:\n",
    "        maxi=a; mini=a\n",
    "    else:\n",
    "        if a>maxi:\n",
    "            maxi=a\n",
    "        if a<mini:\n",
    "            mini=a\n",
    "print(F\" maximum={maxi}\\n minimum={mini}\\n musbat sonlar{summ}-ta\")\n",
    "    "
   ]
  },
  {
   "cell_type": "code",
   "execution_count": 11,
   "id": "59ceace7",
   "metadata": {},
   "outputs": [
    {
     "name": "stdout",
     "output_type": "stream",
     "text": [
      "nechta son=5\n",
      "son=-5\n",
      "son=9\n",
      "son=8\n",
      "son=3\n",
      "son=78\n",
      "78\n"
     ]
    }
   ],
   "source": [
    "#10 nechta musbat son borligini va Maksimum, minimum qiymat\n",
    "n=int(input(\"nechta son=\"))\n",
    "maxi=0;\n",
    "for i in range(1,n+1):\n",
    "    a=int(input(\"son=\"))\n",
    "    if i==1:\n",
    "        maxi=a\n",
    "    else:\n",
    "        if a>maxi:\n",
    "            maxi=a\n",
    "    \n",
    "print(maxi)\n",
    "    "
   ]
  },
  {
   "cell_type": "code",
   "execution_count": 70,
   "id": "056b9c32",
   "metadata": {},
   "outputs": [
    {
     "name": "stdout",
     "output_type": "stream",
     "text": [
      "n=100\n",
      "4 6 8 9 10 12 14 15 16 18 20 21 22 24 25 26 27 28 30 32 33 34 35 36 38 39 40 42 44 45 46 48 49 50 51 52 54 55 56 57 58 60 62 63 64 65 66 68 69 70 72 74 75 76 77 78 80 81 82 84 85 86 87 88 90 91 92 93 94 95 96 98 99 "
     ]
    }
   ],
   "source": [
    "# 11. n soni berilgan. Berilgan songacha bo’lgan murakkab\n",
    "n=int(input(\"n=\"))\n",
    "for i in range(4,n):\n",
    "    for j in range(2,i):\n",
    "        if i%j==0:\n",
    "            print(i,end=\" \")\n",
    "            break       "
   ]
  },
  {
   "cell_type": "code",
   "execution_count": 71,
   "id": "d7a060d2",
   "metadata": {},
   "outputs": [
    {
     "name": "stdout",
     "output_type": "stream",
     "text": [
      "n=5\n",
      "# # # # # \n",
      "# # # # # \n",
      "# # # # # \n",
      "# # # # # \n",
      "# # # # # \n"
     ]
    }
   ],
   "source": [
    "#12 n soni berilgan. Tomoni n ga teng bo’lgan kvadrat yasang\n",
    "n=int(input(\"n=\"))\n",
    "for i in range(1,n+1):\n",
    "    for j in range(1,n+1):\n",
    "        print(\"#\",end=\" \")\n",
    "    print()"
   ]
  },
  {
   "cell_type": "code",
   "execution_count": 78,
   "id": "51a77fd5",
   "metadata": {},
   "outputs": [
    {
     "name": "stdout",
     "output_type": "stream",
     "text": [
      "n=5\n",
      "1x1 = 1  2x1 = 2  3x1 = 3  4x1 = 4  5x1 = 5  \n",
      "1x2 = 2  2x2 = 4  3x2 = 6  4x2 = 8  5x2 = 10  \n",
      "1x3 = 3  2x3 = 6  3x3 = 9  4x3 = 12  5x3 = 15  \n",
      "1x4 = 4  2x4 = 8  3x4 = 12  4x4 = 16  5x4 = 20  \n",
      "1x5 = 5  2x5 = 10  3x5 = 15  4x5 = 20  5x5 = 25  \n",
      "1x6 = 6  2x6 = 12  3x6 = 18  4x6 = 24  5x6 = 30  \n",
      "1x7 = 7  2x7 = 14  3x7 = 21  4x7 = 28  5x7 = 35  \n",
      "1x8 = 8  2x8 = 16  3x8 = 24  4x8 = 32  5x8 = 40  \n",
      "1x9 = 9  2x9 = 18  3x9 = 27  4x9 = 36  5x9 = 45  \n",
      "1x10 = 10  2x10 = 20  3x10 = 30  4x10 = 40  5x10 = 50  \n"
     ]
    }
   ],
   "source": [
    "#13 1 dan n gacha vertikal ravishda ko'paytirish jadvali\n",
    "n=int(input(\"n=\"))\n",
    "for i in range(1,11):\n",
    "    for j in range(1,n+1):\n",
    "        print(f\"{j}x{i} = {j*i}  \",end=\"\")\n",
    "    print()"
   ]
  },
  {
   "cell_type": "code",
   "execution_count": 82,
   "id": "0c59d661",
   "metadata": {},
   "outputs": [
    {
     "name": "stdout",
     "output_type": "stream",
     "text": [
      "n=10\n",
      "1 3 5 7 9 11 13 15 17 19 \n",
      " yig`indisi= 100\n"
     ]
    }
   ],
   "source": [
    "#14  toq sonlar va yigindisi\n",
    "n=int(input(\"n=\"))\n",
    "s=0\n",
    "for i in range(1,2*n,2):\n",
    "    print(i,end=\" \")\n",
    "    s=s+i\n",
    "print(\"\\n\",\"yig`indisi=\",s)"
   ]
  },
  {
   "cell_type": "code",
   "execution_count": 83,
   "id": "bfb3ef48",
   "metadata": {},
   "outputs": [
    {
     "name": "stdout",
     "output_type": "stream",
     "text": [
      "n=10\n",
      "2 4 6 8 10 12 14 16 18 20 \n",
      " yig`indisi= 110\n"
     ]
    }
   ],
   "source": [
    "#15 juft sonlar va yig`indi\n",
    "n=int(input(\"n=\"))\n",
    "s=0\n",
    "for i in range(2,2*n+1,2):\n",
    "    print(i,end=\" \")\n",
    "    s=s+i\n",
    "print(\"\\n\",\"yig`indisi=\",s)"
   ]
  },
  {
   "cell_type": "code",
   "execution_count": 85,
   "id": "c886a3d9",
   "metadata": {},
   "outputs": [
    {
     "name": "stdout",
     "output_type": "stream",
     "text": [
      "n=6\n",
      "123456\n"
     ]
    }
   ],
   "source": [
    "#16  1 + 11 + 111 + 1111 + …+ n qatorlarining yig'indisin\n",
    "n=int(input(\"n=\"))\n",
    "p=0; s=0\n",
    "for i in range(1,n+1):\n",
    "    p=p*10+1\n",
    "    s=s+p\n",
    "print(s)    "
   ]
  },
  {
   "cell_type": "code",
   "execution_count": 88,
   "id": "7387af0d",
   "metadata": {},
   "outputs": [
    {
     "name": "stdout",
     "output_type": "stream",
     "text": [
      "n=10\n",
      "1 1 2 3 5 8 13 21 34 55 "
     ]
    }
   ],
   "source": [
    "#17  Fibonachchi sonlarining dastlabki n tasini ekranga chiqa\n",
    "n=int(input(\"n=\"))\n",
    "n1=1; n0=0\n",
    "print(\"1\",end=\" \")\n",
    "for i in range(1,n):\n",
    "    n2=n1+n0\n",
    "    print(n2,end=\" \")\n",
    "    n0=n1\n",
    "    n1=n2\n",
    "    "
   ]
  },
  {
   "cell_type": "code",
   "execution_count": 91,
   "id": "f19785c9",
   "metadata": {},
   "outputs": [
    {
     "name": "stdout",
     "output_type": "stream",
     "text": [
      "n=50\n",
      "50 = 3 + 47\n",
      "50 = 7 + 43\n",
      "50 = 13 + 37\n",
      "50 = 19 + 31\n",
      "50 = 31 + 19\n",
      "50 = 37 + 13\n",
      "50 = 43 + 7\n",
      "50 = 47 + 3\n"
     ]
    }
   ],
   "source": [
    "# 18  Ushbu sonni ikki tub son yig’indisi ko’rinishida \n",
    "n=int(input(\"n=\"))\n",
    "a=0; s=0; b=0\n",
    "for i in range(2,n+1):\n",
    "    for j in range(2,i):    \n",
    "        if i%j==0:\n",
    "            a=a+1\n",
    "            break\n",
    "    if a==0:\n",
    "        for r in range(2,n-i):\n",
    "            if (n-i)%r==0:\n",
    "                b=b+1\n",
    "                break\n",
    "        if b==0:\n",
    "            num2=n-i\n",
    "            print(n,\"=\",i,\"+\",n-i)\n",
    "        else:\n",
    "            b=0\n",
    "    else:\n",
    "        a=0\n",
    "# print(\"\\n\",s)"
   ]
  },
  {
   "cell_type": "code",
   "execution_count": 2,
   "id": "60ef2e0f",
   "metadata": {},
   "outputs": [
    {
     "name": "stdout",
     "output_type": "stream",
     "text": [
      "n = 56\n",
      "56 = 3 + 53\n",
      "56 = 13 + 43\n",
      "56 = 19 + 37\n"
     ]
    }
   ],
   "source": [
    "# 18-2 Ushbu sonni ikki tub son yig’indisi ko’rinishida \n",
    "n = int(input(\"n = \"))\n",
    "tublar = False\n",
    "for i in range(2,n//2+1):\n",
    "    tub1,tub2 = True,True\n",
    "    \n",
    "    for j in range(2,i):\n",
    "        if i%j==0:\n",
    "            tub1 = False\n",
    "            \n",
    "    for j in range(2,n-i):\n",
    "        if (n-i)%j==0:\n",
    "            tub2 = False\n",
    "    \n",
    "    if tub1 and tub2:\n",
    "        print(n,'=',i,'+',n-i)\n",
    "        tublar = True\n",
    "\n",
    "if tublar==False:\n",
    "    print(\"Bunday sonlar yo'q\")"
   ]
  },
  {
   "cell_type": "code",
   "execution_count": 3,
   "id": "c64c9a6e",
   "metadata": {},
   "outputs": [
    {
     "name": "stdout",
     "output_type": "stream",
     "text": [
      "n=6\n",
      "*\n",
      "**\n",
      "***\n",
      "****\n",
      "*****\n",
      "******\n"
     ]
    }
   ],
   "source": [
    "# 19 n musbat soni berilgan. Yulduzcha yordamida to'g'r\n",
    "n=int(input(\"n=\"))\n",
    "for i in range(1,n+1):\n",
    "    print(i*\"*\")\n",
    "    print"
   ]
  },
  {
   "cell_type": "code",
   "execution_count": 4,
   "id": "8a7184fd",
   "metadata": {},
   "outputs": [
    {
     "name": "stdout",
     "output_type": "stream",
     "text": [
      "n=6\n",
      "1\n",
      "12\n",
      "123\n",
      "1234\n",
      "12345\n",
      "123456\n"
     ]
    }
   ],
   "source": [
    "# 20\n",
    "n=int(input(\"n=\"))\n",
    "s=0\n",
    "for i in range(1,n+1):\n",
    "    s=s*10+i\n",
    "    print(s)\n",
    "    print"
   ]
  },
  {
   "cell_type": "code",
   "execution_count": 5,
   "id": "7ad7f778",
   "metadata": {},
   "outputs": [
    {
     "name": "stdout",
     "output_type": "stream",
     "text": [
      "n=5\n",
      "1\n",
      "22\n",
      "333\n",
      "4444\n",
      "55555\n"
     ]
    }
   ],
   "source": [
    "#21 \n",
    "n=int(input(\"n=\"))\n",
    "s=0\n",
    "for i in range(1,n+1):\n",
    "    s=s*10+1\n",
    "    print(s*i)\n",
    "    print"
   ]
  },
  {
   "cell_type": "code",
   "execution_count": 8,
   "id": "350af11b",
   "metadata": {},
   "outputs": [
    {
     "name": "stdout",
     "output_type": "stream",
     "text": [
      "n=5\n",
      "1 \n",
      "2 3 \n",
      "4 5 6 \n",
      "7 8 9 10 \n",
      "11 12 13 14 15 \n"
     ]
    }
   ],
   "source": [
    "#22 \n",
    "n=int(input(\"n=\"))\n",
    "s=0\n",
    "for i in range(1,n+1):\n",
    "    for j in range(1,i+1):\n",
    "        s=s+1\n",
    "        print(s,end=\" \")\n",
    "    print()"
   ]
  },
  {
   "cell_type": "code",
   "execution_count": 16,
   "id": "1d202833",
   "metadata": {},
   "outputs": [
    {
     "name": "stdout",
     "output_type": "stream",
     "text": [
      "n=4\n",
      "    1 \n",
      "   2 3 \n",
      "  4 5 6 \n",
      " 7 8 9 10 \n"
     ]
    }
   ],
   "source": [
    "# 23\n",
    "n=int(input(\"n=\"))\n",
    "s=0\n",
    "for i in range(1,n+1):\n",
    "    print((n-i)*\" \",end=\" \")\n",
    "    for j in range(1,i+1):\n",
    "        s=s+1\n",
    "        print(s,end=\" \")\n",
    "    print()"
   ]
  },
  {
   "cell_type": "code",
   "execution_count": 19,
   "id": "e3924194",
   "metadata": {},
   "outputs": [
    {
     "name": "stdout",
     "output_type": "stream",
     "text": [
      "n=5\n",
      "     * \n",
      "    * * \n",
      "   * * * \n",
      "  * * * * \n",
      " * * * * * \n"
     ]
    }
   ],
   "source": [
    "# 24\n",
    "n=int(input(\"n=\"))\n",
    "s=0\n",
    "for i in range(1,n+1):\n",
    "    print((n-i)*\" \",end=\" \")\n",
    "    for j in range(1,i+1):\n",
    "        print(\"*\",end=\" \")\n",
    "    print()"
   ]
  },
  {
   "cell_type": "code",
   "execution_count": 25,
   "id": "aeb1dede",
   "metadata": {},
   "outputs": [
    {
     "name": "stdout",
     "output_type": "stream",
     "text": [
      "n=5\n",
      "     1 \n",
      "    2 2 \n",
      "   3 3 3 \n",
      "  4 4 4 4 \n",
      " 5 5 5 5 5 \n"
     ]
    }
   ],
   "source": [
    "#25\n",
    "n=int(input(\"n=\"))\n",
    "s=0\n",
    "for i in range(1,n+1):\n",
    "    print((n-i)*\" \",end=\" \")\n",
    "    for j in range(1,i+1):\n",
    "        print(i,end=\" \")\n",
    "    print()"
   ]
  },
  {
   "cell_type": "code",
   "execution_count": 30,
   "id": "24a9c1f0",
   "metadata": {},
   "outputs": [
    {
     "name": "stdout",
     "output_type": "stream",
     "text": [
      "n=5\n",
      "     *\n",
      "    ***\n",
      "   *****\n",
      "  *******\n"
     ]
    }
   ],
   "source": [
    "#26\n",
    "n=int(input(\"n=\"))\n",
    "s=1\n",
    "for i in range(1,n):\n",
    "    print((n-i)*\" \",end=\" \")\n",
    "    print(s*\"*\")\n",
    "    s=s+2"
   ]
  },
  {
   "cell_type": "code",
   "execution_count": 48,
   "id": "c6534bd7",
   "metadata": {},
   "outputs": [
    {
     "name": "stdout",
     "output_type": "stream",
     "text": [
      "n=5\n",
      "1\n",
      "01\n",
      "101\n",
      "0101\n",
      "10101\n"
     ]
    }
   ],
   "source": [
    "#27\n",
    "n=int(input(\"n=\"))\n",
    "for i in range(1,n+1):\n",
    "    for j in range(i,0,-1):\n",
    "        print(j%2,end=\"\")\n",
    "    print()"
   ]
  },
  {
   "cell_type": "code",
   "execution_count": 50,
   "id": "313c4c9c",
   "metadata": {},
   "outputs": [
    {
     "name": "stdout",
     "output_type": "stream",
     "text": [
      "n=5\n",
      "     *\n",
      "    ***\n",
      "   *****\n",
      "  *******\n",
      " *********\n",
      "  *******\n",
      "   *****\n",
      "    ***\n",
      "     *\n"
     ]
    }
   ],
   "source": [
    "#28 \n",
    "n=int(input(\"n=\"))\n",
    "s=1\n",
    "for i in range(1,n):\n",
    "    print((n-i)*\" \",end=\" \")\n",
    "    print(s*\"*\")\n",
    "    s=s+2\n",
    "for i in range(n,0,-1):\n",
    "    print((n-i)*\" \",end=\" \")\n",
    "    print(s*\"*\")\n",
    "    s=s-2"
   ]
  },
  {
   "cell_type": "code",
   "execution_count": 14,
   "id": "afbe2fd9",
   "metadata": {},
   "outputs": [
    {
     "name": "stdout",
     "output_type": "stream",
     "text": [
      "n=10\n",
      "          1 \n",
      "         1 1 \n",
      "        1 2 1 \n",
      "       1 3 3 1 \n",
      "      1 4 6 4 1 \n",
      "     1 5 10 10 5 1 \n",
      "    1 6 15 20 15 6 1 \n",
      "   1 7 21 35 35 21 7 1 \n",
      "  1 8 28 56 70 56 28 8 1 \n",
      " 1 9 36 84 126 126 84 36 9 1 \n"
     ]
    }
   ],
   "source": [
    "#29 paskal uchburchagi\n",
    "import math \n",
    "n=int(input(\"n=\"))\n",
    "for i in range(n):\n",
    "    print((n-i)*\" \",end=\"\")\n",
    "    for j in range(i+1):\n",
    "        print(int(math.factorial(i)/((math.factorial(i-j)*math.factorial(j)))),end=\" \")\n",
    "    print()  "
   ]
  },
  {
   "cell_type": "code",
   "execution_count": 3,
   "id": "dd28aec3",
   "metadata": {},
   "outputs": [
    {
     "name": "stdout",
     "output_type": "stream",
     "text": [
      "n = 10\n",
      "          1 \n",
      "         1 1 \n",
      "        1 2 1 \n",
      "       1 3 3 1 \n",
      "      1 4 6 4 1 \n",
      "     1 5 10 10 5 1 \n",
      "    1 6 15 20 15 6 1 \n",
      "   1 7 21 35 35 21 7 1 \n",
      "  1 8 28 56 70 56 28 8 1 \n",
      " 1 9 36 84 126 126 84 36 9 1 \n"
     ]
    }
   ],
   "source": [
    "#29-2 paskal uchburchagi\n",
    "n = int(input('n = '))\n",
    "for i in range(n):    \n",
    "    for j in range(n-i):\n",
    "        print(' ',end='')    \n",
    "    for j in range(i+1):\n",
    "        if j==0:\n",
    "            C = 1\n",
    "        else:\n",
    "            C = C * (i+1-j) // j\n",
    "        print(C,end=' ')\n",
    "    print()"
   ]
  },
  {
   "cell_type": "code",
   "execution_count": 12,
   "id": "fe4f8071",
   "metadata": {},
   "outputs": [
    {
     "name": "stdout",
     "output_type": "stream",
     "text": [
      "n=5\n",
      "    1\n",
      "   121\n",
      "  12321\n",
      " 1234321\n",
      "123454321\n"
     ]
    }
   ],
   "source": [
    "#30-1 \n",
    "n=int(input(\"n=\"))\n",
    "s=0\n",
    "for i in range(1,n+1):\n",
    "    print((n-i)*\" \",end=\"\")\n",
    "    for j in range(1,i+1):\n",
    "        s=s+1\n",
    "        print(s,end=\"\")\n",
    "    for r in range(1,i):\n",
    "        s=s-1\n",
    "        print(s,end=\"\")\n",
    "    s=0    \n",
    "    print()\n",
    "    "
   ]
  },
  {
   "cell_type": "code",
   "execution_count": null,
   "id": "ddf34c9b",
   "metadata": {},
   "outputs": [],
   "source": [
    "# 30-2\n",
    "n = int(input('n = '))\n",
    "for i in range(1,n+1):    \n",
    "    for j in range(n-i):\n",
    "        print(' ',end='')    \n",
    "    for j in range(1,i+1):\n",
    "        print(j,end='')    \n",
    "    for j in range(i-1,0,-1):\n",
    "        print(j,end='')\n",
    "    print()"
   ]
  },
  {
   "cell_type": "code",
   "execution_count": 23,
   "id": "0d798a0d",
   "metadata": {},
   "outputs": [
    {
     "name": "stdout",
     "output_type": "stream",
     "text": [
      "n=5\n",
      "    1\n",
      "   232\n",
      "  34543\n",
      " 4567654\n",
      "567898765\n"
     ]
    }
   ],
   "source": [
    "#31\n",
    "n=int(input(\"n=\"))\n",
    "s=0\n",
    "for i in range(1,n+1):\n",
    "    print((n-i)*\" \",end=\"\")\n",
    "    for j in range(i,2*i):\n",
    "        s=j\n",
    "        print(s,end=\"\")\n",
    "    for r in range(1,i):\n",
    "        s=s-1\n",
    "        print(s,end=\"\")\n",
    "    s=0    \n",
    "    print()"
   ]
  },
  {
   "cell_type": "code",
   "execution_count": 32,
   "id": "59fbd995",
   "metadata": {},
   "outputs": [
    {
     "name": "stdout",
     "output_type": "stream",
     "text": [
      "n=6\n",
      "0 1 2 3 4 5 \n",
      "1 0 1 2 3 4 \n",
      "2 1 0 1 2 3 \n",
      "3 2 1 0 1 2 \n",
      "4 3 2 1 0 1 \n",
      "5 4 3 2 1 0 \n"
     ]
    }
   ],
   "source": [
    "#32  kvadratni ekranga chiqaruvchi \n",
    "n=int(input(\"n=\"))\n",
    "for i in range(n):\n",
    "    for j in range(i,0,-1):\n",
    "        print(j,end=\" \")\n",
    "    for r in range(n-i):\n",
    "        print(r,end=\" \")    \n",
    "    print()   "
   ]
  },
  {
   "cell_type": "code",
   "execution_count": 12,
   "id": "6732edf2",
   "metadata": {},
   "outputs": [
    {
     "name": "stdout",
     "output_type": "stream",
     "text": [
      "n=1252\n",
      "0b10011100100\n",
      "10011100100\n"
     ]
    }
   ],
   "source": [
    "#33 O'nli sanoq sistemasidagi sonlarni ikkilik sanoq \n",
    "n=int(input(\"n=\"))\n",
    "print(bin(n))\n",
    "natija=0\n",
    "for i in range(1,n):\n",
    "    qoldiq=n%2   \n",
    "    if qoldiq:\n",
    "        natija=(n%2)*(10**(i-1))+natija\n",
    "    if n==1:\n",
    "        break\n",
    "    n=n//2\n",
    "print(natija)\n",
    "\n",
    "    \n",
    "    "
   ]
  },
  {
   "cell_type": "code",
   "execution_count": 5,
   "id": "bff6e136",
   "metadata": {},
   "outputs": [
    {
     "name": "stdout",
     "output_type": "stream",
     "text": [
      "n=25\n",
      "0o31\n",
      "31\n"
     ]
    }
   ],
   "source": [
    "#34 O'nli sanoq sistemasidagi sonlarni sakkizlik san\n",
    "n=int(input(\"n=\"))\n",
    "print(oct(n))\n",
    "c=1; natija=0\n",
    "for i in range(1,n):\n",
    "    qoldiq=n%8   \n",
    "    if qoldiq!=0:\n",
    "        natija=(n%8)*(10**(i-1))+natija\n",
    "    if n<8:\n",
    "        break\n",
    "    n=n//8\n",
    "print(natija)"
   ]
  },
  {
   "cell_type": "code",
   "execution_count": 13,
   "id": "d4821f5e",
   "metadata": {},
   "outputs": [
    {
     "name": "stdout",
     "output_type": "stream",
     "text": [
      "n=10011100100\n",
      "1252\n"
     ]
    }
   ],
   "source": [
    "#35  Ikkilik sanoq sistemasidagi sonlarni o’nlik sanoq sistem\n",
    "n=int(input(\"n=\"))\n",
    "s=0\n",
    "for i in range(n):\n",
    "    s=s+(n%10)*(2**i)\n",
    "    n=n//10\n",
    "    if n==0:\n",
    "        break\n",
    "print(s)"
   ]
  },
  {
   "cell_type": "code",
   "execution_count": 10,
   "id": "1e56cbc4",
   "metadata": {},
   "outputs": [
    {
     "data": {
      "text/plain": [
       "256"
      ]
     },
     "execution_count": 10,
     "metadata": {},
     "output_type": "execute_result"
    }
   ],
   "source": [
    "# Xususiy Nta sonning maximumi\n",
    "n = int(input('n = '))\n",
    "maxi = int(input('a = '))\n",
    "for i in range(1,n):\n",
    "    a = int(input(\"a = \"))\n",
    "    if maxi<a:\n",
    "        maxi = a\n",
    "print(maxi)"
   ]
  },
  {
   "cell_type": "code",
   "execution_count": null,
   "id": "b3d53552",
   "metadata": {},
   "outputs": [],
   "source": [
    "# Umumiy N ta sonning maximumi\n",
    "n = int(input('n = '))\n",
    "son = True\n",
    "for i in range(1,n+1):\n",
    "    a = int(input(\"a = \"))\n",
    "    if son:\n",
    "        maxi = a\n",
    "        son = False\n",
    "    if maxi<a:\n",
    "        maxi = a        \n",
    "print(maxi)"
   ]
  },
  {
   "cell_type": "code",
   "execution_count": null,
   "id": "5f1fc7c7",
   "metadata": {},
   "outputs": [],
   "source": []
  },
  {
   "cell_type": "code",
   "execution_count": 2,
   "id": "b7bb3008",
   "metadata": {},
   "outputs": [
    {
     "name": "stdout",
     "output_type": "stream",
     "text": [
      "n=4\n",
      "2.083333333333333\n"
     ]
    }
   ],
   "source": [
    "n=int(input(\"n=\"))\n",
    "s=0\n",
    "for i in range(1,n+1):\n",
    "    s=s+1/i\n",
    "print(s)"
   ]
  },
  {
   "cell_type": "code",
   "execution_count": 3,
   "id": "5a6dff51",
   "metadata": {},
   "outputs": [
    {
     "data": {
      "text/plain": [
       "2.083333333333333"
      ]
     },
     "execution_count": 3,
     "metadata": {},
     "output_type": "execute_result"
    }
   ],
   "source": [
    "1+0.5+1/3+1/4\n"
   ]
  },
  {
   "cell_type": "code",
   "execution_count": 7,
   "id": "42881f3f",
   "metadata": {},
   "outputs": [
    {
     "name": "stdout",
     "output_type": "stream",
     "text": [
      "n=12\n",
      "0.0\n"
     ]
    }
   ],
   "source": [
    "n=int(input(\"n=\"))\n",
    "s=0\n",
    "for i in range(-n,n+1):\n",
    "    if i!=0:\n",
    "        s+=1/(-1)*i\n",
    "print(s)\n",
    "    \n",
    "    "
   ]
  },
  {
   "cell_type": "code",
   "execution_count": null,
   "id": "8f677933",
   "metadata": {},
   "outputs": [],
   "source": [
    "n=int(input(\"n=\"))\n",
    "for i in range(n+1):\n",
    "    a=int(input(\"son=\"))\n",
    "    maxi=maxi\n",
    "    "
   ]
  },
  {
   "cell_type": "code",
   "execution_count": 1,
   "id": "ef2a67de",
   "metadata": {},
   "outputs": [
    {
     "name": "stdout",
     "output_type": "stream",
     "text": [
      "nechta son=5\n",
      "son=9\n",
      "son=4\n",
      "son=2\n",
      "son=23\n",
      "son=78\n",
      " maximum=78\n",
      " minimum=2\n",
      " o`rta arifmetigi40.0-ta\n"
     ]
    }
   ],
   "source": [
    "# o`rta arifmetik\n",
    "n=int(input(\"nechta son=\"))\n",
    "maxi=0; mini=0; summ=0\n",
    "for i in range(1,n+1):\n",
    "    a=int(input(\"son=\"))\n",
    "    if i==1:\n",
    "        maxi=a; mini=a\n",
    "    else:\n",
    "        if a>maxi:\n",
    "            maxi=a\n",
    "        if a<mini:\n",
    "            mini=a\n",
    "print(F\" maximum={maxi}\\n minimum={mini}\\n o`rta arifmetigi{(maxi+mini)/2}\")\n",
    "    "
   ]
  },
  {
   "cell_type": "code",
   "execution_count": 2,
   "id": "ba50428d",
   "metadata": {},
   "outputs": [
    {
     "name": "stdout",
     "output_type": "stream",
     "text": [
      "n=10\n",
      "2 3 5 7 9 11 13 15 17 19 \n",
      " soni= 10\n"
     ]
    }
   ],
   "source": [
    "#4-2-qo`shimcha   n ta dastlabki tub sonlar\n",
    "n=int(input(\"n=\"))\n",
    "a=0; s=1 \n",
    "print(2,end=\" \")\n",
    "for i in range(3,n*n+1,2):\n",
    "    for j in range(2,i,2):    \n",
    "        if i%j==0:\n",
    "            a=a+1\n",
    "            break\n",
    "    if a==0:\n",
    "        print(i,end=\" \")\n",
    "        s+=1\n",
    "    else:\n",
    "        a=0\n",
    "    if s==n:\n",
    "        break\n",
    "print(\"\\n soni=\",s)"
   ]
  },
  {
   "cell_type": "code",
   "execution_count": null,
   "id": "b9b7c1c0",
   "metadata": {},
   "outputs": [],
   "source": [
    "# 2-4-8-10 sanoq sistemalari bir biriga o`tkazish\n"
   ]
  },
  {
   "cell_type": "code",
   "execution_count": 5,
   "id": "74262a4f",
   "metadata": {},
   "outputs": [
    {
     "name": "stdout",
     "output_type": "stream",
     "text": [
      "2 3 5 7 9 \n",
      " soni= 5\n"
     ]
    }
   ],
   "source": [
    "n=5\n",
    "a=0; s=1 \n",
    "print(2,end=\" \")\n",
    "for i in range(3,n*n+1,2):\n",
    "    for j in range(2,i,2):    \n",
    "        if i%j==0:\n",
    "            a=a+1\n",
    "            break\n",
    "    if a==0:\n",
    "        print(i,end=\" \")\n",
    "        s+=1\n",
    "    else:\n",
    "        a=0\n",
    "    if s==n:\n",
    "        break\n",
    "print(\"\\n soni=\",s)"
   ]
  },
  {
   "cell_type": "code",
   "execution_count": 6,
   "id": "a9411a10",
   "metadata": {},
   "outputs": [
    {
     "name": "stdout",
     "output_type": "stream",
     "text": [
      "a=86\n",
      "b=56\n"
     ]
    }
   ],
   "source": [
    "a=int(input(\"a=\"))\n",
    "b=int(input(\"b=\"))\n",
    "while a!=b:\n",
    "    a=a//2\n",
    "    b=b//3\n",
    "    print(a,b)\n",
    "\n"
   ]
  },
  {
   "cell_type": "code",
   "execution_count": 13,
   "id": "752aac4b",
   "metadata": {},
   "outputs": [
    {
     "name": "stdout",
     "output_type": "stream",
     "text": [
      "n=25698242\n",
      "3\n"
     ]
    }
   ],
   "source": [
    "n=int(input(\"n=\"))\n",
    "i=0\n",
    "while n!=0:\n",
    "    a=n%10 \n",
    "    if a==2:\n",
    "        i=i+1\n",
    "    n=n//10    \n",
    "print(i)"
   ]
  },
  {
   "cell_type": "code",
   "execution_count": null,
   "id": "66f66a86",
   "metadata": {},
   "outputs": [],
   "source": []
  }
 ],
 "metadata": {
  "kernelspec": {
   "display_name": "Python 3 (ipykernel)",
   "language": "python",
   "name": "python3"
  },
  "language_info": {
   "codemirror_mode": {
    "name": "ipython",
    "version": 3
   },
   "file_extension": ".py",
   "mimetype": "text/x-python",
   "name": "python",
   "nbconvert_exporter": "python",
   "pygments_lexer": "ipython3",
   "version": "3.8.10"
  }
 },
 "nbformat": 4,
 "nbformat_minor": 5
}
