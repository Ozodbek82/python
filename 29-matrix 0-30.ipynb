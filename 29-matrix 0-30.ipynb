{
 "cells": [
  {
   "cell_type": "code",
   "execution_count": 7,
   "id": "e7059611",
   "metadata": {},
   "outputs": [
    {
     "name": "stdout",
     "output_type": "stream",
     "text": [
      "1 2 3 4 \n",
      "5 6 7 8 \n"
     ]
    }
   ],
   "source": [
    "a=[[1,2,3,4],[5,6,7,8]]\n",
    "for i in a:\n",
    "    for j in i:\n",
    "        print(j,end=(\" \"))\n",
    "    print()"
   ]
  },
  {
   "cell_type": "code",
   "execution_count": 10,
   "id": "c5aa6483",
   "metadata": {},
   "outputs": [
    {
     "name": "stdout",
     "output_type": "stream",
     "text": [
      "1 2 3 4 \n",
      "5 6 7 8 \n"
     ]
    }
   ],
   "source": [
    "a=[[1,2,3,4],[5,6,7,8]]\n",
    "for i in range(len(a)):\n",
    "    for j in range(len(a[i])):\n",
    "        print(a[i][j],end=(\" \"))\n",
    "    print()"
   ]
  },
  {
   "cell_type": "code",
   "execution_count": 15,
   "id": "5c670345",
   "metadata": {},
   "outputs": [
    {
     "name": "stdout",
     "output_type": "stream",
     "text": [
      "n=3\n",
      "m=4\n",
      "[[3, -1, 4, 3], [-10, 10, -1, 5], [-1, 5, -7, 0]]\n",
      "3 4 -1 3 \n",
      "5 -1 10 -10 \n",
      "0 -7 5 -1 \n"
     ]
    }
   ],
   "source": [
    "from random import randint\n",
    "n=int(input(\"n=\"))\n",
    "m=int(input(\"m=\"))\n",
    "a=[[randint(-10,10) for i in range(m)] for j in range(n)]\n",
    "print(a)\n",
    "for i in range(n):\n",
    "    for j in range(m-1,-1,-1):\n",
    "        print(a[i][j],end=\" \")\n",
    "    print()\n",
    "        "
   ]
  },
  {
   "cell_type": "code",
   "execution_count": 1,
   "id": "aa75ae48",
   "metadata": {},
   "outputs": [
    {
     "name": "stdout",
     "output_type": "stream",
     "text": [
      "m=10\n",
      "n=10\n",
      "0 0 0 0 0 0 0 0 0 0 \n",
      "10 10 10 10 10 10 10 10 10 10 \n",
      "20 20 20 20 20 20 20 20 20 20 \n",
      "30 30 30 30 30 30 30 30 30 30 \n",
      "40 40 40 40 40 40 40 40 40 40 \n",
      "50 50 50 50 50 50 50 50 50 50 \n",
      "60 60 60 60 60 60 60 60 60 60 \n",
      "70 70 70 70 70 70 70 70 70 70 \n",
      "80 80 80 80 80 80 80 80 80 80 \n",
      "90 90 90 90 90 90 90 90 90 90 \n"
     ]
    }
   ],
   "source": [
    "# matrix -1) m, n matritsani shunday hosil qilingki 10*i bo`lsin\n",
    "def sochish(matrix):\n",
    "    for i in matrix:\n",
    "        for j in i:\n",
    "            print(j,end=\" \")\n",
    "        print()\n",
    "m=int(input(\"m=\"))\n",
    "n=int(input(\"n=\"))\n",
    "matrix=[]\n",
    "for i in range(m):\n",
    "    arr=[]\n",
    "    for j in range(n):\n",
    "        arr.append(10*i)\n",
    "    matrix.append(arr)\n",
    "sochish(matrix)"
   ]
  },
  {
   "cell_type": "code",
   "execution_count": 2,
   "id": "0066ab0e",
   "metadata": {},
   "outputs": [
    {
     "name": "stdout",
     "output_type": "stream",
     "text": [
      "m=10\n",
      "n=5\n",
      "0 5 10 15 20 \n",
      "0 5 10 15 20 \n",
      "0 5 10 15 20 \n",
      "0 5 10 15 20 \n",
      "0 5 10 15 20 \n",
      "0 5 10 15 20 \n",
      "0 5 10 15 20 \n",
      "0 5 10 15 20 \n",
      "0 5 10 15 20 \n",
      "0 5 10 15 20 \n"
     ]
    }
   ],
   "source": [
    "# matrix -2) 5*j ga teng\n",
    "def sochish(matrix):\n",
    "    for i in matrix:\n",
    "        for j in i:\n",
    "            print(j,end=\" \")\n",
    "        print()\n",
    "m=int(input(\"m=\"))\n",
    "n=int(input(\"n=\"))\n",
    "matrix=[]\n",
    "for i in range(m):\n",
    "    arr=[]\n",
    "    for j in range(n):\n",
    "        arr.append(5*j)\n",
    "    matrix.append(arr)\n",
    "sochish(matrix)"
   ]
  },
  {
   "cell_type": "code",
   "execution_count": 3,
   "id": "276a5c99",
   "metadata": {},
   "outputs": [
    {
     "name": "stdout",
     "output_type": "stream",
     "text": [
      "m=10\n",
      "n=8\n",
      "0 1 2 3 4 5 6 7 \n",
      "0 1 2 3 4 5 6 7 \n",
      "0 1 2 3 4 5 6 7 \n",
      "0 1 2 3 4 5 6 7 \n",
      "0 1 2 3 4 5 6 7 \n",
      "0 1 2 3 4 5 6 7 \n",
      "0 1 2 3 4 5 6 7 \n",
      "0 1 2 3 4 5 6 7 \n",
      "0 1 2 3 4 5 6 7 \n",
      "0 1 2 3 4 5 6 7 \n"
     ]
    }
   ],
   "source": [
    "# matrix -3) uning har bir ustuni m ta sondan iborat bo`lsin\n",
    "def sochish(matrix):\n",
    "    for i in matrix:\n",
    "        for j in i:\n",
    "            print(j,end=\" \")\n",
    "        print()\n",
    "m=int(input(\"m=\"))\n",
    "n=int(input(\"n=\"))\n",
    "matrix=[]\n",
    "for i in range(m):\n",
    "    arr=[]\n",
    "    for j in range(n):\n",
    "        arr.append(j)\n",
    "    matrix.append(arr)\n",
    "sochish(matrix)"
   ]
  },
  {
   "cell_type": "code",
   "execution_count": 1,
   "id": "2605d5fe",
   "metadata": {},
   "outputs": [
    {
     "name": "stdout",
     "output_type": "stream",
     "text": [
      "m=2\n",
      "n=3\n",
      "sonni kiriting=23\n",
      "sonni kiriting=22\n",
      "sonni kiriting=33\n",
      "23 22 33 \n",
      "23 22 33 \n"
     ]
    }
   ],
   "source": [
    "# matrix -4)  uning har bir satri kiritilgan n ta sondan iborat bo`lsin\n",
    "def sochish(matrix):\n",
    "    for i in matrix:\n",
    "        for j in i:\n",
    "            print(j,end=\" \")\n",
    "        print()\n",
    "m=int(input(\"m=\"))\n",
    "n=int(input(\"n=\"))\n",
    "matrix=[]\n",
    "arr=[]\n",
    "for j in range(n):\n",
    "    arr.append(int(input(\"sonni kiriting=\")))\n",
    "for i in range(m):\n",
    "    matrix.append(arr)\n",
    "sochish(matrix)"
   ]
  },
  {
   "cell_type": "code",
   "execution_count": 1,
   "id": "19606d78",
   "metadata": {},
   "outputs": [
    {
     "name": "stdout",
     "output_type": "stream",
     "text": [
      "m=3\n",
      "n=3\n",
      "d=3\n",
      "sonni kiriting=1\n",
      "sonni kiriting=2\n",
      "sonni kiriting=3\n",
      "1 4 7 \n",
      "2 5 8 \n",
      "3 6 9 \n"
     ]
    }
   ],
   "source": [
    "# matrix -5) arifmetik \n",
    "def sochish(matrix):\n",
    "    for i in matrix:\n",
    "        for j in i:\n",
    "            print(j,end=\" \")\n",
    "        print()\n",
    "m=int(input(\"m=\"))\n",
    "n=int(input(\"n=\"))\n",
    "d=int(input(\"d=\"))\n",
    "matrix=[]\n",
    "for i in range(m):\n",
    "    arr=[]\n",
    "    son=int(input(\"sonni kiriting=\"))\n",
    "    for j in range(n):\n",
    "        arr.append(son)\n",
    "        son+=d\n",
    "    matrix.append(arr)\n",
    "sochish(matrix)"
   ]
  },
  {
   "cell_type": "code",
   "execution_count": 2,
   "id": "2bad084a",
   "metadata": {},
   "outputs": [
    {
     "name": "stdout",
     "output_type": "stream",
     "text": [
      "m=4\n",
      "n=3\n",
      "d=2\n",
      "sonni kiriting=1\n",
      "sonni kiriting=2\n",
      "sonni kiriting=3\n",
      "sonni kiriting=4\n",
      "1 2 4 \n",
      "2 4 8 \n",
      "3 6 12 \n",
      "4 8 16 \n"
     ]
    }
   ],
   "source": [
    "# matrix -6) geometrik \n",
    "def sochish(matrix):\n",
    "    for i in matrix:\n",
    "        for j in i:\n",
    "            print(j,end=\" \")\n",
    "        print()\n",
    "m=int(input(\"m=\"))\n",
    "n=int(input(\"n=\"))\n",
    "q=int(input(\"q=\"))\n",
    "matrix=[]\n",
    "for i in range(m):\n",
    "    arr=[]\n",
    "    son=int(input(\"sonni kiriting=\"))\n",
    "    for j in range(n):\n",
    "        arr.append(son)\n",
    "        son*=q\n",
    "    matrix.append(arr)\n",
    "sochish(matrix)"
   ]
  },
  {
   "cell_type": "code",
   "execution_count": 6,
   "id": "a28417b5",
   "metadata": {},
   "outputs": [
    {
     "name": "stdout",
     "output_type": "stream",
     "text": [
      "m=10\n",
      "n=10\n",
      "k=2\n",
      "-5 7 10 7 -2 8 10 7 -6 -5\n"
     ]
    }
   ],
   "source": [
    "# matrix -7) k - satrini chiqaruvchi\n",
    "from random import randint\n",
    "m=int(input(\"m=\"))\n",
    "n=int(input(\"n=\"))\n",
    "k=int(input(\"k=\"))\n",
    "matrix=[[randint(-10,10) for i in range(n)] for j in range(m)]\n",
    "print(*matrix[k])"
   ]
  },
  {
   "cell_type": "code",
   "execution_count": 9,
   "id": "b6130b80",
   "metadata": {},
   "outputs": [
    {
     "name": "stdout",
     "output_type": "stream",
     "text": [
      "m=5\n",
      "n=5\n",
      "k=3\n",
      "[[-8, 5, -9, 9, 9], [-1, 0, 0, 10, -5], [3, 8, 3, -6, -3], [6, -8, -1, 0, -9], [9, -1, 1, -3, -1]]\n",
      "9 10 -6 0 -3 "
     ]
    }
   ],
   "source": [
    "# matrix -8) k - satrini chiqaruvchi\n",
    "from random import randint\n",
    "m=int(input(\"m=\"))\n",
    "n=int(input(\"n=\"))\n",
    "k=int(input(\"k=\"))\n",
    "matrix=[[randint(-10,10) for i in range(n)] for j in range(m)]\n",
    "print(matrix)\n",
    "for i in range(n):\n",
    "    print(matrix[i][k],end=\" \")"
   ]
  },
  {
   "cell_type": "code",
   "execution_count": 12,
   "id": "2843306c",
   "metadata": {},
   "outputs": [
    {
     "name": "stdout",
     "output_type": "stream",
     "text": [
      "m=5\n",
      "n=5\n",
      "[[7, 2, -3, 8, -2], [2, -8, 5, 8, -3], [9, 5, -2, 3, 1], [2, -3, -6, 4, 2], [3, 7, 3, -3, 5]]\n",
      "9 5 -2 3 1 \n",
      "3 7 3 -3 5 \n"
     ]
    }
   ],
   "source": [
    "# matrix -9) 2 ga karrali satrini chiqaruvchi\n",
    "from random import randint\n",
    "def sochish(matrix):\n",
    "    for i in matrix:\n",
    "        for j in i:\n",
    "            print(j,end=\" \")\n",
    "        print()\n",
    "m=int(input(\"m=\"))\n",
    "n=int(input(\"n=\"))\n",
    "matrix=[[randint(-10,10) for i in range(n)] for j in range(m)]\n",
    "print(matrix)\n",
    "sochish(matrix[2::2])"
   ]
  },
  {
   "cell_type": "code",
   "execution_count": 13,
   "id": "fd077c0e",
   "metadata": {},
   "outputs": [
    {
     "name": "stdout",
     "output_type": "stream",
     "text": [
      "m=6\n",
      "n=6\n",
      "[[3, 7, 3, 1, 10, 7], [-3, 10, -1, 3, 10, 7], [4, 5, -2, 4, -1, 9], [5, -6, -4, 0, -3, -2], [-9, -10, 10, -8, 5, 8], [-6, -6, -8, 0, 5, -8]]\n",
      "7 1 7 \n",
      "10 3 7 \n",
      "5 4 9 \n",
      "-6 0 -2 \n",
      "-10 -8 8 \n",
      "-6 0 -8 \n"
     ]
    }
   ],
   "source": [
    "# matrix -10) toq indeksli ustunlarini chiqaruvchi\n",
    "m=int(input(\"m=\"))\n",
    "n=int(input(\"n=\"))\n",
    "matrix=[[randint(-10,10) for i in range(n)] for j in range(m)]\n",
    "print(matrix)\n",
    "for j in range(m):\n",
    "    for i in range(1,n,2):\n",
    "        print(matrix[j][i],end=\" \")\n",
    "    print()"
   ]
  },
  {
   "cell_type": "code",
   "execution_count": 16,
   "id": "9a52d054",
   "metadata": {},
   "outputs": [
    {
     "name": "stdout",
     "output_type": "stream",
     "text": [
      "m=6\n",
      "n=9\n",
      "[[-8, 0, 4, -7, -4, -4, -10, 7, -1], [-6, 3, 0, 9, 7, -2, 7, 0, 8], [-3, -9, 8, -3, 7, -1, -1, -2, 7], [-4, 0, 0, 8, 7, -8, -2, 2, -6], [0, -6, 0, 7, -6, 10, 8, -2, 3], [9, 8, 6, 0, 7, -7, 3, -9, 3]]\n",
      "-8 0 4 -7 -4 -4 -10 7 -1 \n",
      "8 0 7 -2 7 9 0 3 -6 \n",
      "-3 -9 8 -3 7 -1 -1 -2 7 \n",
      "-6 2 -2 -8 7 8 0 0 -4 \n",
      "0 -6 0 7 -6 10 8 -2 3 \n",
      "3 -9 3 -7 7 0 6 8 9 \n"
     ]
    }
   ],
   "source": [
    "# matrix -11) 0- chapdan o`ngga, 1-o`ngdan chapga .....\n",
    "m=int(input(\"m=\"))\n",
    "n=int(input(\"n=\"))\n",
    "matrix=[[randint(-10,10) for i in range(n)] for j in range(m)]\n",
    "print(matrix)\n",
    "for j in range(m):\n",
    "    if j%2==0:\n",
    "        for i in range(n):\n",
    "            print(matrix[j][i],end=\" \")\n",
    "    else:\n",
    "        for i in range(n-1,-1,-1):\n",
    "            print(matrix[j][i],end=\" \")\n",
    "    print()"
   ]
  },
  {
   "cell_type": "code",
   "execution_count": 26,
   "id": "bb8e4c85",
   "metadata": {},
   "outputs": [
    {
     "name": "stdout",
     "output_type": "stream",
     "text": [
      "m=5\n",
      "n=6\n",
      "10 6 7 3 0 3 \n",
      "4 1 9 4 7 5 \n",
      "1 1 5 3 4 4 \n",
      "1 10 8 3 2 7 \n",
      "6 6 7 5 2 6 \n",
      "\n",
      "10 6 7 5 0 6 \n",
      "4 10 9 3 7 7 \n",
      "1 1 5 3 4 4 \n",
      "1 1 8 4 2 5 \n",
      "6 6 7 3 2 3 \n"
     ]
    }
   ],
   "source": [
    "# matrix -12) 0- tepadan pastga, 1-pastdan tepaga .....\n",
    "m=int(input(\"m=\"))\n",
    "n=int(input(\"n=\"))\n",
    "matrix=[[randint(0,10) for i in range(n)] for j in range(m)]\n",
    "sochish(matrix)\n",
    "print()\n",
    "for i in range(m):\n",
    "    for j in range(n):\n",
    "        if j%2==0:\n",
    "            print(matrix[i][j],end=\" \")\n",
    "        else:\n",
    "            print(matrix[m-i-1][j],end=\" \")\n",
    "    print()\n"
   ]
  },
  {
   "cell_type": "code",
   "execution_count": 49,
   "id": "4d52733a",
   "metadata": {},
   "outputs": [
    {
     "name": "stdout",
     "output_type": "stream",
     "text": [
      "m=6\n",
      "0 7 8 0 5 2 \n",
      "0 4 1 7 8 0 \n",
      "3 0 6 7 3 0 \n",
      "3 2 4 4 0 8 \n",
      "2 4 9 8 6 2 \n",
      "9 9 8 7 0 3 \n",
      "\n",
      "0 7 8 0 5 2\n",
      "          0\n",
      "          0\n",
      "          8\n",
      "          2\n",
      "          3\n",
      "\n",
      "0 4 1 7 8\n",
      "        3\n",
      "        0\n",
      "        6\n",
      "        0\n",
      "\n",
      "3 0 6 7\n",
      "      4\n",
      "      8\n",
      "      7\n",
      "\n",
      "3 2 4\n",
      "    9\n",
      "    8\n",
      "\n",
      "2 4\n",
      "  9\n",
      "\n",
      "9\n",
      "\n"
     ]
    }
   ],
   "source": [
    "# matrix -13) m*m kvadrat matritsa burchak \n",
    "m=int(input(\"m=\"))\n",
    "matrix=[[randint(0,9) for i in range(m)] for j in range(m)]\n",
    "\n",
    "sochish(matrix)\n",
    "print()\n",
    "for i in range(m):\n",
    "    print(*matrix[i][:m-i:])\n",
    "    \n",
    "    for j in range(i+1,m):\n",
    "        for k in range(m-i-1):\n",
    "            print(\" \",end=\" \")\n",
    "        print(matrix[j][m-i-1])\n",
    "    print()"
   ]
  },
  {
   "cell_type": "code",
   "execution_count": 2,
   "id": "cbc2ddae",
   "metadata": {},
   "outputs": [
    {
     "name": "stdout",
     "output_type": "stream",
     "text": [
      "m=4\n",
      "1 2 0 8 \n",
      "0 1 9 6 \n",
      "3 7 2 0 \n",
      "6 8 7 6 \n",
      "\n",
      "1\n",
      "0\n",
      "3\n",
      "6 8 7 6\n",
      "\n",
      "2\n",
      "1\n",
      "7 2 0\n",
      "\n",
      "0\n",
      "9 6\n",
      "\n",
      "8\n",
      "\n"
     ]
    }
   ],
   "source": [
    "# matrix -14) m*m kvadrat matritsa burchak 2- \n",
    "from random import randint\n",
    "def sochish(matrix):\n",
    "    for i in matrix:\n",
    "        for j in i:\n",
    "            print(j,end=\" \")\n",
    "        print()\n",
    "m=int(input(\"m=\"))\n",
    "matrix=[[randint(0,9) for i in range(m)] for j in range(m)]\n",
    "sochish(matrix)\n",
    "print()\n",
    "for i in range(m):\n",
    "    for j in range(m-i-1):\n",
    "        print(matrix[j][i])\n",
    "    print(*matrix[m-i-1][i::])\n",
    "    print()"
   ]
  },
  {
   "cell_type": "code",
   "execution_count": 3,
   "id": "0a3dd329",
   "metadata": {},
   "outputs": [
    {
     "name": "stdout",
     "output_type": "stream",
     "text": [
      "N=5\n",
      "\n",
      "1 2 3 4 5 \n",
      "16 17 18 19 6 \n",
      "15 24 25 20 7 \n",
      "14 23 22 21 8 \n",
      "13 12 11 10 9 \n"
     ]
    }
   ],
   "source": [
    "# matrix -15) m*m kvadrat matritsa burchak soat strelkasi bo`yicha 1,2,3,..n**2 o`zlashtirilsin\n",
    "n=int(input(\"N=\"))\n",
    "matrix=[[0 for i in range(n)] for j in range(n)]\n",
    "print()\n",
    "son=1\n",
    "for i in range(n-1):\n",
    "    for j in range(i,n-i):\n",
    "        matrix[i][j]=son\n",
    "        son+=1\n",
    "    for k in range(i+1,n-i):\n",
    "        matrix[k][n-1-i]=son\n",
    "        son+=1\n",
    "    for a in range(n-2-i,i-1,-1):\n",
    "        matrix[n-1-i][a]=son\n",
    "        son+=1\n",
    "    for b in range(n-2-i,i,-1):\n",
    "        matrix[b][i]=son\n",
    "        son+=1\n",
    "    if son==n**2-10:\n",
    "        break\n",
    "sochish(matrix)"
   ]
  },
  {
   "cell_type": "code",
   "execution_count": 39,
   "id": "6861a3d5",
   "metadata": {},
   "outputs": [
    {
     "name": "stdout",
     "output_type": "stream",
     "text": [
      "N=6\n",
      "0 0 0 0 0 0 \n",
      "0 0 0 0 0 0 \n",
      "0 0 0 0 0 0 \n",
      "0 0 0 0 0 0 \n",
      "0 0 0 0 0 0 \n",
      "0 0 0 0 0 0 \n",
      "\n",
      "1 20 19 18 17 16 \n",
      "2 21 32 31 30 15 \n",
      "3 22 33 36 29 14 \n",
      "4 23 34 35 28 13 \n",
      "5 24 25 26 27 12 \n",
      "6 7 8 9 10 11 \n"
     ]
    }
   ],
   "source": [
    "# matrix -16) m*m kvadrat matritsa burchak soat strelkasiga teskari bo`yicha 1,2,3,..n**2 o`zlashti\n",
    "n=int(input(\"N=\"))\n",
    "matrix=[[0 for i in range(n)] for j in range(n)]\n",
    "sochish(matrix) \n",
    "print()\n",
    "son=1\n",
    "for i in range(n-1):\n",
    "    for j in range(i,n-i):\n",
    "        matrix[j][i]=son\n",
    "        son+=1\n",
    "    for k in range(i+1,n-i):\n",
    "        matrix[n-1-i][k]=son\n",
    "        son+=1\n",
    "    for a in range(n-2-i,i-1,-1):\n",
    "        matrix[a][n-1-i]=son\n",
    "        son+=1\n",
    "    for b in range(n-2-i,i,-1):\n",
    "        matrix[i][b]=son\n",
    "        son+=1\n",
    "    if son==n**2-10:\n",
    "        break\n",
    "sochish(matrix)"
   ]
  },
  {
   "cell_type": "code",
   "execution_count": 25,
   "id": "42741fda",
   "metadata": {},
   "outputs": [
    {
     "ename": "IndexError",
     "evalue": "list index out of range",
     "output_type": "error",
     "traceback": [
      "\u001b[0;31m---------------------------------------------------------------------------\u001b[0m",
      "\u001b[0;31mIndexError\u001b[0m                                Traceback (most recent call last)",
      "Input \u001b[0;32mIn [25]\u001b[0m, in \u001b[0;36m<cell line: 1>\u001b[0;34m()\u001b[0m\n\u001b[0;32m----> 1\u001b[0m \u001b[38;5;28mprint\u001b[39m(\u001b[43ma\u001b[49m\u001b[43m[\u001b[49m\u001b[38;5;241;43m0\u001b[39;49m\u001b[43m]\u001b[49m\u001b[43m[\u001b[49m\u001b[38;5;241;43m6\u001b[39;49m\u001b[43m]\u001b[49m)\n",
      "\u001b[0;31mIndexError\u001b[0m: list index out of range"
     ]
    }
   ],
   "source": []
  },
  {
   "cell_type": "code",
   "execution_count": null,
   "id": "6153ce8c",
   "metadata": {},
   "outputs": [],
   "source": [
    "# matrix -16) m*m kvadrat matritsa burchak soat strelkasiga teskari bo`yicha 1,2,3,..n**2 o`zlashtirilsin\n",
    "from random import randint\n",
    "def sochish(matrix):\n",
    "    for i in matrix:\n",
    "        for j in i:\n",
    "            print(j,end=\" \")\n",
    "        print()\n",
    "n=int(input(\"N=\"))\n",
    "matrix=[]"
   ]
  },
  {
   "cell_type": "code",
   "execution_count": 12,
   "id": "163ef989",
   "metadata": {},
   "outputs": [
    {
     "name": "stdout",
     "output_type": "stream",
     "text": [
      "m=6\n",
      "n=5\n",
      "k=2\n",
      "[[-10, -7, 2, 10, -8], [-8, 6, -7, 7, 9], [8, 4, 9, -1, -6], [0, -7, 5, 4, -4], [3, 4, 0, -4, 7], [-4, -6, 5, -4, -2]]\n",
      "yigindisi=14  ko`paytmasi=1728\n"
     ]
    }
   ],
   "source": [
    "# matrix -17 matritsani k - satri el.ni yigindisi va ko`paytmasi\n",
    "from random import randint\n",
    "m=int(input(\"m=\"))\n",
    "n=int(input(\"n=\"))\n",
    "k=int(input(\"k=\"))\n",
    "matrix=[[randint(-10,10) for i in range(n)] for j in range(m)]\n",
    "print(matrix)\n",
    "s=0; p=1\n",
    "for i in range(n):\n",
    "    s+=matrix[k][i]\n",
    "    p*=matrix[k][i]\n",
    "print(f\"yigindisi={s}  ko`paytmasi={p}\")"
   ]
  },
  {
   "cell_type": "code",
   "execution_count": 15,
   "id": "82576fba",
   "metadata": {},
   "outputs": [
    {
     "name": "stdout",
     "output_type": "stream",
     "text": [
      "m=6\n",
      "n=5\n",
      "k=2\n",
      "9 10 -7 4 10 \n",
      "-9 10 -10 -7 4 \n",
      "-8 -5 -8 0 -3 \n",
      "-6 -4 -2 -10 1 \n",
      "1 -7 4 5 -6 \n",
      "9 6 -6 6 -10 \n",
      "-7\n",
      "-17\n",
      "-25\n",
      "-27\n",
      "-23\n",
      "-29\n",
      "yigindisi=-29  ko`paytmasi=-26880\n"
     ]
    }
   ],
   "source": [
    "# matrix -18 matritsani k - ustuni el.ni yigindisi va ko`paytmasi\n",
    "from random import randint\n",
    "m=int(input(\"m=\"))\n",
    "n=int(input(\"n=\"))\n",
    "k=int(input(\"k=\"))\n",
    "matrix=[[randint(-10,10) for i in range(n)] for j in range(m)]\n",
    "sochish(matrix)\n",
    "s=0; p=1\n",
    "for i in range(m):\n",
    "    s+=matrix[i][k]\n",
    "    p*=matrix[i][k]\n",
    "print(f\"yigindisi={s}  ko`paytmasi={p}\")"
   ]
  },
  {
   "cell_type": "code",
   "execution_count": 19,
   "id": "d7fe7327",
   "metadata": {},
   "outputs": [
    {
     "name": "stdout",
     "output_type": "stream",
     "text": [
      "m=6\n",
      "n=5\n",
      "-3 -1 10 4 -9 \n",
      "5 2 -8 4 -6 \n",
      "-6 6 1 -10 -7 \n",
      "-1 -8 -9 9 -9 \n",
      "10 -4 5 -9 0 \n",
      "-1 2 -5 -10 10 \n",
      "1\n",
      "-3\n",
      "-16\n",
      "-18\n",
      "2\n",
      "-4\n",
      "yigindisi=17\n"
     ]
    }
   ],
   "source": [
    "# matrix -19 matritsani har bir satri el.ni yigindisi \n",
    "from random import randint\n",
    "m=int(input(\"m=\"))\n",
    "n=int(input(\"n=\"))\n",
    "matrix=[[randint(-10,10) for i in range(n)] for j in range(m)]\n",
    "sochish(matrix)\n",
    "for i in range(m):\n",
    "    print(sum(matrix[i]))\n"
   ]
  },
  {
   "cell_type": "code",
   "execution_count": 21,
   "id": "50e5f266",
   "metadata": {},
   "outputs": [
    {
     "name": "stdout",
     "output_type": "stream",
     "text": [
      "m=6\n",
      "n=5\n",
      "0 -9 -3 -8 1 \n",
      "8 5 -1 3 1 \n",
      "8 -10 7 -3 -7 \n",
      "-6 2 7 -5 2 \n",
      "9 -6 -10 4 9 \n",
      "6 10 -1 -10 -6 \n",
      "0\n",
      "-54000\n",
      "1470\n",
      "14400\n",
      "756\n"
     ]
    }
   ],
   "source": [
    "# matrix -20 matritsani har bir ustuni el.ni ko`paytmasi \n",
    "from random import randint\n",
    "m=int(input(\"m=\"))\n",
    "n=int(input(\"n=\"))\n",
    "matrix=[[randint(-10,10) for i in range(n)] for j in range(m)]\n",
    "sochish(matrix)\n",
    "for i in range(n):\n",
    "    p=1\n",
    "    for j in range(m):\n",
    "        p*=matrix[j][i]\n",
    "    print(p)\n"
   ]
  },
  {
   "cell_type": "code",
   "execution_count": 1,
   "id": "26faa00d",
   "metadata": {},
   "outputs": [
    {
     "name": "stdout",
     "output_type": "stream",
     "text": [
      "m=3\n",
      "n=4\n",
      "-7 4 2 10\n",
      "4 1 -3 -10\n",
      "-1 1 -2 -10\n",
      "7.0\n",
      "-4.5\n",
      "-4.5\n"
     ]
    }
   ],
   "source": [
    "# matrix -21)  har bir satridadigi toq indeks ustunli larni o`rta arifmetigi\n",
    "def ochish(matrix):\n",
    "    for i in matrix:\n",
    "        print(*i)\n",
    "from random import randint\n",
    "m=int(input(\"m=\"))\n",
    "n=int(input(\"n=\"))\n",
    "matrix=[[randint(-10,10) for i in range(n)] for j in range(m)]\n",
    "ochish(matrix)\n",
    "\n",
    "for i in range(m):\n",
    "    k=0; a=0\n",
    "    for j in range(1,n,2):\n",
    "        a+=matrix[i][j]\n",
    "        k+=1\n",
    "    print(a/k)"
   ]
  },
  {
   "cell_type": "code",
   "execution_count": 8,
   "id": "9c1523e7",
   "metadata": {},
   "outputs": [
    {
     "name": "stdout",
     "output_type": "stream",
     "text": [
      "m=4\n",
      "n=4\n",
      "3 -3 8 -5\n",
      "7 -4 7 9\n",
      "5 -2 4 4\n",
      "8 9 -2 3\n",
      "\n",
      "8 -5 12 -1 "
     ]
    }
   ],
   "source": [
    "# matrix -22) har bir ustun uchun 2-karrali satrlarning yigindisini chiqaruvchi\n",
    "from random import randint\n",
    "m=int(input(\"m=\"))\n",
    "n=int(input(\"n=\"))\n",
    "matrix=[[randint(-10,10) for i in range(n)] for j in range(m)]\n",
    "ochish(matrix)\n",
    "print()\n",
    "for i in range(n):\n",
    "    s=0\n",
    "    for j in range(0,m,2):\n",
    "        s+=matrix[j][i]\n",
    "    print(s,end=\" \")"
   ]
  },
  {
   "cell_type": "code",
   "execution_count": 9,
   "id": "10501392",
   "metadata": {},
   "outputs": [
    {
     "name": "stdout",
     "output_type": "stream",
     "text": [
      "m=4\n",
      "n=5\n",
      "-2 -2 8 6 -8\n",
      "7 1 -7 -5 1\n",
      "4 -5 1 -3 -4\n",
      "10 -6 8 -7 7\n",
      "\n",
      "-8\n",
      "-7\n",
      "-5\n",
      "-7\n"
     ]
    }
   ],
   "source": [
    "# matrix -23) har bir satrining eng kichik el.ni\n",
    "from random import randint\n",
    "m=int(input(\"m=\"))\n",
    "n=int(input(\"n=\"))\n",
    "matrix=[[randint(-10,10) for i in range(n)] for j in range(m)]\n",
    "ochish(matrix)\n",
    "print()\n",
    "for i in range(m):\n",
    "    print(min(matrix[i]))"
   ]
  },
  {
   "cell_type": "code",
   "execution_count": 2,
   "id": "55e12ebf",
   "metadata": {},
   "outputs": [
    {
     "name": "stdout",
     "output_type": "stream",
     "text": [
      "m=3\n",
      "n=4\n",
      "1 7 -4 2\n",
      "-1 -4 5 9\n",
      "-2 -4 -3 3\n",
      "\n",
      "1 7 5 9\n"
     ]
    }
   ],
   "source": [
    "# matrix -24) har bir ustunining eng katta el.lari\n",
    "from random import randint\n",
    "m=int(input(\"m=\"))\n",
    "n=int(input(\"n=\"))\n",
    "matrix=[[randint(-10,10) for i in range(n)] for j in range(m)]\n",
    "ochish(matrix)\n",
    "print()\n",
    "maxi=matrix[0]\n",
    "for i in range(m):\n",
    "    for j in range(n):\n",
    "        if matrix[i][j]>maxi[j]:\n",
    "            maxi[j]=matrix[i][j]\n",
    "print(*maxi)"
   ]
  },
  {
   "cell_type": "code",
   "execution_count": 12,
   "id": "409b51ee",
   "metadata": {},
   "outputs": [
    {
     "name": "stdout",
     "output_type": "stream",
     "text": [
      "m=4\n",
      "n=4\n",
      "2 6 3 2\n",
      "8 10 9 10\n",
      "0 8 1 5\n",
      "2 0 10 5\n",
      "\n",
      "1 37\n"
     ]
    }
   ],
   "source": [
    "# matrix -25) el.lari yigindisi eng katta bo`lgan satr indeksi va yigindisi\n",
    "from random import randint\n",
    "m=int(input(\"m=\"))\n",
    "n=int(input(\"n=\"))\n",
    "matrix=[[randint(0,10) for i in range(n)] for j in range(m)]\n",
    "ochish(matrix)\n",
    "print()\n",
    "maxi=sum(matrix[0])\n",
    "for i in range(m):\n",
    "        if sum(matrix[i])>maxi:\n",
    "            maxi=sum(matrix[i])\n",
    "            index=i\n",
    "print(index,maxi)"
   ]
  },
  {
   "cell_type": "code",
   "execution_count": 8,
   "id": "0af57768",
   "metadata": {},
   "outputs": [
    {
     "name": "stdout",
     "output_type": "stream",
     "text": [
      "m=4\n",
      "n=4\n",
      "9 3 6 -1\n",
      "1 3 -1 1\n",
      "-9 10 -5 -4\n",
      "8 -9 10 7\n",
      "\n",
      "1 -810\n"
     ]
    }
   ],
   "source": [
    "# matrix -26) el.lari ko`paytmasi eng kichik bo`lgan ustun indeksi va ko`paytma\n",
    "from random import randint\n",
    "m=int(input(\"m=\"))\n",
    "n=int(input(\"n=\"))\n",
    "matrix=[[randint(-10,10) for i in range(n)] for j in range(m)]\n",
    "ochish(matrix)\n",
    "print();once=True\n",
    "for i in range(n):\n",
    "    p=1\n",
    "    for j in range(m):\n",
    "        p*=matrix[j][i]\n",
    "    if once:\n",
    "            mini=p\n",
    "            once=False\n",
    "    if mini>p:\n",
    "        mini=p\n",
    "        index=i\n",
    "print(index,mini)"
   ]
  },
  {
   "cell_type": "code",
   "execution_count": 7,
   "id": "4646089c",
   "metadata": {},
   "outputs": [
    {
     "name": "stdout",
     "output_type": "stream",
     "text": [
      "m=4\n",
      "n=4\n",
      "4 2 -6 7\n",
      "-3 9 -10 10\n",
      "3 -1 -6 -9\n",
      "7 5 -2 -2\n",
      "\n",
      "3\n"
     ]
    }
   ],
   "source": [
    "# matrix -27) el.lari yigindisi eng kichik bo`lgan satrning eng katta el.ni\n",
    "from random import randint\n",
    "m=int(input(\"m=\"))\n",
    "n=int(input(\"n=\"))\n",
    "matrix=[[randint(-10,10) for i in range(n)] for j in range(m)]\n",
    "ochish(matrix)\n",
    "print()\n",
    "min_m=sum(matrix[0])\n",
    "maxi=max(matrix[0])\n",
    "for i in range(m):\n",
    "    if min_m>sum(matrix[i]):\n",
    "        min_m=sum(matrix[i])\n",
    "        maxi=max(matrix[i])\n",
    "print(maxi)"
   ]
  },
  {
   "cell_type": "code",
   "execution_count": 10,
   "id": "242dde1b",
   "metadata": {},
   "outputs": [
    {
     "name": "stdout",
     "output_type": "stream",
     "text": [
      "m=4\n",
      "n=4\n",
      "-8 3 -6 7\n",
      "-2 2 -9 3\n",
      "0 -1 -1 -8\n",
      "-9 -9 1 -5\n",
      "\n",
      "-8\n"
     ]
    }
   ],
   "source": [
    "# matrix -28) el.lari yigindisi eng katta bo`lgan ustunning eng kichik el.ni\n",
    "from random import randint\n",
    "m=int(input(\"m=\"))\n",
    "n=int(input(\"n=\"))\n",
    "matrix=[[randint(-10,10) for i in range(n)] for j in range(m)]\n",
    "ochish(matrix)\n",
    "print()\n",
    "once=True\n",
    "for i in range(n):\n",
    "    s=1; a=[]\n",
    "    for j in range(m):\n",
    "        s+=matrix[j][i]\n",
    "        a.append(matrix[j][i])        \n",
    "    if once:\n",
    "        maxi=s\n",
    "        mini=min(a)        \n",
    "        once=False\n",
    "    if maxi<s:\n",
    "        maxi=s\n",
    "        mini=min(a)\n",
    "print(mini)"
   ]
  },
  {
   "cell_type": "code",
   "execution_count": 11,
   "id": "8c6f074a",
   "metadata": {},
   "outputs": [
    {
     "name": "stdout",
     "output_type": "stream",
     "text": [
      "m=4\n",
      "n=4\n",
      "-7 6 7 -10\n",
      "-9 -5 -9 0\n",
      "7 -6 7 3\n",
      "-1 9 6 3\n",
      "\n",
      "2\n",
      "2\n",
      "1\n",
      "2\n"
     ]
    }
   ],
   "source": [
    "# matrix -29) har bir satrda shu satr o`rta arifmetigidan kichik bo`lgan el.lar soni\n",
    "from random import randint\n",
    "m=int(input(\"m=\"))\n",
    "n=int(input(\"n=\"))\n",
    "matrix=[[randint(-10,10) for i in range(n)] for j in range(m)]\n",
    "ochish(matrix)\n",
    "print()\n",
    "for i in range(m):\n",
    "    a=sum(matrix[i])/len(matrix[i])\n",
    "    k=0\n",
    "    for j in range(n):\n",
    "        if matrix[i][j]<a:\n",
    "            k+=1\n",
    "    print(k)"
   ]
  },
  {
   "cell_type": "code",
   "execution_count": 13,
   "id": "37e3b2bf",
   "metadata": {},
   "outputs": [
    {
     "name": "stdout",
     "output_type": "stream",
     "text": [
      "m=4\n",
      "n=4\n",
      "5 -3 5 10\n",
      "-8 9 -7 6\n",
      "6 7 2 1\n",
      "-9 -6 4 1\n",
      "\n",
      "2\n",
      "2\n",
      "3\n",
      "2\n"
     ]
    }
   ],
   "source": [
    "# matrix -30) har bir ustunda shu ustun o`rta arifmetigidan katta bo`lgan el.lar soni\n",
    "from random import randint\n",
    "m=int(input(\"m=\"))\n",
    "n=int(input(\"n=\"))\n",
    "matrix=[[randint(-10,10) for i in range(n)] for j in range(m)]\n",
    "ochish(matrix)\n",
    "print()\n",
    "for i in range(n):\n",
    "    a=[]\n",
    "    for j in range(m):\n",
    "        a.append(matrix[j][i])\n",
    "    arifm=sum(a)/len(a)\n",
    "    k=0\n",
    "    for b in a:\n",
    "        if b>arifm:\n",
    "            k+=1\n",
    "    print(k,end=\" \")"
   ]
  },
  {
   "cell_type": "code",
   "execution_count": 44,
   "id": "1f626625",
   "metadata": {},
   "outputs": [
    {
     "name": "stdout",
     "output_type": "stream",
     "text": [
      "n=100\n",
      "[]\n"
     ]
    }
   ],
   "source": [
    "# qo`shimcha tub sonlar\n",
    "#1000 gacha kiritganda 2100 gacha  tsikl\n",
    "            "
   ]
  },
  {
   "cell_type": "code",
   "execution_count": 50,
   "id": "8649c925",
   "metadata": {},
   "outputs": [
    {
     "name": "stdout",
     "output_type": "stream",
     "text": [
      "n = 1000\n",
      "[2, 3, 5, 7, 11, 13, 17, 19, 23, 29, 31, 37, 41, 43, 47, 53, 59, 61, 67, 71, 73, 79, 83, 89, 97, 101, 103, 107, 109, 113, 127, 131, 137, 139, 149, 151, 157, 163, 167, 173, 179, 181, 191, 193, 197, 199, 211, 223, 227, 229, 233, 239, 241, 251, 257, 263, 269, 271, 277, 281, 283, 293, 307, 311, 313, 317, 331, 337, 347, 349, 353, 359, 367, 373, 379, 383, 389, 397, 401, 409, 419, 421, 431, 433, 439, 443, 449, 457, 461, 463, 467, 479, 487, 491, 499, 503, 509, 521, 523, 541, 547, 557, 563, 569, 571, 577, 587, 593, 599, 601, 607, 613, 617, 619, 631, 641, 643, 647, 653, 659, 661, 673, 677, 683, 691, 701, 709, 719, 727, 733, 739, 743, 751, 757, 761, 769, 773, 787, 797, 809, 811, 821, 823, 827, 829, 839, 853, 857, 859, 863, 877, 881, 883, 887, 907, 911, 919, 929, 937, 941, 947, 953, 967, 971, 977, 983, 991, 997] 2019\n"
     ]
    }
   ],
   "source": [
    "#4-3 1 dan n gacha tub sonlar (optimali)\n",
    "from math import sqrt\n",
    "n = int(input('n = '))\n",
    "a=[2];k=0\n",
    "for i in range(3,n+1,2):\n",
    "    S=0\n",
    "    for j in range(3,int(sqrt(i))+1,2):\n",
    "        if i%j==0:\n",
    "            S+=1\n",
    "            break\n",
    "        k+=1\n",
    "    if S==0:\n",
    "        a.append(i)\n",
    "print(a,k)"
   ]
  },
  {
   "cell_type": "code",
   "execution_count": 48,
   "id": "545f29f7",
   "metadata": {},
   "outputs": [
    {
     "name": "stdout",
     "output_type": "stream",
     "text": [
      "n=1000\n",
      "[2, 3, 5, 7, 11, 13, 17, 19, 23, 29, 31, 37, 41, 43, 47, 53, 59, 61, 67, 71, 73, 79, 83, 89, 97, 101, 103, 107, 109, 113, 127, 131, 137, 139, 149, 151, 157, 163, 167, 173, 179, 181, 191, 193, 197, 199, 211, 223, 227, 229, 233, 239, 241, 251, 257, 263, 269, 271, 277, 281, 283, 293, 307, 311, 313, 317, 331, 337, 347, 349, 353, 359, 367, 373, 379, 383, 389, 397, 401, 409, 419, 421, 431, 433, 439, 443, 449, 457, 461, 463, 467, 479, 487, 491, 499, 503, 509, 521, 523, 541, 547, 557, 563, 569, 571, 577, 587, 593, 599, 601, 607, 613, 617, 619, 631, 641, 643, 647, 653, 659, 661, 673, 677, 683, 691, 701, 709, 719, 727, 733, 739, 743, 751, 757, 761, 769, 773, 787, 797, 809, 811, 821, 823, 827, 829, 839, 853, 857, 859, 863, 877, 881, 883, 887, 907, 911, 919, 929, 937, 941, 947, 953, 967, 971, 977, 983, 991, 997] 498501\n"
     ]
    }
   ],
   "source": []
  },
  {
   "cell_type": "code",
   "execution_count": null,
   "id": "4dd4bc8e",
   "metadata": {},
   "outputs": [],
   "source": []
  },
  {
   "cell_type": "code",
   "execution_count": 49,
   "id": "6e64350a",
   "metadata": {},
   "outputs": [
    {
     "name": "stdout",
     "output_type": "stream",
     "text": [
      "n=1000\n",
      "([2, 3, 5, 7, 11, 13, 17, 19, 23, 29, 31, 37, 41, 43, 47, 53, 59, 61, 67, 71, 73, 79, 83, 89, 97, 101, 103, 107, 109, 113, 127, 131, 137, 139, 149, 151, 157, 163, 167, 173, 179, 181, 191, 193, 197, 199, 211, 223, 227, 229, 233, 239, 241, 251, 257, 263, 269, 271, 277, 281, 283, 293, 307, 311, 313, 317, 331, 337, 347, 349, 353, 359, 367, 373, 379, 383, 389, 397, 401, 409, 419, 421, 431, 433, 439, 443, 449, 457, 461, 463, 467, 479, 487, 491, 499, 503, 509, 521, 523, 541, 547, 557, 563, 569, 571, 577, 587, 593, 599, 601, 607, 613, 617, 619, 631, 641, 643, 647, 653, 659, 661, 673, 677, 683, 691, 701, 709, 719, 727, 733, 739, 743, 751, 757, 761, 769, 773, 787, 797, 809, 811, 821, 823, 827, 829, 839, 853, 857, 859, 863, 877, 881, 883, 887, 907, 911, 919, 929, 937, 941, 947, 953, 967, 971, 977, 983, 991, 997], 2957)\n"
     ]
    }
   ],
   "source": []
  }
 ],
 "metadata": {
  "kernelspec": {
   "display_name": "Python 3 (ipykernel)",
   "language": "python",
   "name": "python3"
  },
  "language_info": {
   "codemirror_mode": {
    "name": "ipython",
    "version": 3
   },
   "file_extension": ".py",
   "mimetype": "text/x-python",
   "name": "python",
   "nbconvert_exporter": "python",
   "pygments_lexer": "ipython3",
   "version": "3.8.10"
  }
 },
 "nbformat": 4,
 "nbformat_minor": 5
}
