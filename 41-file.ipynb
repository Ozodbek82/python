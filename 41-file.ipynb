{
 "cells": [
  {
   "cell_type": "code",
   "execution_count": null,
   "id": "923bcaf0",
   "metadata": {},
   "outputs": [],
   "source": []
  },
  {
   "cell_type": "code",
   "execution_count": 7,
   "id": "6f2aca2f",
   "metadata": {},
   "outputs": [
    {
     "name": "stdout",
     "output_type": "stream",
     "text": [
      "N ni kiriting(0<N)10\n",
      "K ni kiriting(0<K)20\n",
      "Fayl nomi=text1\n"
     ]
    }
   ],
   "source": [
    "# text 1) \n",
    "n=int(input(\"N ni kiriting(0<N)\"))\n",
    "k=int(input(\"K ni kiriting(0<K)\"))\n",
    "name=input(\"Fayl nomi=\")\n",
    "f=open(f\"/home/ozodbek/my_project_dir/python/python/Fayllar/{name}.txt\",\"x\")\n",
    "for i in range(n):\n",
    "    f.write(f\"{'*'*k}\\n\")\n",
    "f.close()"
   ]
  },
  {
   "cell_type": "code",
   "execution_count": 10,
   "id": "4f5294b5",
   "metadata": {},
   "outputs": [
    {
     "name": "stdout",
     "output_type": "stream",
     "text": [
      "N ni kiriting(0<N<27)26\n",
      "Fayl nomi=text2\n"
     ]
    }
   ],
   "source": [
    "# text 2) \n",
    "n=int(input(\"N ni kiriting(0<N<27)\"))\n",
    "name=input(\"Fayl nomi=\")\n",
    "f=open(f\"/home/ozodbek/my_project_dir/python/python/Fayllar/{name}.txt\",\"x\")\n",
    "s=\"\"\n",
    "for i in range(n):\n",
    "    s+=chr(97+i)\n",
    "    f.write(f\"{s}\\n\")\n",
    "f.close()"
   ]
  },
  {
   "cell_type": "code",
   "execution_count": 12,
   "id": "92877422",
   "metadata": {},
   "outputs": [
    {
     "name": "stdout",
     "output_type": "stream",
     "text": [
      "N ni kiriting(0<N<27)26\n",
      "Fayl nomi=text3\n"
     ]
    }
   ],
   "source": [
    "# text 3) \n",
    "n=int(input(\"N ni kiriting(0<N<27)\"))\n",
    "name=input(\"Fayl nomi=\")\n",
    "f=open(f\"/home/ozodbek/my_project_dir/python/python/Fayllar/{name}.txt\",\"x\")\n",
    "s=\"\"\n",
    "for i in range(n):\n",
    "    s+=chr(65+i)\n",
    "    f.write(f\"{s+(n-i-1)*'*'}\\n\")\n",
    "f.close()"
   ]
  },
  {
   "cell_type": "code",
   "execution_count": 27,
   "id": "edc08c54",
   "metadata": {},
   "outputs": [
    {
     "name": "stdout",
     "output_type": "stream",
     "text": [
      " satrlar soni=10 \n",
      " belgilar soni=200\n"
     ]
    }
   ],
   "source": [
    "# text 4) \n",
    "f=open(f\"/home/ozodbek/my_project_dir/python/python/Fayllar/text1.txt\",\"r\")\n",
    "satr=f.readlines(); belgilar_soni=0\n",
    "for i in satr:\n",
    "    belgilar_soni+=len(i[:-1])\n",
    "print(f\" satrlar soni={len(satr)} \\n belgilar soni={belgilar_soni}\")\n",
    "f.close()"
   ]
  },
  {
   "cell_type": "code",
   "execution_count": 29,
   "id": "b799d2a9",
   "metadata": {},
   "outputs": [
    {
     "name": "stdout",
     "output_type": "stream",
     "text": [
      "satr=hello world\n",
      "satr=Salom dunyo\n"
     ]
    }
   ],
   "source": [
    "# text 5) \n",
    "satr=input(\"satr=\")\n",
    "f=open(f\"/home/ozodbek/my_project_dir/python/python/Fayllar/text2.txt\",\"a\")\n",
    "f.write(satr)\n",
    "f.close()"
   ]
  },
  {
   "cell_type": "code",
   "execution_count": 31,
   "id": "84ccf67a",
   "metadata": {},
   "outputs": [
    {
     "name": "stdout",
     "output_type": "stream",
     "text": [
      "1-fayl pathi=/home/ozodbek/my_project_dir/python/python/Fayllar/1_fayl.txt\n",
      "2-fayl pathi=/home/ozodbek/my_project_dir/python/python/Fayllar/2_fayl.txt\n"
     ]
    }
   ],
   "source": [
    "# text 6) \n",
    "path1=input(\"1-fayl pathi=\")\n",
    "path2=input(\"2-fayl pathi=\")\n",
    "f1=open(path1,\"a\")\n",
    "f2=open(path2,\"r\")\n",
    "f1.write(f2.read())\n",
    "f1.close()\n",
    "f2.close()"
   ]
  },
  {
   "cell_type": "code",
   "execution_count": 34,
   "id": "3bb2acb6",
   "metadata": {},
   "outputs": [
    {
     "name": "stdout",
     "output_type": "stream",
     "text": [
      "S satr=/home/ozodbek/my_project_dir/python/python/Fayllar/1_fayl.txt\n",
      "fayl pathi=/home/ozodbek/my_project_dir/python/python/Fayllar/1_fayl.txt\n"
     ]
    }
   ],
   "source": [
    "# text 7) S satr fayl boshiga qo`shilsin\n",
    "s=input(\"S satr=\")\n",
    "path=input(\"fayl pathi=\")\n",
    "f=open(path,\"r\")\n",
    "data=f.read()\n",
    "f.close()\n",
    "f=open(path,\"w\")\n",
    "f.write(s+\"\\n\")\n",
    "f.write(data)\n",
    "f.close()"
   ]
  },
  {
   "cell_type": "code",
   "execution_count": 37,
   "id": "3611adc4",
   "metadata": {},
   "outputs": [
    {
     "name": "stdout",
     "output_type": "stream",
     "text": [
      "1-fayl pathi=/home/ozodbek/my_project_dir/python/python/Fayllar/1_fayl.txt\n",
      "2-fayl pathi=/home/ozodbek/my_project_dir/python/python/Fayllar/2_fayl.txt\n"
     ]
    }
   ],
   "source": [
    "# text 8) birinchi fayl boshiga ikkinchi fayl qo`shilsin\n",
    "path1=input(\"1-fayl pathi=\")\n",
    "path2=input(\"2-fayl pathi=\")\n",
    "f1=open(path1,\"r\")\n",
    "data=f1.read()\n",
    "f1.close()\n",
    "f1=open(path1,\"w\")\n",
    "f2=open(path2,\"r\")\n",
    "f1.write(f2.read())\n",
    "f1.write(data)\n",
    "f1.close()\n",
    "f2.close()"
   ]
  },
  {
   "cell_type": "code",
   "execution_count": 5,
   "id": "49d604a8",
   "metadata": {},
   "outputs": [
    {
     "name": "stdout",
     "output_type": "stream",
     "text": [
      "fayl pathi=/home/ozodbek/my_project_dir/python/python/Fayllar/1_fayl.txt\n",
      "k=1\n"
     ]
    }
   ],
   "source": [
    "# text 9) faylning k-satridan oldin bo`sh satr qo`shilsin\n",
    "path=input(\"fayl pathi=\")\n",
    "k=int(input(\"k=\"))\n",
    "f=open(path,\"r\")\n",
    "data=f.readlines()\n",
    "f.close()\n",
    "if 0<k<=len(data):\n",
    "    data.insert(k-1,\"\\n\")\n",
    "    f=open(path,\"w\")\n",
    "    f.writelines(data)\n",
    "    f.close()\n"
   ]
  },
  {
   "cell_type": "code",
   "execution_count": 7,
   "id": "6b3599e8",
   "metadata": {},
   "outputs": [
    {
     "name": "stdout",
     "output_type": "stream",
     "text": [
      "fayl pathi=/home/ozodbek/my_project_dir/python/python/Fayllar/1_fayl.txt\n",
      "k=1\n"
     ]
    }
   ],
   "source": [
    "# text 10) faylning k-satridan keyin bo`sh satr qo`shilsin\n",
    "path=input(\"fayl pathi=\")\n",
    "k=int(input(\"k=\"))\n",
    "f=open(path,\"r\")\n",
    "data=f.readlines()\n",
    "f.close()\n",
    "if 0<k<=len(data):\n",
    "    data.insert(k,\"\\n\")\n",
    "    f=open(path,\"w\")\n",
    "    f.writelines(data)\n",
    "    f.close()"
   ]
  },
  {
   "cell_type": "code",
   "execution_count": 3,
   "id": "7d96914a",
   "metadata": {},
   "outputs": [
    {
     "name": "stdout",
     "output_type": "stream",
     "text": [
      "fayl pathi=/home/ozodbek/my_project_dir/python/python/Fayllar/1_fayl.txt\n",
      "['salom\\n', 'salom\\n', 'salom\\n', '\\n', '\\n', 'salom\\n', 'salom\\n', 'salom\\n', '\\n', '\\n']\n",
      "salom\n",
      "salom\n",
      "salom\n",
      "\n",
      "\n",
      "salom\n",
      "salom\n",
      "salom\n",
      "\n",
      "\n",
      "\n"
     ]
    }
   ],
   "source": [
    "# text 11) faylning  bo`sh satrlari ikkilantirilsin\n",
    "path=input(\"fayl pathi=\")\n",
    "f=open(path,\"r\")\n",
    "data=f.readlines()\n",
    "f.close()\n",
    "data1=[]\n",
    "for i in data:\n",
    "    if i==\"\\n\":\n",
    "        data1.append(\"\\n\")\n",
    "        data1.append(\"\\n\")\n",
    "    else:\n",
    "        data1.append(i)\n",
    "data1=\"\".join(data1)\n",
    "f=open(path,\"w\") \n",
    "f.write(data1)\n",
    "f.close()\n"
   ]
  },
  {
   "cell_type": "code",
   "execution_count": null,
   "id": "9a3b021f",
   "metadata": {},
   "outputs": [],
   "source": [
    "# text 11-2) public version faylning  bo`sh satrlari ikkilantirilsin\n",
    "f = open(\"Fayllar/42_dars_1.txt\",\"r\")\n",
    "satr_f = f.readlines()\n",
    "print(satr_f)\n",
    "f.close()\n",
    "for i in range(len(satr_f)):\n",
    "    if satr_f[i]==\"\\n\":\n",
    "        satr_f[i] *= 2\n",
    "        \n",
    "f = open(\"Fayllar/42_dars_1.txt\",\"w\")\n",
    "f.writelines(satr_f)\n",
    "f.close()\n",
    "\n",
    "f = open(\"Fayllar/42_dars_1.txt\",\"r\")\n",
    "satr_f = f.read()\n",
    "print(satr_f)\n",
    "f.close()"
   ]
  },
  {
   "cell_type": "code",
   "execution_count": 7,
   "id": "147a2ed1",
   "metadata": {},
   "outputs": [
    {
     "name": "stdout",
     "output_type": "stream",
     "text": [
      "fayl pathi=/home/ozodbek/my_project_dir/python/python/Fayllar/1_fayl.txt\n",
      "S satri=Hello\n",
      "['salom\\n', 'salom\\n', '\\n', 'salom\\n', 'salom\\n', '\\n', 'salom\\n', 'salom\\n']\n",
      "['salom\\n', 'salom\\n', 'Hello\\n', 'salom\\n', 'salom\\n', 'Hello\\n', 'salom\\n', 'salom\\n']\n",
      "salom\n",
      "salom\n",
      "Hello\n",
      "salom\n",
      "salom\n",
      "Hello\n",
      "salom\n",
      "salom\n",
      "\n"
     ]
    }
   ],
   "source": [
    "# text 12) faylning  bo`sh satrlari S satriga o`zgartirilsin\n",
    "path=input(\"fayl pathi=\")\n",
    "s=input(\"S satri=\")\n",
    "f=open(path,\"r\")\n",
    "data=f.readlines()\n",
    "f.close()\n",
    "data1=[]\n",
    "for i in data:\n",
    "    if i==\"\\n\":\n",
    "        data1.append(s+\"\\n\")\n",
    "    else:\n",
    "        data1.append(i)\n",
    "data1=\"\".join(data1)\n",
    "f=open(path,\"w\") \n",
    "f.write(data1)\n",
    "f.close()"
   ]
  },
  {
   "cell_type": "code",
   "execution_count": null,
   "id": "e59cab1a",
   "metadata": {},
   "outputs": [],
   "source": [
    "# text 12-2) public version faylning  bo`sh satrlari S satriga o`zgartirilsin\n",
    "S = input(\"S = \")\n",
    "f = open(\"Fayllar/1_fayl.txt\",'r')\n",
    "a = f.readlines()\n",
    "f.close()\n",
    "for i in range(len(a)):\n",
    "    if a[i] == '\\n':\n",
    "        a[i] = S + \"\\n\"\n",
    "f = open(\"Fayllar/1_fayl.txt\",'w')\n",
    "f.writelines(a)\n",
    "f.close()"
   ]
  },
  {
   "cell_type": "code",
   "execution_count": 2,
   "id": "d097c128",
   "metadata": {},
   "outputs": [
    {
     "name": "stdout",
     "output_type": "stream",
     "text": [
      "fayl pathi=/home/ozodbek/my_project_dir/python/python/Fayllar/1_fayl.txt\n",
      "['salom\\n', 'salom\\n', 'Hello\\n', 'salom\\n', 'salom\\n', 'Hello\\n', 'salom\\n', 'salom\\n', 'salom\\n', 'Hello\\n', 'salom\\n', 'salom\\n', 'Hello\\n', 'salom\\n', 'salom\\n']\n",
      "salom\n",
      "Hello\n",
      "salom\n",
      "salom\n",
      "Hello\n",
      "salom\n",
      "salom\n",
      "salom\n",
      "Hello\n",
      "salom\n",
      "salom\n",
      "Hello\n",
      "salom\n",
      "salom\n",
      "\n"
     ]
    }
   ],
   "source": [
    "# text 13) faylning  birinchi satri o`chirilsin\n",
    "path=input(\"fayl pathi=\")\n",
    "f=open(path,\"r\")\n",
    "data=f.readlines()\n",
    "f.close()\n",
    "data=data[1::]\n",
    "f=open(path,\"w\")\n",
    "f.writelines(data)\n",
    "f.close()"
   ]
  },
  {
   "cell_type": "code",
   "execution_count": 6,
   "id": "2633d8a3",
   "metadata": {},
   "outputs": [
    {
     "name": "stdout",
     "output_type": "stream",
     "text": [
      "fayl pathi=/home/ozodbek/my_project_dir/python/python/Fayllar/1_fayl.txt\n",
      "['salom\\n', 'Hello\\n', 'salom\\n', 'salom\\n', 'Hello\\n', 'salom\\n', 'salom\\n', 'salom\\n', 'Hello\\n', 'salom\\n']\n",
      "salom\n",
      "Hello\n",
      "salom\n",
      "salom\n",
      "Hello\n",
      "salom\n",
      "salom\n",
      "salom\n",
      "Hello\n",
      "\n"
     ]
    }
   ],
   "source": [
    "# text 14) faylning  oxirgi satri o`chirilsin\n",
    "path=input(\"fayl pathi=\")\n",
    "f=open(path,\"r\")\n",
    "data=f.readlines()\n",
    "f.close()\n",
    "data=data[:len(data)-1]\n",
    "f=open(path,\"w\")\n",
    "f.writelines(data)\n",
    "f.close()"
   ]
  },
  {
   "cell_type": "code",
   "execution_count": 1,
   "id": "eb133509",
   "metadata": {},
   "outputs": [
    {
     "name": "stdout",
     "output_type": "stream",
     "text": [
      "fayl pathi=/home/ozodbek/my_project_dir/python/python/Fayllar/1_fayl.txt\n",
      "K=5\n",
      "['Hello\\n', 'Salom\\n', 'Salom\\n', 'Salom\\n', 'Salom\\n', 'Salom\\n', 'Salom\\n', 'Hello\\n', 'Salom\\n']\n"
     ]
    }
   ],
   "source": [
    "# text 15) faylning  k -satri o`chirilsin\n",
    "path=input(\"fayl pathi=\")\n",
    "k=int(input(\"K=\"))\n",
    "f=open(path,\"r\")\n",
    "data=f.readlines()\n",
    "f.close()\n",
    "print(data)\n",
    "if 0<k<=len(data):\n",
    "    data.pop(k-1)\n",
    "    f=open(path,\"w\")\n",
    "    f.writelines(data)\n",
    "    f.close()"
   ]
  },
  {
   "cell_type": "code",
   "execution_count": null,
   "id": "00f41c20",
   "metadata": {},
   "outputs": [],
   "source": [
    "# text 15-2) faylning  k -satri o`chirilsin\n",
    "k = int(input(\"k = \"))\n",
    "\n",
    "f = open(\"Fayllar/42_dars.txt\",\"r\")\n",
    "mal_f = f.readlines()\n",
    "f.close()\n",
    "\n",
    "if len(mal_f)>=k:\n",
    "    mal_f.pop(k-1)\n",
    "\n",
    "f = open(\"Fayllar/42_dars.txt\",\"w\")\n",
    "f.writelines(mal_f)\n",
    "f.close()\n",
    "f = open(\"Fayllar/42_dars.txt\",\"r\")\n",
    "satr_f = f.read()\n",
    "print(satr_f)\n",
    "f.close()\n"
   ]
  },
  {
   "cell_type": "code",
   "execution_count": 6,
   "id": "a8abda63",
   "metadata": {
    "scrolled": true
   },
   "outputs": [
    {
     "name": "stdout",
     "output_type": "stream",
     "text": [
      "fayl pathi=/home/ozodbek/my_project_dir/python/python/Fayllar/1_fayl.txt\n"
     ]
    }
   ],
   "source": [
    "# text 16) faylning  barcha bo`sh satrlari o`chirilsin\n",
    "path=input(\"fayl pathi=\")\n",
    "with open(path,\"r\") as f:\n",
    "    data=f.readlines()\n",
    "data1=[]\n",
    "with open(path,\"w\") as f:\n",
    "    for line in data:\n",
    "        if line==\"\\n\":\n",
    "            continue\n",
    "        else:\n",
    "            data1.append(line)\n",
    "    f.writelines(data1)\n",
    "\n",
    "    "
   ]
  },
  {
   "cell_type": "code",
   "execution_count": 20,
   "id": "4b72f1b8",
   "metadata": {},
   "outputs": [
    {
     "name": "stdout",
     "output_type": "stream",
     "text": [
      "1-fayl pathi=/home/ozodbek/my_project_dir/python/python/Fayllar/1_fayl.txt\n",
      "2-fayl pathi=/home/ozodbek/my_project_dir/python/python/Fayllar/2_fayl.txt\n"
     ]
    }
   ],
   "source": [
    "# text 17) 1-faylning har bir satriga 2-faylning satrlari qo`shilsin\n",
    "path1=input(\"1-fayl pathi=\")\n",
    "path2=input(\"2-fayl pathi=\")\n",
    "with open(path1,\"r\") as f:\n",
    "    data=f.readlines()\n",
    "with open(path2,\"r\") as f1:\n",
    "    data1=f1.readlines()\n",
    "data3=[]\n",
    "for i in range(len(data)):\n",
    "    if i>=len(data1):\n",
    "        data3.append(data[i])\n",
    "        continue\n",
    "    data3.append(data[i][:-1]+data1[i])\n",
    "with open(path1,\"w\") as f:\n",
    "    f.writelines(data3)\n"
   ]
  },
  {
   "cell_type": "code",
   "execution_count": 22,
   "id": "08216c16",
   "metadata": {},
   "outputs": [
    {
     "name": "stdout",
     "output_type": "stream",
     "text": [
      "fayl pathi=/home/ozodbek/my_project_dir/python/python/Fayllar/1_fayl.txt\n",
      "K=17\n"
     ]
    }
   ],
   "source": [
    "# text 18) faylning har bir satrini birinchi k ta belgisini o`chirilsin \n",
    "path=input(\"fayl pathi=\")\n",
    "k=int(input(\"K=\"))\n",
    "with open(path,\"r\") as f:\n",
    "    data=f.readlines()\n",
    "data2=[]\n",
    "for i in range(len(data)):\n",
    "    if k>=len(data[i]):\n",
    "        continue\n",
    "    data2.append(data[i][k:])\n",
    "with open(path,\"w\") as f:\n",
    "    f.writelines(data2)"
   ]
  },
  {
   "cell_type": "code",
   "execution_count": null,
   "id": "e3e7cba8",
   "metadata": {},
   "outputs": [],
   "source": [
    "# text 18) faylning har bir satrini birinchi k ta belgisini o`chirilsin \n",
    "k = int(input(\"K = \"))\n",
    "\n",
    "f = open(\"Fayllar/1_fayl.txt\",'r')\n",
    "a = f.readlines()\n",
    "print(a)\n",
    "f.close()\n",
    "for i in range(len(a)):\n",
    "    if len(a[i])<k:\n",
    "        a[i]=\"\"\n",
    "    else:\n",
    "        a[i] = a[i][k:]\n",
    "f = open(\"Fayllar/1_fayl.txt\",'w')\n",
    "a = f.writelines(a)\n",
    "f.close()"
   ]
  },
  {
   "cell_type": "code",
   "execution_count": 24,
   "id": "715fee09",
   "metadata": {},
   "outputs": [
    {
     "name": "stdout",
     "output_type": "stream",
     "text": [
      "fayl pathi=/home/ozodbek/my_project_dir/python/python/Fayllar/1_fayl.txt\n"
     ]
    }
   ],
   "source": [
    "# text 19) fayldagi katta xarflar kichigiga kichigi kattasiga almashtirilsin\n",
    "path=input(\"fayl pathi=\")\n",
    "with open(path,\"r\") as f:\n",
    "    data=f.readlines()\n",
    "data2=[]\n",
    "for i in range(len(data)):\n",
    "    data2.append(data[i].swapcase())\n",
    "with open(path,\"w\") as f:\n",
    "    f.writelines(data2)"
   ]
  },
  {
   "cell_type": "code",
   "execution_count": null,
   "id": "0319d339",
   "metadata": {},
   "outputs": [],
   "source": [
    "# text 19-2) public version fayldagi katta xarflar kichigiga kichigi kattasiga almashtirilsin\n",
    "f = open(\"Fayllar/1_fayl.txt\",'r')\n",
    "a = f.read()\n",
    "print(a)\n",
    "f.close()\n",
    "b = \"\"\n",
    "for i in range(len(a)):\n",
    "    if a[i].isupper():\n",
    "        b += a[i].lower()\n",
    "    elif a[i].islower():\n",
    "        b += a[i].upper()\n",
    "    else:\n",
    "        b += a[i]\n",
    "\n",
    "f = open(\"Fayllar/1_fayl.txt\",'w')\n",
    "f.write(b)\n",
    "f.close()"
   ]
  },
  {
   "cell_type": "code",
   "execution_count": 30,
   "id": "6c9b5ea8",
   "metadata": {},
   "outputs": [
    {
     "name": "stdout",
     "output_type": "stream",
     "text": [
      "fayl pathi=/home/ozodbek/my_project_dir/python/python/Fayllar/1_fayl.txt\n"
     ]
    }
   ],
   "source": [
    "# text 20-1) fayldagi ketma-ket kelgan probellar bittasiga almashtirilsin\n",
    "# boshida kelgan probellarni tashlab yuboradi\n",
    "path=input(\"fayl pathi=\")\n",
    "with open(path,\"r\") as f:\n",
    "    data=f.readlines()\n",
    "data2=[]\n",
    "for line in data:\n",
    "    data2.append(\" \".join(line.split())+\"\\n\")\n",
    "with open(path,\"w\") as f:\n",
    "    f.writelines(data2)"
   ]
  },
  {
   "cell_type": "code",
   "execution_count": null,
   "id": "eb21202e",
   "metadata": {},
   "outputs": [],
   "source": [
    "# text 20-2) Public v,fayldagi ketma-ket kelgan probellar bittasiga almashtirilsin\n",
    "# boshida kelgan probellarni tashlab yuboradi\n",
    "f = open(\"Fayllar/2_fayl.txt\",\"r\")\n",
    "mal = f.readlines()\n",
    "for i in range(len(mal)):\n",
    "    mal[i] = \" \".join(mal[i].split()) + \"\\n\"\n",
    "f = open(\"Fayllar/2_fayl.txt\",\"w\")\n",
    "f.writelines(mal)\n",
    "f.close()    "
   ]
  },
  {
   "cell_type": "code",
   "execution_count": 32,
   "id": "218b8104",
   "metadata": {},
   "outputs": [
    {
     "name": "stdout",
     "output_type": "stream",
     "text": [
      "fayl pathi=/home/ozodbek/my_project_dir/python/python/Fayllar/1_fayl.txt\n"
     ]
    }
   ],
   "source": [
    "# text 21) fayldagi oxirgi uchta satr o`chirilsin\n",
    "path=input(\"fayl pathi=\")\n",
    "with open(path,\"r\") as f:\n",
    "    data=f.readlines()\n",
    "data=data[:-3]\n",
    "with open(path,\"w\") as f:\n",
    "    f.writelines(data)"
   ]
  },
  {
   "cell_type": "code",
   "execution_count": 33,
   "id": "86b2dc26",
   "metadata": {},
   "outputs": [
    {
     "name": "stdout",
     "output_type": "stream",
     "text": [
      "fayl pathi=/home/ozodbek/my_project_dir/python/python/Fayllar/1_fayl.txt\n",
      "K=5\n"
     ]
    }
   ],
   "source": [
    "# text 22) fayldagi oxirgi kta satr o`chirilsin\n",
    "path=input(\"fayl pathi=\")\n",
    "k=int(input(\"K=\"))\n",
    "with open(path,\"r\") as f:\n",
    "    data=f.readlines()\n",
    "data=data[:-k]\n",
    "with open(path,\"w\") as f:\n",
    "    f.writelines(data)"
   ]
  },
  {
   "cell_type": "code",
   "execution_count": 35,
   "id": "3e270488",
   "metadata": {},
   "outputs": [
    {
     "name": "stdout",
     "output_type": "stream",
     "text": [
      "fayl pathi=/home/ozodbek/my_project_dir/python/python/Fayllar/1_fayl.txt\n",
      "K=3\n"
     ]
    }
   ],
   "source": [
    "# text 23) fayldagi oxirgi k ta satr qoldirilgan yangi fayl hosil qilinsin\n",
    "path=input(\"fayl pathi=\")\n",
    "k=int(input(\"K=\"))\n",
    "with open(path,\"r\") as f:\n",
    "    data=f.readlines()\n",
    "data=data[len(data)-k:]\n",
    "with open(\"/home/ozodbek/my_project_dir/python/python/Fayllar/text-23.txt\",\"x+\") as f:\n",
    "    f.writelines(data)"
   ]
  },
  {
   "cell_type": "code",
   "execution_count": 36,
   "id": "e33d9ad6",
   "metadata": {},
   "outputs": [
    {
     "name": "stdout",
     "output_type": "stream",
     "text": [
      "fayl pathi=/home/ozodbek/my_project_dir/python/python/Fayllar/1_fayl.txt\n",
      "4\n"
     ]
    }
   ],
   "source": [
    "# text 24) fayldagi abzatslar soni\n",
    "path=input(\"fayl pathi=\")\n",
    "with open(path,\"r\") as f:\n",
    "    data=f.readlines()\n",
    "s=1; flag=True\n",
    "for i in data:\n",
    "    if i==\"\\n\" and flag:\n",
    "        s+=1\n",
    "        flag=False\n",
    "    else:\n",
    "        flag=True\n",
    "print(s)"
   ]
  },
  {
   "cell_type": "code",
   "execution_count": 41,
   "id": "db2a1e85",
   "metadata": {},
   "outputs": [
    {
     "name": "stdout",
     "output_type": "stream",
     "text": [
      "fayl pathi=/home/ozodbek/my_project_dir/python/python/Fayllar/1_fayl.txt\n",
      "K=3\n"
     ]
    }
   ],
   "source": []
  },
  {
   "cell_type": "code",
   "execution_count": 42,
   "id": "9942a559",
   "metadata": {},
   "outputs": [
    {
     "name": "stdout",
     "output_type": "stream",
     "text": [
      "fayl pathi=/home/ozodbek/my_project_dir/python/python/Fayllar/1_fayl.txt\n",
      "K=3\n"
     ]
    }
   ],
   "source": [
    "# text 25-1) fayldagi k-abzats o`chirilsin optimali\n",
    "# flag-bo`sh qatordan keyin kelayotganini\n",
    "# once-o`chirilishi kerak bo`lgan abzats\n",
    "path=input(\"fayl pathi=\")\n",
    "k=int(input(\"K=\"))\n",
    "with open(path,\"r\") as f:\n",
    "    data=f.readlines()\n",
    "s=0; flag=True; once=False; data1=[]\n",
    "for i in data:\n",
    "    if i!=\"\\n\":\n",
    "        if flag:\n",
    "            s+=1\n",
    "            if s==k:\n",
    "                once=True\n",
    "                flag=False\n",
    "                continue\n",
    "        if once:\n",
    "            continue\n",
    "        flag=False\n",
    "        data1.append(i)\n",
    "    else:\n",
    "        flag=True; once=False\n",
    "        data1.append(i)   \n",
    "with open(path,\"w\") as f:\n",
    "    f.writelines(data1)"
   ]
  },
  {
   "cell_type": "code",
   "execution_count": null,
   "id": "fc12de66",
   "metadata": {},
   "outputs": [],
   "source": [
    "# text 25-2), Public version fayldagi k-abzats o`chirilsin \n",
    "with open(\"Fayllar/1_fayl.txt\",\"r\") as f:\n",
    "    mal = f.read()\n",
    "    mal = mal.split(\"\\n\\n\")\n",
    "i=0\n",
    "while i<len(mal):\n",
    "    if mal[i]=='':\n",
    "        mal.pop(i)\n",
    "        i-=1\n",
    "    if mal[i].startswith(\"\\n\"):\n",
    "        mal[i]=mal[i][1:]\n",
    "    i+=1\n",
    "k = int(input(\"k = \"))\n",
    "if k<len(mal):\n",
    "    mal.pop(k-1)\n",
    "    \n",
    "with open(\"Fayllar/1_fayl.txt\",\"w\") as f:\n",
    "    mal = \"\\n\\n\".join(mal)\n",
    "    f.write(mal)\n"
   ]
  },
  {
   "cell_type": "code",
   "execution_count": 45,
   "id": "f0ae039f",
   "metadata": {},
   "outputs": [
    {
     "name": "stdout",
     "output_type": "stream",
     "text": [
      "fayl pathi=/home/ozodbek/my_project_dir/python/python/Fayllar/1_fayl.txt\n",
      "4\n"
     ]
    }
   ],
   "source": [
    "# text 26 -1) fayldagi 5 ta probel bilan boshlanuvchi qizil abzatslar soni\n",
    "# bunda ham bo`sh satr va 5 ta probel bilan boshlanganlarni sanaydi\n",
    "# flag-bo`sh qatordan keyin kelayotganini\n",
    "# text 26 \n",
    "path=input(\"fayl pathi=\")\n",
    "with open(path,\"r\") as f:\n",
    "    data=f.readlines()\n",
    "s=0; flag=True\n",
    "for i in data:\n",
    "    if i!=\"\\n\":\n",
    "        if flag and i.startswith(\"     \"):\n",
    "            s+=1\n",
    "        flag=False\n",
    "    else:\n",
    "        flag=True\n",
    "print(s)"
   ]
  },
  {
   "cell_type": "code",
   "execution_count": null,
   "id": "c59f71f8",
   "metadata": {},
   "outputs": [],
   "source": [
    "# text 26 -2) fayldagi 5 ta probel bilan boshlanuvchi qizil abzatslar soni\n",
    "# bunda faqat  5 ta probel bilan boshlanganlarni sanaydi\n",
    "# flag-bo`sh qatordan keyin kelayotganini\n",
    "path=input(\"fayl pathi=\")\n",
    "with open(path,\"r\") as f:\n",
    "    data=f.readlines()\n",
    "s=0\n",
    "for i in data:\n",
    "    if i.startswith(\"     \"):\n",
    "            s+=1\n",
    "print(s)"
   ]
  },
  {
   "cell_type": "code",
   "execution_count": 47,
   "id": "cc4f9dd4",
   "metadata": {},
   "outputs": [
    {
     "name": "stdout",
     "output_type": "stream",
     "text": [
      "fayl pathi=/home/ozodbek/my_project_dir/python/python/Fayllar/1_fayl.txt\n",
      "K=3\n"
     ]
    }
   ],
   "source": [
    "# text 27-1) fayldagi 5 ta probel bilan boshlanuvchi qizil abzatslarni k-si o`chirilsin\n",
    "# ham bo`sh satr ham 5 ta probel bilan ajratilgan bo`lsa\n",
    "# flag-bo`sh qatordan keyin kelayotganini\n",
    "# once-o`chiriluvchi abzatsligini\n",
    "path=input(\"fayl pathi=\")\n",
    "k=int(input(\"K=\"))\n",
    "with open(path,\"r\") as f:\n",
    "    data=f.readlines()\n",
    "s=0; flag=True; data1=[]\n",
    "for i in data:\n",
    "    if i!=\"\\n\":\n",
    "        if flag and i.startswith(\"     \"):\n",
    "            s+=1\n",
    "            if s==k:\n",
    "                once=True\n",
    "                flag=False\n",
    "                continue\n",
    "        if once:\n",
    "            continue\n",
    "        flag=False\n",
    "        data1.append(i)\n",
    "    else:\n",
    "        flag=True; once=False\n",
    "        data1.append(i)\n",
    "with open(path,\"w\") as f:\n",
    "    f.writelines(data1)"
   ]
  },
  {
   "cell_type": "code",
   "execution_count": 43,
   "id": "0ea93bd3",
   "metadata": {},
   "outputs": [],
   "source": [
    "text='''     1 hellovbhjbhbbkj kuoiojjokopk mlmlmlmlmlmmmlm worldvjhvjhbjbkbkjbnj knjknjknjknjknkln klnjknjknjknjknjknjknjknj knjknjknnjnjknjknknjkjknjknkjnkn knknknjknknkknknknkjnkjnjkn vuyvbnnonlm\n",
    "     2-satr nijpiojopkopk ihohoijoikp yguygiu guyghoijopkpo trdytfuygihio tfcuyguygiu yuviuohojoi ygiuhojoijo gvuyiubhiuhoij bknilnl hojoijo oijiojiojioj jioij ijoijioj ijpokp cytjyhbhkbkkbkjnk\n",
    "     3-satr uygvuhkojkkoop iuhijokopk yguihiojop  rtdtytyfytfuyguy fuygyui trtfuygu rdfyugihuih uhiojojk tfuygiuhi yughhoi\n",
    "     4 satr gvuyhiuoijojopjk tyvihojiooko ffuygihooi rfuygihoi fugihij dcugn cytvgii vhoiojo tfuyhoj tgiuoivuyujo gioipooo yh ojpuhoijp uygiho jhhihonomojijioi biojpopkopkpokpk viuhojoioop iojijpokkp vghojpojjkpook rdcty rfuyguy rdytfuyguy rdytgy ojpok[pl[ ojopok[l[]hojiop,[uihuoijpop[muhijpo bhbiuojpkpgiuho viojpjpo yuiojpjpoko iuihoikpk[p[pj oikpojuihigtdrtt ctfvihkgrtdfkhjpond dtfiuhojpl[]pl fuopk[][plhiu [o][lhok[lppujn\n",
    "     5 /home/ozodbek/my_project_dir/python/python/Fayllar/1_fayl.txt hello world vbopkpy cytgyhojpkom rtdgiho;;yg ffopoojfpoj09hfn yuiohoijoi;jouy vbojp;khuoji  tcjophuthoi ytfojpoiuigu;j fijpojpgo ytgoooipoyhhkljig voiljoilhuygo;i;joyu vhoijoijfgpoi giuoijog gojpojohygpo yuguiiojgh  uyugiiijopi[0y  gopi[o][titnddf erdytfg'''\n",
    "with open(\"/home/ozodbek/my_project_dir/python/python/Fayllar/1_fayl.txt\",\"w\") as f:\n",
    "    f.write(text)"
   ]
  },
  {
   "cell_type": "code",
   "execution_count": 3,
   "id": "736fa995",
   "metadata": {},
   "outputs": [
    {
     "name": "stdout",
     "output_type": "stream",
     "text": [
      "fayl pathi=/home/ozodbek/my_project_dir/python/python/Fayllar/1_fayl.txt\n",
      "K=3\n",
      "['\\n', '     1 hellovbhjbhbbkj kuoiojjokopk mlmlmlmlmlmmmlm worldvjhvjhbjbkbkjbnj knjknjknjknjknkln klnjknjknjknjknjknjknjknj knjknjknnjnjknjknknjkjknjknkjnkn knknknjknknkknknknkjnkjnjkn vuyvbnnonlm\\n', '     2-satr nijpiojopkopk ihohoijoikp yguygiu guyghoijopkpo trdytfuygihio tfcuyguygiu yuviuohojoi ygiuhojoijo gvuyiubhiuhoij bknilnl hojoijo oijiojiojioj jioij ijoijioj ijpokp cytjyhbhkbkkbkjnk\\n', '     3-satr uygvuhkojkkoop iuhijokopk yguihiojop  rtdtytyfytfuyguy fuygyui trtfuygu rdfyugihuih uhiojojk tfuygiuhi yughhoi\\n', '     4 satr gvuyhiuoijojopjk tyvihojiooko ffuygihooi rfuygihoi fugihij dcugn cytvgii vhoiojo tfuyhoj tgiuoivuyujo gioipooo yh ojpuhoijp uygiho jhhihonomojijioi biojpopkopkpokpk viuhojoioop iojijpokkp vghojpojjkpook rdcty rfuyguy rdytfuyguy rdytgy ojpok[pl[ ojopok[l[]hojiop,[uihuoijpop[muhijpo bhbiuojpkpgiuho viojpjpo yuiojpjpoko iuihoikpk[p[pj oikpojuihigtdrtt ctfvihkgrtdfkhjpond dtfiuhojpl[]pl fuopk[][plhiu [o][lhok[lppujn\\n', '     5 hello world vbopkpy cytgyhojpkom rtdgiho;;yg ffopoojfpoj09hfn yuiohoijoi;jouy vbojp;khuoji  tcjophuthoi ytfojpoiuigu;j fijpojpgo ytgoooipoyhhkljig voiljoilhuygo;i;joyu vhoijoijfgpoi giuoijog gojpojohygpo yuguiiojgh  uyugiiijopi[0y  gopi[o][titnddf erdytfg\\n']\n"
     ]
    }
   ],
   "source": [
    "# text 27-2) fayldagi 5 ta probel bilan boshlanuvchi qizil abzatslarni k-si o`chirilsin\n",
    "# faqat 5 ta probel bilan ajratilgan bo`lsa\n",
    "# flag-bo`sh qatordan keyin kelayotganini\n",
    "# once-o`chiriluvchi abzatsligini\n",
    "path=input(\"fayl pathi=\")\n",
    "k=int(input(\"K=\"))\n",
    "with open(path,\"r\") as f:\n",
    "    data=f.readlines()\n",
    "s=0; flag=False; data1=[]\n",
    "for i in data:\n",
    "    if i.startswith(\"     \"):\n",
    "        s+=1\n",
    "        if s==k:\n",
    "            flag=True\n",
    "            continue\n",
    "        else:\n",
    "            flag=False\n",
    "    elif flag:\n",
    "        continue\n",
    "    data1.append(i)\n",
    "with open(path,\"w\") as f:\n",
    "    f.writelines(data1)"
   ]
  },
  {
   "cell_type": "code",
   "execution_count": 35,
   "id": "e005ce16",
   "metadata": {},
   "outputs": [
    {
     "name": "stdout",
     "output_type": "stream",
     "text": [
      "fayl pathi=/home/ozodbek/my_project_dir/python/python/Fayllar/1_fayl.txt\n",
      "K=2\n"
     ]
    }
   ],
   "source": [
    "# text 28) fayldagi qizil satrli abzatslar orasiga bo`sh satr qo`shilsin\n",
    "# version-1\n",
    "path=input(\"fayl pathi=\")\n",
    "with open(path,\"r\") as f:\n",
    "    data=f.readlines()\n",
    "data1=[]\n",
    "for i in data:\n",
    "    if i!=data[0] and i.startswith(\"     \"):\n",
    "        data1.append(\"\\n\")\n",
    "        data1.append(i)    \n",
    "    else:\n",
    "        data1.append(i)\n",
    "with open(path,\"w\") as f:\n",
    "    f.writelines(data1)\n",
    "# version-2\n",
    "path=input(\"fayl pathi=\")\n",
    "with open(path,\"r\") as f:\n",
    "    data=f.read()\n",
    "data1=[]\n",
    "data=data.split(\"     \")\n",
    "for i in data[1:-1]:\n",
    "    data1.append(\"     \"+i)\n",
    "    data1.append(\"\\n\")\n",
    "data1.append(\"     \"+data[-1])\n",
    "with open(path,\"w\") as f:\n",
    "    f.writelines(data1)"
   ]
  },
  {
   "cell_type": "code",
   "execution_count": null,
   "id": "b6d1e5e4",
   "metadata": {},
   "outputs": [],
   "source": [
    "# text 28-1) public fayldagi qizil satrli abzatslar orasiga bo`sh satr qo`shilsin\n",
    "with open(\"Fayllar/1_fayl.txt\",\"r+\") as f:\n",
    "    mal = f.read()\n",
    "    mal = mal.split(\"\\n     \")\n",
    "    for i in range(len(mal)-1):\n",
    "        mal[i] = mal[i]+\"\\n\"\n",
    "    mal_2 = \"\\n     \".join(mal)\n",
    "    f.seek(0)\n",
    "    f.write(mal_2)"
   ]
  },
  {
   "cell_type": "code",
   "execution_count": 38,
   "id": "e0f8fd7a",
   "metadata": {},
   "outputs": [
    {
     "name": "stdout",
     "output_type": "stream",
     "text": [
      "/home/ozodbek/my_project_dir/python/python/Fayllar/1_fayl.txt\n"
     ]
    }
   ],
   "source": [
    "# text 29) fayldagi eng uzun bo`lgan birinchi so`zi chop qilinsin \n",
    "path=input(\"fayl pathi=\")\n",
    "with open(path,\"r\") as f:\n",
    "    data=f.read()\n",
    "data=data.split()\n",
    "maxi=len(data[0])\n",
    "for i in range(len(data)):\n",
    "    if maxi<len(data[i]):\n",
    "        maxi=len(data[i])\n",
    "        index=i\n",
    "print(data[index])"
   ]
  },
  {
   "cell_type": "code",
   "execution_count": 42,
   "id": "964d9030",
   "metadata": {},
   "outputs": [
    {
     "name": "stdout",
     "output_type": "stream",
     "text": [
      "5\n"
     ]
    }
   ],
   "source": [
    "# text 30) fayldagi eng kalta bo`lgan oxirgi so`zi chop qilinsin \n",
    "path=input(\"fayl pathi=\")\n",
    "with open(path,\"r\") as f:\n",
    "    data=f.read()\n",
    "data=data.split()\n",
    "mini=len(data[-1])\n",
    "index=len(data)-1\n",
    "for i in range(len(data)-1,-1,-1):\n",
    "    if mini>len(data[i]):\n",
    "        mini=len(data[i])\n",
    "        index=i\n",
    "print(data[index])"
   ]
  },
  {
   "cell_type": "code",
   "execution_count": 9,
   "id": "51522f23",
   "metadata": {},
   "outputs": [
    {
     "name": "stdout",
     "output_type": "stream",
     "text": [
      "K=6\n",
      "oooooo,tttttt,hhhhhh,vvhvhb,nknknn\n"
     ]
    }
   ],
   "source": [
    "\n",
    "# text 31) boshlang`ich fayldagi uzunligi k ga teng bo`lgan so`zlar yangi faylga yozilsin \n",
    "path=\"/home/ozodbek/my_project_dir/python/python/Fayllar/2_fayl.txt\"\n",
    "tinish='\\n !\"#$%&\\'()*+,-./:;<=>?@[\\\\]^_`{|}~'\n",
    "k=int(input(\"K=\"))\n",
    "with open(path,\"r\") as f:\n",
    "    data=f.read()\n",
    "data1=[]\n",
    "word=\"\"\n",
    "for i in data:\n",
    "    if i in tinish:\n",
    "        if len(word)==k:\n",
    "            data1.append(word)\n",
    "        word=\"\"\n",
    "    else:\n",
    "        word+=i\n",
    "data1=\",\".join(data1)\n",
    "print(data1)\n",
    "with open(\"fayl.txt\",\"x+\") as f:\n",
    "    f.write(data1)"
   ]
  },
  {
   "cell_type": "code",
   "execution_count": null,
   "id": "ba061e97",
   "metadata": {},
   "outputs": [],
   "source": [
    "# text 31-1) public boshlang`ich fayldagi uzunligi k ga teng bo`lgan so`zlar yangi faylg\n",
    "import string\n",
    "k = int(input(\"k = \"))\n",
    "natija = []\n",
    "with open(\"Fayllar/1_fayl.txt\") as f:\n",
    "    mal = f.read()\n",
    "    mal = mal.translate(mal.maketrans(\"\",\"\",string.punctuation))\n",
    "    mal = mal.split()\n",
    "    \n",
    "    for i in range(len(mal)):\n",
    "        if len(mal[i]) == k:\n",
    "            natija.append(mal[i])\n",
    "with open(\"Fayllar/1_fayl_nat.txt\",\"w\") as f:\n",
    "    f.write(' '.join(natija))"
   ]
  },
  {
   "cell_type": "code",
   "execution_count": 12,
   "id": "4d8803e9",
   "metadata": {},
   "outputs": [
    {
     "name": "stdout",
     "output_type": "stream",
     "text": [
      "C=h\n",
      "hhhhhh,hdrdct,Hojiojop,Hcgcg,hoooob,huuuhu\n"
     ]
    }
   ],
   "source": [
    "# text 32-33) boshlang`ich fayldagi C bilan boshlanuvchi \n",
    "path=\"/home/ozodbek/my_project_dir/python/python/Fayllar/2_fayl.txt\"\n",
    "tinish='\\n !\"#$%&\\'()*+,-./:;<=>?@[\\\\]^_`{|}~'\n",
    "c=input(\"C=\")\n",
    "with open(path,\"r\") as f:\n",
    "    data=f.read()\n",
    "data1=[]\n",
    "word=\"\"\n",
    "for i in data:\n",
    "    if i in tinish:\n",
    "        if word.startswith(c) or word.startswith(c.swapcase()):\n",
    "            data1.append(word)\n",
    "        word=\"\"\n",
    "    else:\n",
    "        word+=i\n",
    "data1=\",\".join(data1)\n",
    "print(data1)\n",
    "with open(\"fayl.txt\",\"x+\") as f:\n",
    "    f.write(data1)"
   ]
  },
  {
   "cell_type": "code",
   "execution_count": null,
   "id": "bfceb7b5",
   "metadata": {},
   "outputs": [],
   "source": []
  }
 ],
 "metadata": {
  "kernelspec": {
   "display_name": "Python 3 (ipykernel)",
   "language": "python",
   "name": "python3"
  },
  "language_info": {
   "codemirror_mode": {
    "name": "ipython",
    "version": 3
   },
   "file_extension": ".py",
   "mimetype": "text/x-python",
   "name": "python",
   "nbconvert_exporter": "python",
   "pygments_lexer": "ipython3",
   "version": "3.8.10"
  }
 },
 "nbformat": 4,
 "nbformat_minor": 5
}
