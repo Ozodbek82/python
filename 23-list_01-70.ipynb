{
 "cells": [
  {
   "cell_type": "code",
   "execution_count": 2,
   "id": "9e17dc9e",
   "metadata": {},
   "outputs": [
    {
     "name": "stdout",
     "output_type": "stream",
     "text": [
      "n=10\n",
      "[1, 3, 5, 7, 9, 11, 13, 15, 17, 19]\n"
     ]
    }
   ],
   "source": [
    "# array-1)  1,3,5,...\n",
    "n=int(input(\"n=\"))\n",
    "arr=[]\n",
    "for i in range(n):\n",
    "    arr.append(i*2+1)\n",
    "print(arr)"
   ]
  },
  {
   "cell_type": "code",
   "execution_count": 3,
   "id": "82c96ec3",
   "metadata": {},
   "outputs": [
    {
     "name": "stdout",
     "output_type": "stream",
     "text": [
      "/bin/bash: jt: команда не найдена\r\n"
     ]
    }
   ],
   "source": [
    "# Array 1 public version\n",
    "n = int(input(\"n = \"))\n",
    "a = []\n",
    "for i in range(n):\n",
    "    a.append(2*i+1)    \n",
    "print(a)"
   ]
  },
  {
   "cell_type": "code",
   "execution_count": 4,
   "id": "6974c96f",
   "metadata": {},
   "outputs": [
    {
     "name": "stdout",
     "output_type": "stream",
     "text": [
      "n=10\n",
      "[2, 4, 8, 16, 32, 64, 128, 256, 512, 1024]\n"
     ]
    }
   ],
   "source": [
    "# array-2)   2,4,8,16,32,64,128...\n",
    "n=int(input(\"n=\"))\n",
    "arr=[]\n",
    "for i in range(1,n+1):\n",
    "    arr.append(2**i)\n",
    "print(arr)"
   ]
  },
  {
   "cell_type": "code",
   "execution_count": null,
   "id": "38979ba9",
   "metadata": {},
   "outputs": [],
   "source": [
    "# Array 2 public version\n",
    "n = int(input(\"n = \"))\n",
    "a = []\n",
    "for i in range(n):\n",
    "    a.append(2**i)    \n",
    "print(a)"
   ]
  },
  {
   "cell_type": "code",
   "execution_count": 1,
   "id": "e64832ca",
   "metadata": {},
   "outputs": [
    {
     "name": "stdout",
     "output_type": "stream",
     "text": [
      "n=10\n",
      "a=2\n",
      "d=3\n",
      "[2, 5, 8, 11, 14, 17, 20, 23, 26, 29]\n"
     ]
    }
   ],
   "source": [
    "# array-3)  a,a+d,a+2*d,a+3*d,...\n",
    "n=int(input(\"n=\"))\n",
    "a=int(input(\"a=\"))\n",
    "d=int(input(\"d=\"))\n",
    "arr=[]\n",
    "for i in range(n):\n",
    "    arr.append(a+d*i)\n",
    "print(arr)"
   ]
  },
  {
   "cell_type": "code",
   "execution_count": 2,
   "id": "2a2b527b",
   "metadata": {},
   "outputs": [
    {
     "name": "stdout",
     "output_type": "stream",
     "text": [
      "n=10\n",
      "a=2\n",
      "d=3\n",
      "[2, 6, 18, 54, 162, 486, 1458, 4374, 13122, 39366]\n"
     ]
    }
   ],
   "source": [
    "# array-4)   a,a*d,a*d**2,a*d**3,...\n",
    "n=int(input(\"n=\"))\n",
    "a=int(input(\"a=\"))\n",
    "d=int(input(\"d=\"))\n",
    "arr=[]\n",
    "for i in range(n):\n",
    "    arr.append(a*d**i)\n",
    "print(arr)"
   ]
  },
  {
   "cell_type": "code",
   "execution_count": 3,
   "id": "15a223f1",
   "metadata": {},
   "outputs": [
    {
     "name": "stdout",
     "output_type": "stream",
     "text": [
      "n=10\n",
      "a=0\n",
      "d=0\n",
      "[1, 1, 2, 3, 5, 8, 13, 21, 34, 55, 89]\n"
     ]
    }
   ],
   "source": [
    "# array-5)   n ta fibonachi sonlari\n",
    "n=int(input(\"n=\"))\n",
    "f1=1; f2=1\n",
    "arr=[1,1]\n",
    "for i in range(1,n):\n",
    "    fn=f1+f2\n",
    "    arr.append(fn)\n",
    "    f1=f2; f2=fn\n",
    "print(arr)"
   ]
  },
  {
   "cell_type": "code",
   "execution_count": null,
   "id": "702b36c7",
   "metadata": {},
   "outputs": [],
   "source": [
    "# Array 5  public version\n",
    "n = int(input(\"n = \"))\n",
    "fib = [0,1]\n",
    "for i in range(2,n):\n",
    "    fib.append(fib[i-1]+fib[i-2])    \n",
    "print(fib)\n",
    "print(fib[5])"
   ]
  },
  {
   "cell_type": "code",
   "execution_count": 2,
   "id": "9e2fb2c3",
   "metadata": {},
   "outputs": [
    {
     "name": "stdout",
     "output_type": "stream",
     "text": [
      "n=10\n",
      "[1, 1, 2, 3, 5, 8, 13, 21, 34, 55, 89]\n"
     ]
    }
   ],
   "source": [
    "n=int(input(\"n=\"))\n",
    "\n",
    "arr=[1,1]\n",
    "for i in range(1,n):\n",
    "    arr.append(arr[i-1]+arr[i])\n",
    "print(arr)"
   ]
  },
  {
   "cell_type": "code",
   "execution_count": 3,
   "id": "b7e90489",
   "metadata": {},
   "outputs": [
    {
     "name": "stdout",
     "output_type": "stream",
     "text": [
      "n=10\n",
      "a=1\n",
      "b=2\n",
      "[1, 2, 3, 6, 12, 24, 48, 96, 192, 384, 768]\n"
     ]
    }
   ],
   "source": [
    "# array-6) a va b 1- va 2- son, uchinchi son ularni yigindisi torttinchi son 3lasini\n",
    "n=int(input(\"n=\"))\n",
    "a=int(input(\"a=\"))\n",
    "b=int(input(\"b=\"))\n",
    "arr=[a,b]\n",
    "for i in range(1,n):        \n",
    "    arr.append(sum(arr))\n",
    "print(arr)"
   ]
  },
  {
   "cell_type": "code",
   "execution_count": null,
   "id": "16c5f99b",
   "metadata": {},
   "outputs": [],
   "source": [
    "# Array 6 public version\n",
    "A = int(input(\"A = \"))\n",
    "B = int(input(\"B = \"))\n",
    "n = int(input(\"n = \"))\n",
    "a = [A,B]\n",
    "for i in range(2,n):\n",
    "    a.append(sum(a))    \n",
    "print(a)\n"
   ]
  },
  {
   "cell_type": "code",
   "execution_count": 48,
   "id": "205126a8",
   "metadata": {},
   "outputs": [
    {
     "name": "stdout",
     "output_type": "stream",
     "text": [
      "sonni kiriting(aks holda 'stop'ni)=1\n",
      "sonni kiriting(aks holda 'stop'ni)=2\n",
      "sonni kiriting(aks holda 'stop'ni)=3\n",
      "sonni kiriting(aks holda 'stop'ni)=4\n",
      "sonni kiriting(aks holda 'stop'ni)=5\n",
      "sonni kiriting(aks holda 'stop'ni)=6\n",
      "sonni kiriting(aks holda 'stop'ni)=7\n",
      "sonni kiriting(aks holda 'stop'ni)=8\n",
      "sonni kiriting(aks holda 'stop'ni)=9\n",
      "sonni kiriting(aks holda 'stop'ni)=10\n",
      "sonni kiriting(aks holda 'stop'ni)=stop\n",
      "[1, 2, 3, 4, 5, 6, 7, 8, 9, 10]\n"
     ]
    }
   ],
   "source": [
    "# qo`shimcha berilgan sonlarni list qilib beradigan, \n",
    "def to_arr():\n",
    "    arr=[]\n",
    "    while True:        \n",
    "        i=input(\"sonni kiriting(aks holda 'stop'ni)=\")\n",
    "        if i==\"stop\":\n",
    "            return arr\n",
    "        else:\n",
    "            arr.append(int(i))\n",
    "print(to_arr())"
   ]
  },
  {
   "cell_type": "code",
   "execution_count": 6,
   "id": "45c14f45",
   "metadata": {},
   "outputs": [
    {
     "name": "stdout",
     "output_type": "stream",
     "text": [
      "[8, 7, 6, 5, 4, 3, 2, 1, 0]\n"
     ]
    }
   ],
   "source": [
    "# array-7   n talik array berilgan. uni teskari tartibda chiqaring\n",
    "arr=[r for r in range(10)]\n",
    "#arr.reverse()\n",
    "print(arr[9::-1])"
   ]
  },
  {
   "cell_type": "code",
   "execution_count": 56,
   "id": "5578de28",
   "metadata": {},
   "outputs": [
    {
     "name": "stdout",
     "output_type": "stream",
     "text": [
      "[9, 8, 7, 6, 5, 4, 3, 2, 1, 0]\n"
     ]
    }
   ],
   "source": [
    "# array-7) for bilan, n talik array berilgan. uni teskari tartibda chiqaring\n",
    "arr=[r for r in range(10)]\n",
    "arr2=[]\n",
    "for i in arr:\n",
    "    arr2.insert(0,i)\n",
    "print(*arr2)"
   ]
  },
  {
   "cell_type": "code",
   "execution_count": null,
   "id": "2ffd7cc8",
   "metadata": {},
   "outputs": [],
   "source": [
    "# Array 7-1 usul public version\n",
    "a = [2,3,1,2,3,54,5,3,2,1,2] # List kiritish 1-usul\n",
    "\"\"\"a = []\n",
    "for i in range(10):\n",
    "    a.append(int(input(\"a = \")))  # 2-usul\"\"\"\n",
    "print(a[::-1])\n",
    "print(a)\n",
    "# Array 7-2 usul\n",
    "a = [2,3,1,2,3,54,5,3,2,1,2] # List kiritish 1-usul\n",
    "\"\"\"a = []\n",
    "for i in range(10):\n",
    "    a.append(int(input(\"a = \")))  # 2-usul\"\"\"\n",
    "for i in range(len(a)-1,-1,-1):\n",
    "    print(a[i],end=' ')\n",
    "# Array 7-3 usul\n",
    "a = [2,3,1,2,3,54,5,3,2,1,2] # List kiritish 1-usul\n",
    "a.reverse()\n",
    "print(a)\n",
    "# Array 7-4 usul\n",
    "a = [2,3,1,2,3,54,5,3,2,1,2] # List kiritish 1-usul\n",
    "print(reversed(a))\n",
    "print(list(reversed(a)))\n",
    "print(a)\n",
    "b = list(reversed(a))\n",
    "print(b)"
   ]
  },
  {
   "cell_type": "code",
   "execution_count": 38,
   "id": "6d1c0418",
   "metadata": {},
   "outputs": [
    {
     "name": "stdout",
     "output_type": "stream",
     "text": [
      "[[0, 1, 2, 3, 4], [0, 1, 2, 3, 4], [0, 1, 2, 3, 4], [0, 1, 2, 3, 4], [0, 1, 2, 3, 4], [0, 1, 2, 3, 4], [0, 1, 2, 3, 4], [0, 1, 2, 3, 4], [0, 1, 2, 3, 4], [0, 1, 2, 3, 4]]\n"
     ]
    }
   ],
   "source": [
    "n=10; m=5; j=0\n",
    "print([[j for j in range(m)] for i in range(n)])"
   ]
  },
  {
   "cell_type": "code",
   "execution_count": 52,
   "id": "f5c6c60b",
   "metadata": {},
   "outputs": [
    {
     "name": "stdout",
     "output_type": "stream",
     "text": [
      "1 3 5 7 9 11 13 15 17 19 21 23 25 27 29 31 33 35 37 39 41 43 45 47 49 51 53 55 57 59 61 63 65 67 69 71 73 75 77 79 81 83 85 87 89 91 93 95 97 99 toq sonlar= 50 ta\n"
     ]
    }
   ],
   "source": [
    "# array-8) listdagi toq sonlar va ular soni\n",
    "arr=[r for r in range(100)]\n",
    "j=0\n",
    "for i in arr:\n",
    "    if i%2==0:\n",
    "        continue\n",
    "    else:\n",
    "        print(i,end=\" \")\n",
    "        j+=1\n",
    "print(\"toq sonlar=\",j,\"ta\")"
   ]
  },
  {
   "cell_type": "code",
   "execution_count": 55,
   "id": "bbc1c071",
   "metadata": {},
   "outputs": [
    {
     "name": "stdout",
     "output_type": "stream",
     "text": [
      "98 96 94 92 90 88 86 84 82 80 78 76 74 72 70 68 66 64 62 60 58 56 54 52 50 48 46 44 42 40 38 36 34 32 30 28 26 24 22 20 18 16 14 12 10 8 6 4 2 0 juft sonlar= 50 ta\n"
     ]
    }
   ],
   "source": [
    "# array-9) juft sonlar indekslri kamayuvchi tartibda, va ular soni\n",
    "arr=[r for r in range(100)]\n",
    "j=0; arr2=[]\n",
    "for i in arr:\n",
    "    if i%2==0:\n",
    "        arr2.insert(0,i)\n",
    "        j+=1\n",
    "    else:\n",
    "        continue\n",
    "print(*arr2,\"juft sonlar=\",j,\"ta\")"
   ]
  },
  {
   "cell_type": "code",
   "execution_count": 63,
   "id": "837ecfc2",
   "metadata": {},
   "outputs": [
    {
     "name": "stdout",
     "output_type": "stream",
     "text": [
      "0 2 4 6 8 10 12 14 16 18 20 22 24 26 28 30 32 34 36 38 40 42 44 46 48 50 52 54 56 58 60 62 64 66 68 70 72 74 76 78 80 82 84 86 88 90 92 94 96 98 99 97 95 93 91 89 87 85 83 81 79 77 75 73 71 69 67 65 63 61 59 57 55 53 51 49 47 45 43 41 39 37 35 33 31 29 27 25 23 21 19 17 15 13 11 9 7 5 3 1\n"
     ]
    }
   ],
   "source": [
    "# array-10)  avval juft sonlar indexi o`sish tartibida keyin toq sonlar kamayish t-bida\n",
    "arr=[r for r in range(100)]\n",
    "j=0; arr1=[]; arr2=[]\n",
    "for i in arr:\n",
    "    if i%2==0:\n",
    "        arr1.append(i)\n",
    "    else:\n",
    "        arr2.insert(0,i)\n",
    "print(*arr1,*arr2)"
   ]
  },
  {
   "cell_type": "code",
   "execution_count": 9,
   "id": "e61c1f67",
   "metadata": {},
   "outputs": [
    {
     "name": "stdout",
     "output_type": "stream",
     "text": [
      "k=3\n",
      "[0, 3, 6, 9, 12, 15, 18, 21, 24, 27, 30, 33, 36, 39, 42, 45, 48, 51, 54, 57, 60, 63, 66, 69, 72, 75, 78, 81, 84, 87, 90, 93, 96, 99]\n"
     ]
    }
   ],
   "source": [
    "# array-11)   A massiv berilgan, k ga karrali tartib raqamli o`sish t-bida\n",
    "arr=[r for r in range(100)]\n",
    "k=int(input(\"k=\"))\n",
    "n=len(arr)\n",
    "#print(*arr[::k])\n",
    "for i in range(0,n,k):\n",
    "    print(arr[i],end=\" \")"
   ]
  },
  {
   "cell_type": "code",
   "execution_count": 17,
   "id": "803eff0a",
   "metadata": {},
   "outputs": [
    {
     "name": "stdout",
     "output_type": "stream",
     "text": [
      "0 1 2 3 4 5 6 7 8 9 10 11 12 13 14 15 16 17 18 19 20 21 22 23 24 25 26 27 28 29 30 31 32 33 34 35 36 37 38 39 40 41 42 43 44 45 46 47 48 49 50 51 52 53 54 55 56 57 58 59 60 61 62 63 64 65 66 67 68 69 70 71 72 73 74 75 76 77 78 79 80 81 82 83 84 85 86 87 88 89 90 91 92 93 94 95 96 97 98 99\n",
      "[0, 2, 4, 6, 8, 10, 12, 14, 16, 18, 20, 22, 24, 26, 28, 30, 32, 34, 36, 38, 40, 42, 44, 46, 48, 50, 52, 54, 56, 58, 60, 62, 64, 66, 68, 70, 72, 74, 76, 78, 80, 82, 84, 86, 88, 90, 92, 94, 96, 98]\n"
     ]
    }
   ],
   "source": [
    "# array-12) a massiv n talik(n-juft),juft sonlarni\n",
    "arr=[r for r in range(100)]\n",
    "n=len(arr)\n",
    "#print(*arr[::2])\n",
    "for i in range(0,n,2):\n",
    "    print(arr[i],end=\" \")"
   ]
  },
  {
   "cell_type": "code",
   "execution_count": 21,
   "id": "92bb3797",
   "metadata": {},
   "outputs": [
    {
     "name": "stdout",
     "output_type": "stream",
     "text": [
      "99 97 95 93 91 89 87 85 83 81 79 77 75 73 71 69 67 65 63 61 59 57 55 53 51 49 47 45 43 41 39 37 35 33 31 29 27 25 23 21 19 17 15 13 11 9 7 5 3 1\n"
     ]
    }
   ],
   "source": [
    "# array-13)  a massiv n talik(n-toq),toq sonlarni kamayuvchi\n",
    "arr=[r for r in range(101)]\n",
    "n=len(arr)\n",
    "#print(*arr[n-2::-2])\n",
    "for i in range(n-2,-1,-2):\n",
    "    print(arr[i],end=\" \")"
   ]
  },
  {
   "cell_type": "code",
   "execution_count": 20,
   "id": "26fc5422",
   "metadata": {},
   "outputs": [
    {
     "name": "stdout",
     "output_type": "stream",
     "text": [
      "[0, 2, 4, 6, 8, 10, 12, 14, 16, 18, 20, 22, 24, 26, 28, 30, 32, 34, 36, 38, 40, 42, 44, 46, 48, 50, 52, 54, 56, 58, 60, 62, 64, 66, 68, 70, 72, 74, 76, 78, 80, 82, 84, 86, 88, 90, 92, 94, 96, 98]\n",
      "[1, 3, 5, 7, 9, 11, 13, 15, 17, 19, 21, 23, 25, 27, 29, 31, 33, 35, 37, 39, 41, 43, 45, 47, 49, 51, 53, 55, 57, 59, 61, 63, 65, 67, 69, 71, 73, 75, 77, 79, 81, 83, 85, 87, 89, 91, 93, 95, 97, 99]\n"
     ]
    }
   ],
   "source": [
    "# array-14) avval juft tartib nomerlilar so`ng toq\n",
    "arr=[r for r in range(100)]\n",
    "n=len(arr)\n",
    "#print(*arr[::2])\n",
    "#print(*arr[1::2])\n",
    "for i in range(2,n,2):\n",
    "    print(arr[i],end=\" \")\n",
    "for i in range(1,n,2):\n",
    "    print(arr[i],end=\" \")"
   ]
  },
  {
   "cell_type": "code",
   "execution_count": 23,
   "id": "3fe1fb3c",
   "metadata": {},
   "outputs": [
    {
     "name": "stdout",
     "output_type": "stream",
     "text": [
      "1 3 5 7 9 11 13 15 17 19 21 23 25 27 29 31 33 35 37 39 41 43 45 47 49 51 53 55 57 59 61 63 65 67 69 71 73 75 77 79 81 83 85 87 89 91 93 95 97 99\n",
      "98 96 94 92 90 88 86 84 82 80 78 76 74 72 70 68 66 64 62 60 58 56 54 52 50 48 46 44 42 40 38 36 34 32 30 28 26 24 22 20 18 16 14 12 10 8 6 4 2 0\n"
     ]
    }
   ],
   "source": [
    "# array-15) avval o`sish tartibida toq tartibli, so`ng juft pasayish tartibida\n",
    "arr=[r for r in range(100)]\n",
    "n=len(arr); arr1=[]\n",
    "# print(*arr[1::2])\n",
    "# print(*arr[n-2::-2])\n",
    "for i in range(2,n,2):\n",
    "    arr1.insert(0,arr[i])\n",
    "for i in range(1,n,2):\n",
    "    print(arr[i],end=\" \")\n",
    "print(*arr1)"
   ]
  },
  {
   "cell_type": "code",
   "execution_count": 8,
   "id": "f2ef7613",
   "metadata": {},
   "outputs": [
    {
     "name": "stdout",
     "output_type": "stream",
     "text": [
      "0 99 1 98 2 97 3 96 4 95 5 94 6 93 7 92 8 91 9 90 10 89 11 88 12 87 13 86 14 85 15 84 16 83 17 82 18 81 19 80 20 79 21 78 22 77 23 76 24 75 25 74 26 73 27 72 28 71 29 70 30 69 31 68 32 67 33 66 34 65 35 64 36 63 37 62 38 61 39 60 40 59 41 58 42 57 43 56 44 55 45 54 46 53 47 52 48 51 49 50 50 "
     ]
    }
   ],
   "source": [
    "# array 16)  a_n,a_1,a_n-1,a_2,....\n",
    "arr=[r for r in range(100)]\n",
    "n=len(arr)\n",
    "for i in range(n):\n",
    "    print(arr[i],end=\" \")\n",
    "    if i>=n-1-i:\n",
    "        break\n",
    "    print(arr[n-1-i],end=\" \")"
   ]
  },
  {
   "cell_type": "code",
   "execution_count": null,
   "id": "af6b9829",
   "metadata": {},
   "outputs": [],
   "source": [
    "# Array 16 public version\n",
    "a = [1,2,3,4,5,6,7,8,9,10,11]\n",
    "i = 0\n",
    "n = len(a)-1\n",
    "while i<=n:\n",
    "    print(a[i],end=' ')\n",
    "    i+=1\n",
    "    if i>n:\n",
    "        break\n",
    "    print(a[n],end=' ')\n",
    "    n-=1"
   ]
  },
  {
   "cell_type": "code",
   "execution_count": 9,
   "id": "0a66a3a8",
   "metadata": {},
   "outputs": [
    {
     "name": "stdout",
     "output_type": "stream",
     "text": [
      "0 1 99 98 2 3 97 96 4 5 95 94 6 7 93 92 8 9 91 90 10 11 89 88 12 13 87 86 14 15 85 84 16 17 83 82 18 19 81 80 20 21 79 78 22 23 77 76 24 25 75 74 26 27 73 72 28 29 71 70 30 31 69 68 32 33 67 66 34 35 65 64 36 37 63 62 38 39 61 60 40 41 59 58 42 43 57 56 44 45 55 54 46 47 53 52 48 49 51 50 50 51 "
     ]
    }
   ],
   "source": [
    "# array 17)  a_1,a_2,a_n,a_n-1,a_3,a_4,...\n",
    "arr=[r for r in range(100)]\n",
    "n=len(arr)\n",
    "for i in range(0,n,2):\n",
    "    print(arr[i],arr[i+1],end=\" \")\n",
    "    if i>=n-1-i:\n",
    "        break\n",
    "    print(arr[n-1-i],arr[n-2-i],end=\" \")"
   ]
  },
  {
   "cell_type": "code",
   "execution_count": null,
   "id": "dc266455",
   "metadata": {},
   "outputs": [],
   "source": [
    "# Array 17  public version\n",
    "n = int(input(\"n = \"))\n",
    "a = [randint(1,9) for i in range(n)]\n",
    "print(a)\n",
    "i = 0\n",
    "n = len(a)-1\n",
    "while i<=n:\n",
    "    print(a[i],end=' ')\n",
    "    i+=1\n",
    "    if i>n:\n",
    "        break\n",
    "    print(a[i],end=' ')\n",
    "    i+=1\n",
    "    if i>n:\n",
    "        break\n",
    "    print(a[n],end=' ')\n",
    "    n-=1\n",
    "    if i>n:\n",
    "        break\n",
    "    print(a[n],end=' ')\n",
    "    n-=1"
   ]
  },
  {
   "cell_type": "code",
   "execution_count": 31,
   "id": "d75a013e",
   "metadata": {},
   "outputs": [
    {
     "name": "stdout",
     "output_type": "stream",
     "text": [
      "[52, 36, 84, 58, 45, 51, 58, 2, 23, 91]\n",
      "52\n"
     ]
    }
   ],
   "source": [
    "# array 18)  birinchi a_k ni topish  a_k < a_10  aks xolda 0\n",
    "import random\n",
    "n=int(input(\"N=\"))\n",
    "arr=[int(100*random.random()) for r in range(n)]\n",
    "print(arr)\n",
    "a=False\n",
    "for i in arr:\n",
    "    if i<arr[n-1]:\n",
    "        a=i\n",
    "        break\n",
    "if a:\n",
    "    print(a)\n",
    "else:\n",
    "    print(0)\n",
    "    "
   ]
  },
  {
   "cell_type": "code",
   "execution_count": 1,
   "id": "11c34a03",
   "metadata": {},
   "outputs": [
    {
     "name": "stdout",
     "output_type": "stream",
     "text": [
      "n=10\n",
      "[52, 50, 4, 43, 61, 68, 26, 13, 30, 67]\n",
      "4\n"
     ]
    }
   ],
   "source": [
    "# array 19)  oxirgi a_k ni topish  a_1 < a_k < a_10  aks xolda 0\n",
    "import random\n",
    "n=int(input(\"n=\"))\n",
    "arr=[int(100*random.random()) for r in range(n)]\n",
    "print(arr)\n",
    "a=False\n",
    "for i in range(n-1,-1,-1):\n",
    "    if arr[0]<arr[i]<arr[n-1]:\n",
    "        a=i\n",
    "if a:\n",
    "    print(a)\n",
    "else:\n",
    "    print(0)"
   ]
  },
  {
   "cell_type": "code",
   "execution_count": 8,
   "id": "fbeaf239",
   "metadata": {},
   "outputs": [
    {
     "name": "stdout",
     "output_type": "stream",
     "text": [
      "N=10\n",
      "[16, 63, 56, 97, 26, 14, 2, 78, 83, 9]\n",
      "K=1\n",
      "L=7\n",
      "195\n"
     ]
    }
   ],
   "source": [
    "#array 20)  n talik massiv va k,l butun soni berilgan, K  L (1 ≤ K ≤ L ≤ N).\n",
    "import random\n",
    "n=int(input(\"N=\"))\n",
    "arr=[int(100*random.random()) for r in range(n)]\n",
    "print(arr)\n",
    "s=0\n",
    "k=int(input(\"K=\"))\n",
    "l=int(input(\"L=\"))\n",
    "# for i in range(k+1,l):\n",
    "#     s+=arr[i]\n",
    "for i in arr[k+1:l]:\n",
    "    s+=i\n",
    "print(s)"
   ]
  },
  {
   "cell_type": "code",
   "execution_count": null,
   "id": "4cef85fd",
   "metadata": {},
   "outputs": [],
   "source": [
    "# Array 20 public version\n",
    "n = int(input(\"n = \"))\n",
    "a = [randint(1,9) for i in range(n)]\n",
    "print(a)\n",
    "K = int(input(\"K = \"))\n",
    "L = int(input(\"L = \"))\n",
    "# 1-usul\n",
    "S = 0\n",
    "for i in range(K,L+1):\n",
    "    S+=a[i]\n",
    "print(S)\n",
    "\n",
    "# 2-usul\n",
    "print(sum(a[K:L+1]))\n",
    "\n"
   ]
  },
  {
   "cell_type": "code",
   "execution_count": 11,
   "id": "a103e752",
   "metadata": {},
   "outputs": [
    {
     "name": "stdout",
     "output_type": "stream",
     "text": [
      "N=10\n",
      "[25, 62, 35, 38, 9, 17, 58, 46, 86, 61]\n",
      "K=1\n",
      "L=7\n",
      "31.4\n"
     ]
    }
   ],
   "source": [
    "#array-21) n talik massiv va k,l butun soni berilgan, K  L (1 ≤ K ≤ L ≤ N).o`rta arifmetigi\n",
    "n=int(input(\"N=\"))\n",
    "arr=[int(100*random.random()) for r in range(n)]\n",
    "print(arr)\n",
    "s=0; j=0\n",
    "k=int(input(\"K=\"))\n",
    "l=int(input(\"L=\"))\n",
    "for i in arr[k+1:l]:\n",
    "    s+=i\n",
    "    j+=1\n",
    "print(s/j)"
   ]
  },
  {
   "cell_type": "code",
   "execution_count": 12,
   "id": "ce36e80c",
   "metadata": {},
   "outputs": [
    {
     "name": "stdout",
     "output_type": "stream",
     "text": [
      "N=10\n",
      "[35, 10, 91, 14, 25, 12, 66, 67, 63, 21]\n",
      "K=1\n",
      "L=7\n",
      "196\n"
     ]
    }
   ],
   "source": [
    "# array-22) k,l butun soni berilgan, K  L (1 ≤ K ≤ L ≤ N),k va l orasida yotmaydigan elementlar yigindisi\n",
    "n=int(input(\"N=\"))\n",
    "arr=[int(100*random.random()) for _ in range(n)]\n",
    "print(arr)\n",
    "s=0\n",
    "k=int(input(\"K=\"))\n",
    "l=int(input(\"L=\"))\n",
    "for i in range(n):\n",
    "    if k<i<l:\n",
    "        continue\n",
    "    else:\n",
    "        s+=arr[i]\n",
    "print(s)"
   ]
  },
  {
   "cell_type": "code",
   "execution_count": 14,
   "id": "1aed83d3",
   "metadata": {},
   "outputs": [
    {
     "name": "stdout",
     "output_type": "stream",
     "text": [
      "N=10\n",
      "[76, 16, 72, 1, 96, 51, 46, 11, 38, 59]\n",
      "K=1\n",
      "L=7\n",
      "40.0\n"
     ]
    }
   ],
   "source": [
    "# array -23) array-22 ni o`rta arifmetigi\n",
    "n=int(input(\"N=\"))\n",
    "arr=[int(100*random.random()) for _ in range(n)]\n",
    "print(arr)\n",
    "s=0; j=0\n",
    "k=int(input(\"K=\"))\n",
    "l=int(input(\"L=\"))\n",
    "for i in range(n):\n",
    "    if k<i<l:\n",
    "        continue\n",
    "    else:\n",
    "        s+=arr[i]\n",
    "        j+=1\n",
    "print(s/j)"
   ]
  },
  {
   "cell_type": "code",
   "execution_count": 4,
   "id": "4a47c38c",
   "metadata": {},
   "outputs": [
    {
     "name": "stdout",
     "output_type": "stream",
     "text": [
      "N=10\n",
      "[93, 59, 92, 34, 54, 76, 75, 5, 12, 82]\n",
      "0\n"
     ]
    }
   ],
   "source": [
    "# array-24) list elementlari arifmetik progressiya hosil qilsa ayirmani,aks 0\n",
    "# arif prog qoidasi a[n]=a[0]-d+n*d\n",
    "import random\n",
    "n=int(input(\"N=\"))\n",
    "arr=[random.randint(0,100) for i in range(n)]\n",
    "#arr=[1,3,5,7,9,11,13,15,17,19]\n",
    "j=1\n",
    "farq=arr[1]-arr[0]\n",
    "for i in range(1,n):\n",
    "    if arr[i]-arr[i-1]==farq:\n",
    "        j+=1    \n",
    "if j==n:\n",
    "    print(farq)\n",
    "else:\n",
    "    print(0)"
   ]
  },
  {
   "cell_type": "code",
   "execution_count": null,
   "id": "c338e85b",
   "metadata": {},
   "outputs": [],
   "source": [
    "# Array 24 public version\n",
    "n = int(input(\"n = \"))\n",
    "a = [2*i for i in range(n)]\n",
    "print(a)\n",
    "d = a[1] - a[0]\n",
    "for i in range(2,n):\n",
    "    if a[i]-a[i-1]!=d:\n",
    "        print(0)\n",
    "        break\n",
    "else:\n",
    "    print(d)"
   ]
  },
  {
   "cell_type": "code",
   "execution_count": 24,
   "id": "eb3a4a3c",
   "metadata": {},
   "outputs": [
    {
     "name": "stdout",
     "output_type": "stream",
     "text": [
      "N=10\n",
      "[46, 48, 6, 75, 68, 64, 52, 96, 42, 10]\n",
      "48 46\n",
      "2\n",
      "0\n"
     ]
    }
   ],
   "source": [
    "# array -25) massiv geometrik progressiyani hosil qilsa maxrajni aks xolda,0\n",
    "import random\n",
    "n=int(input(\"N=\"))\n",
    "arr=[int(100*random.random()) for _ in range(n)]\n",
    "#arr=[2,4,8,16,32,64,128,256,512,1024]\n",
    "j=1\n",
    "if arr[0]*arr[1]!=0:\n",
    "    q=arr[1]/arr[0]\n",
    "    for i in range(1,n):\n",
    "        if arr[i]/arr[i-1]==q:\n",
    "        #if arr[i]==arr[0]*q**(i-1)\n",
    "            j+=1\n",
    "            print(j)\n",
    "if j==n:\n",
    "    print(q)\n",
    "else:\n",
    "    print(0)"
   ]
  },
  {
   "cell_type": "code",
   "execution_count": 27,
   "id": "b42dc8c4",
   "metadata": {},
   "outputs": [
    {
     "name": "stdout",
     "output_type": "stream",
     "text": [
      "N=10\n",
      "0\n"
     ]
    }
   ],
   "source": [
    "# array -26)  massiv ketma ket toq va juft kelisiga,qoidani buzganni indeksi\n",
    "import random\n",
    "n=int(input(\"N=\"))\n",
    "arr=[random.randint(0,100) for i in range(n)]\n",
    "#arr=[2,5,8,13,32,15,128,17,512,19]\n",
    "index=0\n",
    "a=arr[0]%2\n",
    "for i in range(1,n):\n",
    "    if arr[i]%2==a:\n",
    "        index=i\n",
    "        break     \n",
    "    else:\n",
    "        a=arr[i]%2\n",
    "print(index)    "
   ]
  },
  {
   "cell_type": "code",
   "execution_count": null,
   "id": "d6fc40d3",
   "metadata": {},
   "outputs": [],
   "source": [
    "Array 26 public version\n",
    "n = int(input(\"n = \"))\n",
    "a = [i for i in range(n)]\n",
    "print(a)\n",
    "for i in range(1,n):\n",
    "    if (a[i]+a[i-1])%2!=1:\n",
    "        print(i)\n",
    "        break\n",
    "else:\n",
    "    print(\"Done!\")"
   ]
  },
  {
   "cell_type": "code",
   "execution_count": 29,
   "id": "5fbb664d",
   "metadata": {},
   "outputs": [
    {
     "name": "stdout",
     "output_type": "stream",
     "text": [
      "N=10\n",
      "5\n"
     ]
    }
   ],
   "source": [
    "# array -27)  manfiy va musbat sonlar ketma ket kelsa 0, aks holda indexi\n",
    "import random\n",
    "n=int(input(\"N=\"))\n",
    "#arr=[int(100*random.random()) for _ in range(n)]\n",
    "arr=[2,-5,8,-13,32,15,128,-17,512,-19]\n",
    "index=0\n",
    "a=arr[0]/abs(arr[0])\n",
    "for i in range(1,n):\n",
    "    if arr[i]/abs(arr[i])==a:\n",
    "        index=i\n",
    "        break     \n",
    "    else:\n",
    "        a=arr[i]/abs(arr[i])\n",
    "print(index)    "
   ]
  },
  {
   "cell_type": "code",
   "execution_count": null,
   "id": "11d600dc",
   "metadata": {},
   "outputs": [],
   "source": [
    "# Array 27 public version\n",
    "n = int(input(\"n = \"))\n",
    "a = [randint(-5,5) for i in range(n)]\n",
    "print(a)\n",
    "for i in range(1,n):\n",
    "    if a[i]*a[i-1]>0:\n",
    "        print(i)\n",
    "        break\n",
    "else:\n",
    "    print(\"Done!\")"
   ]
  },
  {
   "cell_type": "code",
   "execution_count": 32,
   "id": "30a590df",
   "metadata": {},
   "outputs": [
    {
     "name": "stdout",
     "output_type": "stream",
     "text": [
      "N=10\n",
      "32\n"
     ]
    }
   ],
   "source": [
    "# array -28)  massiv juft indexli elementlar ichida kichigini\n",
    "import random\n",
    "#n=int(input(\"N=\"))\n",
    "#arr=[int(100*random.random()) for _ in range(n)]\n",
    "arr=[42,5,38,13,32,15,128,16,512,19]\n",
    "mini=arr[0]\n",
    "for i in range(0,n,2):        \n",
    "    if arr[i]<mini:\n",
    "        mini=arr[i]\n",
    "print(mini)    "
   ]
  },
  {
   "cell_type": "code",
   "execution_count": 33,
   "id": "846b4518",
   "metadata": {},
   "outputs": [
    {
     "name": "stdout",
     "output_type": "stream",
     "text": [
      "19\n"
     ]
    }
   ],
   "source": [
    "# array -29) massiv toq indexli katta sonni\n",
    "import random\n",
    "#n=int(input(\"N=\"))\n",
    "#arr=[int(100*random.random()) for _ in range(n)]\n",
    "arr=[42,5,38,13,32,15,128,16,512,19]\n",
    "maxi=arr[1]\n",
    "for i in range(1,n,2):        \n",
    "    if arr[i]>maxi:\n",
    "        maxi=arr[i]\n",
    "print(maxi)    "
   ]
  },
  {
   "cell_type": "code",
   "execution_count": 36,
   "id": "648be321",
   "metadata": {},
   "outputs": [
    {
     "name": "stdout",
     "output_type": "stream",
     "text": [
      "0 2 4 6 8 soni= 5\n"
     ]
    }
   ],
   "source": [
    "# array -30) o`ng qo`shnisidan katta bo`lgan el-ntlarni indexlarini o`sish tatibida,soni\n",
    "import random\n",
    "#n=int(input(\"N=\"))\n",
    "#arr=[int(100*random.random()) for _ in range(n)]\n",
    "arr=[42,5,38,13,32,15,128,16,512,19]\n",
    "last=0;j=0\n",
    "for i in range(n):        \n",
    "    if arr[last]>arr[i]:\n",
    "        print(last,end=\" \")\n",
    "        j+=1\n",
    "    last=i\n",
    "print(\"soni=\",j)    "
   ]
  },
  {
   "cell_type": "code",
   "execution_count": null,
   "id": "3a29d395",
   "metadata": {},
   "outputs": [],
   "source": []
  },
  {
   "cell_type": "code",
   "execution_count": 21,
   "id": "76a99e48",
   "metadata": {},
   "outputs": [
    {
     "name": "stdout",
     "output_type": "stream",
     "text": [
      "8 6 4 1 soni= 4\n"
     ]
    }
   ],
   "source": [
    "# array -31) chap qo`shnisidan katta bo`lgan el-ntlar kamayish \n",
    "import random\n",
    "#n=int(input(\"N=\"))\n",
    "#arr=[random.randint(0,100) for i in range(n)]\n",
    "arr=[42,50,38,13,32,15,128,16,512,19]; n=len(arr)\n",
    "next0=n-1;j=0\n",
    "for i in range(n-1,-1,-1):        \n",
    "    if arr[next0]>arr[i]:\n",
    "        print(next0,end=\" \")\n",
    "        j+=1\n",
    "    next0=i\n",
    "print(\"soni=\",j)    "
   ]
  },
  {
   "cell_type": "code",
   "execution_count": null,
   "id": "60155e0c",
   "metadata": {},
   "outputs": [],
   "source": [
    "# Array 31  public version\n",
    "n = int(input(\"n = \"))\n",
    "a = [randint(1,5) for i in range(n)]\n",
    "print(a)\n",
    "S = 0\n",
    "for i in range(len(a)-1,0,-1):\n",
    "    if a[i]>a[i-1]:\n",
    "        print(a[i],end=' ')\n",
    "        S+=1\n",
    "print('\\n',S)"
   ]
  },
  {
   "cell_type": "code",
   "execution_count": 22,
   "id": "9f914442",
   "metadata": {},
   "outputs": [
    {
     "name": "stdout",
     "output_type": "stream",
     "text": [
      "lokal min indeksi= 3\n"
     ]
    }
   ],
   "source": [
    "# array -32) local minimum,ikkala qo`shnisidan ham kichik\n",
    "import random\n",
    "#n=int(input(\"N=\"))\n",
    "#arr=[int(100*random.random()) for _ in range(n)]\n",
    "arr=[42,50,38,13,32,15,128,16,512,19];  n=len(arr)\n",
    "next0=0; next1=1\n",
    "for i in range(2,10):        \n",
    "    if arr[next0]>arr[next1] and arr[next1]<arr[i]:\n",
    "        print(\"lokal min indeksi=\",next1)\n",
    "        break\n",
    "    next0=next1\n",
    "    next1=i\n"
   ]
  },
  {
   "cell_type": "code",
   "execution_count": 23,
   "id": "d7f18a35",
   "metadata": {},
   "outputs": [
    {
     "name": "stdout",
     "output_type": "stream",
     "text": [
      "lokal max indeksi 6\n"
     ]
    }
   ],
   "source": [
    "# array -33)  oxirgi local maximum, ikkala qo`shnisidan ham katta\n",
    "import random\n",
    "#n=int(input(\"N=\"))\n",
    "#arr=[int(100*random.random()) for _ in range(n)]\n",
    "arr=[42,50,38,13,32,15,128,16,19,19];  n=len(arr)\n",
    "next0=n-1; next1=n-2\n",
    "for i in range(n-3,-1,-1):        \n",
    "    if arr[next0]<arr[next1] and arr[next1]>arr[i]:\n",
    "        print(\"lokal max indeksi\",next1)\n",
    "        break\n",
    "    next0=next1\n",
    "    next1=i"
   ]
  },
  {
   "cell_type": "code",
   "execution_count": null,
   "id": "d8e78007",
   "metadata": {},
   "outputs": [],
   "source": [
    "# Array 33 Lokal Maksimum  public version\n",
    "n = int(input(\"n = \"))\n",
    "a = [randint(1,10) for i in range(n)]\n",
    "print(a)\n",
    "x = True\n",
    "for i in range(1,n-1):\n",
    "    if a[i-1]<a[i]>a[i+1]:\n",
    "        maxi = a[i]\n",
    "        x=False        \n",
    "if x:\n",
    "    print(\"Lokal maksimum yo'q\")\n",
    "else:\n",
    "    print(maxi)"
   ]
  },
  {
   "cell_type": "code",
   "execution_count": 24,
   "id": "352184e6",
   "metadata": {},
   "outputs": [
    {
     "name": "stdout",
     "output_type": "stream",
     "text": [
      "lokal min indeksi 7\n"
     ]
    }
   ],
   "source": [
    "# array -34) local minimumni maksimumi,ikkala qo`shnisidan ham kichikni kattasi\n",
    "import random\n",
    "#n=int(input(\"N=\"))\n",
    "#arr=[random.randint(0,100) for i in range(n)]\n",
    "arr=[42,10,38,13,32,15,128,16,512,19];  n=len(arr)\n",
    "next0=0; next1=1; j=True\n",
    "for i in range(2,n):        \n",
    "    if arr[next0]>arr[next1] and arr[next1]<arr[i]:\n",
    "        if j:\n",
    "            mini=next1\n",
    "            j=False\n",
    "        if arr[mini]<arr[next1]:\n",
    "            mini=next1\n",
    "    next0=next1\n",
    "    next1=i\n",
    "if mini:\n",
    "    print('lokal min indeksi',mini)\n",
    "else:\n",
    "    print(\"bunday son yo`q\")"
   ]
  },
  {
   "cell_type": "code",
   "execution_count": 25,
   "id": "e6a6bdcb",
   "metadata": {},
   "outputs": [
    {
     "name": "stdout",
     "output_type": "stream",
     "text": [
      "lokal min indeksi 4\n"
     ]
    }
   ],
   "source": [
    "# array -35) lokal maximumini kichigini\n",
    "#import random\n",
    "#n=int(input(\"N=\"))\n",
    "#arr=[random.randint(0,100) for i in range(n)]\n",
    "arr=[42,10,38,13,32,15,128,16,512,19];  n=len(arr)\n",
    "next0=0; next1=1; j=True\n",
    "for i in range(2,n):        \n",
    "    if arr[next0]<arr[next1] and arr[next1]>arr[i]:\n",
    "        if j:\n",
    "            maxi=next1\n",
    "            j=False\n",
    "        if arr[maxi]>arr[next1]:\n",
    "            maxi=next1\n",
    "    next0=next1\n",
    "    next1=i\n",
    "if maxi:\n",
    "    print('lokal min indeksi',maxi)\n",
    "else:\n",
    "    print(\"bunday son yo`q\")"
   ]
  },
  {
   "cell_type": "code",
   "execution_count": 32,
   "id": "5ed2471e",
   "metadata": {},
   "outputs": [
    {
     "name": "stdout",
     "output_type": "stream",
     "text": [
      "0 1 2\n",
      "1 2 3\n",
      "2 3 4\n",
      "3 4 5\n",
      "4 5 6\n",
      "5 6 7\n",
      "6 7 8\n",
      "7 8 9\n",
      "element indeksi 8\n"
     ]
    }
   ],
   "source": [
    "# array -36) lokal maximum va minimum bo`lmaganni kattasini, aks 0\n",
    "#import random\n",
    "#n=int(input(\"N=\"))\n",
    "#arr=[random.randint(0,100) for i in range(n)]\n",
    "maxi=False\n",
    "arr=[42,10,38,13,14,15,128,16,512,519];  n=len(arr)\n",
    "next0=0; next1=1; j=True\n",
    "for i in range(2,n):        \n",
    "    if arr[next0]<=arr[next1]<=arr[i] or arr[next0]>=arr[next1]>=arr[i]:\n",
    "        if j:\n",
    "            maxi=next1\n",
    "            j=False\n",
    "        if arr[maxi]<arr[next1]:\n",
    "            maxi=next1 \n",
    "    next0=next1\n",
    "    next1=i    \n",
    "if maxi:\n",
    "    print('element indeksi',maxi)\n",
    "else:\n",
    "    print(\"bunday son yo`q\")"
   ]
  },
  {
   "cell_type": "code",
   "execution_count": 10,
   "id": "61365763",
   "metadata": {},
   "outputs": [
    {
     "name": "stdout",
     "output_type": "stream",
     "text": [
      "oraliqlar soni 3\n"
     ]
    }
   ],
   "source": [
    "# array -37) monoton o`sadigan oraliq soni\n",
    "#birinchi sondan ikkinchi son o`sib, uchinchisi ularga qo`shilmasa\n",
    "import random\n",
    "n=int(input(\"N=\"))\n",
    "arr=[int(100*random.random()) for _ in range(n)]\n",
    "j=0; s=0\n",
    "for i in range(2,n):        \n",
    "    if arr[i-2]<arr[i-1] and arr[i-1]>=arr[i] :\n",
    "        j+=1\n",
    "if arr[n-2]<arr[n-1]:\n",
    "    j+=1\n",
    "if j:\n",
    "    print(\"oraliqlar soni\",j)\n",
    "else:\n",
    "    print(\"bunday son yo`q\")\n",
    "    \n",
    "    "
   ]
  },
  {
   "cell_type": "code",
   "execution_count": null,
   "id": "64301eac",
   "metadata": {},
   "outputs": [],
   "source": [
    "# Array37  public version\n",
    "#massiv = [20,87,11,4,5,3,5,64,5,4,34,5,6,34,22,89,33,45,22,10,30]\n",
    "massiv = [1,2,3,4,5,6,7,8,9,10]\n",
    "i = 1\n",
    "S = 0\n",
    "while i<len(massiv)-1:\n",
    "    if massiv[i]>massiv[i-1] and massiv[i]>massiv[i+1]:\n",
    "        S+=1\n",
    "    i+=1\n",
    "if massiv[-2]<massiv[-1]:\n",
    "    S+=1\n",
    "print(S)"
   ]
  },
  {
   "cell_type": "code",
   "execution_count": null,
   "id": "3693f4f0",
   "metadata": {},
   "outputs": [],
   "source": []
  },
  {
   "cell_type": "code",
   "execution_count": 11,
   "id": "8b856d1b",
   "metadata": {},
   "outputs": [
    {
     "name": "stdout",
     "output_type": "stream",
     "text": [
      "oraliqlar soni 3\n"
     ]
    }
   ],
   "source": [
    "# array -38) monoton kamayuvchi oraliq soni\n",
    "#import random\n",
    "#n=int(input(\"N=\"))\n",
    "#arr=[int(100*random.random()) for _ in range(n)]\n",
    "arr=[42,10,38,13,14,15,12,16,512,519];  n=len(arr)\n",
    "j=0; s=0\n",
    "for i in range(2,n):        \n",
    "    if arr[i-2]>arr[i-1] and arr[i-1]<=arr[i] :\n",
    "        j+=1\n",
    "if arr[n-2]>arr[n-1]:\n",
    "    j+=1\n",
    "if j:\n",
    "    print(\"oraliqlar soni\",j)\n",
    "else:\n",
    "    print(\"bunday son yo`q\")"
   ]
  },
  {
   "cell_type": "code",
   "execution_count": 12,
   "id": "e15c6ae9",
   "metadata": {},
   "outputs": [
    {
     "name": "stdout",
     "output_type": "stream",
     "text": [
      "oraliqlar soni 4\n"
     ]
    }
   ],
   "source": [
    "# array-39) monoton oraliqlar soni\n",
    "#import random\n",
    "#n=int(input(\"N=\"))\n",
    "#arr=[int(100*random.random()) for _ in range(n)]\n",
    "arr=[42,40,38,13,14,25,22,16,12,519];  n=len(arr)\n",
    "j=0\n",
    "for i in range(2,n):        \n",
    "    if arr[i-2]<arr[i-1] and arr[i-1]>=arr[i]:\n",
    "        j+=1\n",
    "    if arr[i-2]>arr[i-1] and arr[i-1]<=arr[i]:\n",
    "        j+=1\n",
    "if arr[n-2]!=arr[n-1]:\n",
    "    j+=1\n",
    "if j:\n",
    "    print(\"oraliqlar soni\",j)\n",
    "else:\n",
    "    print(\"bunday son yo`q\")"
   ]
  },
  {
   "cell_type": "code",
   "execution_count": 49,
   "id": "8f429acb",
   "metadata": {},
   "outputs": [
    {
     "name": "stdout",
     "output_type": "stream",
     "text": [
      "R=12\n",
      "14\n"
     ]
    }
   ],
   "source": [
    "# array -40) R soni berilgan u songa qiymati eng yaqin bo`lgan el-tni toping\n",
    "#import random\n",
    "#n=int(input(\"N=\"))\n",
    "#arr=[int(100*random.random()) for _ in range(n)]\n",
    "r=int(input(\"R=\"))\n",
    "arr=[42,40,38,-13,14,25,22,16,-12,519];  n=len(arr)\n",
    "k=arr[0]\n",
    "for i in range(1,n):        \n",
    "    if arr[i]!=r and abs(arr[i]-r)<abs(k-r):\n",
    "        k=arr[i]    \n",
    "print(k)"
   ]
  },
  {
   "cell_type": "code",
   "execution_count": null,
   "id": "421adad1",
   "metadata": {},
   "outputs": [],
   "source": [
    "#Array40 public version\n",
    "from random import randint\n",
    "R = int(input(\"R = \"))\n",
    "n = int(input(\"n = \"))\n",
    "a = [randint(1,9) for i in range(n)]\n",
    "print(a)\n",
    "mini = abs(a[0] - R)\n",
    "index = 0\n",
    "for i in range(1,n):\n",
    "    if abs(a[i]-R)<mini:\n",
    "        mini = abs(a[i]-R)\n",
    "        index = i        \n",
    "print(mini,index,a[index])"
   ]
  },
  {
   "cell_type": "code",
   "execution_count": 53,
   "id": "ff002eca",
   "metadata": {},
   "outputs": [
    {
     "name": "stdout",
     "output_type": "stream",
     "text": [
      "25 22\n"
     ]
    }
   ],
   "source": [
    "# array-41)  elementlar ichida yig`indisi eng katta bo`lgan qo`shni el-ntni chiqaruvchi\n",
    "#import random\n",
    "#n=int(input(\"N=\"))\n",
    "#arr=[int(100*random.random()) for _ in range(n)]\n",
    "arr=[-42,-40,38,-13,14,25,22,16,-12,51];  n=len(arr)\n",
    "num1=arr[0] ; num2=arr[1]\n",
    "maxi=arr[0]+arr[1]\n",
    "for i in range(1,n):        \n",
    "    if arr[i-1]+arr[i]>maxi:\n",
    "        maxi=arr[i]+arr[i-1]\n",
    "        num1=arr[i-1]\n",
    "        num2=arr[i]\n",
    "print(num1,num2)"
   ]
  },
  {
   "cell_type": "code",
   "execution_count": 54,
   "id": "dad30078",
   "metadata": {},
   "outputs": [
    {
     "name": "stdout",
     "output_type": "stream",
     "text": [
      "R=12\n",
      "16 -12\n"
     ]
    }
   ],
   "source": [
    "# array-42)  elementlar ichida yig`indisi R ga yaqin bo`lgan qo`shni el-nt/ni chiqaruvchi\n",
    "#import random\n",
    "#n=int(input(\"N=\"))\n",
    "#arr=[int(100*random.random()) for _ in range(n)]\n",
    "r=int(input(\"R=\"))\n",
    "arr=[-42,-40,38,-13,14,25,22,16,-12,51];  n=len(arr)\n",
    "num1=arr[0] ; num2=arr[1]\n",
    "sum1=arr[0]+arr[1]-r\n",
    "for i in range(1,n):        \n",
    "    if abs(arr[i-1]+arr[i]-r)<abs(sum1):\n",
    "        sum1=arr[i]+arr[i-1]-r\n",
    "        num1=arr[i-1]\n",
    "        num2=arr[i]\n",
    "print(num1,num2)"
   ]
  },
  {
   "cell_type": "code",
   "execution_count": 5,
   "id": "66694b24",
   "metadata": {},
   "outputs": [
    {
     "name": "stdout",
     "output_type": "stream",
     "text": [
      "N=5\n",
      "[84, 38, 18, 52, 27]\n",
      "5\n"
     ]
    }
   ],
   "source": [
    "# array -43) xar hil qiymatli elementlarini chiqaruvchi\n",
    "from random import randint\n",
    "n=int(input(\"N=\"))\n",
    "arr=[randint(0,100) for _ in range(n)]\n",
    "print(arr)\n",
    "#arr=[2,2,2,2,2]\n",
    "a=1 \n",
    "for i in range(1,n):\n",
    "    if arr[i-1]!=arr[i]:\n",
    "        a+=1\n",
    "if a>1:            \n",
    "    print(a)\n",
    "else:\n",
    "    print(\"Bunday son yo`q\")"
   ]
  },
  {
   "cell_type": "code",
   "execution_count": null,
   "id": "2d1100b0",
   "metadata": {},
   "outputs": [],
   "source": [
    "# Array43 public version\n",
    "n = int(input(\"n = \"))\n",
    "a = [randint(1,9) for i in range(n)]\n",
    "a.sort()\n",
    "print(a)\n",
    "S = 1\n",
    "for i in range(1,n):\n",
    "    if a[i]!=a[i-1]:\n",
    "        S+=1\n",
    "        \n",
    "print(S)"
   ]
  },
  {
   "cell_type": "code",
   "execution_count": 14,
   "id": "c8d4b3c7",
   "metadata": {},
   "outputs": [
    {
     "name": "stdout",
     "output_type": "stream",
     "text": [
      "N=10\n",
      "[0, 2, 5, 2, 2, 3, 0, 5, 5, 5]\n",
      "3\n",
      "4\n",
      "7\n",
      "8\n",
      "9\n"
     ]
    }
   ],
   "source": [
    "# array -44) bir hil qiymatli elementlarini chiqaruvchi\n",
    "from random import randint\n",
    "n=int(input(\"N=\"))\n",
    "arr=[randint(0,5) for _ in range(n)]\n",
    "print(arr);once=True\n",
    "for i in range(1,n):\n",
    "    if arr[i-1]==arr[i]:\n",
    "        if once:\n",
    "            print(i-1)\n",
    "            once=False\n",
    "        print(i)\n",
    "    else:\n",
    "        once=True\n",
    "        "
   ]
  },
  {
   "cell_type": "code",
   "execution_count": null,
   "id": "08c452e0",
   "metadata": {},
   "outputs": [],
   "source": [
    "# Array 44 public version\n",
    "n = int(input(\"n = \"))\n",
    "a = [int(input(\"a = \")) for i in range(n)]\n",
    "print(a)\n",
    "for i in range(n-1):\n",
    "    for j in range(i+1,n):\n",
    "        if a[i]==a[j]:\n",
    "            print(i,j)\n",
    "            break"
   ]
  },
  {
   "cell_type": "code",
   "execution_count": 15,
   "id": "47f0c907",
   "metadata": {},
   "outputs": [
    {
     "name": "stdout",
     "output_type": "stream",
     "text": [
      "N=10\n",
      "[1, 2, 0, 0, 4, 0, 2, 5, 4, 0]\n",
      "0 1\n"
     ]
    }
   ],
   "source": [
    "# array -45) bir biriga qiymati eng yaqin bo`lgan elementlarini chiqaruvchi\n",
    "from random import randint\n",
    "n=int(input(\"N=\"))\n",
    "arr=[randint(0,5) for _ in range(n)]\n",
    "print(arr);mini=arr[0]-arr[1]\n",
    "mini_i=[0,1]\n",
    "for i in range(1,n):\n",
    "    if abs(arr[i-1]-arr[i])<mini:\n",
    "        mini_i=[i-1,i]\n",
    "print(*mini_i)\n",
    "        "
   ]
  },
  {
   "cell_type": "code",
   "execution_count": null,
   "id": "0d4443f1",
   "metadata": {},
   "outputs": [],
   "source": [
    "# Array45 public version\n",
    "n = int(input(\"n = \"))\n",
    "a = [randint(1,9) for i in range(n)]\n",
    "print(a)\n",
    "mini = abs(a[1]-a[0])\n",
    "k = 1\n",
    "for i in range(2,n):\n",
    "    if abs(a[i]-a[i-1])<mini:\n",
    "        mini=abs(a[i]-a[i-1])\n",
    "        k = i\n",
    "print(mini,k,k-1)"
   ]
  },
  {
   "cell_type": "code",
   "execution_count": 20,
   "id": "72557fcd",
   "metadata": {},
   "outputs": [
    {
     "name": "stdout",
     "output_type": "stream",
     "text": [
      "N=10\n",
      "R=5\n",
      "[5, 1, 3, 4, 2, 2, 0, 2, 0, 1]\n",
      "[5, 1]\n",
      "[1, 3]\n",
      "[3, 4]\n",
      "[4, 2]\n",
      "[2, 2]\n",
      "2 2\n"
     ]
    }
   ],
   "source": [
    "# array -46) R soniga yigindisi eng yaqin bo`lgan elementlarini chiqaruvchi\n",
    "from random import randint\n",
    "n=int(input(\"N=\"))\n",
    "r=int(input(\"R=\"))\n",
    "arr=[randint(0,5) for _ in range(n)]\n",
    "print(arr);r=arr[0]+arr[1]\n",
    "mini_i=[arr[0],arr[1]]\n",
    "for i in range(1,n):\n",
    "    if abs(r-arr[i-1]-arr[i])<sum(mini_i):\n",
    "        mini_i=[arr[i-1],arr[i]]\n",
    "print(*mini_i)"
   ]
  },
  {
   "cell_type": "code",
   "execution_count": 21,
   "id": "107e1c45",
   "metadata": {},
   "outputs": [
    {
     "name": "stdout",
     "output_type": "stream",
     "text": [
      "N=10\n",
      "[0, 4, 3, 5, 1, 1, 2, 2, 1, 0]\n",
      "0 4 3 5 1 2\n"
     ]
    }
   ],
   "source": [
    "# array -47) massiv elementlarini bittadan chiqaruvchi\n",
    "from random import randint\n",
    "n=int(input(\"N=\"))\n",
    "arr=[randint(0,5) for _ in range(n)]\n",
    "print(arr)\n",
    "mini=[arr[0]]\n",
    "for i in range(1,n):\n",
    "    if arr[i] in mini:\n",
    "        continue\n",
    "    else:\n",
    "        mini.append(arr[i])\n",
    "print(*mini)"
   ]
  },
  {
   "cell_type": "code",
   "execution_count": null,
   "id": "72511c99",
   "metadata": {},
   "outputs": [],
   "source": [
    "# Array 47 1-usul  public version\n",
    "from random import randint\n",
    "n = int(input(\"n = \"))\n",
    "a = [randint(1,2) for i in range(n)]\n",
    "print(a)\n",
    "i = 0\n",
    "while i<len(a):\n",
    "    if a.count(a[i])>1:\n",
    "        k = a[i]\n",
    "        for _ in range(a.count(a[i])): # 0-6\n",
    "            a.remove(k)\n",
    "        a.insert(i,k)\n",
    "    i+=1\n",
    "print(a)"
   ]
  },
  {
   "cell_type": "code",
   "execution_count": null,
   "id": "21074648",
   "metadata": {},
   "outputs": [],
   "source": [
    "# Array 47 2-usul  public version\n",
    "n = int(input(\"n = \"))\n",
    "a = [randint(1,9) for i in range(n)]\n",
    "print(a)\n",
    "matrix = []\n",
    "for i in a:\n",
    "    if i not in matrix:\n",
    "        matrix.append(i)\n",
    "print(matrix)"
   ]
  },
  {
   "cell_type": "code",
   "execution_count": 18,
   "id": "0669c756",
   "metadata": {},
   "outputs": [
    {
     "name": "stdout",
     "output_type": "stream",
     "text": [
      "N=10\n",
      "[2, 1, 5, 2, 2, 1, 4, 4, 0, 3]\n",
      "3\n"
     ]
    }
   ],
   "source": [
    "# array -48) massiv elementlarini ichida eng ko`p qatnashgan element sonini chiqaruvchi\n",
    "from random import randint\n",
    "n=int(input(\"N=\"))\n",
    "arr=[randint(0,5) for _ in range(n)]\n",
    "print(arr)\n",
    "maxi=0\n",
    "for i in range(n):\n",
    "    k=1\n",
    "    for j in range(i+1,n):\n",
    "         if arr[i]==arr[j]:\n",
    "            k+=1\n",
    "    if k>maxi:\n",
    "        maxi=k\n",
    "print(maxi)\n",
    "        \n",
    "            "
   ]
  },
  {
   "cell_type": "code",
   "execution_count": 16,
   "id": "defb23ed",
   "metadata": {},
   "outputs": [
    {
     "name": "stdout",
     "output_type": "stream",
     "text": [
      "N=10\n",
      "[1, 2, 3, 4, 5, 6, 7, 8, 9, 10]\n",
      "1 1\n",
      "2 2\n",
      "3 3\n",
      "4 4\n",
      "5 5\n",
      "6 6\n",
      "7 7\n",
      "8 8\n",
      "9 9\n",
      "10 10\n",
      "0\n"
     ]
    }
   ],
   "source": [
    "# array -49) 1 dan n gacha sonlarni o`rin almashishidan hosil b tartibni buzgan el indeki, aks 0\n",
    "from random import randint\n",
    "n=int(input(\"N=\"))\n",
    "#arr=[randint(1,11) for _ in range(n)]\n",
    "arr=[1,2,4,3,6,7,10,8,9,5]\n",
    "arr.sort()\n",
    "print(arr)\n",
    "for i in range(1,n+1):\n",
    "    if i!=arr[i-1]:\n",
    "        print(i-1)\n",
    "        break\n",
    "else:\n",
    "    print(0)        \n",
    "            "
   ]
  },
  {
   "cell_type": "code",
   "execution_count": null,
   "id": "09f48ab5",
   "metadata": {},
   "outputs": [],
   "source": [
    "# Array 49  public version\n",
    "n = int(input(\"n = \"))\n",
    "a = [randint(1,11) for i in range(n)]\n",
    "print(a)\n",
    "for i in range(n):\n",
    "    if a[i]<1 or a[i]>n:\n",
    "        print(i)\n",
    "        break\n",
    "else:\n",
    "    print(0)"
   ]
  },
  {
   "cell_type": "code",
   "execution_count": 17,
   "id": "485e4350",
   "metadata": {},
   "outputs": [
    {
     "name": "stdout",
     "output_type": "stream",
     "text": [
      "N=10\n",
      "[1, 2, 4, 3, 6, 7, 11, 8, 9, 5]\n",
      "11\n"
     ]
    }
   ],
   "source": [
    "from random import randint\n",
    "n=int(input(\"N=\"))\n",
    "#arr=[randint(1,11) for _ in range(n)]\n",
    "arr=[1,2,4,3,6,7,11,8,9,5]\n",
    "print(arr)\n",
    "for i in range(n):\n",
    "    if 1<arr[i]<n:\n",
    "        continue\n",
    "    else:\n",
    "        print(arr[i])\n",
    "        break\n",
    "else:\n",
    "    print(0)     "
   ]
  },
  {
   "cell_type": "code",
   "execution_count": 5,
   "id": "37ff1648",
   "metadata": {},
   "outputs": [
    {
     "name": "stdout",
     "output_type": "stream",
     "text": [
      "N=10\n",
      "[4, 6, 3, 3, 10, 11, 1, 6, 7, 10]\n",
      "2\n"
     ]
    }
   ],
   "source": [
    "# array -50) massiv elementlarining o`ng qo`shnisidan kattalar sonini chiqaring\n",
    "from random import randint\n",
    "n=int(input(\"N=\"))\n",
    "arr=[randint(1,11) for _ in range(n)]\n",
    "print(arr)\n",
    "k=0\n",
    "for i in range(1,n):\n",
    "    if arr[i-1]>arr[i]:\n",
    "        k+=1\n",
    "if k:\n",
    "    print(k)\n",
    "else:\n",
    "    print(\"bunday son yo`q\")\n",
    "            "
   ]
  },
  {
   "cell_type": "code",
   "execution_count": 6,
   "id": "9e7b1c13",
   "metadata": {},
   "outputs": [
    {
     "name": "stdout",
     "output_type": "stream",
     "text": [
      "N=10\n",
      "[10, 3, 11, 11, 4, 4, 5, 1, 10, 8] [5, 9, 9, 5, 6, 10, 9, 2, 2, 1]\n",
      "[5, 9, 9, 5, 6, 10, 9, 2, 2, 1] [10, 3, 11, 11, 4, 4, 5, 1, 10, 8]\n"
     ]
    }
   ],
   "source": [
    "# array -51)  a va b massivi elementlari qiymatlarini almashtirish\n",
    "from random import randint\n",
    "n=int(input(\"N=\"))\n",
    "a=[randint(1,11) for _ in range(n)]\n",
    "b=[randint(1,11) for _ in range(n)]\n",
    "print(a,b)\n",
    "for i in range(n):\n",
    "    a[i],b[i]=b[i],a[i]\n",
    "print(a,b)"
   ]
  },
  {
   "cell_type": "code",
   "execution_count": null,
   "id": "f2b7f4d8",
   "metadata": {},
   "outputs": [],
   "source": [
    "# Array51 public version\n",
    "a = [1,2,3,4,5]\n",
    "b = [6,7,8,9,0]\n",
    "a,b = b,a\n",
    "print(a,b)"
   ]
  },
  {
   "cell_type": "code",
   "execution_count": 7,
   "id": "874e86c1",
   "metadata": {},
   "outputs": [
    {
     "name": "stdout",
     "output_type": "stream",
     "text": [
      "N=10\n",
      "[3, 2, 3, 3, 8, 11, 4, 10, 3, 2]\n",
      "[1.5, 1.0, 1.5, 1.5, 16, 22, 2.0, 20, 1.5, 1.0]\n"
     ]
    }
   ],
   "source": [
    "#array -52)  agar a[i]>5 , b[i]=2*a[i], aks holda b[i]=a[i]/2\n",
    "from random import randint\n",
    "n=int(input(\"N=\"))\n",
    "b=[]\n",
    "a=[randint(1,11) for _ in range(n)]\n",
    "print(a)\n",
    "for i in range(n):\n",
    "    if a[i]>5:\n",
    "        b.append(2*a[i])\n",
    "    else:\n",
    "        b.append(a[i]/2)\n",
    "print(b)"
   ]
  },
  {
   "cell_type": "raw",
   "id": "fb162a43",
   "metadata": {},
   "source": []
  },
  {
   "cell_type": "code",
   "execution_count": 4,
   "id": "844d08c2",
   "metadata": {},
   "outputs": [
    {
     "name": "stdout",
     "output_type": "stream",
     "text": [
      "N=10\n",
      "[2, 10, 10, 10, 2, 4, 10, 3, 4, 8] [5, 10, 7, 4, 1, 5, 7, 4, 4, 1]\n",
      "[5, 10, 10, 10, 2, 5, 10, 4, 4, 8]\n"
     ]
    }
   ],
   "source": [
    "# array -53)  a va b massivi ber-n c massiv hos qilish, c[i]=max(a[i],b[i])\n",
    "from random import randint\n",
    "n=int(input(\"N=\"))\n",
    "a=[randint(1,11) for _ in range(n)]\n",
    "b=[randint(1,11) for _ in range(n)]\n",
    "print(a,b);c=[]\n",
    "for i in range(n):\n",
    "    c.append(max(a[i],b[i]))\n",
    "print(c)"
   ]
  },
  {
   "cell_type": "code",
   "execution_count": 8,
   "id": "8f371bda",
   "metadata": {},
   "outputs": [
    {
     "name": "stdout",
     "output_type": "stream",
     "text": [
      "N=10\n",
      "[11, 1, 6, 1, 7, 3, 10, 1, 9, 8]\n",
      "[6, 10, 8]\n"
     ]
    }
   ],
   "source": [
    "# array -54) a massiv juft elem laridan b massiv \n",
    "from random import randint\n",
    "n=int(input(\"N=\"))\n",
    "a=[randint(1,11) for _ in range(n)]\n",
    "b=[]\n",
    "print(a)\n",
    "for i in range(n):\n",
    "    if a[i]%2==0:\n",
    "        b.append(a[i])\n",
    "print(b)"
   ]
  },
  {
   "cell_type": "code",
   "execution_count": 10,
   "id": "aa1edb2a",
   "metadata": {},
   "outputs": [
    {
     "name": "stdout",
     "output_type": "stream",
     "text": [
      "N=10\n",
      "[9, 4, 1, 11, 5, 9, 6, 5, 1, 2]\n",
      "[4, 11, 9, 5, 2]\n"
     ]
    }
   ],
   "source": [
    "# array -55) a ni toq indeksi b massivi\n",
    "from random import randint\n",
    "n=int(input(\"N=\"))\n",
    "a=[randint(1,11) for _ in range(n)]\n",
    "print(a)\n",
    "b=[]\n",
    "for i in a[1::2]:\n",
    "    b.append(i)\n",
    "print(b)"
   ]
  },
  {
   "cell_type": "code",
   "execution_count": 12,
   "id": "0f7ef711",
   "metadata": {},
   "outputs": [
    {
     "name": "stdout",
     "output_type": "stream",
     "text": [
      "N=10\n",
      "[9, 9, 2, 4, 8, 4, 2, 7, 2, 1]\n",
      "[4, 2, 1]\n"
     ]
    }
   ],
   "source": [
    "# array -56) 3 ga karrrali indeksli b massiv\n",
    "from random import randint\n",
    "n=int(input(\"N=\"))\n",
    "a=[randint(1,11) for _ in range(n)]\n",
    "print(a)\n",
    "b=[]\n",
    "for i in a[3::3]:\n",
    "    b.append(i)\n",
    "print(b)"
   ]
  },
  {
   "cell_type": "code",
   "execution_count": 13,
   "id": "6519b1c9",
   "metadata": {},
   "outputs": [
    {
     "name": "stdout",
     "output_type": "stream",
     "text": [
      "N=10\n",
      "[4, 10, 2, 1, 7, 3, 7, 10, 1, 7]\n",
      "[2, 7, 7, 1, 10, 1, 3, 10, 7]\n"
     ]
    }
   ],
   "source": [
    "# array -57) avval juft keyin toq elem\n",
    "from random import randint\n",
    "n=int(input(\"N=\"))\n",
    "a=[randint(1,11) for _ in range(n)]\n",
    "print(a)\n",
    "b=[]\n",
    "for i in a[2::2]:\n",
    "    b.append(i)\n",
    "for i in a[1::2]:\n",
    "    b.append(i)\n",
    "print(b)"
   ]
  },
  {
   "cell_type": "code",
   "execution_count": null,
   "id": "1a1bba37",
   "metadata": {},
   "outputs": [],
   "source": [
    "# Array57  public version\n",
    "n = int(input(\"n = \"))\n",
    "a = [randint(1,11) for i in range(n)]\n",
    "print(a)\n",
    "b = a[::2] + a[1::2]\n",
    "print(b)"
   ]
  },
  {
   "cell_type": "code",
   "execution_count": 14,
   "id": "25144aa3",
   "metadata": {},
   "outputs": [
    {
     "name": "stdout",
     "output_type": "stream",
     "text": [
      "N=10\n",
      "[1, 7, 3, 2, 8, 11, 11, 6, 10, 10]\n",
      "[1, 8, 11, 13, 21, 32, 43, 49, 59, 69]\n"
     ]
    }
   ],
   "source": [
    "# array -58) avval juft keyin toq elem\n",
    "from random import randint\n",
    "n=int(input(\"N=\"))\n",
    "a=[randint(1,11) for _ in range(n)]\n",
    "print(a)\n",
    "b=[];s=0\n",
    "for i in a:\n",
    "    s+=i\n",
    "    b.append(s)\n",
    "print(b)"
   ]
  },
  {
   "cell_type": "code",
   "execution_count": 15,
   "id": "36b66697",
   "metadata": {},
   "outputs": [
    {
     "name": "stdout",
     "output_type": "stream",
     "text": [
      "N=10\n",
      "[2, 3, 1, 10, 6, 11, 6, 5, 4, 3]\n",
      "[1.0, 1.6666666666666667, 6.0, 1.6, 3.6666666666666665, 3.0, 6.5, 8.8, 12.0, 17.0]\n"
     ]
    }
   ],
   "source": [
    "# array -59) b[k]=(a[0]+..a[k])/k\n",
    "from random import randint\n",
    "n=int(input(\"N=\"))\n",
    "a=[randint(1,11) for _ in range(n)]\n",
    "print(a)\n",
    "b=[];s=0\n",
    "for i in a:\n",
    "    s+=i\n",
    "    k=s/i\n",
    "    b.append(k)\n",
    "print(b)"
   ]
  },
  {
   "cell_type": "code",
   "execution_count": 18,
   "id": "08e0f752",
   "metadata": {},
   "outputs": [
    {
     "name": "stdout",
     "output_type": "stream",
     "text": [
      "N=10\n",
      "[9, 8, 8, 10, 2, 5, 7, 1, 6, 5]\n",
      "[61, 52, 44, 36, 26, 24, 19, 12, 11, 5]\n"
     ]
    }
   ],
   "source": [
    "# array -60) b[k]=a[k]+...+a[n-1]\n",
    "from random import randint\n",
    "n=int(input(\"N=\"))\n",
    "a=[randint(1,11) for _ in range(n)]\n",
    "print(a)\n",
    "b=[];s=0\n",
    "for i in a[::-1]:\n",
    "    s+=i\n",
    "    b.insert(0,s)\n",
    "print(b)"
   ]
  },
  {
   "cell_type": "code",
   "execution_count": null,
   "id": "d3172b6e",
   "metadata": {},
   "outputs": [],
   "source": [
    "#Array 60  public version\n",
    "n = int(input(\"n = \"))\n",
    "a = [randint(1,11) for i in range(n)]\n",
    "print(a)\n",
    "b = []\n",
    "for i in range(n):\n",
    "    b.append(sum(a[i:]))    \n",
    "print(b)"
   ]
  },
  {
   "cell_type": "code",
   "execution_count": 20,
   "id": "aea183f8",
   "metadata": {},
   "outputs": [
    {
     "name": "stdout",
     "output_type": "stream",
     "text": [
      "N=10\n",
      "[2, 7, 10, 11, 5, 11, 2, 11, 5, 5]\n",
      "[6.9, 7.444444444444445, 7.5, 7.142857142857143, 6.5, 6.8, 5.75, 7.0, 5.0, 5.0]\n"
     ]
    }
   ],
   "source": [
    "# array -61) b[k]=a[k]+...+a[n-1]\n",
    "from random import randint\n",
    "n=int(input(\"N=\"))\n",
    "a=[randint(1,11) for _ in range(n)]\n",
    "print(a)\n",
    "b=[];s=0; j=0\n",
    "for i in a[::-1]:\n",
    "    s+=i\n",
    "    j+=1    \n",
    "    b.insert(0,s/j)\n",
    "print(b)"
   ]
  },
  {
   "cell_type": "code",
   "execution_count": 23,
   "id": "1d018d1e",
   "metadata": {},
   "outputs": [
    {
     "name": "stdout",
     "output_type": "stream",
     "text": [
      "N=10\n",
      "[-3, 6, -2, -6, 10, -9, 5, -5, 5, -8]\n",
      "[6, 10, 5, 5] 4 [-3, -2, -6, -9, -5, -8] 6\n"
     ]
    }
   ],
   "source": [
    "# array -62) b[k]=a[k]+...+a[n-1]\n",
    "from random import randint\n",
    "n=int(input(\"N=\"))\n",
    "a=[randint(-11,11) for _ in range(n)]\n",
    "print(a)\n",
    "b=[];c=[];\n",
    "for i in a:\n",
    "    if i>0:\n",
    "        b.append(i)        \n",
    "    elif i<0:\n",
    "        c.append(i)\n",
    "print(b,\"soni=\",len(b))\n",
    "print(c,len(c))"
   ]
  },
  {
   "cell_type": "code",
   "execution_count": 5,
   "id": "d6a13ca0",
   "metadata": {},
   "outputs": [
    {
     "name": "stdout",
     "output_type": "stream",
     "text": [
      "[8, 3, 11, 8, 9] [6, 8, 2, 9, 9]\n",
      "[2, 3, 6, 8, 8, 8, 9, 9, 9, 11]\n"
     ]
    }
   ],
   "source": [
    "# array -63) 5 ta elem dan iborat a va b massiv berilgan,c massiv o`sish tartibida\n",
    "from random import randint\n",
    "a=[randint(1,11) for _ in range(5)]\n",
    "b=[randint(1,11) for _ in range(5)]\n",
    "c.extend(a)\n",
    "c.extend(b)\n",
    "c.sort()\n",
    "print(c)"
   ]
  },
  {
   "cell_type": "code",
   "execution_count": 11,
   "id": "4f0a9751",
   "metadata": {},
   "outputs": [
    {
     "name": "stdout",
     "output_type": "stream",
     "text": [
      "n=10\n",
      "[9, 10, 5, 9, 1, 10, 4, 1, 10, 6, 4, 2, 11, 10, 6, 7, 11, 7, 7, 8, 3, 11, 11, 3, 6, 9, 11, 5, 7, 1]\n",
      "[1, 1, 1, 2, 3, 3, 4, 4, 5, 5, 6, 6, 6, 7, 7, 7, 7, 8, 9, 9, 9, 10, 10, 10, 10, 11, 11, 11, 11, 11]\n"
     ]
    }
   ],
   "source": [
    "\n",
    "from random import randint\n",
    "def bubble_sort(array):\n",
    "    n = len(array)\n",
    "    for i in range(n):\n",
    "        # Начните просматривать каждый элемент списка один за другим,\n",
    "        # сравнивая его с соседним значением. С каждым\n",
    "        # итерация, часть массива, на которую вы смотрите\n",
    "        # сжимается, потому что остальные элементы уже были\n",
    "        # отсортировано.\n",
    "        for j in range(n - i - 1):\n",
    "            # Создать флаг, который позволит функции\n",
    "            # преждевременно завершить работу, если нечего сортировать\n",
    "            already_sorted = True\n",
    "            if array[j] > array[j + 1]:\n",
    "                # Если объект, на который вы смотрите, больше, чем его\n",
    "                # соседнее значение, затем поменяйте их местами\n",
    "                array[j], array[j + 1] = array[j + 1], array[j]\n",
    "                # Поскольку вам пришлось поменять местами два элемента,\n",
    "                # устанавливаем флаг ʻalready_sorted` на `False`, чтобы\n",
    "                # алгоритм не завершается преждевременно\n",
    "                already_sorted = False\n",
    "        # Если на последней итерации не было свопов,\n",
    "        # массив уже отсортирован, и вы можете завершить\n",
    "        if already_sorted:\n",
    "            break\n",
    "    return array\n",
    "def insertion_sort(array):\n",
    "    # Цикл от второго элемента массива до\n",
    "    # последний элемент\n",
    "    for i in range(1, len(array)):\n",
    "        # Это элемент, который мы хотим разместить в\n",
    "        # правильное место\n",
    "        key_item = array[i]\n",
    "        # Инициализировать переменную, которая будет использоваться для\n",
    "        # найти правильную позицию указанного элемента\n",
    "        # `key_item`\n",
    "        j = i - 1\n",
    "        # Просмотрите список элементов (слева\n",
    "        # часть массива) и найдите правильную позицию\n",
    "        # элемента, на который ссылается `key_item`. Сделай это только\n",
    "        # если key_item меньше соседних значений.\n",
    "        while j >= 0 and array[j] > key_item:\n",
    "            # Сдвинуть значение на одну позицию влево\n",
    "            # и переместите j, чтобы указать на следующий элемент\n",
    "            # (справа налево)\n",
    "            array[j + 1] = array[j]\n",
    "            j -= 1\n",
    "        # Когда вы закончите сдвигать элементы, вы можете расположить\n",
    "        # `key_item` в правильном месте\n",
    "        array[j + 1] = key_item\n",
    "    return array\n",
    "n=int(input(\"n=\"))\n",
    "a=[randint(1,11) for _ in range(n)]\n",
    "b=[randint(1,11) for _ in range(n)]\n",
    "c=[randint(1,11) for _ in range(n)]\n",
    "d=[]\n",
    "d.extend(a)\n",
    "d.extend(b)\n",
    "d.extend(c)\n",
    "print(d)\n",
    "insertion_sort(d)\n",
    "print(d)\n",
    "def sorting(array):\n",
    "    for i in range(1,len(array)):\n",
    "        i_son=array[i]\n",
    "        j=i-1\n",
    "        while j>=0 and array[j]>i_son:            \n",
    "            array[j+1]=array[j]\n",
    "            j-=1\n",
    "        array[j+1]=i_son\n",
    "    return array           \n",
    "    \n",
    "    "
   ]
  },
  {
   "cell_type": "code",
   "execution_count": 23,
   "id": "6652c5a7",
   "metadata": {},
   "outputs": [
    {
     "name": "stdout",
     "output_type": "stream",
     "text": [
      "n=10\n",
      "[-7, 6, -4, 7, -8, 0, 2, 5, 9, 8, 0, -4, 2, -11, 10, 4, 10, 2, 4, 4, 11, 2, -11, 4, 4, 1, 3, 0, -4, -11]\n",
      "[-11, -11, -11, -8, -7, -4, -4, -4, 0, 0, 0, 1, 2, 2, 2, 2, 3, 4, 4, 4, 4, 4, 5, 6, 7, 8, 9, 10, 10, 11]\n"
     ]
    }
   ],
   "source": [
    "# array -64) 3 ta massivni qo`shib tartiblash\n",
    "from random import randint\n",
    "n=int(input(\"n=\"))\n",
    "a=[randint(-11,11) for _ in range(n)]\n",
    "b=[randint(-11,11) for _ in range(n)]\n",
    "c=[randint(-11,11) for _ in range(n)]\n",
    "d=[]\n",
    "d.extend(a)\n",
    "d.extend(b)\n",
    "d.extend(c)\n",
    "print(d)\n",
    "for i in range(1,3*n):\n",
    "    i_son=d[i]\n",
    "    j=i-1\n",
    "    while j>=0 and d[j]>i_son:            \n",
    "        d[j+1]=d[j]\n",
    "        j-=1\n",
    "    d[j+1]=i_son\n",
    "print(d)"
   ]
  },
  {
   "cell_type": "code",
   "execution_count": 21,
   "id": "45f78304",
   "metadata": {},
   "outputs": [
    {
     "name": "stdout",
     "output_type": "stream",
     "text": [
      "n=10\n",
      "k=2\n",
      "[-5, -14, -10, -10, -1, 1, -15, -10, 4, 2]\n"
     ]
    }
   ],
   "source": [
    "# array -65) a massiv va k soni berilgan massiv har bir el.ini a[k] ga orttiruvchi\n",
    "from random import randint\n",
    "n=int(input(\"n=\"))\n",
    "k=int(input(\"k=\"))\n",
    "a=[randint(-11,11) for _ in range(n)]\n",
    "b=a[k]\n",
    "for i in range(n):\n",
    "    a[i]=a[i]+b\n",
    "print(a)"
   ]
  },
  {
   "cell_type": "code",
   "execution_count": 27,
   "id": "75f32132",
   "metadata": {},
   "outputs": [
    {
     "name": "stdout",
     "output_type": "stream",
     "text": [
      "n=10\n",
      "[8, -1, 0, 0, -6, 1, -3, -9, 9, -1]\n",
      "[16, -1, 0, 0, 2, 1, -3, -9, 9, -1]\n"
     ]
    }
   ],
   "source": [
    "# array -66) a massiv har bir juft sonni birinchi uchragan juft songa orttiruvchi\n",
    "from random import randint\n",
    "n=int(input(\"n=\"))\n",
    "a=[randint(-11,11) for _ in range(n)]\n",
    "print(a);b=False\n",
    "for i in a:\n",
    "    if i%2==0 and i!=0:\n",
    "        b=i\n",
    "        break\n",
    "if b:\n",
    "    for i in range(n):\n",
    "        if a[i]%2==0 and a[i]!=0:\n",
    "            a[i]=a[i]+b\n",
    "print(a)\n"
   ]
  },
  {
   "cell_type": "code",
   "execution_count": 29,
   "id": "20ffca2f",
   "metadata": {},
   "outputs": [
    {
     "name": "stdout",
     "output_type": "stream",
     "text": [
      "n=10\n",
      "[1, 4, -3, -9, 8, -5, -3, -11, -6, 1]\n",
      "[2, 4, -2, -8, 8, -4, -2, -10, -6, 2]\n"
     ]
    }
   ],
   "source": [
    "# array -67) toq sonlarni oxirgi toq songa orttirish\n",
    "from random import randint\n",
    "n=int(input(\"n=\"))\n",
    "a=[randint(-11,11) for _ in range(n)]\n",
    "print(a);b=False\n",
    "for i in a[::-1]:\n",
    "    if i%2==1:\n",
    "        b=i\n",
    "        break\n",
    "if b:\n",
    "    for i in range(n):\n",
    "        if a[i]%2==1:\n",
    "            a[i]=a[i]+b\n",
    "print(a)"
   ]
  },
  {
   "cell_type": "code",
   "execution_count": 30,
   "id": "3ca2f408",
   "metadata": {},
   "outputs": [
    {
     "name": "stdout",
     "output_type": "stream",
     "text": [
      "n=10\n",
      "[0, -10, -10, -4, 3, 10, -8, -4, 1, 11]\n",
      "[0, 11, -10, -4, 3, 10, -8, -4, 1, -10]\n"
     ]
    }
   ],
   "source": [
    "# array -68) eng katta va kichik elementlari o`rni almashtirilsin\n",
    "from random import randint\n",
    "n=int(input(\"n=\"))\n",
    "a=[randint(-11,11) for _ in range(n)]\n",
    "print(a)\n",
    "maxi=mini=0\n",
    "for i in range(n):\n",
    "    if a[i]>a[maxi]:\n",
    "        maxi=i\n",
    "    if a[i]<a[mini]:\n",
    "        mini=i\n",
    "a[maxi],a[mini]=a[mini],a[maxi]\n",
    "print(a)\n",
    "    "
   ]
  },
  {
   "cell_type": "code",
   "execution_count": null,
   "id": "50481cf1",
   "metadata": {},
   "outputs": [],
   "source": [
    "# Array 68  public version\n",
    "n = int(input(\"n = \"))\n",
    "a = [randint(1,9) for i in range(n)]\n",
    "print(a)\n",
    "mini_index = a.index(min(a))\n",
    "maxi_index = a.index(max(a))\n",
    "a[mini_index], a[maxi_index] = a[maxi_index], a[mini_index]\n",
    "print(a)"
   ]
  },
  {
   "cell_type": "code",
   "execution_count": 31,
   "id": "76afd2e6",
   "metadata": {},
   "outputs": [
    {
     "name": "stdout",
     "output_type": "stream",
     "text": [
      "n=10\n",
      "[-6, 5, 7, -8, 10, 3, -10, 6, -7, -9]\n",
      "[5, 7, -8, 10, 3, -10, 6, -7, -9, -6]\n"
     ]
    }
   ],
   "source": [
    "# array -69) nolinchi bilan birinchi,ikkinchi bilan uchinchi,...almashtirilsin\n",
    "from random import randint\n",
    "n=int(input(\"n=\"))\n",
    "a=[randint(-11,11) for _ in range(n)]\n",
    "print(a)\n",
    "for i in range(1,n):\n",
    "    a[i-1],a[i]=a[i],a[i-1]\n",
    "print(a)"
   ]
  },
  {
   "cell_type": "code",
   "execution_count": 35,
   "id": "8c748206",
   "metadata": {},
   "outputs": [
    {
     "name": "stdout",
     "output_type": "stream",
     "text": [
      "n=10\n",
      "[-6, 4, 1, 11, 3, -2, 7, 8, -2, 9]\n",
      "[-2, 7, 8, -2, 9, -6, 4, 1, 11, 3]\n"
     ]
    }
   ],
   "source": [
    "# array -70)  massiv birinchi va ikkinchi yarmi qiymatlari almashtirilsin\n",
    "from random import randint\n",
    "n=int(input(\"n=\"))\n",
    "a=[randint(-11,11) for _ in range(n)]\n",
    "print(a)\n",
    "for i in range(n//2):\n",
    "    a[i],a[i+n-n//2]=a[i+n-n//2],a[i]\n",
    "print(a)"
   ]
  },
  {
   "cell_type": "code",
   "execution_count": null,
   "id": "19b451b0",
   "metadata": {},
   "outputs": [],
   "source": [
    "# Array 70  public version\n",
    "n = int(input(\"n = \"))\n",
    "a = [randint(1,9) for i in range(n)]\n",
    "print(a)\n",
    "for i in range(n//2):\n",
    "    a[i],a[n//2+i] = a[n//2+i],a[i]\n",
    "print(a)\n"
   ]
  },
  {
   "cell_type": "code",
   "execution_count": null,
   "id": "fef5155a",
   "metadata": {},
   "outputs": [],
   "source": []
  }
 ],
 "metadata": {
  "kernelspec": {
   "display_name": "Python 3 (ipykernel)",
   "language": "python",
   "name": "python3"
  },
  "language_info": {
   "codemirror_mode": {
    "name": "ipython",
    "version": 3
   },
   "file_extension": ".py",
   "mimetype": "text/x-python",
   "name": "python",
   "nbconvert_exporter": "python",
   "pygments_lexer": "ipython3",
   "version": "3.8.10"
  }
 },
 "nbformat": 4,
 "nbformat_minor": 5
}
