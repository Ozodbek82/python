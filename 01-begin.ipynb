{
 "cells": [
  {
   "cell_type": "code",
   "execution_count": 5,
   "id": "0b2510a9",
   "metadata": {},
   "outputs": [
    {
     "name": "stdout",
     "output_type": "stream",
     "text": [
      "kvadrat tomonini kiriting:1.5\n",
      "perimetri: 6.0\n"
     ]
    }
   ],
   "source": [
    "# begin 1\n",
    "a=float(input(\"kvadrat tomonini kiriting:\"))\n",
    "p=a*4\n",
    "print(\"perimetri:\",p)\n"
   ]
  },
  {
   "cell_type": "code",
   "execution_count": 7,
   "id": "a1e66843",
   "metadata": {},
   "outputs": [
    {
     "name": "stdout",
     "output_type": "stream",
     "text": [
      "kvadrat tomonini kiriting:5\n",
      "yuzasi: 25.0\n"
     ]
    }
   ],
   "source": [
    "\n",
    "#begin 2\n",
    "a=float(input(\"kvadrat tomonini kiriting:\"))\n",
    "s=a**2\n",
    "print('yuzasi:',s)"
   ]
  },
  {
   "cell_type": "code",
   "execution_count": 9,
   "id": "2db22c22",
   "metadata": {},
   "outputs": [
    {
     "name": "stdout",
     "output_type": "stream",
     "text": [
      "to`rtmurchak tomonini kiriting:10\n",
      "to`rtmurchak tomonini kiriting:15\n",
      "to`rtburchakning yuzasi: 150.0   perimetri: 50.0\n"
     ]
    }
   ],
   "source": [
    "#begin 3\n",
    "a=float(input(\"to`rtmurchak tomonini kiriting:\"))\n",
    "b=float(input(\"to`rtmurchak tomonini kiriting:\"))\n",
    "s=a*b\n",
    "p=(a+b)*2\n",
    "print(\"to`rtburchakning yuzasi:\",s,\"  perimetri:\",p)\n"
   ]
  },
  {
   "cell_type": "code",
   "execution_count": 10,
   "id": "54cb0852",
   "metadata": {},
   "outputs": [
    {
     "name": "stdout",
     "output_type": "stream",
     "text": [
      "aylanani diametrini kiriting:1\n",
      "aylanani uzunligi: 3.14\n"
     ]
    }
   ],
   "source": [
    "#begin4\n",
    "d=float(input(\"aylanani diametrini kiriting:\"))\n",
    "pi=3.14\n",
    "l=pi*d\n",
    "print('aylanani uzunligi:',l)"
   ]
  },
  {
   "cell_type": "code",
   "execution_count": 11,
   "id": "3351fff9",
   "metadata": {},
   "outputs": [
    {
     "name": "stdout",
     "output_type": "stream",
     "text": [
      "kub tomonini kiriting:2\n",
      "kubning hajmi: 8.0   yuzasi: 24.0\n"
     ]
    }
   ],
   "source": [
    "#begin 5\n",
    "a=float(input(\"kub tomonini kiriting:\"))\n",
    "v=a**3\n",
    "s=(a**2)*6\n",
    "print('kubning hajmi:',v,\"  yuzasi:\",s)\n",
    "\n"
   ]
  },
  {
   "cell_type": "code",
   "execution_count": 12,
   "id": "7dbc764a",
   "metadata": {},
   "outputs": [
    {
     "name": "stdout",
     "output_type": "stream",
     "text": [
      "paralelepeidni tomonini kiriting:2\n",
      "paralelepeidni tomonini kiriting:3\n",
      "paralelepeidni tomonini kiriting:2\n",
      "p...ipedni hajmi: 12.0   yuzasi: 32.0\n"
     ]
    }
   ],
   "source": [
    "#begin 6\n",
    "a=float(input(\"paralelepeidni tomonini kiriting:\"))\n",
    "b=float(input(\"paralelepeidni tomonini kiriting:\"))\n",
    "c=float(input(\"paralelepeidni tomonini kiriting:\"))\n",
    "v=a*b*c\n",
    "s=(a*b+b*c+a*c)*2\n",
    "print(\"p...ipedni hajmi:\",v,\"  yuzasi:\",s)\n"
   ]
  },
  {
   "cell_type": "code",
   "execution_count": 13,
   "id": "d2cc592f",
   "metadata": {},
   "outputs": [
    {
     "name": "stdout",
     "output_type": "stream",
     "text": [
      "doirani radiusini kiriting:1\n",
      "doirani yuzasi: 3.14   uzunligi: 6.28\n"
     ]
    }
   ],
   "source": [
    "#begin 7\n",
    "r=float(input(\"doirani radiusini kiriting:\"))\n",
    "pi=3.14\n",
    "s=pi*(r**2)\n",
    "l=2*pi*r\n",
    "print(\"doirani yuzasi:\",s,\"  uzunligi:\",l)\n",
    "\n"
   ]
  },
  {
   "cell_type": "code",
   "execution_count": 14,
   "id": "fea7bd39",
   "metadata": {},
   "outputs": [
    {
     "name": "stdout",
     "output_type": "stream",
     "text": [
      "sonni kiriting:8\n",
      "sonni kiriting:12\n",
      "o`rta arifmetigi: 10.0\n"
     ]
    }
   ],
   "source": [
    "#begin 8\n",
    "a=float(input(\"sonni kiriting:\"))\n",
    "b=float(input(\"sonni kiriting:\"))\n",
    "ar=(a+b)/2\n",
    "print(\"o`rta arifmetigi:\",ar)"
   ]
  },
  {
   "cell_type": "code",
   "execution_count": 15,
   "id": "2ea28bb3",
   "metadata": {},
   "outputs": [
    {
     "name": "stdout",
     "output_type": "stream",
     "text": [
      "sonni kiriting:2\n",
      "sonni kiriting:3\n",
      "geometrigi: 2.449489742783178\n"
     ]
    }
   ],
   "source": [
    "#begin 9\n",
    "a=float(input(\"sonni kiriting:\"))\n",
    "b=float(input(\"sonni kiriting:\"))\n",
    "ge=(a*b)**(0.5)\n",
    "print(\"geometrigi:\",ge)\n"
   ]
  },
  {
   "cell_type": "code",
   "execution_count": 16,
   "id": "ab4a4c39",
   "metadata": {},
   "outputs": [
    {
     "name": "stdout",
     "output_type": "stream",
     "text": [
      "1-sonni kiriting:2\n",
      "2-sonni kiriting:3\n",
      "sonlarni yigindisi: 5.0  kopaytmasi: 6.0   birinchi sonni kvadrati: 4.0   ikkinchi sonni kvadrati: 9.0\n"
     ]
    }
   ],
   "source": [
    "#begin 10\n",
    "a=float(input(\"1-sonni kiriting:\"))\n",
    "b=float(input(\"2-sonni kiriting:\"))\n",
    "p=a+b;s=a*b;k1=a**2;k2=b**2\n",
    "print(\"sonlarni yigindisi:\",p,\" kopaytmasi:\",s,\"  birinchi sonni kvadrati:\",k1,\"  ikkinchi sonni kvadrati:\",k2)"
   ]
  },
  {
   "cell_type": "code",
   "execution_count": 18,
   "id": "477f20d1",
   "metadata": {},
   "outputs": [
    {
     "name": "stdout",
     "output_type": "stream",
     "text": [
      "1-sonni kiriting:-2\n",
      "2-sonni kiriting:3\n",
      "sonlarni yigindisi: 1.0  kopaytmasi: -6.0   birinchi sonni moduli: 2.0   ikkinchi sonni moduli: 3.0\n"
     ]
    }
   ],
   "source": [
    "#begin 11\n",
    "a=float(input(\"1-sonni kiriting:\"))\n",
    "b=float(input(\"2-sonni kiriting:\"))\n",
    "p=a+b;s=a*b;m1=abs(a);m2=abs(b)\n",
    "print(\"sonlarni yigindisi:\",p,\" kopaytmasi:\",s,\"  birinchi sonni moduli:\",m1,\"  ikkinchi sonni moduli:\",m2)"
   ]
  },
  {
   "cell_type": "code",
   "execution_count": 22,
   "id": "bb7b26a0",
   "metadata": {},
   "outputs": [
    {
     "name": "stdout",
     "output_type": "stream",
     "text": [
      "1-katetni kiriting:3\n",
      "2-katetni kiriting:4\n",
      "gipotenuza: 5.0 perimetri: 12.0\n"
     ]
    }
   ],
   "source": [
    "#begin 12\n",
    "a=float(input(\"1-katetni kiriting:\"))\n",
    "b=float(input(\"2-katetni kiriting:\"))\n",
    "c=(a**2+b**2)**(1/2)\n",
    "p=a+b+c\n",
    "print(\"gipotenuza:\",c,\"perimetri:\",p)"
   ]
  },
  {
   "cell_type": "code",
   "execution_count": 24,
   "id": "d62fb770",
   "metadata": {},
   "outputs": [
    {
     "name": "stdout",
     "output_type": "stream",
     "text": [
      "1-radiusni kiriting:6\n",
      "2-radiusni kiriting:2\n",
      "birinchi aylana yuzasi: 18.84  ikkinchi aylana yuzasi: 6.28  farqi: 4.0\n"
     ]
    }
   ],
   "source": [
    "#begin 13\n",
    "r1=float(input(\"1-radiusni kiriting:\"))\n",
    "r2=float(input(\"2-radiusni kiriting:\"))\n",
    "pi=3.14\n",
    "s1=r1*pi; s2=r2*pi; s3=r1-r2\n",
    "print(\"birinchi aylana yuzasi:\",s1,\" ikkinchi aylana yuzasi:\",s2,\" farqi:\",s3)"
   ]
  },
  {
   "cell_type": "code",
   "execution_count": 26,
   "id": "513e9ef3",
   "metadata": {},
   "outputs": [
    {
     "name": "stdout",
     "output_type": "stream",
     "text": [
      "aylana uzunligini kiriting:9\n",
      "aylana radiusi: 1.4331210191082802 yuzasi: 6.449044585987261\n"
     ]
    }
   ],
   "source": [
    "#begin 14\n",
    "l=float(input(\"aylana uzunligini kiriting:\"))\n",
    "pi=3.14\n",
    "r=l/(2*pi)\n",
    "s=pi*(r**2)\n",
    "print(\"aylana radiusi:\",r,\"yuzasi:\",s)"
   ]
  },
  {
   "cell_type": "code",
   "execution_count": 27,
   "id": "c1e57b36",
   "metadata": {},
   "outputs": [
    {
     "name": "stdout",
     "output_type": "stream",
     "text": [
      "aylana yuzasini kiriting:100\n",
      "aylana radiusi: 5.643326479831003   diametri: 11.286652959662007\n"
     ]
    }
   ],
   "source": [
    "# begin 15\n",
    "s=float(input(\"aylana yuzasini kiriting:\"))\n",
    "r=(s/pi)**(1/2)\n",
    "l=2*r\n",
    "print(\"aylana radiusi:\",r,\"  diametri:\",l)\n",
    "\n"
   ]
  },
  {
   "cell_type": "code",
   "execution_count": 28,
   "id": "42815c8a",
   "metadata": {},
   "outputs": [
    {
     "name": "stdout",
     "output_type": "stream",
     "text": [
      "1-nuqtani kiriting:12\n",
      "2-nuqtani kiriting:18\n",
      "farqi: 6.0\n"
     ]
    }
   ],
   "source": [
    "# begin 16\n",
    "x1=float(input(\"1-nuqtani kiriting:\"))\n",
    "x2=float(input(\"2-nuqtani kiriting:\"))\n",
    "f=abs(x2-x1)\n",
    "print(\"farqi:\",f)"
   ]
  },
  {
   "cell_type": "code",
   "execution_count": 42,
   "id": "785b8c18",
   "metadata": {},
   "outputs": [
    {
     "name": "stdout",
     "output_type": "stream",
     "text": [
      "1-nuqtani kiriting:1\n",
      "2-nuqtani kiriting:3\n",
      "3-nuqtani kiriting:5\n",
      "javob: 4.0\n"
     ]
    }
   ],
   "source": [
    "# begin 17\n",
    "x1=float(input(\"1-nuqtani kiriting:\"))\n",
    "x2=float(input(\"2-nuqtani kiriting:\"))\n",
    "x3=float(input(\"3-nuqtani kiriting:\"))\n",
    "f=abs(x2-x1)+abs(x3-x2)\n",
    "print(\"javob:\",f)\n"
   ]
  },
  {
   "cell_type": "code",
   "execution_count": 41,
   "id": "d653b13e",
   "metadata": {},
   "outputs": [
    {
     "name": "stdout",
     "output_type": "stream",
     "text": [
      "1-nuqta x kiriting:1\n",
      "1-nuqta y kiriting:2\n",
      "2-nuqta x kiriting:2\n",
      "2-nuqta y kiriting:3\n",
      "3-nuqta x kiriting:4\n",
      "3-nuqta x kiriting:5\n",
      "yuzasi: 37.94733192202057  perimetri: 8.485281374238571\n"
     ]
    }
   ],
   "source": []
  },
  {
   "cell_type": "code",
   "execution_count": 43,
   "id": "d1ad471d",
   "metadata": {},
   "outputs": [
    {
     "name": "stdout",
     "output_type": "stream",
     "text": [
      "1-nuqtani kiriting:1\n",
      "2-nuqtani kiriting:3\n",
      "3-nuqtani kiriting:7\n",
      "javob: 8.0\n"
     ]
    }
   ],
   "source": [
    "# begin 18\n",
    "x1=float(input(\"1-nuqtani kiriting:\"))\n",
    "x2=float(input(\"2-nuqtani kiriting:\"))\n",
    "x3=float(input(\"3-nuqtani kiriting:\"))\n",
    "f=abs(x2-x1)*abs(x3-x2)\n",
    "print(\"javob:\",f)\n"
   ]
  },
  {
   "cell_type": "code",
   "execution_count": 44,
   "id": "bb8a270e",
   "metadata": {},
   "outputs": [
    {
     "name": "stdout",
     "output_type": "stream",
     "text": [
      "x1-koordinatani kiriting:5\n",
      "y1-koordinatani kiriting:2\n",
      "x2-koordinatani kiriting:2\n",
      "y2-koordinatani kiriting:7\n",
      "perimetri: 16   yuzasi: 15\n"
     ]
    }
   ],
   "source": [
    "# begin 19\n",
    "x1=int(input(\"x1-koordinatani kiriting:\"))\n",
    "y1=int(input(\"y1-koordinatani kiriting:\"))\n",
    "x2=int(input(\"x2-koordinatani kiriting:\"))\n",
    "y2=int(input(\"y2-koordinatani kiriting:\"))\n",
    "t1=abs(x2-x1);t2=abs(y2-y1)\n",
    "p=(t1+t2)*2\n",
    "s=t1*t2\n",
    "print(\"perimetri:\",p,\"  yuzasi:\",s)"
   ]
  },
  {
   "cell_type": "code",
   "execution_count": 47,
   "id": "066cb6b4",
   "metadata": {},
   "outputs": [
    {
     "name": "stdout",
     "output_type": "stream",
     "text": [
      "x1-koordinatani kiriting:5\n",
      "y1-koordinatani kiriting:2\n",
      "x2-koordinatani kiriting:2\n",
      "y2-koordinatani kiriting:7\n",
      "javob: 5.830951894845301\n"
     ]
    }
   ],
   "source": [
    "# begin 20\n",
    "x1=int(input(\"x1-koordinatani kiriting:\"))\n",
    "y1=int(input(\"y1-koordinatani kiriting:\"))\n",
    "x2=int(input(\"x2-koordinatani kiriting:\"))\n",
    "y2=int(input(\"y2-koordinatani kiriting:\"))\n",
    "a=((x2-x1)**2+(y2-y1)**2)**(1/2)\n",
    "print(\"javob:\",a)\n"
   ]
  },
  {
   "cell_type": "code",
   "execution_count": 48,
   "id": "8c54798b",
   "metadata": {},
   "outputs": [
    {
     "name": "stdout",
     "output_type": "stream",
     "text": [
      "1-nuqta x kiriting:5\n",
      "1-nuqta y kiriting:2\n",
      "2-nuqta x kiriting:2\n",
      "2-nuqta y kiriting:7\n",
      "3-nuqta x kiriting:2\n",
      "3-nuqta x kiriting:2\n",
      "yuzasi: 102.87458633180574  perimetri: 13.8309518948453\n"
     ]
    }
   ],
   "source": [
    "# begin 21\n",
    "x1=float(input(\"1-nuqta x kiriting:\"))\n",
    "y1=float(input(\"1-nuqta y kiriting:\"))\n",
    "x2=float(input(\"2-nuqta x kiriting:\"))\n",
    "y2=float(input(\"2-nuqta y kiriting:\"))\n",
    "x3=float(input(\"3-nuqta x kiriting:\"))\n",
    "y3=float(input(\"3-nuqta x kiriting:\"))\n",
    "a=((x2-x1)**2+(y2-y1)**2)**(1/2)\n",
    "b=((x3-x2)**2+(y3-y2)**2)**(1/2)\n",
    "c=((x3-x1)**2+(y3-y1)**2)**(1/2)\n",
    "p=a+b+c\n",
    "s=(p*(p-a)*(p-b)*(p-c))**(1/2)\n",
    "print(\"yuzasi:\",s,\" perimetri:\",p)"
   ]
  },
  {
   "cell_type": "code",
   "execution_count": 50,
   "id": "143c1f87",
   "metadata": {},
   "outputs": [
    {
     "name": "stdout",
     "output_type": "stream",
     "text": [
      "a= 12  b= 5\n"
     ]
    }
   ],
   "source": [
    "# begin 22\n",
    "a=5; b=12\n",
    "c=a;a=b;b=c\n",
    "print(\"a=\",a,\" b=\",b)\n"
   ]
  },
  {
   "cell_type": "code",
   "execution_count": 51,
   "id": "4640dd2f",
   "metadata": {},
   "outputs": [
    {
     "name": "stdout",
     "output_type": "stream",
     "text": [
      "a= 4  b= 7  c= 2\n"
     ]
    }
   ],
   "source": [
    "# begin 23\n",
    "a=2;b=4;c=7\n",
    "d=a;a=b;b=c;c=d\n",
    "print(\"a=\",a,\" b=\",b,\" c=\",c)\n"
   ]
  },
  {
   "cell_type": "code",
   "execution_count": 52,
   "id": "d0ae1299",
   "metadata": {},
   "outputs": [
    {
     "name": "stdout",
     "output_type": "stream",
     "text": [
      "a= 7  b= 2  c= 4\n"
     ]
    }
   ],
   "source": [
    "# begin 24\n",
    "a=2;b=4;c=7\n",
    "d=a; a=c; c=b; b=d\n",
    "print(\"a=\",a,\" b=\",b,\" c=\",c)"
   ]
  },
  {
   "cell_type": "code",
   "execution_count": 53,
   "id": "5aceb0da",
   "metadata": {},
   "outputs": [
    {
     "name": "stdout",
     "output_type": "stream",
     "text": [
      " x ni kiriting:5\n",
      "natija= 46718.0\n"
     ]
    }
   ],
   "source": [
    "# begin 25\n",
    "x=float(input(\" x ni kiriting:\"))\n",
    "y=3*x**6-6*x**2-7\n",
    "print(\"natija=\",y)"
   ]
  },
  {
   "cell_type": "code",
   "execution_count": 54,
   "id": "f9490f3b",
   "metadata": {},
   "outputs": [
    {
     "name": "stdout",
     "output_type": "stream",
     "text": [
      " x ni kiriting:10\n",
      "natija= 468197.0\n"
     ]
    }
   ],
   "source": [
    "# begin 26\n",
    "x=float(input(\" x ni kiriting:\"))\n",
    "y=((x-3)**6)*4-((x-3)**3)*7+2\n",
    "print(\"natija=\",y)"
   ]
  },
  {
   "cell_type": "code",
   "execution_count": 56,
   "id": "ef05d934",
   "metadata": {},
   "outputs": [
    {
     "name": "stdout",
     "output_type": "stream",
     "text": [
      " a ni kiriting:2\n",
      "4.0   16.0   256.0\n"
     ]
    }
   ],
   "source": [
    "# begin 27\n",
    "a=float(input(\" a ni kiriting:\"))\n",
    "a2=a**2; a4=a**4; a8=a**8\n",
    "print(a2,\" \",a4,\" \",a8)"
   ]
  },
  {
   "cell_type": "code",
   "execution_count": 57,
   "id": "4b359ddd",
   "metadata": {},
   "outputs": [
    {
     "name": "stdout",
     "output_type": "stream",
     "text": [
      " a ni kiriting:2\n",
      "4.0   8.0   32.0   1024.0   32768.0\n"
     ]
    }
   ],
   "source": [
    "# begin 28\n",
    "a=float(input(\" a ni kiriting:\"))\n",
    "a2=a**2; a3=a**3; a5=a**5; a10=a**10; a15=a**15\n",
    "print(a2,\" \",a3,\" \",a5,\" \",a10,\" \",a15)"
   ]
  },
  {
   "cell_type": "code",
   "execution_count": 71,
   "id": "4249f127",
   "metadata": {},
   "outputs": [
    {
     "name": "stdout",
     "output_type": "stream",
     "text": [
      "gradusni kiriting:180\n",
      "180.0 -gradus  3.14 -radian\n"
     ]
    }
   ],
   "source": [
    "# begin 29\n",
    "a=float(input(\"gradusni kiriting:\"))\n",
    "r=0.0174533 #1 gradus=r\n",
    "rad=a/180*3.14\n",
    "print(a,\"-gradus \",rad,\"-radian\")"
   ]
  },
  {
   "cell_type": "code",
   "execution_count": 65,
   "id": "515ede9b",
   "metadata": {},
   "outputs": [
    {
     "name": "stdout",
     "output_type": "stream",
     "text": [
      "radianni kiriting:1\n",
      "1.0 -radian  57.2958 -gradus\n"
     ]
    }
   ],
   "source": [
    "# begin 30\n",
    "a=float(input(\"radianni kiriting:\"))\n",
    "g=57.2958 #1 gradus=r\n",
    "grad=a*g\n",
    "print(a,\"-radian \",grad,\"-gradus\")"
   ]
  },
  {
   "cell_type": "code",
   "execution_count": 66,
   "id": "d161bcab",
   "metadata": {},
   "outputs": [
    {
     "name": "stdout",
     "output_type": "stream",
     "text": [
      "farangeytni kiriting:100\n",
      "100.0 -farangeyt  37.77777777777778 -gradus\n"
     ]
    }
   ],
   "source": [
    "# begin 31\n",
    "tf=float(input(\"farangeytni kiriting:\"))\n",
    "tg=(tf-32)*5/9\n",
    "print(tf,\"-farangeyt \",tg,\"-gradus\")"
   ]
  },
  {
   "cell_type": "code",
   "execution_count": 67,
   "id": "22617517",
   "metadata": {},
   "outputs": [
    {
     "name": "stdout",
     "output_type": "stream",
     "text": [
      "gradusni kiriting:37.7\n",
      "37.7 -gradus 99.86 -farangeyt \n"
     ]
    }
   ],
   "source": [
    "# begin 32\n",
    "tg=float(input(\"gradusni kiriting:\"))\n",
    "tf=tg*9/5+32\n",
    "print(tg,\"-gradus\",tf,\"-farangeyt \")"
   ]
  },
  {
   "cell_type": "code",
   "execution_count": 68,
   "id": "35a2d6e0",
   "metadata": {},
   "outputs": [
    {
     "name": "stdout",
     "output_type": "stream",
     "text": [
      "konfet necha kilogram:2\n",
      "narhini kiriting:10\n",
      "2.0 kg konfet 20.0 so`m bo`ladi\n"
     ]
    }
   ],
   "source": [
    "# begin 33\n",
    "km=float(input(\"konfet necha kilogram:\"))\n",
    "ks=float(input(\"narhini kiriting:\"))\n",
    "su=km*ks\n",
    "print(km,\"kg konfet\",su,\"so`m bo`ladi\")"
   ]
  },
  {
   "cell_type": "code",
   "execution_count": 69,
   "id": "3877dc94",
   "metadata": {},
   "outputs": [
    {
     "name": "stdout",
     "output_type": "stream",
     "text": [
      "shokolad narhi:20\n",
      "konfet narhi:15\n",
      "farqi= 5.0\n"
     ]
    }
   ],
   "source": [
    "# begin 34\n",
    "sh=float(input(\"shokolad narhi:\"))\n",
    "kt=float(input(\"konfet narhi:\"))\n",
    "f=sh-kt\n",
    "print(\"farqi=\",f)"
   ]
  },
  {
   "cell_type": "code",
   "execution_count": 72,
   "id": "a44dfcfb",
   "metadata": {},
   "outputs": [
    {
     "name": "stdout",
     "output_type": "stream",
     "text": [
      "v = 10\n",
      "u = 10\n",
      "t1 = 10\n",
      "t2 = 10\n",
      "s1= 200.0 s2= 0.0\n"
     ]
    }
   ],
   "source": [
    "# begin 35\n",
    "v = float(input('v = '))\n",
    "u = float(input('u = '))\n",
    "t1 = float(input('t1 = '))\n",
    "t2= float(input('t2 = '))\n",
    "\n",
    "s1=(v+u)*t1;s2=(v-u)*t2\n",
    "print(\"s1=\",s1,\"s2=\",s2)"
   ]
  },
  {
   "cell_type": "code",
   "execution_count": null,
   "id": "d5b9b6e6",
   "metadata": {},
   "outputs": [],
   "source": [
    "# begin 36\n",
    "v1 = float(input('v1 = '))\n",
    "v2 = float(input('v2 = '))\n",
    "S = float(input('S = '))\n",
    "t = int(input('t = '))\n",
    "s2=S - (v1+v2) * t\n",
    "print(s2)"
   ]
  },
  {
   "cell_type": "code",
   "execution_count": null,
   "id": "ce9d768f",
   "metadata": {},
   "outputs": [],
   "source": [
    "# begin 37\n",
    "v1 = float(input('v1 = '))\n",
    "v2 = float(input('v2 = '))\n",
    "S = float(input('S = '))\n",
    "t = int(input('t = '))\n",
    "s2=S - (v1+v2) * t\n",
    "print(s2)"
   ]
  },
  {
   "cell_type": "code",
   "execution_count": null,
   "id": "cbab38c3",
   "metadata": {},
   "outputs": [],
   "source": [
    "# begin 38\n",
    "v1 = float(input('v1 = '))\n",
    "v2 = float(input('v2 = '))\n",
    "S = float(input('S = '))\n",
    "t = int(input('t = '))\n",
    "s2=S - (v1+v2) * t\n",
    "print(s2)"
   ]
  },
  {
   "cell_type": "code",
   "execution_count": 73,
   "id": "dacb5840",
   "metadata": {},
   "outputs": [
    {
     "name": "stdout",
     "output_type": "stream",
     "text": [
      "a = 10\n",
      "b = 20\n",
      "x= -2.0\n"
     ]
    }
   ],
   "source": [
    "# begin 39\n",
    "a = float(input('a = '))\n",
    "b = float(input('b = '))\n",
    "x=(-1)*b/a\n",
    "print('x=',x)"
   ]
  },
  {
   "cell_type": "code",
   "execution_count": 77,
   "id": "1b7336ec",
   "metadata": {},
   "outputs": [
    {
     "name": "stdout",
     "output_type": "stream",
     "text": [
      "a1 = 2\n",
      "b2 = 3\n",
      "c2 = 6\n",
      "a2 = 5\n",
      "b2 = 8\n",
      "c2 = 9\n",
      "x= 21.0 y= -27.0\n"
     ]
    }
   ],
   "source": [
    "# begin 40\n",
    "a1 = float(input('a1 = '))\n",
    "b1 = float(input('b2 = '))\n",
    "c1 = float(input('c2 = '))\n",
    "a2 = float(input('a2 = '))\n",
    "b2 = float(input('b2 = '))\n",
    "c2 = float(input('c2 = '))\n",
    "d=a1*b2-a2*b1\n",
    "x=(c1*b2-c2*b1)/d\n",
    "y=(a1*c2-a2*c2)/d\n",
    "print(\"x=\",x,\"y=\",y)"
   ]
  },
  {
   "cell_type": "code",
   "execution_count": null,
   "id": "c01bffba",
   "metadata": {},
   "outputs": [],
   "source": []
  },
  {
   "cell_type": "code",
   "execution_count": null,
   "id": "f508a142",
   "metadata": {},
   "outputs": [],
   "source": []
  },
  {
   "cell_type": "code",
   "execution_count": 76,
   "id": "6f68ba9b",
   "metadata": {},
   "outputs": [
    {
     "name": "stdout",
     "output_type": "stream",
     "text": [
      "kb ni kiriting:2\n",
      "0  mb 2  kb\n"
     ]
    }
   ],
   "source": [
    "a=int(input(\"kb ni kiriting:\"))\n",
    "mb=a//1024\n",
    "kb=a%1024\n",
    "print(mb,\" mb\",kb,\" kb\")"
   ]
  },
  {
   "cell_type": "code",
   "execution_count": 37,
   "id": "397f67a7",
   "metadata": {},
   "outputs": [
    {
     "name": "stdout",
     "output_type": "stream",
     "text": [
      "3 honali son kiriting:123\n",
      "1320\n"
     ]
    }
   ],
   "source": [
    "yuz=a//100\n",
    "on=a%100//10\n",
    "bir=a%10\n",
    "print(bir*100+on*10+yuz*1000)"
   ]
  },
  {
   "cell_type": "code",
   "execution_count": 40,
   "id": "4e643fff",
   "metadata": {},
   "outputs": [
    {
     "name": "stdout",
     "output_type": "stream",
     "text": [
      "sekundni kiriting:10000\n",
      "2 soat 46 min 40 sekund\n"
     ]
    }
   ],
   "source": [
    "a=int(input(\"sekundni kiriting:\"))\n",
    "soat=a//(60*60)\n",
    "min1=a%3600//60\n",
    "sek=a%60\n",
    "print(soat,'soat',min1,'min',sek,\"sekund\")"
   ]
  },
  {
   "cell_type": "code",
   "execution_count": null,
   "id": "33f29ac8",
   "metadata": {},
   "outputs": [],
   "source": []
  }
 ],
 "metadata": {
  "kernelspec": {
   "display_name": "Python 3 (ipykernel)",
   "language": "python",
   "name": "python3"
  },
  "language_info": {
   "codemirror_mode": {
    "name": "ipython",
    "version": 3
   },
   "file_extension": ".py",
   "mimetype": "text/x-python",
   "name": "python",
   "nbconvert_exporter": "python",
   "pygments_lexer": "ipython3",
   "version": "3.10.0"
  }
 },
 "nbformat": 4,
 "nbformat_minor": 5
}
