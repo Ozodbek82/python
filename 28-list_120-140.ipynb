{
 "cells": [
  {
   "cell_type": "code",
   "execution_count": null,
   "id": "59f54576",
   "metadata": {},
   "outputs": [],
   "source": [
    "# array -120)  massiv seriyalarini bittaga kamaytiring , kamida bitta 1 dan katta seriya bor\n",
    "from random import randint\n",
    "n=int(input(\"n=\"))\n",
    "a=[randint(0,5) for _ in range(n)]\n",
    "print(a)\n",
    "i=1\n",
    "while i<len(a):\n",
    "    if a[i-1]!=a[i]:\n",
    "        a.pop(i-1)\n",
    "        i-=1\n",
    "    i+=1\n",
    "a.pop(-1)\n",
    "print(a)"
   ]
  },
  {
   "cell_type": "code",
   "execution_count": 39,
   "id": "cb43ed3c",
   "metadata": {},
   "outputs": [
    {
     "name": "stdout",
     "output_type": "stream",
     "text": [
      "n=10\n",
      "k=4\n",
      "[4, 3, 3, 5, 3, 3, 0, 2, 0, 1]\n",
      "[1, 2, 1, 2, 1, 1, 1, 1] [4, 3, 5, 3, 0, 2, 0, 1]\n",
      "[4, 3, 3, 5, 3, 3, 3, 3, 0, 2, 0, 1]\n"
     ]
    }
   ],
   "source": [
    "# array 121) k-seriyani ikki marta oshiring\n",
    "from random import randint\n",
    "n=int(input(\"n=\"))\n",
    "k=int(input(\"k=\"))\n",
    "a=[randint(0,5) for _ in range(n)]\n",
    "print(a)\n",
    "b=[1] # seriyadagi el. soni\n",
    "c=[a[0]] # elementlar qiymati\n",
    "for i in range(1,n):\n",
    "    if a[i-1]==a[i]:\n",
    "        b[-1]+=1\n",
    "    else:\n",
    "        c.append(a[i])\n",
    "        b.append(1)\n",
    "print(b,c)\n",
    "# agar k indexmas bo`lsa\n",
    "if len(b)>k:\n",
    "    # k-seriyasidagi element indeksini topamiz\n",
    "    index=sum(b[:k])-1\n",
    "    for _ in range(b[k-1]):\n",
    "        a.insert(index,c[k-1])\n",
    "print(a)\n",
    "\n",
    "# agar k index bo`lsa\n",
    "# if len(b)>k:\n",
    "#     # k-seriyasidagi element indeksini topamiz\n",
    "#     index=sum(b[:k])\n",
    "#     for _ in range(b[k]):\n",
    "#         a.insert(index,c[k])\n",
    "# print(a)"
   ]
  },
  {
   "cell_type": "code",
   "execution_count": 44,
   "id": "58f8161f",
   "metadata": {},
   "outputs": [
    {
     "name": "stdout",
     "output_type": "stream",
     "text": [
      "n=10\n",
      "k=2\n",
      "[4, 3, 3, 5, 3, 3, 0, 2, 0, 1]\n",
      "[1, 2, 1, 2, 1, 1, 1, 1] [4, 3, 5, 3, 0, 2, 0, 1]\n",
      "3\n",
      "[4, 3, 3, 3, 3, 0, 2, 0, 1]\n"
     ]
    }
   ],
   "source": [
    "# array 122) k-seriyani o`chiring\n",
    "from random import randint\n",
    "n=int(input(\"n=\"))\n",
    "k=int(input(\"k=\"))\n",
    "#a=[randint(0,5) for _ in range(n)]\n",
    "a=[4, 3, 3, 5, 3, 3, 0, 2, 0, 1]\n",
    "print(a)\n",
    "b=[1] # seriyadagi el. soni\n",
    "c=[a[0]] # elementlar qiymati\n",
    "for i in range(1,n):\n",
    "    if a[i-1]==a[i]:\n",
    "        b[-1]+=1\n",
    "    else:\n",
    "        c.append(a[i])\n",
    "        b.append(1)\n",
    "print(b,c)\n",
    "if len(b)>k:\n",
    "    # k-seriyasidagi element indeksini topamiz\n",
    "    index=sum(b[:k])-2\n",
    "    for _ in range(b[k-1]):\n",
    "        a.pop(index)\n",
    "print(a)\n",
    "\n",
    "# agar k index bo`lsa\n",
    "# if len(b)>k:\n",
    "#     # k-seriyasidagi element indeksini topamiz\n",
    "#     index=sum(b[:k])\n",
    "#     for _ in range(b[k]):\n",
    "#         a.pop(index)\n",
    "# print(a)"
   ]
  },
  {
   "cell_type": "code",
   "execution_count": 58,
   "id": "09ebeccd",
   "metadata": {},
   "outputs": [
    {
     "name": "stdout",
     "output_type": "stream",
     "text": [
      "n=10\n",
      "k=4\n",
      "[4, 3, 3, 5, 3, 3, 0, 2, 0, 1]\n",
      "[1, 2, 1, 2, 1, 1, 1, 1] [4, 3, 5, 3, 0, 2, 0, 1]\n",
      "[3, 3, 3, 3, 5, 4, 0, 2, 0, 1]\n"
     ]
    }
   ],
   "source": [
    "# array 123) k-seriyasi bilan 1-sini o`rnini almashtiring\n",
    "from random import randint\n",
    "n=int(input(\"n=\"))\n",
    "k=int(input(\"k=\"))\n",
    "#a=[randint(0,5) for _ in range(n)]\n",
    "a=[4, 3, 3, 5, 3, 3, 0, 2, 0, 1]\n",
    "print(a)\n",
    "b=[1] # seriyadagi el. soni\n",
    "c=[a[0]] # elementlar qiymati\n",
    "for i in range(1,n):\n",
    "    if a[i-1]==a[i]:\n",
    "        b[-1]+=1\n",
    "    else:\n",
    "        c.append(a[i])\n",
    "        b.append(1)\n",
    "print(b,c)\n",
    "if len(b)>k:\n",
    "    # k-seriyasidagi element indeksini topamiz\n",
    "    index=sum(b[:k])-2\n",
    "    for _ in range(b[k-1]):\n",
    "        a.pop(index)\n",
    "    for i in range(b[0]):\n",
    "        a.insert(index,c[0])\n",
    "    for i in range(b[0]):\n",
    "        a.pop(0)\n",
    "    for i in range(b[k-1]):\n",
    "        a.insert(0,c[k-1])\n",
    "print(a)"
   ]
  },
  {
   "cell_type": "code",
   "execution_count": 60,
   "id": "1260d643",
   "metadata": {},
   "outputs": [
    {
     "name": "stdout",
     "output_type": "stream",
     "text": [
      "n=10\n",
      "k=4\n",
      "[4, 3, 3, 5, 3, 3, 0, 2, 0, 1]\n",
      "[1, 2, 1, 2, 1, 1, 1, 1] [4, 3, 5, 3, 0, 2, 0, 1]\n",
      "[4, 3, 3, 5, 1, 0, 2, 0, 3, 3]\n"
     ]
    }
   ],
   "source": [
    "# array 124) k-seriyasi bilan oxirgisini o`rnini almashtiring\n",
    "from random import randint\n",
    "n=int(input(\"n=\"))\n",
    "k=int(input(\"k=\"))\n",
    "#a=[randint(0,5) for _ in range(n)]\n",
    "a=[4, 3, 3, 5, 3, 3, 0, 2, 0, 1]\n",
    "print(a)\n",
    "b=[1] # seriyadagi el. soni\n",
    "c=[a[0]] # elementlar qiymati\n",
    "for i in range(1,n):\n",
    "    if a[i-1]==a[i]:\n",
    "        b[-1]+=1\n",
    "    else:\n",
    "        c.append(a[i])\n",
    "        b.append(1)\n",
    "print(b,c)\n",
    "if len(b)>k:\n",
    "    # k-seriyasidagi element indeksini topamiz\n",
    "    index=sum(b[:k])-2\n",
    "    for _ in range(b[k-1]):\n",
    "        a.pop(index)\n",
    "    for i in range(b[-1]):\n",
    "        a.insert(index,c[-1])\n",
    "    for i in range(b[-1]):\n",
    "        a.pop(-1)\n",
    "    for i in range(b[k-1]):\n",
    "        a.append(c[k-1])\n",
    "print(a)"
   ]
  },
  {
   "cell_type": "code",
   "execution_count": 15,
   "id": "d907fd04",
   "metadata": {},
   "outputs": [
    {
     "name": "stdout",
     "output_type": "stream",
     "text": [
      "n=10\n",
      "k=2\n",
      "[5, 4, 5, 2, 0, 2, 2, 3, 3, 3, 5, 3, 1, 1, 4]\n",
      "[0, 0, 0, 0, 0, 2, 2, 3, 3, 3, 0, 0, 1, 1, 0]\n"
     ]
    }
   ],
   "source": [
    "# array 125) uzunligi k dan kichik bo`lgan seriyalrni 0 ga o`rnini almashtiring\n",
    "from random import randint\n",
    "n=int(input(\"n=\"))\n",
    "k=int(input(\"k=\"))\n",
    "a=[randint(0,5) for _ in range(n)]\n",
    "a=[5, 4, 5, 2, 0, 2, 2, 3, 3, 3, 5, 3, 1, 1, 4]\n",
    "print(a)\n",
    "def nolga_almash(i,j):\n",
    "    if j<k:\n",
    "        bosh_i=i-j\n",
    "        for _ in range(j):\n",
    "            a.pop(bosh_i)\n",
    "        i=bosh_i\n",
    "        a.insert(i,0)\n",
    "        i+=1\n",
    "    return i\n",
    "i=1;j=1\n",
    "while i<len(a):\n",
    "    if a[i-1]==a[i]:\n",
    "        j+=1\n",
    "    else:\n",
    "        i=nolga_almash(i,j)\n",
    "        j=1\n",
    "    i+=1\n",
    "nolga_almash(i,j)\n",
    "print(a)"
   ]
  },
  {
   "cell_type": "code",
   "execution_count": 22,
   "id": "a1a974fb",
   "metadata": {},
   "outputs": [
    {
     "name": "stdout",
     "output_type": "stream",
     "text": [
      "n=15\n",
      "k=2\n",
      "[5, 4, 5, 2, 0, 2, 2, 3, 3, 3, 5, 3, 4, 1, 1]\n",
      "[5, 4, 5, 2, 0, 0, 3, 3, 3, 5, 3, 4, 0]\n"
     ]
    }
   ],
   "source": [
    "# array 126) uzunligi k ga teng bo`lgan seriyalrni 0 ga o`rnini almashtiring\n",
    "from random import randint\n",
    "n=int(input(\"n=\"))\n",
    "k=int(input(\"k=\"))\n",
    "a=[randint(0,5) for _ in range(n)]\n",
    "a=[5, 4, 5, 2, 0, 2, 2, 3, 3, 3, 5, 3, 4, 1, 1]\n",
    "print(a)\n",
    "def nolga_almash1(i,j):\n",
    "    if j==k:\n",
    "        bosh_i=i-j\n",
    "        for _ in range(j):\n",
    "            a.pop(bosh_i)\n",
    "        i=bosh_i\n",
    "        a.insert(i,0)\n",
    "        i+=1\n",
    "    return i\n",
    "i=1;j=1;l=1\n",
    "while i<len(a):\n",
    "    if a[i-1]==a[i]:\n",
    "        j+=1\n",
    "    else:\n",
    "        i=nolga_almash1(i,j)\n",
    "        j=1\n",
    "    i+=1\n",
    "nolga_almash1(i,j)\n",
    "print(a)"
   ]
  },
  {
   "cell_type": "code",
   "execution_count": 12,
   "id": "effbfd0f",
   "metadata": {},
   "outputs": [
    {
     "name": "stdout",
     "output_type": "stream",
     "text": [
      "n=15\n",
      "k=2\n",
      "[5, 4, 5, 2, 0, 2, 2, 3, 3, 3, 5, 3, 1, 1, 1]\n",
      "[5, 4, 5, 2, 0, 2, 2, 0, 5, 3, 0]\n"
     ]
    }
   ],
   "source": [
    "# array 127) uzunligi k dan katta bo`lgan seriyalrni 0 ga o`rnini almashtiring\n",
    "from random import randint\n",
    "n=int(input(\"n=\"))\n",
    "k=int(input(\"k=\"))\n",
    "a=[randint(0,5) for _ in range(n)]\n",
    "a=[5, 4, 5, 2, 0, 2, 2, 3, 3, 3, 5, 3, 1, 1, 1]\n",
    "print(a)\n",
    "def nolga_almash(i,j):\n",
    "    if j>k:\n",
    "        bosh_i=i-j\n",
    "        for _ in range(j):\n",
    "            a.pop(bosh_i)\n",
    "        i=bosh_i\n",
    "        a.insert(i,0)\n",
    "        i+=1\n",
    "    return i\n",
    "i=1;j=1\n",
    "while i<len(a):\n",
    "    if a[i-1]==a[i]:\n",
    "        j+=1\n",
    "    else:\n",
    "        i=nolga_almash(i,j)\n",
    "        j=1\n",
    "    i+=1\n",
    "nolga_almash(i,j)\n",
    "print(a)"
   ]
  },
  {
   "cell_type": "code",
   "execution_count": 21,
   "id": "decc61f0",
   "metadata": {},
   "outputs": [
    {
     "name": "stdout",
     "output_type": "stream",
     "text": [
      "n=15\n",
      "[1, 3, 3, 5, 4, 1, 4, 0, 3, 2, 4, 0, 1, 0, 1]\n",
      "[1, 3, 3, 3, 5, 4, 1, 4, 0, 3, 2, 4, 0, 1, 0, 1]\n"
     ]
    }
   ],
   "source": [
    "# array 128) uzunligi eng katta bo`lgan birinchi uchragan seriyaga yangi el qo`shuvchi\n",
    "from random import randint\n",
    "n=int(input(\"n=\"))\n",
    "a=[randint(0,5) for _ in range(n)]\n",
    "#a=[5, 4, 5, 2, 0, 2, 2, 3, 3, 3, 5, 3, 1, 1, 1]\n",
    "print(a);maxi=1\n",
    "i=1;j=1\n",
    "while i<len(a):\n",
    "    if a[i-1]==a[i]:\n",
    "        j+=1\n",
    "    else:\n",
    "        if j>maxi:\n",
    "            maxi=j\n",
    "            oxir_i=i-1\n",
    "        j=1\n",
    "    i+=1\n",
    "if j>maxi:\n",
    "    oxir_i=i-1\n",
    "a.insert(oxir_i+1,a[oxir_i])\n",
    "print(a)"
   ]
  },
  {
   "cell_type": "code",
   "execution_count": 23,
   "id": "49dc3894",
   "metadata": {},
   "outputs": [
    {
     "name": "stdout",
     "output_type": "stream",
     "text": [
      "n=20\n",
      "k=2\n",
      "[5, 4, 5, 2, 0, 0, 3, 3, 3, 5, 3, 4, 0]\n",
      "[5, 4, 5, 2, 0, 0, 3, 3, 3, 3, 5, 3, 4, 0]\n"
     ]
    }
   ],
   "source": [
    "# array 129) uzunligi eng katta bo`lgan oxirgi uchragan seriyaga yangi el qo`shuvchi\n",
    "from random import randint\n",
    "n=int(input(\"n=\"))\n",
    "#a=[randint(0,5) for _ in range(n)]\n",
    "print(a);maxi=1\n",
    "i=1;j=1\n",
    "while i<len(a):\n",
    "    if a[i-1]==a[i]:\n",
    "        j+=1\n",
    "    else:\n",
    "        if j>=maxi:\n",
    "            maxi=j\n",
    "            oxir_i=i-1\n",
    "        j=1\n",
    "    i+=1\n",
    "if j>=maxi:\n",
    "    oxir_i=i-1\n",
    "a.insert(oxir_i+1,a[oxir_i])\n",
    "print(a)"
   ]
  },
  {
   "cell_type": "code",
   "execution_count": 30,
   "id": "34009a26",
   "metadata": {},
   "outputs": [
    {
     "name": "stdout",
     "output_type": "stream",
     "text": [
      "n=15\n",
      "[4, 4, 1, 2, 0, 1, 4, 0, 5, 3, 2, 5, 5, 5, 4]\n",
      "[4, 4, 4, 1, 1, 2, 2, 0, 0, 1, 1, 4, 4, 0, 0, 5, 5, 3, 3, 2, 2, 5, 5, 5, 5, 4, 4]\n"
     ]
    }
   ],
   "source": [
    "# array 130) massivning barcha  seriyalarga yangi el qo`shuvchi\n",
    "from random import randint\n",
    "n=int(input(\"n=\"))\n",
    "a=[randint(0,5) for _ in range(n)]\n",
    "print(a)\n",
    "i=1;j=1\n",
    "while i<len(a):\n",
    "    if a[i-1]!=a[i]:\n",
    "        a.insert(i,a[i-1])\n",
    "        i+=1\n",
    "    i+=1\n",
    "a.insert(i,a[i-1])\n",
    "print(a)"
   ]
  },
  {
   "cell_type": "code",
   "execution_count": 33,
   "id": "2a7bb9f1",
   "metadata": {},
   "outputs": [
    {
     "name": "stdout",
     "output_type": "stream",
     "text": [
      "n=15\n",
      "x=5\n",
      "y=6\n",
      "[5, 7, 2, 2, 1, 2, 1, 3, 10, 2, 4, 7, 9, 8, 3]\n",
      "[2, 5, 10, 2, 0, 5, 0, 1, 6, 7, 3, 4, 0, 6, 3]\n",
      "[7, 8]\n"
     ]
    }
   ],
   "source": [
    "# array 131) tekislikdagi n ta nuqta koordinatalari va b nuqta koord.si (x,y) ber-n\n",
    "# b nuqtaga eng yaqin nuqtani aniqlovchi pr tuzilsin,(x1,y1) va (x2,y2) nuqtalar orasidagi \n",
    "# masofa quyidagi formula orqali topiladi: \n",
    "# d=((x1-x2)**2+(y1-y2)**2)**0.5\n",
    "from random import randint\n",
    "n=int(input(\"n=\"))\n",
    "x=int(input(\"x=\"))\n",
    "y=int(input(\"y=\"))\n",
    "x_kor=[randint(0,10) for _ in range(n)]\n",
    "y_kor=[randint(0,10) for _ in range(n)]\n",
    "print(x_kor)\n",
    "print(y_kor)\n",
    "mini=((x_kor[0]-x)**2+(y_kor[0]-y)**2)**0.5\n",
    "for i in range(1,n):\n",
    "    masofa=((x_kor[i]-x)**2+(y_kor[i]-y)**2)**0.5\n",
    "    if masofa<mini:\n",
    "        mini=masofa\n",
    "        a=[x_kor[i],y_kor[i]]\n",
    "print(a)"
   ]
  },
  {
   "cell_type": "code",
   "execution_count": 44,
   "id": "548e1fc6",
   "metadata": {},
   "outputs": [
    {
     "name": "stdout",
     "output_type": "stream",
     "text": [
      "n=20\n",
      "[-9, 3, 6, 7, -8, 4, 6, 7, -2, -2, 7, -2, 4, 1, 2, 10, 8, -2, -1, 1]\n",
      "[-1, 5, -5, 3, 8, 4, -7, 5, 8, 10, 4, 9, 6, 6, 6, 10, 0, 0, 9, 6]\n",
      "[-8, 8]\n"
     ]
    }
   ],
   "source": [
    "# array 132) nuqtalar orasidan 2-chorakda yotuvchi va koordinata boshidan eng uzoq masofani\n",
    "# bunday nuqta topilmasa koordinatalari 0 bo`lgan nuqta chiqarilsin\n",
    "from random import randint\n",
    "n=int(input(\"n=\"))\n",
    "x_kor=[randint(-10,10) for _ in range(n)]\n",
    "y_kor=[randint(-10,10) for _ in range(n)]\n",
    "print(x_kor)\n",
    "print(y_kor)\n",
    "maxi=0\n",
    "a=[0,0]\n",
    "for i in range(n):\n",
    "    if x_kor[i]<0 and y_kor[i]>0:\n",
    "        masofa=(x_kor[i]**2+y_kor[i]**2)**0.5\n",
    "        if masofa>maxi:\n",
    "            maxi=masofa\n",
    "            a=[x_kor[i],y_kor[i]]\n",
    "print(a)"
   ]
  },
  {
   "cell_type": "code",
   "execution_count": 43,
   "id": "bd7202cc",
   "metadata": {},
   "outputs": [
    {
     "name": "stdout",
     "output_type": "stream",
     "text": [
      "n=20\n",
      "[10, 10, -6, 2, -9, 2, 4, -8, 2, -7, -3, 2, 4, 4, 9, -8, -9, -1, 2, -6]\n",
      "[2, -4, 7, 1, -3, -7, 10, 4, 7, 1, -10, -8, 4, -6, -1, -4, 2, -2, 4, -7]\n",
      "[4, 10]\n"
     ]
    }
   ],
   "source": [
    "# array 133) nuqtalar orasidan 1-3-chorakda yotuvchi va koordinata boshidan eng uzoq masofani\n",
    "# bunday nuqta topilmasa koordinatalari 0 bo`lgan nuqta chiqarilsin\n",
    "from random import randint\n",
    "n=int(input(\"n=\"))\n",
    "x_kor=[randint(-10,10) for _ in range(n)]\n",
    "y_kor=[randint(-10,10) for _ in range(n)]\n",
    "print(x_kor)\n",
    "print(y_kor)\n",
    "maxi=0\n",
    "a=[0,0]\n",
    "for i in range(n):\n",
    "    if (x_kor[i]<0 and y_kor[i]<0) or (x_kor[i]>0 and y_kor[i]>0):\n",
    "        masofa=(x_kor[i]**2+y_kor[i]**2)**0.5\n",
    "        if masofa>maxi:\n",
    "            maxi=masofa\n",
    "            a=[x_kor[i],y_kor[i]]\n",
    "print(a)"
   ]
  },
  {
   "cell_type": "code",
   "execution_count": 46,
   "id": "48d4e6b6",
   "metadata": {},
   "outputs": [
    {
     "name": "stdout",
     "output_type": "stream",
     "text": [
      "n=4\n",
      "[-2, 1, 2, 1]\n",
      "[0, 0, 2, -2]\n",
      "[-2, 0] [2, 2] 4.47213595499958\n"
     ]
    }
   ],
   "source": [
    "# array 134) nuqtalar orasidan bir biridan eng uzoq masofali nuqtalarni\n",
    "# orasidagi masofasi ham chiqarilsin\n",
    "from random import randint\n",
    "n=int(input(\"n=\"))\n",
    "x=[randint(-3,3) for _ in range(n)]\n",
    "y=[randint(-3,3) for _ in range(n)]\n",
    "print(x)\n",
    "print(y)\n",
    "maxi=0\n",
    "for i in range(n):\n",
    "    for j in range(i+1,n):\n",
    "        masofa=((x[i]-x[j])**2+(y[i]-y[j])**2)**0.5\n",
    "        if masofa>maxi:\n",
    "            maxi=masofa\n",
    "            a=[x[i],y[i]]\n",
    "            b=[x[j],y[j]]\n",
    "print(a,b,maxi)"
   ]
  },
  {
   "cell_type": "code",
   "execution_count": 2,
   "id": "ffae83dc",
   "metadata": {},
   "outputs": [
    {
     "name": "stdout",
     "output_type": "stream",
     "text": [
      "n1=15\n",
      "n2=10\n",
      "[-5, -2, -5, -5, 3, 0, 4, 2, -3, -4, -2, 2, -3, -3, -2]\n",
      "[5, 2, 1, -1, 5, -3, 3, -1, -1, 4, 5, 3, -2, -1, -4]\n",
      "[4, 1, -2, 5, -3, -5, 1, -1, -2, 5]\n",
      "[-3, 5, -3, -4, -3, 5, 0, -5, -1, 1]\n",
      "[-3, -1] [-2, -1] 1.0\n"
     ]
    }
   ],
   "source": [
    "# array 135) A va B to`plam ,ulardagi nuqtalar soni n1,n2 berilgan \n",
    "# to`plamlar orasidan bir biriga eng yaqin masofali nuqtalarni\n",
    "# orasidagi masofasi ham chiqarilsin\n",
    "from random import randint\n",
    "n1=int(input(\"n1=\"))\n",
    "n2=int(input(\"n2=\"))\n",
    "Ax=[randint(-5,5) for _ in range(n1)]\n",
    "Ay=[randint(-5,5) for _ in range(n1)]\n",
    "Bx=[randint(-5,5) for _ in range(n2)]\n",
    "By=[randint(-5,5) for _ in range(n2)]\n",
    "print(Ax)\n",
    "print(Ay)\n",
    "print(Bx)\n",
    "print(By)\n",
    "mini=((Ax[0]-Bx[0])**2+(Ay[0]-By[0])**2)**0.5\n",
    "for i in range(1,n1):\n",
    "    for j in range(1,n2):\n",
    "        masofa=((Ax[i]-Bx[j])**2+(Ay[i]-By[j])**2)**0.5\n",
    "        \n",
    "        if masofa<mini:\n",
    "            mini=masofa\n",
    "            a=[Ax[i],Ay[i]]\n",
    "            b=[Bx[j],By[j]]\n",
    "print(a,b,mini)"
   ]
  },
  {
   "cell_type": "code",
   "execution_count": 9,
   "id": "fed684ef",
   "metadata": {},
   "outputs": [
    {
     "name": "stdout",
     "output_type": "stream",
     "text": [
      "[0, 2, 1, 3, -1, -2, 0, 0, -2, 1]\n",
      "[0, 3, -3, -1, -2, 3, -3, 3, 2, -1]\n",
      "[26.014366535883813, 66.22750443368106, 102.15895808403654, 139.23550152792856, 171.63312119606726, 211.77357547539305, 247.063683738538, 282.6046393855464, 318.20505502297215, 345.58025647869937]\n",
      "[0, 0] 26.014366535883813\n"
     ]
    }
   ],
   "source": [
    "# array -136) n ta nuqta koor.lari berilgan shu nuqtalar orasidan shunday nuqtani topingki\n",
    "# undan boshqa nuqtalargacha bo`lgan masofalar yigindisi eng kichik bo`lsin\n",
    "from random import randint\n",
    "n=int(input(\"n=\"))\n",
    "x=[randint(-3,3) for _ in range(n)]\n",
    "y=[randint(-3,3) for _ in range(n)]\n",
    "z=[];s=0\n",
    "print(x)\n",
    "print(y)\n",
    "for i in range(n):\n",
    "    for j in range(n):\n",
    "        if i==j:\n",
    "            continue\n",
    "        masofa=((x[i]-x[j])**2+(y[i]-y[j])**2)**0.5\n",
    "        s+=masofa\n",
    "    z.append(s)\n",
    "z_min=z.index(min(z))\n",
    "mini=[x[z_min],y[z_min]]       \n",
    "print(mini,min(z))"
   ]
  },
  {
   "cell_type": "code",
   "execution_count": 12,
   "id": "166caf02",
   "metadata": {},
   "outputs": [
    {
     "name": "stdout",
     "output_type": "stream",
     "text": [
      "n=10\n",
      "[-2, 2, -1, -3, -1, 2, 1, 0, -2, 0]\n",
      "[0, -2, -1, 2, -1, -2, -1, -1, 0, -3]\n",
      "[2, -2] [-3, 2] [0, -3]\n",
      "perimetri= 14.470144109777939\n"
     ]
    }
   ],
   "source": [
    "# array 137)  perimetri eng katta bo`ladigan uchburchak  uchlari koor.larini\n",
    "from random import randint\n",
    "n=int(input(\"n=\"))\n",
    "x=[randint(-3,3) for _ in range(n)]\n",
    "y=[randint(-3,3) for _ in range(n)]\n",
    "once=True\n",
    "print(x)\n",
    "print(y)\n",
    "for i in range(n):\n",
    "    for j in range(n):\n",
    "        if i==j:\n",
    "            continue\n",
    "        a=((x[i]-x[j])**2+(y[i]-y[j])**2)**0.5\n",
    "        for k in range(n):\n",
    "            if k==i or k==j or x[i]==x[j]==x[k] or y[i]==y[j]==y[k]:\n",
    "                continue\n",
    "            b=((x[i]-x[k])**2+(y[i]-y[k])**2)**0.5\n",
    "            c=((x[k]-x[j])**2+(y[k]-y[j])**2)**0.5\n",
    "            p=a+b+c\n",
    "            if once:\n",
    "                maxi=p\n",
    "                once=False\n",
    "            if p>maxi:\n",
    "                maxi=p\n",
    "                point=[i,j,k]\n",
    "            l+=1\n",
    "            if l>5000:\n",
    "                print(\"cheksiz\")\n",
    "                break\n",
    "i,j,k=point\n",
    "print([x[i],y[i]],[x[j],y[j]],[x[k],y[k]])\n",
    "print(\"perimetri=\",maxi)"
   ]
  },
  {
   "cell_type": "code",
   "execution_count": 14,
   "id": "eed775b9",
   "metadata": {},
   "outputs": [
    {
     "name": "stdout",
     "output_type": "stream",
     "text": [
      "n=10\n",
      "[1, -1, 2, 0, -2, -3, -3, 0, 1, 0]\n",
      "[3, 1, 3, -2, -2, -1, 0, -3, 1, -1]\n",
      "[-2, -2] [-3, -1] [-3, 0]\n",
      "perimetri= 4.650281539872885\n"
     ]
    }
   ],
   "source": [
    "# array 138) perimetri eng kichik bo`ladigan uchburchak uchlari koor.lari\n",
    "from random import randint\n",
    "n=int(input(\"n=\"))\n",
    "x=[randint(-3,3) for _ in range(n)]\n",
    "y=[randint(-3,3) for _ in range(n)]\n",
    "once=True\n",
    "print(x)\n",
    "print(y)\n",
    "for i in range(n):\n",
    "    for j in range(n):\n",
    "        if i==j:\n",
    "            continue\n",
    "        a=((x[i]-x[j])**2+(y[i]-y[j])**2)**0.5\n",
    "        for k in range(n):\n",
    "            if k==i or k==j or x[i]==x[j]==x[k] or y[i]==y[j]==y[k]:\n",
    "                continue\n",
    "            b=((x[i]-x[k])**2+(y[i]-y[k])**2)**0.5\n",
    "            c=((x[k]-x[j])**2+(y[k]-y[j])**2)**0.5\n",
    "            p=a+b+c\n",
    "            if once:\n",
    "                mini=p\n",
    "                once=False\n",
    "            if p<mini:\n",
    "                mini=p\n",
    "                points=[i,j,k]\n",
    "            l+=1\n",
    "            if l>5000:\n",
    "                print(\"cheksiz\")\n",
    "                break\n",
    "i,j,k=points\n",
    "print([x[i],y[i]],[x[j],y[j]],[x[k],y[k]])\n",
    "print(\"perimetri=\",mini)"
   ]
  },
  {
   "cell_type": "code",
   "execution_count": 8,
   "id": "bd43992e",
   "metadata": {},
   "outputs": [
    {
     "name": "stdout",
     "output_type": "stream",
     "text": [
      "n=10\n",
      "[1, -1, 0, 2, -2, 3, 2, 0, 2, -3]\n",
      "[-2, -3, 1, -1, -2, -3, 0, 1, -2, 0]\n",
      "[-3, -2, -1, 0, 0, 1, 2, 2, 2, 3]\n",
      "[0, -2, -3, 1, 1, -2, -2, -1, 0, -3]\n"
     ]
    }
   ],
   "source": [
    "# array -139)  nuqtalarni o`sish tartibida joylashtiring, (x1,y1)<(x2,y2), qachonki x2<x1, yoki \n",
    "# x1==x2 va y1<y2\n",
    "from random import randint\n",
    "n=int(input(\"n=\"))\n",
    "x=[randint(-3,3) for _ in range(n)]\n",
    "y=[randint(-3,3) for _ in range(n)]\n",
    "print(x)\n",
    "print(y)\n",
    "for j in range(n-1):\n",
    "    for i in range(n-1-j):\n",
    "        if x[i]>x[i+1] or (x[i]==x[i+1] and y[i]>y[i+1]):\n",
    "            x[i],y[i],x[i+1],y[i+1]=x[i+1],y[i+1],x[i],y[i]\n",
    "print(x)\n",
    "print(y)"
   ]
  },
  {
   "cell_type": "code",
   "execution_count": 5,
   "id": "34ed9fb4",
   "metadata": {},
   "outputs": [
    {
     "name": "stdout",
     "output_type": "stream",
     "text": [
      "n=10\n",
      "[-2, -2, -3, -2, 3, -3, -1, 1, 0, 3]\n",
      "[1, -1, 0, 2, 1, -3, 0, 0, 1, 2]\n",
      "[3, 3, 1, 0, -2, -1, -2, -2, -3, -3]\n",
      "[2, 1, 0, 1, 2, 0, 1, -1, 0, -3]\n"
     ]
    }
   ],
   "source": [
    "# array -140)  nuqtalarni kamayish tartibida joylashtiring, (x1,y1)<(x2,y2), qachonki x1+y1<x2+y2, yoki \n",
    "# x1+y1==x2+y2 va x1<x2\n",
    "from random import randint\n",
    "n=int(input(\"n=\"))\n",
    "x=[randint(-3,3) for _ in range(n)]\n",
    "y=[randint(-3,3) for _ in range(n)]\n",
    "print(x)\n",
    "print(y)\n",
    "for j in range(n-1):\n",
    "    for i in range(n-1-j):\n",
    "        if (x[i]+y[i])>(x[i+1]+y[i+1]) or (x[i]+y[i]==x[i+1]+y[i+1] and x[i]>x[i+1]):\n",
    "            x[i],y[i],x[i+1],y[i+1]=x[i+1],y[i+1],x[i],y[i]\n",
    "x.reverse()\n",
    "y.reverse()\n",
    "print(x)\n",
    "print(y)"
   ]
  },
  {
   "cell_type": "code",
   "execution_count": null,
   "id": "bbfe4a7d",
   "metadata": {},
   "outputs": [],
   "source": []
  },
  {
   "cell_type": "code",
   "execution_count": null,
   "id": "2e1d7c6a",
   "metadata": {},
   "outputs": [],
   "source": []
  },
  {
   "cell_type": "code",
   "execution_count": null,
   "id": "f41a908d",
   "metadata": {},
   "outputs": [],
   "source": [
    "k soni ber-n k talik seriyalarni ikki marta oshiring\n",
    "from random import randint\n",
    "n=int(input(\"n=\"))\n",
    "k=int(input(\"k=\"))\n",
    "a=[randint(0,5) for _ in range(n)]\n",
    "#a=[4, 3, 2, 2, 2, 0, 1, 2, 4, 4]\n",
    "print(a)\n",
    "i=1;j=1\n",
    "while i<len(a):\n",
    "    if a[i-1]==a[i]:\n",
    "        j+=1\n",
    "    else:\n",
    "        if j==k:\n",
    "            for _ in range(k):\n",
    "                a.insert(i,a[i-1])\n",
    "            i+=k\n",
    "        j=1\n",
    "    i+=1\n",
    "if a[-3]!=a[-2]==a[-1]:\n",
    "    for _ in range(k):\n",
    "        a.insert(-1,a[-1])    \n",
    "print(a)"
   ]
  }
 ],
 "metadata": {
  "kernelspec": {
   "display_name": "Python 3 (ipykernel)",
   "language": "python",
   "name": "python3"
  },
  "language_info": {
   "codemirror_mode": {
    "name": "ipython",
    "version": 3
   },
   "file_extension": ".py",
   "mimetype": "text/x-python",
   "name": "python",
   "nbconvert_exporter": "python",
   "pygments_lexer": "ipython3",
   "version": "3.8.10"
  }
 },
 "nbformat": 4,
 "nbformat_minor": 5
}
