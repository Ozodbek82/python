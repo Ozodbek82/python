{
 "cells": [
  {
   "cell_type": "code",
   "execution_count": 12,
   "id": "dd4f59a1",
   "metadata": {},
   "outputs": [
    {
     "name": "stdout",
     "output_type": "stream",
     "text": [
      "n=11\n",
      "[3, 2, -6, -7, 1, 8, -9, 2, 4, 7, 11]\n",
      "[11, 7, 4, 2, -9, 8, 1, -7, -6, 2, 3]\n"
     ]
    }
   ],
   "source": [
    "# array -71)  a massiv teskari tartibda joylashtirilsin\n",
    "from random import randint\n",
    "n=int(input(\"n=\"))\n",
    "a=[randint(-11,11) for _ in range(n)]\n",
    "print(a)\n",
    "#a.reverse()\n",
    "for i in range(n//2):\n",
    "    a[i],a[n-i-1]=a[n-i-1],a[i]    \n",
    "print(a)"
   ]
  },
  {
   "cell_type": "code",
   "execution_count": 24,
   "id": "65037fee",
   "metadata": {},
   "outputs": [
    {
     "name": "stdout",
     "output_type": "stream",
     "text": [
      "n=10\n",
      "[-9, 8, 3, 0, -6, 1, -1, -6, -10, -1]\n",
      "k=2\n",
      "h=6\n",
      "[-9, 8, -1, 1, -6, 0, 3, -6, -10, -1]\n"
     ]
    }
   ],
   "source": [
    "# array -72)  a massiv k va h berilgan 1<=k<h<=n a[k] va a[h] orasidagi el.lar almash\n",
    "# a[k] va a[h]  bilan\n",
    "from random import randint\n",
    "n=int(input(\"n=\"))\n",
    "a=[randint(-11,11) for _ in range(n)]\n",
    "print(a)\n",
    "k=int(input(\"k=\"))\n",
    "h=int(input(\"h=\"))\n",
    "print(a)"
   ]
  },
  {
   "cell_type": "code",
   "execution_count": 25,
   "id": "546d43c4",
   "metadata": {},
   "outputs": [
    {
     "name": "stdout",
     "output_type": "stream",
     "text": [
      "n=10\n",
      "[-5, 8, 2, 3, 5, -6, 5, -8, -2, -4]\n",
      "k=2\n",
      "h=6\n",
      "[-5, 8, 2, -6, 5, 3, 5, -8, -2, -4]\n"
     ]
    }
   ],
   "source": [
    "# array -73)  a massiv k va h berilgan 1<=k<h<=n a[k] va a[h] orasidagi el.lar almash\n",
    "#a[k] va a[h] siz\n",
    "from random import randint\n",
    "n=int(input(\"n=\"))\n",
    "a=[randint(-11,11) for _ in range(n)]\n",
    "print(a)\n",
    "k=int(input(\"k=\"))\n",
    "h=int(input(\"h=\"))\n",
    "j=h-1\n",
    "for i in range(k+1,k+(h-k-2)//2+1):    \n",
    "    a[i],a[j]=a[j],a[i] \n",
    "    j=j-1\n",
    "print(a)"
   ]
  },
  {
   "cell_type": "code",
   "execution_count": null,
   "id": "3942de6a",
   "metadata": {},
   "outputs": [],
   "source": [
    "# Array 73 public version\n",
    "n = int(input(\"n = \"))\n",
    "a = [randint(1,9) for i in range(n)]\n",
    "print(a)\n",
    "k = int(input(\"k = \"))\n",
    "h = int(input(\"h = \"))\n",
    "k+=1; h-=1\n",
    "while k<h:\n",
    "    a[k],a[h] = a[h],a[k]\n",
    "    k+=1; h-=1    \n",
    "print(a)"
   ]
  },
  {
   "cell_type": "code",
   "execution_count": 31,
   "id": "6043a029",
   "metadata": {},
   "outputs": [
    {
     "name": "stdout",
     "output_type": "stream",
     "text": [
      "n=11\n",
      "[7, -1, 4, -8, 1, 3, -11, -5, -1, -11, 9]\n",
      "-11 9\n",
      "[7, -1, 4, -8, 1, 3, -11, 0, 0, 0, 9]\n"
     ]
    }
   ],
   "source": [
    "# array -74)  eng katta va eng kichik elementlar orasidagilarni nolga tenglovchi\n",
    "from random import randint\n",
    "n=int(input(\"n=\"))\n",
    "a=[randint(-11,11) for _ in range(n)]\n",
    "print(a)\n",
    "mini=a.index(min(a))\n",
    "maxi=a.index(max(a))\n",
    "if mini>maxi:\n",
    "    mini,maxi=maxi,mini\n",
    "for i in range(mini+1,maxi):    \n",
    "    a[i]=0\n",
    "print(a)"
   ]
  },
  {
   "cell_type": "code",
   "execution_count": 34,
   "id": "7270371c",
   "metadata": {},
   "outputs": [
    {
     "name": "stdout",
     "output_type": "stream",
     "text": [
      "n=11\n",
      "[-5, 8, 8, 7, -8, -11, -10, 4, 1, 8, 4]\n",
      "[-5, -11, -8, 7, 8, 8, -10, 4, 1, 8, 4]\n"
     ]
    }
   ],
   "source": [
    "# array -75)  eng katta va eng kichik elementlar orasidagilarni o`rnini almashtiruvchi\n",
    "# eng katta va kichik ham qo`shiladi\n",
    "from random import randint\n",
    "n=int(input(\"n=\"))\n",
    "a=[randint(-11,11) for _ in range(n)]\n",
    "print(a)\n",
    "mini=a.index(min(a))\n",
    "maxi=a.index(max(a))\n",
    "if mini>maxi:\n",
    "    mini,maxi=maxi,mini\n",
    "j=maxi\n",
    "for i in range(mini,mini+(maxi-mini)//2+1):    \n",
    "    a[i],a[j]=a[j],a[i]\n",
    "    j-=1\n",
    "print(a)"
   ]
  },
  {
   "cell_type": "code",
   "execution_count": null,
   "id": "7bfe0e9c",
   "metadata": {},
   "outputs": [],
   "source": [
    "# Array 75 public version\n",
    "n = int(input(\"n = \"))\n",
    "a = [randint(1,9) for i in range(n)]\n",
    "print(a)\n",
    "k = a.index(max(a))\n",
    "h = a.index(min(a))\n",
    "if k>h:\n",
    "    k,h = h,k\n",
    "while k<h:\n",
    "    a[k],a[h] = a[h],a[k]\n",
    "    k+=1; h-=1    \n",
    "print(a)"
   ]
  },
  {
   "cell_type": "code",
   "execution_count": 36,
   "id": "5d63ba1a",
   "metadata": {},
   "outputs": [
    {
     "name": "stdout",
     "output_type": "stream",
     "text": [
      "n=10\n",
      "[-6, 3, 6, -11, 9, -5, 4, 8, 0, -6]\n",
      "[-6, 3, 0, -11, 0, -5, 4, 0, 0, -6]\n"
     ]
    }
   ],
   "source": [
    "# array -76)  lokal maksimumlarini nolga aylantiruvchi\n",
    "from random import randint\n",
    "n=int(input(\"n=\"))\n",
    "a=[randint(-11,11) for _ in range(n)]\n",
    "print(a)\n",
    "for i in range(2,n):    \n",
    "    if a[i-2]<a[i-1]>a[i]:\n",
    "        a[i-1]=0\n",
    "print(a)"
   ]
  },
  {
   "cell_type": "code",
   "execution_count": 38,
   "id": "980ea92c",
   "metadata": {},
   "outputs": [
    {
     "name": "stdout",
     "output_type": "stream",
     "text": [
      "n=10\n",
      "[11, -6, -9, 11, -4, 5, 7, -1, -8, 8]\n",
      "[11, -6, 81, 11, 16, 25, 7, -1, 64, 8]\n"
     ]
    }
   ],
   "source": [
    "# array -77)  lokal minimumlarini kvadratiga aylantiruvchi\n",
    "from random import randint\n",
    "n=int(input(\"n=\"))\n",
    "a=[randint(-11,11) for _ in range(n)]\n",
    "print(a)\n",
    "for i in range(2,n):    \n",
    "    if a[i-2]>a[i-1]<a[i]:\n",
    "        a[i-1]=a[i-1]**2\n",
    "print(a)"
   ]
  },
  {
   "cell_type": "code",
   "execution_count": null,
   "id": "52cda052",
   "metadata": {},
   "outputs": [],
   "source": [
    "# Array 77 public version\n",
    "n = int(input(\"n = \"))\n",
    "a = [randint(1,9) for i in range(n)]\n",
    "print(a)\n",
    "x = a[0]\n",
    "for i in range(1,n-1):\n",
    "    if x>a[i]<a[i+1]:\n",
    "        x = a[i]\n",
    "        a[i]=a[i]**2\n",
    "        continue\n",
    "    x = a[i]\n",
    "print(a)"
   ]
  },
  {
   "cell_type": "code",
   "execution_count": 40,
   "id": "65402f33",
   "metadata": {},
   "outputs": [
    {
     "name": "stdout",
     "output_type": "stream",
     "text": [
      "n=10\n",
      "[-9, -11, 4, -6, -3, -6, 10, -7, 4, -3]\n",
      "[-10.0, -3.5, -1.0, -4.5, -4.5, 2.0, 1.5, -1.5, 0.5, -3]\n"
     ]
    }
   ],
   "source": [
    "# array -78)  O`NG QO`SHNISI BILAN O`RTA ARIFMETIGI\n",
    "from random import randint\n",
    "n=int(input(\"n=\"))\n",
    "a=[randint(-11,11) for _ in range(n)]\n",
    "print(a)\n",
    "for i in range(1,n):    \n",
    "    a[i-1]=(a[i-1]+a[i])/2\n",
    "print(a)"
   ]
  },
  {
   "cell_type": "code",
   "execution_count": 44,
   "id": "51a6cb0c",
   "metadata": {},
   "outputs": [
    {
     "name": "stdout",
     "output_type": "stream",
     "text": [
      "n=10\n",
      "[7, 0, -5, 5, 3, -5, -1, 10, 8, 8]\n",
      "[0, 7, 0, -5, 5, 3, -5, -1, 10, 8]\n"
     ]
    }
   ],
   "source": [
    "# array -79)  el.larni qiymatlarini bir qadam o`ngga siljituvchi\n",
    "from random import randint\n",
    "n=int(input(\"n=\"))\n",
    "a=[randint(-11,11) for _ in range(n)]\n",
    "print(a)\n",
    "for i in range(n-1,-1,-1):    \n",
    "    a[i]=a[i-1]\n",
    "a[0]=0\n",
    "print(a)"
   ]
  },
  {
   "cell_type": "code",
   "execution_count": null,
   "id": "9fb0766c",
   "metadata": {},
   "outputs": [],
   "source": [
    "# Array 79 public version \n",
    "n = int(input(\"n = \"))\n",
    "a = [randint(1,9) for i in range(n)]\n",
    "print(a)\n",
    "a = [0] + a[:-1]\n",
    "print(a)"
   ]
  },
  {
   "cell_type": "code",
   "execution_count": 45,
   "id": "eed6818d",
   "metadata": {},
   "outputs": [
    {
     "name": "stdout",
     "output_type": "stream",
     "text": [
      "n=10\n",
      "[0, 1, 6, -3, -11, -4, -6, -4, 7, -8]\n",
      "[1, 6, -3, -11, -4, -6, -4, 7, -8, 0]\n"
     ]
    }
   ],
   "source": [
    "# array -80)  el.larni qiymatlarini bir qadam chapga siljituvchi\n",
    "from random import randint\n",
    "n=int(input(\"n=\"))\n",
    "a=[randint(-11,11) for _ in range(n)]\n",
    "print(a)\n",
    "for i in range(1,n):    \n",
    "    a[i-1]=a[i]\n",
    "a[n-1]=0\n",
    "print(a)"
   ]
  },
  {
   "cell_type": "code",
   "execution_count": 50,
   "id": "288e68ad",
   "metadata": {},
   "outputs": [
    {
     "name": "stdout",
     "output_type": "stream",
     "text": [
      "n=10\n",
      "k=5\n",
      "[2, 5, 0, -9, 0, 7, -8, -10, 0, -4]\n",
      "[0, 0, 0, 0, 0, 2, 5, 0, -9, 0]\n"
     ]
    }
   ],
   "source": [
    "# array -81)  el.larni qiymatlarini k qadam o`ngga siljituvchi  1<=k<n\n",
    "from random import randint\n",
    "n=int(input(\"n=\"))\n",
    "k=int(input(\"k=\"))\n",
    "a=[randint(-11,11) for _ in range(n)]\n",
    "print(a)\n",
    "for i in range(k):    \n",
    "    a.insert(i,0)\n",
    "    a.pop()\n",
    "print(a)"
   ]
  },
  {
   "cell_type": "code",
   "execution_count": 56,
   "id": "a131dd21",
   "metadata": {},
   "outputs": [
    {
     "name": "stdout",
     "output_type": "stream",
     "text": [
      "n=10\n",
      "k=6\n",
      "[-10, -7, -11, -3, -1, 5, 5, 0, -8, 2]\n",
      "[5, 0, -8, 2, 0, 0, 0, 0, 0, 0]\n"
     ]
    }
   ],
   "source": [
    "# array -82)  el.larni qiymatlarini k qadam chapga siljituvchi  1<=k<n\n",
    "from random import randint\n",
    "n=int(input(\"n=\"))\n",
    "k=int(input(\"k=\"))\n",
    "a=[randint(-11,11) for _ in range(n)]\n",
    "print(a)\n",
    "for i in range(n-1,n-k-1,-1):    \n",
    "    a.append(0)\n",
    "    a.pop(0)\n",
    "print(a)"
   ]
  },
  {
   "cell_type": "code",
   "execution_count": 59,
   "id": "7a2f7ff8",
   "metadata": {},
   "outputs": [
    {
     "name": "stdout",
     "output_type": "stream",
     "text": [
      "n=10\n",
      "[8, -8, 6, 10, -4, 1, -4, 0, -10, 0]\n",
      "[0, 8, -8, 6, 10, -4, 1, -4, 0, -10]\n"
     ]
    }
   ],
   "source": [
    "# array -83)  el.larni qiymatlarini bir qadam siklik o`nggaga siljituvchi  \n",
    "from random import randint\n",
    "n=int(input(\"n=\"))\n",
    "a=[randint(-11,11) for _ in range(n)]\n",
    "print(a)\n",
    "a.insert(0,a[-1])\n",
    "a.pop()\n",
    "print(a)"
   ]
  },
  {
   "cell_type": "code",
   "execution_count": null,
   "id": "3b94fa78",
   "metadata": {},
   "outputs": [],
   "source": [
    "# Array 83 public version\n",
    "n = int(input(\"n = \"))\n",
    "a = [randint(1,9) for i in range(n)]\n",
    "print(a)\n",
    "\"\"\"a = a[-1:-2:-1] + a[:-1]\n",
    "print(a)\"\"\"\n",
    "a = [a[-1]] + a[:-1]\n",
    "print(a)"
   ]
  },
  {
   "cell_type": "code",
   "execution_count": 60,
   "id": "ee78172e",
   "metadata": {},
   "outputs": [
    {
     "name": "stdout",
     "output_type": "stream",
     "text": [
      "n=10\n",
      "[11, -11, -7, -7, 0, -1, 9, 0, -10, 10]\n",
      "[-11, -7, -7, 0, -1, 9, 0, -10, 10, 11]\n"
     ]
    }
   ],
   "source": [
    "# array -84)  el.larni qiymatlarini bir qadam siklik chapga siljituvchi  \n",
    "from random import randint\n",
    "n=int(input(\"n=\"))\n",
    "a=[randint(-11,11) for _ in range(n)]\n",
    "print(a)\n",
    "a.append(a[0])\n",
    "a.pop(0)\n",
    "print(a)"
   ]
  },
  {
   "cell_type": "code",
   "execution_count": 64,
   "id": "6dd1e903",
   "metadata": {},
   "outputs": [
    {
     "name": "stdout",
     "output_type": "stream",
     "text": [
      "n=10\n",
      "k=6\n",
      "[-7, -10, 8, -4, 2, 2, 11, 7, 7, 5]\n",
      "[2, 2, 11, 7, 7, 5, -7, -10, 8, -4]\n"
     ]
    }
   ],
   "source": [
    "# array -85)  el.larni qiymatlarini k ta o`rin o`ngga siklik siljituvchi  \n",
    "from random import randint\n",
    "n=int(input(\"n=\"))\n",
    "k=int(input(\"k=\"))\n",
    "a=[randint(-11,11) for _ in range(n)]\n",
    "print(a)\n",
    "for i in range(k):\n",
    "    a.insert(0,a[n-1])\n",
    "    a.pop()\n",
    "print(a)"
   ]
  },
  {
   "cell_type": "code",
   "execution_count": 65,
   "id": "3d4b681a",
   "metadata": {},
   "outputs": [
    {
     "name": "stdout",
     "output_type": "stream",
     "text": [
      "n=10\n",
      "k=6\n",
      "[-4, -9, 4, 10, 11, -7, 7, 3, -1, -1]\n",
      "[7, 3, -1, -1, -4, -9, 4, 10, 11, -7]\n"
     ]
    }
   ],
   "source": [
    "# array -86)  el.larni qiymatlarini k ta o`rin chapga siklik siljituvchi  \n",
    "from random import randint\n",
    "n=int(input(\"n=\"))\n",
    "k=int(input(\"k=\"))\n",
    "a=[randint(-11,11) for _ in range(n)]\n",
    "print(a)\n",
    "for i in range(k):\n",
    "    a.append(a[0])\n",
    "    a.pop(0)\n",
    "print(a)"
   ]
  },
  {
   "cell_type": "code",
   "execution_count": null,
   "id": "34afac66",
   "metadata": {},
   "outputs": [],
   "source": [
    "# Array 86  public version\n",
    "n = int(input(\"n = \"))\n",
    "a = [randint(1,9) for i in range(n)]\n",
    "print(a)\n",
    "k = int(input(\"k = \"))\n",
    "a = a[k:] + a[:k]\n",
    "print(a)"
   ]
  },
  {
   "cell_type": "code",
   "execution_count": 70,
   "id": "800edc28",
   "metadata": {},
   "outputs": [
    {
     "name": "stdout",
     "output_type": "stream",
     "text": [
      "[2, 3, 4, 5, 6, 7, 8, 10, 10, 11]\n"
     ]
    }
   ],
   "source": [
    "# array -87)  dastlabki el.idan tashqari hammasi o`sish tartibida, 0 el.ni massivni o`suvchi \n",
    "# bo`ladigan qilib joylash kerak\n",
    "a=[10,2,3,4,5,6,7,8,10,11]\n",
    "j=0\n",
    "for i in range(1,len(a)):\n",
    "    if a[i]<a[j]:\n",
    "        a[i],a[j]=a[j],a[i]\n",
    "        j=i\n",
    "    else:\n",
    "        break\n",
    "print(a)"
   ]
  },
  {
   "cell_type": "code",
   "execution_count": 73,
   "id": "03abb6ee",
   "metadata": {},
   "outputs": [
    {
     "name": "stdout",
     "output_type": "stream",
     "text": [
      "[-1, 0, 2, 3, 4, 5, 6, 7, 8, 10]\n"
     ]
    }
   ],
   "source": [
    "# array -88)  oxirgi el.idan tashqari hammasi o`sish tartibida, oxirgi el.ni massivni o`suvchi \n",
    "# bo`ladigan qilib joylash kerak\n",
    "a=[-1,2,3,4,5,6,7,8,10,0]\n",
    "j=len(a)-1\n",
    "for i in range(len(a)-2,-1,-1):\n",
    "    if a[i]>a[j]:\n",
    "        a[i],a[j]=a[j],a[i]\n",
    "        j=i\n",
    "    else:\n",
    "        break\n",
    "print(a)"
   ]
  },
  {
   "cell_type": "code",
   "execution_count": 78,
   "id": "5d9c155f",
   "metadata": {},
   "outputs": [
    {
     "name": "stdout",
     "output_type": "stream",
     "text": [
      "[-7, -5, -1, 2, 3, 4, 6, 7, 8, 10]\n"
     ]
    }
   ],
   "source": [
    "# array -89)  bitta el.idan tashqari hammasi o`sish tartibida, o`sha el.ni massivni o`suvchi \n",
    "# bo`ladigan qilib joylash kerak\n",
    "a=[-1,2,3,4,-5,6,7,-7,8,10]\n",
    "\n",
    "for i in range(1,len(a)):\n",
    "    if a[i-1]>a[i]:\n",
    "        i_son=a[i]\n",
    "        j=i-1\n",
    "        while j>=0 and a[j]>i_son:\n",
    "            a[j+1]=a[j]\n",
    "            j-=1\n",
    "        a[j+1]=i_son    \n",
    "print(a)"
   ]
  },
  {
   "cell_type": "code",
   "execution_count": null,
   "id": "4975163d",
   "metadata": {},
   "outputs": [],
   "source": [
    "# Array 89 by Nurgeldi public version\n",
    "n = int(input(\"n = \"))\n",
    "a = [i for i in range(n-1)]\n",
    "a.insert(0,int(input(\"a = \")))\n",
    "print(a)\n",
    "for i in range(n-1):\n",
    "    if not a[i] <= a[i+1]:\n",
    "        index = i\n",
    "        b = a[index]\n",
    "        del a[index]\n",
    "        break        \n",
    "print(index)\n",
    "print(b)        \n",
    "for i in range(n-1):\n",
    "    if b<a[i]:\n",
    "        a.insert(i,b)\n",
    "        break\n",
    "else:\n",
    "    a.append(b)    \n",
    "print(a)"
   ]
  },
  {
   "cell_type": "code",
   "execution_count": 79,
   "id": "7443bbf6",
   "metadata": {},
   "outputs": [
    {
     "name": "stdout",
     "output_type": "stream",
     "text": [
      "n=10\n",
      "k=5\n",
      "[10, 1, -11, 5, -5, -7, 10, 0, 6, -5]\n",
      "[10, 1, -11, 5, -5, 10, 0, 6, -5]\n"
     ]
    }
   ],
   "source": [
    "# array -90) indeksi k ga teng el.ni o`chiring\n",
    "from random import randint\n",
    "n=int(input(\"n=\"))\n",
    "k=int(input(\"k=\"))\n",
    "a=[randint(-11,11) for _ in range(n)]\n",
    "print(a)\n",
    "a.pop(k)\n",
    "print(a)"
   ]
  },
  {
   "cell_type": "code",
   "execution_count": 83,
   "id": "08b5317c",
   "metadata": {},
   "outputs": [
    {
     "name": "stdout",
     "output_type": "stream",
     "text": [
      "n=10\n",
      "k=2\n",
      "m=5\n",
      "[-1, -3, 7, -2, -7, 7, 8, -7, -6, 8]\n",
      "6 [-1, -3, 8, -7, -6, 8]\n"
     ]
    }
   ],
   "source": [
    "# array -91) indeksi k dan m gacha el.ni o`chiring\n",
    "from random import randint\n",
    "n=int(input(\"n=\"))\n",
    "k=int(input(\"k=\"))\n",
    "m=int(input(\"m=\"))\n",
    "a=[randint(-11,11) for _ in range(n)]\n",
    "print(a)\n",
    "for i in range(k,m+1):\n",
    "    a.pop(k)\n",
    "print(len(a),a)"
   ]
  },
  {
   "cell_type": "code",
   "execution_count": 31,
   "id": "f5e81189",
   "metadata": {},
   "outputs": [
    {
     "name": "stdout",
     "output_type": "stream",
     "text": [
      "n=10\n",
      "[-8, 1, 1, 2, 7, 0, 11, 8, -10, -3]\n",
      "soni= 5\n",
      "-8 2 0 8 -10\n"
     ]
    }
   ],
   "source": [
    "# array -92) toq el.ni o`chiring\n",
    "from random import randint\n",
    "n=int(input(\"n=\"))\n",
    "a=[randint(-11,11) for _ in range(n)]\n",
    "print(a);i=0\n",
    "while i<len(a):\n",
    "    if abs(a[i]%2)==1:\n",
    "        a.pop(i)\n",
    "        i-=1\n",
    "    i+=1\n",
    "print(\"soni=\",len(a))\n",
    "print(*a)"
   ]
  },
  {
   "cell_type": "code",
   "execution_count": null,
   "id": "21f9234c",
   "metadata": {},
   "outputs": [],
   "source": [
    "#Array 92 public version\n",
    "n = int(input('n='))\n",
    "A = [randint(1,20) for i in range(n)]\n",
    "print(A)\n",
    "i=0\n",
    "for _ in range(n):\n",
    "    if A[i]%2==0:\n",
    "        i+=1\n",
    "    elif A[i]%2==1:\n",
    "        A.pop(i)   \n",
    "print(A)"
   ]
  },
  {
   "cell_type": "code",
   "execution_count": null,
   "id": "01a25bce",
   "metadata": {},
   "outputs": [],
   "source": []
  },
  {
   "cell_type": "code",
   "execution_count": 23,
   "id": "2cd2e139",
   "metadata": {},
   "outputs": [
    {
     "name": "stdout",
     "output_type": "stream",
     "text": [
      "n=10\n",
      "[-5, 0, 5, 0, -8, 10, 0, -9, -11, -9]\n",
      "soni= 6\n",
      "-5 0 0 10 -9 -9\n"
     ]
    }
   ],
   "source": [
    "# array -93) juft indeksli el.ni o`chiring\n",
    "from random import randint\n",
    "n=int(input(\"n=\"))\n",
    "a=[randint(-11,11) for _ in range(n)]\n",
    "print(a);b=[a[0]]\n",
    "for i in range(1,n,2):\n",
    "    b.append(a[i])\n",
    "a=b\n",
    "print(\"soni=\",len(a))\n",
    "print(*a)"
   ]
  },
  {
   "cell_type": "code",
   "execution_count": 30,
   "id": "3ce4090d",
   "metadata": {},
   "outputs": [
    {
     "name": "stdout",
     "output_type": "stream",
     "text": [
      "n=10\n",
      "[11, 5, 0, -7, 7, 0, 9, -8, -4, -1]\n",
      "soni= 6\n",
      "11 5 -7 0 -8 -1\n"
     ]
    }
   ],
   "source": [
    "# array -93) juft indeksli el.ni o`chiring massiv qo`shmasdan\n",
    "from random import randint\n",
    "n=int(input(\"n=\"))\n",
    "a=[randint(-11,11) for _ in range(n)]\n",
    "print(a);i=2\n",
    "while i<len(a):\n",
    "    a.pop(i)\n",
    "    i+=1\n",
    "print(\"soni=\",len(a))\n",
    "print(*a)"
   ]
  },
  {
   "cell_type": "code",
   "execution_count": 28,
   "id": "d181f3a9",
   "metadata": {},
   "outputs": [
    {
     "name": "stdout",
     "output_type": "stream",
     "text": [
      "n=10\n",
      "[10, 6, -4, -5, 6, 1, 6, 10, -9, 6]\n",
      "soni= 5\n",
      "10 -4 6 6 -9\n"
     ]
    }
   ],
   "source": [
    "# array -94) toq indeksli el.ni o`chiring massiv qo`shmasdan\n",
    "from random import randint\n",
    "n=int(input(\"n=\"))\n",
    "a=[randint(-11,11) for _ in range(n)]\n",
    "print(a);i=1\n",
    "while i<len(a):\n",
    "    a.pop(i)\n",
    "    i+=1\n",
    "print(\"soni=\",len(a))\n",
    "print(*a)"
   ]
  },
  {
   "cell_type": "code",
   "execution_count": 34,
   "id": "6746ac22",
   "metadata": {},
   "outputs": [
    {
     "name": "stdout",
     "output_type": "stream",
     "text": [
      "n=10\n",
      "[3, 0, 1, 0, 1, 0, 2, 1, 1, 2]\n",
      "3 0 1 0 1 0 2 1 2\n"
     ]
    }
   ],
   "source": [
    "# array -95 bir hil qo`shnilarni birini o`chiruvchi\n",
    "from random import randint\n",
    "n=int(input(\"n=\"))\n",
    "a=[randint(0,3) for _ in range(n)]\n",
    "print(a);i=1\n",
    "while i<len(a):\n",
    "    if a[i-1]==a[i]:\n",
    "        a.pop(i)\n",
    "        i-=1\n",
    "    i+=1\n",
    "print(*a)"
   ]
  },
  {
   "cell_type": "code",
   "execution_count": null,
   "id": "b1680abd",
   "metadata": {},
   "outputs": [],
   "source": [
    "# array -95 public version bir hil qo`shnilarni birini o`chiruvchi\n",
    "from random import randint\n",
    "n = int(input(\"N = \"))\n",
    "a = [int(input(\"a = \")) for i in range(n)]\n",
    "print(a)\n",
    "i = 1\n",
    "while i<len(a):\n",
    "    if a[i-1]==a[i]:\n",
    "        del a[i]\n",
    "        continue\n",
    "    i+=1\n",
    "print(a)\n"
   ]
  },
  {
   "cell_type": "code",
   "execution_count": 2,
   "id": "388cd126",
   "metadata": {},
   "outputs": [
    {
     "name": "stdout",
     "output_type": "stream",
     "text": [
      "n=10\n",
      "[2, 1, 3, 0, 0, 0, 0, 0, 1, 2]\n",
      "2 1 3 0\n"
     ]
    }
   ],
   "source": [
    "# array -96 bir hil qiymatdagilarni o`chiruvchi,birinchisi qoladi\n",
    "from random import randint\n",
    "n=int(input(\"n=\"))\n",
    "a=[randint(0,3) for _ in range(n)]\n",
    "print(a)\n",
    "b=[];i=0\n",
    "while i<len(a):\n",
    "    if a[i] in b:\n",
    "        a.pop(i)\n",
    "        i-=1\n",
    "    else:\n",
    "        b.append(a[i])\n",
    "    i+=1\n",
    "print(*b)"
   ]
  },
  {
   "cell_type": "code",
   "execution_count": 12,
   "id": "2c950f6d",
   "metadata": {},
   "outputs": [
    {
     "name": "stdout",
     "output_type": "stream",
     "text": [
      "n=10\n",
      "[1, 0, 1, 3, 3, 1, 0, 0, 3, 0]\n",
      "1 3 0\n"
     ]
    }
   ],
   "source": [
    "# array -97)  bir hil qiymatdagilarni o`chiruvchi,oxirgisi qoladi\n",
    "from random import randint\n",
    "n=int(input(\"n=\"))\n",
    "a=[randint(0,3) for _ in range(n)]\n",
    "print(a)\n",
    "b=[];i=0\n",
    "while i<len(a):\n",
    "    c=len(a)-1-i\n",
    "    if a[c] in b:\n",
    "        a.pop(c)\n",
    "        i-=1\n",
    "    else:\n",
    "        b.insert(0,a[c])\n",
    "    i+=1\n",
    "print(*b)"
   ]
  },
  {
   "cell_type": "code",
   "execution_count": 9,
   "id": "83bb9cbf",
   "metadata": {},
   "outputs": [
    {
     "name": "stdout",
     "output_type": "stream",
     "text": [
      "n=15\n",
      "[0, 5, 4, 5, 1, 5, 3, 2, 4, 4, 5, 0, 4, 1, 2]\n",
      "[0, 5, 4, 1, 3, 2] [2, 4, 4, 2, 1, 2]\n",
      "soni= 8\n",
      "5 4 5 5 4 4 5 4\n"
     ]
    }
   ],
   "source": [
    "# array -98)  uch martadan kam uchragan el.larni o`chiruvchi,natija va soni\n",
    "from random import randint\n",
    "n=int(input(\"n=\"))\n",
    "a=[randint(0,5) for _ in range(n)]\n",
    "print(a)\n",
    "b=[];c=[];i=0\n",
    "for i in range(n):\n",
    "    if a[i] in b:\n",
    "        c[b.index(a[i])]+=1\n",
    "    else:\n",
    "        b.append(a[i])\n",
    "        c.append(1)\n",
    "print(b,c)\n",
    "for j in range(len(b)):\n",
    "    if c[j]<3:\n",
    "        for _ in range(c[j]):\n",
    "           a.remove(b[j])\n",
    "        \n",
    "print(\"soni=\",len(a))\n",
    "print(*a)"
   ]
  },
  {
   "cell_type": "code",
   "execution_count": 3,
   "id": "5ecb9e49",
   "metadata": {},
   "outputs": [
    {
     "name": "stdout",
     "output_type": "stream",
     "text": [
      "N = 15\n",
      "[2, 1, 3, 3, 4, 2, 4, 3, 5, 1, 3, 5, 4, 4, 1]\n",
      "[1, 3, 3, 4, 4, 3, 1, 3, 4, 4, 1]\n",
      "11\n"
     ]
    }
   ],
   "source": [
    "# array 98 public version optimalroq\n",
    "from random import randint\n",
    "n = int(input(\"N = \"))\n",
    "a = [randint(0,5) for i in range(n)]\n",
    "print(a)\n",
    "i = 0\n",
    "while i<len(a):\n",
    "    soni = a.count(a[i])\n",
    "    if soni<3:\n",
    "        x = a[i]\n",
    "        for _ in range(soni):\n",
    "            a.remove(x)\n",
    "        continue\n",
    "    i+=1\n",
    "print(a)\n",
    "print(len(a))\n"
   ]
  },
  {
   "cell_type": "code",
   "execution_count": 15,
   "id": "403d89d3",
   "metadata": {},
   "outputs": [
    {
     "name": "stdout",
     "output_type": "stream",
     "text": [
      "n=10\n",
      "[5, 1, 2, 1, 1, 1, 0, 0, 5, 1]\n",
      "[5, 1, 2, 0] [2, 5, 1, 2]\n",
      "soni= 5\n",
      "5 2 0 0 5\n"
     ]
    }
   ],
   "source": [
    "# array -99)  ikki martadan ko`p uchraganlarini o`chiruvchi,natija v soni\n",
    "from random import randint\n",
    "n=int(input(\"n=\"))\n",
    "a=[randint(0,5) for _ in range(n)]\n",
    "print(a)\n",
    "b=[];c=[];i=0\n",
    "for i in range(n):\n",
    "    if a[i] in b:\n",
    "        c[b.index(a[i])]+=1\n",
    "    else:\n",
    "        b.append(a[i])\n",
    "        c.append(1)\n",
    "print(b,c)\n",
    "for j in range(len(b)):\n",
    "    if c[j]>2:\n",
    "        for _ in range(c[j]):\n",
    "           a.remove(b[j])\n",
    "        \n",
    "print(\"soni=\",len(a))\n",
    "print(*a)"
   ]
  },
  {
   "cell_type": "code",
   "execution_count": 16,
   "id": "36572f40",
   "metadata": {},
   "outputs": [
    {
     "name": "stdout",
     "output_type": "stream",
     "text": [
      "n=10\n",
      "[1, 1, 4, 4, 3, 2, 1, 5, 2, 1]\n",
      "[1, 4, 3, 2, 5] [4, 2, 1, 2, 1]\n",
      "soni= 6\n",
      "1 1 3 1 5 1\n"
     ]
    }
   ],
   "source": [
    "# array -100) faqat ikki marta uchraganini o`chiruvchi\n",
    "from random import randint\n",
    "n=int(input(\"n=\"))\n",
    "a=[randint(0,5) for _ in range(n)]\n",
    "print(a)\n",
    "b=[];c=[];i=0\n",
    "for i in range(n):\n",
    "    if a[i] in b:\n",
    "        c[b.index(a[i])]+=1\n",
    "    else:\n",
    "        b.append(a[i])\n",
    "        c.append(1)\n",
    "print(b,c)\n",
    "for j in range(len(b)):\n",
    "    if c[j]==2:\n",
    "        for _ in range(c[j]):\n",
    "           a.remove(b[j])\n",
    "        \n",
    "print(\"soni=\",len(a))\n",
    "print(*a)"
   ]
  },
  {
   "cell_type": "code",
   "execution_count": null,
   "id": "6869a273",
   "metadata": {},
   "outputs": [],
   "source": [
    "# Array 100 public version\n",
    "from random import randint\n",
    "n = int(input(\"N = \"))\n",
    "a = [randint(1,9) for i in range(n)]\n",
    "print(a)\n",
    "i = 0\n",
    "while i<len(a):\n",
    "    soni = a.count(a[i])\n",
    "    if soni==2:\n",
    "        x = a[i]\n",
    "        for _ in range(soni):\n",
    "            a.remove(x)\n",
    "        continue\n",
    "    i+=1\n",
    "print(a)\n",
    "print(len(a))"
   ]
  },
  {
   "cell_type": "code",
   "execution_count": 17,
   "id": "64b16209",
   "metadata": {},
   "outputs": [
    {
     "name": "stdout",
     "output_type": "stream",
     "text": [
      "n=10\n",
      "k=2\n",
      "[1, 5, 4, 5, 3, 2, 3, 3, 2, 2]\n",
      "[1, 5, 0, 4, 5, 3, 2, 3, 3, 2, 2]\n"
     ]
    }
   ],
   "source": [
    "# array -101) indeksi k bo`lgan element oldiga 0 qo`shuvchi\n",
    "from random import randint\n",
    "n=int(input(\"n=\"))\n",
    "k=int(input(\"k=\"))\n",
    "a=[randint(0,5) for _ in range(n)]\n",
    "print(a)\n",
    "a.insert(k,0)\n",
    "print(a)"
   ]
  },
  {
   "cell_type": "code",
   "execution_count": 7,
   "id": "b5e07a16",
   "metadata": {},
   "outputs": [
    {
     "name": "stdout",
     "output_type": "stream",
     "text": [
      "n=10\n",
      "k=3\n",
      "[5, 1, 1, 3, 3, 3, 2, 0, 0, 4]\n",
      "[5, 1, 1, 0, 3, 0, 3, 0, 3, 2, 0, 0, 4]\n"
     ]
    }
   ],
   "source": [
    "# array -101) qiymati k bo`lgan element oldiga 0 qo`shuvchi\n",
    "from random import randint\n",
    "n=int(input(\"n=\"))\n",
    "k=int(input(\"k=\"))\n",
    "a=[randint(0,5) for _ in range(n)]\n",
    "print(a);i=0\n",
    "while i<len(a):\n",
    "    if a[i]==k:\n",
    "        a.insert(i,0)\n",
    "        i+=1\n",
    "    i+=1\n",
    "print(a)"
   ]
  },
  {
   "cell_type": "code",
   "execution_count": 18,
   "id": "5f2e7a99",
   "metadata": {},
   "outputs": [
    {
     "name": "stdout",
     "output_type": "stream",
     "text": [
      "n=10\n",
      "k=2\n",
      "[3, 0, 5, 1, 2, 4, 2, 2, 4, 1]\n",
      "[3, 0, 5, 0, 1, 2, 4, 2, 2, 4, 1]\n"
     ]
    }
   ],
   "source": [
    "# array -102) indeksi k bo`lgan elementdan keyin 0 qo`shuvchi\n",
    "from random import randint\n",
    "n=int(input(\"n=\"))\n",
    "k=int(input(\"k=\"))\n",
    "a=[randint(0,5) for _ in range(n)]\n",
    "print(a)\n",
    "a.insert(k+1,0)\n",
    "print(a)"
   ]
  },
  {
   "cell_type": "code",
   "execution_count": 9,
   "id": "3400356b",
   "metadata": {},
   "outputs": [
    {
     "name": "stdout",
     "output_type": "stream",
     "text": [
      "n=10\n",
      "k=2\n",
      "[0, 0, 2, 1, 0, 4, 4, 0, 3, 5]\n",
      "[0, 0, 2, 0, 1, 0, 4, 4, 0, 3, 5]\n"
     ]
    }
   ],
   "source": [
    "# array -102) qiymati k bo`lgan elementdan keyin 0 qo`shuvchi\n",
    "from random import randint\n",
    "n=int(input(\"n=\"))\n",
    "k=int(input(\"k=\"))\n",
    "a=[randint(0,5) for _ in range(n)]\n",
    "print(a)\n",
    "i=0\n",
    "while i<len(a):\n",
    "    if a[i]==k:\n",
    "        a.insert(i+1,0)\n",
    "        i+=1\n",
    "    i+=1\n",
    "print(a)"
   ]
  },
  {
   "cell_type": "code",
   "execution_count": 19,
   "id": "029a12d8",
   "metadata": {},
   "outputs": [
    {
     "name": "stdout",
     "output_type": "stream",
     "text": [
      "n=10\n",
      "k=2\n",
      "[4, 2, 2, 0, 1, 1, 0, 5, 4, 5]\n",
      "[4, 2, 2, 0, 0, 1, 1, 0, 5, 0, 4, 5]\n"
     ]
    }
   ],
   "source": [
    "# array -103) eng kichik el.dan oldin va eng katta el.dan  keyin 0 qo`shuvchi\n",
    "from random import randint\n",
    "n=int(input(\"n=\"))\n",
    "a=[randint(0,5) for _ in range(n)]\n",
    "print(a)\n",
    "a.insert(a.index(min(a)),0)\n",
    "a.insert(a.index(max(a))+1,0)\n",
    "print(a)"
   ]
  },
  {
   "cell_type": "code",
   "execution_count": 22,
   "id": "5d71d280",
   "metadata": {},
   "outputs": [
    {
     "name": "stdout",
     "output_type": "stream",
     "text": [
      "n=10\n",
      "k=2\n",
      "m=3\n",
      "[3, 4, 4, 2, 2, 5, 5, 0, 3, 2]\n",
      "[3, 4, 0, 0, 0, 4, 2, 2, 5, 5, 0, 3, 2]\n"
     ]
    }
   ],
   "source": [
    "# array -104)   indexi k bo`lgan el. oldidan m ta 0 qo`shuvchi\n",
    "from random import randint\n",
    "n=int(input(\"n=\"))\n",
    "k=int(input(\"k=\"))\n",
    "m=int(input(\"m=\"))\n",
    "a=[randint(0,5) for _ in range(n)]\n",
    "print(a)\n",
    "for i in range(m):\n",
    "    a.insert(k,0)\n",
    "print(a)"
   ]
  },
  {
   "cell_type": "code",
   "execution_count": null,
   "id": "23eeb2af",
   "metadata": {},
   "outputs": [],
   "source": [
    "# array -104)   qiymati k bo`lgan el. oldidan m ta 0 qo`shuvchi\n",
    "from random import randint\n",
    "n=int(input(\"n=\"))\n",
    "k=int(input(\"k=\"))\n",
    "m=int(input(\"m=\"))\n",
    "a=[randint(0,5) for _ in range(n)]\n",
    "print(a)\n",
    "i=0\n",
    "while i<len(a):\n",
    "    if a[i]==k:\n",
    "        for _ in range(m): \n",
    "            a.insert(i,0)\n",
    "        i+=m\n",
    "    i+=1\n",
    "print(a)"
   ]
  },
  {
   "cell_type": "code",
   "execution_count": null,
   "id": "5fa8197f",
   "metadata": {},
   "outputs": [],
   "source": [
    "# Array104  public version- Plus K index emas array elementi\n",
    "n = int(input('n = '))\n",
    "k = int(input('k = '))\n",
    "m = int(input('m = '))\n",
    "a = [randint(1,5) for i in range(n)]\n",
    "print(a)\n",
    "i = 0\n",
    "while i < len(a):\n",
    "    if a[i] == k:\n",
    "        for j in range(m):\n",
    "            a.insert(i,0)\n",
    "        i += m\n",
    "    i += 1\n",
    "print(a)"
   ]
  },
  {
   "cell_type": "code",
   "execution_count": null,
   "id": "4551f25c",
   "metadata": {},
   "outputs": [],
   "source": [
    "# massiv ichidagi tub sonlarning oldiga va orqasiga 0 qo`shish\n",
    "from math import sqrt\n",
    "def IsPrime(n):\n",
    "    a=True\n",
    "    if n==2:\n",
    "        return a\n",
    "    if n%2==0:\n",
    "        return False\n",
    "    for i in range(3,int(sqrt(n))+1,2):        \n",
    "        if n%i==0:\n",
    "            a=False\n",
    "            break\n",
    "    return a    \n",
    "from random import randint\n",
    "n=int(input(\"n=\"))\n",
    "a=[randint(0,10) for _ in range(n)]\n",
    "print(a)\n",
    "i = 0\n",
    "while i<len(a):\n",
    "    if IsPrime(a[i]):\n",
    "        a.insert(i,0)\n",
    "        a.insert(i+2,0)\n",
    "        i+=2\n",
    "    i+=1\n",
    "print(a)"
   ]
  },
  {
   "cell_type": "code",
   "execution_count": null,
   "id": "e49fd2a2",
   "metadata": {},
   "outputs": [],
   "source": [
    "# public version massiv ichidagi tub sonlarning oldiga va orqasiga 0 qo`shish\n",
    "from math import sqrt\n",
    "n = int(input('n='))\n",
    "A = [randint(1,10) for i in range(n)]\n",
    "print(A)\n",
    "def tub(x):\n",
    "    s = 0\n",
    "    if x==1:\n",
    "        return False\n",
    "    for i in range(2,int(sqrt(x))+1):\n",
    "        if x%i==0:\n",
    "            s+=1\n",
    "    if s==0:\n",
    "        return True\n",
    "    return False\n",
    "i = 0\n",
    "while i<len(A):    \n",
    "    if tub(A[i]):\n",
    "        A.insert(i,0)\n",
    "        A.insert(i+2,0)\n",
    "        i+=2\n",
    "    i+=1\n",
    "print(A)"
   ]
  },
  {
   "cell_type": "code",
   "execution_count": 23,
   "id": "ec8c57f4",
   "metadata": {},
   "outputs": [
    {
     "name": "stdout",
     "output_type": "stream",
     "text": [
      "n=10\n",
      "k=2\n",
      "m=3\n",
      "[3, 4, 1, 0, 5, 0, 3, 3, 0, 3]\n",
      "[3, 4, 1, 0, 0, 0, 0, 5, 0, 3, 3, 0, 3]\n"
     ]
    }
   ],
   "source": [
    "# array -105)   indexi k bo`lgan el.dan keyin m ta 0 qo`shuvchi\n",
    "from random import randint\n",
    "n=int(input(\"n=\"))\n",
    "k=int(input(\"k=\"))\n",
    "m=int(input(\"m=\"))\n",
    "a=[randint(0,5) for _ in range(n)]\n",
    "print(a)\n",
    "for i in range(m):\n",
    "    a.insert(k+1,0)\n",
    "print(a)"
   ]
  },
  {
   "cell_type": "code",
   "execution_count": 26,
   "id": "9bb562aa",
   "metadata": {},
   "outputs": [
    {
     "name": "stdout",
     "output_type": "stream",
     "text": [
      "n=11\n",
      "[3, 0, 0, 5, 2, 5, 2, 0, 1, 2, 3]\n",
      "[3, 0, 0, 5, 2, 5, 2, 0, 1, 2, 3, 0, 2, 2, 1, 3]\n"
     ]
    }
   ],
   "source": [
    "# array -106) massivga shu massivning juft indexli el.larini qo`shuvchi\n",
    "from random import randint\n",
    "n=int(input(\"n=\"))\n",
    "a=[randint(0,5) for _ in range(n)]\n",
    "print(a)\n",
    "a=a+a[2::2]\n",
    "print(a)"
   ]
  },
  {
   "cell_type": "code",
   "execution_count": 38,
   "id": "f161f6d0",
   "metadata": {},
   "outputs": [
    {
     "name": "stdout",
     "output_type": "stream",
     "text": [
      "n=10\n",
      "[5, 3, 3, 1, 5, 0, 2, 2, 2, 3]\n",
      "[5, 3, 3, 1, 5, 0, 2, 2, 2, 3, 3, 1, 0, 2, 3, 3, 1, 0, 2, 3]\n"
     ]
    }
   ],
   "source": [
    "# array -107) massivga shu massivning toq indexli el.larini 2 marta qo`shuvchi\n",
    "from random import randint\n",
    "n=int(input(\"n=\"))\n",
    "a=[randint(0,5) for _ in range(n)]\n",
    "print(a)\n",
    "a=a+2*a[1::2]\n",
    "print(a)"
   ]
  },
  {
   "cell_type": "code",
   "execution_count": 35,
   "id": "07946bce",
   "metadata": {},
   "outputs": [
    {
     "name": "stdout",
     "output_type": "stream",
     "text": [
      "n=10\n",
      "[5, 5, 4, 5, -2, -5, -5, 2, 4, -5]\n",
      "[0, 5, 0, 5, 0, 4, 0, 5, -2, -5, -5, 0, 2, 0, 4, -5]\n"
     ]
    }
   ],
   "source": [
    "# array -108) massivning musbat el.lari oldidan 0 qo`shuvchi\n",
    "from random import randint\n",
    "n=int(input(\"n=\"))\n",
    "a=[randint(-5,5) for _ in range(n)]\n",
    "print(a);i=0\n",
    "while i<len(a):\n",
    "    if a[i]>0:\n",
    "        a.insert(i,0)\n",
    "        i+=1\n",
    "    i+=1\n",
    "    \n",
    "print(a)"
   ]
  },
  {
   "cell_type": "code",
   "execution_count": 34,
   "id": "8feadaf6",
   "metadata": {},
   "outputs": [
    {
     "name": "stdout",
     "output_type": "stream",
     "text": [
      "n=10\n",
      "[-3, 2, -3, 3, 5, 0, -5, -4, -2, 0]\n",
      "[-3, 0, 2, -3, 0, 3, 5, 0, -5, 0, -4, 0, -2, 0, 0]\n"
     ]
    }
   ],
   "source": [
    "# array -109) massivning manfiy el.laridan keyin 0 qo`shuvchi\n",
    "from random import randint\n",
    "n=int(input(\"n=\"))\n",
    "a=[randint(-5,5) for _ in range(n)]\n",
    "print(a);i=0\n",
    "while i<len(a):\n",
    "    if a[i]<0:\n",
    "        a.insert(i+1,0)\n",
    "        i+=1\n",
    "    i+=1    \n",
    "print(a)"
   ]
  },
  {
   "cell_type": "code",
   "execution_count": 36,
   "id": "96e93003",
   "metadata": {},
   "outputs": [
    {
     "name": "stdout",
     "output_type": "stream",
     "text": [
      "n=10\n",
      "[4, 4, -5, 3, 2, -4, 2, -5, 3, -5]\n",
      "[4, 4, -5, 3, 2, -4, 2, -5, 3, -5, 4, 4, 2, -4, 2]\n"
     ]
    }
   ],
   "source": [
    "# array -110) massivning juft el.larini qo`shuvchi\n",
    "from random import randint\n",
    "n=int(input(\"n=\"))\n",
    "a=[randint(-5,5) for _ in range(n)]\n",
    "print(a)\n",
    "a=a+[i for i in a if i%2==0]\n",
    "print(a)"
   ]
  },
  {
   "cell_type": "code",
   "execution_count": 37,
   "id": "7978f9ca",
   "metadata": {},
   "outputs": [
    {
     "name": "stdout",
     "output_type": "stream",
     "text": [
      "n=10\n",
      "[3, -4, 1, 1, -1, -5, -2, 4, -1, -5]\n",
      "[3, -4, 1, 1, -1, -5, -2, 4, -1, -5, 3, 1, 1, -1, -5, -1, -5, 3, 1, 1, -1, -5, -1, -5]\n"
     ]
    }
   ],
   "source": [
    "# array -111) massivning toq el.larini 2 marta qo`shuvchi\n",
    "from random import randint\n",
    "n=int(input(\"n=\"))\n",
    "a=[randint(-5,5) for _ in range(n)]\n",
    "print(a)\n",
    "a=a+2*[i for i in a if i%2==1]\n",
    "print(a)"
   ]
  },
  {
   "cell_type": "code",
   "execution_count": 44,
   "id": "31bd90f9",
   "metadata": {},
   "outputs": [
    {
     "name": "stdout",
     "output_type": "stream",
     "text": [
      "n=10\n",
      "[3, -5, -3, -4, 0, 4, -3, -3, 1, -1]\n",
      "[-5, -4, -3, -3, -3, -1, 0, 1, 3, 4]\n"
     ]
    }
   ],
   "source": [
    "# array -112) massivni (pufaksimon saralash) algoritmi bilan saralovchi\n",
    "# har bir el. o`zidan keyin turgan el. bilan solishtiriladi\n",
    "# agar o`zidan keyin turgan element undan kichik bo`lsa, ularni qiymati almashtiriladi\n",
    "# natijada eng katta son o`ng tomonga yig`ila boshlaydi\n",
    "from random import randint\n",
    "n=int(input(\"n=\"))\n",
    "a=[randint(-5,5) for _ in range(n)]\n",
    "print(a)\n",
    "for j in range(n-1):\n",
    "    for i in range(n-1-j):        \n",
    "        if a[i]>a[i+1]:\n",
    "            a[i],a[i+1]=a[i+1],a[i]           \n",
    "print(a)"
   ]
  },
  {
   "cell_type": "code",
   "execution_count": 15,
   "id": "2028afcc",
   "metadata": {},
   "outputs": [
    {
     "name": "stdout",
     "output_type": "stream",
     "text": [
      "n=12\n",
      "[-1, -5, 1, 1, 2, -2, -4, -4, -5, 3, 1, -4]\n",
      "[-5, -5, -4, -4, -4, -2, -1, 1, 1, 1, 2, 3]\n"
     ]
    }
   ],
   "source": [
    "# array -113) massivni (oddiy tanlash) algoritmi bilan saralovchi  (selection sort)\n",
    "# har bir element o`zidan keyin turgan elementlarning eng kichigi bilan almastiriladi\n",
    "# massivning eng kichik el.lari dastlabki elementlar bilan almashtiriladi\n",
    "from random import randint\n",
    "n=int(input(\"n=\"))\n",
    "a=[randint(-5,5) for _ in range(n)]\n",
    "print(a)\n",
    "for i in range(n):\n",
    "    i_son=a[i]\n",
    "    index=i\n",
    "    for j in range(i+1,n):\n",
    "        if i_son>a[j]:\n",
    "            i_son=a[j]\n",
    "            index=j\n",
    "    a[i],a[index]=a[index],a[i]            \n",
    "print(a)"
   ]
  },
  {
   "cell_type": "code",
   "execution_count": 8,
   "id": "000ad74a",
   "metadata": {},
   "outputs": [
    {
     "name": "stdout",
     "output_type": "stream",
     "text": [
      "n=10\n",
      "[3, 2, -3, -2, -3, 5, -3, 4, 4, 5]\n",
      "[-3, 2, 3, -2, -3, 5, -3, 4, 4, 5]\n",
      "[-3, -3, 3, -2, 2, 5, -3, 4, 4, 5]\n",
      "[-3, -3, -3, -2, 2, 5, 3, 4, 4, 5]\n",
      "[-3, -3, -3, -2, 2, 5, 3, 4, 4, 5]\n",
      "[-3, -3, -3, -2, 2, 5, 3, 4, 4, 5]\n",
      "[-3, -3, -3, -2, 2, 3, 5, 4, 4, 5]\n",
      "[-3, -3, -3, -2, 2, 3, 4, 5, 4, 5]\n",
      "[-3, -3, -3, -2, 2, 3, 4, 4, 5, 5]\n",
      "[-3, -3, -3, -2, 2, 3, 4, 4, 5, 5]\n",
      "[-3, -3, -3, -2, 2, 3, 4, 4, 5, 5]\n",
      "[-3, -3, -3, -2, 2, 3, 4, 4, 5, 5]\n"
     ]
    }
   ],
   "source": [
    "# Array 113 public version\n",
    "n=int(input(\"n=\"))\n",
    "a=[randint(-5,5) for _ in range(n)]\n",
    "print(a)\n",
    "for i in range(n):\n",
    "    mini = a[i]\n",
    "    index = i\n",
    "    for j in range(i+1,n):\n",
    "        if mini> a[j]:\n",
    "            mini = a[j]\n",
    "            index = j\n",
    "    a[i],a[index] = a[index],a[i]\n",
    "    print(a)\n",
    "print(a)"
   ]
  },
  {
   "cell_type": "code",
   "execution_count": null,
   "id": "7da81d17",
   "metadata": {},
   "outputs": [],
   "source": [
    "# Array 114 oddiy qo`shish (insertion sort) algoritmi orqali massivni o`sish tartibida\n",
    "# a[0] va a[1] el.lar o`sish tartibida joylashtiriladi\n",
    "# yani zarurat bo`lsa qiymatlar almashtiriladi\n",
    "# keyin a[2] shunday joylashtiriladiki bu uch element tartibli bo`ladi \n",
    "# shu tartibda har bir el. tartiblangan el. orasiga qo`shib boriladi\n",
    "# pastda optimalroq versiyasi bor\n",
    "from random import randint\n",
    "n=int(input(\"n=\"))\n",
    "a=[randint(-5,5) for _ in range(n)]\n",
    "print(a)\n",
    "for i in range(1,n):\n",
    "        i_son=a[i]\n",
    "        index=i-1\n",
    "        while index>=0:\n",
    "            if i_son<a[index]:\n",
    "                a[index+1]=a[index]\n",
    "                a[index]=i_son\n",
    "                index-=1\n",
    "            else:\n",
    "                break\n",
    "print(a)"
   ]
  },
  {
   "cell_type": "code",
   "execution_count": 20,
   "id": "3f5c62f7",
   "metadata": {},
   "outputs": [
    {
     "name": "stdout",
     "output_type": "stream",
     "text": [
      "n=10\n",
      "[-2, -2, 2, -1, -4, 4, 4, 4, -5, 0]\n",
      "[-5, -4, -2, -2, -1, 0, 2, 4, 4, 4]\n"
     ]
    }
   ],
   "source": [
    "# Array 114 optimal own version\n",
    "from random import randint\n",
    "n=int(input(\"n=\"))\n",
    "a=[randint(-5,5) for _ in range(n)]\n",
    "print(a)\n",
    "for i in range(1,n):\n",
    "    for j in range(i):\n",
    "        if a[i]<a[j]:\n",
    "            a.insert(j,a[i])\n",
    "            a.pop(i+1)\n",
    "            break\n",
    "print(a)"
   ]
  },
  {
   "cell_type": "code",
   "execution_count": null,
   "id": "6311a47e",
   "metadata": {},
   "outputs": [],
   "source": [
    "# Array 114 public version\n",
    "def massiv_yasa(n):\n",
    "    from random import randint\n",
    "    a = [randint(-n,n) for i in range(n)]\n",
    "    return a\n",
    "def sarala(a):\n",
    "    s=0\n",
    "    for i in range(n):\n",
    "        for j in range(i):\n",
    "            if a[i]<a[j]:\n",
    "                a.insert(j,a.pop(i))\n",
    "                break\n",
    "    return a\n",
    "n = int(input('n = '))\n",
    "a = massiv_yasa(n)\n",
    "print(a)\n",
    "print(sarala(a))"
   ]
  },
  {
   "cell_type": "code",
   "execution_count": 18,
   "id": "666be436",
   "metadata": {},
   "outputs": [
    {
     "name": "stdout",
     "output_type": "stream",
     "text": [
      "n=20\n",
      "[1, -5, 15, 0, -3, 4, -1, -3, -3, -8, -13, 9, -7, 14, -13, -7, -13, 8, 4, 6]\n",
      "[0, 1, 2, 3, 4, 5, 6, 7, 8, 9, 10, 11, 12, 13, 14, 15, 16, 17, 18, 19]\n",
      "[10, 14, 16, 9, 12, 15, 1, 4, 7, 8, 6, 3, 0, 5, 18, 19, 17, 11, 13, 2]\n",
      "[-13, -13, -13, -8, -7, -7, -5, -3, -3, -3, -1, 0, 1, 4, 4, 6, 8, 9, 14, 15]\n"
     ]
    }
   ],
   "source": [
    "# Array 115 pufak usulidan foydalanib massivni indekslarini shunday joylashtiringki massiv o`suvchi bo`lsin\n",
    "from random import randint\n",
    "n=int(input(\"n=\"))\n",
    "a=[randint(-15,15) for _ in range(n)]\n",
    "print(a)\n",
    "b=[i for i in range(n)]\n",
    "print(b)\n",
    "for j in range(n-1):        \n",
    "    for i in range(n-j-1):\n",
    "        if a[b[i]]>a[b[i+1]]:\n",
    "            b[i],b[i+1]=b[i+1],b[i]    \n",
    "print(b)\n",
    "c=[]\n",
    "# tekshiramiz\n",
    "for k in range(n):\n",
    "     c.append(a[b[k]])\n",
    "print(c)\n",
    "        "
   ]
  },
  {
   "cell_type": "code",
   "execution_count": 7,
   "id": "78d72a87",
   "metadata": {},
   "outputs": [
    {
     "name": "stdout",
     "output_type": "stream",
     "text": [
      "[5, 5]\n"
     ]
    }
   ],
   "source": []
  },
  {
   "cell_type": "code",
   "execution_count": 38,
   "id": "0f45c0e0",
   "metadata": {},
   "outputs": [
    {
     "name": "stdout",
     "output_type": "stream",
     "text": [
      "n=15\n",
      "[5, 0, 2, 0, 0, 0, 0, 4, 4, 5, 1, 2, 4, 5, 3]\n",
      "[1, 1, 1, 4, 2, 1, 1, 1, 1, 1, 1] [5, 0, 2, 0, 4, 5, 1, 2, 4, 5, 3]\n"
     ]
    }
   ],
   "source": [
    "#Array 116 b massivga a massivdagi seriyalar uzunligi, c ga el. qiymati\n",
    "from random import randint\n",
    "n=int(input(\"n=\"))\n",
    "a=[randint(0,5) for _ in range(n)]\n",
    "print(a)\n",
    "b=[1]\n",
    "c=[a[0]]\n",
    "for i in range(1,n):\n",
    "    if a[i-1]==a[i]:\n",
    "        b[-1]+=1\n",
    "    else:\n",
    "        c.append(a[i])\n",
    "        b.append(1)\n",
    "print(b,c)"
   ]
  },
  {
   "cell_type": "code",
   "execution_count": null,
   "id": "88f902bf",
   "metadata": {},
   "outputs": [],
   "source": [
    "#Array 116 public version\n",
    "n = int(input('n='))\n",
    "A = [randint(0,2) for i in range(n)]\n",
    "print(A)\n",
    "x = A[0]\n",
    "B = []   # seriyalar soni\n",
    "C = []   # seriyalar tashkil qilgan elementlar soni\n",
    "B.append(1)\n",
    "C.append(x)\n",
    "j = 0\n",
    "for i in range(1,len(A)):\n",
    "    if A[i]==x:\n",
    "        B[j] += 1\n",
    "    else:\n",
    "        x = A[i]\n",
    "        B.append(1)\n",
    "        C.append(x)\n",
    "        j+=1        \n",
    "print('B =',B)\n",
    "print('C =',C)"
   ]
  },
  {
   "cell_type": "code",
   "execution_count": 57,
   "id": "85dca35a",
   "metadata": {},
   "outputs": [
    {
     "name": "stdout",
     "output_type": "stream",
     "text": [
      "n=10\n",
      "[3, 1, 3, 1, 1, 5, 2, 1, 5, 5]\n",
      "[0, 3, 0, 1, 0, 3, 0, 1, 1, 0, 5, 0, 2, 0, 1, 0, 5, 5]\n"
     ]
    }
   ],
   "source": [
    "# array -117)  har bir seriya oldidan 0 qo`shing\n",
    "from random import randint\n",
    "n=int(input(\"n=\"))\n",
    "a=[randint(0,5) for _ in range(n)]\n",
    "print(a)\n",
    "a.insert(0,0)\n",
    "i=2\n",
    "while i<len(a):\n",
    "    if a[i-1]!=a[i]:\n",
    "        a.insert(i,0)\n",
    "        i+=1\n",
    "    i+=1\n",
    "print(a)\n",
    "        "
   ]
  },
  {
   "cell_type": "code",
   "execution_count": 58,
   "id": "077797e6",
   "metadata": {},
   "outputs": [
    {
     "name": "stdout",
     "output_type": "stream",
     "text": [
      "n=10\n",
      "[1, 0, 1, 1, 5, 2, 4, 4, 5, 2]\n",
      "[1, 0, 0, 0, 1, 1, 0, 5, 0, 2, 0, 4, 4, 0, 5, 0, 2, 0]\n"
     ]
    }
   ],
   "source": [
    "# array -118)  har bir seriyasidan keyin 0 qo`shing\n",
    "from random import randint\n",
    "n=int(input(\"n=\"))\n",
    "a=[randint(0,5) for _ in range(n)]\n",
    "print(a)\n",
    "i=1\n",
    "while i<len(a):\n",
    "    if a[i-1]!=a[i]:\n",
    "        a.insert(i,0)\n",
    "        i+=1\n",
    "    i+=1 \n",
    "if a[-3]==a[-1]:\n",
    "    a[-2],a[-1]=a[-1],a[-2]\n",
    "else:\n",
    "    a.append(0)\n",
    "print(a)"
   ]
  },
  {
   "cell_type": "code",
   "execution_count": 59,
   "id": "d9d2b3ad",
   "metadata": {},
   "outputs": [
    {
     "name": "stdout",
     "output_type": "stream",
     "text": [
      "n=10\n",
      "[1, 2, 1, 0, 5, 0, 3, 2, 5, 0]\n",
      "[1, 1, 2, 2, 1, 1, 0, 0, 5, 5, 0, 0, 3, 3, 2, 2, 5, 5, 0, 0]\n"
     ]
    }
   ],
   "source": [
    "# array -119)  har bir seriyaga 1 ta el. qo`shing\n",
    "from random import randint\n",
    "n=int(input(\"n=\"))\n",
    "a=[randint(0,5) for _ in range(n)]\n",
    "print(a)\n",
    "i=1\n",
    "while i<len(a):\n",
    "    if a[i-1]!=a[i]:\n",
    "        a.insert(i,a[i-1])\n",
    "        i+=1\n",
    "    i+=1 \n",
    "if a[-3]==a[-1]:\n",
    "    a[-2],a[-1]=a[-1],a[-2]\n",
    "else:\n",
    "    a.append(a[-1])\n",
    "print(a)"
   ]
  },
  {
   "cell_type": "code",
   "execution_count": 74,
   "id": "baedc67f",
   "metadata": {},
   "outputs": [
    {
     "name": "stdout",
     "output_type": "stream",
     "text": [
      "n=10\n",
      "[3, 2, 5, 2, 0, 1, 0, 2, 5, 5]\n",
      "[5]\n"
     ]
    }
   ],
   "source": [
    "# array -120)  massiv seriyalarini bittaga kamaytiring , kamida bitta 1 dan katta seriya bor\n",
    "from random import randint\n",
    "n=int(input(\"n=\"))\n",
    "a=[randint(0,5) for _ in range(n)]\n",
    "print(a)\n",
    "i=1\n",
    "while i<len(a):\n",
    "    if a[i-1]!=a[i]:\n",
    "        a.pop(i-1)\n",
    "        i-=1\n",
    "    i+=1\n",
    "# if a[-2]!=a[-1]:\n",
    "a.pop(-1)\n",
    "print(a)"
   ]
  },
  {
   "cell_type": "code",
   "execution_count": null,
   "id": "a30d09d3",
   "metadata": {},
   "outputs": [],
   "source": []
  }
 ],
 "metadata": {
  "kernelspec": {
   "display_name": "Python 3 (ipykernel)",
   "language": "python",
   "name": "python3"
  },
  "language_info": {
   "codemirror_mode": {
    "name": "ipython",
    "version": 3
   },
   "file_extension": ".py",
   "mimetype": "text/x-python",
   "name": "python",
   "nbconvert_exporter": "python",
   "pygments_lexer": "ipython3",
   "version": "3.8.10"
  }
 },
 "nbformat": 4,
 "nbformat_minor": 5
}
