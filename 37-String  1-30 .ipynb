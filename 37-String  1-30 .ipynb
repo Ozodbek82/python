{
 "cells": [
  {
   "cell_type": "code",
   "execution_count": 3,
   "id": "a8233689",
   "metadata": {},
   "outputs": [
    {
     "name": "stdout",
     "output_type": "stream",
     "text": [
      "1-\u0001 2-\u0002 3-\u0003 4-\u0004 5-\u0005 6-\u0006 7-\u0007 8-\b 9-\t 10-\n",
      " 11-\u000b",
      " 12-\f",
      " 13-\r",
      " 14-\u000e 15-\u000f 16-\u0010 17-\u0011 18-\u0012 19-\u0013 20-\u0014 21-\u0015 22-\u0016 23-\u0017 24-\u0018 25-\u0019 26-\u001a 27-\u001b 28-\u001c",
      " 29-\u001d",
      " 30-\u001e",
      " 31-\u001f 32-  33-! 34-\" 35-# 36-$ 37-% 38-& 39-' 40-( 41-) 42-* 43-+ 44-, 45-- 46-. 47-/ 48-0 49-1 50-2 51-3 52-4 53-5 54-6 55-7 56-8 57-9 58-: 59-; 60-< 61-= 62-> 63-? 64-@ 65-A 66-B 67-C 68-D 69-E 70-F 71-G 72-H 73-I 74-J 75-K 76-L 77-M 78-N 79-O 80-P 81-Q 82-R 83-S 84-T 85-U 86-V 87-W 88-X 89-Y 90-Z 91-[ 92-\\ 93-] 94-^ 95-_ 96-` 97-a 98-b 99-c 100-d 101-e 102-f 103-g 104-h 105-i 106-j 107-k 108-l 109-m 110-n 111-o 112-p 113-q 114-r 115-s 116-t 117-u 118-v 119-w 120-x 121-y 122-z 123-{ 124-| 125-} 126-~ 127- 128- 129- 130- 131- 132- 133-",
      " 134- 135- 136- 137- 138- 139- 140- 141- 142- 143- 144- 145- 146- 147- 148- 149- 150- 151- 152- 153- 154- 155- 156- 157- 158- 159- 160-  161-¡ 162-¢ 163-£ 164-¤ 165-¥ 166-¦ 167-§ 168-¨ 169-© 170-ª 171-« 172-¬ 173-­ 174-® 175-¯ 176-° 177-± 178-² 179-³ 180-´ 181-µ 182-¶ 183-· 184-¸ 185-¹ 186-º 187-» 188-¼ 189-½ 190-¾ 191-¿ 192-À 193-Á 194-Â 195-Ã 196-Ä 197-Å 198-Æ 199-Ç 200-È 201-É 202-Ê 203-Ë 204-Ì 205-Í 206-Î 207-Ï 208-Ð 209-Ñ 210-Ò 211-Ó 212-Ô 213-Õ 214-Ö 215-× 216-Ø 217-Ù 218-Ú 219-Û 220-Ü 221-Ý 222-Þ 223-ß 224-à 225-á 226-â 227-ã 228-ä 229-å 230-æ 231-ç 232-è 233-é 234-ê 235-ë 236-ì 237-í 238-î 239-ï 240-ð 241-ñ 242-ò 243-ó 244-ô 245-õ 246-ö 247-÷ 248-ø 249-ù 250-ú 251-û 252-ü 253-ý 254-þ 255-ÿ 256-Ā 257-ā 258-Ă 259-ă 260-Ą 261-ą 262-Ć 263-ć 264-Ĉ 265-ĉ 266-Ċ 267-ċ 268-Č 269-č 270-Ď 271-ď 272-Đ 273-đ 274-Ē 275-ē 276-Ĕ 277-ĕ 278-Ė 279-ė 280-Ę 281-ę 282-Ě 283-ě 284-Ĝ 285-ĝ 286-Ğ 287-ğ 288-Ġ 289-ġ 290-Ģ 291-ģ 292-Ĥ 293-ĥ 294-Ħ 295-ħ 296-Ĩ 297-ĩ 298-Ī 299-ī 300-Ĭ 301-ĭ 302-Į 303-į 304-İ 305-ı 306-Ĳ 307-ĳ 308-Ĵ 309-ĵ 310-Ķ 311-ķ 312-ĸ 313-Ĺ 314-ĺ 315-Ļ 316-ļ 317-Ľ 318-ľ 319-Ŀ 320-ŀ 321-Ł 322-ł 323-Ń 324-ń 325-Ņ 326-ņ 327-Ň 328-ň 329-ŉ 330-Ŋ 331-ŋ 332-Ō 333-ō 334-Ŏ 335-ŏ 336-Ő 337-ő 338-Œ 339-œ 340-Ŕ 341-ŕ 342-Ŗ 343-ŗ 344-Ř 345-ř 346-Ś 347-ś 348-Ŝ 349-ŝ 350-Ş 351-ş 352-Š 353-š 354-Ţ 355-ţ 356-Ť 357-ť 358-Ŧ 359-ŧ 360-Ũ 361-ũ 362-Ū 363-ū 364-Ŭ 365-ŭ 366-Ů 367-ů 368-Ű 369-ű 370-Ų 371-ų 372-Ŵ 373-ŵ 374-Ŷ 375-ŷ 376-Ÿ 377-Ź 378-ź 379-Ż 380-ż 381-Ž 382-ž 383-ſ 384-ƀ 385-Ɓ 386-Ƃ 387-ƃ 388-Ƅ 389-ƅ 390-Ɔ 391-Ƈ 392-ƈ 393-Ɖ 394-Ɗ 395-Ƌ 396-ƌ 397-ƍ 398-Ǝ 399-Ə 400-Ɛ 401-Ƒ 402-ƒ 403-Ɠ 404-Ɣ 405-ƕ 406-Ɩ 407-Ɨ 408-Ƙ 409-ƙ 410-ƚ 411-ƛ 412-Ɯ 413-Ɲ 414-ƞ 415-Ɵ 416-Ơ 417-ơ 418-Ƣ 419-ƣ 420-Ƥ 421-ƥ 422-Ʀ 423-Ƨ 424-ƨ 425-Ʃ 426-ƪ 427-ƫ 428-Ƭ 429-ƭ 430-Ʈ 431-Ư 432-ư 433-Ʊ 434-Ʋ 435-Ƴ 436-ƴ 437-Ƶ 438-ƶ 439-Ʒ 440-Ƹ 441-ƹ 442-ƺ 443-ƻ 444-Ƽ 445-ƽ 446-ƾ 447-ƿ 448-ǀ 449-ǁ 450-ǂ 451-ǃ 452-Ǆ 453-ǅ 454-ǆ 455-Ǉ 456-ǈ 457-ǉ 458-Ǌ 459-ǋ 460-ǌ 461-Ǎ 462-ǎ 463-Ǐ 464-ǐ 465-Ǒ 466-ǒ 467-Ǔ 468-ǔ 469-Ǖ 470-ǖ 471-Ǘ 472-ǘ 473-Ǚ 474-ǚ 475-Ǜ 476-ǜ 477-ǝ 478-Ǟ 479-ǟ 480-Ǡ 481-ǡ 482-Ǣ 483-ǣ 484-Ǥ 485-ǥ 486-Ǧ 487-ǧ 488-Ǩ 489-ǩ 490-Ǫ 491-ǫ 492-Ǭ 493-ǭ 494-Ǯ 495-ǯ 496-ǰ 497-Ǳ 498-ǲ 499-ǳ 500-Ǵ 501-ǵ 502-Ƕ 503-Ƿ 504-Ǹ 505-ǹ 506-Ǻ 507-ǻ 508-Ǽ 509-ǽ 510-Ǿ 511-ǿ 512-Ȁ 513-ȁ 514-Ȃ 515-ȃ 516-Ȅ 517-ȅ 518-Ȇ 519-ȇ 520-Ȉ 521-ȉ 522-Ȋ 523-ȋ 524-Ȍ 525-ȍ 526-Ȏ 527-ȏ 528-Ȑ 529-ȑ 530-Ȓ 531-ȓ 532-Ȕ 533-ȕ 534-Ȗ 535-ȗ 536-Ș 537-ș 538-Ț 539-ț 540-Ȝ 541-ȝ 542-Ȟ 543-ȟ 544-Ƞ 545-ȡ 546-Ȣ 547-ȣ 548-Ȥ 549-ȥ 550-Ȧ 551-ȧ 552-Ȩ 553-ȩ 554-Ȫ 555-ȫ 556-Ȭ 557-ȭ 558-Ȯ 559-ȯ 560-Ȱ 561-ȱ 562-Ȳ 563-ȳ 564-ȴ 565-ȵ 566-ȶ 567-ȷ 568-ȸ 569-ȹ 570-Ⱥ 571-Ȼ 572-ȼ 573-Ƚ 574-Ⱦ 575-ȿ 576-ɀ 577-Ɂ 578-ɂ 579-Ƀ 580-Ʉ 581-Ʌ 582-Ɇ 583-ɇ 584-Ɉ 585-ɉ 586-Ɋ 587-ɋ 588-Ɍ 589-ɍ 590-Ɏ 591-ɏ 592-ɐ 593-ɑ 594-ɒ 595-ɓ 596-ɔ 597-ɕ 598-ɖ 599-ɗ 600-ɘ 601-ə 602-ɚ 603-ɛ 604-ɜ 605-ɝ 606-ɞ 607-ɟ 608-ɠ 609-ɡ 610-ɢ 611-ɣ 612-ɤ 613-ɥ 614-ɦ 615-ɧ 616-ɨ 617-ɩ 618-ɪ 619-ɫ 620-ɬ 621-ɭ 622-ɮ 623-ɯ 624-ɰ 625-ɱ 626-ɲ 627-ɳ 628-ɴ 629-ɵ 630-ɶ 631-ɷ 632-ɸ 633-ɹ 634-ɺ 635-ɻ 636-ɼ 637-ɽ 638-ɾ 639-ɿ 640-ʀ 641-ʁ 642-ʂ 643-ʃ 644-ʄ 645-ʅ 646-ʆ 647-ʇ 648-ʈ 649-ʉ 650-ʊ 651-ʋ 652-ʌ 653-ʍ 654-ʎ 655-ʏ 656-ʐ 657-ʑ 658-ʒ 659-ʓ 660-ʔ 661-ʕ 662-ʖ 663-ʗ 664-ʘ 665-ʙ 666-ʚ 667-ʛ 668-ʜ 669-ʝ 670-ʞ 671-ʟ 672-ʠ 673-ʡ 674-ʢ 675-ʣ 676-ʤ 677-ʥ 678-ʦ 679-ʧ 680-ʨ 681-ʩ 682-ʪ 683-ʫ 684-ʬ 685-ʭ 686-ʮ 687-ʯ 688-ʰ 689-ʱ 690-ʲ 691-ʳ 692-ʴ 693-ʵ 694-ʶ 695-ʷ 696-ʸ 697-ʹ 698-ʺ 699-ʻ 700-ʼ 701-ʽ 702-ʾ 703-ʿ 704-ˀ 705-ˁ 706-˂ 707-˃ 708-˄ 709-˅ 710-ˆ 711-ˇ 712-ˈ 713-ˉ 714-ˊ 715-ˋ 716-ˌ 717-ˍ 718-ˎ 719-ˏ 720-ː 721-ˑ 722-˒ 723-˓ 724-˔ 725-˕ 726-˖ 727-˗ 728-˘ 729-˙ 730-˚ 731-˛ 732-˜ 733-˝ 734-˞ 735-˟ 736-ˠ 737-ˡ 738-ˢ 739-ˣ 740-ˤ 741-˥ 742-˦ 743-˧ 744-˨ 745-˩ 746-˪ 747-˫ 748-ˬ 749-˭ 750-ˮ 751-˯ 752-˰ 753-˱ 754-˲ 755-˳ 756-˴ 757-˵ 758-˶ 759-˷ 760-˸ 761-˹ 762-˺ 763-˻ 764-˼ 765-˽ 766-˾ 767-˿ 768-̀ 769-́ 770-̂ 771-̃ 772-̄ 773-̅ 774-̆ 775-̇ 776-̈ 777-̉ 778-̊ 779-̋ 780-̌ 781-̍ 782-̎ 783-̏ 784-̐ 785-̑ 786-̒ 787-̓ 788-̔ 789-̕ 790-̖ 791-̗ 792-̘ 793-̙ 794-̚ 795-̛ 796-̜ 797-̝ 798-̞ 799-̟ 800-̠ 801-̡ 802-̢ 803-̣ 804-̤ 805-̥ 806-̦ 807-̧ 808-̨ 809-̩ 810-̪ 811-̫ 812-̬ 813-̭ 814-̮ 815-̯ 816-̰ 817-̱ 818-̲ 819-̳ 820-̴ 821-̵ 822-̶ 823-̷ 824-̸ 825-̹ 826-̺ 827-̻ 828-̼ 829-̽ 830-̾ 831-̿ 832-̀ 833-́ 834-͂ 835-̓ 836-̈́ 837-ͅ 838-͆ 839-͇ 840-͈ 841-͉ 842-͊ 843-͋ 844-͌ 845-͍ 846-͎ 847-͏ 848-͐ 849-͑ 850-͒ 851-͓ 852-͔ 853-͕ 854-͖ 855-͗ 856-͘ 857-͙ 858-͚ 859-͛ 860-͜ 861-͝ 862-͞ 863-͟ 864-͠ 865-͡ 866-͢ 867-ͣ 868-ͤ 869-ͥ 870-ͦ 871-ͧ 872-ͨ 873-ͩ 874-ͪ 875-ͫ 876-ͬ 877-ͭ 878-ͮ 879-ͯ 880-Ͱ 881-ͱ 882-Ͳ 883-ͳ 884-ʹ 885-͵ 886-Ͷ 887-ͷ 888-͸ 889-͹ 890-ͺ 891-ͻ 892-ͼ 893-ͽ 894-; 895-Ϳ 896-΀ 897-΁ 898-΂ 899-΃ 900-΄ 901-΅ 902-Ά 903-· 904-Έ 905-Ή 906-Ί 907-΋ 908-Ό 909-΍ 910-Ύ 911-Ώ 912-ΐ 913-Α 914-Β 915-Γ 916-Δ 917-Ε 918-Ζ 919-Η 920-Θ 921-Ι 922-Κ 923-Λ 924-Μ 925-Ν 926-Ξ 927-Ο 928-Π 929-Ρ 930-΢ 931-Σ 932-Τ 933-Υ 934-Φ 935-Χ 936-Ψ 937-Ω 938-Ϊ 939-Ϋ 940-ά 941-έ 942-ή 943-ί 944-ΰ 945-α 946-β 947-γ 948-δ 949-ε 950-ζ 951-η 952-θ 953-ι 954-κ 955-λ 956-μ 957-ν 958-ξ 959-ο 960-π 961-ρ 962-ς 963-σ 964-τ 965-υ 966-φ 967-χ 968-ψ 969-ω 970-ϊ 971-ϋ 972-ό 973-ύ 974-ώ 975-Ϗ 976-ϐ 977-ϑ 978-ϒ 979-ϓ 980-ϔ 981-ϕ 982-ϖ 983-ϗ 984-Ϙ 985-ϙ 986-Ϛ 987-ϛ 988-Ϝ 989-ϝ 990-Ϟ 991-ϟ 992-Ϡ 993-ϡ 994-Ϣ 995-ϣ 996-Ϥ 997-ϥ 998-Ϧ 999-ϧ 1000-Ϩ 1001-ϩ 1002-Ϫ 1003-ϫ 1004-Ϭ 1005-ϭ 1006-Ϯ 1007-ϯ 1008-ϰ 1009-ϱ 1010-ϲ 1011-ϳ 1012-ϴ 1013-ϵ 1014-϶ 1015-Ϸ 1016-ϸ 1017-Ϲ 1018-Ϻ 1019-ϻ 1020-ϼ 1021-Ͻ 1022-Ͼ 1023-Ͽ 1024-Ѐ 1025-Ё 1026-Ђ 1027-Ѓ 1028-Є 1029-Ѕ 1030-І 1031-Ї 1032-Ј 1033-Љ 1034-Њ 1035-Ћ 1036-Ќ 1037-Ѝ 1038-Ў 1039-Џ 1040-А 1041-Б 1042-В 1043-Г 1044-Д 1045-Е 1046-Ж 1047-З 1048-И 1049-Й 1050-К 1051-Л 1052-М 1053-Н 1054-О 1055-П 1056-Р 1057-С 1058-Т 1059-У 1060-Ф 1061-Х 1062-Ц 1063-Ч 1064-Ш 1065-Щ 1066-Ъ 1067-Ы 1068-Ь 1069-Э 1070-Ю 1071-Я 1072-а 1073-б 1074-в 1075-г 1076-д 1077-е 1078-ж 1079-з 1080-и 1081-й 1082-к 1083-л 1084-м 1085-н 1086-о 1087-п 1088-р 1089-с 1090-т 1091-у 1092-ф 1093-х 1094-ц 1095-ч 1096-ш 1097-щ 1098-ъ 1099-ы 1100-ь 1101-э 1102-ю 1103-я 1104-ѐ 1105-ё 1106-ђ 1107-ѓ 1108-є 1109-ѕ 1110-і 1111-ї 1112-ј 1113-љ 1114-њ 1115-ћ 1116-ќ 1117-ѝ 1118-ў 1119-џ 1120-Ѡ 1121-ѡ 1122-Ѣ 1123-ѣ 1124-Ѥ 1125-ѥ 1126-Ѧ 1127-ѧ 1128-Ѩ 1129-ѩ "
     ]
    }
   ],
   "source": [
    "for i in range(1,1130):\n",
    "    print(f\"{i}-{chr(i)}\",end=\" \")"
   ]
  },
  {
   "cell_type": "code",
   "execution_count": null,
   "id": "72e5da8d",
   "metadata": {},
   "outputs": [],
   "source": [
    "65-90 A-Z , 97-122 a-z, 140-1071 А-Я  1072-1103 а-я 1105 ё"
   ]
  },
  {
   "cell_type": "code",
   "execution_count": 4,
   "id": "ff23f181",
   "metadata": {},
   "outputs": [
    {
     "data": {
      "text/plain": [
       "True"
      ]
     },
     "execution_count": 4,
     "metadata": {},
     "output_type": "execute_result"
    }
   ],
   "source": [
    "\"ù\".islower()"
   ]
  },
  {
   "cell_type": "code",
   "execution_count": 3,
   "id": "eff7b3bf",
   "metadata": {},
   "outputs": [
    {
     "name": "stdout",
     "output_type": "stream",
     "text": [
      "simvol=ш\n",
      "1096\n"
     ]
    }
   ],
   "source": [
    "# str 1)\n",
    "c=input(\"simvol=\")\n",
    "print(ord(c))"
   ]
  },
  {
   "cell_type": "code",
   "execution_count": 20,
   "id": "3eff8918",
   "metadata": {},
   "outputs": [
    {
     "name": "stdout",
     "output_type": "stream",
     "text": [
      "n=100\n",
      "d\n"
     ]
    }
   ],
   "source": [
    "# str 2)\n",
    "n=int(input(\"n=\"))\n",
    "print(chr(n))"
   ]
  },
  {
   "cell_type": "code",
   "execution_count": 4,
   "id": "c359cf6e",
   "metadata": {},
   "outputs": [
    {
     "name": "stdout",
     "output_type": "stream",
     "text": [
      "simvol=r\n",
      "q s\n"
     ]
    }
   ],
   "source": [
    "# str 3)\n",
    "c=input(\"simvol=\")\n",
    "print(chr(ord(c)-1),chr(ord(c)+1))"
   ]
  },
  {
   "cell_type": "code",
   "execution_count": 13,
   "id": "97af1504",
   "metadata": {},
   "outputs": [
    {
     "name": "stdout",
     "output_type": "stream",
     "text": [
      "(1<=n<=26) n ni kiriting10\n",
      "A B C D E F G H I J K "
     ]
    }
   ],
   "source": [
    "# str 4)\n",
    "n=int(input(\"(1<=n<=26) n ni kiriting\"))\n",
    "while n<1 or n>26:\n",
    "    n=int(input(\"(1<=n<=26) n ni kiriting=\"))\n",
    "for i in range(ord(\"A\"),ord(\"A\")+n):\n",
    "    print(chr(i),end=\" \")"
   ]
  },
  {
   "cell_type": "code",
   "execution_count": 14,
   "id": "36a6ba8c",
   "metadata": {},
   "outputs": [
    {
     "name": "stdout",
     "output_type": "stream",
     "text": [
      "(1<=n<=26) n ni kiriting10\n",
      "z y x w v u t s r q "
     ]
    }
   ],
   "source": [
    "# str 5)\n",
    "n=int(input(\"(1<=n<=26) n ni kiriting\"))\n",
    "while n<1 or n>26:\n",
    "    n=int(input(\"(1<=n<=26) n ni kiriting=\"))\n",
    "for i in range(ord(\"z\"),ord(\"z\")-n,-1):\n",
    "    print(chr(i),end=\" \")"
   ]
  },
  {
   "cell_type": "code",
   "execution_count": 19,
   "id": "9c8b2b43",
   "metadata": {},
   "outputs": [
    {
     "name": "stdout",
     "output_type": "stream",
     "text": [
      "belgini kiriting=0\n",
      "0-digit\n"
     ]
    }
   ],
   "source": [
    "# str 6)\n",
    "l=input(\"belgini kiriting=\")\n",
    "if 48<=ord(l)<=57:\n",
    "    print(f\"{l}-digit\")\n",
    "elif 65<=ord(l)<=90 or 97<=ord(l)<=122:\n",
    "    print(f\"{l}-lotin\")\n",
    "else:\n",
    "    print(0)"
   ]
  },
  {
   "cell_type": "code",
   "execution_count": 20,
   "id": "55e7948e",
   "metadata": {},
   "outputs": [
    {
     "name": "stdout",
     "output_type": "stream",
     "text": [
      "satrni kiriting=Mirzaliev\n",
      "77 118\n"
     ]
    }
   ],
   "source": [
    "# str 7)\n",
    "l=input(\"satrni kiriting=\")\n",
    "print(ord(l[0]),ord(l[-1]))"
   ]
  },
  {
   "cell_type": "code",
   "execution_count": 22,
   "id": "816c4fdd",
   "metadata": {},
   "outputs": [
    {
     "name": "stdout",
     "output_type": "stream",
     "text": [
      "N ni kiriting=5\n",
      "belgini kiriting=k\n",
      "kkkkk\n"
     ]
    }
   ],
   "source": [
    "# str 8)\n",
    "n=int(input(\"N ni kiriting=\"))\n",
    "l=input(\"belgini kiriting=\")\n",
    "s=l\n",
    "for i in range(n-1):\n",
    "    s+=l\n",
    "print(s)"
   ]
  },
  {
   "cell_type": "code",
   "execution_count": 23,
   "id": "8a50659f",
   "metadata": {},
   "outputs": [
    {
     "name": "stdout",
     "output_type": "stream",
     "text": [
      "1-satrni kiriting=Ozodbek\n",
      "2-satrni kiriting=Mirzaliev\n",
      "OzodbekMirzaliev\n"
     ]
    }
   ],
   "source": [
    "# str 9)\n",
    "l1=input(\"1-satrni kiriting=\")\n",
    "l2=input(\"2-satrni kiriting=\")\n",
    "l3=l1+l2\n",
    "print(l3)"
   ]
  },
  {
   "cell_type": "code",
   "execution_count": 26,
   "id": "737b647b",
   "metadata": {},
   "outputs": [
    {
     "name": "stdout",
     "output_type": "stream",
     "text": [
      "satrni kiriting=Ozodbek\n",
      "kebdozO\n"
     ]
    }
   ],
   "source": [
    "# str 10)\n",
    "l=input(\"satrni kiriting=\")\n",
    "print(l[len(l)::-1])"
   ]
  },
  {
   "cell_type": "code",
   "execution_count": 29,
   "id": "9cd6e774",
   "metadata": {},
   "outputs": [
    {
     "name": "stdout",
     "output_type": "stream",
     "text": [
      "satrni kiriting=Ozodbek\n",
      "O z o d b e k\n"
     ]
    }
   ],
   "source": [
    "# str 11)\n",
    "l=input(\"satrni kiriting=\")\n",
    "s=\"\"\n",
    "for i in range(len(l)-1):\n",
    "    s+=l[i]+\" \"\n",
    "s+=l[-1]\n",
    "print(s)"
   ]
  },
  {
   "cell_type": "code",
   "execution_count": 30,
   "id": "f2508a33",
   "metadata": {},
   "outputs": [
    {
     "name": "stdout",
     "output_type": "stream",
     "text": [
      "satrni kiriting=Ozodbek\n",
      "N ni kiriting=3\n",
      "O***z***o***d***b***e***k\n"
     ]
    }
   ],
   "source": [
    "# str 12)\n",
    "l=input(\"satrni kiriting=\")\n",
    "n=int(input(\"N ni kiriting=\"))\n",
    "s=\"\"\n",
    "for i in range(len(l)-1):\n",
    "    s+=l[i]+n*\"*\"\n",
    "s+=l[-1]\n",
    "print(s)"
   ]
  },
  {
   "cell_type": "code",
   "execution_count": 31,
   "id": "cffeb41f",
   "metadata": {},
   "outputs": [
    {
     "name": "stdout",
     "output_type": "stream",
     "text": [
      "satrni kiriting=kh5biu+9hjbjh5\n",
      "3\n"
     ]
    }
   ],
   "source": [
    "# str 13)\n",
    "l=input(\"satrni kiriting=\")\n",
    "s=0\n",
    "for i in l:\n",
    "    if 48<=ord(i)<=57:\n",
    "        s+=1\n",
    "print(s)"
   ]
  },
  {
   "cell_type": "code",
   "execution_count": 32,
   "id": "7d3693e5",
   "metadata": {},
   "outputs": [
    {
     "name": "stdout",
     "output_type": "stream",
     "text": [
      "satrni kiriting=Mirzaliev Ozodbek\n",
      "2\n"
     ]
    }
   ],
   "source": [
    "# str 14)\n",
    "l=input(\"satrni kiriting=\")\n",
    "s=0\n",
    "for i in l:\n",
    "    if 65<=ord(i)<=90:\n",
    "        s+=1\n",
    "print(s)"
   ]
  },
  {
   "cell_type": "code",
   "execution_count": 33,
   "id": "e7e5b3dc",
   "metadata": {},
   "outputs": [
    {
     "name": "stdout",
     "output_type": "stream",
     "text": [
      "satrni kiriting=Ozodbek\n",
      "6\n"
     ]
    }
   ],
   "source": [
    "# str 15)\n",
    "l=input(\"satrni kiriting=\")\n",
    "s=0\n",
    "for i in l:\n",
    "    if 97<=ord(i)<=122:\n",
    "        s+=1\n",
    "print(s)"
   ]
  },
  {
   "cell_type": "code",
   "execution_count": 3,
   "id": "7767a5a4",
   "metadata": {},
   "outputs": [
    {
     "name": "stdout",
     "output_type": "stream",
     "text": [
      "satrni kiriting=Mirzaliev Озодбек\n",
      "mirzaliev Озодбек\n"
     ]
    }
   ],
   "source": [
    "# str 16)\n",
    "l=input(\"satrni kiriting=\")\n",
    "s=\"\"\n",
    "for i in l:\n",
    "    if \"A\"<=i<=\"Z\":\n",
    "        s+=i.lower()\n",
    "    else:\n",
    "        s+=i\n",
    "print(s)"
   ]
  },
  {
   "cell_type": "code",
   "execution_count": 6,
   "id": "1606d25e",
   "metadata": {},
   "outputs": [
    {
     "name": "stdout",
     "output_type": "stream",
     "text": [
      "satrni kiriting=Воотло\n",
      "воотло\n"
     ]
    }
   ],
   "source": [
    "# str 17)\n",
    "l=input(\"satrni kiriting=\")\n",
    "print(l.lower())"
   ]
  },
  {
   "cell_type": "code",
   "execution_count": 37,
   "id": "7e3b7bb2",
   "metadata": {},
   "outputs": [
    {
     "name": "stdout",
     "output_type": "stream",
     "text": [
      "satrni kiriting=Ozodbek\n",
      "oZODBEK\n"
     ]
    }
   ],
   "source": [
    "# str 18)\n",
    "l=input(\"satrni kiriting=\")\n",
    "a=\"\"\n",
    "for i in l:\n",
    "    if i.isupper():\n",
    "        a+=i.lower()\n",
    "    else:\n",
    "        a+=i.upper()\n",
    "print(a)"
   ]
  },
  {
   "cell_type": "code",
   "execution_count": 60,
   "id": "0c7e7937",
   "metadata": {},
   "outputs": [
    {
     "name": "stdout",
     "output_type": "stream",
     "text": [
      "satrni kiriting=-0.12\n",
      "2\n"
     ]
    }
   ],
   "source": [
    "# str 19)\n",
    "l=input(\"satrni kiriting=\")\n",
    "if l[0]==\"-\":\n",
    "        l=l[1::]\n",
    "if l.isnumeric():\n",
    "    print(1)\n",
    "elif l.count(\".\")==1 and l[0]!=\".\" and l[-1]!=\".\" and all([i.isnumeric() or i==\".\" for i in l]):\n",
    "        print(2)\n",
    "else:\n",
    "    print(0)"
   ]
  },
  {
   "cell_type": "code",
   "execution_count": 4,
   "id": "6f806c9e",
   "metadata": {},
   "outputs": [
    {
     "name": "stdout",
     "output_type": "stream",
     "text": [
      "satrni kiriting=45689\n",
      "4 5 6 8 9 "
     ]
    }
   ],
   "source": [
    "# str 20)\n",
    "l=input(\"satrni kiriting=\")\n",
    "for i in l:\n",
    "    print(int(i),end=\" \")"
   ]
  },
  {
   "cell_type": "code",
   "execution_count": 62,
   "id": "02b7677a",
   "metadata": {},
   "outputs": [
    {
     "name": "stdout",
     "output_type": "stream",
     "text": [
      "satrni kiriting=123456789\n",
      "9 8 7 6 5 4 3 2 1 "
     ]
    }
   ],
   "source": [
    "# str 21)\n",
    "l=input(\"satrni kiriting=\")\n",
    "for i in l[::-1]:\n",
    "    print(i,end=\" \")"
   ]
  },
  {
   "cell_type": "code",
   "execution_count": 63,
   "id": "c490645a",
   "metadata": {},
   "outputs": [
    {
     "name": "stdout",
     "output_type": "stream",
     "text": [
      "satrni kiriting=1234668\n",
      "30\n"
     ]
    }
   ],
   "source": [
    "# str 22)\n",
    "l=input(\"satrni kiriting=\")\n",
    "s=0\n",
    "for i in l:\n",
    "    s+=int(i)\n",
    "print(s)"
   ]
  },
  {
   "cell_type": "code",
   "execution_count": 24,
   "id": "a6ce0ef0",
   "metadata": {},
   "outputs": [
    {
     "name": "stdout",
     "output_type": "stream",
     "text": [
      "satrni kiriting=-5+10\n",
      "5\n"
     ]
    }
   ],
   "source": [
    "# str 23)\n",
    "satr=input(\"satrni kiriting=\")\n",
    "s=0; t=0; n=1\n",
    "for i in satr:\n",
    "    if i.isdigit():\n",
    "        t=10*t+int(i)\n",
    "    else:\n",
    "        s=s+n*t\n",
    "        if i==\"-\":\n",
    "            n=-1\n",
    "        else:\n",
    "            n=1\n",
    "        t=0\n",
    "s=s+n*t\n",
    "print(s)\n",
    "            "
   ]
  },
  {
   "cell_type": "code",
   "execution_count": 78,
   "id": "1df64512",
   "metadata": {},
   "outputs": [
    {
     "name": "stdout",
     "output_type": "stream",
     "text": [
      "satrni kiriting=101010\n",
      "42\n",
      "ikkinchi usulda= 42\n"
     ]
    }
   ],
   "source": [
    "# str 24)\n",
    "l=input(\"satrni kiriting=\")\n",
    "# 1-usul\n",
    "h=str(int(l,2))\n",
    "print(h)\n",
    "# 2- usul\n",
    "s=0\n",
    "for i in range(len(l)):\n",
    "    s+=(int(l[i]))*(2**(len(l)-i-1))\n",
    "s=str(s)\n",
    "print(\"ikkinchi usulda=\",s)"
   ]
  },
  {
   "cell_type": "code",
   "execution_count": 4,
   "id": "d090363b",
   "metadata": {},
   "outputs": [
    {
     "name": "stdout",
     "output_type": "stream",
     "text": [
      "satrni kiriting=12\n",
      "0b1100\n",
      "1100\n"
     ]
    }
   ],
   "source": [
    "# str 25)\n",
    "l=input(\"satrni kiriting=\")\n",
    "# 1-usul\n",
    "b=str(bin(int(l)))\n",
    "print(b)\n",
    "# 2-usul\n",
    "c=\"\"\n",
    "while int(l)>0:\n",
    "    c=str(int(l)%2)+c\n",
    "    l=int(l)//2\n",
    "print(c)"
   ]
  },
  {
   "cell_type": "code",
   "execution_count": 14,
   "id": "8bbccfe1",
   "metadata": {},
   "outputs": [
    {
     "name": "stdout",
     "output_type": "stream",
     "text": [
      "n=6\n",
      "satr=on\n",
      "....on\n"
     ]
    }
   ],
   "source": [
    "# str 26) \n",
    "n=int(input(\"n=\"))\n",
    "satr=input(\"satr=\")\n",
    "if len(satr)>n:\n",
    "    satr=satr[len(satr)-n::]\n",
    "elif len(satr)<n:\n",
    "    satr=\".\"*(n-len(satr))+satr[::]\n",
    "print(satr)"
   ]
  },
  {
   "cell_type": "code",
   "execution_count": 15,
   "id": "60ce10e8",
   "metadata": {},
   "outputs": [
    {
     "name": "stdout",
     "output_type": "stream",
     "text": [
      "n1=3\n",
      "n2=4\n",
      "satr1=123456\n",
      "satr2=789101112\n",
      "1231112\n"
     ]
    }
   ],
   "source": [
    "# str 27) \n",
    "n1=int(input(\"n1=\"))\n",
    "n2=int(input(\"n2=\"))\n",
    "satr1=input(\"satr1=\")\n",
    "satr2=input(\"satr2=\")\n",
    "satr=satr1[:n1]\n",
    "satr+=satr2[len(satr2)-n2::]\n",
    "print(satr)"
   ]
  },
  {
   "cell_type": "code",
   "execution_count": null,
   "id": "d5e7c856",
   "metadata": {},
   "outputs": [],
   "source": []
  },
  {
   "cell_type": "code",
   "execution_count": 16,
   "id": "f6da1070",
   "metadata": {},
   "outputs": [
    {
     "name": "stdout",
     "output_type": "stream",
     "text": [
      "satr=men bugun hozir satrlarni 28-siga keldim\n",
      "belgi=n\n",
      "menn bugunn hozir satrlarnni 28-siga keldim\n"
     ]
    }
   ],
   "source": [
    "# str 28) \n",
    "satr=input(\"satr=\")\n",
    "belgi=input(\"belgi=\")\n",
    "yangi_satr=\"\"\n",
    "for i in satr:\n",
    "    if i==belgi:\n",
    "        yangi_satr+=2*belgi\n",
    "    else:\n",
    "        yangi_satr+=i\n",
    "print(yangi_satr)"
   ]
  },
  {
   "cell_type": "code",
   "execution_count": 17,
   "id": "bfd7215a",
   "metadata": {},
   "outputs": [
    {
     "name": "stdout",
     "output_type": "stream",
     "text": [
      "satr1=men bugun hozir satrlarni 28-siga keldim\n",
      "satr2=satr\n",
      "belgi=n\n",
      "mesatrn bugusatrn hozir satrlarsatrni 28-siga keldim\n"
     ]
    }
   ],
   "source": [
    "# str 29)\n",
    "satr1=input(\"satr1=\")\n",
    "satr2=input(\"satr2=\")\n",
    "belgi=input(\"belgi=\")\n",
    "yangi_satr=\"\"\n",
    "for i in satr1:\n",
    "    if i==belgi:\n",
    "        yangi_satr+=satr2+belgi\n",
    "    else:\n",
    "        yangi_satr+=i\n",
    "print(yangi_satr)"
   ]
  },
  {
   "cell_type": "code",
   "execution_count": null,
   "id": "c045f405",
   "metadata": {},
   "outputs": [],
   "source": [
    "# str 30)\n",
    "satr1=input(\"satr1=\")\n",
    "satr2=input(\"satr2=\")\n",
    "belgi=input(\"belgi=\")\n",
    "yangi_satr=\"\"\n",
    "for i in satr1:\n",
    "    if i==belgi:\n",
    "        yangi_satr+=belgi+satr2\n",
    "    else:\n",
    "        yangi_satr+=i\n",
    "print(yangi_satr)"
   ]
  },
  {
   "cell_type": "code",
   "execution_count": null,
   "id": "7f029d61",
   "metadata": {},
   "outputs": [],
   "source": [
    "# str 30) replace bilan\n",
    "satr1=input(\"satr1=\")\n",
    "satr2=input(\"satr2=\")\n",
    "belgi=input(\"belgi=\")\n",
    "yangi_satr=\"\"\n",
    "\n",
    "print(yangi_satr)"
   ]
  },
  {
   "cell_type": "code",
   "execution_count": 19,
   "id": "4d4f959b",
   "metadata": {},
   "outputs": [
    {
     "name": "stdout",
     "output_type": "stream",
     "text": [
      "satr1=bir ikki uch\n",
      "satr2=turt\n",
      "False\n"
     ]
    }
   ],
   "source": [
    "# str 31)\n",
    "satr1=input(\"satr1=\")\n",
    "satr2=input(\"satr2=\")\n",
    "if satr2 in satr1:\n",
    "    print(True)\n",
    "else:\n",
    "    print(False)\n",
    "    "
   ]
  },
  {
   "cell_type": "code",
   "execution_count": 20,
   "id": "5e8eb212",
   "metadata": {},
   "outputs": [
    {
     "name": "stdout",
     "output_type": "stream",
     "text": [
      "satr1=asdfasdfasdfgjkl\n",
      "satr2=as\n",
      "3\n"
     ]
    }
   ],
   "source": [
    "# str 32)\n",
    "satr1=input(\"satr1=\")\n",
    "satr2=input(\"satr2=\")\n",
    "print(satr1.count(satr2))"
   ]
  },
  {
   "cell_type": "code",
   "execution_count": 28,
   "id": "4db8d649",
   "metadata": {},
   "outputs": [
    {
     "name": "stdout",
     "output_type": "stream",
     "text": [
      "satr1=12345633453\n",
      "satr2=3\n",
      "1245633453\n",
      "124563453\n"
     ]
    }
   ],
   "source": [
    "# str 33)\n",
    "satr1=input(\"satr1=\")\n",
    "satr2=input(\"satr2=\")\n",
    "# 1-usul:\n",
    "satr1=satr1.replace(satr2,\"\",1)\n",
    "print(satr1)\n",
    "# 2-usul\n",
    "k=satr1.find(satr2)\n",
    "if k>=0:\n",
    "    satr1=satr1[:k]+satr1[k+len(satr2):]\n",
    "print(satr1)"
   ]
  },
  {
   "cell_type": "code",
   "execution_count": 29,
   "id": "b0575785",
   "metadata": {},
   "outputs": [
    {
     "name": "stdout",
     "output_type": "stream",
     "text": [
      "satr1=1234563456378\n",
      "satr2=3\n",
      "123456345678\n",
      "1245645678\n"
     ]
    }
   ],
   "source": [
    "# str 34)\n",
    "satr1=input(\"satr1=\")\n",
    "satr2=input(\"satr2=\")\n",
    "\n",
    "k=satr1.rfind(satr2)\n",
    "if k>=0:\n",
    "    satr1=satr1[:k]+satr1[k+len(satr2):]\n",
    "print(satr1)\n"
   ]
  },
  {
   "cell_type": "code",
   "execution_count": 27,
   "id": "75740c0c",
   "metadata": {},
   "outputs": [
    {
     "name": "stdout",
     "output_type": "stream",
     "text": [
      "satr1=12322456289\n",
      "satr2=2\n",
      "1345689\n"
     ]
    }
   ],
   "source": [
    "# str 35)\n",
    "satr1=input(\"satr1=\")\n",
    "satr2=input(\"satr2=\")\n",
    "satr1=satr1.replace(satr2,\"\")\n",
    "print(satr1)"
   ]
  },
  {
   "cell_type": "code",
   "execution_count": 25,
   "id": "3ffa2a2e",
   "metadata": {},
   "outputs": [
    {
     "name": "stdout",
     "output_type": "stream",
     "text": [
      "satr1=122345234523\n",
      "satr2=23\n",
      "satr3=99\n",
      "129945234523\n"
     ]
    }
   ],
   "source": [
    "# str 36)\n",
    "satr1=input(\"satr1=\")\n",
    "satr2=input(\"satr2=\")\n",
    "satr3=input(\"satr3=\")\n",
    "satr1=satr1.replace(satr2,satr3,1)\n",
    "print(satr1)"
   ]
  },
  {
   "cell_type": "code",
   "execution_count": 4,
   "id": "21184f2e",
   "metadata": {},
   "outputs": [
    {
     "name": "stdout",
     "output_type": "stream",
     "text": [
      "satr1=1234523562378\n",
      "satr2=23\n",
      "satr3=99\n",
      "1234523569978\n"
     ]
    }
   ],
   "source": [
    "# str 37)\n",
    "satr1=input(\"satr1=\")\n",
    "satr2=input(\"satr2=\")\n",
    "satr3=input(\"satr3=\")\n",
    "\n",
    "k=satr1.rfind(satr2)\n",
    "satr1=satr1[:k]+satr1[k:].replace(satr2,satr3)\n",
    "print(satr1)"
   ]
  },
  {
   "cell_type": "code",
   "execution_count": null,
   "id": "32fb11d8",
   "metadata": {},
   "outputs": [],
   "source": [
    "# str 37) 2\n",
    "satr1=input(\"satr1=\")\n",
    "satr2=input(\"satr2=\")\n",
    "satr3=input(\"satr3=\")\n",
    "\n",
    "k=satr1.rfind(satr2)\n",
    "satr1=satr1.replace(satr2,satr3,1)\n",
    "print(satr1)"
   ]
  },
  {
   "cell_type": "code",
   "execution_count": 5,
   "id": "3a1c5852",
   "metadata": {},
   "outputs": [
    {
     "name": "stdout",
     "output_type": "stream",
     "text": [
      "satr1=1234523562378\n",
      "satr2=23\n",
      "satr3=99\n",
      "1994599569978\n"
     ]
    }
   ],
   "source": [
    "# str 38)\n",
    "satr1=input(\"satr1=\")\n",
    "satr2=input(\"satr2=\")\n",
    "satr3=input(\"satr3=\")\n",
    "\n",
    "satr1=satr1.replace(satr2,satr3)\n",
    "print(satr1)"
   ]
  },
  {
   "cell_type": "code",
   "execution_count": 6,
   "id": "36f6c8f1",
   "metadata": {},
   "outputs": [
    {
     "name": "stdout",
     "output_type": "stream",
     "text": [
      "satr=123 4567 789 741\n",
      "4 5 6 7\n"
     ]
    }
   ],
   "source": [
    "# str 39)\n",
    "satr=input(\"satr=\")\n",
    "\n",
    "arr=satr.split(\" \",2)\n",
    "if len(arr)>2:\n",
    "    print(*arr[1])\n",
    "else:\n",
    "    print(\"\")"
   ]
  },
  {
   "cell_type": "code",
   "execution_count": 8,
   "id": "81299ddc",
   "metadata": {},
   "outputs": [
    {
     "name": "stdout",
     "output_type": "stream",
     "text": [
      "satr=123 456 789 1212\n",
      "456 789\n"
     ]
    }
   ],
   "source": [
    "# str 40)\n",
    "satr=input(\"satr=\")\n",
    "\n",
    "arr=satr.split(\" \")\n",
    "if len(arr)>2:\n",
    "    print(*arr[1:-1])\n",
    "else:\n",
    "    print(\"\")"
   ]
  },
  {
   "cell_type": "code",
   "execution_count": null,
   "id": "ff84091a",
   "metadata": {},
   "outputs": [],
   "source": [
    "# str 41)\n",
    "satr=input(\"satr=\")\n",
    "\n",
    "arr=satr.split()\n",
    "print(len(arr))"
   ]
  },
  {
   "cell_type": "code",
   "execution_count": 9,
   "id": "1766f97f",
   "metadata": {},
   "outputs": [
    {
     "name": "stdout",
     "output_type": "stream",
     "text": [
      "satr=12 11 232 454 568 88\n",
      "4\n"
     ]
    }
   ],
   "source": [
    "# str 42)\n",
    "satr=input(\"satr=\")\n",
    "\n",
    "arr=satr.split(\" \")\n",
    "s=0\n",
    "for i in arr:\n",
    "    if i[0]==i[-1]:\n",
    "        s+=1\n",
    "print(s)\n"
   ]
  },
  {
   "cell_type": "code",
   "execution_count": 10,
   "id": "7da0042c",
   "metadata": {},
   "outputs": [
    {
     "name": "stdout",
     "output_type": "stream",
     "text": [
      "satr=MEN UJE QIRQ UCHINCHI SATRGA KELDIM \n",
      "1\n"
     ]
    }
   ],
   "source": [
    "# str 43)\n",
    "satr=input(\"satr=\")\n",
    "\n",
    "arr=satr.split(\" \")\n",
    "s=0\n",
    "for i in arr:\n",
    "    if i.count(\"A\")>0:\n",
    "        s+=1\n",
    "print(s)"
   ]
  },
  {
   "cell_type": "code",
   "execution_count": 12,
   "id": "4f8b12ce",
   "metadata": {},
   "outputs": [
    {
     "name": "stdout",
     "output_type": "stream",
     "text": [
      "satr=MEN UJE QIRQDAAAN O`TDIMAAA \n",
      "2\n"
     ]
    }
   ],
   "source": [
    "# str 44)\n",
    "satr=input(\"satr=\")\n",
    "\n",
    "arr=satr.split(\" \")\n",
    "s=0\n",
    "for i in arr:\n",
    "    if i.count(\"A\")==3:\n",
    "        s+=1\n",
    "print(s)"
   ]
  },
  {
   "cell_type": "code",
   "execution_count": 13,
   "id": "baf3cdc4",
   "metadata": {},
   "outputs": [
    {
     "name": "stdout",
     "output_type": "stream",
     "text": [
      "satr=str qirq beshni ishlayapman\n",
      "3\n"
     ]
    }
   ],
   "source": [
    "# str 45) eng kichik len()ni chiqarish\n",
    "satr=input(\"satr=\")\n",
    "\n",
    "arr=satr.split(\" \")\n",
    "mini=len(arr[0])\n",
    "for i in arr:\n",
    "    if len(i)<mini:\n",
    "        mini=len(i)\n",
    "print(mini)"
   ]
  },
  {
   "cell_type": "code",
   "execution_count": 14,
   "id": "9f4e62f8",
   "metadata": {},
   "outputs": [
    {
     "name": "stdout",
     "output_type": "stream",
     "text": [
      "satr=eng katta len()ga ega bo`lganni chiqarish\n",
      "9\n"
     ]
    }
   ],
   "source": [
    "# str 46) eng katta len()ni chiqarish\n",
    "satr=input(\"satr=\")\n",
    "\n",
    "arr=satr.split()\n",
    "maxi=len(arr[0])\n",
    "for i in arr:\n",
    "    if len(i)>maxi:\n",
    "        maxi=len(i)\n",
    "print(maxi)"
   ]
  },
  {
   "cell_type": "code",
   "execution_count": 15,
   "id": "688ca73c",
   "metadata": {},
   "outputs": [
    {
     "name": "stdout",
     "output_type": "stream",
     "text": [
      "satr=men uje qirq yettiga keldim\n",
      "men.uje.qirq.yettiga.keldim\n"
     ]
    }
   ],
   "source": [
    "# str 47) \n",
    "satr=input(\"satr=\")\n",
    "\n",
    "arr=satr.split()\n",
    "print(\".\".join(arr))"
   ]
  },
  {
   "cell_type": "code",
   "execution_count": 22,
   "id": "1e6b2bb3",
   "metadata": {},
   "outputs": [
    {
     "name": "stdout",
     "output_type": "stream",
     "text": [
      "satr=men uje internetida ishlayapmanmi\n",
      "men uje internet.da ishlayapmanm.\n"
     ]
    }
   ],
   "source": [
    "# str 48) \n",
    "satr=input(\"satr=\")\n",
    "\n",
    "arr=satr.split(\" \")\n",
    "arr1=[]\n",
    "for i in arr:\n",
    "    s=i[0]\n",
    "    for j in range(1,len(i)):\n",
    "        if i[j]==i[0]:\n",
    "            s+=\".\"\n",
    "        else:\n",
    "            s+=i[j]\n",
    "    arr1.append(s)\n",
    "print(\" \".join(arr1))"
   ]
  },
  {
   "cell_type": "code",
   "execution_count": 28,
   "id": "a6b73346",
   "metadata": {},
   "outputs": [
    {
     "name": "stdout",
     "output_type": "stream",
     "text": [
      "satr=atnmen uje internatida ishlayapmanmi\n",
      "at.men uje intern.tida .shlayapmanmi\n"
     ]
    }
   ],
   "source": [
    "# str 49) \n",
    "satr=input(\"satr=\")\n",
    "\n",
    "arr=satr.split(\" \")\n",
    "arr1=[]\n",
    "for i in arr:\n",
    "    s=i[-1]\n",
    "    for j in range(len(i)-2,-1,-1):\n",
    "        if i[j]==i[-1]:\n",
    "            s+=\".\"\n",
    "        else:\n",
    "            s+=i[j]\n",
    "    arr1.append(s[::-1])\n",
    "print(\" \".join(arr1))"
   ]
  },
  {
   "cell_type": "code",
   "execution_count": 8,
   "id": "e51e42fc",
   "metadata": {},
   "outputs": [
    {
     "name": "stdout",
     "output_type": "stream",
     "text": [
      "satr=bitta ikkita  uchta   turttamas besh\n",
      "hseb samattrut athcu atikki attib\n"
     ]
    }
   ],
   "source": [
    "# str 50) shu satrdagi ortiqcha probellarni olib tashlovchi va teskari tartibda chqaruvchi\n",
    "satr=input(\"satr=\")\n",
    "s=\"\"\n",
    "for i in satr:\n",
    "    if i!=\" \":\n",
    "        s+=i\n",
    "        once=True\n",
    "    else:\n",
    "        if once:\n",
    "            s+=i\n",
    "            once=False\n",
    "print(s[::-1])"
   ]
  },
  {
   "cell_type": "code",
   "execution_count": 26,
   "id": "9a35658a",
   "metadata": {},
   "outputs": [
    {
     "name": "stdout",
     "output_type": "stream",
     "text": [
      "satr=bitta ikkita  uchta   turttamas besh\n",
      "hseb samattrut athcu atikki attib\n"
     ]
    }
   ],
   "source": [
    "# str 50) shu satrdagi ortiqcha probellarni olib tashlovchi va teskari tartibda chqaruvchi\n",
    "satr=input(\"satr=\")\n",
    "satr=satr.split()\n",
    "satr=\" \".join(satr)\n",
    "print(satr[::-1])"
   ]
  },
  {
   "cell_type": "code",
   "execution_count": 5,
   "id": "7241a306",
   "metadata": {},
   "outputs": [
    {
     "name": "stdout",
     "output_type": "stream",
     "text": [
      "satr=bugun on yettinchi may seshanba\n",
      "bugun on yettinchi may seshanba\n",
      "['bugun', 'on', 'yettinchi', 'may', 'seshanba']\n",
      "bugun may on seshanba yettinchi\n"
     ]
    }
   ],
   "source": [
    "# str 51) shu satrdagi el.larni alfavit tarzda tartiblovchi\n",
    "satr=input(\"satr=\")\n",
    "s=\"\"\n",
    "for i in satr:\n",
    "    if i!=\" \":\n",
    "        s+=i\n",
    "        once=True\n",
    "    else:\n",
    "        if once:\n",
    "            s+=i\n",
    "            once=False\n",
    "s=s.split(\" \")\n",
    "s.sort()\n",
    "s=\" \".join(s)\n",
    "print(s)"
   ]
  },
  {
   "cell_type": "code",
   "execution_count": 28,
   "id": "21ff793f",
   "metadata": {},
   "outputs": [
    {
     "name": "stdout",
     "output_type": "stream",
     "text": [
      "satr=bugun on yettinchi may seshanba\n",
      "bugun may on seshanba yettinchi\n"
     ]
    }
   ],
   "source": [
    "# str 51) optimal .shu satrdagi el.larni alfavit tarzda tartiblovchi\n",
    "satr=input(\"satr=\")\n",
    "satr=satr.split()\n",
    "satr.sort()\n",
    "print(\" \".join(satr))"
   ]
  },
  {
   "cell_type": "code",
   "execution_count": 9,
   "id": "70aefcdb",
   "metadata": {},
   "outputs": [
    {
     "name": "stdout",
     "output_type": "stream",
     "text": [
      "satr=bir ikki uch\n",
      "Bir Ikki Uch\n"
     ]
    }
   ],
   "source": [
    "# str 52) shu satrdagi so`zlarni bosh harflarini katta qiluvchi\n",
    "satr=input(\"satr=\")\n",
    "s=\"\"; once=True\n",
    "for i in satr:\n",
    "    if i!=\" \":\n",
    "        if once:\n",
    "            i=i.upper()\n",
    "            s+=i\n",
    "            once=False\n",
    "        else:\n",
    "            s+=i\n",
    "    else:\n",
    "        s+=i \n",
    "        once=True\n",
    "print(s)"
   ]
  },
  {
   "cell_type": "code",
   "execution_count": 29,
   "id": "9f0b4511",
   "metadata": {},
   "outputs": [
    {
     "name": "stdout",
     "output_type": "stream",
     "text": [
      "satr=bir ikki uch\n"
     ]
    },
    {
     "ename": "TypeError",
     "evalue": "'str' object does not support item assignment",
     "output_type": "error",
     "traceback": [
      "\u001b[0;31m---------------------------------------------------------------------------\u001b[0m",
      "\u001b[0;31mTypeError\u001b[0m                                 Traceback (most recent call last)",
      "Input \u001b[0;32mIn [29]\u001b[0m, in \u001b[0;36m<cell line: 4>\u001b[0;34m()\u001b[0m\n\u001b[1;32m      3\u001b[0m satr\u001b[38;5;241m=\u001b[39msatr\u001b[38;5;241m.\u001b[39msplit()\n\u001b[1;32m      4\u001b[0m \u001b[38;5;28;01mfor\u001b[39;00m i \u001b[38;5;129;01min\u001b[39;00m satr:\n\u001b[0;32m----> 5\u001b[0m     i[\u001b[38;5;241m0\u001b[39m]\u001b[38;5;241m=\u001b[39mi[\u001b[38;5;241m0\u001b[39m]\u001b[38;5;241m.\u001b[39mupper()\n\u001b[1;32m      6\u001b[0m \u001b[38;5;28mprint\u001b[39m(\u001b[38;5;124m\"\u001b[39m\u001b[38;5;124m \u001b[39m\u001b[38;5;124m\"\u001b[39m\u001b[38;5;241m.\u001b[39mjoin(satr))\n",
      "\u001b[0;31mTypeError\u001b[0m: 'str' object does not support item assignment"
     ]
    }
   ],
   "source": []
  },
  {
   "cell_type": "code",
   "execution_count": 11,
   "id": "d5ad8391",
   "metadata": {},
   "outputs": [
    {
     "name": "stdout",
     "output_type": "stream",
     "text": [
      "11\n"
     ]
    }
   ],
   "source": [
    "# str 53) shu satrdagi tinish belgilarini sonini \n",
    "satr=\"\"\"Hozirgi oʻzbek yozuvida Tinish belgilari soni 10 ta: nuqta, \n",
    "soʻroq belgisi undov belgisi,\n",
    "vergul, qavs, tire, koʻp nuqta, nuqtali vergul, qoʻshtirnoq.(vikipediya)\n",
    "\"\"\"\n",
    "tinish=[\".\",\"?\",\"!\",\",\",\"(\",\")\",\"-\",\";\",\":\",'\"']\n",
    "s=0\n",
    "for i in satr:\n",
    "    if i in tinish:\n",
    "        s+=1\n",
    "print(s)"
   ]
  },
  {
   "cell_type": "code",
   "execution_count": 12,
   "id": "09d51714",
   "metadata": {},
   "outputs": [
    {
     "name": "stdout",
     "output_type": "stream",
     "text": [
      "2\n"
     ]
    }
   ],
   "source": [
    "# str 54) shu satrdagi katta xarflar sonini \n",
    "satr=\"\"\"Hozirgi oʻzbek yozuvida Tinish belgilari soni 10 ta: nuqta, \n",
    "soʻroq belgisi undov belgisi,\n",
    "vergul, qavs, tire, koʻp nuqta, nuqtali vergul, qoʻshtirnoq.(vikipediya)\n",
    "\"\"\"\n",
    "s=0\n",
    "for i in satr:\n",
    "    if i.isupper():\n",
    "        s+=1\n",
    "print(s)"
   ]
  },
  {
   "cell_type": "code",
   "execution_count": 5,
   "id": "7104f080",
   "metadata": {},
   "outputs": [
    {
     "name": "stdout",
     "output_type": "stream",
     "text": [
      "satr=bir ikki uch turt sakk on\n",
      "ikki\n"
     ]
    }
   ],
   "source": [
    "# str 55) shu satrdagi eng uzun so`zni\n",
    "satr=input(\"satr=\")\n",
    "s=\"\"; maxi=\"\"\n",
    "for i in satr:\n",
    "    if i!=\" \":\n",
    "        s+=i\n",
    "        if len(s)>len(maxi):\n",
    "            maxi=s\n",
    "    else:\n",
    "        s=\"\"        \n",
    "print(maxi)"
   ]
  },
  {
   "cell_type": "code",
   "execution_count": 6,
   "id": "ab586078",
   "metadata": {},
   "outputs": [
    {
     "name": "stdout",
     "output_type": "stream",
     "text": [
      "satr=bir ikki uch turt besh olti yetti sakkiz biz siza\n",
      "biz\n"
     ]
    }
   ],
   "source": [
    "# str 56) shu satrdagi eng qisqa so`zni oxirgisini\n",
    "satr=input(\"satr=\")\n",
    "s=\"\"; once=True\n",
    "for i in satr:\n",
    "    if i!=\" \":\n",
    "        s+=i\n",
    "    elif i==\" \" and s!=\"\":\n",
    "        if once:\n",
    "            mini=s\n",
    "            once=False\n",
    "        if len(s)<=len(mini):\n",
    "            mini=s\n",
    "        s=\"\"        \n",
    "print(mini)"
   ]
  },
  {
   "cell_type": "code",
   "execution_count": 35,
   "id": "f055c5cd",
   "metadata": {},
   "outputs": [
    {
     "name": "stdout",
     "output_type": "stream",
     "text": [
      "satr=bir ikki uch turt besh olti yetti sakkiz     biz siza\n",
      "bir ikki uch turt besh olti yetti sakkiz biz siza\n"
     ]
    }
   ],
   "source": [
    "# str 57) shu satrdagi ortiqcha probellarni olib tashlovchi \n",
    "satr=input(\"satr=\")\n",
    "print(\" \".join(satr.split()))"
   ]
  },
  {
   "cell_type": "code",
   "execution_count": 9,
   "id": "88208e1e",
   "metadata": {},
   "outputs": [
    {
     "name": "stdout",
     "output_type": "stream",
     "text": [
      "satr=bir  ikki uch    turt   besh olti\n",
      "bir ikki uch turt besh olti\n"
     ]
    }
   ],
   "source": [
    "# str 57) shu satrdagi ortiqcha probellarni olib tashlovchi \n",
    "satr=input(\"satr=\")\n",
    "s=\"\"\n",
    "for i in satr:\n",
    "    if i!=\" \":\n",
    "        s+=i\n",
    "        once=True\n",
    "    else:\n",
    "        if once:\n",
    "            s+=i\n",
    "            once=False\n",
    "print(s)"
   ]
  },
  {
   "cell_type": "code",
   "execution_count": 13,
   "id": "a163091e",
   "metadata": {},
   "outputs": [
    {
     "name": "stdout",
     "output_type": "stream",
     "text": [
      "satr=D:\\hjk_jhh\\biiks\\my_books.exe\n",
      "my_books\n"
     ]
    }
   ],
   "source": [
    "# str 58) shu satrdagi faqat fayl nomini chqaruvchi\n",
    "satr=input(\"satr=\")\n",
    "s=\"\"\n",
    "for i in satr:\n",
    "    if i!=\":\" and i!=\"\\\\\" and i!=\".\":\n",
    "        s+=i\n",
    "    elif i==\".\":\n",
    "        name=s\n",
    "        break\n",
    "    else:\n",
    "        s=\"\"\n",
    "    \n",
    "print(name)"
   ]
  },
  {
   "cell_type": "code",
   "execution_count": 15,
   "id": "376d2bf6",
   "metadata": {},
   "outputs": [
    {
     "name": "stdout",
     "output_type": "stream",
     "text": [
      "satr=D:\\hjk_jhh\\biiks\\my_books.exe\n",
      "exe\n"
     ]
    }
   ],
   "source": [
    "# str 59) shu satrdagi faqat fayl kengaytmasini chqaruvchi\n",
    "satr=input(\"satr=\")\n",
    "ext=\"\"; once=False\n",
    "for i in satr:\n",
    "    if i==\".\":\n",
    "        once=True\n",
    "        continue\n",
    "    if once:\n",
    "        ext+=i    \n",
    "print(ext)"
   ]
  },
  {
   "cell_type": "code",
   "execution_count": 20,
   "id": "9f0907b1",
   "metadata": {},
   "outputs": [
    {
     "name": "stdout",
     "output_type": "stream",
     "text": [
      "satr=D:\\hjk_jhh\\biiks\\my_books.exe\n",
      "hjk_jhh\n"
     ]
    }
   ],
   "source": [
    "# str 60) shu satrdagi faqat birinchi katalogni chqaruvchi\n",
    "satr=input(\"satr=\")\n",
    "s=\"\"; once=False\n",
    "for i in satr:\n",
    "    if i==\"\\\\\":\n",
    "        once+=1\n",
    "        if once==2:\n",
    "            break\n",
    "        continue\n",
    "    if once:\n",
    "        s+=i \n",
    "        \n",
    "if s!=\"\":\n",
    "    print(s)\n",
    "else:\n",
    "    print(\"\\\\\")"
   ]
  },
  {
   "cell_type": "code",
   "execution_count": 22,
   "id": "54bf8576",
   "metadata": {},
   "outputs": [
    {
     "name": "stdout",
     "output_type": "stream",
     "text": [
      "satr=D:\\hjk_jhh\\biiks\\my_books.exe\n",
      "biiks\n"
     ]
    }
   ],
   "source": [
    "# str 61) shu satrdagi faqat oxirgi katalogni chqaruvchi\n",
    "satr=input(\"satr=\")\n",
    "s=\"\"; once=False; direc=\"\"\n",
    "for i in satr:\n",
    "    if i==\"\\\\\":\n",
    "        once+=1\n",
    "        direc=s\n",
    "        s=\"\"\n",
    "        continue\n",
    "    if once:\n",
    "        s+=i \n",
    "        \n",
    "if direc!=\"\":\n",
    "    print(direc)\n",
    "else:\n",
    "    print(\"\\\\\")"
   ]
  },
  {
   "cell_type": "code",
   "execution_count": 8,
   "id": "bf8331ab",
   "metadata": {},
   "outputs": [
    {
     "name": "stdout",
     "output_type": "stream",
     "text": [
      "satr=shu satrni siklik siljitish yo`li bilan o`ngga suring\n",
      "tiv tbusoj tjlmjl tjmkjujti zp`mj cjmbo p`ohhb tvsjoh\n"
     ]
    }
   ],
   "source": [
    "# str 62) shu satrni siklik siljitish yo`li bilan o`ngga suring m: a ni b ga\n",
    "satr=input(\"satr=\")\n",
    "yangi_satr=\"\"\n",
    "for i in satr:\n",
    "    if 65<=ord(i)<=90 or 97<=ord(i)<=122:\n",
    "        if ord(i)==90 or ord(i)==122:\n",
    "            yangi_satr+=chr(ord(i)-25)\n",
    "            continue\n",
    "        yangi_satr+=chr(ord(i)+1)\n",
    "    else:\n",
    "        yangi_satr+=i\n",
    "print(yangi_satr)"
   ]
  },
  {
   "cell_type": "code",
   "execution_count": 6,
   "id": "f9b1523e",
   "metadata": {},
   "outputs": [
    {
     "name": "stdout",
     "output_type": "stream",
     "text": [
      "satr=abz yzaSd aaA zZz Ddd\n",
      "K ni kiriting(0<K<10)2\n",
      "cdb abcUf ccC bBb Fff\n"
     ]
    }
   ],
   "source": [
    "# str 63) shu satrni siklik siljitish yo`li bilan K ga o`ngga suring m: K=2 a ni c ga\n",
    "satr=input(\"satr=\")\n",
    "k=int(input(\"K ni kiriting(0<K<10)\"))\n",
    "yangi_satr=\"\"\n",
    "for i in satr:\n",
    "    if 65<=ord(i)<=90 or 97<=ord(i)<=122:\n",
    "        s=ord(i)+k\n",
    "        if 65<=ord(i)<=90 and s>90:\n",
    "            yangi_satr+=chr(s-26)\n",
    "        elif s>122:\n",
    "            yangi_satr+=chr(s-26)\n",
    "        else:\n",
    "            yangi_satr+=chr(s)\n",
    "    else:\n",
    "        yangi_satr+=i\n",
    "print(yangi_satr)"
   ]
  },
  {
   "cell_type": "code",
   "execution_count": 30,
   "id": "507b91d7",
   "metadata": {},
   "outputs": [
    {
     "name": "stdout",
     "output_type": "stream",
     "text": [
      "satr=cdb abcUf ccC bBb Fff\n",
      "K ni kiriting(0<K<10)2\n",
      "abz yzaSd aaA zZz Ddd\n"
     ]
    }
   ],
   "source": [
    "# str 64) str63 da kodlangan satrni oldingi holatga qaytaring:\n",
    "satr=input(\"satr=\")\n",
    "k=int(input(\"K ni kiriting(0<K<10)\"))\n",
    "yangi_satr=\"\"\n",
    "for i in satr:\n",
    "    if \"A\"<=i<=\"Z\" or \"a\"<=i<=\"z\":\n",
    "        s=ord(i)-k\n",
    "        if \"A\"<=i<=\"Z\" and s<65:\n",
    "            yangi_satr+=chr(s+26)\n",
    "        elif \"a\"<=i<=\"z\" and s<97:\n",
    "            yangi_satr+=chr(s+26)\n",
    "        else:\n",
    "            yangi_satr+=chr(s)\n",
    "    else:\n",
    "        yangi_satr+=i\n",
    "print(yangi_satr)\n"
   ]
  },
  {
   "cell_type": "code",
   "execution_count": 29,
   "id": "f487bbac",
   "metadata": {},
   "outputs": [
    {
     "name": "stdout",
     "output_type": "stream",
     "text": [
      "satr=cdb abcUf ccC bBb Fff\n",
      "1-xarfni kiritinga\n",
      "abz yzaSd aaA zZz Ddd\n"
     ]
    }
   ],
   "source": [
    "# str 65) str63 da kodlangan satrni oldingi holatga qaytaring birinchi harfni asli ber-n:\n",
    "satr=input(\"satr=\")\n",
    "a=input(\"1-xarfni kiriting\")\n",
    "yangi_satr=\"\"\n",
    "k=ord(satr[0])-ord(a)\n",
    "for i in satr:\n",
    "    if \"A\"<=i<=\"Z\" or \"a\"<=i<=\"z\":\n",
    "        s=ord(i)-k\n",
    "        if \"A\"<=i<=\"Z\" and s<65:\n",
    "            yangi_satr+=chr(s+26)\n",
    "        elif \"a\"<=i<=\"z\" and s<97:\n",
    "            yangi_satr+=chr(s+26)\n",
    "        else:\n",
    "            yangi_satr+=chr(s)\n",
    "    else:\n",
    "        yangi_satr+=i\n",
    "print(yangi_satr)"
   ]
  },
  {
   "cell_type": "code",
   "execution_count": 5,
   "id": "bbb245b2",
   "metadata": {},
   "outputs": [
    {
     "name": "stdout",
     "output_type": "stream",
     "text": [
      "satr=mirzaliev ozod\n",
      "mraivoodz elzi\n"
     ]
    }
   ],
   "source": [
    "# str 66) birinchi juft urinda turganlarni keyin toqlarni teskari tartibda joylang:\n",
    "satr=input(\"satr=\")\n",
    "print(satr[0::2]+(satr[1::2])[::-1])"
   ]
  },
  {
   "cell_type": "code",
   "execution_count": 18,
   "id": "59059926",
   "metadata": {},
   "outputs": [
    {
     "name": "stdout",
     "output_type": "stream",
     "text": [
      "satr=mraivoodz elzi\n",
      "mirzaliev ozod\n"
     ]
    }
   ],
   "source": [
    "# str 67) 66da kodlanganni asl holiga qaytaruvchi \n",
    "satr=input(\"satr=\")\n",
    "oldingi_satr=\"\"; j=0\n",
    "for i in range(len(satr)):\n",
    "    if i%2==0:\n",
    "        oldingi_satr+=satr[j]\n",
    "        j+=1\n",
    "    else:\n",
    "        oldingi_satr+=satr[-j]\n",
    "print(oldingi_satr)"
   ]
  },
  {
   "cell_type": "code",
   "execution_count": 28,
   "id": "d467ff27",
   "metadata": {},
   "outputs": [
    {
     "name": "stdout",
     "output_type": "stream",
     "text": [
      "satr=abce\n",
      "0\n"
     ]
    }
   ],
   "source": [
    "# str 68) raqam va kichik lotin xarflaridan iborat satr berilgan, agar harflar alfavit\n",
    "# tartibida bo`lsa 0, aks xolda qonuniyatni buzgan birinchi belgini chiqaruvchi\n",
    "# o`rtada kelgan raqamlarni hisobga olmaydi, abce bo`lsa ham qabul qiladi\n",
    "satr=input(\"satr=\")\n",
    "flag=True; natija=0\n",
    "for i in satr:\n",
    "    if \"a\"<=i<=\"z\":\n",
    "        if flag:\n",
    "            oldingi_xarf=i\n",
    "            flag=False\n",
    "            continue\n",
    "        if oldingi_xarf>i:\n",
    "            natija=i\n",
    "            break\n",
    "        oldingi_xarf=i\n",
    "print(natija)"
   ]
  },
  {
   "cell_type": "code",
   "execution_count": 51,
   "id": "99f20e74",
   "metadata": {},
   "outputs": [
    {
     "name": "stdout",
     "output_type": "stream",
     "text": [
      "satr=vghgv[jbhjhb{bhbh}]})\n",
      "20\n"
     ]
    }
   ],
   "source": [
    "# str 69) lotin xarflari va () dan  iborat satr berilgan, agar qavslar to`g`ri qo`yilgan\n",
    "# bo`lsa 0, agar yopiluvchi qavs noto`g`ri qo`yilgan bo`lsa uning indeksi chiqaruvchi\n",
    "# agar yopiluvchi qavslar yetishmasa -1 chiqaruvchi\n",
    "satr=input(\"satr=\")\n",
    "s=0\n",
    "for i in range(len(satr)):\n",
    "    if satr[i]==\"(\":\n",
    "        s-=1\n",
    "    if satr[i]==\")\":\n",
    "        s+=1\n",
    "    if s>0:\n",
    "        natija=i\n",
    "        break\n",
    "if s<0:\n",
    "    natija=-1\n",
    "elif s==0:\n",
    "    natija=0\n",
    "print(natija)"
   ]
  },
  {
   "cell_type": "code",
   "execution_count": 50,
   "id": "74ecbfc1",
   "metadata": {},
   "outputs": [
    {
     "name": "stdout",
     "output_type": "stream",
     "text": [
      "satr=vghgv[jbhjhb{bhbh}]}\n",
      "[0, 0, 0]\n",
      "[0, 0, 0]\n",
      "[0, 0, 0]\n",
      "[0, 0, 0]\n",
      "[0, 0, 0]\n",
      "[0, -1, 0]\n",
      "[0, -1, 0]\n",
      "[0, -1, 0]\n",
      "[0, -1, 0]\n",
      "[0, -1, 0]\n",
      "[0, -1, 0]\n",
      "[0, -1, 0]\n",
      "[0, -1, -1]\n",
      "[0, -1, -1]\n",
      "[0, -1, -1]\n",
      "[0, -1, -1]\n",
      "[0, -1, -1]\n",
      "[0, -1, 0]\n",
      "[0, 0, 0]\n",
      "19\n"
     ]
    }
   ],
   "source": [
    "# str 70) lotin xarflari va (),[],{} lardan  iborat satr berilgan, agar qavslar to`g`ri qo`yilgan\n",
    "# bo`lsa 0, agar yopiluvchi qavs noto`g`ri qo`yilgan bo`lsa uning indeksi chiqaruvchi\n",
    "# agar yopiluvchi qavslar yetishmasa -1 chiqaruvchi\n",
    "satr=input(\"satr=\")\n",
    "s=[0,0,0]\n",
    "for i in range(len(satr)):\n",
    "    if satr[i]==\"(\":\n",
    "        s[0]-=1\n",
    "    if satr[i]==\")\":\n",
    "        s[0]+=1\n",
    "    if satr[i]==\"[\":\n",
    "        s[1]-=1\n",
    "    if satr[i]==\"]\":\n",
    "        s[1]+=1\n",
    "    if satr[i]==\"{\":\n",
    "        s[2]-=1\n",
    "    if satr[i]==\"}\":\n",
    "        s[2]+=1\n",
    "    if s[0]>0 or s[1]>0 or s[2]>0:\n",
    "        natija=i\n",
    "        break\n",
    "if s[0]<0 or s[1]<0 or s[2]<0:\n",
    "    natija=-1\n",
    "elif s[0]==0 and s[1]==0 and s[2]==0:\n",
    "    natija=0\n",
    "print(natija)"
   ]
  },
  {
   "cell_type": "code",
   "execution_count": 49,
   "id": "b5b9398b",
   "metadata": {},
   "outputs": [
    {
     "name": "stdout",
     "output_type": "stream",
     "text": [
      "v\n",
      "g\n",
      "h\n",
      "g\n",
      "v\n",
      "[\n",
      "j\n",
      "b\n",
      "h\n",
      "j\n",
      "h\n",
      "b\n",
      "{\n",
      "b\n",
      "h\n",
      "b\n",
      "h\n",
      "}\n",
      "]\n",
      "}\n"
     ]
    }
   ],
   "source": []
  },
  {
   "cell_type": "code",
   "execution_count": 17,
   "id": "5e082cb3",
   "metadata": {},
   "outputs": [
    {
     "name": "stdout",
     "output_type": "stream",
     "text": [
      "satr=}{\n",
      "} [0, 1, 0] True\n",
      "0\n"
     ]
    }
   ],
   "source": []
  },
  {
   "cell_type": "code",
   "execution_count": 7,
   "id": "8cd05f19",
   "metadata": {},
   "outputs": [
    {
     "name": "stdout",
     "output_type": "stream",
     "text": [
      "satr=)))\n",
      "0-indexdagi qavs noto`g`ri qo`yilgan\n"
     ]
    }
   ],
   "source": [
    "# str 70) lotin xarflari va (),[],{} lardan  iborat satr berilgan, agar qavslar to`g`ri qo`yilgan\n",
    "# bo`lsa 0, agar yopiluvchi qavs noto`g`ri qo`yilgan bo`lsa uning indeksi chiqaruvchi\n",
    "# agar yopiluvchi qavslar yetishmasa -1 chiqaruvchi\n",
    "satr=input(\"satr=\")\n",
    "s=[0,0,0]; qavslar=[]; tartib=True\n",
    "for i in range(len(satr)):   \n",
    "    if satr[i] in \"({[]})\": qavslar.append(satr[i])\n",
    "    if satr[i] in \"()\": \n",
    "        if satr[i]==\"(\": s[0]-=1 \n",
    "        else:\n",
    "            s[0]+=1 \n",
    "            if len(qavslar)>=2 and qavslar[-2] in \"({[\" and qavslar[-2]!=\"(\": \n",
    "                tartib=False\n",
    "                break\n",
    "    if satr[i] in \"{}\":\n",
    "        if satr[i]==\"{\": s[1]-=1 \n",
    "        else:\n",
    "            s[1]+=1\n",
    "            if len(qavslar)>=2 and qavslar[-2] in \"({[\" and qavslar[-2]!=\"{\": \n",
    "                tartib=False\n",
    "                break\n",
    "    if satr[i] in \"[]\":\n",
    "        if satr[i]==\"[\": s[2]-=1 \n",
    "        else:\n",
    "            s[2]+=1 \n",
    "            if len(qavslar)>=2 and qavslar[-2] in \"({[\" and qavslar[-2]!=\"[\": \n",
    "                tartib=False\n",
    "                break\n",
    "    if s[0]>0 or s[1]>0 or s[2]>0:\n",
    "        break \n",
    "natija=f\"{i}-indexdagi qavs noto`g`ri qo`yilgan\"\n",
    "if tartib:\n",
    "    if s[0]<0 or s[1]<0 or s[2]<0: natija=\"yopiluvchi qavs yetishmaydi\"\n",
    "    elif s[0]==0 and s[1]==0 and s[2]==0: natija=\"qavslar to`g`ri qo`yilgan\"\n",
    "print(natija)"
   ]
  }
 ],
 "metadata": {
  "kernelspec": {
   "display_name": "Python 3 (ipykernel)",
   "language": "python",
   "name": "python3"
  },
  "language_info": {
   "codemirror_mode": {
    "name": "ipython",
    "version": 3
   },
   "file_extension": ".py",
   "mimetype": "text/x-python",
   "name": "python",
   "nbconvert_exporter": "python",
   "pygments_lexer": "ipython3",
   "version": "3.8.10"
  }
 },
 "nbformat": 4,
 "nbformat_minor": 5
}
