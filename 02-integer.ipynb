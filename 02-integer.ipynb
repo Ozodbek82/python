{
 "cells": [
  {
   "cell_type": "code",
   "execution_count": 1,
   "id": "9e2342b4",
   "metadata": {},
   "outputs": [
    {
     "name": "stdout",
     "output_type": "stream",
     "text": [
      "sm=250\n",
      "2.0  ta metr bor\n"
     ]
    }
   ],
   "source": [
    "# 1\n",
    "sm=float(input(\"sm=\"))\n",
    "m=sm//100\n",
    "print(m,\" ta metr bor\")"
   ]
  },
  {
   "cell_type": "code",
   "execution_count": 2,
   "id": "f9cefb69",
   "metadata": {},
   "outputs": [
    {
     "name": "stdout",
     "output_type": "stream",
     "text": [
      "kg=4500\n",
      "4.0  tonna\n"
     ]
    }
   ],
   "source": [
    "#2\n",
    "m=float(input(\"kg=\"))\n",
    "tn=m//1000\n",
    "print(tn,\" tonna\")"
   ]
  },
  {
   "cell_type": "code",
   "execution_count": 3,
   "id": "91e24e01",
   "metadata": {},
   "outputs": [
    {
     "name": "stdout",
     "output_type": "stream",
     "text": [
      "bite:4582\n",
      "4 kilobayt\n"
     ]
    }
   ],
   "source": [
    "#3\n",
    "bite=int(input(\"bite:\"))\n",
    "kb=bite//1024\n",
    "print(kb,\"kilobayt\")"
   ]
  },
  {
   "cell_type": "code",
   "execution_count": 4,
   "id": "bd1e8391",
   "metadata": {},
   "outputs": [
    {
     "name": "stdout",
     "output_type": "stream",
     "text": [
      "katta kesma=100\n",
      "kichik kesma=32\n",
      "3.0 marta\n"
     ]
    }
   ],
   "source": [
    "#4\n",
    "big=float(input(\"katta kesma=\"))\n",
    "sml=float(input(\"kichik kesma=\"))\n",
    "s=big//sml\n",
    "print(s,'marta')"
   ]
  },
  {
   "cell_type": "code",
   "execution_count": 5,
   "id": "40395139",
   "metadata": {},
   "outputs": [
    {
     "name": "stdout",
     "output_type": "stream",
     "text": [
      "katta kesma=200\n",
      "kichik kesma=30\n",
      "6.0 marta 20.0 ortib qoladi\n"
     ]
    }
   ],
   "source": [
    "#5\n",
    "big=float(input(\"katta kesma=\"))\n",
    "sml=float(input(\"kichik kesma=\"))\n",
    "s=big//sml; s1=big-s*sml  # yoki s1=big%sml\n",
    "print(s,'marta',s1,'ortib qoladi')"
   ]
  },
  {
   "cell_type": "code",
   "execution_count": 6,
   "id": "bbafd9d7",
   "metadata": {},
   "outputs": [
    {
     "name": "stdout",
     "output_type": "stream",
     "text": [
      "ikki xonali son=56\n",
      "5.0 ta o`nlik 6.0 ta birlik\n"
     ]
    }
   ],
   "source": [
    "#6\n",
    "a=float(input(\"ikki xonali son=\"))\n",
    "b=a//10; c=a%10\n",
    "print(b,\"ta o`nlik\",c,\"ta birlik\")\n",
    "\n",
    "\n"
   ]
  },
  {
   "cell_type": "code",
   "execution_count": 7,
   "id": "5a28edfe",
   "metadata": {},
   "outputs": [
    {
     "name": "stdout",
     "output_type": "stream",
     "text": [
      "ikki xonali son=45\n",
      "9.0\n"
     ]
    }
   ],
   "source": [
    "#7\n",
    "a=float(input(\"ikki xonali son=\"))\n",
    "b=a//10; c=a%10\n",
    "print(b+c)"
   ]
  },
  {
   "cell_type": "code",
   "execution_count": 8,
   "id": "d8d47631",
   "metadata": {},
   "outputs": [
    {
     "name": "stdout",
     "output_type": "stream",
     "text": [
      "ikki xonali son=56\n",
      "65.0\n"
     ]
    }
   ],
   "source": [
    "#8\n",
    "a=float(input(\"ikki xonali son=\"))\n",
    "b=a//10; c=a%10\n",
    "print(c*10+b)"
   ]
  },
  {
   "cell_type": "code",
   "execution_count": 10,
   "id": "0f0393bd",
   "metadata": {},
   "outputs": [
    {
     "name": "stdout",
     "output_type": "stream",
     "text": [
      "uch xonali son=568\n",
      "5.0\n"
     ]
    }
   ],
   "source": [
    "#9\n",
    "a=float(input(\"uch xonali son=\"))\n",
    "b=a//100\n",
    "print(b)"
   ]
  },
  {
   "cell_type": "code",
   "execution_count": 12,
   "id": "4a791e74",
   "metadata": {},
   "outputs": [
    {
     "name": "stdout",
     "output_type": "stream",
     "text": [
      "uch xonali son=452\n",
      "2.0 5.0\n"
     ]
    }
   ],
   "source": [
    "#10\n",
    "a=float(input(\"uch xonali son=\"))\n",
    "b=a%10; c=(a%100-b)/10\n",
    "print(b,c)"
   ]
  },
  {
   "cell_type": "code",
   "execution_count": 13,
   "id": "e5ce4215",
   "metadata": {},
   "outputs": [
    {
     "name": "stdout",
     "output_type": "stream",
     "text": [
      "uch xonali son=456\n",
      "15.0\n"
     ]
    }
   ],
   "source": [
    "#11\n",
    "a=float(input(\"uch xonali son=\"))\n",
    "b1=a%10 ; b2=(a%100-b1)/10 ; b3=a//100\n",
    "print(b1+b2+b3)"
   ]
  },
  {
   "cell_type": "code",
   "execution_count": 14,
   "id": "333b3545",
   "metadata": {},
   "outputs": [
    {
     "name": "stdout",
     "output_type": "stream",
     "text": [
      "uch xonali son=789\n",
      "987.0\n"
     ]
    }
   ],
   "source": [
    "#12\n",
    "a=float(input(\"uch xonali son=\"))\n",
    "b1=a%10 ; b2=(a%100-b1)/10 ; b3=a//100\n",
    "print(b1*100+b2*10+b3)"
   ]
  },
  {
   "cell_type": "code",
   "execution_count": 15,
   "id": "872f646b",
   "metadata": {},
   "outputs": [
    {
     "name": "stdout",
     "output_type": "stream",
     "text": [
      "uch xonali son=123\n",
      "231.0\n"
     ]
    }
   ],
   "source": [
    "#13\n",
    "a=float(input(\"uch xonali son=\"))\n",
    "b1=a%10 ; b2=(a%100-b1)/10 ; b3=a//100\n",
    "print(b2*100+b1*10+b3)"
   ]
  },
  {
   "cell_type": "code",
   "execution_count": 16,
   "id": "c72eb0cd",
   "metadata": {},
   "outputs": [
    {
     "name": "stdout",
     "output_type": "stream",
     "text": [
      "uch xonali son=456\n",
      "645.0\n"
     ]
    }
   ],
   "source": [
    "#14\n",
    "a=float(input(\"uch xonali son=\"))\n",
    "b1=a%10 ; b2=(a%100-b1)/10 ; b3=a//100\n",
    "print(b1*100+b3*10+b2)"
   ]
  },
  {
   "cell_type": "code",
   "execution_count": 17,
   "id": "45bc4d6a",
   "metadata": {},
   "outputs": [
    {
     "name": "stdout",
     "output_type": "stream",
     "text": [
      "uch xonali son=123\n",
      "213.0\n"
     ]
    }
   ],
   "source": [
    "#15\n",
    "a=float(input(\"uch xonali son=\"))\n",
    "b1=a%10 ; b2=(a%100-b1)/10 ; b3=a//100\n",
    "print(b2*100+b3*10+b1)"
   ]
  },
  {
   "cell_type": "code",
   "execution_count": 19,
   "id": "a7c8f3b5",
   "metadata": {},
   "outputs": [
    {
     "name": "stdout",
     "output_type": "stream",
     "text": [
      "uch xonali son=123\n",
      "132.0\n"
     ]
    }
   ],
   "source": [
    "#16\n",
    "a=float(input(\"uch xonali son=\"))\n",
    "b1=a%10 ; b2=(a%100-b1)/10 ; b3=a//100\n",
    "print(b3*100+b1*10+b2)"
   ]
  },
  {
   "cell_type": "code",
   "execution_count": 27,
   "id": "e8c1546d",
   "metadata": {},
   "outputs": [
    {
     "name": "stdout",
     "output_type": "stream",
     "text": [
      "999dan katta son=121212\n",
      "2\n"
     ]
    }
   ],
   "source": [
    "#17\n",
    "a=float(input(\"999dan katta son=\"))\n",
    "b2=a//100%10\n",
    "print(int(b2))"
   ]
  },
  {
   "cell_type": "code",
   "execution_count": 28,
   "id": "c61f6a21",
   "metadata": {},
   "outputs": [
    {
     "name": "stdout",
     "output_type": "stream",
     "text": [
      "999dan katta son=454545\n",
      "4\n"
     ]
    }
   ],
   "source": [
    "#18\n",
    "a=float(input(\"999dan katta son=\"))\n",
    "b2=a//1000%10\n",
    "print(int(b2))"
   ]
  },
  {
   "cell_type": "code",
   "execution_count": 29,
   "id": "7a8215e3",
   "metadata": {},
   "outputs": [
    {
     "name": "stdout",
     "output_type": "stream",
     "text": [
      "sekundni kiriting=3600\n",
      "60.0 minut\n"
     ]
    }
   ],
   "source": [
    "#19\n",
    "n=float(input(\"sekundni kiriting=\"))\n",
    "b=n//60\n",
    "print(b,\"minut\")"
   ]
  },
  {
   "cell_type": "code",
   "execution_count": 30,
   "id": "a390e3b9",
   "metadata": {},
   "outputs": [
    {
     "name": "stdout",
     "output_type": "stream",
     "text": [
      "sekundni kiriting=7250\n",
      "2.0 soat\n"
     ]
    }
   ],
   "source": [
    "#20\n",
    "n=float(input(\"sekundni kiriting=\"))\n",
    "b=n//3600\n",
    "print(b,\"soat\")"
   ]
  },
  {
   "cell_type": "code",
   "execution_count": 32,
   "id": "4e8fcfd8",
   "metadata": {},
   "outputs": [
    {
     "name": "stdout",
     "output_type": "stream",
     "text": [
      "sekundni kiriting=7545\n",
      "125.0 minut 45.0 sekund\n"
     ]
    }
   ],
   "source": [
    "#21\n",
    "n=float(input(\"sekundni kiriting=\"))\n",
    "b=n//60 ; c=n%60\n",
    "print(b,\"minut\",c,\"sekund\")"
   ]
  },
  {
   "cell_type": "code",
   "execution_count": 36,
   "id": "bdeb008f",
   "metadata": {},
   "outputs": [
    {
     "name": "stdout",
     "output_type": "stream",
     "text": [
      "sekundni kiriting=4588\n",
      "1.0 soat 28.0 sekund\n"
     ]
    }
   ],
   "source": [
    "#22\n",
    "n=int(input(\"sekundni kiriting=\"))\n",
    "soat=n//3600 ; minut=n%3600//60 ; sekund=n%60\n",
    "print(soat,\"soat\",sekund,\"sekund\")"
   ]
  },
  {
   "cell_type": "code",
   "execution_count": 37,
   "id": "64a9db60",
   "metadata": {},
   "outputs": [
    {
     "name": "stdout",
     "output_type": "stream",
     "text": [
      "sekundni kiriting=4855\n",
      "1.0 soat 20.0 minut 55.0 sekund\n"
     ]
    }
   ],
   "source": [
    "#23\n",
    "n=int(input(\"sekundni kiriting=\"))\n",
    "soat=n//3600 ; minut=n%3600//60 ; sekund=n%60\n",
    "print(soat,\"soat\",minut,\"minut\",sekund,\"sekund\")\n"
   ]
  },
  {
   "cell_type": "code",
   "execution_count": 51,
   "id": "924ebe1a",
   "metadata": {},
   "outputs": [
    {
     "name": "stdout",
     "output_type": "stream",
     "text": [
      "kunni kiriting=12\n",
      "5\n"
     ]
    }
   ],
   "source": [
    "#24\n",
    "k=int(input(\"kunni kiriting=\"))\n",
    "hk=k%7 \n",
    "print(hk)"
   ]
  },
  {
   "cell_type": "code",
   "execution_count": 52,
   "id": "0eb57f2a",
   "metadata": {},
   "outputs": [
    {
     "name": "stdout",
     "output_type": "stream",
     "text": [
      "kunni kiriting=11\n",
      "0\n"
     ]
    }
   ],
   "source": [
    "#25\n",
    "k=int(input(\"kunni kiriting=\"))\n",
    "hk=(k%7+3)%7 \n",
    "print(hk)"
   ]
  },
  {
   "cell_type": "code",
   "execution_count": 66,
   "id": "6f151c84",
   "metadata": {},
   "outputs": [
    {
     "name": "stdout",
     "output_type": "stream",
     "text": [
      "kunni kiriting=13\n",
      "7\n"
     ]
    }
   ],
   "source": [
    "#26\n",
    "k=int(input(\"kunni kiriting=\"))\n",
    "hk=k%7+1\n",
    "print(hk)"
   ]
  },
  {
   "cell_type": "code",
   "execution_count": 79,
   "id": "7959d26c",
   "metadata": {},
   "outputs": [
    {
     "name": "stdout",
     "output_type": "stream",
     "text": [
      "kunni kiriting=13\n",
      "5\n"
     ]
    }
   ],
   "source": [
    "#27\n",
    "k=int(input(\"kunni kiriting=\"))\n",
    "hk=(k+5)%7+1\n",
    "print(hk)"
   ]
  },
  {
   "cell_type": "code",
   "execution_count": 7,
   "id": "4244b1bd",
   "metadata": {},
   "outputs": [
    {
     "name": "stdout",
     "output_type": "stream",
     "text": [
      " N ni kiriting=2\n",
      "K ni kiriting=15\n",
      "2\n"
     ]
    }
   ],
   "source": [
    "#28\n",
    "n=int(input(\" N ni kiriting=\"))\n",
    "k=int(input(\"K ni kiriting=\"))\n",
    "hk=(k+n-2)%7+1\n",
    "print(hk)"
   ]
  },
  {
   "cell_type": "code",
   "execution_count": 86,
   "id": "6488fa8c",
   "metadata": {},
   "outputs": [
    {
     "name": "stdout",
     "output_type": "stream",
     "text": [
      " A ni kiriting=19\n",
      "B ni kiriting=9\n",
      "C ni kiriting=3\n",
      "joylashgan kvadratlar soni: 18   joylashmay qolgan qismi: 9\n"
     ]
    }
   ],
   "source": [
    "#29\n",
    "a=int(input(\" A ni kiriting=\"))\n",
    "b=int(input(\"B ni kiriting=\"))\n",
    "c=int(input(\"C ni kiriting=\"))\n",
    "d1=a//c ; d2=b//c\n",
    "x=d1*d2 ; y=a*b-x*c*c\n",
    "print(\"joylashgan kvadratlar soni:\",x,\"  joylashmay qolgan qismi:\",y)\n"
   ]
  },
  {
   "cell_type": "code",
   "execution_count": 91,
   "id": "c4f5858b",
   "metadata": {},
   "outputs": [
    {
     "name": "stdout",
     "output_type": "stream",
     "text": [
      " Yilni kiriting=2021\n",
      "21 -asr\n"
     ]
    }
   ],
   "source": [
    "#30\n",
    "import math\n",
    "yil=int(input(\" Yilni kiriting=\"))\n",
    "asr=math.ceil(yil/100)\n",
    "print(asr,\"-asr\")"
   ]
  },
  {
   "cell_type": "code",
   "execution_count": null,
   "id": "6d11fb2f",
   "metadata": {},
   "outputs": [],
   "source": [
    "#30 asrni toping\n",
    "yil=int(input(\" Yilni kiriting=\"))\n",
    "asr=yil//100+1\n",
    "print(yil,\"-yil  \",asr,\"-asrda\")"
   ]
  },
  {
   "cell_type": "code",
   "execution_count": null,
   "id": "7049993b",
   "metadata": {},
   "outputs": [],
   "source": [
    "# test 28 n-1 hafta kunlari quyidagi tartibda berilgan \n",
    "# 1-dushanba, 2-seshanba, 3-chorshanba, 4-payshanba,\n",
    "# 5-juma, 6-shanba, 7-yakshanba,1-365 oraliqda yotuvchi \n",
    "# k soni berilgan. agar 1-yanvar n-kunga to`gri kelsa,\n",
    "# kiritilgan k-kun hafaning qaysi kuniga to`g`ri kelishini aniqlovchi programma tuzilsin\n",
    "n=int(input(\" N ni kiriting=\"))\n",
    "k=int(input(\"K ni kiriting=\"))\n",
    "hk=(k%7+n-2)%7+1\n",
    "print(hk)"
   ]
  },
  {
   "cell_type": "code",
   "execution_count": null,
   "id": "6e973b26",
   "metadata": {},
   "outputs": [],
   "source": []
  },
  {
   "cell_type": "code",
   "execution_count": null,
   "id": "5927340e",
   "metadata": {},
   "outputs": [],
   "source": [
    "#27 yil oy kun soat minut sekund\n",
    "n=int(input(\"sekundni kiriting=\"))\n",
    "sekund=n%60\n",
    "minut=n//60%60\n",
    "soat=n//3600%24\n",
    "kun=n//(3600*24)%30\n",
    "oy=n//(3600*24*30)%12\n",
    "yil=n//(3600*24*30*12)\n",
    "print(yil,\"yil\",oy,\"oy\",kun,\"kun\",soat,\"soat\",minut,\"minut\",sekund,\"sekund\")"
   ]
  },
  {
   "cell_type": "code",
   "execution_count": null,
   "id": "771544fb",
   "metadata": {},
   "outputs": [],
   "source": [
    "bite=int(input(\"bite:\"))\n",
    "gb=bite//(1024*1024*1024)\n",
    "mb=bite%(1024*1024*1024)//(1024*1024)\n",
    "kb=bite%(1024*1024)//1024\n",
    "b=bite%1024\n",
    "print(gb,\"gb\",mb,\"mb\",kb,\"kilobayt\",b,\"bite\")"
   ]
  },
  {
   "cell_type": "code",
   "execution_count": null,
   "id": "9e43528a",
   "metadata": {},
   "outputs": [],
   "source": [
    "a=int(input(\"son=\"))\n",
    "print(\"son manfiy\",a<0)"
   ]
  },
  {
   "cell_type": "code",
   "execution_count": null,
   "id": "6156f662",
   "metadata": {},
   "outputs": [],
   "source": [
    "# 4-dars uyga vazifa\n",
    "k=int(input(\"K ni kiriting=\"))\n",
    "hk=int(input(\"H_K ni kiriting=\"))\n",
    "kk=int(input(\" K_K ni kiriting=\"))\n",
    "yan1=8-(k-hk)%7  #yan1=7-(k-hk-1)%7\n",
    "nat=(kk+yan1-1)%7\n",
    "print(\"1 yanv\",yan1)\n",
    "print(nat)"
   ]
  },
  {
   "cell_type": "code",
   "execution_count": 6,
   "id": "8fee92c3",
   "metadata": {},
   "outputs": [
    {
     "name": "stdout",
     "output_type": "stream",
     "text": [
      "7 7\n",
      "1 1\n",
      "2 2\n",
      "3 3\n",
      "4 4\n",
      "5 5\n",
      "6 6\n",
      "7 7\n",
      "1 1\n",
      "2 2\n",
      "3 3\n",
      "4 4\n",
      "5 5\n",
      "6 6\n",
      "7 7\n",
      "1 1\n",
      "2 2\n",
      "3 3\n",
      "4 4\n",
      "5 5\n",
      "6 6\n",
      "7 7\n",
      "1 1\n",
      "2 2\n",
      "3 3\n",
      "4 4\n",
      "5 5\n",
      "6 6\n",
      "7 7\n",
      "1 1\n",
      "2 2\n",
      "3 3\n",
      "4 4\n",
      "5 5\n",
      "6 6\n",
      "7 7\n",
      "1 1\n",
      "2 2\n",
      "3 3\n",
      "4 4\n",
      "5 5\n",
      "6 6\n",
      "7 7\n",
      "1 1\n",
      "2 2\n",
      "3 3\n",
      "4 4\n",
      "5 5\n",
      "6 6\n",
      "7 7\n",
      "1 1\n",
      "2 2\n",
      "3 3\n",
      "4 4\n",
      "5 5\n",
      "6 6\n",
      "7 7\n",
      "1 1\n",
      "2 2\n",
      "3 3\n",
      "4 4\n",
      "5 5\n",
      "6 6\n",
      "7 7\n",
      "1 1\n",
      "2 2\n",
      "3 3\n",
      "4 4\n",
      "5 5\n",
      "6 6\n",
      "7 7\n",
      "1 1\n",
      "2 2\n",
      "3 3\n",
      "4 4\n",
      "5 5\n",
      "6 6\n",
      "7 7\n",
      "1 1\n",
      "2 2\n",
      "3 3\n",
      "4 4\n",
      "5 5\n",
      "6 6\n",
      "7 7\n",
      "1 1\n",
      "2 2\n",
      "3 3\n",
      "4 4\n",
      "5 5\n",
      "6 6\n",
      "7 7\n",
      "1 1\n",
      "2 2\n",
      "3 3\n",
      "4 4\n",
      "5 5\n",
      "6 6\n",
      "7 7\n",
      "1 1\n"
     ]
    }
   ],
   "source": [
    "#27\n",
    "k = 1\n",
    "while k <= 100:\n",
    "    hk=(k%7+5)%7+1\n",
    "    h2=(k+5)%7+1\n",
    "    print(hk,h2)\n",
    "    k += 1\n",
    "\n"
   ]
  },
  {
   "cell_type": "code",
   "execution_count": null,
   "id": "893f5374",
   "metadata": {},
   "outputs": [],
   "source": []
  },
  {
   "cell_type": "code",
   "execution_count": null,
   "id": "10ae2f29",
   "metadata": {},
   "outputs": [],
   "source": []
  }
 ],
 "metadata": {
  "kernelspec": {
   "display_name": "Python 3 (ipykernel)",
   "language": "python",
   "name": "python3"
  },
  "language_info": {
   "codemirror_mode": {
    "name": "ipython",
    "version": 3
   },
   "file_extension": ".py",
   "mimetype": "text/x-python",
   "name": "python",
   "nbconvert_exporter": "python",
   "pygments_lexer": "ipython3",
   "version": "3.8.10"
  }
 },
 "nbformat": 4,
 "nbformat_minor": 5
}
