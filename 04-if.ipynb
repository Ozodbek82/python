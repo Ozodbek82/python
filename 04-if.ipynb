{
 "cells": [
  {
   "cell_type": "code",
   "execution_count": 2,
   "id": "befe68e9",
   "metadata": {},
   "outputs": [
    {
     "name": "stdout",
     "output_type": "stream",
     "text": [
      "sonni kiriting=8\n",
      "9\n"
     ]
    }
   ],
   "source": [
    "# if 1\n",
    "a=int(input(\"sonni kiriting=\"))\n",
    "if a>0 :\n",
    "    a=a+1\n",
    "print(a)    "
   ]
  },
  {
   "cell_type": "code",
   "execution_count": 4,
   "id": "470cb19b",
   "metadata": {},
   "outputs": [
    {
     "name": "stdout",
     "output_type": "stream",
     "text": [
      "sonni kiriting=-8\n",
      "-10\n"
     ]
    }
   ],
   "source": [
    "# if 2\n",
    "a=int(input(\"sonni kiriting=\"))\n",
    "if a>0 :\n",
    "    a+=1\n",
    "else:\n",
    "    a-=2\n",
    "print(a)    "
   ]
  },
  {
   "cell_type": "code",
   "execution_count": 7,
   "id": "d07ac490",
   "metadata": {},
   "outputs": [
    {
     "name": "stdout",
     "output_type": "stream",
     "text": [
      "sonni kiriting=10\n",
      "11\n"
     ]
    }
   ],
   "source": [
    "# if 3\n",
    "a=int(input(\"sonni kiriting=\"))\n",
    "if a>0 :\n",
    "    a+=1\n",
    "elif(a==0):\n",
    "    a=10\n",
    "else:\n",
    "    a-=2\n",
    "print(a)    "
   ]
  },
  {
   "cell_type": "code",
   "execution_count": 13,
   "id": "dd39b273",
   "metadata": {},
   "outputs": [
    {
     "name": "stdout",
     "output_type": "stream",
     "text": [
      "sonni kiriting=-9\n",
      "sonni kiriting=-8\n",
      "sonni kiriting=-7\n",
      "0\n"
     ]
    }
   ],
   "source": [
    "# if 4\n",
    "a=int(input(\"sonni kiriting=\"))\n",
    "b=int(input(\"sonni kiriting=\"))\n",
    "c=int(input(\"sonni kiriting=\"))\n",
    "i=0\n",
    "if a>0 :\n",
    "    i+=1\n",
    "if b>0:\n",
    "    i+=1\n",
    "if c>0:\n",
    "    i+=1\n",
    "print(i)    "
   ]
  },
  {
   "cell_type": "code",
   "execution_count": 15,
   "id": "1f15b1bb",
   "metadata": {},
   "outputs": [
    {
     "name": "stdout",
     "output_type": "stream",
     "text": [
      "sonni kiriting=-9\n",
      "sonni kiriting=-8\n",
      "sonni kiriting=7\n",
      "1 ta musbat 2 ta manfiy\n"
     ]
    }
   ],
   "source": [
    "# if 5\n",
    "a=int(input(\"sonni kiriting=\"))\n",
    "b=int(input(\"sonni kiriting=\"))\n",
    "c=int(input(\"sonni kiriting=\"))\n",
    "i=0 ; n=0\n",
    "if a>0 :\n",
    "    i+=1\n",
    "else:\n",
    "    n+=1\n",
    "if b>0:\n",
    "    i+=1\n",
    "else:\n",
    "    n+=1\n",
    "if c>0:\n",
    "    i+=1\n",
    "else:\n",
    "    n+=1\n",
    "print(i,\"ta musbat\",n,\"ta manfiy\")    "
   ]
  },
  {
   "cell_type": "code",
   "execution_count": 3,
   "id": "38dcb66d",
   "metadata": {},
   "outputs": [
    {
     "name": "stdout",
     "output_type": "stream",
     "text": [
      "sonni kiriting=789\n",
      "sonni kiriting=456\n",
      "789 katta\n"
     ]
    }
   ],
   "source": [
    "# if 6\n",
    "a=int(input(\"sonni kiriting=\"))\n",
    "b=int(input(\"sonni kiriting=\"))\n",
    "if(a>b):\n",
    "    print(a,\"katta\")\n",
    "elif(a==b):\n",
    "    print(\"ikkala son teng\")\n",
    "else:\n",
    "    print(b,\"katta\")\n",
    "    "
   ]
  },
  {
   "cell_type": "code",
   "execution_count": null,
   "id": "c1556931",
   "metadata": {},
   "outputs": [],
   "source": [
    "# if 7\n",
    "a=int(input(\"sonni kiriting=\"))\n",
    "b=int(input(\"sonni kiriting=\"))\n",
    "if(a<b):\n",
    "    print(a,\"kichik\")\n",
    "elif(a==b):\n",
    "    print(\"ikkala son teng\")\n",
    "else:\n",
    "    print(b,\"kichik\")"
   ]
  },
  {
   "cell_type": "code",
   "execution_count": null,
   "id": "1dc8366b",
   "metadata": {},
   "outputs": [],
   "source": [
    "# if 8\n",
    "a=int(input(\"sonni kiriting=\"))\n",
    "b=int(input(\"sonni kiriting=\"))\n",
    "if(a<b):\n",
    "    print(a,b)\n",
    "elif(a==b):\n",
    "    print(\"ikkala son teng\")\n",
    "else:\n",
    "    print(b,a)"
   ]
  },
  {
   "cell_type": "code",
   "execution_count": 4,
   "id": "7671de1b",
   "metadata": {},
   "outputs": [
    {
     "name": "stdout",
     "output_type": "stream",
     "text": [
      "sonni kiriting=9\n",
      "sonni kiriting=8\n",
      "8 9\n"
     ]
    }
   ],
   "source": [
    "# if 9\n",
    "a=float(input(\"sonni kiriting=\"))\n",
    "b=float(input(\"sonni kiriting=\"))\n",
    "if(a>b):\n",
    "    a,b=b,a\n",
    "print(a,b)\n"
   ]
  },
  {
   "cell_type": "code",
   "execution_count": null,
   "id": "e5ad2b2e",
   "metadata": {},
   "outputs": [],
   "source": [
    "# if 10\n",
    "a=int(input(\"sonni kiriting=\"))\n",
    "b=int(input(\"sonni kiriting=\"))\n",
    "if(a==b):\n",
    "    print(a,b)\n",
    "elif(a==b):\n",
    "    print(\"ikkala son teng\")\n",
    "else:\n",
    "    print(b,a)"
   ]
  },
  {
   "cell_type": "code",
   "execution_count": 3,
   "id": "bf54214c",
   "metadata": {},
   "outputs": [
    {
     "name": "stdout",
     "output_type": "stream",
     "text": [
      "sonni kiriting=9\n",
      "sonni kiriting=9\n",
      "0 0\n"
     ]
    }
   ],
   "source": [
    "# if 11\n",
    "a=int(input(\"sonni kiriting=\"))\n",
    "b=int(input(\"sonni kiriting=\"))\n",
    "if a>b :\n",
    "    b=a\n",
    "elif a<b:\n",
    "    a=b\n",
    "else:\n",
    "    a=0; b=0\n",
    "print(a,b)"
   ]
  },
  {
   "cell_type": "code",
   "execution_count": 6,
   "id": "6a336be3",
   "metadata": {},
   "outputs": [
    {
     "name": "stdout",
     "output_type": "stream",
     "text": [
      "sonni kiriting=9\n",
      "sonni kiriting=9\n",
      "sonni kiriting=9\n",
      "9\n"
     ]
    }
   ],
   "source": [
    "# if 12\n",
    "a=int(input(\"sonni kiriting=\"))\n",
    "b=int(input(\"sonni kiriting=\"))\n",
    "c=int(input(\"sonni kiriting=\"))\n",
    "if a<b<c or a<c<b or a<c==b or a==b<c or a==b==c:\n",
    "    print(a)\n",
    "elif b<a<c or b<c<a or b<a==c :\n",
    "    print(b)\n",
    "elif c<a<b or c<b<a or c<a==b or c==a<b:\n",
    "    print(c)\n",
    "else:\n",
    "    print(\"xato\")\n"
   ]
  },
  {
   "cell_type": "code",
   "execution_count": 8,
   "id": "b05a1ff1",
   "metadata": {},
   "outputs": [
    {
     "name": "stdout",
     "output_type": "stream",
     "text": [
      "sonni kiriting=89\n",
      "sonni kiriting=89\n",
      "sonni kiriting=65\n",
      "sonlarni kamida ikkitasi teng\n"
     ]
    }
   ],
   "source": [
    "#if 13\n",
    "a=int(input(\"sonni kiriting=\"))\n",
    "b=int(input(\"sonni kiriting=\"))\n",
    "c=int(input(\"sonni kiriting=\"))\n",
    "if a<b<c or c<b<a :\n",
    "    print(b)\n",
    "elif b<a<c or c<a<b:\n",
    "    print(a)\n",
    "elif a<c<b or b<c<a:\n",
    "    print(c)\n",
    "else:\n",
    "    print(\"sonlarni kamida ikkitasi teng\")\n"
   ]
  },
  {
   "cell_type": "code",
   "execution_count": 11,
   "id": "2ee8d1bb",
   "metadata": {},
   "outputs": [
    {
     "name": "stdout",
     "output_type": "stream",
     "text": [
      "sonni kiriting=89\n",
      "sonni kiriting=89\n",
      "sonni kiriting=75\n",
      "75 89 89\n"
     ]
    }
   ],
   "source": [
    "# if 14\n",
    "a=int(input(\"sonni kiriting=\"))\n",
    "b=int(input(\"sonni kiriting=\"))\n",
    "c=int(input(\"sonni kiriting=\"))\n",
    "if a<=b<=c:\n",
    "    print(a,b,c)\n",
    "elif b<=c<=a:\n",
    "    print(b,c,a)\n",
    "elif c<=a<=b:\n",
    "    print(c,a,b)\n",
    "elif c<=b<=a:\n",
    "    print(c,b,a)\n",
    "elif b<=a<=c:\n",
    "    print(b,a,c)\n",
    "elif a<=c<=b:\n",
    "    print(a,c,b)\n",
    "else:\n",
    "    print(\"xato bor\")"
   ]
  },
  {
   "cell_type": "code",
   "execution_count": 12,
   "id": "9e544bc1",
   "metadata": {},
   "outputs": [
    {
     "name": "stdout",
     "output_type": "stream",
     "text": [
      "sonni kiriting=4\n",
      "sonni kiriting=5\n",
      "sonni kiriting=6\n",
      "11\n"
     ]
    }
   ],
   "source": [
    "# if 15\n",
    "a=int(input(\"sonni kiriting=\"))\n",
    "b=int(input(\"sonni kiriting=\"))\n",
    "c=int(input(\"sonni kiriting=\"))\n",
    "sum=0\n",
    "if a<=b<=c or a<=c<=b:\n",
    "    sum=b+c\n",
    "elif b<=c<=a or b<=a<=c:\n",
    "    sum=c+a\n",
    "elif c<=b<=a or c<=a<=b:\n",
    "    sum=a+b\n",
    "else:\n",
    "    print('xato')\n",
    "print(sum)"
   ]
  },
  {
   "cell_type": "code",
   "execution_count": 15,
   "id": "9beaf90f",
   "metadata": {},
   "outputs": [
    {
     "name": "stdout",
     "output_type": "stream",
     "text": [
      "sonni kiriting=12\n",
      "sonni kiriting=13\n",
      "sonni kiriting=14\n",
      "24.0 26.0 28.0\n"
     ]
    }
   ],
   "source": [
    "# if 16\n",
    "a=float(input(\"sonni kiriting=\"))\n",
    "b=float(input(\"sonni kiriting=\"))\n",
    "c=float(input(\"sonni kiriting=\"))\n",
    "if a<b<c :\n",
    "    a,b,c=2*a,2*b,2*c\n",
    "else:\n",
    "    a,b,c=a*(-1),b*(-1),c*(-1)\n",
    "print(a,b,c)"
   ]
  },
  {
   "cell_type": "code",
   "execution_count": 16,
   "id": "0e8e84e5",
   "metadata": {},
   "outputs": [
    {
     "name": "stdout",
     "output_type": "stream",
     "text": [
      "sonni kiriting=45\n",
      "sonni kiriting=46\n",
      "sonni kiriting=78\n",
      "90.0 92.0 156.0\n"
     ]
    }
   ],
   "source": [
    "# if 17\n",
    "a=float(input(\"sonni kiriting=\"))\n",
    "b=float(input(\"sonni kiriting=\"))\n",
    "c=float(input(\"sonni kiriting=\"))\n",
    "if a<b<c or c<b<a :\n",
    "    a,b,c=2*a,2*b,2*c\n",
    "else:\n",
    "    a,b,c=a*(-1),b*(-1),c*(-1)\n",
    "print(a,b,c)"
   ]
  },
  {
   "cell_type": "code",
   "execution_count": 19,
   "id": "4ad7fed3",
   "metadata": {},
   "outputs": [
    {
     "name": "stdout",
     "output_type": "stream",
     "text": [
      "sonni kiriting=78\n",
      "sonni kiriting=1\n",
      "sonni kiriting=1\n",
      "1\n"
     ]
    }
   ],
   "source": [
    "# if 18\n",
    "a=int(input(\"sonni kiriting=\"))\n",
    "b=int(input(\"sonni kiriting=\"))\n",
    "c=int(input(\"sonni kiriting=\"))\n",
    "if a==b:\n",
    "    print(3)\n",
    "elif b==c:\n",
    "    print(1)\n",
    "elif c==a:\n",
    "    print(2)\n",
    "else:\n",
    "    print(\"teng son yoq\")"
   ]
  },
  {
   "cell_type": "code",
   "execution_count": 20,
   "id": "8522de86",
   "metadata": {},
   "outputs": [
    {
     "name": "stdout",
     "output_type": "stream",
     "text": [
      "sonni kiriting=5\n",
      "sonni kiriting=5\n",
      "sonni kiriting=9\n",
      "sonni kiriting=5\n",
      "3\n"
     ]
    }
   ],
   "source": [
    "# if 19\n",
    "a=int(input(\"sonni kiriting=\"))\n",
    "b=int(input(\"sonni kiriting=\"))\n",
    "c=int(input(\"sonni kiriting=\"))\n",
    "d=int(input(\"sonni kiriting=\"))\n",
    "if a!=b==c==d:\n",
    "    num=1\n",
    "elif b!=c==d==a:\n",
    "    num=2\n",
    "elif c!=d==a==b:\n",
    "    num=3\n",
    "elif d!=a==b==c:\n",
    "    num=4\n",
    "else:\n",
    "    num=\"3 ta son teng emas\"\n",
    "print(num)"
   ]
  },
  {
   "cell_type": "code",
   "execution_count": 23,
   "id": "40d95118",
   "metadata": {},
   "outputs": [
    {
     "name": "stdout",
     "output_type": "stream",
     "text": [
      "A ni kiriting=2\n",
      "B ni kiriting=5\n",
      "C ni kiriting=4\n",
      "nuqta C 2\n"
     ]
    }
   ],
   "source": [
    "# if 20\n",
    "a=int(input(\"A ni kiriting=\"))\n",
    "b=int(input(\"B ni kiriting=\"))\n",
    "c=int(input(\"C ni kiriting=\"))\n",
    "x1=abs(a-b); x2=abs(a-c)\n",
    "if x1<x2:\n",
    "    print(\"nuqta B\",x1)\n",
    "elif x2<x1:\n",
    "    print(\"nuqta C\",x2)\n",
    "else:\n",
    "    print(\"nuqtalar bir masofada\",x1)"
   ]
  },
  {
   "cell_type": "code",
   "execution_count": 2,
   "id": "c1948c01",
   "metadata": {},
   "outputs": [
    {
     "name": "stdout",
     "output_type": "stream",
     "text": [
      "X ni kiriting=5\n",
      "Y ni kiriting=6\n",
      "3\n"
     ]
    }
   ],
   "source": [
    "# if 21\n",
    "x=int(input(\"X ni kiriting=\"))\n",
    "y=int(input(\"Y ni kiriting=\"))\n",
    "if x==0 and y==0:\n",
    "    print(0)\n",
    "elif x==0:\n",
    "    print(2)\n",
    "elif y==0:\n",
    "    print(1)\n",
    "else:\n",
    "    print(3)"
   ]
  },
  {
   "cell_type": "code",
   "execution_count": 5,
   "id": "a68a5701",
   "metadata": {},
   "outputs": [
    {
     "name": "stdout",
     "output_type": "stream",
     "text": [
      "X ni kiriting=-9\n",
      "Y ni kiriting=9\n",
      "2-chorakda\n"
     ]
    }
   ],
   "source": [
    "# if 22\n",
    "x=int(input(\"X ni kiriting=\"))\n",
    "y=int(input(\"Y ni kiriting=\"))\n",
    "if x>0 and y>0:\n",
    "    print(\"1-chorakda\")\n",
    "elif y>0 and x<0:\n",
    "    print(\"2-chorakda\")\n",
    "elif y<0 and x<0:\n",
    "    print(\"3-chorakda\")\n",
    "else:\n",
    "    print(\"4-chorakda\")"
   ]
  },
  {
   "cell_type": "code",
   "execution_count": 8,
   "id": "b9a1a721",
   "metadata": {},
   "outputs": [
    {
     "name": "stdout",
     "output_type": "stream",
     "text": [
      "X1 ni kiriting=3\n",
      "Y1 ni kiriting=4\n",
      "X2 ni kiriting=6\n",
      "Y2 ni kiriting=4\n",
      "X3 ni kiriting=3\n",
      "Y3 ni kiriting=8\n",
      "6 8\n"
     ]
    }
   ],
   "source": [
    "# if 23\n",
    "x1=int(input(\"X1 ni kiriting=\"))\n",
    "y1=int(input(\"Y1 ni kiriting=\"))\n",
    "x2=int(input(\"X2 ni kiriting=\"))\n",
    "y2=int(input(\"Y2 ni kiriting=\"))\n",
    "x3=int(input(\"X3 ni kiriting=\"))\n",
    "y3=int(input(\"Y3 ni kiriting=\"))\n",
    "if x2==x3:\n",
    "    x4=x1\n",
    "elif x3==x1:\n",
    "    x4=x2\n",
    "elif x4==x2:\n",
    "    x4=x3\n",
    "if y2==y3:\n",
    "    y4=y1\n",
    "elif y3==y1:\n",
    "    y4=y2\n",
    "elif y4==y2:\n",
    "    y4=y3\n",
    "print(x4,y4)"
   ]
  },
  {
   "cell_type": "code",
   "execution_count": 16,
   "id": "aeff701a",
   "metadata": {},
   "outputs": [
    {
     "name": "stdout",
     "output_type": "stream",
     "text": [
      "x ni kiriting=4\n",
      "natija= -1.5136049906158564\n"
     ]
    }
   ],
   "source": [
    "# if 24\n",
    "from math import sin\n",
    "x=float(input(\"x ni kiriting=\"))\n",
    "if x>0:\n",
    "    y=sin(x)*2\n",
    "else:\n",
    "    y=x-6\n",
    "print(\"natija=\",y)"
   ]
  },
  {
   "cell_type": "code",
   "execution_count": 18,
   "id": "795aff64",
   "metadata": {},
   "outputs": [
    {
     "name": "stdout",
     "output_type": "stream",
     "text": [
      "x ni kiriting=6\n",
      "natija= 12\n"
     ]
    }
   ],
   "source": [
    "# if 25\n",
    "x=float(input(\"x ni kiriting=\"))\n",
    "if not(-2<=x<=2):\n",
    "    y=x*2\n",
    "else:\n",
    "    y=x*(-3)\n",
    "print(\"natija=\",y)"
   ]
  },
  {
   "cell_type": "code",
   "execution_count": 21,
   "id": "3e1a5a21",
   "metadata": {},
   "outputs": [
    {
     "name": "stdout",
     "output_type": "stream",
     "text": [
      "x ni kiriting=-8\n",
      "natija= 8\n"
     ]
    }
   ],
   "source": [
    "# if 26\n",
    "x=float(input(\"x ni kiriting=\"))\n",
    "if x<=0:\n",
    "    y=x*(-1)\n",
    "elif 0<x<2:\n",
    "    y=x**2\n",
    "elif x>=2:\n",
    "    y=4\n",
    "print(\"natija=\",y)"
   ]
  },
  {
   "cell_type": "code",
   "execution_count": 1,
   "id": "36cc43e2",
   "metadata": {},
   "outputs": [
    {
     "name": "stdout",
     "output_type": "stream",
     "text": [
      "x ni kiriting=2.41\n",
      "natija= 1\n"
     ]
    }
   ],
   "source": [
    "# if 27\n",
    "from math import floor\n",
    "x=float(input(\"x ni kiriting=\"))\n",
    "if x<0:\n",
    "    y=0\n",
    "elif 0<=floor(x%2)<1:\n",
    "    y=1\n",
    "elif 1<=floor(x%2)<2:\n",
    "    y=-1\n",
    "print(\"natija=\",y)"
   ]
  },
  {
   "cell_type": "code",
   "execution_count": 41,
   "id": "206fbacc",
   "metadata": {},
   "outputs": [
    {
     "name": "stdout",
     "output_type": "stream",
     "text": [
      "yilni kiriting=2020\n",
      "366 kun\n"
     ]
    }
   ],
   "source": [
    "# if 28  kabisa yili yo 400 ga karrali yoki 4ga karrali va 100ga karralimas bo`lishi k-k\n",
    "yil=int(input(\"yilni kiriting=\"))\n",
    "if yil%4==0 and yil%100!=0 or yil%400==0:\n",
    "    print(\"366 kun\")\n",
    "else:\n",
    "    print(\"365 kun\")"
   ]
  },
  {
   "cell_type": "code",
   "execution_count": 31,
   "id": "78c5392b",
   "metadata": {},
   "outputs": [
    {
     "name": "stdout",
     "output_type": "stream",
     "text": [
      "sonni kiriting=0\n",
      "nolga teng\n"
     ]
    }
   ],
   "source": [
    "# if 29\n",
    "a=int(input(\"sonni kiriting=\"))\n",
    "if a>0 :\n",
    "    if a%2==0:\n",
    "        print(\"musbat juft\")\n",
    "    else:\n",
    "        print(\"musbat toq\")\n",
    "elif a==0:\n",
    "    print(\"nolga teng\")\n",
    "else:\n",
    "    if a%2==0:\n",
    "        print(\"manfiy juft\")\n",
    "    else:\n",
    "        print(\"manfiy toq\")\n"
   ]
  },
  {
   "cell_type": "code",
   "execution_count": 35,
   "id": "1c60ac8c",
   "metadata": {},
   "outputs": [
    {
     "name": "stdout",
     "output_type": "stream",
     "text": [
      "sonni kiriting=5\n",
      "Bir xonali toq\n"
     ]
    }
   ],
   "source": [
    "# if 30  1-999\n",
    "a=int(input(\"sonni kiriting=\"))\n",
    "if 1<=a<10:\n",
    "    if a%2==0:\n",
    "        print(\"Bir xonali juft\")\n",
    "    else:\n",
    "        print(\"Bir xonali toq\")\n",
    "elif 10<=a<100:\n",
    "    if a%2==0:\n",
    "        print(\"ikki xonali juft\")\n",
    "    else:\n",
    "        print(\"ikki xonali toq\")\n",
    "else:\n",
    "    if a%2==0:\n",
    "        print(\"Uch xonali juft\")\n",
    "    else:\n",
    "        print(\"Uch xonali toq\")\n",
    "    \n"
   ]
  },
  {
   "cell_type": "code",
   "execution_count": 2,
   "id": "a876b966",
   "metadata": {},
   "outputs": [
    {
     "name": "stdout",
     "output_type": "stream",
     "text": [
      "N ni kiriting=45\n",
      "qirq besh\n"
     ]
    }
   ],
   "source": [
    "# if junior 1<=n<=99\n",
    "n=int(input(\"N ni kiriting=\"))\n",
    "a1=\"bir\"\n",
    "a2=\"ikki\"\n",
    "a3=\"uch\"\n",
    "a4=\"to`rt\"\n",
    "a5=\"besh\"\n",
    "a6=\"olti\"\n",
    "a7=\"yetti\"\n",
    "a8=\"sakkiz\"\n",
    "a9=\"to`qqiz\"\n",
    "a10=\"o`n\"\n",
    "a20=\"yigirma\"\n",
    "a30=\"o`ttiz\"\n",
    "a40=\"qirq\"\n",
    "a50=\"ellik\"\n",
    "a60=\"oltmish\"\n",
    "a70=\"yetmish\"\n",
    "a80=\"sakson\"\n",
    "a90=\"to`qson\"\n",
    "onlik=n//10\n",
    "birlik=n%10\n",
    "b,o=\"\",\"\"\n",
    "if birlik==1:\n",
    "    b=a1\n",
    "elif birlik==2:\n",
    "    b=a2\n",
    "elif birlik==2:\n",
    "    b=a2\n",
    "elif birlik==3:\n",
    "    b=a3\n",
    "elif birlik==4:\n",
    "    b=a4\n",
    "elif birlik==5:\n",
    "    b=a5\n",
    "elif birlik==6:\n",
    "    b=a6\n",
    "elif birlik==7:\n",
    "    b=a7\n",
    "elif birlik==8:\n",
    "    b=a8\n",
    "elif birlik==9:\n",
    "    b=a9\n",
    "if onlik==1:\n",
    "    o=a10\n",
    "elif onlik==2:\n",
    "    o=a20\n",
    "elif onlik==3:\n",
    "    o=a30\n",
    "elif onlik==4:\n",
    "    o=a40\n",
    "elif onlik==5:\n",
    "    o=a50\n",
    "elif onlik==6:\n",
    "    o=a60\n",
    "elif onlik==7:\n",
    "    o=a70\n",
    "elif onlik==8:\n",
    "    o=a80\n",
    "elif onlik==9:\n",
    "    o=a90\n",
    "print(o,b)\n",
    "\n",
    "\n"
   ]
  },
  {
   "cell_type": "code",
   "execution_count": 54,
   "id": "c4a846ef",
   "metadata": {},
   "outputs": [
    {
     "name": "stdout",
     "output_type": "stream",
     "text": [
      "yilni kiriting=2022\n",
      "738520\n"
     ]
    }
   ],
   "source": [
    "yil=int(input(\"yilni kiriting=\"))\n",
    "kun=yil*365+(yil//4-yil//100+yil//400)\n",
    "print(kun)"
   ]
  },
  {
   "cell_type": "code",
   "execution_count": null,
   "id": "abf65f60",
   "metadata": {},
   "outputs": [],
   "source": [
    "a=int(input(\"sonni kiriting=\"))\n",
    "b=int(input(\"sonni kiriting=\"))\n",
    "c=int(input(\"sonni kiriting=\"))\n",
    "if a>0"
   ]
  },
  {
   "cell_type": "code",
   "execution_count": 1,
   "id": "1c49b06a",
   "metadata": {},
   "outputs": [
    {
     "name": "stdout",
     "output_type": "stream",
     "text": [
      "1\n"
     ]
    }
   ],
   "source": [
    "print(0**0)"
   ]
  },
  {
   "cell_type": "code",
   "execution_count": null,
   "id": "117ef868",
   "metadata": {},
   "outputs": [],
   "source": []
  }
 ],
 "metadata": {
  "kernelspec": {
   "display_name": "Python 3 (ipykernel)",
   "language": "python",
   "name": "python3"
  },
  "language_info": {
   "codemirror_mode": {
    "name": "ipython",
    "version": 3
   },
   "file_extension": ".py",
   "mimetype": "text/x-python",
   "name": "python",
   "nbconvert_exporter": "python",
   "pygments_lexer": "ipython3",
   "version": "3.10.0"
  }
 },
 "nbformat": 4,
 "nbformat_minor": 5
}
