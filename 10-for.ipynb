{
 "cells": [
  {
   "cell_type": "code",
   "execution_count": 2,
   "id": "2e68ac8b",
   "metadata": {},
   "outputs": [
    {
     "name": "stdout",
     "output_type": "stream",
     "text": [
      "K ni kiriting=45\n",
      "N ni kiriting=2\n",
      "45\n",
      "45\n"
     ]
    }
   ],
   "source": [
    "#for 1 n>0 k ni n marta\n",
    "k=int(input(\"K ni kiriting=\"))\n",
    "n=int(input(\"N ni kiriting=\"))\n",
    "for i in range(n):\n",
    "    print(k)"
   ]
  },
  {
   "cell_type": "code",
   "execution_count": 44,
   "id": "0143d190",
   "metadata": {},
   "outputs": [
    {
     "name": "stdout",
     "output_type": "stream",
     "text": [
      "A ni kiriting=12\n",
      "B ni kiriting=19\n",
      "12 13 14 15 16 17 18 19 \n",
      " 8 ta son bor\n"
     ]
    }
   ],
   "source": [
    "#for 2 A<B o`sish tartibida sonlar \n",
    "a=int(input(\"A ni kiriting=\"))\n",
    "b=int(input(\"B ni kiriting=\"))\n",
    "c=0\n",
    "for i in range(a,b+1):\n",
    "    print(i,end=\" \")\n",
    "    c=c+1\n",
    "print(\"\\n\",c,\"ta son bor\")\n",
    "    "
   ]
  },
  {
   "cell_type": "code",
   "execution_count": 47,
   "id": "1ccaaf84",
   "metadata": {},
   "outputs": [
    {
     "name": "stdout",
     "output_type": "stream",
     "text": [
      "A ni kiriting=10\n",
      "B ni kiriting=20\n",
      "19 18 17 16 15 14 13 12 11 \n",
      " 9 ta son bor\n"
     ]
    }
   ],
   "source": [
    "# for 3 \n",
    "a=int(input(\"A ni kiriting=\"))\n",
    "b=int(input(\"B ni kiriting=\"))\n",
    "c=0\n",
    "for i in range(b-1,a,-1):\n",
    "    print(i,end=\" \")\n",
    "    c=c+1\n",
    "print(\"\\n\",c,\"ta son bor\")"
   ]
  },
  {
   "cell_type": "code",
   "execution_count": 49,
   "id": "ab1dbf69",
   "metadata": {},
   "outputs": [
    {
     "name": "stdout",
     "output_type": "stream",
     "text": [
      "konfet narhini kiriting=5\n",
      "1 kg konfet 5.0 so`m\n",
      "2 kg konfet 10.0 so`m\n",
      "3 kg konfet 15.0 so`m\n",
      "4 kg konfet 20.0 so`m\n",
      "5 kg konfet 25.0 so`m\n",
      "6 kg konfet 30.0 so`m\n",
      "7 kg konfet 35.0 so`m\n",
      "8 kg konfet 40.0 so`m\n",
      "9 kg konfet 45.0 so`m\n",
      "10 kg konfet 50.0 so`m\n"
     ]
    }
   ],
   "source": [
    "#for 4 konfet\n",
    "a=float(input(\"konfet narhini kiriting=\"))\n",
    "for i in range(1,11):\n",
    "    print(i,\"kg konfet\",i*a,\"so`m\")"
   ]
  },
  {
   "cell_type": "code",
   "execution_count": 53,
   "id": "a2660ecc",
   "metadata": {},
   "outputs": [
    {
     "name": "stdout",
     "output_type": "stream",
     "text": [
      "konfet narhini kiriting=2\n",
      "0.1 kg konfet 0.2 so`m\n",
      "0.2 kg konfet 0.4 so`m\n",
      "0.3 kg konfet 0.6 so`m\n",
      "0.4 kg konfet 0.8 so`m\n",
      "0.5 kg konfet 1.0 so`m\n",
      "0.6 kg konfet 1.2 so`m\n",
      "0.7 kg konfet 1.4 so`m\n",
      "0.8 kg konfet 1.6 so`m\n",
      "0.9 kg konfet 1.8 so`m\n"
     ]
    }
   ],
   "source": [
    "#for 5 \n",
    "a=float(input(\"konfet narhini kiriting=\"))\n",
    "for i in range(1,10):\n",
    "    print(i/10,\"kg konfet\",i/10*a,\"so`m\")"
   ]
  },
  {
   "cell_type": "code",
   "execution_count": 54,
   "id": "d8078e3d",
   "metadata": {},
   "outputs": [
    {
     "name": "stdout",
     "output_type": "stream",
     "text": [
      "konfet narhini kiriting=2\n",
      "1.2 kg konfet 2.4 so`m\n",
      "1.4 kg konfet 2.8 so`m\n",
      "1.6 kg konfet 3.2 so`m\n",
      "1.8 kg konfet 3.6 so`m\n",
      "2.0 kg konfet 4.0 so`m\n"
     ]
    }
   ],
   "source": [
    "#for 6\n",
    "a=float(input(\"konfet narhini kiriting=\"))\n",
    "for i in range(2,11,2):\n",
    "    print(i/10+1,\"kg konfet\",round((i/10+1)*a,1),\"so`m\")\n"
   ]
  },
  {
   "cell_type": "code",
   "execution_count": 32,
   "id": "f9058875",
   "metadata": {},
   "outputs": [
    {
     "name": "stdout",
     "output_type": "stream",
     "text": [
      "A ni kiriting=3\n",
      "B ni kiriting=6\n",
      "18\n"
     ]
    }
   ],
   "source": [
    "#for 7 yigindisi\n",
    "a=int(input(\"A ni kiriting=\"))\n",
    "b=int(input(\"B ni kiriting=\"))\n",
    "c=0\n",
    "for i in range(a,b+1):\n",
    "    c=c+i      \n",
    "print(c)"
   ]
  },
  {
   "cell_type": "code",
   "execution_count": 33,
   "id": "a8dad98b",
   "metadata": {},
   "outputs": [
    {
     "name": "stdout",
     "output_type": "stream",
     "text": [
      "A ni kiriting=3\n",
      "B ni kiriting=6\n",
      "360\n"
     ]
    }
   ],
   "source": [
    "#for 8 ko`paytmasi\n",
    "a=int(input(\"A ni kiriting=\"))\n",
    "b=int(input(\"B ni kiriting=\"))\n",
    "c=1\n",
    "for i in range(a,b+1):\n",
    "    c=c*i\n",
    "print(c)"
   ]
  },
  {
   "cell_type": "code",
   "execution_count": 55,
   "id": "405f4857",
   "metadata": {},
   "outputs": [
    {
     "name": "stdout",
     "output_type": "stream",
     "text": [
      "A ni kiriting=2\n",
      "B ni kiriting=6\n",
      "90\n"
     ]
    }
   ],
   "source": [
    "#for 9 butun sonlar kvadrati\n",
    "a=int(input(\"A ni kiriting=\"))\n",
    "b=int(input(\"B ni kiriting=\"))\n",
    "c=0\n",
    "for i in range(a,b+1):\n",
    "    c=c+i**2\n",
    "print(c)"
   ]
  },
  {
   "cell_type": "code",
   "execution_count": 89,
   "id": "c45f89c0",
   "metadata": {},
   "outputs": [
    {
     "name": "stdout",
     "output_type": "stream",
     "text": [
      "n ni kiriting=6\n",
      "2.4499999999999997\n"
     ]
    }
   ],
   "source": [
    "#for 10  s=1+1/2+1/3+...+1/n\n",
    "n=int(input(\"n ni kiriting=\"))\n",
    "s=1\n",
    "for i in range(2,n+1):\n",
    "    s+=1/i\n",
    "print(s)\n",
    "\n"
   ]
  },
  {
   "cell_type": "code",
   "execution_count": 66,
   "id": "1a12767b",
   "metadata": {},
   "outputs": [
    {
     "name": "stdout",
     "output_type": "stream",
     "text": [
      "n ni kiriting=5\n",
      "355\n"
     ]
    }
   ],
   "source": [
    "#for 11\n",
    "n=int(input(\"n ni kiriting=\"))\n",
    "s=0\n",
    "for i in range(n+1):\n",
    "    s+=(n+i)**2\n",
    "print(s)"
   ]
  },
  {
   "cell_type": "code",
   "execution_count": 88,
   "id": "e4e52717",
   "metadata": {},
   "outputs": [
    {
     "name": "stdout",
     "output_type": "stream",
     "text": [
      "n ni kiriting=5\n",
      "3.6036\n"
     ]
    }
   ],
   "source": [
    "#for 12  s=1.1*1.2*1.3*...\n",
    "n=int(input(\"n ni kiriting=\"))\n",
    "s=1\n",
    "for i in range(1,n+1):\n",
    "    s*=(i/10+1)\n",
    "print(s)"
   ]
  },
  {
   "cell_type": "code",
   "execution_count": 76,
   "id": "054ccdd4",
   "metadata": {},
   "outputs": [
    {
     "name": "stdout",
     "output_type": "stream",
     "text": [
      "n ni kiriting=5\n",
      "1.3\n"
     ]
    }
   ],
   "source": [
    "#for 13   s=1.1-1.2+1.3-\n",
    "n=int(input(\"n ni kiriting=\"))\n",
    "s=0\n",
    "for i in range(1,n+1):\n",
    "    s+=(-1)**(i+1)*(i/10+1)\n",
    "print(round(s,1))   "
   ]
  },
  {
   "cell_type": "code",
   "execution_count": 87,
   "id": "22e35927",
   "metadata": {},
   "outputs": [
    {
     "name": "stdout",
     "output_type": "stream",
     "text": [
      "n ni kiriting=10\n",
      "1 4 9 16 25 36 49 64 81 100 "
     ]
    }
   ],
   "source": [
    "#for 14  1+3+5+7+9+11\n",
    "n=int(input(\"n ni kiriting=\"))\n",
    "s=0\n",
    "for i in range(1,2*n,2):\n",
    "    s+=i\n",
    "    print(s,end=\" \")"
   ]
  },
  {
   "cell_type": "code",
   "execution_count": 85,
   "id": "42919ea9",
   "metadata": {},
   "outputs": [
    {
     "name": "stdout",
     "output_type": "stream",
     "text": [
      "a ni kiriting=3\n",
      "n ni kiriting=3\n",
      "27.0\n"
     ]
    }
   ],
   "source": [
    "#for 15 a**n\n",
    "a=float(input(\"a ni kiriting=\"))\n",
    "n=int(input(\"n ni kiriting=\"))\n",
    "s=1\n",
    "for i in range(n):\n",
    "    s*=a\n",
    "print(s)"
   ]
  },
  {
   "cell_type": "code",
   "execution_count": 86,
   "id": "7a789a28",
   "metadata": {},
   "outputs": [
    {
     "name": "stdout",
     "output_type": "stream",
     "text": [
      "a ni kiriting=10\n",
      "n ni kiriting=5\n",
      "10.0 100.0 1000.0 10000.0 100000.0 "
     ]
    }
   ],
   "source": [
    "#for 16 \n",
    "a=float(input(\"a ni kiriting=\"))\n",
    "n=int(input(\"n ni kiriting=\"))\n",
    "s=1\n",
    "for i in range(n):\n",
    "    s*=a\n",
    "    print(s,end=\" \")"
   ]
  },
  {
   "cell_type": "code",
   "execution_count": 96,
   "id": "e54a59f3",
   "metadata": {},
   "outputs": [
    {
     "name": "stdout",
     "output_type": "stream",
     "text": [
      "a ni kiriting=10\n",
      "n ni kiriting=10\n",
      "10.0 100.0 1000.0 10000.0 100000.0 1000000.0 10000000.0 100000000.0 1000000000.0 10000000000.0 \n",
      " yigindisi= 11111111110.0\n"
     ]
    }
   ],
   "source": [
    "#for 17\n",
    "a=float(input(\"a ni kiriting=\"))\n",
    "n=int(input(\"n ni kiriting=\"))\n",
    "s=1;r=0\n",
    "for i in range(n):\n",
    "    s*=a\n",
    "    r=r+s\n",
    "    print(s,end=\" \")\n",
    "print(\"\\n\",\"yigindisi=\",r)"
   ]
  },
  {
   "cell_type": "code",
   "execution_count": 98,
   "id": "6cfdd242",
   "metadata": {},
   "outputs": [
    {
     "name": "stdout",
     "output_type": "stream",
     "text": [
      "a ni kiriting=2\n",
      "n ni kiriting=5\n",
      "-20.0\n"
     ]
    }
   ],
   "source": [
    "#for 18   1-a+a**2-a**3+...(-1)**n*a**n\n",
    "a=float(input(\"a ni kiriting=\"))\n",
    "n=int(input(\"n ni kiriting=\"))\n",
    "s=1\n",
    "for i in range(n+1):\n",
    "    s+=(-1)**i*a**i\n",
    "print(s)"
   ]
  },
  {
   "cell_type": "code",
   "execution_count": 101,
   "id": "494b876f",
   "metadata": {},
   "outputs": [
    {
     "name": "stdout",
     "output_type": "stream",
     "text": [
      "n ni kiriting=10\n",
      "3628800\n"
     ]
    }
   ],
   "source": [
    "#for 19 n faktorial\n",
    "n=int(input(\"n ni kiriting=\"))\n",
    "s=1\n",
    "for i in range(1,n+1):\n",
    "    s*=i\n",
    "print(s)"
   ]
  },
  {
   "cell_type": "code",
   "execution_count": 6,
   "id": "1b108d47",
   "metadata": {},
   "outputs": [
    {
     "name": "stdout",
     "output_type": "stream",
     "text": [
      "n ni kiriting=6\n",
      "873  "
     ]
    }
   ],
   "source": [
    "#for 20 1!+2!+3!+..+n!\n",
    "n=int(input(\"n ni kiriting=\"))\n",
    "s=1;k=0\n",
    "for i in range(1,n+1):\n",
    "    s*=i\n",
    "    k+=s\n",
    "print(k,end=\"  \")    "
   ]
  },
  {
   "cell_type": "code",
   "execution_count": 13,
   "id": "138d43d5",
   "metadata": {},
   "outputs": [
    {
     "name": "stdout",
     "output_type": "stream",
     "text": [
      "n ni kiriting=5\n",
      "2.7166666666666663\n"
     ]
    }
   ],
   "source": [
    "#for 21 1+1/(1!)+1/(2!)+1/(3!)+...+1/(n!)\n",
    "n=int(input(\"n ni kiriting=\"))\n",
    "s=1;k=1\n",
    "for i in range(1,n+1):\n",
    "    s*=i\n",
    "    k+=1/s\n",
    "print(k)"
   ]
  },
  {
   "cell_type": "code",
   "execution_count": 20,
   "id": "98d79923",
   "metadata": {},
   "outputs": [
    {
     "name": "stdout",
     "output_type": "stream",
     "text": [
      "n ni kiriting=6\n",
      "x ni kiriting=2\n",
      "7.355555555555555\n"
     ]
    }
   ],
   "source": [
    "#for 22 1+x+x**2/(2!)+x**3/(3!)+...+x**n/(n!)\n",
    "n=int(input(\"n ni kiriting=\"))\n",
    "x=float(input(\"x ni kiriting=\"))\n",
    "s=1;k=1;r=1\n",
    "for i in range(1,n+1):\n",
    "    s*=i\n",
    "    k*=x\n",
    "    r+=k/s\n",
    "print(r)\n",
    "    "
   ]
  },
  {
   "cell_type": "code",
   "execution_count": 12,
   "id": "f95f712a",
   "metadata": {},
   "outputs": [
    {
     "data": {
      "text/plain": [
       "2.7166666666666663"
      ]
     },
     "execution_count": 12,
     "metadata": {},
     "output_type": "execute_result"
    }
   ],
   "source": [
    "1+1+0.5+1/6+1/24+1/120"
   ]
  },
  {
   "cell_type": "code",
   "execution_count": 19,
   "id": "2056c2d1",
   "metadata": {},
   "outputs": [
    {
     "data": {
      "text/plain": [
       "7.355555555555555"
      ]
     },
     "execution_count": 19,
     "metadata": {},
     "output_type": "execute_result"
    }
   ],
   "source": [
    "1+2+4/2+8/6+16/24+32/120+64/720"
   ]
  },
  {
   "cell_type": "code",
   "execution_count": 1,
   "id": "8743c1f0",
   "metadata": {},
   "outputs": [
    {
     "name": "stdout",
     "output_type": "stream",
     "text": [
      "n ni kiriting=3000\n",
      "x ni kiriting=10\n",
      "-0.5440211108893498\n"
     ]
    }
   ],
   "source": [
    "# for 23 x-x**3/(3!)+x**5/(5!)-...+(-1)**n*x**(2*n+1)/((2*n+1)!)\n",
    "n=int(input(\"n ni kiriting=\"))\n",
    "x=float(input(\"x ni kiriting=\"))\n",
    "s=x;p=x;r=0\n",
    "for i in range(1,n+1):\n",
    "    r+=2\n",
    "    s*=(-1)*x*x/(r*(r+1))\n",
    "    p+=s\n",
    "print(p)"
   ]
  },
  {
   "cell_type": "code",
   "execution_count": 6,
   "id": "be5b9975",
   "metadata": {},
   "outputs": [
    {
     "data": {
      "text/plain": [
       "-0.41587301587301595"
      ]
     },
     "execution_count": 6,
     "metadata": {},
     "output_type": "execute_result"
    }
   ],
   "source": [
    "1-(2**2)/(2)+(2**4)/(2*3*4)-(2**6)/(2*3*4*5*6)+(2**8)/(2*3*4*5*6*7*8)"
   ]
  },
  {
   "cell_type": "code",
   "execution_count": 1,
   "id": "513584ec",
   "metadata": {},
   "outputs": [
    {
     "name": "stdout",
     "output_type": "stream",
     "text": [
      "n ni kiriting=6\n",
      "x ni kiriting=2\n",
      "-0.4161466517022073\n"
     ]
    }
   ],
   "source": [
    "# for 24 \n",
    "n=int(input(\"n ni kiriting=\"))\n",
    "x=float(input(\"x ni kiriting=\"))\n",
    "s=1;p=1;r=0\n",
    "for i in range(1,n+1):\n",
    "    r+=2\n",
    "    s*=(-1)*x*x/(r*(r-1))\n",
    "    p+=s\n",
    "print(p)"
   ]
  },
  {
   "cell_type": "code",
   "execution_count": 4,
   "id": "16364cd3",
   "metadata": {},
   "outputs": [
    {
     "name": "stdout",
     "output_type": "stream",
     "text": [
      "n ni kiriting=6\n",
      "x ni kiriting=0.5\n",
      "-0.25 2\n",
      "0.125 3\n",
      "-0.0625 4\n",
      "0.03125 5\n",
      "-0.015625 6\n",
      "0.4046875\n"
     ]
    }
   ],
   "source": [
    "# for 25 n>0 abs(x<1)\n",
    "# x-x**2/2+x**3/3-...(-1)**n-1*x**n/n\n",
    "n=int(input(\"n ni kiriting=\"))\n",
    "x=float(input(\"x ni kiriting=\"))\n",
    "s=x;p=x\n",
    "for i in range(2,n+1):\n",
    "    s*=(-1)*x\n",
    "    p+=s/i\n",
    "print(p)"
   ]
  },
  {
   "cell_type": "code",
   "execution_count": 5,
   "id": "9da87b8d",
   "metadata": {},
   "outputs": [
    {
     "name": "stdout",
     "output_type": "stream",
     "text": [
      "n ni kiriting=4\n",
      "x ni kiriting=2\n",
      "44.336507936507935\n"
     ]
    }
   ],
   "source": [
    "# for 26 \n",
    "n=int(input(\"n ni kiriting=\"))\n",
    "x=float(input(\"x ni kiriting=\"))\n",
    "r=0; s=x; p=x\n",
    "for i in range(1,n+1):\n",
    "    r+=2\n",
    "    s*=(-1)*x*x   \n",
    "    p+=s/(r+1)\n",
    "print(p)"
   ]
  },
  {
   "cell_type": "code",
   "execution_count": 2,
   "id": "e75bce0a",
   "metadata": {},
   "outputs": [
    {
     "name": "stdout",
     "output_type": "stream",
     "text": [
      "n ni kiriting=5\n",
      "x ni kiriting=2\n",
      "72.82135642135643\n"
     ]
    }
   ],
   "source": [
    "# for 27 2+1*(2**3)/(2*3)+1*3*(2**5)/(2*4*5)+1*3*5*(2**7)/(2*4*6*7)+1*3*5*7*(2**9)/(2*4*6*8*9)\n",
    "n=int(input(\"n ni kiriting=\"))\n",
    "x=float(input(\"x ni kiriting=\"))\n",
    "r=-1; s=x; p=x\n",
    "for i in range(1,n+1):\n",
    "    r+=2;\n",
    "    s*=r*x*x/(2*i)\n",
    "    a=s/(2*i+1)    \n",
    "    p+=a\n",
    "print(p)"
   ]
  },
  {
   "cell_type": "code",
   "execution_count": 1,
   "id": "ef3b024a",
   "metadata": {},
   "outputs": [
    {
     "name": "stdout",
     "output_type": "stream",
     "text": [
      "n ni kiriting=5\n",
      "x ni kiriting=2\n",
      "2.25\n"
     ]
    }
   ],
   "source": [
    "# for 28 \n",
    "n=int(input(\"n ni kiriting=\"))\n",
    "x=float(input(\"x ni kiriting=\"))\n",
    "r=1; s=1; p=1;a=1\n",
    "for i in range(1,n+1):\n",
    "    r*=(2*i-3)\n",
    "    s*=(2*i)\n",
    "    a*=(-1)*x\n",
    "    p+=r*a/s\n",
    "print(p)"
   ]
  },
  {
   "cell_type": "code",
   "execution_count": 3,
   "id": "e6d43f7c",
   "metadata": {},
   "outputs": [
    {
     "name": "stdout",
     "output_type": "stream",
     "text": [
      "n ni kiriting=5\n",
      "x ni kiriting=2\n",
      "3840\n"
     ]
    }
   ],
   "source": [
    "# for 28 \n",
    "n=int(input(\"n ni kiriting=\"))\n",
    "x=float(input(\"x ni kiriting=\"))\n",
    "r=1; s=1; p=1;a=1\n",
    "for i in range(1,n+1):\n",
    "    r*=(2*i-3)\n",
    "    p*=(2*i)\n",
    "    a*=(-1)*x\n",
    "    s+=r*a/p\n",
    "print(p)"
   ]
  },
  {
   "cell_type": "code",
   "execution_count": 8,
   "id": "d19763db",
   "metadata": {},
   "outputs": [
    {
     "name": "stdout",
     "output_type": "stream",
     "text": [
      "A ni kiriting=2\n",
      "B ni kiriting=12\n",
      "n ni kiriting=5\n",
      "4.0\n",
      "6.0\n",
      "8.0\n",
      "10.0\n",
      "12.0\n"
     ]
    }
   ],
   "source": [
    "# for 29\n",
    "a=float(input(\"A ni kiriting=\"))\n",
    "b=float(input(\"B ni kiriting=\"))\n",
    "n=int(input(\"n ni kiriting=\"))\n",
    "c=(b-a)/n\n",
    "for i in range(n):\n",
    "    a+=c\n",
    "    print(a)"
   ]
  },
  {
   "cell_type": "code",
   "execution_count": 9,
   "id": "19d42c5c",
   "metadata": {},
   "outputs": [
    {
     "name": "stdout",
     "output_type": "stream",
     "text": [
      "A ni kiriting=2\n",
      "B ni kiriting=12\n",
      "n ni kiriting=5\n",
      "1.7568024953079282\n",
      "1.2794154981989259\n",
      "0.010641753376618213\n",
      "1.5440211108893698\n",
      "1.5365729180004348\n"
     ]
    }
   ],
   "source": [
    "# for 30 \n",
    "import math\n",
    "a=float(input(\"A ni kiriting=\"))\n",
    "b=float(input(\"B ni kiriting=\"))\n",
    "n=int(input(\"n ni kiriting=\"))\n",
    "c=(b-a)/n\n",
    "for i in range(n):\n",
    "    a+=c\n",
    "    print(1-math.sin(a))"
   ]
  },
  {
   "cell_type": "code",
   "execution_count": 2,
   "id": "3fce3227",
   "metadata": {},
   "outputs": [
    {
     "name": "stdout",
     "output_type": "stream",
     "text": [
      "n ni kiriting=5\n",
      "2.5\n",
      "2.4\n",
      "2.4166666666666665\n",
      "2.413793103448276\n",
      "2.414285714285714\n"
     ]
    }
   ],
   "source": [
    "# for 31\n",
    "n=int(input(\"n ni kiriting=\"))\n",
    "a=2\n",
    "for i in range(n):\n",
    "    a=2+1/a\n",
    "    print(a)"
   ]
  },
  {
   "cell_type": "code",
   "execution_count": 12,
   "id": "c687a1c6",
   "metadata": {},
   "outputs": [
    {
     "name": "stdout",
     "output_type": "stream",
     "text": [
      "n ni kiriting=10\n",
      "2.0\n",
      "1.5\n",
      "0.8333333333333334\n",
      "0.45833333333333337\n",
      "0.2916666666666667\n",
      "0.2152777777777778\n",
      "0.1736111111111111\n",
      "0.1467013888888889\n",
      "0.12741126543209877\n",
      "0.11274112654320986\n"
     ]
    }
   ],
   "source": [
    "# for 32\n",
    "n=int(input(\"n ni kiriting=\"))\n",
    "a=1\n",
    "for i in range(1,n+1):\n",
    "    a=(a+1)/i\n",
    "    print(a)"
   ]
  },
  {
   "cell_type": "code",
   "execution_count": 32,
   "id": "d3fed883",
   "metadata": {},
   "outputs": [
    {
     "name": "stdout",
     "output_type": "stream",
     "text": [
      "n ni kiriting=5\n",
      "2\n",
      "3\n",
      "5\n"
     ]
    }
   ],
   "source": [
    "#for 33 fibonachi\n",
    "n=int(input(\"n ni kiriting=\"))\n",
    "f1=1; f2=1\n",
    "for i in range(3,n+1):\n",
    "    s=f1+f2\n",
    "    print(s)\n",
    "    f1=f2\n",
    "    f2=s   "
   ]
  },
  {
   "cell_type": "code",
   "execution_count": 18,
   "id": "c4604854",
   "metadata": {},
   "outputs": [
    {
     "name": "stdout",
     "output_type": "stream",
     "text": [
      "n ni kiriting=4\n",
      "1.6666666666666667\n",
      "1.777777777777778\n"
     ]
    }
   ],
   "source": [
    "# for 34\n",
    "n=int(input(\"n ni kiriting=\"))\n",
    "a1=1; a2=2\n",
    "for i in range(3,n+1):\n",
    "    s=(a1+a2*2)/3\n",
    "    print(s)\n",
    "    a1=a2\n",
    "    a2=s"
   ]
  },
  {
   "cell_type": "code",
   "execution_count": 20,
   "id": "6965ea18",
   "metadata": {},
   "outputs": [
    {
     "name": "stdout",
     "output_type": "stream",
     "text": [
      "n ni kiriting=10\n",
      "3\n",
      "2\n",
      "-1\n",
      "-5\n",
      "-10\n",
      "-13\n",
      "-13\n"
     ]
    }
   ],
   "source": [
    "# for 35\n",
    "n=int(input(\"n ni kiriting=\"))\n",
    "a1=1; a2=2; a3=3\n",
    "for i in range(4,n+1):\n",
    "    s=a3+a2-2*a1\n",
    "    print(s)\n",
    "    a1=a2\n",
    "    a2=a3\n",
    "    a3=s"
   ]
  },
  {
   "cell_type": "code",
   "execution_count": 29,
   "id": "b0da4a58",
   "metadata": {},
   "outputs": [
    {
     "name": "stdout",
     "output_type": "stream",
     "text": [
      "N ni kiriting=100\n",
      "K ni kiriting=100\n",
      "157211406637054876047170714793672086843814311171382380612596108831201947669658622317126645748904454905428999917816240712232510830329707275257029895123985909786290997404450073406292199564392363955731330\n"
     ]
    }
   ],
   "source": [
    "# for 36\n",
    "n=int(input(\"N ni kiriting=\"))\n",
    "k=int(input(\"K ni kiriting=\"))\n",
    "s=0\n",
    "for i in range(1,n+1):\n",
    "    p=1;\n",
    "    for j in range(k):\n",
    "        p*=i\n",
    "    s+=p\n",
    "print(s)\n",
    "        "
   ]
  },
  {
   "cell_type": "code",
   "execution_count": 35,
   "id": "a19f52ee",
   "metadata": {},
   "outputs": [
    {
     "name": "stdout",
     "output_type": "stream",
     "text": [
      "N ni kiriting=4\n",
      "288\n"
     ]
    }
   ],
   "source": [
    "# for 37\n",
    "n=int(input(\"N ni kiriting=\"))\n",
    "s=0\n",
    "for i in range(1,n+1):\n",
    "    p=1;\n",
    "    for j in range(i):\n",
    "        p*=i\n",
    "    s+=p\n",
    "print(s)\n"
   ]
  },
  {
   "cell_type": "code",
   "execution_count": 48,
   "id": "aed1cdf0",
   "metadata": {},
   "outputs": [
    {
     "name": "stdout",
     "output_type": "stream",
     "text": [
      "N ni kiriting=6\n",
      "209\n"
     ]
    }
   ],
   "source": [
    "# for 38\n",
    "n=int(input(\"N ni kiriting=\"))\n",
    "s=0;k=0\n",
    "for i in range(n,0,-1):\n",
    "    p=1;k=k+1\n",
    "    \n",
    "    for j in range(1,i+1):\n",
    "        p*=k\n",
    "    s+=p\n",
    "print(s)"
   ]
  },
  {
   "cell_type": "code",
   "execution_count": 50,
   "id": "3c09ade5",
   "metadata": {},
   "outputs": [
    {
     "name": "stdout",
     "output_type": "stream",
     "text": [
      "A =1\n",
      "B =5\n",
      "1 2 2 3 3 3 4 4 4 4 5 5 5 5 5 "
     ]
    }
   ],
   "source": [
    "# for 39\n",
    "a=int(input(\"A =\"))\n",
    "b=int(input(\"B =\"))\n",
    "for i in range(a,b+1):\n",
    "    for j in range(1,i+1):\n",
    "        print(i,end=\" \")\n"
   ]
  },
  {
   "cell_type": "code",
   "execution_count": 53,
   "id": "b99d38ba",
   "metadata": {},
   "outputs": [
    {
     "name": "stdout",
     "output_type": "stream",
     "text": [
      "A =1\n",
      "B =5\n",
      "1 2 2 3 3 3 4 4 4 4 5 5 5 5 5 "
     ]
    }
   ],
   "source": [
    "# for 40\n",
    "a=int(input(\"A =\"))\n",
    "b=int(input(\"B =\"))\n",
    "k=0\n",
    "for i in range(a,b+1):\n",
    "    k=k+1\n",
    "    for j in range(k):\n",
    "        print(i,end=\" \")"
   ]
  },
  {
   "cell_type": "code",
   "execution_count": null,
   "id": "645a154f",
   "metadata": {},
   "outputs": [],
   "source": [
    "n=int(input(\"N =\"))\n",
    "for i in range (2*n):\n",
    "    s=(2*n+i)**2\n",
    "    r=r+s\n",
    "print(r)\n",
    "    "
   ]
  },
  {
   "cell_type": "code",
   "execution_count": null,
   "id": "18b9a947",
   "metadata": {},
   "outputs": [],
   "source": [
    "n=int(input(\"n=\"))\n",
    "for i in range(n):\n",
    "    for j in range(i,n-i):\n",
    "        print(i)"
   ]
  },
  {
   "cell_type": "code",
   "execution_count": null,
   "id": "567af68f",
   "metadata": {},
   "outputs": [],
   "source": [
    "n=int(input(\"n=\"))\n",
    "k=int(input(\"k=\"))\n",
    "s=0\n",
    "for i in range(1,n+1):\n",
    "    s+=i/(k**5)\n",
    "print(s)"
   ]
  },
  {
   "cell_type": "code",
   "execution_count": null,
   "id": "deccf44a",
   "metadata": {},
   "outputs": [],
   "source": [
    "x=int(input(\"x=\"))\n",
    "n=int(input(\"n=\"))\n",
    "s=0; p=1\n",
    "for i in range(1,n+1):\n",
    "    p*=i\n",
    "    s+=1/p+x**(1/2)\n",
    "print(s)"
   ]
  },
  {
   "cell_type": "code",
   "execution_count": 6,
   "id": "08de6488",
   "metadata": {},
   "outputs": [
    {
     "name": "stdout",
     "output_type": "stream",
     "text": [
      "n=6\n",
      "1\n",
      "2\n",
      "3\n",
      "6\n"
     ]
    }
   ],
   "source": [
    "#bo`luvchilari yig`indisi\n",
    "n=int(input(\"n=\"))\n",
    "s=0\n",
    "for i in range(1,n+1):\n",
    "    if n%i==0:\n",
    "        s=s+i\n",
    "print(s)"
   ]
  },
  {
   "cell_type": "code",
   "execution_count": 8,
   "id": "3a7f3da9",
   "metadata": {},
   "outputs": [
    {
     "name": "stdout",
     "output_type": "stream",
     "text": [
      "n=6\n",
      "mukammal\n"
     ]
    }
   ],
   "source": [
    "#mukammallikka tekshirish\n",
    "n=int(input(\"n=\"))\n",
    "s=0\n",
    "for i in range(1,n):\n",
    "    if n%i==0:\n",
    "        s=s+i\n",
    "if s==n:\n",
    "    print(\"mukammal\")\n",
    "else:\n",
    "    print(\"mukammal emas\")"
   ]
  },
  {
   "cell_type": "code",
   "execution_count": 12,
   "id": "a390202b",
   "metadata": {},
   "outputs": [
    {
     "name": "stdout",
     "output_type": "stream",
     "text": [
      "n=29\n",
      "6\n",
      "28\n"
     ]
    }
   ],
   "source": [
    "# 1 dan n gacha mukammal son chiqarish\n",
    "n=int(input(\"n=\"))\n",
    "s=0\n",
    "for j in range(1,n):\n",
    "    s=0\n",
    "    for i in range(1,j):\n",
    "        if j%i==0:\n",
    "            s=s+i\n",
    "    if s==j:\n",
    "        print(j)\n",
    "    "
   ]
  },
  {
   "cell_type": "code",
   "execution_count": 10,
   "id": "b2d5ed69",
   "metadata": {},
   "outputs": [
    {
     "name": "stdout",
     "output_type": "stream",
     "text": [
      "4 -7\n"
     ]
    }
   ],
   "source": [
    "a=-56%5\n",
    "b=56%(-9)\n",
    "print(a,b)"
   ]
  },
  {
   "cell_type": "code",
   "execution_count": 16,
   "id": "40b9e491",
   "metadata": {},
   "outputs": [
    {
     "name": "stdout",
     "output_type": "stream",
     "text": [
      "11.0\n"
     ]
    }
   ],
   "source": [
    "import math\n",
    "a=math.fmod(99,-44)\n",
    "print(a)"
   ]
  },
  {
   "cell_type": "code",
   "execution_count": null,
   "id": "97704f5d",
   "metadata": {},
   "outputs": [],
   "source": []
  }
 ],
 "metadata": {
  "kernelspec": {
   "display_name": "Python 3 (ipykernel)",
   "language": "python",
   "name": "python3"
  },
  "language_info": {
   "codemirror_mode": {
    "name": "ipython",
    "version": 3
   },
   "file_extension": ".py",
   "mimetype": "text/x-python",
   "name": "python",
   "nbconvert_exporter": "python",
   "pygments_lexer": "ipython3",
   "version": "3.8.10"
  }
 },
 "nbformat": 4,
 "nbformat_minor": 5
}
