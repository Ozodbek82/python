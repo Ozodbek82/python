{
 "cells": [
  {
   "cell_type": "code",
   "execution_count": 16,
   "id": "09306b01",
   "metadata": {},
   "outputs": [
    {
     "name": "stdout",
     "output_type": "stream",
     "text": [
      "0.761594155955765\n"
     ]
    }
   ],
   "source": [
    "# qo`shimcha 7 \n",
    "s=103\n",
    "for i in range(101,-1,-2):\n",
    "    s=i+1/s\n",
    "print(1/s)"
   ]
  },
  {
   "cell_type": "code",
   "execution_count": null,
   "id": "07b1459a",
   "metadata": {},
   "outputs": [],
   "source": [
    "# qo`shimcha 7  version-2\n",
    "S = 103\n",
    "b = 101\n",
    "while b>=1:\n",
    "    S = b + 1 / S\n",
    "    b -= 2\n",
    "    \n",
    "print(1/S)"
   ]
  },
  {
   "cell_type": "code",
   "execution_count": 16,
   "id": "0a42cc21",
   "metadata": {},
   "outputs": [
    {
     "name": "stdout",
     "output_type": "stream",
     "text": [
      "x=10\n",
      "0.09998001198642725\n"
     ]
    }
   ],
   "source": [
    "# qo`shimcha 8\n",
    "x=int(input(\"x=\"))\n",
    "i=256\n",
    "s=x*x\n",
    "while i>=2:\n",
    "    s=x*x+i/s\n",
    "    i=i//2\n",
    "print(x/s)"
   ]
  },
  {
   "cell_type": "code",
   "execution_count": 15,
   "id": "9c64a9a7",
   "metadata": {},
   "outputs": [
    {
     "name": "stdout",
     "output_type": "stream",
     "text": [
      "x = 10\n",
      "0.09998001198642725\n"
     ]
    }
   ],
   "source": [
    "# qo`shimcha 8   version-2\n",
    "x = int(input(\"x = \"))\n",
    "S = x**2\n",
    "a = 256\n",
    "while a>=2:\n",
    "    S = x**2 + a / S\n",
    "    a //= 2\n",
    "    \n",
    "print(x/S)"
   ]
  },
  {
   "cell_type": "code",
   "execution_count": 8,
   "id": "5ed63fd3",
   "metadata": {},
   "outputs": [
    {
     "name": "stdout",
     "output_type": "stream",
     "text": [
      "n=4\n",
      "a=45\n",
      "b=80\n",
      "b=95\n",
      "b=10\n",
      "5\n"
     ]
    }
   ],
   "source": [
    "# n ta sonni EKUBini toping (eng katta umumiy bo`luvchi) version-1\n",
    "n=int(input(\"n=\"))\n",
    "a=int(input(\"a=\"))\n",
    "i=1\n",
    "while i<n:\n",
    "    b=int(input(\"b=\"))\n",
    "    while a!=b:\n",
    "        if a>b:\n",
    "            a%=b\n",
    "        else:\n",
    "            b%=a\n",
    "        if a==0:\n",
    "            a=b\n",
    "        if b==0:\n",
    "            b=a\n",
    "    i+=1\n",
    "print(a)"
   ]
  },
  {
   "cell_type": "code",
   "execution_count": 14,
   "id": "52ee4f93",
   "metadata": {},
   "outputs": [
    {
     "name": "stdout",
     "output_type": "stream",
     "text": [
      "n=3\n",
      "a=18\n",
      "b=27\n",
      "b=33\n",
      "3\n"
     ]
    }
   ],
   "source": [
    "# n ta sonni EKUBini toping (eng katta umumiy bo`luvchi) version-2\n",
    "n=int(input(\"n=\"))\n",
    "a=int(input(\"a=\"))\n",
    "i=1\n",
    "while i<n:\n",
    "    b=int(input(\"b=\"))\n",
    "    while a!=0 and b!=0:\n",
    "        if a>b:\n",
    "            a%=b\n",
    "        else:\n",
    "            b%=a\n",
    "    a+=b\n",
    "    i+=1\n",
    "print(a)"
   ]
  },
  {
   "cell_type": "code",
   "execution_count": 20,
   "id": "075bfecd",
   "metadata": {},
   "outputs": [
    {
     "name": "stdout",
     "output_type": "stream",
     "text": [
      "a=9\n",
      "b=15\n",
      "45\n"
     ]
    }
   ],
   "source": [
    "# 2 ta sonni EKUKini toping (eng kichik umumiy karrali) optimalmasi\n",
    "a=int(input(\"a=\"))\n",
    "b=int(input(\"b=\"))\n",
    "for i in range(1,a*b+1):\n",
    "    if i%a==0 and i%b==0:\n",
    "        break\n",
    "print(i)"
   ]
  },
  {
   "cell_type": "code",
   "execution_count": 31,
   "id": "7fcb4eab",
   "metadata": {},
   "outputs": [
    {
     "name": "stdout",
     "output_type": "stream",
     "text": [
      "n=5\n",
      "b=25\n",
      "b=18\n",
      "b=16\n",
      "b=27\n",
      "b=14\n",
      "75600\n"
     ]
    }
   ],
   "source": [
    "# n ta sonni EKUKini toping (eng kichik umumiy karrali)\n",
    "n=int(input(\"n=\"))\n",
    "a=1;i=1\n",
    "while i<n+1:\n",
    "    b=int(input(\"b=\"))\n",
    "    m=a*b\n",
    "    while a!=0 and b!=0:\n",
    "        if a>b:\n",
    "            a%=b\n",
    "        else:\n",
    "            b%=a\n",
    "    a+=b\n",
    "    a=m//a\n",
    "    i+=1\n",
    "print(a)"
   ]
  },
  {
   "cell_type": "code",
   "execution_count": null,
   "id": "0ac84dd6",
   "metadata": {},
   "outputs": [],
   "source": [
    "def lcm(a, b):\n",
    "    m = a * b\n",
    "    while a != 0 and b != 0:\n",
    "        if a > b:\n",
    "            a %= b\n",
    "        else:\n",
    "            b %= a\n",
    "    print(m // (a + b))"
   ]
  },
  {
   "cell_type": "code",
   "execution_count": 7,
   "id": "374516fd",
   "metadata": {},
   "outputs": [
    {
     "name": "stdout",
     "output_type": "stream",
     "text": [
      "n=6\n",
      "sonni kiriting=45\n",
      "sonni kiriting=56\n",
      "sonni kiriting=89\n",
      "sonni kiriting=11\n",
      "sonni kiriting=47\n",
      "sonni kiriting=10\n",
      "maxi= 89 mini= 10\n"
     ]
    }
   ],
   "source": [
    "# n ta sonlar toplamidan eng katta va eng kichik sonni topuvchi\n",
    "# minmax - 1\n",
    "n=int(input(\"n=\"))\n",
    "for i in range(1,n+1):\n",
    "    a=int(input(\"sonni kiriting=\"))\n",
    "    if i==1 or a>maxi :\n",
    "        maxi=a\n",
    "    if i==1 or a<mini :\n",
    "        mini=a\n",
    "print(\"maxi=\",maxi,\"mini=\",mini)"
   ]
  },
  {
   "cell_type": "code",
   "execution_count": 2,
   "id": "f490e3e5",
   "metadata": {},
   "outputs": [
    {
     "name": "stdout",
     "output_type": "stream",
     "text": [
      "n=4\n",
      "1-tomonini kiriting=2\n",
      "2-tomonini kiriting=3\n",
      "1-tomonini kiriting=5\n",
      "2-tomonini kiriting=6\n",
      "1-tomonini kiriting=8\n",
      "2-tomonini kiriting=9\n",
      "1-tomonini kiriting=7\n",
      "2-tomonini kiriting=8\n",
      "mini= 6\n"
     ]
    }
   ],
   "source": [
    "#minmax-2 to`rtburchaklarning eng kichik yuzaligini toping\n",
    "n=int(input(\"n=\"))\n",
    "for i in range(1,n+1):\n",
    "    a=int(input(\"1-tomonini kiriting=\"))\n",
    "    b=int(input(\"2-tomonini kiriting=\"))\n",
    "    if i==1:\n",
    "        mini=a*b\n",
    "    if a*b<mini :\n",
    "        mini=a*b\n",
    "print(\"mini=\",mini)"
   ]
  },
  {
   "cell_type": "code",
   "execution_count": null,
   "id": "8a644a85",
   "metadata": {},
   "outputs": [],
   "source": [
    "#minmax-2 (while bilan) to`rtburchaklarning eng kichik yuzaligini toping\n",
    "n = int(input(\"n = \"))\n",
    "i=1\n",
    "x = True\n",
    "while n>=i:\n",
    "    a = int(input(\"a = \"))\n",
    "    b = int(input(\"b = \"))\n",
    "    S = a * b\n",
    "    if x:\n",
    "        mini = S\n",
    "        x = False\n",
    "    \n",
    "    if mini > S:\n",
    "        mini = S\n",
    "    i += 1\n",
    "print(mini)"
   ]
  },
  {
   "cell_type": "code",
   "execution_count": 53,
   "id": "cc098216",
   "metadata": {},
   "outputs": [
    {
     "name": "stdout",
     "output_type": "stream",
     "text": [
      "n=5\n",
      "1-tomonini kiriting=5\n",
      "2-tomonini kiriting=6\n",
      "1-tomonini kiriting=7\n",
      "2-tomonini kiriting=5\n",
      "1-tomonini kiriting=5\n",
      "2-tomonini kiriting=8\n",
      "1-tomonini kiriting=4\n",
      "2-tomonini kiriting=5\n",
      "1-tomonini kiriting=5\n",
      "2-tomonini kiriting=3\n",
      "maxi= 26\n"
     ]
    }
   ],
   "source": [
    "# minmax-3 eng katta perimetrli to`rtburchakni toping\n",
    "once=True\n",
    "n=int(input(\"n=\"))\n",
    "for i in range(1,n+1):\n",
    "    a=int(input(\"1-tomonini kiriting=\"))\n",
    "    b=int(input(\"2-tomonini kiriting=\"))\n",
    "    if once:\n",
    "        maxi=2*(a+b)\n",
    "        once=False\n",
    "    if 2*(a+b)>maxi:\n",
    "        maxi=2*(a+b)\n",
    "print(\"maxi=\",maxi)"
   ]
  },
  {
   "cell_type": "code",
   "execution_count": 4,
   "id": "45a25a6b",
   "metadata": {},
   "outputs": [
    {
     "name": "stdout",
     "output_type": "stream",
     "text": [
      "n=4\n",
      "sonni kiriting=9\n",
      "sonni kiriting=6\n",
      "sonni kiriting=1\n",
      "sonni kiriting=5\n",
      "mini= 3\n"
     ]
    }
   ],
   "source": [
    "# minmax-4 eng kichik sonni tartib nomerini\n",
    "n=int(input(\"n=\"))\n",
    "for i in range(1,n+1):\n",
    "    a=int(input(\"sonni kiriting=\"))\n",
    "    if i==1 or a<mini_num:\n",
    "        mini_num=a\n",
    "        mini=i\n",
    "print(\"mini=\",mini)"
   ]
  },
  {
   "cell_type": "code",
   "execution_count": 5,
   "id": "0964a0a6",
   "metadata": {},
   "outputs": [
    {
     "name": "stdout",
     "output_type": "stream",
     "text": [
      "n=4\n",
      "m=8\n",
      "v=6\n",
      "m=89\n",
      "v=10\n",
      "m=122\n",
      "v=6\n",
      "m=124\n",
      "v=7\n",
      "maxi= 20.333333333333332\n"
     ]
    }
   ],
   "source": [
    "# minmax-5 eng katta zichlikni\n",
    "n=int(input(\"n=\"))\n",
    "for i in range(1,n+1):\n",
    "    m=int(input(\"m=\"))\n",
    "    v=int(input(\"v=\"))\n",
    "    if i==1 or (m/v)>maxi :\n",
    "        maxi=m/v\n",
    "print(\"maxi=\",maxi)"
   ]
  },
  {
   "cell_type": "code",
   "execution_count": 7,
   "id": "4eece137",
   "metadata": {},
   "outputs": [
    {
     "name": "stdout",
     "output_type": "stream",
     "text": [
      "n=6\n",
      "sonni kiriting=9\n",
      "sonni kiriting=12\n",
      "sonni kiriting=56\n",
      "sonni kiriting=9\n",
      "sonni kiriting=56\n",
      "sonni kiriting=55\n",
      "maxi= 5 mini= 1\n"
     ]
    }
   ],
   "source": [
    "# minmax-6 birinchi uchragan eng kichik va oxirgi eng katta elementni t/r\n",
    "# minmax-6\n",
    "n=int(input(\"n=\"))\n",
    "for i in range(1,n+1):\n",
    "    a=int(input(\"sonni kiriting=\"))\n",
    "    if i==1 or a>=max_num:\n",
    "        max_num=a\n",
    "        maxi=i\n",
    "    if i==1 or a<min_num:\n",
    "        min_num=a\n",
    "        mini=i\n",
    "print(\"maxi=\",maxi,\"mini=\",mini)"
   ]
  },
  {
   "cell_type": "code",
   "execution_count": 18,
   "id": "c4031642",
   "metadata": {},
   "outputs": [
    {
     "name": "stdout",
     "output_type": "stream",
     "text": [
      "n=7\n",
      "sonni kiriting=89\n",
      "sonni kiriting=100\n",
      "sonni kiriting=50\n",
      "sonni kiriting=89\n",
      "sonni kiriting=49\n",
      "sonni kiriting=55\n",
      "sonni kiriting=50\n",
      "maxi= 2 mini= 5\n"
     ]
    }
   ],
   "source": [
    "# minmax-7 birinchi uchragan eng katta va oxirgi eng kichik elementni t/r\n",
    "n=int(input(\"n=\"))\n",
    "for i in range(1,n+1):\n",
    "    a=int(input(\"sonni kiriting=\"))\n",
    "    if i==1 or a>max_num :\n",
    "        max_num=a\n",
    "        maxi=i\n",
    "    if  i==1 or a<=min_num:\n",
    "        min_num=a\n",
    "        mini=i\n",
    "print(\"maxi=\",maxi,\"mini=\",mini)"
   ]
  },
  {
   "cell_type": "code",
   "execution_count": null,
   "id": "ee0a8010",
   "metadata": {},
   "outputs": [],
   "source": [
    "# minmax-7 (while da) birinchi uchragan eng katta va oxirgi eng kichik elementni t/r\n",
    "n = int(input(\"n = \"))\n",
    "i=1\n",
    "x = True\n",
    "while n>=i:\n",
    "    a = int(input(\"a = \"))\n",
    "    if x:\n",
    "        mini = a\n",
    "        maxi = a\n",
    "        k,j = i,i\n",
    "        x = False\n",
    "        \n",
    "    if a>maxi:\n",
    "        maxi = a\n",
    "        k = i\n",
    "        \n",
    "    if a<=mini:\n",
    "        mini = a\n",
    "        j = i\n",
    "    \n",
    "    i += 1\n",
    "print(k,j)"
   ]
  },
  {
   "cell_type": "code",
   "execution_count": 20,
   "id": "537d3977",
   "metadata": {},
   "outputs": [
    {
     "name": "stdout",
     "output_type": "stream",
     "text": [
      "n=10\n",
      "sonni kiriting=27\n",
      "sonni kiriting=80\n",
      "sonni kiriting=30\n",
      "sonni kiriting=41\n",
      "sonni kiriting=10\n",
      "sonni kiriting=10\n",
      "sonni kiriting=8\n",
      "sonni kiriting=8\n",
      "sonni kiriting=8\n",
      "sonni kiriting=10\n",
      "mini_1= 7   mini_last= 9\n"
     ]
    }
   ],
   "source": [
    "# minmax-8 birinchi va oxirgi uchragan eng  kichik elementni t/r\n",
    "n=int(input(\"n=\"))\n",
    "for i in range(1,n+1):\n",
    "    a=int(input(\"sonni kiriting=\"))\n",
    "    if i==1 or a<=min_num :       \n",
    "        min_num=a\n",
    "        mini=i\n",
    "    if i==1 or a<min_num1:\n",
    "        min_num1=a\n",
    "        mini1=i\n",
    "print(\"mini_1=\",mini1,\"  mini_last=\",mini)"
   ]
  },
  {
   "cell_type": "code",
   "execution_count": 19,
   "id": "735b05ce",
   "metadata": {},
   "outputs": [
    {
     "name": "stdout",
     "output_type": "stream",
     "text": [
      "n=10\n",
      "sonni kiriting=27\n",
      "sonni kiriting=28\n",
      "sonni kiriting=28\n",
      "sonni kiriting=28\n",
      "sonni kiriting=10\n",
      "sonni kiriting=28\n",
      "sonni kiriting=28\n",
      "sonni kiriting=20\n",
      "sonni kiriting=20\n",
      "sonni kiriting=10\n",
      "mini_1= 5   mini_last= 10\n"
     ]
    }
   ],
   "source": [
    "# minmax-8 (optimal) birinchi va oxirgi uchragan eng  kichik elementni t/r\n",
    "n=int(input(\"n=\"))\n",
    "for i in range(1,n+1):\n",
    "    a=int(input(\"sonni kiriting=\"))\n",
    "    if i==1 or a<min_num :       \n",
    "        min_num=a\n",
    "        mini1=i\n",
    "    if a==min_num:\n",
    "        min_num=a\n",
    "        mini=i\n",
    "print(\"mini_1=\",mini1,\"  mini_last=\",mini)"
   ]
  },
  {
   "cell_type": "code",
   "execution_count": null,
   "id": "ce369da9",
   "metadata": {},
   "outputs": [],
   "source": [
    "# minmax-8 (while bilan) birinchi va oxirgi uchragan eng  kichik elementni t/r\n",
    "n = int(input(\"n = \"))\n",
    "i = 1\n",
    "x = True\n",
    "while i<=n:\n",
    "    a = int(input(\"a = \"))\n",
    "    if x:\n",
    "        mini = a\n",
    "        k,j = i,i\n",
    "        x = False\n",
    "    \n",
    "    if mini > a:\n",
    "        mini = a\n",
    "        k = i\n",
    "    \n",
    "    if mini == a:\n",
    "        j = i\n",
    "    i+=1    \n",
    "print(mini,'mini element', k, 'birinchi tartib raqami', j,'oxirgi tartib raqam')\n"
   ]
  },
  {
   "cell_type": "code",
   "execution_count": 20,
   "id": "412c3652",
   "metadata": {},
   "outputs": [
    {
     "name": "stdout",
     "output_type": "stream",
     "text": [
      "n=10\n",
      "sonni kiriting=27\n",
      "sonni kiriting=28\n",
      "sonni kiriting=28\n",
      "sonni kiriting=28\n",
      "sonni kiriting=10\n",
      "sonni kiriting=28\n",
      "sonni kiriting=28\n",
      "sonni kiriting=20\n",
      "sonni kiriting=20\n",
      "sonni kiriting=10\n",
      "maxi_1= 2   maxi_last= 7\n"
     ]
    }
   ],
   "source": [
    "# minmax-9 birinchi va oxirgi uchragan eng  katta elementni t/r\n",
    "n=int(input(\"n=\"))\n",
    "for i in range(1,n+1):\n",
    "    a=int(input(\"sonni kiriting=\"))    \n",
    "    if i==1 or a>max_num:\n",
    "        max_num=a\n",
    "        maxi1=i\n",
    "    if a==max_num:       \n",
    "        max_num=a\n",
    "        maxi=i\n",
    "print(\"maxi_1=\",maxi1,\"  maxi_last=\",maxi)"
   ]
  },
  {
   "cell_type": "code",
   "execution_count": 9,
   "id": "df568e87",
   "metadata": {},
   "outputs": [
    {
     "name": "stdout",
     "output_type": "stream",
     "text": [
      "n=6\n",
      "sonni kiriting=89\n",
      "sonni kiriting=2\n",
      "sonni kiriting=56\n",
      "sonni kiriting=23\n",
      "sonni kiriting=90\n",
      "sonni kiriting=88\n",
      "extremal 2\n"
     ]
    }
   ],
   "source": [
    "# minmax-10 birinchi uchragan ekstremal son\n",
    "n=int(input(\"n=\"))\n",
    "for i in range(1,n+1):\n",
    "    a=int(input(\"sonni kiriting=\"))\n",
    "    if i==1 or a>max_num:\n",
    "        max_num=a\n",
    "        maxi=i\n",
    "    if i==1 or a<min_num:\n",
    "        min_num=a\n",
    "        mini=i\n",
    "if maxi>=mini:\n",
    "    ext=mini\n",
    "else:\n",
    "    ext=maxi\n",
    "print(\"extremal\",ext)"
   ]
  },
  {
   "cell_type": "code",
   "execution_count": null,
   "id": "0bfc933c",
   "metadata": {},
   "outputs": [],
   "source": [
    "# minmax-10 (while bilan) birinchi uchragan ekstremal son\n",
    "n = int(input(\"n = \"))\n",
    "i = 1\n",
    "x = True\n",
    "while i<=n:\n",
    "    a = int(input(\"a = \"))\n",
    "    if x:\n",
    "        mini = a\n",
    "        maxi = a\n",
    "        k,j = i,i\n",
    "        x = False\n",
    "    if maxi<a:\n",
    "        maxi = a\n",
    "        k = i\n",
    "    if mini>a:\n",
    "        mini = a\n",
    "        j = i\n",
    "    i+=1    \n",
    "    \n",
    "if k>j:\n",
    "    print(j)\n",
    "else:\n",
    "    print(k)"
   ]
  },
  {
   "cell_type": "code",
   "execution_count": 52,
   "id": "a9c812fa",
   "metadata": {},
   "outputs": [
    {
     "name": "stdout",
     "output_type": "stream",
     "text": [
      "n=6\n",
      "sonni kiriting=89\n",
      "sonni kiriting=99\n",
      "sonni kiriting=12\n",
      "sonni kiriting=100\n",
      "sonni kiriting=3\n",
      "sonni kiriting=2\n",
      "extremal 6\n"
     ]
    }
   ],
   "source": [
    "# minmax-11 oxirgi uchragan ekstremal son\n",
    "n=int(input(\"n=\"))\n",
    "for i in range(1,n+1):\n",
    "    a=int(input(\"sonni kiriting=\"))\n",
    "    if  i==1 or a>=max_num:\n",
    "        max_num=a\n",
    "        maxi=i\n",
    "    if i==1 or a<=min_num:\n",
    "        min_num=a\n",
    "        mini=i\n",
    "if maxi>=mini:\n",
    "    ext=maxi\n",
    "else:\n",
    "    ext=mini\n",
    "print(\"extremal\",ext)"
   ]
  },
  {
   "cell_type": "code",
   "execution_count": 11,
   "id": "4ed16e8e",
   "metadata": {},
   "outputs": [
    {
     "name": "stdout",
     "output_type": "stream",
     "text": [
      "n=6\n",
      "sonni kiriting=-9\n",
      "sonni kiriting=9\n",
      "sonni kiriting=3\n",
      "sonni kiriting=1\n",
      "sonni kiriting=8\n",
      "sonni kiriting=78\n",
      "musbat 1\n"
     ]
    }
   ],
   "source": [
    "# minmax-12 eng kichik musbat sonni \n",
    "n=int(input(\"n=\"))\n",
    "b=True\n",
    "for i in range(1,n+1):\n",
    "    a=int(input(\"sonni kiriting=\"))\n",
    "    if a>0:\n",
    "        if b:\n",
    "            pos=a\n",
    "            b=False\n",
    "        if a<pos:\n",
    "            pos=a\n",
    "    else:\n",
    "        pos=0\n",
    "print(\"eng kichik musbat son\",pos)"
   ]
  },
  {
   "cell_type": "code",
   "execution_count": null,
   "id": "514973ad",
   "metadata": {},
   "outputs": [],
   "source": [
    "# minmax-12 eng kichik musbat sonni (while bilan)\n",
    "n = int(input(\"n = \"))\n",
    "i = 1\n",
    "x = True\n",
    "while i<=n:\n",
    "    a = int(input(\"a = \"))\n",
    "    if a>0 and x:\n",
    "        mini = a\n",
    "        x = False\n",
    "        \n",
    "    if a>0 and mini>a:\n",
    "        mini = a\n",
    "        \n",
    "    i += 1\n",
    "if x:\n",
    "    print(\"Musbat son yo'q\")\n",
    "else:\n",
    "    print(mini)"
   ]
  },
  {
   "cell_type": "code",
   "execution_count": 12,
   "id": "18173c9e",
   "metadata": {},
   "outputs": [
    {
     "name": "stdout",
     "output_type": "stream",
     "text": [
      "n=6\n",
      "sonni kiriting=8\n",
      "sonni kiriting=4\n",
      "sonni kiriting=6\n",
      "sonni kiriting=7\n",
      "birinchi toq son 7\n"
     ]
    }
   ],
   "source": [
    "# minmax-13-1 birinchi uchragan toq son \n",
    "n=int(input(\"n=\"))\n",
    "for i in range(1,n+1):\n",
    "    a=int(input(\"sonni kiriting=\"))\n",
    "    if a%2==1:\n",
    "        odd=a\n",
    "        break\n",
    "    else:\n",
    "        odd=0\n",
    "print(\"birinchi toq son\",odd)"
   ]
  },
  {
   "cell_type": "code",
   "execution_count": 15,
   "id": "06a1a1c6",
   "metadata": {},
   "outputs": [
    {
     "name": "stdout",
     "output_type": "stream",
     "text": [
      "n=6\n",
      "sonni kiriting=6\n",
      "sonni kiriting=8\n",
      "sonni kiriting=4\n",
      "sonni kiriting=22\n",
      "sonni kiriting=8\n",
      "sonni kiriting=66\n",
      "birinchi toq son 0\n"
     ]
    }
   ],
   "source": [
    "# minmax-13-2 birinchi uchragan toq son (breaksiz)\n",
    "n=int(input(\"n=\"))\n",
    "b=True\n",
    "for i in range(1,n+1):\n",
    "    a=int(input(\"sonni kiriting=\"))   \n",
    "    if a%2==1 and b:\n",
    "        odd=a\n",
    "        b=False\n",
    "    elif a%2!=1:\n",
    "        odd=0\n",
    "print(\"birinchi toq son\",odd)"
   ]
  },
  {
   "cell_type": "code",
   "execution_count": 20,
   "id": "d1961380",
   "metadata": {},
   "outputs": [
    {
     "name": "stdout",
     "output_type": "stream",
     "text": [
      "B=98989\n",
      "sonni kiriting=12\n",
      "sonni kiriting=23\n",
      "sonni kiriting=45\n",
      "sonni kiriting=56\n",
      "sonni kiriting=78\n",
      "sonni kiriting=89\n",
      "sonni kiriting=123\n",
      "sonni kiriting=456\n",
      "sonni kiriting=789\n",
      "sonni kiriting=159\n",
      " 00\n"
     ]
    }
   ],
   "source": [
    "# minmax-14  B sonidan katta bo`lgan eng kichik elementni t/r, son topilmasa 00chiqarilsin\n",
    "b=int(input(\"B=\"))\n",
    "c=True; a=\"B dan katta eng kichik element\"\n",
    "for i in range(1,11):\n",
    "    a=int(input(\"sonni kiriting=\"))   \n",
    "    if b<a:\n",
    "        if c:\n",
    "            max_num=a\n",
    "            c=False\n",
    "        if max_num>a:\n",
    "            max_num=a\n",
    "if c:\n",
    "    max_num=\"00\"\n",
    "    a=\"\"\n",
    "print(a,max_num)"
   ]
  },
  {
   "cell_type": "code",
   "execution_count": 30,
   "id": "869ecb5d",
   "metadata": {},
   "outputs": [
    {
     "name": "stdout",
     "output_type": "stream",
     "text": [
      "B sonini kiriting=40\n",
      "C sonini kiriting=50\n",
      "sonni kiriting=100\n",
      "sonni kiriting=47\n",
      "sonni kiriting=49\n",
      "sonni kiriting=59\n",
      "sonni kiriting=45\n",
      "sonni kiriting=56\n",
      "sonni kiriting=48\n",
      "sonni kiriting=41\n",
      "sonni kiriting=10\n",
      "sonni kiriting=123\n",
      "(B,C) oraliqdagi eng katta elementni t/r 3\n"
     ]
    }
   ],
   "source": [
    "# minmax-15 (B,C) oraliqdagieng katta element t/r\n",
    "d=True; a=\"(B,C) oraliqdagi eng katta elementni t/r\"\n",
    "b=int(input(\"B sonini kiriting=\"))\n",
    "while b<0:\n",
    "    b=int(input(\"B sonini qayta kiriting (B>0)=\"))\n",
    "c=int(input(\"C sonini kiriting=\"))\n",
    "while b>=c:\n",
    "    c=int(input(\"C sonini qayta kiriting (C>B)=\"))    \n",
    "for i in range(1,11):\n",
    "    num=int(input(\"sonni kiriting=\"))\n",
    "    if b<num<c:\n",
    "        if d:\n",
    "            max_num=num\n",
    "            maxi=i\n",
    "            d=False\n",
    "        if max_num<num:\n",
    "            max_num=num\n",
    "            maxi=i\n",
    "if d:\n",
    "    maxi=\"00\"\n",
    "    a=\"\"\n",
    "print(a,maxi)"
   ]
  },
  {
   "cell_type": "code",
   "execution_count": null,
   "id": "a520161a",
   "metadata": {},
   "outputs": [],
   "source": [
    "# minmax-15 (B,C) oraliqdagieng katta element t/r (while bilan)\n",
    "B = int(input(\"B = \"))\n",
    "C = int(input(\"C = \"))\n",
    "n = int(input(\"n = \"))\n",
    "i = 1\n",
    "x = True\n",
    "\n",
    "while i<=n:\n",
    "    a = int(input(\"a = \"))\n",
    "    if x and B<a<C:\n",
    "        maxi = a\n",
    "        x = False\n",
    "        \n",
    "    if maxi<a and B<a<C:\n",
    "        maxi = a\n",
    "        \n",
    "    i += 1\n",
    "\n",
    "if x:\n",
    "    print(\"00\")\n",
    "else:\n",
    "    print(maxi)"
   ]
  },
  {
   "cell_type": "code",
   "execution_count": 51,
   "id": "4f4b13a2",
   "metadata": {},
   "outputs": [
    {
     "name": "stdout",
     "output_type": "stream",
     "text": [
      "n=6\n",
      "sonni kiriting=6\n",
      "sonni kiriting=5\n",
      "sonni kiriting=4\n",
      "sonni kiriting=3\n",
      "sonni kiriting=8\n",
      "sonni kiriting=9\n",
      "3\n"
     ]
    }
   ],
   "source": [
    "# minmax-16  birinchi uchragan eng kichik elementgacha bo`lgan elem soni\n",
    "n=int(input(\"n=\"))\n",
    "for i in range(1,n+1):    \n",
    "    a=int(input(\"sonni kiriting=\"))\n",
    "    if i==1 or min_num>a:\n",
    "        min_num=a\n",
    "        mini=i\n",
    "print(mini-1)"
   ]
  },
  {
   "cell_type": "code",
   "execution_count": 39,
   "id": "5d342962",
   "metadata": {},
   "outputs": [
    {
     "name": "stdout",
     "output_type": "stream",
     "text": [
      "n=6\n",
      "sonni kiriting=45\n",
      "sonni kiriting=45\n",
      "sonni kiriting=45\n",
      "sonni kiriting=45\n",
      "sonni kiriting=45\n",
      "sonni kiriting=45\n",
      "0\n"
     ]
    }
   ],
   "source": [
    "# minmax-17 oxirgi uchragan eng katta elementdan keyin turganelementlar sonini\n",
    "n=int(input(\"n=\"))\n",
    "for i in range(1,n+1):    \n",
    "    a=int(input(\"sonni kiriting=\"))\n",
    "    if i==1 or max_num<=a:\n",
    "        max_num=a\n",
    "        maxi=i\n",
    "print(n-maxi)"
   ]
  },
  {
   "cell_type": "code",
   "execution_count": null,
   "id": "de581921",
   "metadata": {},
   "outputs": [],
   "source": [
    "# minmax-17 (while bilan) oxirgi uchragan eng katta elementdan keyin turganelementlar sonini\n",
    "N = int(input(\"N = \"))\n",
    "i = 1\n",
    "x = True\n",
    "while i<=N:\n",
    "    a = int(input(\"a = \"))\n",
    "    if x:\n",
    "        maxi = a\n",
    "        k = i\n",
    "        x = False\n",
    "    if maxi<=a:\n",
    "        maxi = a\n",
    "        k = i\n",
    "    i += 1  \n",
    "\n",
    "print(N - k)"
   ]
  },
  {
   "cell_type": "code",
   "execution_count": 21,
   "id": "b0c125e0",
   "metadata": {},
   "outputs": [
    {
     "name": "stdout",
     "output_type": "stream",
     "text": [
      "n=10\n",
      "sonni kiriting=27\n",
      "sonni kiriting=28\n",
      "sonni kiriting=28\n",
      "sonni kiriting=28\n",
      "sonni kiriting=10\n",
      "sonni kiriting=28\n",
      "sonni kiriting=28\n",
      "sonni kiriting=20\n",
      "sonni kiriting=20\n",
      "sonni kiriting=10\n",
      "4\n"
     ]
    }
   ],
   "source": [
    "# minmax-18 birinchi va oxirgi eng katta elementlar orasidagi elem soni\n",
    "n=int(input(\"n=\"))\n",
    "for i in range(1,n+1):\n",
    "    a=int(input(\"sonni kiriting=\"))\n",
    "    if i==1 or a>max_num:\n",
    "        max_num=a\n",
    "        maxi=i\n",
    "    if a==max_num:\n",
    "        max_num=a\n",
    "        maxi1=i\n",
    "if maxi==maxi1:\n",
    "    print(0)\n",
    "else:\n",
    "    print(maxi1-maxi-1)\n",
    "        "
   ]
  },
  {
   "cell_type": "code",
   "execution_count": 26,
   "id": "2db253d8",
   "metadata": {},
   "outputs": [
    {
     "name": "stdout",
     "output_type": "stream",
     "text": [
      "n=10\n",
      "sonni kiriting=27\n",
      "sonni kiriting=28\n",
      "sonni kiriting=28\n",
      "sonni kiriting=28\n",
      "sonni kiriting=10\n",
      "sonni kiriting=28\n",
      "sonni kiriting=28\n",
      "sonni kiriting=20\n",
      "sonni kiriting=20\n",
      "sonni kiriting=10\n",
      "2\n"
     ]
    }
   ],
   "source": [
    "# minmax-19 to`plamdagi eng kichik elementlar soni\n",
    "# minmax-19\n",
    "n=int(input(\"n=\"))\n",
    "for i in range(1,n+1):\n",
    "    a=int(input(\"sonni kiriting=\"))\n",
    "    if i==1 or a<min_num:\n",
    "        r=0\n",
    "        min_num=a\n",
    "    if a==min_num:\n",
    "        r+=1\n",
    "print(r)"
   ]
  },
  {
   "cell_type": "code",
   "execution_count": 4,
   "id": "a625b82f",
   "metadata": {},
   "outputs": [
    {
     "name": "stdout",
     "output_type": "stream",
     "text": [
      "n=9\n",
      "sonni kiriting=2\n",
      "sonni kiriting=89\n",
      "sonni kiriting=10\n",
      "sonni kiriting=100\n",
      "sonni kiriting=3\n",
      "sonni kiriting=4\n",
      "sonni kiriting=50\n",
      "sonni kiriting=100\n",
      "sonni kiriting=2\n",
      "2\n"
     ]
    }
   ],
   "source": [
    "# minmax-19-2   public version\n",
    "N = int(input(\"n = \"))\n",
    "x = True\n",
    "for i in range(N):\n",
    "    \n",
    "    a = int(input(\"a = \"))\n",
    "    \n",
    "    if x:\n",
    "        mini = a\n",
    "        S = 0\n",
    "        x = False\n",
    "        \n",
    "    if mini>a:\n",
    "        mini = a\n",
    "        S = 1\n",
    "    elif mini==a:\n",
    "        S += 1\n",
    "        \n",
    "print(S)    "
   ]
  },
  {
   "cell_type": "code",
   "execution_count": 7,
   "id": "a97aa0f0",
   "metadata": {},
   "outputs": [
    {
     "name": "stdout",
     "output_type": "stream",
     "text": [
      "n=10\n",
      "sonni kiriting=27\n",
      "sonni kiriting=28\n",
      "sonni kiriting=28\n",
      "sonni kiriting=28\n",
      "sonni kiriting=80\n",
      "sonni kiriting=28\n",
      "sonni kiriting=28\n",
      "sonni kiriting=20\n",
      "sonni kiriting=20\n",
      "sonni kiriting=80\n",
      "4\n"
     ]
    }
   ],
   "source": [
    "# minmax-20 to`plamdagi extremal sonlar miqdori\n",
    "n=int(input(\"n=\"))\n",
    "for i in range(1,n+1):\n",
    "    a=int(input(\"sonni kiriting=\"))\n",
    "    if i==1 or a<min_num:\n",
    "        x=0\n",
    "        min_num=a\n",
    "    if a==min_num:\n",
    "        x+=1\n",
    "    if i==1 or a>max_num:\n",
    "        e=0\n",
    "        max_num=a\n",
    "    if a==max_num:\n",
    "        e+=1\n",
    "if min_num==max_num:\n",
    "    print(e)\n",
    "else:\n",
    "    print(e+x)"
   ]
  },
  {
   "cell_type": "code",
   "execution_count": null,
   "id": "e83b7958",
   "metadata": {},
   "outputs": [],
   "source": [
    "# Minmax20 -2 public version\n",
    "\n",
    "N = int(input(\"n = \"))\n",
    "x = True\n",
    "for i in range(N):\n",
    "    \n",
    "    a = int(input(\"a = \"))\n",
    "    \n",
    "    if x:\n",
    "        mini = a\n",
    "        maxi = a\n",
    "        S = 0\n",
    "        S1 = 0\n",
    "        x = False\n",
    "    \n",
    "    if maxi<a:\n",
    "        maxi = a\n",
    "        S1 = 1\n",
    "    elif maxi==a:\n",
    "        S1 += 1\n",
    "        \n",
    "    if mini>a:\n",
    "        mini = a\n",
    "        S = 1\n",
    "    elif mini==a:\n",
    "        S += 1\n",
    "\n",
    "if mini==maxi:\n",
    "    print(S)\n",
    "else:\n",
    "    print(S+S1)"
   ]
  },
  {
   "cell_type": "code",
   "execution_count": 13,
   "id": "d46957eb",
   "metadata": {},
   "outputs": [
    {
     "name": "stdout",
     "output_type": "stream",
     "text": [
      "n=10\n",
      "sonni kiriting=27\n",
      "sonni kiriting=28\n",
      "sonni kiriting=28\n",
      "sonni kiriting=28\n",
      "sonni kiriting=80\n",
      "sonni kiriting=28\n",
      "sonni kiriting=28\n",
      "sonni kiriting=20\n",
      "sonni kiriting=20\n",
      "sonni kiriting=80\n",
      "27.833333333333332\n"
     ]
    }
   ],
   "source": [
    "# minmax-21 to`plamning o`rtacha qiymati, max min qo`shilmasin\n",
    "n=int(input(\"n=\"))\n",
    "s=0\n",
    "for i in range(1,n+1):\n",
    "    a=int(input(\"sonni kiriting=\"))\n",
    "    s+=a\n",
    "    if i==1 or a<min_num:\n",
    "        x=0\n",
    "        min_num=a\n",
    "    if a==min_num:\n",
    "        x+=1\n",
    "    if i==1 or a>max_num:\n",
    "        e=0\n",
    "        max_num=a\n",
    "    if a==max_num:\n",
    "        e+=1\n",
    "    \n",
    "if max_num==min_num:\n",
    "    print(min_num)\n",
    "else:\n",
    "    s=s-min_num*x-max_num*e\n",
    "    print(s/(n-x-e))"
   ]
  },
  {
   "cell_type": "code",
   "execution_count": 15,
   "id": "06098ce4",
   "metadata": {},
   "outputs": [
    {
     "data": {
      "text/plain": [
       "27.833333333333332"
      ]
     },
     "execution_count": 15,
     "metadata": {},
     "output_type": "execute_result"
    }
   ],
   "source": [
    "\n",
    "(27+28+28+28+80+28+28+20+20+80-2*80-2*20)/6"
   ]
  },
  {
   "cell_type": "code",
   "execution_count": 4,
   "id": "4a6909d7",
   "metadata": {},
   "outputs": [
    {
     "name": "stdout",
     "output_type": "stream",
     "text": [
      "n (n<2)=3\n",
      "sonni kiriting=9\n",
      "sonni kiriting=6\n",
      "sonni kiriting=10\n",
      "6 9\n"
     ]
    }
   ],
   "source": [
    "# minmax-22 to`plamning eng kichik ikkita qiymatini aniqlovchi\n",
    "n=int(input(\"n (n<2)=\"))\n",
    "c=True\n",
    "for i in range(1,n+1):\n",
    "    a=int(input(\"sonni kiriting=\"))\n",
    "    if c:\n",
    "        son1=a\n",
    "        son2=a\n",
    "        c=False\n",
    "    if a<son2 and a!=son1:\n",
    "        if a<son1:\n",
    "            son2=son1\n",
    "            son1=a\n",
    "        else:\n",
    "            son2=a\n",
    "    if son1==son2:\n",
    "        son2=a\n",
    "print(son1,son2)    "
   ]
  },
  {
   "cell_type": "code",
   "execution_count": 13,
   "id": "6e3aa6c7",
   "metadata": {},
   "outputs": [
    {
     "name": "stdout",
     "output_type": "stream",
     "text": [
      "n (n<2)=7\n",
      "sonni kiriting=89\n",
      "89 89 89\n",
      "sonni kiriting=100\n",
      "100 89 100\n",
      "sonni kiriting=50\n",
      "100 89 50\n",
      "sonni kiriting=89\n",
      "100 89 50\n",
      "sonni kiriting=49\n",
      "100 89 50\n",
      "sonni kiriting=55\n",
      "100 89 55\n",
      "sonni kiriting=50\n",
      "100 89 55\n"
     ]
    }
   ],
   "source": [
    "# minmax-23  to`plamdagi 3 ta eng katta sonni\n",
    "n=int(input(\"n (n<2)=\"))\n",
    "c=True\n",
    "for i in range(1,n+1):\n",
    "    a=int(input(\"sonni kiriting=\"))\n",
    "    if c:\n",
    "        son1=a\n",
    "        son2=a\n",
    "        son3=a\n",
    "        c=False\n",
    "    if a>son1 and a!=son2 and a!=son3:\n",
    "        if a>son3>son2:\n",
    "            son1=son2\n",
    "            son2=son3\n",
    "            son3=a\n",
    "        elif son3>a>son2:\n",
    "            son1=son2\n",
    "            son2=a\n",
    "        elif son3>son2>a:\n",
    "            son1=a\n",
    "        else:\n",
    "            son3=a\n",
    "    if son3==son2==son1:\n",
    "        son2=a\n",
    "    if son3==son1 and son2>a:\n",
    "        son1=a\n",
    "    elif son3==son1 and son2<a:\n",
    "        son1=son2\n",
    "        son2=a\n",
    "    elif son2==son1 and son1<a:\n",
    "        son1=a\n",
    "print(son3,son2,son1)"
   ]
  },
  {
   "cell_type": "code",
   "execution_count": 1,
   "id": "40630f9b",
   "metadata": {},
   "outputs": [
    {
     "name": "stdout",
     "output_type": "stream",
     "text": [
      "n (n<3)=5\n",
      "sonni kiriting=10\n",
      "sonni kiriting=10\n",
      "sonni kiriting=10\n",
      "sonni kiriting=10\n",
      "sonni kiriting=10\n",
      "10 10 10\n"
     ]
    }
   ],
   "source": [
    "# minmax-23 version-2 to`plamdagi 3 ta eng katta sonni\n",
    "n=int(input(\"n (n<3)=\"))\n",
    "c=True\n",
    "for i in range(1,n+1):\n",
    "    a=int(input(\"sonni kiriting=\"))\n",
    "    if c:\n",
    "        son1=a\n",
    "        son2=a\n",
    "        son3=a\n",
    "        c=False\n",
    "    if a>son3 and a!=son1 and a!=son2:\n",
    "        if a>son2:\n",
    "            if a>son1:\n",
    "                son3=son2\n",
    "                son2=son1\n",
    "                son1=a\n",
    "            else:\n",
    "                son3=son2\n",
    "                son2=a\n",
    "        else:\n",
    "            son3=a\n",
    "    if son1==son2:\n",
    "        son2=a\n",
    "    if son3==son1 or son3==son2:\n",
    "        son3=a\n",
    "print(son1,son2,son3)"
   ]
  },
  {
   "cell_type": "code",
   "execution_count": null,
   "id": "6276fc9f",
   "metadata": {},
   "outputs": [],
   "source": [
    "# Minmax23 -3   public version  \n",
    "\n",
    "n = int(input(\"n = \"))\n",
    "\n",
    "maxi1 = int(input(\"a = \"))\n",
    "maxi2 = int(input(\"a = \"))\n",
    "maxi3 = int(input(\"a = \"))\n",
    "\n",
    "if maxi1<=maxi2:\n",
    "    maxi1,maxi2 = maxi2,maxi1\n",
    "if maxi1<=maxi3:\n",
    "    maxi1,maxi3 = maxi3,maxi1\n",
    "if maxi2<=maxi3:\n",
    "    maxi2,maxi3 = maxi3,maxi2\n",
    "    \n",
    "for i in range(4,n+1):\n",
    "    a = int(input(\"a = \"))\n",
    "    if a>maxi1:\n",
    "        maxi3 = maxi2\n",
    "        maxi2 = maxi1\n",
    "        maxi1 = a\n",
    "    elif maxi1>=a and a>maxi2:\n",
    "        maxi3 = maxi2\n",
    "        maxi2 = a\n",
    "    elif a<=maxi2 and a>maxi3:\n",
    "        maxi3 = a\n",
    "        \n",
    "print(maxi1,maxi2,maxi3)"
   ]
  },
  {
   "cell_type": "code",
   "execution_count": 26,
   "id": "1281b026",
   "metadata": {},
   "outputs": [
    {
     "name": "stdout",
     "output_type": "stream",
     "text": [
      "n (n<2)=9\n",
      "sonni kiriting=2\n",
      "sonni kiriting=89\n",
      "sonni kiriting=10\n",
      "99\n",
      "sonni kiriting=100\n",
      "110\n",
      "sonni kiriting=3\n",
      "110\n",
      "sonni kiriting=4\n",
      "110\n",
      "sonni kiriting=50\n",
      "110\n",
      "sonni kiriting=100\n",
      "150\n",
      "sonni kiriting=2\n",
      "150\n"
     ]
    }
   ],
   "source": [
    "# minmax-24 ikkita qo`shni son yig`indisining eng katta qiymatini aniqlovchi\n",
    "n=int(input(\"n (n<1)=\"))\n",
    "once=True\n",
    "for i in range(1,n+1):\n",
    "    a=int(input(\"sonni kiriting=\"))\n",
    "    if once:\n",
    "        b=a\n",
    "        once=False\n",
    "        continue\n",
    "    if i==2:\n",
    "        max=a+b\n",
    "        c=a\n",
    "        continue\n",
    "    if a+c>max:\n",
    "        max=a+c\n",
    "    c=a   \n",
    "    print(max)    \n"
   ]
  },
  {
   "cell_type": "code",
   "execution_count": 18,
   "id": "eb428884",
   "metadata": {},
   "outputs": [
    {
     "name": "stdout",
     "output_type": "stream",
     "text": [
      "n=9\n",
      "sonni kiriting=2\n",
      "sonni kiriting=89\n",
      "sonni kiriting=10\n",
      "sonni kiriting=100\n",
      "sonni kiriting=3\n",
      "sonni kiriting=4\n",
      "sonni kiriting=50\n",
      "sonni kiriting=100\n",
      "sonni kiriting=2\n",
      "150.0\n"
     ]
    }
   ],
   "source": [
    "# minmax-24 -2  (optimal) ikkita qo`shni son yig`indisining eng katta qiymatini aniqlovchi\n",
    "r1=0; r2=0; max_sum=0\n",
    "n=int(input(\"n=\"))\n",
    "for i in range(1,n+1):\n",
    "    r2=r1\n",
    "    r1=float(input(\"sonni kiriting=\"))\n",
    "    if i==2:\n",
    "        max_sum=r2+r1\n",
    "    if (r1+r2)>max_sum:\n",
    "        max_sum=r2+r1\n",
    "print(max_sum)"
   ]
  },
  {
   "cell_type": "code",
   "execution_count": 17,
   "id": "85c1fc6d",
   "metadata": {},
   "outputs": [
    {
     "name": "stdout",
     "output_type": "stream",
     "text": [
      "189.0\n"
     ]
    }
   ],
   "source": [
    "print(max_sum)"
   ]
  },
  {
   "cell_type": "code",
   "execution_count": 28,
   "id": "bf4b3ad1",
   "metadata": {},
   "outputs": [
    {
     "name": "stdout",
     "output_type": "stream",
     "text": [
      "n (n<1)=4\n",
      "sonni kiriting=5\n",
      "sonni kiriting=6\n",
      "sonni kiriting=7\n",
      "1 2\n",
      "sonni kiriting=8\n",
      "1 2\n"
     ]
    }
   ],
   "source": [
    "# minmax-25 ko`paytmasi eng kichik bo`ladigan 2ta qo`shni elem indekslari\n",
    "n=int(input(\"n (n<1)=\"))\n",
    "once=True\n",
    "for i in range(1,n+1):\n",
    "    a=int(input(\"sonni kiriting=\"))\n",
    "    if once:\n",
    "        b=a\n",
    "        once=False\n",
    "        continue\n",
    "    if i==2:\n",
    "        minsum=a*b\n",
    "        n1=i-1\n",
    "        n2=i\n",
    "        c=a\n",
    "        continue\n",
    "    if a*c<minsum:\n",
    "        minsum=a*c\n",
    "        n1=i-1\n",
    "        n2=i\n",
    "    c=a   \n",
    "print(n1,n2)    "
   ]
  },
  {
   "cell_type": "code",
   "execution_count": null,
   "id": "91886d91",
   "metadata": {},
   "outputs": [],
   "source": [
    "# Minmax25 -2  public version\n",
    "n = int(input('n = '))\n",
    "\n",
    "x = True\n",
    "\n",
    "son2 = int(input())\n",
    "\n",
    "for i in range(2, n+1):\n",
    "    \n",
    "    son = int(input())\n",
    "    S = son2*son\n",
    "    \n",
    "    if x:\n",
    "        maxi = S\n",
    "        idx = i\n",
    "        x = False\n",
    "    elif S>maxi:\n",
    "        maxi = S\n",
    "        idx = i\n",
    "        \n",
    "    son2 = son\n",
    "print(idx-1, 'va', idx)"
   ]
  },
  {
   "cell_type": "code",
   "execution_count": 34,
   "id": "cf8b88e0",
   "metadata": {},
   "outputs": [
    {
     "name": "stdout",
     "output_type": "stream",
     "text": [
      "n=8\n",
      "sonni kiriting=100\n",
      "1\n",
      "sonni kiriting=98\n",
      "2\n",
      "sonni kiriting=88\n",
      "3\n",
      "sonni kiriting=55\n",
      "3\n",
      "sonni kiriting=22\n",
      "3\n",
      "sonni kiriting=30\n",
      "3\n",
      "sonni kiriting=89\n",
      "3\n",
      "sonni kiriting=90\n",
      "3\n",
      "3\n"
     ]
    }
   ],
   "source": [
    "# minmax-26 ketma-ket keladiganjuft elementlar maksimal sonini aniqlovchi,agar juft son bo`lmasa 0 chiqsin\n",
    "n=int(input(\"n=\"))\n",
    "once=True; j=0\n",
    "for i in range(1,n+1):\n",
    "    a=int(input(\"sonni kiriting=\"))\n",
    "    if a%2==0:\n",
    "        j+=1\n",
    "        if once:\n",
    "            maxi=j\n",
    "            once=False\n",
    "        if j>maxi:\n",
    "            maxi=j\n",
    "    else:\n",
    "        j=0\n",
    "if maxi:\n",
    "    print(maxi)\n",
    "else:\n",
    "    print(0)"
   ]
  },
  {
   "cell_type": "code",
   "execution_count": null,
   "id": "ec8132de",
   "metadata": {},
   "outputs": [],
   "source": [
    "# Minmax26 -2  public version\n",
    "N = int(input(\"N = \"))\n",
    "S=0; maxi_S=0\n",
    "for i in range(1,N+1):\n",
    "    a = int(input(\"a = \"))\n",
    "    \n",
    "    if a%2==0:\n",
    "        S+=1\n",
    "    else:\n",
    "        S = 0\n",
    "        \n",
    "    if maxi_S<S:\n",
    "        maxi_S = S\n",
    "        \n",
    "if maxi_S==0:\n",
    "    print(\"Juft son yo'q\")\n",
    "else:\n",
    "    print(maxi_S)"
   ]
  },
  {
   "cell_type": "code",
   "execution_count": 43,
   "id": "42eb3633",
   "metadata": {},
   "outputs": [
    {
     "name": "stdout",
     "output_type": "stream",
     "text": [
      "n=11\n",
      "sonni kiriting=0\n",
      "0 1\n",
      "sonni kiriting=1\n",
      "2 1\n",
      "sonni kiriting=0\n",
      "2 1\n",
      "sonni kiriting=1\n",
      "2 1\n",
      "sonni kiriting=1\n",
      "4 1\n",
      "sonni kiriting=1\n",
      "4 1\n",
      "sonni kiriting=0\n",
      "4 1\n",
      "sonni kiriting=0\n",
      "4 7\n",
      "sonni kiriting=0\n",
      "4 7\n",
      "sonni kiriting=0\n",
      "4 7\n",
      "sonni kiriting=1\n",
      "4 7\n",
      "7 4\n"
     ]
    }
   ],
   "source": [
    "# minmax-27 bir xil sonlar ketma-ketligi eng uzun bo`ladigan oraliq boshlangan indeksini \n",
    "# va ketma ketlikdagi elementlar sonini chiqarish\n",
    "index=0; index2=0\n",
    "maxi=0; maxi2=0\n",
    "n=int(input(\"n=\"))\n",
    "j=0; k=0\n",
    "for i in range(1,n+1):\n",
    "    a=int(input(\"sonni kiriting=\"))\n",
    "    if a==1:\n",
    "        j+=1\n",
    "        if j>maxi:\n",
    "            index=i-j+1\n",
    "            maxi=j\n",
    "        k=0\n",
    "    else:\n",
    "        k+=1\n",
    "        if k>maxi2:\n",
    "            index2=i-k+1\n",
    "            maxi2=k\n",
    "        j=0        \n",
    "if maxi>maxi2:\n",
    "    print(index,maxi)\n",
    "else:\n",
    "    print(index2,maxi2)"
   ]
  },
  {
   "cell_type": "code",
   "execution_count": 44,
   "id": "8843f38e",
   "metadata": {},
   "outputs": [
    {
     "name": "stdout",
     "output_type": "stream",
     "text": [
      "n=11\n",
      "sonni kiriting=0\n",
      "sonni kiriting=1\n",
      "sonni kiriting=0\n",
      "sonni kiriting=1\n",
      "sonni kiriting=1\n",
      "sonni kiriting=1\n",
      "sonni kiriting=0\n",
      "sonni kiriting=0\n",
      "sonni kiriting=0\n",
      "sonni kiriting=0\n",
      "sonni kiriting=1\n",
      "4 3\n"
     ]
    }
   ],
   "source": [
    "# minmax-28 bir soni ketmaketligi uzun bo`lgan oraliq boshlang`ich indeksini va ular sonini, agar 1 bo`lmasa 0 \n",
    "index=0\n",
    "maxi=0\n",
    "n=int(input(\"n=\"))\n",
    "j=0\n",
    "for i in range(1,n+1):\n",
    "    a=int(input(\"sonni kiriting=\"))\n",
    "    if a==1:\n",
    "        j+=1\n",
    "        if j>maxi:\n",
    "            index=i-j+1\n",
    "            maxi=j\n",
    "    else:\n",
    "        j=0        \n",
    "if maxi:\n",
    "    print(index,maxi)\n",
    "else:\n",
    "    print(0)"
   ]
  },
  {
   "cell_type": "code",
   "execution_count": null,
   "id": "87f7f80e",
   "metadata": {},
   "outputs": [],
   "source": [
    "# Minmax28 -2  public version\n",
    "\n",
    "N = int(input(\"N = \"))\n",
    "\n",
    "S = 0; maxi_S = 0\n",
    "\n",
    "for i in range(1,N+1):\n",
    "    a = int(input(\"a = \"))\n",
    "    \n",
    "    if a==1:\n",
    "        S+=1\n",
    "    else:\n",
    "        S = 0\n",
    "        \n",
    "    if maxi_S<S:\n",
    "        maxi_S = S\n",
    "        k = i\n",
    "if x:\n",
    "    print(\"Bir yo'q\")\n",
    "else:\n",
    "    print(maxi_S, k-maxi_S+1)"
   ]
  },
  {
   "cell_type": "code",
   "execution_count": 2,
   "id": "856bfa2f",
   "metadata": {},
   "outputs": [
    {
     "name": "stdout",
     "output_type": "stream",
     "text": [
      "n=11\n",
      "sonni kiriting=27\n",
      "sonni kiriting=28\n",
      "sonni kiriting=28\n",
      "sonni kiriting=28\n",
      "sonni kiriting=10\n",
      "sonni kiriting=28\n",
      "sonni kiriting=28\n",
      "sonni kiriting=20\n",
      "sonni kiriting=20\n",
      "sonni kiriting=10\n",
      "sonni kiriting=10\n",
      "2\n"
     ]
    }
   ],
   "source": [
    "# minmax-29 ketma ket keladigan eng kichik elementlarning maksimal sonini aniqlovchi prog\n",
    "# minmax -29\n",
    "n=int(input(\"n=\"))\n",
    "for i in range(1,n+1):\n",
    "    a=int(input(\"sonni kiriting=\"))\n",
    "    if i==1 or a<min_num:\n",
    "        min_num=a\n",
    "        num=0\n",
    "        maxi=0\n",
    "    if a==min_num:\n",
    "        num+=1\n",
    "    else:\n",
    "        if num>maxi:\n",
    "            maxi=num\n",
    "        num=0\n",
    "if num>maxi and a==min_num:\n",
    "    maxi=num\n",
    "print(maxi)"
   ]
  },
  {
   "cell_type": "code",
   "execution_count": 20,
   "id": "ed47ae64",
   "metadata": {},
   "outputs": [
    {
     "name": "stdout",
     "output_type": "stream",
     "text": [
      "n=5\n",
      "sonni kiriting=0\n",
      "sonni kiriting=1\n",
      "sonni kiriting=1\n",
      "sonni kiriting=1\n",
      "sonni kiriting=0\n",
      "3\n"
     ]
    }
   ],
   "source": [
    "# minmax-30 ketma ket keladigan eng katta elementlarni eng kichik miqdorini\n",
    "n=int(input(\"n=\"))\n",
    "for i in range(1,n+1):\n",
    "    a=int(input(\"sonni kiriting=\"))\n",
    "    if i==1 or a>max_num:\n",
    "        max_num=a\n",
    "        num=0\n",
    "        mini=0\n",
    "    if a==max_num:\n",
    "        num+=1\n",
    "    else:\n",
    "        if mini==0:\n",
    "            mini=num\n",
    "        if 1<=num<mini:\n",
    "            mini=num\n",
    "        num=0\n",
    "#print(mini,num)\n",
    "if mini==0:\n",
    "    mini=num\n",
    "if 1<=num<=mini and a==max_num:\n",
    "    mini=num\n",
    "print(mini)"
   ]
  },
  {
   "cell_type": "code",
   "execution_count": 10,
   "id": "339bb26e",
   "metadata": {},
   "outputs": [
    {
     "name": "stdout",
     "output_type": "stream",
     "text": [
      "n=12\n",
      "sonni kiriting=28\n",
      "12 1\n",
      "sonni kiriting=27\n",
      "1 0\n",
      "sonni kiriting=28\n",
      "1 1\n",
      "sonni kiriting=28\n",
      "1 2\n",
      "sonni kiriting=28\n",
      "1 3\n",
      "sonni kiriting=10\n",
      "3 0\n",
      "sonni kiriting=28\n",
      "3 1\n",
      "sonni kiriting=28\n",
      "3 2\n",
      "sonni kiriting=20\n",
      "2 0\n",
      "sonni kiriting=20\n",
      "0 0\n",
      "sonni kiriting=10\n",
      "0 0\n",
      "sonni kiriting=28\n",
      "0 1\n",
      "0\n"
     ]
    }
   ],
   "source": [
    "0\n",
    "0\n"
   ]
  },
  {
   "cell_type": "code",
   "execution_count": 1,
   "id": "046f3257",
   "metadata": {},
   "outputs": [
    {
     "name": "stdout",
     "output_type": "stream",
     "text": [
      "a=5\n",
      "b=6\n",
      "11\n"
     ]
    }
   ],
   "source": [
    "a=int(input(\"a=\"))\n",
    "b=int(input(\"b=\"))\n",
    "def yigindi(a,b):\n",
    "    return a+b\n",
    "print(yigindi(a,b))"
   ]
  },
  {
   "cell_type": "code",
   "execution_count": 6,
   "id": "2f32dc90",
   "metadata": {},
   "outputs": [
    {
     "name": "stdout",
     "output_type": "stream",
     "text": [
      "a=3\n",
      "b=3\n",
      "27\n"
     ]
    }
   ],
   "source": [
    "a=int(input(\"a=\"))\n",
    "b=int(input(\"b=\"))\n",
    "\n",
    "def daraja(i,j):\n",
    "    p=1\n",
    "    while j>0:\n",
    "        p=p*i\n",
    "        j-=1\n",
    "    return p\n",
    "print(daraja(a,b))\n",
    "    "
   ]
  },
  {
   "cell_type": "code",
   "execution_count": 5,
   "id": "06b27526",
   "metadata": {},
   "outputs": [
    {
     "data": {
      "text/plain": [
       "-5"
      ]
     },
     "execution_count": 5,
     "metadata": {},
     "output_type": "execute_result"
    }
   ],
   "source": [
    "100%(-15)"
   ]
  }
 ],
 "metadata": {
  "kernelspec": {
   "display_name": "Python 3 (ipykernel)",
   "language": "python",
   "name": "python3"
  },
  "language_info": {
   "codemirror_mode": {
    "name": "ipython",
    "version": 3
   },
   "file_extension": ".py",
   "mimetype": "text/x-python",
   "name": "python",
   "nbconvert_exporter": "python",
   "pygments_lexer": "ipython3",
   "version": "3.8.10"
  }
 },
 "nbformat": 4,
 "nbformat_minor": 5
}
