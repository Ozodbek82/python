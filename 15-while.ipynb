{
 "cells": [
  {
   "cell_type": "code",
   "execution_count": 2,
   "id": "82dfcca0",
   "metadata": {},
   "outputs": [
    {
     "name": "stdout",
     "output_type": "stream",
     "text": [
      "a=75\n",
      "b=5\n",
      "0\n"
     ]
    }
   ],
   "source": [
    "# 1.Ikkini chiqarib,ikkiga bo`linadiganlarini chiqarib tashlaymiz.\n",
    "# 2. ichki sikl da ham 1-amalni bajaramiz va bu sonni bo`luvchisi\n",
    "# sonning kvadrat ildizigacha bo`lishini inobatga olib, range ga sqrt(i)+1\n",
    "#gacha deb belgilaymiz\n",
    "# 3. ichki siklda bitta bo`linuchchi topilgach break bilan siklni to`xtatamiz\n"
   ]
  },
  {
   "cell_type": "code",
   "execution_count": 1,
   "id": "77ca42c9",
   "metadata": {},
   "outputs": [
    {
     "name": "stdout",
     "output_type": "stream",
     "text": [
      "a=75\n",
      "b=5\n",
      "0\n"
     ]
    }
   ],
   "source": [
    "# while-1\n",
    "a=int(input(\"a=\"))\n",
    "b=int(input(\"b=\"))\n",
    "while a>=b:\n",
    "    a-=b\n",
    "print(a)"
   ]
  },
  {
   "cell_type": "code",
   "execution_count": 4,
   "id": "410f5640",
   "metadata": {},
   "outputs": [
    {
     "name": "stdout",
     "output_type": "stream",
     "text": [
      "a=74\n",
      "b=5\n",
      "14\n"
     ]
    }
   ],
   "source": [
    "# while-2\n",
    "a=int(input(\"a=\"))\n",
    "b=int(input(\"b=\"))\n",
    "i=0\n",
    "while a>=b:\n",
    "    i+=1\n",
    "    a-=b\n",
    "print(i)"
   ]
  },
  {
   "cell_type": "code",
   "execution_count": 6,
   "id": "68c04dde",
   "metadata": {},
   "outputs": [
    {
     "name": "stdout",
     "output_type": "stream",
     "text": [
      "k=10\n",
      "n=3\n",
      "butun= 3 qoldiq= 1\n"
     ]
    }
   ],
   "source": [
    "# while-3\n",
    "k=int(input(\"k=\"))\n",
    "n=int(input(\"n=\"))\n",
    "i=0;a=k\n",
    "while a>=n:\n",
    "    i+=1\n",
    "    a-=n\n",
    "print(\"butun=\",i,\"qoldiq=\",a)\n"
   ]
  },
  {
   "cell_type": "code",
   "execution_count": 19,
   "id": "49b9e271",
   "metadata": {},
   "outputs": [
    {
     "name": "stdout",
     "output_type": "stream",
     "text": [
      "n=27\n",
      "3- darajasi\n"
     ]
    }
   ],
   "source": [
    "# while-4-1\n",
    "n=int(input(\"n=\"))\n",
    "i=0\n",
    "emas=\"3-ning darajasi emas\"\n",
    "daraja=\"3- darajasi\"\n",
    "while n>=3:\n",
    "    i+=1\n",
    "    n-=3\n",
    "if 0<n<3:\n",
    "    print(emas)\n",
    "elif i==1:\n",
    "    print(daraja)\n",
    "else:\n",
    "    while i>=3:\n",
    "        i-=3\n",
    "    if i==0:\n",
    "        print(daraja)\n",
    "    else:\n",
    "        print(emas)\n",
    "    "
   ]
  },
  {
   "cell_type": "code",
   "execution_count": null,
   "id": "ab3a83b9",
   "metadata": {},
   "outputs": [],
   "source": [
    "# While 4-2\n",
    "n = int(input('n = '))\n",
    "while n>0:\n",
    "    n-=3\n",
    "if n==0:\n",
    "    print(\"3ga karrali\")\n",
    "else:\n",
    "    print(\"Emas\")"
   ]
  },
  {
   "cell_type": "code",
   "execution_count": 31,
   "id": "fce4cd4a",
   "metadata": {},
   "outputs": [
    {
     "name": "stdout",
     "output_type": "stream",
     "text": [
      "n=85\n",
      "2-ning darajasi emas\n"
     ]
    }
   ],
   "source": [
    "# while-5\n",
    "n=int(input(\"n=\"))\n",
    "i=0\n",
    "emas=\"2-ning darajasi emas\"\n",
    "while n>=2:\n",
    "    i+=1\n",
    "    n/=2\n",
    "if 1<n<2:\n",
    "    print(emas)\n",
    "else:\n",
    "    print(\"Bu son ikkining\",i,\"-darajasi\")"
   ]
  },
  {
   "cell_type": "code",
   "execution_count": 54,
   "id": "7a9784d2",
   "metadata": {},
   "outputs": [
    {
     "name": "stdout",
     "output_type": "stream",
     "text": [
      "n=16\n",
      "10321920\n"
     ]
    }
   ],
   "source": [
    "# while-6-1\n",
    "n=int(input(\"n=\"))\n",
    "i=1; s=1\n",
    "while n>0 and (n!=1 or n!=2) :\n",
    "    s*=n\n",
    "    n-=2\n",
    "print(s)"
   ]
  },
  {
   "cell_type": "code",
   "execution_count": null,
   "id": "f5aae9a0",
   "metadata": {},
   "outputs": [],
   "source": [
    "# While 6-1\n",
    "\n",
    "n = int(input(\"n = \"))\n",
    "fak = 1\n",
    "while n>1:\n",
    "    fak *= n\n",
    "    n -= 2\n",
    "    \n",
    "print(fak)"
   ]
  },
  {
   "cell_type": "code",
   "execution_count": 49,
   "id": "b346db60",
   "metadata": {},
   "outputs": [
    {
     "data": {
      "text/plain": [
       "384"
      ]
     },
     "execution_count": 49,
     "metadata": {},
     "output_type": "execute_result"
    }
   ],
   "source": [
    "8*6*4*2"
   ]
  },
  {
   "cell_type": "code",
   "execution_count": 68,
   "id": "7dd6607b",
   "metadata": {},
   "outputs": [
    {
     "name": "stdout",
     "output_type": "stream",
     "text": [
      "n=100\n",
      "11\n"
     ]
    }
   ],
   "source": [
    "# while-7   k**2>n\n",
    "n=int(input(\"n=\"))\n",
    "k=0;i=0\n",
    "while k*k<=n:\n",
    "    i+=1\n",
    "    k=i\n",
    "print(k)    "
   ]
  },
  {
   "cell_type": "code",
   "execution_count": 73,
   "id": "40b63f9f",
   "metadata": {},
   "outputs": [
    {
     "name": "stdout",
     "output_type": "stream",
     "text": [
      "n=100\n",
      "10\n"
     ]
    }
   ],
   "source": [
    "# while-8  k**2<=n eng katta butun k sonini toping\n",
    "n=int(input(\"n=\"))\n",
    "k=0;i=0\n",
    "while k*k<=n:\n",
    "    i+=1\n",
    "    k=i\n",
    "print(k-1)    "
   ]
  },
  {
   "cell_type": "code",
   "execution_count": 9,
   "id": "736dbe8d",
   "metadata": {},
   "outputs": [
    {
     "name": "stdout",
     "output_type": "stream",
     "text": [
      "n=81\n",
      "5\n"
     ]
    }
   ],
   "source": [
    "# while-9  3**k>n eng kichik butun k sonini toping\n",
    "n=int(input(\"n=\"))\n",
    "k=0\n",
    "while 3**k<=n:\n",
    "    k+=1\n",
    "    print(k)\n"
   ]
  },
  {
   "cell_type": "code",
   "execution_count": 14,
   "id": "e5b27e0e",
   "metadata": {},
   "outputs": [
    {
     "name": "stdout",
     "output_type": "stream",
     "text": [
      "n=29\n",
      "3\n"
     ]
    }
   ],
   "source": [
    "# while-10   3**k<=n eng katta butun k sonini toping\n",
    "n=int(input(\"n=\"))\n",
    "k=0;i=0\n",
    "while 3**k<=n:\n",
    "    i+=1\n",
    "    k=i\n",
    "print(k-1)"
   ]
  },
  {
   "cell_type": "code",
   "execution_count": 18,
   "id": "6c7c9a47",
   "metadata": {},
   "outputs": [
    {
     "name": "stdout",
     "output_type": "stream",
     "text": [
      "n=20\n",
      "eng kichik son= 6 yig`indi= 21\n"
     ]
    }
   ],
   "source": [
    "# while-11   (1+2+3+...+k)>=n  eng kichik butun k sonini toping\n",
    "n=int(input(\"n=\"))\n",
    "k=0;s=0\n",
    "while s<n:\n",
    "    k+=1\n",
    "    s=s+k\n",
    "print(\"eng kichik son=\",k,\"yig`indi=\",s)"
   ]
  },
  {
   "cell_type": "code",
   "execution_count": 21,
   "id": "6665e340",
   "metadata": {},
   "outputs": [
    {
     "name": "stdout",
     "output_type": "stream",
     "text": [
      "n=10\n",
      "eng kichik son= 4 yig`indi= 10\n"
     ]
    }
   ],
   "source": [
    "# while-12   (1+2+3+...+k)<=n  eng kichik butun k sonini toping\n",
    "n=int(input(\"n=\"))\n",
    "k=0;s=0\n",
    "while s<=n:\n",
    "    b=k\n",
    "    k+=1\n",
    "    s=s+k\n",
    "print(\"eng kichik son=\",b,\"yig`indi=\",s-k)"
   ]
  },
  {
   "cell_type": "code",
   "execution_count": 24,
   "id": "7e72085b",
   "metadata": {},
   "outputs": [
    {
     "name": "stdout",
     "output_type": "stream",
     "text": [
      "a=2.5\n",
      "eng kichik son= 7 yig`indi= 2.5928571428571425\n"
     ]
    }
   ],
   "source": [
    "# while-13   (1+1/2+1/3+...+1/k)>=n  eng kichik butun k sonini toping\n",
    "a=float(input(\"a=\"))\n",
    "k=0;s=0\n",
    "while s<a:\n",
    "    k+=1\n",
    "    s=s+1/k\n",
    "print(\"eng kichik son=\",k,\"yig`indi=\",s)"
   ]
  },
  {
   "cell_type": "code",
   "execution_count": 26,
   "id": "438cb728",
   "metadata": {},
   "outputs": [
    {
     "data": {
      "text/plain": [
       "2.4499999999999997"
      ]
     },
     "execution_count": 26,
     "metadata": {},
     "output_type": "execute_result"
    }
   ],
   "source": [
    "1+1/2+1/3+1/4+1/5+1/6"
   ]
  },
  {
   "cell_type": "code",
   "execution_count": 1,
   "id": "bc9c537f",
   "metadata": {},
   "outputs": [
    {
     "name": "stdout",
     "output_type": "stream",
     "text": [
      "a=2.5\n",
      "eng kichik son= 6 yig`indi= 2.4499999999999997\n"
     ]
    }
   ],
   "source": [
    "# while-14-1   (1+1/2+1/3+...+1/k)<=a  eng katta butun k sonini toping\n",
    "a=float(input(\"a=\"))\n",
    "k=0;s=0\n",
    "while s<=a:    \n",
    "    k+=1\n",
    "    s+=1/k\n",
    "print(\"eng kichik son=\",k-1,\"yig`indi=\",s-1/k)"
   ]
  },
  {
   "cell_type": "code",
   "execution_count": null,
   "id": "36ad636c",
   "metadata": {},
   "outputs": [],
   "source": [
    "# While 14-2\n",
    "\n",
    "n = int(input(\"n = \"))\n",
    "S=0; k=0\n",
    "while n>=S:\n",
    "    k+=1\n",
    "    S+=1/k\n",
    "print(k-1)\n",
    "print(S-1/k)\n",
    "print(S)"
   ]
  },
  {
   "cell_type": "code",
   "execution_count": 33,
   "id": "3722cc0b",
   "metadata": {},
   "outputs": [
    {
     "name": "stdout",
     "output_type": "stream",
     "text": [
      "qo`yilgan so`m=200\n",
      "protsent (0<p<25)=20\n",
      "4 oyda 414 so`m\n"
     ]
    }
   ],
   "source": [
    "# while-15 Bankka s so`m qo`yildi p protsent \n",
    "s=int(input(\"qo`yilgan so`m=\"))\n",
    "p=int(input(\"protsent (0<p<25)=\"))\n",
    "k=0;a=s\n",
    "while a<2*s:\n",
    "    k+=1\n",
    "    a=a*(1+p/100)\n",
    "print(k,\"oyda\",int(a),\"so`m\")\n"
   ]
  },
  {
   "cell_type": "code",
   "execution_count": 44,
   "id": "7f2e55e3",
   "metadata": {},
   "outputs": [
    {
     "name": "stdout",
     "output_type": "stream",
     "text": [
      "protsent (0<p<25)=50\n",
      "9 kunda 266 km\n"
     ]
    }
   ],
   "source": [
    "# while-16\n",
    "s=10\n",
    "p=int(input(\"protsent (0<p<25)=\"))\n",
    "k=1\n",
    "while s<200:\n",
    "    k+=1\n",
    "    s=s*(1+p/100)\n",
    "print(k,\"kunda\",int(10+s),\"km\")\n"
   ]
  },
  {
   "cell_type": "code",
   "execution_count": 47,
   "id": "1d945855",
   "metadata": {},
   "outputs": [
    {
     "name": "stdout",
     "output_type": "stream",
     "text": [
      "n=5\n",
      "m=124\n",
      "butun= 24 qoldiq= 4\n"
     ]
    }
   ],
   "source": [
    "# while-17  n va m berilgan n>m n ni m ga bo`lib \n",
    "n=int(input(\"bo`luvchi=\"))\n",
    "m=int(input(\"bo`linuvchi=\"))\n",
    "i=0\n",
    "while m>n:\n",
    "    m=m-n\n",
    "    i=i+1\n",
    "print(\"butun=\",i,\"qoldiq=\",m)"
   ]
  },
  {
   "cell_type": "code",
   "execution_count": 53,
   "id": "5a914f0e",
   "metadata": {},
   "outputs": [
    {
     "name": "stdout",
     "output_type": "stream",
     "text": [
      "n=25698\n",
      "89652\n"
     ]
    }
   ],
   "source": [
    "# while-18  n ni teskari tartibda chiqaring\n",
    "n=int(input(\"n=\"))\n",
    "a=0\n",
    "while n!=0:\n",
    "    b=n%10\n",
    "    a=a*10+b\n",
    "    n=n//10\n",
    "print(a)"
   ]
  },
  {
   "cell_type": "code",
   "execution_count": 54,
   "id": "f2f7a243",
   "metadata": {},
   "outputs": [
    {
     "name": "stdout",
     "output_type": "stream",
     "text": [
      "n=125698\n",
      "raqamlari yigindisi= 31 soni= 6\n"
     ]
    }
   ],
   "source": [
    "# while-19 n ni raqamlar yigindisi va soni\n",
    "n=int(input(\"n=\"))\n",
    "a=0; i=0\n",
    "while n!=0:\n",
    "    i+=1\n",
    "    b=n%10\n",
    "    a+=b\n",
    "    n//=10\n",
    "print(\"raqamlari yigindisi=\",a,\"soni=\",i)"
   ]
  },
  {
   "cell_type": "code",
   "execution_count": 3,
   "id": "624293de",
   "metadata": {},
   "outputs": [
    {
     "name": "stdout",
     "output_type": "stream",
     "text": [
      "n=1000\n",
      "2 yo`q\n"
     ]
    }
   ],
   "source": [
    "# while-20  raqamlari orasida 2 bor yoqligiga tekshirish\n",
    "n=int(input(\"n=\"))\n",
    "bor=False; i=0\n",
    "while n!=0:\n",
    "    i+=1\n",
    "    b=n%10\n",
    "    if b==2:\n",
    "        bor=True\n",
    "        break   \n",
    "    n//=10\n",
    "if bor:\n",
    "    print(\"2 bor\")\n",
    "else:\n",
    "    print(\"2 yo`q\")"
   ]
  },
  {
   "cell_type": "code",
   "execution_count": 5,
   "id": "b498db97",
   "metadata": {},
   "outputs": [
    {
     "name": "stdout",
     "output_type": "stream",
     "text": [
      "n=2648\n",
      "toq son yo`q\n"
     ]
    }
   ],
   "source": [
    "# while-21  raqamlari orasida toq bor yoqligiga tekshirish\n",
    "n=int(input(\"n=\"))\n",
    "bor=False; i=0\n",
    "while n!=0:\n",
    "    i+=1\n",
    "    b=n%10\n",
    "    if b%2==1:\n",
    "        bor=True\n",
    "        break   \n",
    "    n//=10\n",
    "if bor:\n",
    "    print(\"toq son bor\")\n",
    "else:\n",
    "    print(\"toq son yo`q\")"
   ]
  },
  {
   "cell_type": "code",
   "execution_count": 11,
   "id": "929c191b",
   "metadata": {},
   "outputs": [
    {
     "name": "stdout",
     "output_type": "stream",
     "text": [
      "n=2999\n",
      "tub son\n"
     ]
    }
   ],
   "source": [
    "# while-22  n sonini tublikka tekshirish\n",
    "n=int(input(\"n=\"))\n",
    "bor=True; i=1\n",
    "while i!=(n-1):\n",
    "    i+=1\n",
    "    if n%i==0:\n",
    "        bor=False\n",
    "        break\n",
    "if bor:\n",
    "    print(\"tub son\")\n",
    "else:\n",
    "    print(\"tub son emas\")"
   ]
  },
  {
   "cell_type": "code",
   "execution_count": 15,
   "id": "a14c2f3c",
   "metadata": {},
   "outputs": [
    {
     "name": "stdout",
     "output_type": "stream",
     "text": [
      "a=49\n",
      "b=63\n",
      "7\n"
     ]
    }
   ],
   "source": [
    "# while-23  a va b sonini EKUBini topish\n",
    "a=int(input(\"a=\"))\n",
    "b=int(input(\"b=\"))\n",
    "while a!=0 and b!=0 :\n",
    "    if a>b and a!=0 and b!=0:\n",
    "        a=a%b\n",
    "    elif b>a and a!=0 and b!=0:\n",
    "        b=b%a\n",
    "    else:\n",
    "        break\n",
    "k=a+b\n",
    "print(k)   "
   ]
  },
  {
   "cell_type": "code",
   "execution_count": 7,
   "id": "79d87004",
   "metadata": {},
   "outputs": [
    {
     "name": "stdout",
     "output_type": "stream",
     "text": [
      "n=96\n",
      "yo`q\n"
     ]
    }
   ],
   "source": [
    "# while-24-1  n soni fibonachchi sonlari orasida bor yoki yo`q\n",
    "n=int(input(\"n=\"))\n",
    "f1=1; f0=0; fib=False\n",
    "fn=f1+f0\n",
    "while fn<n:\n",
    "    f0=f1\n",
    "    f1=fn\n",
    "    fn=f1+f0\n",
    "    if fn==n:\n",
    "        fib=True\n",
    "        break\n",
    "if fib:\n",
    "    print(\"bor\")\n",
    "else:\n",
    "    print(\"yo`q\")\n"
   ]
  },
  {
   "cell_type": "code",
   "execution_count": null,
   "id": "11af0816",
   "metadata": {},
   "outputs": [],
   "source": [
    "# While 24-2\n",
    "\n",
    "n = int(input('n = '))\n",
    "f1=1; f0=0\n",
    "fn = f1 + f0\n",
    "while fn<n:\n",
    "    f0 = f1\n",
    "    f1 = fn\n",
    "    fn = f1 + f0\n",
    "    \n",
    "if fn==n:\n",
    "    print(\"Fibonachi soni\")\n",
    "else:\n",
    "    print(\"Fibonachi soni emas\")"
   ]
  },
  {
   "cell_type": "code",
   "execution_count": 16,
   "id": "74a0f92b",
   "metadata": {},
   "outputs": [
    {
     "name": "stdout",
     "output_type": "stream",
     "text": [
      "n=13\n",
      "21\n"
     ]
    }
   ],
   "source": [
    "# while-25 n sonidan katta birinchi fib soni\n",
    "n=int(input(\"n=\"))\n",
    "f1=1; f0=0\n",
    "fn=f1+f0\n",
    "while fn<=n:\n",
    "    f0=f1\n",
    "    f1=fn\n",
    "    fn=f1+f0\n",
    "print(fn)"
   ]
  },
  {
   "cell_type": "code",
   "execution_count": 1,
   "id": "0b0f18c1",
   "metadata": {},
   "outputs": [
    {
     "name": "stdout",
     "output_type": "stream",
     "text": [
      "n=13\n",
      "8 21\n"
     ]
    }
   ],
   "source": [
    "# while-26 n sonidan oldingi va keyingi fib sonlari\n",
    "n=int(input(\"n=\"))\n",
    "f1=1; f0=0\n",
    "fn=f1+f0\n",
    "while fn<=n:\n",
    "    f0=f1\n",
    "    f1=fn\n",
    "    fn=f1+f0\n",
    "print(f0,fn)"
   ]
  },
  {
   "cell_type": "code",
   "execution_count": 21,
   "id": "b7e30d2c",
   "metadata": {},
   "outputs": [
    {
     "name": "stdout",
     "output_type": "stream",
     "text": [
      "n=89\n",
      "11\n"
     ]
    }
   ],
   "source": [
    "# while-27 n fib soni berilgan,u nechanchi hadi\n",
    "n=int(input(\"n=\"))\n",
    "f1=1; f0=0;i=1\n",
    "fn=f1+f0\n",
    "while fn<=n:\n",
    "    i+=1\n",
    "    f0=f1\n",
    "    f1=fn\n",
    "    fn=f1+f0\n",
    "print(i)"
   ]
  },
  {
   "cell_type": "code",
   "execution_count": 1,
   "id": "3d27c3fa",
   "metadata": {},
   "outputs": [
    {
     "name": "stdout",
     "output_type": "stream",
     "text": [
      "e=0.00288\n",
      "k= 5 a_k-1= 2.4166666666666665 a_k= 2.413793103448276\n"
     ]
    }
   ],
   "source": [
    "# while-28 e musbat soni berilgan abs(a_k-a_k-1)<e eng kichik k soni\n",
    "e=float(input(\"e=\"))\n",
    "k=1;a=0;s=2\n",
    "while abs(s-a)>=e:\n",
    "    a=s\n",
    "    s=2+1/a\n",
    "    k+=1\n",
    "print(\"k=\",k,\"a_k-1=\",a,\"a_k=\",s)"
   ]
  },
  {
   "cell_type": "code",
   "execution_count": null,
   "id": "be97286d",
   "metadata": {},
   "outputs": [],
   "source": [
    "2 2.5 2.4 2.4166666666666665 2.413793103448276 2.414285714285714"
   ]
  },
  {
   "cell_type": "code",
   "execution_count": 53,
   "id": "cef057df",
   "metadata": {},
   "outputs": [
    {
     "data": {
      "text/plain": [
       "0.002873563218390718"
      ]
     },
     "execution_count": 53,
     "metadata": {},
     "output_type": "execute_result"
    }
   ],
   "source": [
    "abs(2.413793103448276-2.4166666666666665)"
   ]
  },
  {
   "cell_type": "code",
   "execution_count": 44,
   "id": "824ea314",
   "metadata": {},
   "outputs": [
    {
     "name": "stdout",
     "output_type": "stream",
     "text": [
      "e=0.0371\n",
      "k= 5 a_k= 1.7407407407407407 a_k-1= 1.777777777777778\n"
     ]
    }
   ],
   "source": [
    "# while-29 e haqiqiy musbat son berilgan a1=1 a2=2 a_k=(a_k-2 + 2*a_k-1)/3\n",
    "e=float(input(\"e=\"))\n",
    "a1=1;a2=2;s=2;k=2\n",
    "b=abs(a1-a2)\n",
    "while b>=e:\n",
    "    s=(a1+2*a2)/3\n",
    "    k+=1\n",
    "    b=abs(s-a2)\n",
    "    a1=a2;a2=s\n",
    "print(\"k=\",k,\"a_k=\",s,\"a_k-1=\",a1)"
   ]
  },
  {
   "cell_type": "code",
   "execution_count": null,
   "id": "13737e89",
   "metadata": {},
   "outputs": [],
   "source": [
    "1 2 1.6666666666666667 1.777777777777778 1.7407407407407407 1.7530864197530864"
   ]
  },
  {
   "cell_type": "code",
   "execution_count": 47,
   "id": "28f73ca3",
   "metadata": {},
   "outputs": [
    {
     "name": "stdout",
     "output_type": "stream",
     "text": [
      "A=13\n",
      "B=8\n",
      "C=2\n",
      "24 ta kvadrat\n"
     ]
    }
   ],
   "source": [
    "# while-30 A, B, C musbat butun sonlari berilgan. A*B turtb ichida\n",
    "# tomoni C bo`lgan kvadratdan nechta sig`ishini aniqlovchi\n",
    "a=int(input(\"A=\"))\n",
    "b=int(input(\"B=\"))\n",
    "c=int(input(\"C=\"))\n",
    "i=0;j=0\n",
    "while a>=c:\n",
    "    a-=c\n",
    "    i+=1\n",
    "while b>=c:\n",
    "    b-=c\n",
    "    j+=1\n",
    "print(i*j,\"ta kvadrat\")    "
   ]
  },
  {
   "cell_type": "code",
   "execution_count": null,
   "id": "21b0966f",
   "metadata": {},
   "outputs": [],
   "source": [
    "# n ta sonni ekukini topish"
   ]
  }
 ],
 "metadata": {
  "kernelspec": {
   "display_name": "Python 3 (ipykernel)",
   "language": "python",
   "name": "python3"
  },
  "language_info": {
   "codemirror_mode": {
    "name": "ipython",
    "version": 3
   },
   "file_extension": ".py",
   "mimetype": "text/x-python",
   "name": "python",
   "nbconvert_exporter": "python",
   "pygments_lexer": "ipython3",
   "version": "3.8.10"
  }
 },
 "nbformat": 4,
 "nbformat_minor": 5
}
