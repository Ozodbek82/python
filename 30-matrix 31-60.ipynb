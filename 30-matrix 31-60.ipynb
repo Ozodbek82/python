{
 "cells": [
  {
   "cell_type": "code",
   "execution_count": 10,
   "id": "e026012c",
   "metadata": {},
   "outputs": [
    {
     "name": "stdout",
     "output_type": "stream",
     "text": [
      "m=3\n",
      "n=3\n",
      "10 9 -1\n",
      "0 -6 9\n",
      "8 -6 -3\n",
      "\n",
      "arifm= 2.2222222222222223\n",
      "\n",
      "\n",
      "1.2222222222222223\n",
      "satr= 1\n",
      "0.5555555555555556\n",
      "ustun= 2\n"
     ]
    }
   ],
   "source": [
    "# matrix -31) barcha el.lar o`rta arif.iga orta arif.i eng yaqin bo`lgan satr va ustun nomeri\n",
    "def ochish(matrix):\n",
    "    for i in matrix:\n",
    "        print(*i)\n",
    "from random import randint\n",
    "m=int(input(\"m=\"))\n",
    "n=int(input(\"n=\"))\n",
    "matrix=[[randint(-10,10) for i in range(n)] for j in range(m)]\n",
    "ochish(matrix)\n",
    "print()\n",
    "arifm=sum([sum(i) for i in matrix])/(m*n)\n",
    "print(\"arifm=\",arifm)\n",
    "for i in range(m):\n",
    "    ar_m=sum(matrix[i])/n\n",
    "    if i==0 or abs(arifm-ar_m)<yaqin_satr:\n",
    "        yaqin_satr=abs(arifm-ar_m)\n",
    "        index=i\n",
    "        print()\n",
    "print(\"satr=\",index)\n",
    "for i in range(n):\n",
    "    s=0\n",
    "    for j in range(m):\n",
    "        s+=matrix[j][i]\n",
    "    ar_n=s/m\n",
    "    if i==0 or abs(arifm-ar_n)<yaqin_ustun:\n",
    "        yaqin_ustun=abs(arifm-ar_n)\n",
    "        index=i\n",
    "print(\"ustun=\",index)"
   ]
  },
  {
   "cell_type": "code",
   "execution_count": 15,
   "id": "aa12519f",
   "metadata": {},
   "outputs": [
    {
     "name": "stdout",
     "output_type": "stream",
     "text": [
      "m=4\n",
      "n=4\n",
      "-10 10 -9 10\n",
      "-3 3 -1 -6\n",
      "-3 2 -8 -10\n",
      "8 2 3 0\n",
      "\n",
      "0\n"
     ]
    }
   ],
   "source": [
    "# matrix -32) musbat va manfiy el. soni teng bo`lgan birinchi satr nomeri aks bunday satr yo`q\n",
    "def ochish(matrix):\n",
    "    for i in matrix:\n",
    "        print(*i)\n",
    "from random import randint\n",
    "m=int(input(\"m=\"))\n",
    "n=int(input(\"n=\"))\n",
    "matrix=[[randint(-10,10) for i in range(n)] for j in range(m)]\n",
    "ochish(matrix)\n",
    "print()\n",
    "index=-1\n",
    "for i in range(m):\n",
    "    manfiy,musbat=0,0\n",
    "    for j in matrix[i]:\n",
    "        if j>0:\n",
    "            musbat+=1\n",
    "        if j<0:\n",
    "            manfiy+=1\n",
    "    if musbat==manfiy and manfiy+musbat!=0:\n",
    "        index=i\n",
    "        break\n",
    "if index>=0:\n",
    "    print(index)\n",
    "else:\n",
    "    print(\"bunday satr yo`q\")"
   ]
  },
  {
   "cell_type": "code",
   "execution_count": 4,
   "id": "39deaa7b",
   "metadata": {},
   "outputs": [
    {
     "name": "stdout",
     "output_type": "stream",
     "text": [
      "m=4\n",
      "n=4\n",
      "-4 6 9 1\n",
      "7 0 9 -4\n",
      "-10 7 -6 -1\n",
      "-4 -4 -7 9\n",
      "\n",
      "3\n"
     ]
    }
   ],
   "source": [
    "# matrix -33) musbat va manfiy el. soni teng bo`lgan oxirgi ustun nomeri aks bunday ustun yo`q\n",
    "def ochish(matrix):\n",
    "    for i in matrix:\n",
    "        print(*i)\n",
    "from random import randint\n",
    "m=int(input(\"m=\"))\n",
    "n=int(input(\"n=\"))\n",
    "matrix=[[randint(-10,10) for i in range(n)] for j in range(m)]\n",
    "ochish(matrix)\n",
    "print()\n",
    "index=-1\n",
    "for i in range(n-1,-1,-1):\n",
    "    a=[]; musbat,manfiy=0,0\n",
    "    for j in range(m):\n",
    "        a.append(matrix[j][i])\n",
    "    for k in a:\n",
    "        if k>0:\n",
    "            musbat+=1\n",
    "        if k<0:\n",
    "            manfiy+=1\n",
    "    if musbat==manfiy and manfiy+musbat!=0:\n",
    "        index=i\n",
    "        break    \n",
    "if index>=0:\n",
    "    print(index)\n",
    "else:\n",
    "    print(\"bunday ustun yo`q\")"
   ]
  },
  {
   "cell_type": "code",
   "execution_count": 15,
   "id": "f210c789",
   "metadata": {},
   "outputs": [
    {
     "name": "stdout",
     "output_type": "stream",
     "text": [
      "m=3\n",
      "n=3\n",
      "4 4 4\n",
      "4 6 8\n",
      "8 10 0\n",
      "\n",
      "1\n"
     ]
    }
   ],
   "source": [
    "# matrix -34) faqat juft sonlardan iborat bo`lgan oxirgi satr nomeri aks bunday satr yo`q\n",
    "def ochish(matrix):\n",
    "    for i in matrix:\n",
    "        print(*i)\n",
    "from random import randint\n",
    "m=int(input(\"m=\"))\n",
    "n=int(input(\"n=\"))\n",
    "matrix=[[randint(-10,10) for i in range(n)] for j in range(m)]\n",
    "ochish(matrix)\n",
    "print(); index=-1\n",
    "for i in range(m-1,-1,-1):\n",
    "    for j in matrix[i]:\n",
    "        if j%2==1 or j==0:\n",
    "            break\n",
    "    else:\n",
    "        index=i\n",
    "        break\n",
    "if index>=0:\n",
    "    print(index)\n",
    "else:\n",
    "    print(\"bunday satr yo`q\")"
   ]
  },
  {
   "cell_type": "code",
   "execution_count": 19,
   "id": "37921650",
   "metadata": {},
   "outputs": [
    {
     "name": "stdout",
     "output_type": "stream",
     "text": [
      "m=2\n",
      "n=2\n",
      "-3 2\n",
      "5 -9\n",
      "\n",
      "0\n"
     ]
    }
   ],
   "source": [
    "# matrix -35) faqat toq sonlardan iborat bo`lgan birinchi ustun nomeri aks bunday ustun yo`q\n",
    "def ochish(matrix):\n",
    "    for i in matrix:\n",
    "        print(*i)\n",
    "from random import randint\n",
    "m=int(input(\"m=\"))\n",
    "n=int(input(\"n=\"))\n",
    "matrix=[[randint(-10,10) for i in range(n)] for j in range(m)]\n",
    "ochish(matrix)\n",
    "print(); index=-1\n",
    "for i in range(n):\n",
    "    for j in range(m):\n",
    "        if matrix[j][i]%2==0 or matrix[j][i]==0:\n",
    "            break\n",
    "    else:\n",
    "        index=i\n",
    "        break\n",
    "if index>=0:\n",
    "    print(index)\n",
    "else:\n",
    "    print(\"bunday ustun yo`q\")"
   ]
  },
  {
   "cell_type": "code",
   "execution_count": 26,
   "id": "e7bb79c8",
   "metadata": {},
   "outputs": [
    {
     "name": "stdout",
     "output_type": "stream",
     "text": [
      "m=4\n",
      "n=3\n",
      "1 2 3\n",
      "2 3 4\n",
      "1 2 3\n",
      "3 2 1\n",
      "\n",
      "2 2\n",
      "3 3\n",
      "3\n"
     ]
    }
   ],
   "source": [
    "# matrix -36) dastlabki satrga o`xshash satrlar soni\n",
    "# satrlardagi sonlar miqdori va o`zi bir hil, tartibi muhim emas\n",
    "def ochish(matrix):\n",
    "    for i in matrix:\n",
    "        print(*i)\n",
    "from random import randint\n",
    "m=int(input(\"m=\"))\n",
    "n=int(input(\"n=\"))\n",
    "matrix=[[randint(-10,10) for i in range(n)] for j in range(m)]\n",
    "ochish(matrix)\n",
    "print(); k=1\n",
    "matrix[0].sort()\n",
    "for i in range(1,m):\n",
    "    matrix[i].sort()\n",
    "    if matrix[0]==matrix[i]:\n",
    "        k+=1\n",
    "print(k)"
   ]
  },
  {
   "cell_type": "code",
   "execution_count": 31,
   "id": "3bb79f1d",
   "metadata": {},
   "outputs": [
    {
     "name": "stdout",
     "output_type": "stream",
     "text": [
      "m=4\n",
      "n=4\n",
      "0 2 3 1\n",
      "2 3 4 4\n",
      "4 2 3 3\n",
      "3 2 1 2\n",
      "\n",
      "1\n"
     ]
    }
   ],
   "source": [
    "# matrix -37) oxirgi ustunga o`xshash ustunlar soni\n",
    "from random import randint\n",
    "m=int(input(\"m=\"))\n",
    "n=int(input(\"n=\"))\n",
    "matrix=[[randint(0,10) for i in range(n)] for j in range(m)]\n",
    "for i in matrix:\n",
    "    print(*i)\n",
    "print(); k=0\n",
    "for i in range(n-1,-1,-1):\n",
    "    a=[]\n",
    "    for j in range(m):\n",
    "        a.append(matrix[j][i])\n",
    "        a.sort()\n",
    "    if i==n-1:\n",
    "        oxirgi=a\n",
    "    if oxirgi==a:\n",
    "        k+=1\n",
    "print(k)"
   ]
  },
  {
   "cell_type": "code",
   "execution_count": 15,
   "id": "62189810",
   "metadata": {},
   "outputs": [
    {
     "name": "stdout",
     "output_type": "stream",
     "text": [
      "m=9\n",
      "n=6\n",
      "2 6 7 4 0 8\n",
      "8 8 10 3 4 0\n",
      "0 9 4 2 10 1\n",
      "5 9 4 2 4 6\n",
      "7 7 3 8 0 8\n",
      "3 9 8 10 9 7\n",
      "6 2 6 1 7 6\n",
      "4 8 2 9 3 3\n",
      "10 6 5 0 6 0\n",
      "\n",
      "2\n"
     ]
    }
   ],
   "source": [
    "# matrix -38) el.lari har hil bo`lgan satrlar soni\n",
    "def ochish(matrix):\n",
    "    for i in matrix:\n",
    "        print(*i)\n",
    "from random import randint\n",
    "m=int(input(\"m=\"))\n",
    "n=int(input(\"n=\"))\n",
    "matrix=[[randint(0,10) for i in range(n)] for j in range(m)]\n",
    "ochish(matrix)\n",
    "print();k=0\n",
    "for i in range(m):\n",
    "    for j in range(n):\n",
    "        if matrix[i][j] in matrix[i][j+1::]:\n",
    "            break\n",
    "    else:\n",
    "        k+=1\n",
    "print(k)"
   ]
  },
  {
   "cell_type": "code",
   "execution_count": 16,
   "id": "34019149",
   "metadata": {},
   "outputs": [
    {
     "name": "stdout",
     "output_type": "stream",
     "text": [
      "m=3\n",
      "n=9\n",
      "6 0 4 2 1 6 6 3 7\n",
      "6 7 7 1 9 6 5 9 6\n",
      "9 1 4 10 7 3 9 0 6\n",
      "\n",
      "5\n"
     ]
    }
   ],
   "source": [
    "# matrix -39) el.lari har hil bo`lgan ustunlar soni\n",
    "def ochish(matrix):\n",
    "    for i in matrix:\n",
    "        print(*i)\n",
    "from random import randint\n",
    "m=int(input(\"m=\"))\n",
    "n=int(input(\"n=\"))\n",
    "matrix=[[randint(0,10) for i in range(n)] for j in range(m)]\n",
    "ochish(matrix)\n",
    "print(); k=0 \n",
    "for i in range(n):\n",
    "    a=[]\n",
    "    for j in range(m):\n",
    "        a.append(matrix[j][i])\n",
    "    for j in range(m):\n",
    "        if j in a:\n",
    "            break\n",
    "    else:\n",
    "        k+=1\n",
    "print(k)"
   ]
  },
  {
   "cell_type": "code",
   "execution_count": 40,
   "id": "6a1501ba",
   "metadata": {},
   "outputs": [
    {
     "name": "stdout",
     "output_type": "stream",
     "text": [
      "m=3\n",
      "n=5\n",
      "1 2 1 1 0\n",
      "3 3 4 5 6\n",
      "3 5 5 5 1\n",
      "\n",
      "2\n"
     ]
    }
   ],
   "source": [
    "# matrix -40) bir hil el.lari maksimal bo`lgan oxirgi satr nomeri\n",
    "from random import randint\n",
    "m=int(input(\"m=\"))\n",
    "n=int(input(\"n=\"))\n",
    "matrix=[[randint(0,10) for i in range(n)] for j in range(m)]\n",
    "for i in matrix:\n",
    "    print(*i)\n",
    "print(); flag=True\n",
    "for j in range(m-1,-1,-1):\n",
    "    for i in range(n):\n",
    "        if flag:\n",
    "            maxi=matrix[j].count(matrix[j][i])\n",
    "            flag=False\n",
    "        if maxi<matrix[j].count(matrix[j][i]):\n",
    "            maxi=matrix[j].count(matrix[j][i])\n",
    "            index=j\n",
    "print(index)"
   ]
  },
  {
   "cell_type": "code",
   "execution_count": 5,
   "id": "749e7870",
   "metadata": {},
   "outputs": [
    {
     "name": "stdout",
     "output_type": "stream",
     "text": [
      "m=3\n",
      "n=5\n",
      "1 3 1 5 0\n",
      "3 3 4 5 6\n",
      "3 3 5 5 1\n",
      "\n",
      "1 3\n"
     ]
    }
   ],
   "source": [
    "# matrix -41) bir hil el.lari soni maksimal bo`lgan birinchi ustun nomeri \n",
    "from random import randint\n",
    "m=int(input(\"m=\"))\n",
    "n=int(input(\"n=\"))\n",
    "matrix=[[randint(0,10) for i in range(n)] for j in range(m)]\n",
    "flag=True\n",
    "for i in matrix:\n",
    "        print(*i)\n",
    "print()\n",
    "for i in range(n):\n",
    "    a=[]\n",
    "    for j in range(m):\n",
    "        a.append(matrix[j][i])\n",
    "    for k in range(m):\n",
    "        if flag:\n",
    "            maxi=a.count(a[k])\n",
    "            index=i\n",
    "            flag=False\n",
    "        if maxi<a.count(a[k]):\n",
    "            maxi=a.count(a[k])\n",
    "            index=i\n",
    "       \n",
    "print(index,maxi)\n",
    "    "
   ]
  },
  {
   "cell_type": "code",
   "execution_count": 7,
   "id": "b5bd72ea",
   "metadata": {},
   "outputs": [
    {
     "name": "stdout",
     "output_type": "stream",
     "text": [
      "m=4\n",
      "n=5\n",
      "1 2 2 3 4\n",
      "3 3 4 5 6\n",
      "3 3 5 5 1\n",
      "1 3 5 7 8\n",
      "\n",
      "3\n"
     ]
    }
   ],
   "source": [
    "# matrix -42) el.lari o`sish tartibida kiritilgan satrlar sonini aniqlovchi\n",
    "from random import randint\n",
    "m=int(input(\"m=\"))\n",
    "n=int(input(\"n=\"))\n",
    "matrix=[[randint(0,10) for i in range(n)] for j in range(m)]\n",
    "for i in matrix:\n",
    "        print(*i)\n",
    "print(); k=0\n",
    "for j in range(m):\n",
    "    for i in range(1,n):\n",
    "        if matrix[j][i-1]>matrix[j][i]:\n",
    "            break\n",
    "    else:\n",
    "        k+=1\n",
    "print(k)"
   ]
  },
  {
   "cell_type": "code",
   "execution_count": 14,
   "id": "a9c5c481",
   "metadata": {},
   "outputs": [
    {
     "name": "stdout",
     "output_type": "stream",
     "text": [
      "m=4\n",
      "n=5\n",
      "1 2 2 6 4\n",
      "3 3 4 5 6\n",
      "3 3 5 5 7\n",
      "1 3 5 4 8\n",
      "\n",
      "3\n",
      "1\n"
     ]
    }
   ],
   "source": [
    "# matrix -43) el.lari kamayish tartibida kiritilgan ustunlarlar sonini aniqlovchi\n",
    "from random import randint\n",
    "m=int(input(\"m=\"))\n",
    "n=int(input(\"n=\"))\n",
    "matrix=[[randint(0,10) for i in range(n)] for j in range(m)]\n",
    "for i in matrix:\n",
    "        print(*i)\n",
    "print(); k=0\n",
    "for i in range(n):\n",
    "    for j in range(1,m):\n",
    "        if matrix[j-1][i]<matrix[j][i]:\n",
    "            break\n",
    "    else:\n",
    "        k+=1\n",
    "print(k)"
   ]
  },
  {
   "cell_type": "code",
   "execution_count": 32,
   "id": "3c463c44",
   "metadata": {},
   "outputs": [
    {
     "name": "stdout",
     "output_type": "stream",
     "text": [
      "m=4\n",
      "n=5\n",
      "3 2 2 3 4\n",
      "4 3 4 5 6\n",
      "7 3 5 5 7\n",
      "9 8 7 1 2\n",
      "\n",
      "0\n"
     ]
    }
   ],
   "source": [
    "# matrix -44) el.lari kamayish yoki o`sish tartibida kiritilgan satrlar orasidan eng min.ini aniqlovchi\n",
    "from random import randint\n",
    "m=int(input(\"m=\"))\n",
    "n=int(input(\"n=\"))\n",
    "matrix=[[randint(0,10) for i in range(n)] for j in range(m)]\n",
    "matrix=[\n",
    "    [3,2,2,3,4],\n",
    "    [4,3,4,5,6],\n",
    "    [7,3,5,5,7],\n",
    "    [9,8,7,1,2]\n",
    "]\n",
    "for i in matrix:\n",
    "        print(*i)\n",
    "print(); mini=0; flag=True\n",
    "for j in range(m):\n",
    "    for i in range(1,n):\n",
    "        if matrix[j][i-1]<matrix[j][i]:\n",
    "            break\n",
    "    else:\n",
    "        if flag:\n",
    "            mini=min(matrix[j])\n",
    "            flag=False\n",
    "        if mini>min(matrix[j]):\n",
    "            mini=min(matrix[j])\n",
    "for j in range(m):\n",
    "    for i in range(1,n):\n",
    "        if matrix[j][i-1]>matrix[j][i]:\n",
    "            break\n",
    "    else:\n",
    "        if flag:\n",
    "            mini=min(matrix[j])\n",
    "            flag=False\n",
    "        if mini>min(matrix[j]):\n",
    "            mini=min(matrix[j])\n",
    "print(mini)"
   ]
  },
  {
   "cell_type": "code",
   "execution_count": 38,
   "id": "62eb75ae",
   "metadata": {},
   "outputs": [
    {
     "name": "stdout",
     "output_type": "stream",
     "text": [
      "m=4\n",
      "n=5\n",
      "1 2 2 3 4\n",
      "4 3 4 5 6\n",
      "7 3 5 5 7\n",
      "1 8 7 3 2\n",
      "\n",
      "4\n"
     ]
    }
   ],
   "source": [
    "# matrix -45) el.lari kamayish yoki o`sish tartibida kiritilgan satrlar orasidan eng max.ini aniqlovchi\n",
    "from random import randint\n",
    "m=int(input(\"m=\"))\n",
    "n=int(input(\"n=\"))\n",
    "matrix=[[randint(0,10) for i in range(n)] for j in range(m)]\n",
    "for i in matrix:\n",
    "        print(*i)\n",
    "print(); maxi=0; flag=True\n",
    "for j in range(m):\n",
    "    for i in range(1,n):\n",
    "        if matrix[j][i-1]<matrix[j][i]:\n",
    "            break\n",
    "    else:\n",
    "        if flag:\n",
    "            maxi=max(matrix[j])\n",
    "            flag=False\n",
    "        if maxi<max(matrix[j]):\n",
    "            maxi=max(matrix[j])\n",
    "for j in range(m):\n",
    "    for i in range(1,n):\n",
    "        if matrix[j][i-1]>matrix[j][i]:\n",
    "            break\n",
    "    else:\n",
    "        if flag:\n",
    "            maxi=max(matrix[j])\n",
    "            flag=False\n",
    "        if maxi<max(matrix[j]):\n",
    "            maxi=max(matrix[j])\n",
    "print(maxi)"
   ]
  },
  {
   "cell_type": "code",
   "execution_count": 11,
   "id": "4a84ef12",
   "metadata": {},
   "outputs": [
    {
     "name": "stdout",
     "output_type": "stream",
     "text": [
      "m=3\n",
      "n=7\n",
      "1 1 6 5 6 2 9\n",
      "1 1 5 2 5 2 5\n",
      "1 1 7 4 7 2 8\n",
      "[1, 1, 6, 5, 6, 2, 9]\n",
      "a= [9, 5, 8]\n",
      "[1, 1, 5, 2, 5, 2, 5]\n",
      "a= [6, 5, 7]\n",
      "[2, 5, 2, 5]\n",
      "a= [6, 5, 7]\n",
      "[2, 5]\n",
      "a= [9, 5, 8]\n",
      "[1, 1, 7, 4, 7, 2, 8]\n",
      "a= [9, 5, 8]\n",
      " nat= 5 5 5\n"
     ]
    }
   ],
   "source": [
    "# matrix -46) o`zi turgan satrda eng kattasi va o`zi turgan ustunda eng kichigi\n",
    "from random import randint\n",
    "m=int(input(\"m=\"))\n",
    "n=int(input(\"n=\"))\n",
    "matrix=[[randint(0,10) for i in range(n)] for j in range(m)]\n",
    "for i in matrix:\n",
    "    print(*i)\n",
    "natija=[]\n",
    "for j in range(m):\n",
    "        son=max(matrix[j]);k=0; index=0\n",
    "        # eng katta el. ko`p bo`lganda\n",
    "        for _ in range(matrix[j].count(son)):\n",
    "            index=matrix[j][k:].index(son)+k\n",
    "            print(matrix[j][k:])\n",
    "            a=[]\n",
    "            for i in range(m):\n",
    "                a.append(matrix[i][index])\n",
    "            print(\"a=\",a)\n",
    "            if min(a)==son:\n",
    "                natija.append(son)\n",
    "            k=index+1\n",
    "if natija:\n",
    "    print(\" nat=\",*natija)\n",
    "else:\n",
    "    print(0)"
   ]
  },
  {
   "cell_type": "code",
   "execution_count": null,
   "id": "93dbaadc",
   "metadata": {},
   "outputs": [],
   "source": [
    "index=matrix[j][k:].index(son)"
   ]
  },
  {
   "cell_type": "code",
   "execution_count": 6,
   "id": "8b23910e",
   "metadata": {},
   "outputs": [
    {
     "name": "stdout",
     "output_type": "stream",
     "text": [
      "m=4\n",
      "n=5\n",
      "k1=2\n",
      "k2=3\n",
      "6 7 4 4 2\n",
      "2 7 2 3 6\n",
      "8 5 10 5 0\n",
      "3 4 1 5 3\n",
      "6 7 4 4 2\n",
      "2 7 2 3 6\n",
      "3 4 1 5 3\n",
      "8 5 10 5 0\n"
     ]
    }
   ],
   "source": [
    "# matrix -47) k1 va k2 satrlarni o`rnini almashtiring\n",
    "from random import randint\n",
    "m=int(input(\"m=\"))\n",
    "n=int(input(\"n=\"))\n",
    "k1=int(input(\"k1=\"))\n",
    "k2=int(input(\"k2=\"))\n",
    "matrix=[[randint(0,10) for i in range(n)] for j in range(m)]\n",
    "for i in matrix:\n",
    "    print(*i)\n",
    "matrix[k1],matrix[k2]=matrix[k2],matrix[k1]\n",
    "print()\n",
    "for i in matrix:\n",
    "    print(*i)  "
   ]
  },
  {
   "cell_type": "code",
   "execution_count": 7,
   "id": "e62b54c7",
   "metadata": {},
   "outputs": [
    {
     "name": "stdout",
     "output_type": "stream",
     "text": [
      "m=4\n",
      "n=5\n",
      "k1=1\n",
      "k2=2\n",
      "8 6 3 1 2\n",
      "3 1 6 3 9\n",
      "1 10 7 5 8\n",
      "4 10 7 7 0\n",
      "\n",
      "8 3 6 1 2\n",
      "3 6 1 3 9\n",
      "1 7 10 5 8\n",
      "4 7 10 7 0\n"
     ]
    }
   ],
   "source": [
    "# matrix -48) k1 va k2 ustunlarni o`rnini almashtiring\n",
    "from random import randint\n",
    "m=int(input(\"m=\"))\n",
    "n=int(input(\"n=\"))\n",
    "k1=int(input(\"k1=\"))\n",
    "k2=int(input(\"k2=\"))\n",
    "matrix=[[randint(0,10) for i in range(n)] for j in range(m)]\n",
    "for i in matrix:\n",
    "    print(*i)\n",
    "for j in range(m):\n",
    "    matrix[j][k1],matrix[j][k2]=matrix[j][k2],matrix[j][k1]\n",
    "print()\n",
    "for i in matrix:\n",
    "    print(*i)  "
   ]
  },
  {
   "cell_type": "code",
   "execution_count": 8,
   "id": "f6a5f3e5",
   "metadata": {},
   "outputs": [
    {
     "name": "stdout",
     "output_type": "stream",
     "text": [
      "m=4\n",
      "n=5\n",
      "1 3 8 3 10\n",
      "3 7 1 0 1\n",
      "6 10 9 5 9\n",
      "2 5 2 6 1\n",
      "\n",
      "10 3 8 3 1\n",
      "3 0 1 7 1\n",
      "6 5 9 10 9\n",
      "2 5 2 1 6\n"
     ]
    }
   ],
   "source": [
    "# matrix -49) xar bir satrdagi eng katta va kichik el.lar o`rnini almashtiring\n",
    "from random import randint\n",
    "m=int(input(\"m=\"))\n",
    "n=int(input(\"n=\"))\n",
    "matrix=[[randint(0,10) for i in range(n)] for j in range(m)]\n",
    "for i in matrix:\n",
    "    print(*i)\n",
    "for j in range(m):\n",
    "    mini=matrix[j].index(min(matrix[j]))\n",
    "    maxi=matrix[j].index(max(matrix[j]))\n",
    "    matrix[j][mini],matrix[j][maxi]=matrix[j][maxi],matrix[j][mini]\n",
    "print()\n",
    "for i in matrix:\n",
    "    print(*i)  "
   ]
  },
  {
   "cell_type": "code",
   "execution_count": 12,
   "id": "d1d7159e",
   "metadata": {},
   "outputs": [
    {
     "name": "stdout",
     "output_type": "stream",
     "text": [
      "m=4\n",
      "n=5\n",
      "6 10 10 6 3\n",
      "10 6 0 4 6\n",
      "4 8 1 5 0\n",
      "7 8 4 8 1\n",
      "\n",
      "6 6 0 6 3\n",
      "4 10 10 8 0\n",
      "10 8 1 5 6\n",
      "7 8 4 4 1\n"
     ]
    }
   ],
   "source": [
    "# matrix -50) xar bir ustundagi eng katta va kichik el.lar o`rnini almashtiring\n",
    "from random import randint\n",
    "m=int(input(\"m=\"))\n",
    "n=int(input(\"n=\"))\n",
    "matrix=[[randint(0,10) for i in range(n)] for j in range(m)]\n",
    "for i in matrix:\n",
    "    print(*i)\n",
    "for i in range(n):\n",
    "    maxi,mini=matrix[0][i],matrix[0][i]\n",
    "    index_max,index_min=0,0\n",
    "    for j in range(m):\n",
    "        if matrix[j][i]>maxi:\n",
    "            maxi=matrix[j][i]\n",
    "            index_max=j\n",
    "        if matrix[j][i]<mini:\n",
    "            mini=matrix[j][i]\n",
    "            index_min=j\n",
    "    matrix[index_max][i],matrix[index_min][i]=matrix[index_min][i],matrix[index_max][i]\n",
    "print()\n",
    "for i in matrix:\n",
    "    print(*i)  "
   ]
  },
  {
   "cell_type": "code",
   "execution_count": 14,
   "id": "57280317",
   "metadata": {},
   "outputs": [
    {
     "name": "stdout",
     "output_type": "stream",
     "text": [
      "m=5\n",
      "n=5\n",
      "7 9 0 9 2\n",
      "1 3 9 4 5\n",
      "10 0 7 10 2\n",
      "6 4 2 2 7\n",
      "1 6 5 4 6\n",
      "\n",
      "10 0 7 10 2\n",
      "1 3 9 4 5\n",
      "7 9 0 9 2\n",
      "6 4 2 2 7\n",
      "1 6 5 4 6\n"
     ]
    }
   ],
   "source": [
    "# matrix -51) matritsadagi eng katta va kichik el.lar satrini almashtiring\n",
    "from random import randint\n",
    "m=int(input(\"m=\"))\n",
    "n=int(input(\"n=\"))\n",
    "matrix=[[randint(0,10) for i in range(n)] for j in range(m)]\n",
    "for i in matrix:\n",
    "    print(*i)\n",
    "maxi,mini=matrix[0][0],matrix[0][0]\n",
    "index_max,index_min=0,0\n",
    "for j in range(m):\n",
    "    if max(matrix[j])>maxi:\n",
    "        maxi=max(matrix[j])\n",
    "        index_max=j\n",
    "    if min(matrix[j])<mini:\n",
    "        mini=min(matrix[j])\n",
    "        index_min=j\n",
    "matrix[index_max],matrix[index_min]=matrix[index_min],matrix[index_max]\n",
    "print()\n",
    "for i in matrix:\n",
    "    print(*i)  "
   ]
  },
  {
   "cell_type": "code",
   "execution_count": 16,
   "id": "0d41a508",
   "metadata": {},
   "outputs": [
    {
     "name": "stdout",
     "output_type": "stream",
     "text": [
      "m=5\n",
      "n=5\n",
      "66 21 28 96 18\n",
      "55 44 32 64 27\n",
      "75 14 24 56 95\n",
      "53 19 60 49 36\n",
      "95 58 31 52 42\n",
      "\n",
      "66 96 28 21 18\n",
      "55 64 32 44 27\n",
      "75 56 24 14 95\n",
      "53 49 60 19 36\n",
      "95 52 31 58 42\n"
     ]
    }
   ],
   "source": [
    "# matrix -52) matritsadagi eng katta va kichik el.lar ustunini almashtiring\n",
    "from random import randint\n",
    "m=int(input(\"m=\"))\n",
    "n=int(input(\"n=\"))\n",
    "matrix=[[randint(0,100) for i in range(n)] for j in range(m)]\n",
    "for i in matrix:\n",
    "    print(*i)\n",
    "maxi,mini=matrix[0][0],matrix[0][0]\n",
    "index_max,index_min=0,0\n",
    "for j in range(m):\n",
    "    for i in range(n):\n",
    "        if matrix[j][i]>maxi:\n",
    "            maxi=matrix[j][i]\n",
    "            index_max=i\n",
    "        if matrix[j][i]<mini:\n",
    "            mini=matrix[j][i]\n",
    "            index_min=i\n",
    "for j in range(m):\n",
    "    matrix[j][index_max],matrix[j][index_min]=matrix[j][index_min],matrix[j][index_max]\n",
    "\n",
    "print()\n",
    "for i in matrix:\n",
    "    print(*i)  "
   ]
  },
  {
   "cell_type": "code",
   "execution_count": 26,
   "id": "7b039b6b",
   "metadata": {},
   "outputs": [
    {
     "name": "stdout",
     "output_type": "stream",
     "text": [
      "m=3\n",
      "n=4\n",
      "1 2 3 4\n",
      "1 2 -3 1\n",
      "1 1 2 1\n",
      "3\n",
      "4 2 3 1\n",
      "1 2 -3 1\n",
      "1 1 2 1\n"
     ]
    }
   ],
   "source": [
    "# matrix -53) matritsani dastlabki ustuni bilan faqat musbat sonlardan iborat oxirgi ustunni almashtirilsin\n",
    "from random import randint\n",
    "m=int(input(\"m=\"))\n",
    "n=int(input(\"n=\"))\n",
    "matrix=[[randint(-3,10) for i in range(n)] for j in range(m)]\n",
    "for i in matrix:\n",
    "    print(*i)\n",
    "index=-1\n",
    "for i in range(1,n):\n",
    "    for j in range(m):\n",
    "        if matrix[j][i]<=0:\n",
    "            break\n",
    "    else:\n",
    "        index=i\n",
    "    \n",
    "if index>=0:\n",
    "    for j in range(m):\n",
    "        matrix[j][0],matrix[j][index]=matrix[j][index],matrix[j][0]\n",
    "print()\n",
    "for i in matrix:\n",
    "    print(*i)"
   ]
  },
  {
   "cell_type": "code",
   "execution_count": 30,
   "id": "acdd2646",
   "metadata": {},
   "outputs": [
    {
     "name": "stdout",
     "output_type": "stream",
     "text": [
      "m=3\n",
      "n=6\n",
      "1 2 3 -4 -9 9\n",
      "2 3 4 -5 -10 9\n",
      "3 2 1 -1 -8 9\n",
      "3\n",
      "\n",
      "1 2 3 9 -9 -4\n",
      "2 3 4 9 -10 -5\n",
      "3 2 1 9 -8 -1\n"
     ]
    }
   ],
   "source": [
    "# matrix -54) oxirgi ustuni bilan faqat manfiy el.lardan tashkil topgan eng birinchi ustunni alm\n",
    "from random import randint\n",
    "m=int(input(\"m=\"))\n",
    "n=int(input(\"n=\"))\n",
    "matrix=[[randint(-10,10) for i in range(n)] for j in range(m)]\n",
    "for i in matrix:\n",
    "    print(*i)\n",
    "index=-1\n",
    "for i in range(1,n):\n",
    "    for j in range(m):\n",
    "        if matrix[j][i]>=0:\n",
    "            break\n",
    "    else:\n",
    "        index=i\n",
    "        break\n",
    "print(index)\n",
    "if index>=0:\n",
    "    for j in range(m):\n",
    "        matrix[j][-1],matrix[j][index]=matrix[j][index],matrix[j][-1]\n",
    "print()\n",
    "for i in matrix:\n",
    "    print(*i)"
   ]
  },
  {
   "cell_type": "code",
   "execution_count": 35,
   "id": "d40fcc36",
   "metadata": {},
   "outputs": [
    {
     "name": "stdout",
     "output_type": "stream",
     "text": [
      "m=5\n",
      "n=4\n",
      "5 6 6 7\n",
      "7 8 -10 1\n",
      "4 2 4 -4\n",
      "8 -4 8 -2\n",
      "-1 -1 -1 -8\n",
      "\n",
      "8 -4 8 -2\n",
      "-1 -1 -1 -8\n",
      "4 2 4 -4\n",
      "5 6 6 7\n",
      "7 8 -10 1\n"
     ]
    }
   ],
   "source": [
    "# matrix -55) teng yarmidan pastini tepasi bilan alm\n",
    "from random import randint\n",
    "m=int(input(\"m=\"))\n",
    "n=int(input(\"n=\"))\n",
    "matrix=[[randint(-10,10) for i in range(n)] for j in range(m)]\n",
    "for i in matrix:\n",
    "    print(*i)\n",
    "if m%2==0:\n",
    "    for j in range(m//2):\n",
    "        matrix[j],matrix[m//2+j]=matrix[m//2+j],matrix[j]\n",
    "else:\n",
    "    for j in range(m//2):\n",
    "        matrix[j],matrix[m//2+1+j]=matrix[m//2+1+j],matrix[j]\n",
    "print()\n",
    "for i in matrix:\n",
    "    print(*i)"
   ]
  },
  {
   "cell_type": "code",
   "execution_count": 38,
   "id": "7d9a1f75",
   "metadata": {},
   "outputs": [
    {
     "name": "stdout",
     "output_type": "stream",
     "text": [
      "m=5\n",
      "n=5\n",
      "0 -5 -4 7 5\n",
      "7 -2 -7 6 9\n",
      "-1 -8 -1 -2 0\n",
      "-2 0 -10 10 -6\n",
      "-5 2 10 -8 -1\n",
      "\n",
      "7 5 -4 0 -5\n",
      "6 9 -7 7 -2\n",
      "-2 0 -1 -1 -8\n",
      "10 -6 -10 -2 0\n",
      "-8 -1 10 -5 2\n"
     ]
    }
   ],
   "source": [
    "# matrix -56) teng yarmidan chap va o`ng qismini alm\n",
    "from random import randint\n",
    "m=int(input(\"m=\"))\n",
    "n=int(input(\"n=\"))\n",
    "matrix=[[randint(-10,10) for i in range(n)] for j in range(m)]\n",
    "for i in matrix:\n",
    "    print(*i)\n",
    "if n%2==0:\n",
    "    for i in range(n//2):\n",
    "        for j in range(m):\n",
    "            matrix[j][i],matrix[j][n//2+i]=matrix[j][n//2+i],matrix[j][i]\n",
    "else:\n",
    "    for i in range(n//2):\n",
    "        for j in range(m):\n",
    "            matrix[j][i],matrix[j][n//2+1+i]=matrix[j][n//2+1+i],matrix[j][i]\n",
    "print()\n",
    "for i in matrix:\n",
    "    print(*i)"
   ]
  },
  {
   "cell_type": "code",
   "execution_count": 40,
   "id": "dd9284eb",
   "metadata": {},
   "outputs": [
    {
     "name": "stdout",
     "output_type": "stream",
     "text": [
      "m=6\n",
      "n=4\n",
      "3 1 7 0\n",
      "-6 3 -6 -8\n",
      "-7 -6 -10 -2\n",
      "0 -9 -10 -3\n",
      "5 6 5 1\n",
      "9 4 -10 7\n",
      "\n",
      "-10 -3 7 0\n",
      "5 1 -6 -8\n",
      "-10 7 -10 -2\n",
      "0 -9 3 1\n",
      "5 6 -6 3\n",
      "9 4 -7 -6\n"
     ]
    }
   ],
   "source": [
    "# matrix -57) 1-chap yuqori,2-o`ng yuqori,3-chap past,4-o`ng past , 1 va 4 -qismni alm\n",
    "# m va n juft\n",
    "from random import randint\n",
    "m=int(input(\"m=\"))\n",
    "n=int(input(\"n=\"))\n",
    "matrix=[[randint(-10,10) for i in range(n)] for j in range(m)]\n",
    "for i in matrix:\n",
    "    print(*i)\n",
    "for i in range(n//2):\n",
    "        for j in range(m//2):\n",
    "            matrix[j][i],matrix[m//2+j][n//2+i]=matrix[m//2+j][n//2+i],matrix[j][i]\n",
    "print()\n",
    "for i in matrix:\n",
    "    print(*i)"
   ]
  },
  {
   "cell_type": "code",
   "execution_count": 42,
   "id": "d3455c07",
   "metadata": {},
   "outputs": [
    {
     "name": "stdout",
     "output_type": "stream",
     "text": [
      "m=6\n",
      "n=4\n",
      "-4 -4 1 -1\n",
      "4 -6 -1 -7\n",
      "-10 2 -4 0\n",
      "-7 10 -7 -3\n",
      "-7 -1 -9 -8\n",
      "-2 -7 3 2\n",
      "\n",
      "-4 -4 -7 10\n",
      "4 -6 -7 -1\n",
      "-10 2 -2 -7\n",
      "1 -1 -7 -3\n",
      "-1 -7 -9 -8\n",
      "-4 0 3 2\n"
     ]
    }
   ],
   "source": [
    "# matrix -58) 1-chap yuqori,2-o`ng yuqori,3-chap past,4-o`ng past , 2 va 3 -qismni alm\n",
    "# m va n juft\n",
    "from random import randint\n",
    "m=int(input(\"m=\"))\n",
    "n=int(input(\"n=\"))\n",
    "matrix=[[randint(-10,10) for i in range(n)] for j in range(m)]\n",
    "for i in matrix:\n",
    "    print(*i)\n",
    "for i in range(n//2,n):\n",
    "        for j in range(m//2):\n",
    "            matrix[j][i],matrix[m//2+j][i-n//2]=matrix[m//2+j][i-n//2],matrix[j][i]\n",
    "print()\n",
    "for i in matrix:\n",
    "    print(*i)"
   ]
  },
  {
   "cell_type": "code",
   "execution_count": 45,
   "id": "f27432d4",
   "metadata": {},
   "outputs": [
    {
     "name": "stdout",
     "output_type": "stream",
     "text": [
      "m=5\n",
      "n=4\n",
      "2 9 2 9\n",
      "9 8 -6 7\n",
      "0 -7 -10 2\n",
      "0 4 7 4\n",
      "3 -9 -3 -9\n",
      "\n",
      "3 -9 -3 -9\n",
      "0 4 7 4\n",
      "0 -7 -10 2\n",
      "9 8 -6 7\n",
      "2 9 2 9\n"
     ]
    }
   ],
   "source": [
    "# matrix -59) 0 va m-1 satr el.ri almashsin,1 va m-2 el.lari\n",
    "from random import randint\n",
    "m=int(input(\"m=\"))\n",
    "n=int(input(\"n=\"))\n",
    "matrix=[[randint(-10,10) for i in range(n)] for j in range(m)]\n",
    "for i in matrix:\n",
    "    print(*i)\n",
    "for j in range(m//2):\n",
    "        matrix[j],matrix[m-j-1]=matrix[m-j-1],matrix[j]\n",
    "print()\n",
    "for i in matrix:\n",
    "    print(*i)"
   ]
  },
  {
   "cell_type": "code",
   "execution_count": 30,
   "id": "60ce36a8",
   "metadata": {},
   "outputs": [
    {
     "name": "stdout",
     "output_type": "stream",
     "text": [
      "m=5\n",
      "n=5\n",
      "-8 2 -5 -4 5\n",
      "7 4 9 3 7\n",
      "5 -6 -4 9 -7\n",
      "8 0 9 -8 -8\n",
      "-5 -10 3 -3 5\n",
      "\n",
      "5 -4 -5 2 -8\n",
      "7 3 9 4 7\n",
      "-7 9 -4 -6 5\n",
      "-8 -8 9 0 8\n",
      "5 -3 3 -10 -5\n"
     ]
    }
   ],
   "source": [
    "# matrix -60) 0 va m-1 satr el.ri almashsin,1 va m-2 el.lari\n",
    "from random import randint\n",
    "m=int(input(\"m=\"))\n",
    "n=int(input(\"n=\"))\n",
    "matrix=[[randint(-10,10) for i in range(n)] for j in range(m)]\n",
    "for i in matrix:\n",
    "    print(*i)\n",
    "for j in range(m):\n",
    "        matrix[j].reverse()\n",
    "print()\n",
    "for i in matrix:\n",
    "    print(*i)"
   ]
  },
  {
   "cell_type": "code",
   "execution_count": 12,
   "id": "e7060c84",
   "metadata": {},
   "outputs": [
    {
     "name": "stdout",
     "output_type": "stream",
     "text": [
      "m = 3\n",
      "n = 2\n",
      "a : \n",
      "10 7\n",
      "4 8\n",
      "7 2\n",
      "b : \n",
      "3 2 7\n",
      "6 7 7\n",
      "a*b  :\n",
      "72 69 119\n",
      "60 64 84\n",
      "33 28 63\n"
     ]
    }
   ],
   "source": [
    "# matritsani matritsaga ko`paytirish\n",
    "from random import randint\n",
    "m = int(input(\"m = \"))\n",
    "n = int(input(\"n = \"))\n",
    "a = [[randint(1,10) for j in range(n)] for i in range(m)]\n",
    "b = [[randint(1,10) for j in range(m)] for i in range(n)]\n",
    "c = []\n",
    "print(\"a : \")\n",
    "for i in a:\n",
    "    print(*i)    \n",
    "print(\"b : \")\n",
    "for i in b:\n",
    "    print(*i)\n",
    "for i in range(m):\n",
    "    array = []\n",
    "    for j in range(m):\n",
    "        s = 0\n",
    "        for k in range(n):\n",
    "            s += a[i][k]*b[k][j]\n",
    "        array.append(s)\n",
    "    c.append(array)    \n",
    "print(\"a*b  :\")\n",
    "for i in c:\n",
    "    print(*i)"
   ]
  },
  {
   "cell_type": "code",
   "execution_count": 26,
   "id": "52c64aea",
   "metadata": {},
   "outputs": [
    {
     "name": "stdout",
     "output_type": "stream",
     "text": [
      "n = 1000\n",
      "[2, 3, 5, 7, 11, 13, 17, 19, 23, 29, 31, 37, 41, 43, 47, 53, 59, 61, 67, 71, 73, 79, 83, 89, 97, 101, 103, 107, 109, 113, 127, 131, 137, 139, 149, 151, 157, 163, 167, 173, 179, 181, 191, 193, 197, 199, 211, 223, 227, 229, 233, 239, 241, 251, 257, 263, 269, 271, 277, 281, 283, 293, 307, 311, 313, 317, 331, 337, 347, 349, 353, 359, 367, 373, 379, 383, 389, 397, 401, 409, 419, 421, 431, 433, 439, 443, 449, 457, 461, 463, 467, 479, 487, 491, 499, 503, 509, 521, 523, 541, 547, 557, 563, 569, 571, 577, 587, 593, 599, 601, 607, 613, 617, 619, 631, 641, 643, 647, 653, 659, 661, 673, 677, 683, 691, 701, 709, 719, 727, 733, 739, 743, 751, 757, 761, 769, 773, 787, 797, 809, 811, 821, 823, 827, 829, 839, 853, 857, 859, 863, 877, 881, 883, 887, 907, 911, 919, 929, 937, 941, 947, 953, 967, 971, 977, 983, 991, 997]\n",
      "1472\n",
      "168\n"
     ]
    }
   ],
   "source": [
    "# tub sonlar optimallashtirish\n",
    "n = int(input(\"n = \"))\n",
    "tub = [3]\n",
    "sanoq=0;j=0; i=5\n",
    "while i<n:    \n",
    "    while int(i**0.5)>=tub[j]:\n",
    "        if i%tub[j]==0:\n",
    "            j=0\n",
    "            break\n",
    "        else:\n",
    "            j+=1\n",
    "        sanoq+=1\n",
    "    else:\n",
    "        tub.append(i)\n",
    "        j=0\n",
    "    i+=2\n",
    "tub.insert(0,2)\n",
    "print(tub)\n",
    "print(sanoq)\n",
    "print(len(tub))"
   ]
  },
  {
   "cell_type": "code",
   "execution_count": 27,
   "id": "103ca6ff",
   "metadata": {},
   "outputs": [
    {
     "name": "stdout",
     "output_type": "stream",
     "text": [
      "n = 1000\n",
      "Sanagich :  999 \n",
      " 2 3 5 7 11 13 17 19 23 29 31 37 41 43 47 53 59 61 67 71 73 79 83 89 97 101 103 107 109 113 127 131 137 139 149 151 157 163 167 173 179 181 191 193 197 199 211 223 227 229 233 239 241 251 257 263 269 271 277 281 283 293 307 311 313 317 331 337 347 349 353 359 367 373 379 383 389 397 401 409 419 421 431 433 439 443 449 457 461 463 467 479 487 491 499 503 509 521 523 541 547 557 563 569 571 577 587 593 599 601 607 613 617 619 631 641 643 647 653 659 661 673 677 683 691 701 709 719 727 733 739 743 751 757 761 769 773 787 797 809 811 821 823 827 829 839 853 857 859 863 877 881 883 887 907 911 919 929 937 941 947 953 967 971 977 983 991 997\n",
      "168\n"
     ]
    }
   ],
   "source": [
    "# Tub sonlar Nurgeldi\n",
    "n = int(input(\"n = \"))\n",
    "sana = 0\n",
    "tub_sonlar = [3,5,7]\n",
    "for i in range(11,n+1,2):\n",
    "    #sana += 1\n",
    "    if i%3==0 or i%5==0 or i%7==0:\n",
    "        sana+=1\n",
    "        continue\n",
    "    j = 3 if len(tub_sonlar)>3 else 0\n",
    "    while tub_sonlar[j]<=int(i**0.5):\n",
    "        sana+=1\n",
    "        if i%tub_sonlar[j]==0:\n",
    "            break\n",
    "        j += 1\n",
    "    else:\n",
    "        tub_sonlar.append(i)\n",
    "\n",
    "tub_sonlar.insert(0,2)\n",
    "print(\"Sanagich : \", sana, \"\\n\", *tub_sonlar)\n",
    "print(len(tub_sonlar))\n"
   ]
  },
  {
   "cell_type": "code",
   "execution_count": 2,
   "id": "e4b71176",
   "metadata": {},
   "outputs": [
    {
     "name": "stdout",
     "output_type": "stream",
     "text": [
      "a true\n"
     ]
    }
   ],
   "source": [
    "# Tubsonlar Farrux\n",
    "\n",
    "n = int(input(\"n = \"))\n",
    "Tub = [2,3,5,7]\n",
    "sanoq2 = 0\n",
    "for i in range(11,n+1,2):\n",
    "    flag = True\n",
    "    for j in Tub:\n",
    "        sanoq2+=1\n",
    "        if j>i**0.5:\n",
    "            flag = True\n",
    "            break\n",
    "        if i%j==0:\n",
    "            flag = False\n",
    "            break\n",
    "    if flag:\n",
    "        Tub.append(i)\n",
    "print(Tub)\n",
    "print(sanoq2)\n",
    "print(len(Tub))"
   ]
  },
  {
   "cell_type": "code",
   "execution_count": 29,
   "id": "b146dc42",
   "metadata": {},
   "outputs": [
    {
     "name": "stdout",
     "output_type": "stream",
     "text": [
      "k= 168   l= 0\n"
     ]
    }
   ],
   "source": [
    "l=0;k=0\n",
    "for i in range(168):\n",
    "    if tub[i]==tub_sonlar[i]:\n",
    "        k+=1\n",
    "    else:\n",
    "        l+=1\n",
    "print(\"k=\",k,\"  l=\",l)"
   ]
  }
 ],
 "metadata": {
  "kernelspec": {
   "display_name": "Python 3 (ipykernel)",
   "language": "python",
   "name": "python3"
  },
  "language_info": {
   "codemirror_mode": {
    "name": "ipython",
    "version": 3
   },
   "file_extension": ".py",
   "mimetype": "text/x-python",
   "name": "python",
   "nbconvert_exporter": "python",
   "pygments_lexer": "ipython3",
   "version": "3.8.10"
  }
 },
 "nbformat": 4,
 "nbformat_minor": 5
}
