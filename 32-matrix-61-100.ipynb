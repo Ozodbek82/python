{
 "cells": [
  {
   "cell_type": "code",
   "execution_count": 2,
   "id": "08dbec9c",
   "metadata": {},
   "outputs": [
    {
     "name": "stdout",
     "output_type": "stream",
     "text": [
      "m=5\n",
      "n=5\n",
      "k=3\n",
      "4 -3 5 10 -9\n",
      "-9 -2 6 9 9\n",
      "-2 -4 10 8 1\n",
      "6 8 -1 -2 8\n",
      "-10 8 5 -10 -9\n",
      "\n",
      "4 -3 5 10 -9\n",
      "-9 -2 6 9 9\n",
      "-2 -4 10 8 1\n",
      "-10 8 5 -10 -9\n"
     ]
    }
   ],
   "source": [
    "# matrix -61) k- satrini o`chiruvchi\n",
    "from random import randint\n",
    "m=int(input(\"m=\"))\n",
    "n=int(input(\"n=\"))\n",
    "k=int(input(\"k=\"))\n",
    "matrix=[[randint(-10,10) for i in range(n)] for j in range(m)]\n",
    "for i in matrix:\n",
    "    print(*i)\n",
    "matrix.pop(k)\n",
    "print()\n",
    "for i in matrix:\n",
    "    print(*i)"
   ]
  },
  {
   "cell_type": "code",
   "execution_count": 3,
   "id": "2d0a9336",
   "metadata": {},
   "outputs": [
    {
     "name": "stdout",
     "output_type": "stream",
     "text": [
      "m=5\n",
      "n=5\n",
      "k=3\n",
      "-6 -9 -5 7 -10\n",
      "9 -10 7 -4 9\n",
      "-10 -2 2 10 9\n",
      "-3 0 1 7 -5\n",
      "1 3 5 1 3\n",
      "\n",
      "-6 -9 -5 -10\n",
      "9 -10 7 9\n",
      "-10 -2 2 9\n",
      "-3 0 1 -5\n",
      "1 3 5 3\n"
     ]
    }
   ],
   "source": [
    "# matrix -62) k- ustunini o`chiruvchi\n",
    "from random import randint\n",
    "m=int(input(\"m=\"))\n",
    "n=int(input(\"n=\"))\n",
    "k=int(input(\"k=\"))\n",
    "matrix=[[randint(-10,10) for i in range(n)] for j in range(m)]\n",
    "for i in matrix:\n",
    "    print(*i)\n",
    "for j in range(m):\n",
    "    matrix[j].pop(k)\n",
    "print()\n",
    "for i in matrix:\n",
    "    print(*i)"
   ]
  },
  {
   "cell_type": "code",
   "execution_count": 7,
   "id": "affa987e",
   "metadata": {},
   "outputs": [
    {
     "name": "stdout",
     "output_type": "stream",
     "text": [
      "m=5\n",
      "n=5\n",
      "-3 0 -6 -2 -3\n",
      "1 -6 -6 -3 8\n",
      "-8 7 6 -1 -10\n",
      "5 -8 -9 5 -10\n",
      "-1 -5 0 4 -6\n",
      "\n",
      "-3 0 -6 -2 -3\n",
      "1 -6 -6 -3 8\n",
      "5 -8 -9 5 -10\n",
      "-1 -5 0 4 -6\n"
     ]
    }
   ],
   "source": [
    "# matrix -63) eng kichik el. joylashgan satrni o`chiruvchi\n",
    "from random import randint\n",
    "m=int(input(\"m=\"))\n",
    "n=int(input(\"n=\"))\n",
    "matrix=[[randint(-10,10) for i in range(n)] for j in range(m)]\n",
    "for i in matrix:\n",
    "    print(*i)\n",
    "mini=min(matrix[0])\n",
    "index=0\n",
    "for j in range(m):\n",
    "    if mini>min(matrix[j]):\n",
    "        mini=min(matrix[j])\n",
    "        index=j\n",
    "matrix.pop(index)\n",
    "print()\n",
    "for i in matrix:\n",
    "    print(*i)"
   ]
  },
  {
   "cell_type": "code",
   "execution_count": 13,
   "id": "8ad6d531",
   "metadata": {},
   "outputs": [
    {
     "name": "stdout",
     "output_type": "stream",
     "text": [
      "m=5\n",
      "n=5\n",
      "8 -5 8 10 -4\n",
      "-4 -3 10 8 -6\n",
      "-7 -9 -7 -2 3\n",
      "10 -6 -7 -9 5\n",
      "1 6 -2 -1 -9\n",
      "0 10\n",
      "\n",
      "8 -5 8 -4\n",
      "-4 -3 10 -6\n",
      "-7 -9 -7 3\n",
      "10 -6 -7 5\n",
      "1 6 -2 -9\n"
     ]
    }
   ],
   "source": [
    "# matrix -64) eng katta el. joylashgan ustunni o`chiruvchi\n",
    "from random import randint\n",
    "m=int(input(\"m=\"))\n",
    "n=int(input(\"n=\"))\n",
    "matrix=[[randint(-10,10) for i in range(n)] for j in range(m)]\n",
    "for i in matrix:\n",
    "    print(*i)\n",
    "maxi=max(matrix[0])\n",
    "index=0\n",
    "for j in range(m):\n",
    "    if maxi<max(matrix[j]):\n",
    "        maxi=max(matrix[j])\n",
    "        index=j\n",
    "# maxi turgan ustunni topamiz\n",
    "ustun=matrix[index].index(maxi)\n",
    "for j in range(m):    \n",
    "    matrix[j].pop(ustun)\n",
    "print()\n",
    "for i in matrix:\n",
    "    print(*i)"
   ]
  },
  {
   "cell_type": "code",
   "execution_count": 18,
   "id": "adce048e",
   "metadata": {},
   "outputs": [
    {
     "name": "stdout",
     "output_type": "stream",
     "text": [
      "m=3\n",
      "n=6\n",
      "0 1 7 7 0 7\n",
      "5 -1 5 1 -1 6\n",
      "0 -1 -1 10 10 4\n",
      "\n",
      "0 1 7 0 7\n",
      "5 -1 5 -1 6\n",
      "0 -1 -1 10 4\n"
     ]
    }
   ],
   "source": [
    "# matrix -65) faqat musbat el.li birinchi uchragan ustunni o`chiruvchi\n",
    "from random import randint\n",
    "m=int(input(\"m=\"))\n",
    "n=int(input(\"n=\"))\n",
    "matrix=[[randint(-3,10) for i in range(n)] for j in range(m)]\n",
    "for i in matrix:\n",
    "    print(*i)\n",
    "for i in range(n):\n",
    "    for j in range(m):\n",
    "        if matrix[j][i]<=0:\n",
    "            break\n",
    "    else:\n",
    "        for j in range(m):\n",
    "            matrix[j].pop(i)\n",
    "        break\n",
    "print()\n",
    "for i in matrix:\n",
    "    print(*i)"
   ]
  },
  {
   "cell_type": "code",
   "execution_count": 24,
   "id": "25d0948f",
   "metadata": {},
   "outputs": [
    {
     "name": "stdout",
     "output_type": "stream",
     "text": [
      "m=3\n",
      "n=6\n",
      "-3 -2 1 0 -10 -3\n",
      "-5 -3 -9 -7 -3 0\n",
      "0 -4 1 -5 -8 -9\n",
      "\n",
      "-3 -2 1 0 -3\n",
      "-5 -3 -9 -7 0\n",
      "0 -4 1 -5 -9\n"
     ]
    }
   ],
   "source": [
    "# matrix -66) faqat manfiy el.li oxirgi uchragan ustunni o`chiruvchi\n",
    "from random import randint\n",
    "m=int(input(\"m=\"))\n",
    "n=int(input(\"n=\"))\n",
    "matrix=[[randint(-10,1) for i in range(n)] for j in range(m)]\n",
    "for i in matrix:\n",
    "    print(*i)\n",
    "for i in range(n-1,-1,-1):\n",
    "    for j in range(m):\n",
    "        if matrix[j][i]>=0:\n",
    "            break\n",
    "    else:\n",
    "        for j in range(m):\n",
    "            matrix[j].pop(i)\n",
    "        break\n",
    "print()\n",
    "for i in matrix:\n",
    "    print(*i)"
   ]
  },
  {
   "cell_type": "code",
   "execution_count": 36,
   "id": "75b261af",
   "metadata": {},
   "outputs": [
    {
     "name": "stdout",
     "output_type": "stream",
     "text": [
      "m=6\n",
      "n=3\n",
      "0 -1 10\n",
      "-1 5 0\n",
      "7 5 8\n",
      "6 10 2\n",
      "9 7 0\n",
      "10 -1 5\n",
      "\n",
      "0 -1 10\n",
      "-1 5 0\n",
      "9 7 0\n",
      "10 -1 5\n"
     ]
    }
   ],
   "source": [
    "\n",
    "#faqat musbat el.li barcha satrlarni o`chiruvchi\n",
    "from random import randint\n",
    "m=int(input(\"m=\"))\n",
    "n=int(input(\"n=\"))\n",
    "matrix=[[randint(-1,10) for i in range(n)] for j in range(m)]\n",
    "for i in matrix:\n",
    "    print(*i)\n",
    "j=0\n",
    "while j<len(matrix):\n",
    "    if min(matrix[j])>0:\n",
    "        matrix.pop(j)\n",
    "        continue\n",
    "    else:\n",
    "        j+=1\n",
    "print()\n",
    "for i in matrix:\n",
    "    print(*i)"
   ]
  },
  {
   "cell_type": "code",
   "execution_count": 3,
   "id": "d3cf6096",
   "metadata": {},
   "outputs": [
    {
     "name": "stdout",
     "output_type": "stream",
     "text": [
      "m=3\n",
      "n=6\n",
      "0 10 2 8 -1 6\n",
      "9 6 3 9 1 4\n",
      "5 7 3 10 10 8\n",
      "\n",
      "0 -1\n",
      "9 1\n",
      "5 10\n"
     ]
    }
   ],
   "source": [
    "# matrix -67) faqat musbat el.li barcha ustunlarni o`chiruvchi\n",
    "from random import randint\n",
    "m=int(input(\"m=\"))\n",
    "n=int(input(\"n=\"))\n",
    "matrix=[[randint(-1,10) for i in range(n)] for j in range(m)]\n",
    "for i in matrix:\n",
    "    print(*i)\n",
    "for i in range(n-1,-1,-1):\n",
    "    for j in range(m):\n",
    "        if matrix[j][i]<=0:\n",
    "            break\n",
    "    else:\n",
    "        for k in range(m):\n",
    "            matrix[k].pop(i)\n",
    "print()\n",
    "for i in matrix:\n",
    "    print(*i)"
   ]
  },
  {
   "cell_type": "code",
   "execution_count": null,
   "id": "fa7e4e3b",
   "metadata": {},
   "outputs": [],
   "source": [
    "# matrix -67) public version faqat musbat el.li barcha ustunlarni o`chiruvchi\n",
    "n = int(input(\"n = \"))\n",
    "m = int(input(\"m = \"))\n",
    "matrix = [[randint(-1,5) for j in range(m)] for i in range(n)]\n",
    "\n",
    "for i in matrix:\n",
    "    print(*i)\n",
    "\n",
    "print()\n",
    "j = 0\n",
    "while j<len(matrix[0]):\n",
    "    for i in range(len(matrix)):\n",
    "        if matrix[i][j] <= 0:\n",
    "            break\n",
    "    else:\n",
    "        for k in range(len(matrix)):\n",
    "            matrix[k].pop(j)\n",
    "        j-=1\n",
    "    j+=1\n",
    "            \n",
    "            \n",
    "for i in matrix:\n",
    "    print(*i)"
   ]
  },
  {
   "cell_type": "code",
   "execution_count": 39,
   "id": "b8953e67",
   "metadata": {},
   "outputs": [
    {
     "name": "stdout",
     "output_type": "stream",
     "text": [
      "m=5\n",
      "n=5\n",
      "k=0\n",
      "1 4 9 2 3\n",
      "10 10 3 6 3\n",
      "-1 2 8 3 -1\n",
      "10 2 9 0 3\n",
      "0 6 1 9 2\n",
      "\n",
      "0 0 0 0 0\n",
      "1 4 9 2 3\n",
      "10 10 3 6 3\n",
      "-1 2 8 3 -1\n",
      "10 2 9 0 3\n",
      "0 6 1 9 2\n"
     ]
    }
   ],
   "source": [
    "# matrix -68) k-satr oldiga el.lari faqat noldan iborat satr qo`shing\n",
    "from random import randint\n",
    "m=int(input(\"m=\"))\n",
    "n=int(input(\"n=\"))\n",
    "k=int(input(\"k=\"))\n",
    "matrix=[[randint(-1,10) for i in range(n)] for j in range(m)]\n",
    "for i in matrix:\n",
    "    print(*i)\n",
    "matrix.insert(k,[0 for i in range(n)])\n",
    "print()\n",
    "for i in matrix:\n",
    "    print(*i)"
   ]
  },
  {
   "cell_type": "code",
   "execution_count": 40,
   "id": "aa583ff8",
   "metadata": {},
   "outputs": [
    {
     "name": "stdout",
     "output_type": "stream",
     "text": [
      "m=5\n",
      "n=5\n",
      "k=2\n",
      "6 9 9 4 6\n",
      "4 1 5 2 2\n",
      "-1 7 7 6 7\n",
      "-1 8 5 7 8\n",
      "2 0 7 4 10\n",
      "\n",
      "6 9 9 1 4 6\n",
      "4 1 5 1 2 2\n",
      "-1 7 7 1 6 7\n",
      "-1 8 5 1 7 8\n",
      "2 0 7 1 4 10\n"
     ]
    }
   ],
   "source": [
    "# matrix -69) k-ustundan keyin el.lari faqat birdan iborat ustun qo`shing\n",
    "from random import randint\n",
    "m=int(input(\"m=\"))\n",
    "n=int(input(\"n=\"))\n",
    "k=int(input(\"k=\"))\n",
    "matrix=[[randint(-1,10) for i in range(n)] for j in range(m)]\n",
    "for i in matrix:\n",
    "    print(*i)\n",
    "for j in range(m):\n",
    "    matrix[j].insert(k+1,1)\n",
    "print()\n",
    "for i in matrix:\n",
    "    print(*i)"
   ]
  },
  {
   "cell_type": "code",
   "execution_count": null,
   "id": "c63911ee",
   "metadata": {},
   "outputs": [],
   "source": [
    "# matrix -69) public version k-ustundan keyin el.lari faqat birdan iborat ustun qo`shing\n",
    "m = int(input('m='))\n",
    "n = int(input('n='))\n",
    "k = int(input('k='))\n",
    "matrix = [[randint(1,9) for _ in range(n)] for _ in range(m)]\n",
    "\n",
    "for i in matrix:\n",
    "    print(*i)\n",
    "print()\n",
    "\n",
    "while 0>k or k+1>=n:\n",
    "    print('k sonini 0<=k<m oraliqda kiriting!!!')\n",
    "    k = int(input('k='))\n",
    "\n",
    "\n",
    "for i in range(len(matrix)):\n",
    "    matrix[i].insert(k+1,1)\n",
    "        \n",
    "for i in matrix:\n",
    "    print(*i)\n"
   ]
  },
  {
   "cell_type": "code",
   "execution_count": 41,
   "id": "03a938f4",
   "metadata": {},
   "outputs": [
    {
     "name": "stdout",
     "output_type": "stream",
     "text": [
      "m=5\n",
      "n=5\n",
      "k=2\n",
      "1 0 3 4 6\n",
      "2 9 9 4 7\n",
      "0 10 8 6 10\n",
      "0 7 9 8 9\n",
      "5 0 9 2 2\n",
      "\n",
      "1 0 3 4 6\n",
      "2 9 9 4 7\n",
      "0 10 8 6 10\n",
      "0 10 8 6 10\n",
      "0 7 9 8 9\n",
      "5 0 9 2 2\n"
     ]
    }
   ],
   "source": [
    "# matrix -70) matritsani eng katta el. joylashgan satrdan keyin yana shunday satr qo`shing\n",
    "from random import randint\n",
    "m=int(input(\"m=\"))\n",
    "n=int(input(\"n=\"))\n",
    "matrix=[[randint(-1,10) for i in range(n)] for j in range(m)]\n",
    "for i in matrix:\n",
    "    print(*i)\n",
    "maxi=max(matrix[0])\n",
    "index=0\n",
    "for j in range(1,m):\n",
    "    if max(matrix[j])>maxi:\n",
    "        maxi=max(matrix[j])\n",
    "        index=j\n",
    "matrix.insert(index+1,matrix[index])\n",
    "print()\n",
    "for i in matrix:\n",
    "    print(*i)"
   ]
  },
  {
   "cell_type": "code",
   "execution_count": 1,
   "id": "7a79e94b",
   "metadata": {},
   "outputs": [
    {
     "name": "stdout",
     "output_type": "stream",
     "text": [
      "m=5\n",
      "n=5\n",
      "0 9 3 8 2\n",
      "4 5 5 7 10\n",
      "7 4 7 7 3\n",
      "10 5 -1 9 3\n",
      "1 1 10 8 7\n",
      "\n",
      "0 9 3 3 8 2\n",
      "4 5 5 5 7 10\n",
      "7 4 7 7 7 3\n",
      "10 5 -1 -1 9 3\n",
      "1 1 10 10 8 7\n"
     ]
    }
   ],
   "source": [
    "# matrix -71) matritsani eng kichik el. joylashgan ustundan keyin yana shunday ustun qo`shing\n",
    "from random import randint\n",
    "m=int(input(\"m=\"))\n",
    "n=int(input(\"n=\"))\n",
    "matrix=[[randint(-1,10) for i in range(n)] for j in range(m)]\n",
    "for i in matrix:\n",
    "    print(*i)\n",
    "mini=matrix[0][0]\n",
    "index=0\n",
    "for i in range(n):\n",
    "    for j in range(m):\n",
    "        if matrix[j][i]<mini:\n",
    "            mini=matrix[j][i]\n",
    "            index=i\n",
    "for j in range(m):\n",
    "    matrix[j].insert(index,matrix[j][index])\n",
    "print()\n",
    "for i in matrix:\n",
    "    print(*i)"
   ]
  },
  {
   "cell_type": "code",
   "execution_count": 25,
   "id": "410b3aca",
   "metadata": {},
   "outputs": [
    {
     "name": "stdout",
     "output_type": "stream",
     "text": [
      "m=3\n",
      "n=9\n",
      "1 -3 4 -2 -9 -7 -7 2 4\n",
      "2 1 -10 -2 -8 7 0 1 1\n",
      "-6 1 -6 9 -7 5 -6 0 4\n",
      "\n",
      "1 -3 4 -2 -9 -7 -7 2 1 4\n",
      "2 1 -10 -2 -8 7 0 1 1 1\n",
      "-6 1 -6 9 -7 5 -6 0 1 4\n"
     ]
    }
   ],
   "source": [
    "# matrix -72) matritsani faqat musbat el.laridan tashkil topgan birinchi uchragan\n",
    "# ustundan oldin el.lari 1 dan iborat ustun qo`shing\n",
    "from random import randint\n",
    "m=int(input(\"m=\"))\n",
    "n=int(input(\"n=\"))\n",
    "matrix=[[randint(-10,10) for i in range(n)] for j in range(m)]\n",
    "\n",
    "for i in matrix:\n",
    "    print(*i)\n",
    "index=-1\n",
    "for i in range(n):\n",
    "    for j in range(m):\n",
    "        if matrix[j][i]<=0:\n",
    "            break\n",
    "    else:\n",
    "        index=i\n",
    "        break\n",
    "if index!=-1:\n",
    "    for j in range(m):\n",
    "        matrix[j].insert(index,1)       \n",
    "print()\n",
    "for i in matrix:\n",
    "    print(*i)"
   ]
  },
  {
   "cell_type": "code",
   "execution_count": 22,
   "id": "37b977f7",
   "metadata": {},
   "outputs": [
    {
     "name": "stdout",
     "output_type": "stream",
     "text": [
      "m=3\n",
      "n=9\n",
      "-1 -6 -7 -4 -3 -8 -8 -10 -8\n",
      "1 -3 -10 -8 -5 -4 -2 -7 -8\n",
      "-6 -9 1 -9 -10 -9 -2 0 -7\n",
      "\n",
      "-1 -6 -7 -4 -3 -8 -8 -10 -8 0\n",
      "1 -3 -10 -8 -5 -4 -2 -7 -8 0\n",
      "-6 -9 1 -9 -10 -9 -2 0 -7 0\n"
     ]
    }
   ],
   "source": [
    "# matrix -73) matritsani faqat manfiy el.laridan tashkil topgan oxirgi uchragan\n",
    "# ustundan keyin el.lari 0 dan iborat ustun qo`shing\n",
    "from random import randint\n",
    "m=int(input(\"m=\"))\n",
    "n=int(input(\"n=\"))\n",
    "matrix=[[randint(-10,1) for i in range(n)] for j in range(m)]\n",
    "index=-1\n",
    "for i in matrix:\n",
    "    print(*i)\n",
    "for i in range(n-1,-1,-1):\n",
    "    for j in range(m):\n",
    "        if matrix[j][i]>=0:\n",
    "            break\n",
    "    else:\n",
    "        index=i+1\n",
    "        break\n",
    "if index!=-1:\n",
    "    for j in range(m):\n",
    "        matrix[j].insert(index,0)       \n",
    "print()\n",
    "for i in matrix:\n",
    "    print(*i)"
   ]
  },
  {
   "cell_type": "code",
   "execution_count": 13,
   "id": "47d1afa2",
   "metadata": {},
   "outputs": [
    {
     "name": "stdout",
     "output_type": "stream",
     "text": [
      "m=6\n",
      "n=5\n",
      "1 9 8 4 4\n",
      "4 8 4 2 4\n",
      "7 6 8 1 3\n",
      "4 2 4 6 9\n",
      "9 5 3 8 2\n",
      "4 9 6 3 6\n",
      "\n",
      "0 9 8 4 4\n",
      "4 8 4 2 4\n",
      "7 6 8 0 3\n",
      "4 0 4 6 9\n",
      "9 5 0 8 0\n",
      "0 9 6 0 6\n"
     ]
    }
   ],
   "source": [
    "# matrix -74) matritsani barcha lokal minimumlarini nolga almashtiring\n",
    "def local_min(j,i):\n",
    "    tepa=j-1; past=j+1; ong=i+1; chap=i-1\n",
    "    if tepa<0 or matrix[j][i]<matrix[j-1][i]:\n",
    "        tepa=True\n",
    "    else:\n",
    "        tepa=False\n",
    "    if past>m-1 or matrix[j][i]<matrix[j+1][i]:\n",
    "        past=True\n",
    "    else:\n",
    "        past=False\n",
    "    if ong>n-1 or matrix[j][i]<matrix[j][i+1]:\n",
    "        ong=True\n",
    "    else:\n",
    "        ong=False\n",
    "    if chap<0 or matrix[j][i]<matrix[j][i-1]:\n",
    "        chap=True\n",
    "    else:\n",
    "        chap=False\n",
    "    if tepa and past and ong and chap:\n",
    "        return True\n",
    "    else:\n",
    "        return False\n",
    "from random import randint\n",
    "m=int(input(\"m=\"))\n",
    "n=int(input(\"n=\"))\n",
    "matrix1=[[randint(1,10) for i in range(n)] for j in range(m)]\n",
    "matrix=[]\n",
    "for i in matrix1:\n",
    "    matrix.append(i.copy())\n",
    "    print(*i)\n",
    "for j in range(m):\n",
    "    for i in range(n):\n",
    "        if local_min(j,i):\n",
    "            matrix1[j][i]=0\n",
    "print()\n",
    "for i in matrix1:\n",
    "    print(*i)"
   ]
  },
  {
   "cell_type": "code",
   "execution_count": 5,
   "id": "50debda6",
   "metadata": {},
   "outputs": [
    {
     "name": "stdout",
     "output_type": "stream",
     "text": [
      "False\n"
     ]
    }
   ],
   "source": [
    "print(True and True and False)"
   ]
  },
  {
   "cell_type": "code",
   "execution_count": 16,
   "id": "b5efc0ef",
   "metadata": {},
   "outputs": [
    {
     "name": "stdout",
     "output_type": "stream",
     "text": [
      "m=6\n",
      "n=6\n",
      "4 10 3 8 4 8\n",
      "5 10 3 2 3 6\n",
      "6 7 2 3 8 6\n",
      "7 9 3 9 2 9\n",
      "1 7 5 10 1 7\n",
      "9 4 6 2 7 5\n",
      "\n",
      "4 10 3 0 4 0\n",
      "5 10 3 2 3 6\n",
      "6 7 2 3 0 6\n",
      "7 0 3 9 2 0\n",
      "1 7 5 0 1 7\n",
      "0 4 0 2 0 5\n"
     ]
    }
   ],
   "source": [
    "# matrix -75) matritsani barcha lokal maksimumlarini nolga almashtiring\n",
    "def local_max(j,i):   \n",
    "    tepa=j-1; past=j+1; ong=i+1; chap=i-1\n",
    "    if tepa<0 or matrix[j][i]>matrix[j-1][i]:\n",
    "        tepa=True\n",
    "    else:\n",
    "        tepa=False\n",
    "    if past>m-1 or matrix[j][i]>matrix[j+1][i]:\n",
    "        past=True\n",
    "    else:\n",
    "        past=False\n",
    "    if ong>n-1 or matrix[j][i]>matrix[j][i+1]:\n",
    "        ong=True\n",
    "    else:\n",
    "        ong=False\n",
    "    if chap<0 or matrix[j][i]>matrix[j][i-1]:\n",
    "        chap=True\n",
    "    else:\n",
    "        chap=False\n",
    "    if tepa and past and ong and chap:\n",
    "        return True\n",
    "    else:\n",
    "        return False\n",
    "from random import randint\n",
    "m=int(input(\"m=\"))\n",
    "n=int(input(\"n=\"))\n",
    "matrix1=[[randint(1,10) for i in range(n)] for j in range(m)]\n",
    "matrix=[]    \n",
    "for i in matrix1:\n",
    "    matrix.append(i.copy())\n",
    "    print(*i)\n",
    "for j in range(m):\n",
    "    for i in range(n):\n",
    "        if local_max(j,i):\n",
    "            matrix1[j][i]=0\n",
    "print()\n",
    "for i in matrix1:\n",
    "    print(*i)"
   ]
  },
  {
   "cell_type": "code",
   "execution_count": 23,
   "id": "cd1463eb",
   "metadata": {},
   "outputs": [
    {
     "name": "stdout",
     "output_type": "stream",
     "text": [
      "[[1, 2, 3], [1, 2, 3], [1, 2, 3]]\n",
      "[[1, 2, 3], [1, 9, 3], [1, 2, 3]]\n"
     ]
    }
   ],
   "source": [
    "a=[\n",
    "    [1,4,3,5,3],\n",
    "    [3,-2,-1,2,3],\n",
    "    [1,4,3,5,3]\n",
    "]\n",
    "c=[]\n",
    "for i in a:\n",
    "    c.append(i.copy())\n",
    "c[1][1]=9\n",
    "print(a)\n",
    "print(c)"
   ]
  },
  {
   "cell_type": "code",
   "execution_count": null,
   "id": "5fd65602",
   "metadata": {},
   "outputs": [],
   "source": []
  },
  {
   "cell_type": "code",
   "execution_count": 38,
   "id": "8a71f5f9",
   "metadata": {},
   "outputs": [
    {
     "name": "stdout",
     "output_type": "stream",
     "text": [
      "m=8\n",
      "n=3\n",
      "3 6 3\n",
      "2 2 4\n",
      "6 10 2\n",
      "3 4 4\n",
      "3 2 7\n",
      "5 6 1\n",
      "7 9 7\n",
      "4 10 9\n",
      "\n",
      "2 2 4\n",
      "3 6 3\n",
      "3 4 4\n",
      "3 2 7\n",
      "4 10 9\n",
      "5 6 1\n",
      "6 10 2\n",
      "7 9 7\n"
     ]
    }
   ],
   "source": [
    "# matrix -76) matritsani satrlarini shunday joylashtiringki 0-ustun o`suvchi tartibda bo`lsin\n",
    "from random import randint\n",
    "m=int(input(\"m=\"))\n",
    "n=int(input(\"n=\"))\n",
    "matrix=[[randint(1,10) for i in range(n)] for j in range(m)]\n",
    "a=[]\n",
    "for i in matrix:\n",
    "    print(*i)\n",
    "for i in range(m):\n",
    "    for k in range(1,m-i):\n",
    "        if matrix[k-1][0]>matrix[k][0]:\n",
    "            matrix[k-1],matrix[k]=matrix[k],matrix[k-1]\n",
    "print()\n",
    "for i in matrix:\n",
    "    print(*i)"
   ]
  },
  {
   "cell_type": "code",
   "execution_count": 50,
   "id": "a88019a5",
   "metadata": {},
   "outputs": [
    {
     "name": "stdout",
     "output_type": "stream",
     "text": [
      "m=3\n",
      "n=4\n",
      "1 -8 -8 0\n",
      "-6 -9 -1 -1\n",
      "-2 -7 -10 -4\n",
      "\n",
      "1 0 -8 -8\n",
      "-6 -1 -9 -1\n",
      "-2 -4 -7 -10\n"
     ]
    }
   ],
   "source": [
    "# matrix -77) matritsani ustunlarini shunday joylashtiringki oxirgi satr kamayuvchi tartibda bo`lsin\n",
    "from random import randint\n",
    "m=int(input(\"m=\"))\n",
    "n=int(input(\"n=\"))\n",
    "matrix=[[randint(-10,1) for i in range(n)] for j in range(m)]\n",
    "for i in matrix:\n",
    "    print(*i)\n",
    "for i in range(n):\n",
    "    for k in range(n-2,i-1,-1):\n",
    "        if matrix[m-1][k]<matrix[m-1][k+1]:\n",
    "            for j in range(m):\n",
    "                matrix[j][k],matrix[j][k+1]=matrix[j][k+1],matrix[j][k]\n",
    "print()\n",
    "for i in matrix:\n",
    "    print(*i)"
   ]
  },
  {
   "cell_type": "code",
   "execution_count": 54,
   "id": "b38d7eda",
   "metadata": {},
   "outputs": [
    {
     "name": "stdout",
     "output_type": "stream",
     "text": [
      "m=6\n",
      "n=3\n",
      "1 6 8\n",
      "5 1 2\n",
      "4 10 4\n",
      "10 1 1\n",
      "9 6 5\n",
      "10 8 2\n",
      "\n",
      "9 6 5\n",
      "4 10 4\n",
      "10 8 2\n",
      "1 6 8\n",
      "5 1 2\n",
      "10 1 1\n"
     ]
    }
   ],
   "source": [
    "# matrix -78) matritsani satrlarini shunday tartiblangki satrlarning minimal el.lari\n",
    "# kamayish tartibida bo`lsin\n",
    "from random import randint\n",
    "m=int(input(\"m=\"))\n",
    "n=int(input(\"n=\"))\n",
    "matrix=[[randint(1,10) for i in range(n)] for j in range(m)]\n",
    "\n",
    "for i in matrix:\n",
    "    print(*i)\n",
    "for j in range(m):\n",
    "    for i in range(m-2,j-1,-1):\n",
    "        if min(matrix[i])<min(matrix[i+1]):\n",
    "            matrix[i],matrix[i+1]=matrix[i+1],matrix[i]\n",
    "print()\n",
    "for i in matrix:\n",
    "    print(*i)"
   ]
  },
  {
   "cell_type": "code",
   "execution_count": null,
   "id": "122d783f",
   "metadata": {},
   "outputs": [],
   "source": [
    "# matrix -78) public version matritsani satrlarini shunday tartiblangki satrlarning minimal el.lari\n",
    "# kamayish tartibida bo`lsin\n",
    "m = int(input(\"m = \"))\n",
    "n = int(input(\"n = \"))\n",
    "matrix = [[randint(-5,3) for i in range(n)] for j in range(m)]\n",
    "for i in matrix:\n",
    "    print(*i)\n",
    "print()\n",
    "\n",
    "for _ in range(m):\n",
    "    for i in range(m-1):\n",
    "        if min(matrix[i])<min(matrix[i+1]):\n",
    "            matrix[i],matrix[i+1] = matrix[i+1],matrix[i]\n",
    "\n",
    "for i in matrix:\n",
    "    print(*i)"
   ]
  },
  {
   "cell_type": "code",
   "execution_count": null,
   "id": "3c7f750e",
   "metadata": {},
   "outputs": [],
   "source": [
    "# matrix -79) public version matritsani ustunlarini shunday tartiblangki ustunlarning maximal el.lari\n",
    "# o`sish tartibida bo`lsin\n",
    "m = int(input(\"m = \"))\n",
    "n = int(input(\"n = \"))\n",
    "matrix = [[randint(-5,3) for i in range(n)] for j in range(m)]\n",
    "for i in matrix:\n",
    "    print(*i)\n",
    "print()\n",
    "\n",
    "for _ in range(n):\n",
    "    for i in range(n-1):\n",
    "        maxi1 = matrix[0][i]\n",
    "        maxi2 = matrix[0][i+1]\n",
    "        for k in range(1,m):\n",
    "            if maxi1<matrix[k][i]:\n",
    "                maxi1 = matrix[k][i]\n",
    "        for k in range(1,m):\n",
    "            if maxi2<matrix[k][i+1]:\n",
    "                maxi2 = matrix[k][i+1]\n",
    "        if maxi1>maxi2:\n",
    "            for h in range(m):\n",
    "                matrix[h][i],matrix[h][i+1] = matrix[h][i+1],matrix[h][i]\n",
    "\n",
    "for i in matrix:\n",
    "    print(*i)\n",
    "\n"
   ]
  },
  {
   "cell_type": "code",
   "execution_count": 7,
   "id": "51b48a35",
   "metadata": {},
   "outputs": [
    {
     "name": "stdout",
     "output_type": "stream",
     "text": [
      "n = 4\n",
      "6 2 3 0\n",
      "1 10 10 2\n",
      "5 7 5 9\n",
      "7 4 0 4\n",
      "\n",
      "3 0 6 2\n",
      "10 2 1 10\n",
      "5 9 5 7\n",
      "0 4 7 4\n"
     ]
    }
   ],
   "source": [
    "# matrix -79) public version matritsani ustunlarini shunday tartiblangki ustunlarning minmal el.lari\n",
    "# o`sish tartibida bo`lsin\n",
    "from random import randint\n",
    "n = int(input(\"n = \"))\n",
    "matrix = [[randint(0,10) for i in range(n)] for j in range(n)]\n",
    "for i in matrix:\n",
    "    print(*i)\n",
    "print()\n",
    "\n",
    "for _ in range(n):\n",
    "    for i in range(n-1):\n",
    "        mini1 = matrix[0][i]\n",
    "        mini2 = matrix[0][i+1]\n",
    "        for k in range(1,n):\n",
    "            if mini1>matrix[k][i]:\n",
    "                mini1 = matrix[k][i]\n",
    "            if mini2>matrix[k][i+1]:\n",
    "                mini2 = matrix[k][i+1]\n",
    "        if mini1>mini2:\n",
    "            for h in range(n):\n",
    "                matrix[h][i],matrix[h][i+1] = matrix[h][i+1],matrix[h][i]\n",
    "\n",
    "for i in matrix:\n",
    "    print(*i)\n"
   ]
  },
  {
   "cell_type": "code",
   "execution_count": 65,
   "id": "939a7540",
   "metadata": {},
   "outputs": [
    {
     "name": "stdout",
     "output_type": "stream",
     "text": [
      "m=3\n",
      "n=5\n",
      "4 4 7 1 7\n",
      "2 2 1 4 4\n",
      "6 6 7 1 4\n",
      "[6, 6, 7, 4, 7]\n",
      "\n",
      "1 4 4 7 7\n",
      "4 2 2 1 4\n",
      "1 6 6 7 4\n"
     ]
    }
   ],
   "source": [
    "# matrix -79) noto`gri matritsa qo`shmaslik kerak edi\n",
    "#matritsani ustunlarini shunday tartiblangki ustunlarning maximal el.lari\n",
    "# o`sish tartibida bo`lsin\n",
    "from random import randint\n",
    "m=int(input(\"m=\"))\n",
    "n=int(input(\"n=\"))\n",
    "matrix=[[randint(1,10) for i in range(n)] for j in range(m)]\n",
    "a=[]\n",
    "for i in matrix:\n",
    "    print(*i)\n",
    "# ustunlardagi max.larni topamiz\n",
    "for i in range(n):\n",
    "    maxi=matrix[0][i]\n",
    "    index=0\n",
    "    for j in range(1,m):\n",
    "        if matrix[j][i]>maxi:\n",
    "            maxi=matrix[j][i]\n",
    "            index=j\n",
    "    a.append(maxi)\n",
    "print(a)\n",
    "# o`rnini almashtiramiz\n",
    "for i in range(n):\n",
    "    for k in range(1,n-i):\n",
    "        if a[k]<a[k-1]:\n",
    "            for j in range(m):\n",
    "                matrix[j][k],matrix[j][k-1]=matrix[j][k-1],matrix[j][k]\n",
    "            a[k],a[k-1]=a[k-1],a[k]\n",
    "print()\n",
    "for i in matrix:\n",
    "    print(*i)"
   ]
  },
  {
   "cell_type": "code",
   "execution_count": 66,
   "id": "49ff3ab9",
   "metadata": {},
   "outputs": [
    {
     "name": "stdout",
     "output_type": "stream",
     "text": [
      "n=4\n",
      "8 7 2 8\n",
      "5 6 1 6\n",
      "6 6 9 3\n",
      "5 6 2 4\n",
      "27\n"
     ]
    }
   ],
   "source": [
    "# matrix -80) m*m kv matritsa, asosiy diagonali el.lari yig`indisi\n",
    "from random import randint\n",
    "n=int(input(\"n=\"))\n",
    "matrix=[[randint(1,10) for i in range(n)] for j in range(n)]\n",
    "for i in matrix:\n",
    "    print(*i)\n",
    "s=0\n",
    "for i in range(n):\n",
    "    s+=matrix[i][i]\n",
    "print(s)"
   ]
  },
  {
   "cell_type": "code",
   "execution_count": 67,
   "id": "912f039a",
   "metadata": {},
   "outputs": [
    {
     "name": "stdout",
     "output_type": "stream",
     "text": [
      "n=4\n",
      "2 2 9 2\n",
      "9 10 3 10\n",
      "8 4 9 7\n",
      "3 10 5 8\n",
      "3.0\n"
     ]
    }
   ],
   "source": [
    "# matrix -81) m*m kv matritsa, yordamchi diagonali el.lari o`rta arifmetigi\n",
    "from random import randint\n",
    "n=int(input(\"n=\"))\n",
    "matrix=[[randint(1,10) for i in range(n)] for j in range(n)]\n",
    "for i in matrix:\n",
    "    print(*i)\n",
    "s=0\n",
    "for i in range(n):\n",
    "    for j in range(n):\n",
    "        if i+j==n-1:\n",
    "            s+=matrix[i][j]\n",
    "print(s/n)"
   ]
  },
  {
   "cell_type": "code",
   "execution_count": 81,
   "id": "a2aee7de",
   "metadata": {},
   "outputs": [
    {
     "name": "stdout",
     "output_type": "stream",
     "text": [
      "n=6\n",
      "9 6 4 2 9 2\n",
      "9 6 8 5 4 5\n",
      "1 5 9 5 6 5\n",
      "6 4 7 8 5 6\n",
      "1 5 9 4 8 3\n",
      "6 6 3 6 5 3\n",
      "2\n",
      "14\n",
      "11\n",
      "21\n",
      "27\n",
      "43\n",
      "30\n",
      "20\n",
      "14\n",
      "7\n",
      "6\n"
     ]
    }
   ],
   "source": [
    "# matrix -82) m*m kv matritsa, asosiy diagonalga parallel bo`lgan har bir diagonal\n",
    "# el.lari yig`indisi\n",
    "from random import randint\n",
    "n=int(input(\"n=\"))\n",
    "matrix=[[randint(1,9) for i in range(n)] for j in range(n)]\n",
    "for i in matrix:\n",
    "    print(*i)\n",
    "\n",
    "for i in range(1,n+1):\n",
    "    s=0\n",
    "    for j in range(i):\n",
    "        s+=matrix[j][n-(i-j)]\n",
    "    print(s)\n",
    "for i in range(n-1,0,-1):\n",
    "    s=0\n",
    "    for j in range(i):\n",
    "        s+=matrix[n-(i-j)][j]\n",
    "    print(s)\n"
   ]
  },
  {
   "cell_type": "code",
   "execution_count": 4,
   "id": "df7f1ad1",
   "metadata": {},
   "outputs": [
    {
     "name": "stdout",
     "output_type": "stream",
     "text": [
      "n=6\n",
      "7 8 4 8 3 6\n",
      "3 8 7 1 6 9\n",
      "3 5 3 8 7 3\n",
      "8 2 5 8 9 6\n",
      "5 8 2 9 3 8\n",
      "6 2 2 4 9 3\n",
      "7\n",
      "11\n",
      "15\n",
      "28\n",
      "14\n",
      "39\n",
      "\n",
      "28\n",
      "23\n",
      "13\n",
      "17\n",
      "3\n"
     ]
    }
   ],
   "source": [
    "# matrix -83) m*m kv matritsa, yordamchi diagonalga parallel bo`lgan har bir diagonal\n",
    "# el.lari yig`indisi\n",
    "from random import randint\n",
    "n=int(input(\"n=\"))\n",
    "matrix=[[randint(1,9) for i in range(n)] for j in range(n)]\n",
    "for i in matrix:\n",
    "    print(*i)\n",
    "\n",
    "for i in range(1,n+1):\n",
    "    s=0\n",
    "    for j in range(i):\n",
    "        s+=matrix[j][i-j-1]\n",
    "    print(s)\n",
    "print()\n",
    "for i in range(n-1,0,-1):\n",
    "    s=0\n",
    "    for j in range(i):\n",
    "        s+=matrix[n-(i-j)][n-j-1]\n",
    "    print(s)"
   ]
  },
  {
   "cell_type": "code",
   "execution_count": 92,
   "id": "fd52f479",
   "metadata": {},
   "outputs": [
    {
     "name": "stdout",
     "output_type": "stream",
     "text": [
      "n=5\n",
      "3 7 2 7 2\n",
      "6 9 9 7 5\n",
      "7 7 9 5 1\n",
      "3 7 3 6 8\n",
      "8 3 2 3 2\n",
      "2.0\n",
      "6.0\n",
      "3.3333333333333335\n",
      "7.25\n",
      "5.8\n",
      "4.75\n",
      "5.333333333333333\n",
      "3.0\n",
      "8.0\n"
     ]
    }
   ],
   "source": [
    "# matrix -84) m*m kv matritsa, asosiy diagonalga parallel bo`lgan har bir diagonal\n",
    "# el.lari o`rta arifmetigi\n",
    "from random import randint\n",
    "n=int(input(\"n=\"))\n",
    "matrix=[[randint(1,9) for i in range(n)] for j in range(n)]\n",
    "for i in matrix:\n",
    "    print(*i)\n",
    "\n",
    "for i in range(1,n+1):\n",
    "    s=0\n",
    "    for j in range(i):\n",
    "        s+=matrix[j][n-(i-j)]\n",
    "    print(s/i)\n",
    "for i in range(n-1,0,-1):\n",
    "    s=0\n",
    "    for j in range(i):\n",
    "        s+=matrix[n-(i-j)][j]\n",
    "    print(s/i)"
   ]
  },
  {
   "cell_type": "code",
   "execution_count": 94,
   "id": "cc8d228b",
   "metadata": {},
   "outputs": [
    {
     "name": "stdout",
     "output_type": "stream",
     "text": [
      "n=5\n",
      "4 8 2 4 4\n",
      "3 6 9 8 2\n",
      "1 3 6 2 8\n",
      "8 7 4 5 7\n",
      "1 7 4 6 2\n",
      "4.0\n",
      "5.5\n",
      "3.0\n",
      "6.0\n",
      "5.2\n",
      "\n",
      "3.75\n",
      "5.666666666666667\n",
      "6.5\n",
      "2.0\n"
     ]
    }
   ],
   "source": [
    "# matrix -85) m*m kv matritsa, yordamchi diagonalga parallel bo`lgan har bir diagonal\n",
    "# el.lari o`rta arifmetigi\n",
    "from random import randint\n",
    "n=int(input(\"n=\"))\n",
    "matrix=[[randint(1,9) for i in range(n)] for j in range(n)]\n",
    "for i in matrix:\n",
    "    print(*i)\n",
    "\n",
    "for i in range(1,n+1):\n",
    "    s=0\n",
    "    for j in range(i):\n",
    "        s+=matrix[j][i-j-1]\n",
    "    print(s/i)\n",
    "print()\n",
    "for i in range(n-1,0,-1):\n",
    "    s=0\n",
    "    for j in range(i):\n",
    "        s+=matrix[n-(i-j)][n-j-1]\n",
    "    print(s/i)"
   ]
  },
  {
   "cell_type": "code",
   "execution_count": 96,
   "id": "51ec6e05",
   "metadata": {},
   "outputs": [
    {
     "name": "stdout",
     "output_type": "stream",
     "text": [
      "n=5\n",
      "8 6 6 2 9\n",
      "9 4 1 7 8\n",
      "9 2 7 7 6\n",
      "1 4 7 9 2\n",
      "5 9 4 9 3\n",
      "9\n",
      "2\n",
      "6\n",
      "1\n",
      "3\n",
      "2\n",
      "4\n",
      "1\n",
      "5\n"
     ]
    }
   ],
   "source": [
    "# matrix -86) m*m kv matritsa, asosiy diagonalga parallel bo`lgan har bir diagonal\n",
    "# el.lari eng kichigini aniqlovchi\n",
    "from random import randint\n",
    "n=int(input(\"n=\"))\n",
    "matrix=[[randint(1,9) for i in range(n)] for j in range(n)]\n",
    "for i in matrix:\n",
    "    print(*i)\n",
    "\n",
    "for i in range(1,n+1):\n",
    "    for j in range(i):\n",
    "        if j==0 or matrix[j][n-(i-j)]<mini:\n",
    "            mini=matrix[j][n-(i-j)]\n",
    "    print(mini)\n",
    "for i in range(n-1,0,-1):\n",
    "    for j in range(i):\n",
    "        if j==0 or matrix[n-(i-j)][j]<mini:\n",
    "            mini=matrix[n-(i-j)][j]\n",
    "    print(mini)"
   ]
  },
  {
   "cell_type": "code",
   "execution_count": 97,
   "id": "b48fff2f",
   "metadata": {},
   "outputs": [
    {
     "name": "stdout",
     "output_type": "stream",
     "text": [
      "n=6\n",
      "4 2 3 7 8 3\n",
      "8 2 7 2 7 2\n",
      "1 2 5 9 2 8\n",
      "2 7 6 6 9 5\n",
      "8 5 6 9 3 7\n",
      "8 8 1 8 5 4\n",
      "4\n",
      "8\n",
      "3\n",
      "7\n",
      "8\n",
      "9\n",
      "\n",
      "8\n",
      "9\n",
      "8\n",
      "7\n",
      "4\n"
     ]
    }
   ],
   "source": [
    "# matrix -87) m*m kv matritsa, yordamchi diagonalga parallel bo`lgan har bir diagonal\n",
    "# el.lari o`rta arifmetigi\n",
    "from random import randint\n",
    "n=int(input(\"n=\"))\n",
    "matrix=[[randint(1,9) for i in range(n)] for j in range(n)]\n",
    "for i in matrix:\n",
    "    print(*i)\n",
    "\n",
    "for i in range(1,n+1):\n",
    "    for j in range(i):\n",
    "        if j==0 or matrix[j][i-j-1]>maxi:\n",
    "            maxi=matrix[j][i-j-1]\n",
    "    print(maxi)\n",
    "print()\n",
    "for i in range(n-1,0,-1):\n",
    "    for j in range(i):\n",
    "        if j==0 or matrix[n-(i-j)][n-j-1]>maxi:\n",
    "            maxi=matrix[n-(i-j)][n-j-1]\n",
    "    print(maxi)"
   ]
  },
  {
   "cell_type": "code",
   "execution_count": 99,
   "id": "802601ec",
   "metadata": {},
   "outputs": [
    {
     "name": "stdout",
     "output_type": "stream",
     "text": [
      "n=6\n",
      "6 5 5 5 7 9\n",
      "1 8 5 5 9 6\n",
      "7 5 1 7 7 5\n",
      "4 5 9 5 2 6\n",
      "1 5 1 6 9 3\n",
      "6 9 7 4 5 8\n",
      "\n",
      "0 5 5 5 7 9\n",
      "0 0 5 5 9 6\n",
      "0 0 0 7 7 5\n",
      "0 0 0 0 2 6\n",
      "0 0 0 0 0 3\n",
      "0 0 0 0 0 0\n"
     ]
    }
   ],
   "source": [
    "# matrix -88) m*m kv matritsa, asosiy diagonali va undan pastidagi \n",
    "# el.larni nolga almashtiruvchi, shart operatori ishlatilmasin \n",
    "from random import randint\n",
    "n=int(input(\"n=\"))\n",
    "matrix=[[randint(1,9) for i in range(n)] for j in range(n)]\n",
    "for i in matrix:\n",
    "    print(*i)\n",
    "\n",
    "for i in range(n):\n",
    "    for j in range(i+1):\n",
    "        matrix[i][j]=0\n",
    "print()        \n",
    "for i in matrix:\n",
    "    print(*i)"
   ]
  },
  {
   "cell_type": "code",
   "execution_count": 101,
   "id": "d54827ca",
   "metadata": {},
   "outputs": [
    {
     "name": "stdout",
     "output_type": "stream",
     "text": [
      "n=6\n",
      "4 7 3 7 5 7\n",
      "1 4 7 7 1 6\n",
      "1 7 1 9 5 5\n",
      "3 7 9 5 5 3\n",
      "2 4 2 8 1 6\n",
      "8 4 5 7 6 4\n",
      "\n",
      "0 0 0 0 0 0\n",
      "0 0 0 0 0 6\n",
      "0 0 0 0 5 5\n",
      "0 0 0 5 5 3\n",
      "0 0 2 8 1 6\n",
      "0 4 5 7 6 4\n"
     ]
    }
   ],
   "source": [
    "# matrix -89) m*m kv matritsa, yordamchi diagonali va undan tepasidagi \n",
    "# el.larni nolga almashtiruvchi, shart operatori ishlatilmasin \n",
    "from random import randint\n",
    "n=int(input(\"n=\"))\n",
    "matrix=[[randint(1,9) for i in range(n)] for j in range(n)]\n",
    "for i in matrix:\n",
    "    print(*i)\n",
    "\n",
    "for i in range(n-1,-1,-1):\n",
    "    for j in range(i+1):\n",
    "        matrix[n-i-1][j]=0\n",
    "print()        \n",
    "for i in matrix:\n",
    "    print(*i)"
   ]
  },
  {
   "cell_type": "code",
   "execution_count": 102,
   "id": "94252b38",
   "metadata": {},
   "outputs": [
    {
     "name": "stdout",
     "output_type": "stream",
     "text": [
      "n=6\n",
      "1 5 6 7 8 1\n",
      "5 5 1 8 8 1\n",
      "2 4 8 7 2 1\n",
      "4 4 5 7 7 2\n",
      "7 9 4 8 7 5\n",
      "1 2 1 6 6 4\n",
      "\n",
      "1 5 6 7 8 0\n",
      "5 5 1 8 0 0\n",
      "2 4 8 0 0 0\n",
      "4 4 0 0 0 0\n",
      "7 0 0 0 0 0\n",
      "0 0 0 0 0 0\n"
     ]
    }
   ],
   "source": [
    "# matrix -90) m*m kv matritsa, yordamchi diagonali va undan pastidagi \n",
    "# el.larni nolga almashtiruvchi, shart operatori ishlatilmasin \n",
    "from random import randint\n",
    "n=int(input(\"n=\"))\n",
    "matrix=[[randint(1,9) for i in range(n)] for j in range(n)]\n",
    "for i in matrix:\n",
    "    print(*i)\n",
    "\n",
    "for i in range(n):\n",
    "    for j in range(i+1):\n",
    "        matrix[i][n-j-1]=0\n",
    "print()        \n",
    "for i in matrix:\n",
    "    print(*i)"
   ]
  },
  {
   "cell_type": "code",
   "execution_count": 104,
   "id": "1f993e56",
   "metadata": {},
   "outputs": [
    {
     "name": "stdout",
     "output_type": "stream",
     "text": [
      "n=6\n",
      "7 7 7 4 8 4\n",
      "7 6 9 7 2 7\n",
      "9 4 3 8 6 6\n",
      "4 7 2 9 4 8\n",
      "8 8 5 3 3 2\n",
      "1 6 6 9 8 4\n",
      "\n",
      "0 0 0 0 0 0\n",
      "7 0 0 0 0 0\n",
      "9 4 0 0 0 0\n",
      "4 7 2 0 0 0\n",
      "8 8 5 3 0 0\n",
      "1 6 6 9 8 0\n"
     ]
    }
   ],
   "source": [
    "# matrix -91) m*m kv matritsa, asosiy diagonali va undan tepasidagi \n",
    "# el.larni nolga almashtiruvchi, shart operatori ishlatilmasin \n",
    "from random import randint\n",
    "n=int(input(\"n=\"))\n",
    "matrix=[[randint(1,9) for i in range(n)] for j in range(n)]\n",
    "for i in matrix:\n",
    "    print(*i)\n",
    "\n",
    "for i in range(n):\n",
    "    for j in range(i,n):\n",
    "        matrix[i][j]=0\n",
    "print()        \n",
    "for i in matrix:\n",
    "    print(*i)"
   ]
  },
  {
   "cell_type": "code",
   "execution_count": 106,
   "id": "38d8cfc1",
   "metadata": {},
   "outputs": [
    {
     "name": "stdout",
     "output_type": "stream",
     "text": [
      "n=7\n",
      "2 4 4 5 3 4 8\n",
      "8 1 1 7 9 5 3\n",
      "2 6 6 7 1 5 6\n",
      "4 3 4 8 4 8 4\n",
      "5 8 8 9 1 7 1\n",
      "4 7 3 9 3 5 1\n",
      "9 9 2 8 9 3 3\n",
      "\n",
      "0 0 0 0 0 0 0\n",
      "8 0 0 0 0 0 3\n",
      "2 6 0 0 0 5 6\n",
      "4 3 4 0 4 8 4\n",
      "5 8 8 9 1 7 1\n",
      "4 7 3 9 3 5 1\n",
      "9 9 2 8 9 3 3\n"
     ]
    }
   ],
   "source": [
    "# matrix -92) m*m kv matritsa, asosiy diagonali va yordamchi diagonal va undan tepasidagi \n",
    "# el.larni nolga almashtiruvchi, shart operatori ishlatilmasin \n",
    "from random import randint\n",
    "n=int(input(\"n=\"))\n",
    "matrix=[[randint(1,9) for i in range(n)] for j in range(n)]\n",
    "for i in matrix:\n",
    "    print(*i)\n",
    "\n",
    "for i in range(n):\n",
    "    for j in range(i,n-i):\n",
    "        matrix[i][j]=0\n",
    "print()        \n",
    "for i in matrix:\n",
    "    print(*i)"
   ]
  },
  {
   "cell_type": "code",
   "execution_count": 7,
   "id": "10932c41",
   "metadata": {},
   "outputs": [
    {
     "name": "stdout",
     "output_type": "stream",
     "text": [
      "n=6\n",
      "5 1 1 2 3 1\n",
      "1 3 9 1 2 5\n",
      "9 4 5 8 5 8\n",
      "2 7 7 2 5 3\n",
      "1 4 5 9 2 5\n",
      "3 9 9 4 6 3\n",
      "\n",
      "5 1 1 2 3 0\n",
      "1 3 9 1 0 0\n",
      "9 4 5 0 0 0\n",
      "2 7 7 0 0 0\n",
      "1 4 5 9 0 0\n",
      "3 9 9 4 6 0\n"
     ]
    }
   ],
   "source": [
    "# matrix -93) m*m kv matritsa, h-rasmdagi bo`yalgan soxani\n",
    "# el.larni nolga almashtiruvchi, shart operatori ishlatilmasin \n",
    "from random import randint\n",
    "n=int(input(\"n=\"))\n",
    "matrix=[[randint(1,9) for i in range(n)] for j in range(n)]\n",
    "for i in matrix:\n",
    "    print(*i)\n",
    "for i in range(n//2):\n",
    "    for j in range(n-i-1,n):\n",
    "        matrix[i][j]=0\n",
    "for i in range(n//2+1):\n",
    "    for j in range(n//2+i,n):\n",
    "        matrix[n//2+i][j]=0\n",
    "print()        \n",
    "for i in matrix:\n",
    "    print(*i)"
   ]
  },
  {
   "cell_type": "code",
   "execution_count": null,
   "id": "52cd86b2",
   "metadata": {},
   "outputs": [],
   "source": [
    "from random import randint\n",
    "n=int(input(\"n=\"))\n",
    "matrix=[[randint(1,9) for i in range(n)] for j in range(n)]\n",
    "for i in matrix:\n",
    "    print(*i)\n",
    "for i in range(n//2):\n",
    "    for j in range(i+1):\n",
    "        matrix[i][j]=0\n",
    "for i in range(n//2,n):\n",
    "    for j in range(n-i):\n",
    "        matrix[i][j]=0\n",
    "print()        \n",
    "for i in matrix:\n",
    "    print(*i)"
   ]
  },
  {
   "cell_type": "code",
   "execution_count": 5,
   "id": "19cd5505",
   "metadata": {},
   "outputs": [
    {
     "name": "stdout",
     "output_type": "stream",
     "text": [
      "n=6\n",
      "5 8 8 1 9 9\n",
      "6 1 8 5 9 7\n",
      "9 6 1 1 9 2\n",
      "1 7 6 4 7 3\n",
      "4 6 2 7 1 4\n",
      "1 7 3 9 2 3\n",
      "\n",
      "0 8 8 1 9 0\n",
      "0 0 8 5 0 0\n",
      "0 0 0 0 0 0\n",
      "0 0 0 0 0 0\n",
      "0 0 0 0 0 0\n",
      "0 0 0 0 0 0\n"
     ]
    }
   ],
   "source": [
    "# matrix -94) m*m kv matritsa, i-rasmdagi bo`yalgan soxani\n",
    "# el.larni nolga almashtiruvchi, shart operatori ishlatilmasin \n",
    "from random import randint\n",
    "n=int(input(\"n=\"))\n",
    "matrix=[[randint(1,9) for i in range(n)] for j in range(n)]\n",
    "for i in matrix:\n",
    "    print(*i)\n",
    "for i in range(n//2):\n",
    "    for j in range(i+1):\n",
    "        matrix[i][j]=0\n",
    "for i in range(n//2,n):\n",
    "    for j in range(n-i):\n",
    "        matrix[i][j]=0\n",
    "print()        \n",
    "for i in matrix:\n",
    "    print(*i)"
   ]
  },
  {
   "cell_type": "code",
   "execution_count": 14,
   "id": "786b0f52",
   "metadata": {},
   "outputs": [
    {
     "name": "stdout",
     "output_type": "stream",
     "text": [
      "n=6\n",
      "7 2 8 3 1 4\n",
      "7 4 7 8 8 4\n",
      "2 4 2 7 6 6\n",
      "1 9 4 7 6 2\n",
      "5 2 8 5 8 6\n",
      "9 7 7 7 9 3\n",
      "\n",
      "7 2 8 3 1 4\n",
      "7 4 7 8 8 4\n",
      "2 4 2 7 6 6\n",
      "1 9 0 0 6 2\n",
      "5 0 0 0 0 6\n",
      "0 0 0 0 0 0\n"
     ]
    }
   ],
   "source": [
    "# matrix -95) m*m kv matritsa, f-rasmdagi bo`yalgan soxani\n",
    "# el.larni nolga almashtiruvchi, shart operatori ishlatilmasin \n",
    "from random import randint\n",
    "n=int(input(\"n=\"))\n",
    "matrix=[[randint(1,9) for i in range(n)] for j in range(n)]\n",
    "for i in matrix:\n",
    "    print(*i)\n",
    "for i in range(n//2,n):\n",
    "    for j in range(n-i-1,i+1):\n",
    "        matrix[i][j]=0\n",
    "print()        \n",
    "for i in matrix:\n",
    "    print(*i)"
   ]
  },
  {
   "cell_type": "code",
   "execution_count": 19,
   "id": "b1745b0b",
   "metadata": {},
   "outputs": [
    {
     "name": "stdout",
     "output_type": "stream",
     "text": [
      "n=6\n",
      "5 8 9 9 8 3\n",
      "2 3 9 3 4 4\n",
      "2 6 6 8 1 5\n",
      "8 4 4 8 9 6\n",
      "8 5 9 2 2 4\n",
      "2 5 6 3 7 1\n",
      "\n",
      "5 2 2 8 8 2\n",
      "8 3 6 4 5 5\n",
      "9 9 6 4 9 6\n",
      "9 3 8 8 2 3\n",
      "8 4 1 9 2 7\n",
      "3 4 5 6 4 1\n"
     ]
    }
   ],
   "source": [
    "# matrix -96) m*m kv matritsa, asosiy diagonaliga nisbatan\n",
    "# el.larni  almashtiruvchi, yordamchi matritsadan foydalanmang\n",
    "from random import randint\n",
    "n=int(input(\"n=\"))\n",
    "matrix=[[randint(1,9) for i in range(n)] for j in range(n)]\n",
    "for i in matrix:\n",
    "    print(*i)\n",
    "for i in range(n-1):\n",
    "    for j in range(i+1,n):\n",
    "        matrix[i][j],matrix[j][i]=matrix[j][i],matrix[i][j]\n",
    "print()        \n",
    "for i in matrix:\n",
    "    print(*i)"
   ]
  },
  {
   "cell_type": "code",
   "execution_count": 24,
   "id": "ecafb35f",
   "metadata": {
    "scrolled": true
   },
   "outputs": [
    {
     "name": "stdout",
     "output_type": "stream",
     "text": [
      "n=8\n",
      "6 5 4 4 3 4 1 4\n",
      "2 7 9 9 4 8 2 4\n",
      "1 9 2 9 8 9 5 9\n",
      "1 6 3 7 2 8 4 6\n",
      "7 8 6 2 2 6 1 2\n",
      "9 1 3 6 8 5 8 9\n",
      "4 8 5 2 8 9 2 9\n",
      "4 7 8 8 6 4 3 4\n",
      "\n",
      "4 3 4 6 8 8 7 4\n",
      "9 2 9 8 2 5 2 4\n",
      "9 8 5 8 6 9 1 9\n",
      "2 1 6 2 2 6 8 7\n",
      "6 4 8 2 7 3 6 1\n",
      "9 5 3 8 9 2 9 1\n",
      "4 8 8 4 9 9 7 2\n",
      "4 1 4 3 4 4 5 6\n"
     ]
    }
   ],
   "source": [
    "# matrix -97) m*m kv matritsa, yordamchi diagonaliga nisbatan\n",
    "# el.larni  almashtiruvchi, yordamchi matritsadan foydalanmang\n",
    "from random import randint\n",
    "n=int(input(\"n=\"))\n",
    "matrix=[[randint(1,9) for i in range(n)] for j in range(n)]\n",
    "for i in matrix:\n",
    "    print(*i)\n",
    "for i in range(n-1,0,-1):\n",
    "    for j in range(i):\n",
    "        matrix[n-i-1][j],matrix[i][n-j-1]=matrix[i][n-j-1],matrix[n-i-1][j]\n",
    "print()        \n",
    "for i in matrix:\n",
    "    print(*i)"
   ]
  },
  {
   "cell_type": "code",
   "execution_count": 31,
   "id": "52a5961d",
   "metadata": {},
   "outputs": [
    {
     "name": "stdout",
     "output_type": "stream",
     "text": [
      "n=7\n",
      "1 8 4 9 8 2 1\n",
      "5 6 1 1 7 2 1\n",
      "6 3 5 9 9 2 1\n",
      "5 7 8 6 6 8 7\n",
      "3 8 2 1 9 6 3\n",
      "7 7 6 7 1 1 4\n",
      "4 8 1 8 9 1 6\n",
      "\n",
      "6 1 9 8 1 8 4\n",
      "4 1 1 7 6 7 7\n",
      "3 6 9 1 2 8 3\n",
      "7 8 6 6 8 7 5\n",
      "1 2 9 9 5 3 6\n",
      "1 2 7 1 1 6 5\n",
      "1 2 8 9 4 8 1\n"
     ]
    }
   ],
   "source": [
    "# matrix -98) m*m kv matritsa, \n",
    "# el.larni 180 gr. aylantiruvchi, yordamchi matritsadan foydalanmang\n",
    "from random import randint\n",
    "n=int(input(\"n=\"))\n",
    "matrix=[[randint(1,9) for i in range(n)] for j in range(n)]\n",
    "for i in matrix:\n",
    "    print(*i)\n",
    "if n%2==0:\n",
    "    for i in range(n-1,n//2-1,-1):\n",
    "        for j in range(n):\n",
    "            matrix[n-i-1][j],matrix[i][n-j-1]=matrix[i][n-j-1],matrix[n-i-1][j]\n",
    "else:\n",
    "    for i in range(n-1,n//2,-1):\n",
    "        for j in range(n):\n",
    "            matrix[n-i-1][j],matrix[i][n-j-1]=matrix[i][n-j-1],matrix[n-i-1][j]\n",
    "    matrix[n//2].reverse()\n",
    "print()        \n",
    "for i in matrix:\n",
    "    print(*i)"
   ]
  },
  {
   "cell_type": "code",
   "execution_count": 14,
   "id": "0ba04982",
   "metadata": {},
   "outputs": [
    {
     "name": "stdout",
     "output_type": "stream",
     "text": [
      "m=5\n",
      "7 5 2 4 7\n",
      "7 7 6 8 1\n",
      "7 5 7 4 9\n",
      "3 9 3 9 1\n",
      "1 7 4 9 2\n",
      "\n",
      "7 1 9 1 2\n",
      "4 8 4 9 9\n",
      "2 6 7 3 4\n",
      "5 7 5 9 7\n",
      "7 7 7 3 1\n",
      "\n"
     ]
    }
   ],
   "source": [
    "# matrix -99) optimal.   m*m kv matritsa, matritsani soat strelkasiga qarama qarshi\n",
    "# 90 gr. aylantiruvchi, yordamchi matritsadan foydalanmang\n",
    "from random import randint\n",
    "m=int(input(\"m=\"))\n",
    "\n",
    "matrix=[[randint(1,9) for i in range(m)] for j in range(m)]\n",
    "for i in matrix:\n",
    "    print(*i)\n",
    "print()\n",
    "matrix=[[matrix[j][i] for j in range(m)] for i in range(m-1,-1,-1)]\n",
    "for i in matrix:\n",
    "    print(*i)\n",
    "print()"
   ]
  },
  {
   "cell_type": "code",
   "execution_count": 44,
   "id": "d55b33f2",
   "metadata": {},
   "outputs": [
    {
     "name": "stdout",
     "output_type": "stream",
     "text": [
      "n=5\n",
      "2 5 8 2 3\n",
      "7 7 6 8 6\n",
      "7 4 7 9 8\n",
      "5 3 7 9 2\n",
      "7 3 6 8 7\n",
      "\n",
      "3 6 8 2 7\n",
      "2 8 9 9 8\n",
      "8 6 7 7 6\n",
      "5 7 4 3 3\n",
      "2 7 7 5 7\n"
     ]
    }
   ],
   "source": [
    "# matrix -99) m*m kv matritsa, matritsani soat strelkasiga qarama qarshi\n",
    "# 90 gr. aylantiruvchi, yordamchi matritsadan foydalanmang\n",
    "from random import randint\n",
    "n=int(input(\"n=\"))\n",
    "matrix=[[randint(1,9) for i in range(n)] for j in range(n)]\n",
    "for i in matrix:\n",
    "    print(*i)\n",
    "k=-1\n",
    "for i in range(n-1,-1,-2):\n",
    "    k+=1\n",
    "    for j in range(i):\n",
    "        matrix[n-1-k][j+k],matrix[n-1-j-k][n-1-k],matrix[k][n-1-j-k],matrix[j+k][k]=matrix[j+k][k],matrix[n-1-k][j+k],matrix[n-1-j-k][n-1-k],matrix[k][n-1-j-k]\n",
    "print()        \n",
    "for i in matrix:\n",
    "    print(*i)"
   ]
  },
  {
   "cell_type": "code",
   "execution_count": null,
   "id": "fcf11e55",
   "metadata": {},
   "outputs": [],
   "source": [
    "# matrix -100) optimal. m*m kv matritsa, matritsani soat strelkasiga bo`yicha\n",
    "# 90 gr. aylantiruvchi, yordamchi matritsadan foydalanmang\n",
    "from random import randint\n",
    "m=int(input(\"m=\"))\n",
    "\n",
    "matrix=[[randint(1,9) for i in range(m)] for j in range(m)]\n",
    "for i in matrix:\n",
    "    print(*i)\n",
    "print()\n",
    "matrix=[[matrix[i][j] for i in range(m-1,-1,-1)] for j in range(m)]\n",
    "for i in matrix:\n",
    "    print(*i)\n",
    "print()"
   ]
  },
  {
   "cell_type": "code",
   "execution_count": 42,
   "id": "7b57c657",
   "metadata": {},
   "outputs": [
    {
     "name": "stdout",
     "output_type": "stream",
     "text": [
      "n=7\n",
      "5 3 4 1 9 7 8\n",
      "9 6 4 3 3 6 8\n",
      "6 2 9 1 1 4 9\n",
      "6 9 1 2 7 7 9\n",
      "5 3 3 4 8 8 2\n",
      "1 5 1 5 8 6 1\n",
      "4 2 7 3 2 1 8\n",
      "\n",
      "4 1 5 6 6 9 5\n",
      "2 5 3 9 2 6 3\n",
      "7 1 3 1 9 4 4\n",
      "3 5 4 2 1 3 1\n",
      "2 8 8 7 1 3 9\n",
      "1 6 8 7 4 6 7\n",
      "8 1 2 9 9 8 8\n"
     ]
    }
   ],
   "source": [
    "# matrix -100) m*m kv matritsa, matritsani soat strelkasiga bo`yicha\n",
    "# 90 gr. aylantiruvchi, yordamchi matritsadan foydalanmang\n",
    "from random import randint\n",
    "n=int(input(\"n=\"))\n",
    "matrix=[[randint(1,9) for i in range(n)] for j in range(n)]\n",
    "for i in matrix:\n",
    "    print(*i)\n",
    "# if n%2==0:\n",
    "k=-1\n",
    "for i in range(n-1,-1,-2):\n",
    "    k+=1\n",
    "    for j in range(i):\n",
    "        matrix[j+k][k],matrix[n-1-k][j+k],matrix[n-1-j-k][n-1-k],matrix[k][n-1-j-k]=matrix[n-1-k][j+k],matrix[n-1-j-k][n-1-k],matrix[k][n-1-j-k],matrix[j+k][k]\n",
    "print()        \n",
    "for i in matrix:\n",
    "    print(*i)"
   ]
  },
  {
   "cell_type": "code",
   "execution_count": 11,
   "id": "adf98cda",
   "metadata": {},
   "outputs": [
    {
     "name": "stdout",
     "output_type": "stream",
     "text": [
      "m=5\n",
      "8 1 6 9 5\n",
      "2 5 5 2 4\n",
      "9 9 5 9 1\n",
      "6 5 9 8 1\n",
      "8 3 2 6 4\n",
      "\n",
      "8 6 9 2 8\n",
      "3 5 9 5 1\n",
      "2 9 5 5 6\n",
      "6 8 9 2 9\n",
      "4 1 1 4 5\n",
      "\n"
     ]
    }
   ],
   "source": [
    "from random import randint\n",
    "m=int(input(\"m=\"))\n",
    "\n",
    "matrix=[[randint(1,9) for i in range(m)] for j in range(m)]\n",
    "for i in matrix:\n",
    "    print(*i)\n",
    "print()\n",
    "matrix=[[matrix[i][j] for i in range(m-1,-1,-1)] for j in range(m)]\n",
    "for i in matrix:\n",
    "    print(*i)\n",
    "print()"
   ]
  }
 ],
 "metadata": {
  "celltoolbar": "Вложения",
  "kernelspec": {
   "display_name": "Python 3 (ipykernel)",
   "language": "python",
   "name": "python3"
  },
  "language_info": {
   "codemirror_mode": {
    "name": "ipython",
    "version": 3
   },
   "file_extension": ".py",
   "mimetype": "text/x-python",
   "name": "python",
   "nbconvert_exporter": "python",
   "pygments_lexer": "ipython3",
   "version": "3.8.10"
  }
 },
 "nbformat": 4,
 "nbformat_minor": 5
}
