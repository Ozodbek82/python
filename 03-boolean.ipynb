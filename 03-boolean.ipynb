{
 "cells": [
  {
   "cell_type": "code",
   "execution_count": 14,
   "id": "44c853cc",
   "metadata": {},
   "outputs": [
    {
     "name": "stdout",
     "output_type": "stream",
     "text": [
      "Butun son kiriting=-1\n",
      "son musbat:  False\n"
     ]
    }
   ],
   "source": [
    "#boolean 1 a soni musbat\n",
    "a=float(input(\"son kiriting=\"))\n",
    "print(\"son musbat: \",a > 0)"
   ]
  },
  {
   "cell_type": "code",
   "execution_count": 20,
   "id": "8f1815c6",
   "metadata": {},
   "outputs": [
    {
     "name": "stdout",
     "output_type": "stream",
     "text": [
      "Butun son kiriting=12589\n",
      "toq son:  True\n"
     ]
    }
   ],
   "source": [
    "#boolean 2 toq\n",
    "a=int(input(\"Butun son kiriting=\"))\n",
    "print(\"toq son: \",a%2!=0)\n"
   ]
  },
  {
   "cell_type": "code",
   "execution_count": 22,
   "id": "ee852838",
   "metadata": {},
   "outputs": [
    {
     "name": "stdout",
     "output_type": "stream",
     "text": [
      "Butun son kiriting=6666\n",
      "juft son:  True\n"
     ]
    }
   ],
   "source": [
    "#boolean 3 a soni juft\n",
    "a=int(input(\"Butun son kiriting=\"))\n",
    "print(\"juft son: \",a%2==0)\n"
   ]
  },
  {
   "cell_type": "code",
   "execution_count": 27,
   "id": "4fe5d32d",
   "metadata": {},
   "outputs": [
    {
     "name": "stdout",
     "output_type": "stream",
     "text": [
      "Butun son kiriting=5\n",
      "Butun son kiriting=2\n",
      "a>2 and b <= 3  True\n"
     ]
    }
   ],
   "source": [
    "#boolean 4  a>2 and b <= 3\n",
    "a=int(input(\"Butun son kiriting=\"))\n",
    "b=int(input(\"Butun son kiriting=\"))\n",
    "print(\"a>2 and b <= 3 \",a>2 and b <= 3)\n"
   ]
  },
  {
   "cell_type": "code",
   "execution_count": 31,
   "id": "5fd00065",
   "metadata": {},
   "outputs": [
    {
     "name": "stdout",
     "output_type": "stream",
     "text": [
      "Butun son kiriting=10\n",
      "Butun son kiriting=12\n",
      "a>=0 True\n",
      "b<-2 False\n",
      "a>=0 yoki b < -2:  True\n"
     ]
    }
   ],
   "source": [
    "#boolean 5 A ≥ 0 yoki B < −2\n",
    "a=int(input(\"Butun son kiriting=\"))\n",
    "b=int(input(\"Butun son kiriting=\"))\n",
    "print(\"a>=0\",a>=0)\n",
    "print(\"b<-2\",b<-2)\n",
    "print(\"a>=0 yoki b < -2: \",a>=0 or b < -2)"
   ]
  },
  {
   "cell_type": "code",
   "execution_count": 2,
   "id": "b4932837",
   "metadata": {},
   "outputs": [
    {
     "name": "stdout",
     "output_type": "stream",
     "text": [
      "Butun son kiriting=9\n",
      "Butun son kiriting=8\n",
      "Butun son kiriting=7\n",
      "a<=b False\n",
      "b<=c False\n",
      "a<=b<=c False\n"
     ]
    }
   ],
   "source": [
    "#boolean 6  a<=b<=c \n",
    "a=int(input(\"Butun son kiriting=\"))\n",
    "b=int(input(\"Butun son kiriting=\"))\n",
    "c=int(input(\"Butun son kiriting=\"))\n",
    "print(\"a<=b\",a<=b)\n",
    "print(\"b<=c\",b<=c)\n",
    "print(\"a<=b<=c\",a<=b<=c)\n"
   ]
  },
  {
   "cell_type": "code",
   "execution_count": 34,
   "id": "636ce9bb",
   "metadata": {},
   "outputs": [
    {
     "name": "stdout",
     "output_type": "stream",
     "text": [
      "Butun son kiriting=-1\n",
      "Butun son kiriting=9\n",
      "Butun son kiriting=10\n",
      "9  soni -1 va 10 sonlari orasida= True\n"
     ]
    }
   ],
   "source": [
    "#boolean 7 b a va b orasida\n",
    "a=int(input(\"Butun son kiriting=\"))\n",
    "b=int(input(\"Butun son kiriting=\"))\n",
    "c=int(input(\"Butun son kiriting=\"))\n",
    "\n",
    "print(b,\"soni\",a,\"va\",c,\"sonlari orasida=\",a<b<c or c<b<a)"
   ]
  },
  {
   "cell_type": "code",
   "execution_count": 36,
   "id": "ffe24cff",
   "metadata": {},
   "outputs": [
    {
     "name": "stdout",
     "output_type": "stream",
     "text": [
      "Butun son kiriting=8\n",
      "Butun son kiriting=9\n",
      "A soni ham B soni ham toq= False\n"
     ]
    }
   ],
   "source": [
    "#boolean 8  A soni ham B soni ham toq=\n",
    "a=int(input(\"Butun son kiriting=\"))\n",
    "b=int(input(\"Butun son kiriting=\"))\n",
    "x=(a%2==1 and b%2==1)\n",
    "print(\"A soni ham B soni ham toq=\",x)\n"
   ]
  },
  {
   "cell_type": "code",
   "execution_count": null,
   "id": "95a8d2ce",
   "metadata": {},
   "outputs": [],
   "source": [
    "#boolean 9  A soni yoki B soni  toq\n",
    "a=int(input(\"Butun son kiriting=\"))\n",
    "b=int(input(\"Butun son kiriting=\"))\n",
    "x=(a%2==1 or b%2==1)\n",
    "print(\"A soni yoki B soni  toq=\",x)\n",
    "\n"
   ]
  },
  {
   "cell_type": "code",
   "execution_count": 2,
   "id": "d4d60833",
   "metadata": {},
   "outputs": [
    {
     "name": "stdout",
     "output_type": "stream",
     "text": [
      "Butun son kiriting=8\n",
      "Butun son kiriting=8\n",
      "biri toq yana biri juft= False\n"
     ]
    }
   ],
   "source": [
    "#boolean 10  biri toq yana biri juft\n",
    "a=int(input(\"Butun son kiriting=\"))\n",
    "b=int(input(\"Butun son kiriting=\"))\n",
    "x=(a%2==1 and b%2!=1) or (a%2!=1 and b%2==1)\n",
    "print(\"biri toq yana biri juft=\",x)"
   ]
  },
  {
   "cell_type": "code",
   "execution_count": 4,
   "id": "e8e64e9a",
   "metadata": {},
   "outputs": [
    {
     "name": "stdout",
     "output_type": "stream",
     "text": [
      "Butun son kiriting=8\n",
      "Butun son kiriting=8\n",
      "ikkalasi toq yoki ikkalasi juft= True\n"
     ]
    }
   ],
   "source": [
    "#boolean 11     ikkalasi toq yoki ikkalasi juft\n",
    "a=int(input(\"Butun son kiriting=\"))\n",
    "b=int(input(\"Butun son kiriting=\"))\n",
    "x=(a%2==1 and b%2==1) or (a%2!=1 and b%2!=1)\n",
    "print(\"ikkalasi toq yoki ikkalasi juft=\",x)\n"
   ]
  },
  {
   "cell_type": "code",
   "execution_count": 10,
   "id": "0de38b73",
   "metadata": {},
   "outputs": [
    {
     "name": "stdout",
     "output_type": "stream",
     "text": [
      "Butun son kiriting=9\n",
      "Butun son kiriting=45\n",
      "Butun son kiriting=78\n",
      "uch son ham musbat= True\n"
     ]
    }
   ],
   "source": [
    "#boolean 12    uch son ham musbat\n",
    "a=int(input(\"Butun son kiriting=\"))\n",
    "b=int(input(\"Butun son kiriting=\"))\n",
    "c=int(input(\"Butun son kiriting=\"))\n",
    "x= a>0 and b>0 and c>0\n",
    "print(\"uch son ham musbat=\",x)"
   ]
  },
  {
   "cell_type": "code",
   "execution_count": 12,
   "id": "42696c51",
   "metadata": {},
   "outputs": [
    {
     "name": "stdout",
     "output_type": "stream",
     "text": [
      "Butun son kiriting=-89\n",
      "Butun son kiriting=-78\n",
      "Butun son kiriting=-89\n",
      "uch sondan biri musbat= False\n"
     ]
    }
   ],
   "source": [
    "#boolean 13    uch sondan biri musbat\n",
    "a=int(input(\"Butun son kiriting=\"))\n",
    "b=int(input(\"Butun son kiriting=\"))\n",
    "c=int(input(\"Butun son kiriting=\"))\n",
    "x= a>0 or b>0 or c>0\n",
    "print(\"uch sondan biri musbat=\",x)"
   ]
  },
  {
   "cell_type": "code",
   "execution_count": 4,
   "id": "cd3566d2",
   "metadata": {},
   "outputs": [
    {
     "name": "stdout",
     "output_type": "stream",
     "text": [
      "Butun son kiriting=-9\n",
      "Butun son kiriting=-8\n",
      "Butun son kiriting=-9\n",
      "bu sonlardan faqat biri musbat= False\n"
     ]
    }
   ],
   "source": [
    "#boolean 14   bu sonlardan faqat biri musbat\n",
    "a=int(input(\"Butun son kiriting=\"))\n",
    "b=int(input(\"Butun son kiriting=\"))\n",
    "c=int(input(\"Butun son kiriting=\"))\n",
    "x1= a<=0 and b<=0 and c>0\n",
    "x2= a<=0 and b>0 and c<=0\n",
    "x3= a>0 and b<=0 and c<=0\n",
    "x=  x1 or x2 or x3\n",
    "print(\"bu sonlardan faqat biri musbat=\",x)"
   ]
  },
  {
   "cell_type": "code",
   "execution_count": 19,
   "id": "c1ef863a",
   "metadata": {
    "scrolled": true
   },
   "outputs": [
    {
     "name": "stdout",
     "output_type": "stream",
     "text": [
      "Butun son kiriting=100\n",
      "bu son ikki honali va juft= False\n"
     ]
    }
   ],
   "source": [
    "#boolean 15    bu son ikki honali va juft\n",
    "a=int(input(\"Butun son kiriting=\"))\n",
    "x= a%2==0 and 9<a<100\n",
    "print(\"bu son ikki honali va juft=\",x)"
   ]
  },
  {
   "cell_type": "code",
   "execution_count": 7,
   "id": "c05661e9",
   "metadata": {},
   "outputs": [
    {
     "name": "stdout",
     "output_type": "stream",
     "text": [
      "Musbat butun son kiriting=-88\n",
      "berilgan son ikki honali juft= False\n"
     ]
    }
   ],
   "source": [
    "#boolean 16 berilgan son ikki honali juft\n",
    "a=int(input(\"Musbat butun son kiriting=\"))\n",
    "x = a%2==0 and 9<a<100\n",
    "print(\"berilgan son ikki honali juft=\", x)"
   ]
  },
  {
   "cell_type": "code",
   "execution_count": 11,
   "id": "3d44f649",
   "metadata": {},
   "outputs": [
    {
     "name": "stdout",
     "output_type": "stream",
     "text": [
      "Musbat butun son kiriting=999\n",
      "berilgan son 3 honali toq= True\n"
     ]
    }
   ],
   "source": [
    "#boolean 17   berilgan son 3 honali toq\n",
    "a=int(input(\"Musbat butun son kiriting=\"))\n",
    "x = 99<a<1000 and a%2==1\n",
    "print(\"berilgan son 3 honali toq=\",x)"
   ]
  },
  {
   "cell_type": "code",
   "execution_count": 14,
   "id": "b9ab4d78",
   "metadata": {},
   "outputs": [
    {
     "name": "stdout",
     "output_type": "stream",
     "text": [
      "butun son kiriting=4\n",
      "butun son kiriting=8\n",
      "butun son kiriting=8\n",
      "True\n"
     ]
    }
   ],
   "source": [
    "#boolean 18 berilgan 3 ta sonlarning hech bolmasa 2tasi bir biriga teng\n",
    "a=int(input(\"butun son kiriting=\"))\n",
    "b=int(input(\"butun son kiriting=\"))\n",
    "c=int(input(\"butun son kiriting=\"))\n",
    "x= a==b or b==c or a==c\n",
    "print(x)"
   ]
  },
  {
   "cell_type": "code",
   "execution_count": 16,
   "id": "7e2b9934",
   "metadata": {},
   "outputs": [
    {
     "name": "stdout",
     "output_type": "stream",
     "text": [
      "butun son kiriting=4\n",
      "butun son kiriting=5\n",
      "butun son kiriting=-5\n",
      "True\n"
     ]
    }
   ],
   "source": [
    "#boolean 19  berilgan 3ta sonni hech bo`lmasa 2tasi qarama qarshi\n",
    "a=int(input(\"butun son kiriting=\"))\n",
    "b=int(input(\"butun son kiriting=\"))\n",
    "c=int(input(\"butun son kiriting=\"))\n",
    "y=a+b+c\n",
    "x = a==y or b==y or c==y\n",
    "print(x)"
   ]
  },
  {
   "cell_type": "code",
   "execution_count": 27,
   "id": "79c8fecb",
   "metadata": {},
   "outputs": [
    {
     "name": "stdout",
     "output_type": "stream",
     "text": [
      "uch honali son kiriting=122\n",
      "ushbu sonning barcha raqamlari xar xil= False\n"
     ]
    }
   ],
   "source": [
    "#boolean 20  ushbu sonning barcha raqamlari xar xil\n",
    "a=abs(int(input(\"uch honali son kiriting=\")))\n",
    "birlik=a%10\n",
    "onlik=a//10%10\n",
    "yuzlik=a//100\n",
    "x= birlik != onlik and onlik != yuzlik and yuzlik != birlik \n",
    "print(\"ushbu sonning barcha raqamlari xar xil=\", x)"
   ]
  },
  {
   "cell_type": "code",
   "execution_count": 31,
   "id": "e92bed88",
   "metadata": {},
   "outputs": [
    {
     "name": "stdout",
     "output_type": "stream",
     "text": [
      "uch honali son kiriting=222\n",
      "False\n"
     ]
    }
   ],
   "source": [
    "#boolean 21 ushbu sonning raqamlari ketma ket o`suvchi\n",
    "a=abs(int(input(\"uch honali son kiriting=\")))\n",
    "birlik=a%10\n",
    "onlik=a//10%10\n",
    "yuzlik=a//100\n",
    "x= yuzlik < onlik < birlik \n",
    "print(x)\n"
   ]
  },
  {
   "cell_type": "code",
   "execution_count": 35,
   "id": "0c1bc992",
   "metadata": {},
   "outputs": [
    {
     "name": "stdout",
     "output_type": "stream",
     "text": [
      "uch honali son kiriting=888\n",
      "False\n"
     ]
    }
   ],
   "source": [
    "#boolean 22 ushbu sonning raqamlari ketma ket o`suvchi yoki kamayuvchi\n",
    "a=abs(int(input(\"uch honali son kiriting=\")))\n",
    "birlik=a%10\n",
    "onlik=a//10%10\n",
    "yuzlik=a//100\n",
    "x= yuzlik < onlik < birlik or birlik < onlik < yuzlik\n",
    "print(x)"
   ]
  },
  {
   "cell_type": "code",
   "execution_count": 39,
   "id": "79914004",
   "metadata": {},
   "outputs": [
    {
     "name": "stdout",
     "output_type": "stream",
     "text": [
      "uch honali son kiriting=999\n",
      "True\n"
     ]
    }
   ],
   "source": [
    "#boolean 23 ushbu sonni chapdan o`qisa ham o`ngdan o`qisa ham bir xil\n",
    "a=abs(int(input(\"uch honali son kiriting=\")))\n",
    "birlik=a%10\n",
    "yuzlik=a//100\n",
    "x= yuzlik == birlik # birlik == yuzlik\n",
    "print(x)"
   ]
  },
  {
   "cell_type": "code",
   "execution_count": 41,
   "id": "f11e729c",
   "metadata": {},
   "outputs": [
    {
     "name": "stdout",
     "output_type": "stream",
     "text": [
      "butun son kiriting=1\n",
      "butun son kiriting=-3\n",
      "butun son kiriting=-4\n",
      "a*x**2+b*x+c=0 haqiqiy ildizga ega= True\n"
     ]
    }
   ],
   "source": [
    "#boolean 24   a*x**2+b*x+c=0 haqiqiy ildizga ega D=B**2-4*A*C\n",
    "a=int(input(\"butun son kiriting=\"))\n",
    "b=int(input(\"butun son kiriting=\"))\n",
    "c=int(input(\"butun son kiriting=\"))\n",
    "d=b**2-4*a*c\n",
    "print(\"a*x**2+b*x+c=0 haqiqiy ildizga ega=\", d>=0)"
   ]
  },
  {
   "cell_type": "code",
   "execution_count": 43,
   "id": "9a55faa8",
   "metadata": {},
   "outputs": [
    {
     "name": "stdout",
     "output_type": "stream",
     "text": [
      "X koord. kiriting=45\n",
      "Y koord. kiriting=56\n",
      "nuqta 2-chorakda joylashgan= False\n"
     ]
    }
   ],
   "source": [
    "#boolean 25  koordinatalari (X,Y) BO`LGAN NUQTA CHORAGINING 2-QISMIDA JOYL\n",
    "x=int(input(\"X koord. kiriting=\"))\n",
    "y=int(input(\"Y koord. kiriting=\"))\n",
    "s= x<0 and y>0\n",
    "print(\"nuqta 2-chorakda joylashgan=\",s)\n"
   ]
  },
  {
   "cell_type": "code",
   "execution_count": 45,
   "id": "ff0910ca",
   "metadata": {},
   "outputs": [
    {
     "name": "stdout",
     "output_type": "stream",
     "text": [
      "X koord. kiriting=-9\n",
      "Y koord. kiriting=-8\n",
      "nuqta 4-chorakda joylashgan= False\n"
     ]
    }
   ],
   "source": [
    "#boolean 26 koordinatalari (X,Y) BO`LGAN NUQTA CHORAGINING 4-QISMIDA yot\n",
    "x=int(input(\"X koord. kiriting=\"))\n",
    "y=int(input(\"Y koord. kiriting=\"))\n",
    "s= x>0 and y<0\n",
    "print(\"nuqta 4-chorakda joylashgan=\",s)\n"
   ]
  },
  {
   "cell_type": "code",
   "execution_count": 48,
   "id": "96a92636",
   "metadata": {
    "scrolled": true
   },
   "outputs": [
    {
     "name": "stdout",
     "output_type": "stream",
     "text": [
      "X koord. kiriting=9\n",
      "Y koord. kiriting=-8\n",
      "nuqta 2 yoki 3-chorakda joylashgan= True\n"
     ]
    }
   ],
   "source": [
    "#boolean 27 koordinatalari (X,Y) BO`LGAN NUQTA CHORAGINING 2 yoki 3-qISMIDA yot\n",
    "x=int(input(\"X koord. kiriting=\"))\n",
    "y=int(input(\"Y koord. kiriting=\"))\n",
    "s= (x<0 and y>0) or (x<0 and y<0) # s=x<0 and y!=0\n",
    "print(\"nuqta 2 yoki 3-chorakda joylashgan=\",s)"
   ]
  },
  {
   "cell_type": "code",
   "execution_count": 50,
   "id": "30da0314",
   "metadata": {},
   "outputs": [
    {
     "name": "stdout",
     "output_type": "stream",
     "text": [
      "X koord. kiriting=9\n",
      "Y koord. kiriting=9\n",
      "nuqta 1 yoki 3-chorakda joylashgan= True\n"
     ]
    }
   ],
   "source": [
    "#boolean 28  koordinatalari (X,Y) BO`LGAN NUQTA CHORAGINING 1 yoki 3-qISMIDA yot\n",
    "x=int(input(\"X koord. kiriting=\"))\n",
    "y=int(input(\"Y koord. kiriting=\"))\n",
    "s= (x<0 and y<0) or (x>0 and y>0)\n",
    "print(\"nuqta 1 yoki 3-chorakda joylashgan=\",s)"
   ]
  },
  {
   "cell_type": "code",
   "execution_count": 52,
   "id": "1cf15190",
   "metadata": {},
   "outputs": [
    {
     "name": "stdout",
     "output_type": "stream",
     "text": [
      "X koord. kiriting=5\n",
      "Y koord. kiriting=3\n",
      "X1 koord. kiriting=4\n",
      "Y1 koord. kiriting=2\n",
      "X2 koord. kiriting=1\n",
      "Y2 koord. kiriting=6\n",
      "nuqta to`rtburchak ichida joylashgan= False\n"
     ]
    }
   ],
   "source": [
    "#boolean 29  koordinatalari (X,Y) BO`LGAN NUQTA (x1,y1) va (x2,y2) orasida\n",
    "x=int(input(\"X koord. kiriting=\"))\n",
    "y=int(input(\"Y koord. kiriting=\"))\n",
    "x1=int(input(\"X1 koord. kiriting=\"))\n",
    "y1=int(input(\"Y1 koord. kiriting=\"))\n",
    "x2=int(input(\"X2 koord. kiriting=\"))\n",
    "y2=int(input(\"Y2 koord. kiriting=\"))\n",
    "s= (x2 <= x <= x1) and (y1 <= y <= y2)\n",
    "print(\"nuqta to`rtburchak ichida joylashgan=\",s)"
   ]
  },
  {
   "cell_type": "code",
   "execution_count": 54,
   "id": "c248b81d",
   "metadata": {},
   "outputs": [
    {
     "name": "stdout",
     "output_type": "stream",
     "text": [
      "a ni kiriting=8\n",
      "b ni kiriting=9\n",
      "c ni kiriting=8\n",
      "teng tomonli uchburchak False\n"
     ]
    }
   ],
   "source": [
    "#boolean 30 a, b, c tomonli uchb teng tomonli\n",
    "a=int(input(\"a ni kiriting=\"))\n",
    "b=int(input(\"b ni kiriting=\"))\n",
    "c=int(input(\"c ni kiriting=\"))\n",
    "x= a==b and b==c and a==c\n",
    "print(\"teng tomonli uchburchak\", x)"
   ]
  },
  {
   "cell_type": "code",
   "execution_count": 4,
   "id": "749ce7fd",
   "metadata": {},
   "outputs": [
    {
     "name": "stdout",
     "output_type": "stream",
     "text": [
      "a ni kiriting=6\n",
      "b ni kiriting=6\n",
      "c ni kiriting=9\n",
      "teng yonli uchburchak True\n"
     ]
    }
   ],
   "source": [
    "#boolean 31  teng yonli bo`ladi\n",
    "a=int(input(\"a ni kiriting=\"))\n",
    "b=int(input(\"b ni kiriting=\"))\n",
    "c=int(input(\"c ni kiriting=\"))\n",
    "x= a==b!=c or b==c!=a or a==c!=b\n",
    "print(\"teng yonli uchburchak\", x)"
   ]
  },
  {
   "cell_type": "code",
   "execution_count": 59,
   "id": "ac1e4bd0",
   "metadata": {},
   "outputs": [
    {
     "name": "stdout",
     "output_type": "stream",
     "text": [
      "a ni kiriting=7\n",
      "b ni kiriting=8\n",
      "c ni kiriting=9\n",
      "to`gri burchakli uchburchak False\n"
     ]
    }
   ],
   "source": [
    "#boolean 32 uchburchak to`gri burchakli\n",
    "a=int(input(\"a ni kiriting=\"))\n",
    "b=int(input(\"b ni kiriting=\"))\n",
    "c=int(input(\"c ni kiriting=\"))\n",
    "x= (a**2+b**2)==c**2 or (b**2+c**2)==a**2 or (a**2+c**2)==b**2\n",
    "print(\"to`gri burchakli uchburchak\", x)"
   ]
  },
  {
   "cell_type": "code",
   "execution_count": 64,
   "id": "7a444059",
   "metadata": {},
   "outputs": [
    {
     "name": "stdout",
     "output_type": "stream",
     "text": [
      "a ni kiriting=4\n",
      "b ni kiriting=5\n",
      "c ni kiriting=10\n",
      "uchburchak yasash mumkin False\n"
     ]
    }
   ],
   "source": [
    "#boolean 33  a b c tomonli uchburchak yasash mumkin \n",
    "a=int(input(\"a ni kiriting=\"))\n",
    "b=int(input(\"b ni kiriting=\"))\n",
    "c=int(input(\"c ni kiriting=\"))\n",
    "x= (a+b)>c and (b+c)>a and (a+c)>b\n",
    "print(\"uchburchak yasash mumkin\", x)"
   ]
  },
  {
   "cell_type": "code",
   "execution_count": 66,
   "id": "fe2d6882",
   "metadata": {},
   "outputs": [
    {
     "name": "stdout",
     "output_type": "stream",
     "text": [
      "X ni kiriting=6\n",
      "Y ni kiriting=4\n",
      "berilgan (x,y) maydon oq False\n"
     ]
    }
   ],
   "source": [
    "#boolean 34 berilgan (x,y) maydon oq\n",
    "x=int(input(\"X ni kiriting=\"))\n",
    "y=int(input(\"Y ni kiriting=\"))\n",
    "s=(x%2==0 and y%2==1) or (x%2==1 and y%2==0)\n",
    "print(\"berilgan (x,y) maydon oq\", s)"
   ]
  },
  {
   "cell_type": "code",
   "execution_count": 3,
   "id": "b1ff09d2",
   "metadata": {},
   "outputs": [
    {
     "name": "stdout",
     "output_type": "stream",
     "text": [
      "X1 ni kiriting=3\n",
      "Y1 ni kiriting=3\n",
      "X2 ni kiriting=4\n",
      "Y2 ni kiriting=5\n",
      "berilganlar bir xil rangda False\n"
     ]
    }
   ],
   "source": [
    "#boolean 35 berilganlar bir xil rangda\n",
    "x1=int(input(\"X1 ni kiriting=\"))\n",
    "y1=int(input(\"Y1 ni kiriting=\"))\n",
    "x2=int(input(\"X2 ni kiriting=\"))\n",
    "y2=int(input(\"Y2 ni kiriting=\"))\n",
    "x1=x1%2 ; y1=y1%2 ; x2=x2%2 ; y2=y2%2\n",
    "oq=((x1==0 and y1==1)or(x1==1 and y1==0))and((x2==0 and y2==1)or(x2==1 and y2==0))\n",
    "qora=((x1==0 and y1==0)or(x1==1 and y1==1))and((x2==0 and y2==0)or(x2==1 and y2==1))\n",
    "natija=oq or qora\n",
    "print(\"berilganlar bir xil rangda\", natija)"
   ]
  },
  {
   "cell_type": "code",
   "execution_count": 5,
   "id": "dc073048",
   "metadata": {},
   "outputs": [
    {
     "name": "stdout",
     "output_type": "stream",
     "text": [
      "X1 ni kiriting=1\n",
      "Y1 ni kiriting=1\n",
      "X2 ni kiriting=5\n",
      "Y2 ni kiriting=5\n",
      "False\n"
     ]
    }
   ],
   "source": [
    "#boolean 36 rux bir yurishda bir maydondan ikkinchisiga o`ta oladi\n",
    "x1=int(input(\"X1 ni kiriting=\"))\n",
    "y1=int(input(\"Y1 ni kiriting=\"))\n",
    "x2=int(input(\"X2 ni kiriting=\"))\n",
    "y2=int(input(\"Y2 ni kiriting=\"))\n",
    "s=((x1==x2)or(y1==y2))\n",
    "print(s)"
   ]
  },
  {
   "cell_type": "code",
   "execution_count": 10,
   "id": "45d81949",
   "metadata": {},
   "outputs": [
    {
     "name": "stdout",
     "output_type": "stream",
     "text": [
      "X1 ni kiriting=3\n",
      "Y1 ni kiriting=4\n",
      "X2 ni kiriting=2\n",
      "Y2 ni kiriting=3\n",
      "True\n"
     ]
    }
   ],
   "source": [
    "#boolean 37  shoh bir yurishda bir maydondan ikkinchisiga o`ta oladi\n",
    "x1=int(input(\"X1 ni kiriting=\"))\n",
    "y1=int(input(\"Y1 ni kiriting=\"))\n",
    "x2=int(input(\"X2 ni kiriting=\"))\n",
    "y2=int(input(\"Y2 ni kiriting=\"))\n",
    "s=(abs(x1-x2)<=1)and(abs(y1-y2)<=1)\n",
    "#s= (-1)<=(x1-x2)<=1 and (-1)<=(y1-y2)<=1\n",
    "print(s)"
   ]
  },
  {
   "cell_type": "code",
   "execution_count": 2,
   "id": "1a450a0f",
   "metadata": {},
   "outputs": [
    {
     "name": "stdout",
     "output_type": "stream",
     "text": [
      "X1 ni kiriting=2\n",
      "Y1 ni kiriting=2\n",
      "X2 ni kiriting=4\n",
      "Y2 ni kiriting=5\n",
      "False\n"
     ]
    }
   ],
   "source": [
    "#boolean 38 fil bir yurishda birinchisidan ikkinchisiga o`ta oladi\n",
    "x1=int(input(\"X1 ni kiriting=\"))\n",
    "y1=int(input(\"Y1 ni kiriting=\"))\n",
    "x2=int(input(\"X2 ni kiriting=\"))\n",
    "y2=int(input(\"Y2 ni kiriting=\"))\n",
    "s=(abs(x1-x2)==abs(y1-y2))\n",
    "print(s)"
   ]
  },
  {
   "cell_type": "code",
   "execution_count": 3,
   "id": "cd5c311f",
   "metadata": {
    "scrolled": true
   },
   "outputs": [
    {
     "name": "stdout",
     "output_type": "stream",
     "text": [
      "X1 ni kiriting=4\n",
      "Y1 ni kiriting=4\n",
      "X2 ni kiriting=3\n",
      "Y2 ni kiriting=6\n",
      "False\n"
     ]
    }
   ],
   "source": [
    "#boolean 39 farzin bir yurishda ikkinchisiga o`ta oladi\n",
    "x1=int(input(\"X1 ni kiriting=\"))\n",
    "y1=int(input(\"Y1 ni kiriting=\"))\n",
    "x2=int(input(\"X2 ni kiriting=\"))\n",
    "y2=int(input(\"Y2 ni kiriting=\"))\n",
    "s=(abs(x1-x2)==abs(y1-y2)or(x1==x2)or(y1==y2))\n",
    "print(s)"
   ]
  },
  {
   "cell_type": "code",
   "execution_count": 6,
   "id": "2e8f8cbf",
   "metadata": {},
   "outputs": [
    {
     "name": "stdout",
     "output_type": "stream",
     "text": [
      "X1 ni kiriting=7\n",
      "Y1 ni kiriting=2\n",
      "X2 ni kiriting=6\n",
      "Y2 ni kiriting=5\n",
      "False\n"
     ]
    }
   ],
   "source": [
    "#boolean 40 ot bir yurishda ikkinchi maydonga o`ta oladi\n",
    "x1=int(input(\"X1 ni kiriting=\"))\n",
    "y1=int(input(\"Y1 ni kiriting=\"))\n",
    "x2=int(input(\"X2 ni kiriting=\"))\n",
    "y2=int(input(\"Y2 ni kiriting=\"))\n",
    "s=(abs(x1-x2)==1 and abs(y1-y2)==2)or(abs(x1-x2)==2 and abs(y1-y2)==1)\n",
    "print(s)"
   ]
  },
  {
   "cell_type": "code",
   "execution_count": 2,
   "id": "632fc66d",
   "metadata": {},
   "outputs": [
    {
     "name": "stdout",
     "output_type": "stream",
     "text": [
      "Butun son kiriting=9\n",
      "Butun son kiriting=7\n",
      "Butun son kiriting=6\n",
      "False\n"
     ]
    }
   ],
   "source": [
    "a=int(input(\"Butun son kiriting=\"))\n",
    "b=int(input(\"Butun son kiriting=\"))\n",
    "c=int(input(\"Butun son kiriting=\"))\n",
    "s=(a%2==1 and b%2==0 and c%2==0)or(a%2==0 and b%2==1 and c%2==0)or(a%2==0 and b%2==0 and c%2==1)\n",
    "print(s)"
   ]
  },
  {
   "cell_type": "code",
   "execution_count": null,
   "id": "6313f19d",
   "metadata": {},
   "outputs": [],
   "source": [
    "a=int(input(\"Butun son kiriting=\"))\n",
    "s=a>0 ;t=a<0"
   ]
  }
 ],
 "metadata": {
  "kernelspec": {
   "display_name": "Python 3 (ipykernel)",
   "language": "python",
   "name": "python3"
  },
  "language_info": {
   "codemirror_mode": {
    "name": "ipython",
    "version": 3
   },
   "file_extension": ".py",
   "mimetype": "text/x-python",
   "name": "python",
   "nbconvert_exporter": "python",
   "pygments_lexer": "ipython3",
   "version": "3.8.10"
  }
 },
 "nbformat": 4,
 "nbformat_minor": 5
}
