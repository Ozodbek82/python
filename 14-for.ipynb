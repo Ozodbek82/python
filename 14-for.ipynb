{
 "cells": [
  {
   "cell_type": "code",
   "execution_count": 2,
   "id": "e8576abb",
   "metadata": {},
   "outputs": [
    {
     "name": "stdout",
     "output_type": "stream",
     "text": [
      "n=100\n",
      "1 2 4 5 10 20 25 50 100 "
     ]
    }
   ],
   "source": [
    "#1 n sonini bo`luvchilarini chiqaring\n",
    "n=int(input(\"n=\"))\n",
    "for i in range(1,n+1):\n",
    "    if n%i==0:\n",
    "        print(i,end=\" \")"
   ]
  },
  {
   "cell_type": "code",
   "execution_count": 7,
   "id": "2fdcf30c",
   "metadata": {},
   "outputs": [
    {
     "name": "stdout",
     "output_type": "stream",
     "text": [
      "n=6\n",
      "12\n"
     ]
    }
   ],
   "source": [
    "#2 n soni bo`luvchilari yig`indisini\n",
    "n=int(input(\"n=\"))\n",
    "s=0\n",
    "for i in range(1,n+1):\n",
    "    if n%i==0:\n",
    "        s=s+i\n",
    "print(s)"
   ]
  },
  {
   "cell_type": "code",
   "execution_count": 8,
   "id": "d06726c3",
   "metadata": {},
   "outputs": [
    {
     "name": "stdout",
     "output_type": "stream",
     "text": [
      "n=6\n",
      "mukkammal son\n",
      "6\n"
     ]
    }
   ],
   "source": [
    "#3 n soni mukammal yoki mukammal emasligini aniq\n",
    "n=int(input(\"n=\"))\n",
    "s=0\n",
    "for i in range(1,n):\n",
    "    if n%i==0:\n",
    "        s=s+i\n",
    "if s==n:\n",
    "    print(\"mukkammal son\")\n",
    "else:\n",
    "    print(\"mukammal emas\")\n",
    "print(s)"
   ]
  },
  {
   "cell_type": "code",
   "execution_count": 11,
   "id": "9f6c2058",
   "metadata": {},
   "outputs": [
    {
     "name": "stdout",
     "output_type": "stream",
     "text": [
      "n=100\n",
      "3 6 9 12 18 21 24 27 33 36 39 42 48 51 54 57 63 66 69 72 78 81 84 87 93 96 99 "
     ]
    }
   ],
   "source": [
    "#5  n gacha 3 ga bo`linadigan lekin 5 ga bo`linmaydigan\n",
    "n=int(input(\"n=\"))\n",
    "s=0\n",
    "for i in range(1,n+1):\n",
    "    if i%3==0 and i%5!=0:\n",
    "        print(i,end=\" \")"
   ]
  },
  {
   "cell_type": "code",
   "execution_count": 23,
   "id": "d193c40a",
   "metadata": {},
   "outputs": [
    {
     "data": {
      "text/plain": [
       "169"
      ]
     },
     "execution_count": 23,
     "metadata": {},
     "output_type": "execute_result"
    }
   ],
   "source": [
    "5**2+12**2"
   ]
  },
  {
   "cell_type": "code",
   "execution_count": 21,
   "id": "e03cafa4",
   "metadata": {},
   "outputs": [
    {
     "name": "stdout",
     "output_type": "stream",
     "text": [
      "n=20\n",
      "\n",
      "\n",
      "3 4 5\n",
      "\n",
      "4 3 5\n",
      "\n",
      "5 12 13\n",
      "\n",
      "6 8 10\n",
      "\n",
      "\n",
      "8 6 10\n",
      "8 15 17\n",
      "\n",
      "9 12 15\n",
      "\n",
      "\n"
     ]
    }
   ],
   "source": [
    "#8 pifagor sonlari\n",
    "n=int(input(\"n=\"))\n",
    "for i in range(1,n//2+1):\n",
    "    for j in range(1,n+1):\n",
    "        a=(i**2+j**2)**(1/2)\n",
    "        if int(a)/a==1:\n",
    "            print(i,j,int(a))\n",
    "    print()\n"
   ]
  },
  {
   "cell_type": "code",
   "execution_count": 7,
   "id": "39c12ffa",
   "metadata": {},
   "outputs": [
    {
     "name": "stdout",
     "output_type": "stream",
     "text": [
      "n=10\n",
      "5 4 3\n",
      "10 8 6\n",
      "120\n"
     ]
    }
   ],
   "source": [
    "#8-1 pifagor sonlari\n",
    "n=int(input(\"n=\"))\n",
    "sana=0\n",
    "for i in range(1,n+1):\n",
    "    for j in range(1,i):\n",
    "        for k in range(1,j):\n",
    "            sana+=1\n",
    "            if i*i==j*j+k*k:\n",
    "                print(i,j,k)\n",
    "print(sana)"
   ]
  },
  {
   "cell_type": "code",
   "execution_count": 8,
   "id": "97fe17f7",
   "metadata": {},
   "outputs": [
    {
     "name": "stdout",
     "output_type": "stream",
     "text": [
      "n=100\n",
      "5 4 3\n",
      "10 8 6\n",
      "13 12 5\n",
      "15 12 9\n",
      "17 15 8\n",
      "20 16 12\n",
      "25 20 15\n",
      "29 21 20\n",
      "25 24 7\n",
      "26 24 10\n",
      "30 24 18\n",
      "35 28 21\n",
      "34 30 16\n",
      "40 32 24\n",
      "37 35 12\n",
      "39 36 15\n",
      "45 36 27\n",
      "41 40 9\n",
      "50 40 30\n",
      "58 42 40\n",
      "55 44 33\n",
      "51 45 24\n",
      "53 45 28\n",
      "50 48 14\n",
      "52 48 20\n",
      "60 48 36\n",
      "1225\n"
     ]
    }
   ],
   "source": [
    "#8-2 pifagor sonlari optimal\n",
    "from math import sqrt\n",
    "sana = 0\n",
    "n=int(input(\"n=\"))\n",
    "for b in range(1,n+1):\n",
    "    for a in range(1,b):\n",
    "        sana+=1\n",
    "        c = sqrt(b*b + a*a)\n",
    "        if c % 1 == 0 and c<=n:\n",
    "            print(int(c),b,a)\n",
    "print(sana)"
   ]
  },
  {
   "cell_type": "code",
   "execution_count": 2,
   "id": "72da5daf",
   "metadata": {},
   "outputs": [
    {
     "name": "stdout",
     "output_type": "stream",
     "text": [
      "n=5\n",
      "1.4636111111111112\n"
     ]
    }
   ],
   "source": [
    "#11  a) \n",
    "n=int(input(\"n=\"))\n",
    "s=0\n",
    "for i in range(1,n+1):\n",
    "    s=s+1/(i**2)\n",
    "print(s)"
   ]
  },
  {
   "cell_type": "code",
   "execution_count": null,
   "id": "110ffc99",
   "metadata": {},
   "outputs": [],
   "source": []
  },
  {
   "cell_type": "code",
   "execution_count": 4,
   "id": "3d15d831",
   "metadata": {},
   "outputs": [
    {
     "name": "stdout",
     "output_type": "stream",
     "text": [
      "n=5\n",
      "1.185662037037037\n"
     ]
    }
   ],
   "source": [
    "#11 b)\n",
    "n=int(input(\"n=\"))\n",
    "s=0\n",
    "for i in range(1,n+1):\n",
    "    s=s+1/(i**3)\n",
    "print(s)\n"
   ]
  },
  {
   "cell_type": "code",
   "execution_count": 10,
   "id": "14e1bf71",
   "metadata": {},
   "outputs": [
    {
     "name": "stdout",
     "output_type": "stream",
     "text": [
      "n=5\n",
      "1.7166666666666668\n"
     ]
    }
   ],
   "source": [
    "#11 c)\n",
    "n=int(input(\"n=\"))\n",
    "s=0\n",
    "for i in range(1,n+1):\n",
    "    p=1\n",
    "    for j in range(1,i+1):\n",
    "        p=p*j\n",
    "    s=s+1/p\n",
    "    \n",
    "print(s)"
   ]
  },
  {
   "cell_type": "code",
   "execution_count": 11,
   "id": "c04d512d",
   "metadata": {},
   "outputs": [
    {
     "name": "stdout",
     "output_type": "stream",
     "text": [
      "n=5\n",
      "0.3659027777777778\n"
     ]
    }
   ],
   "source": [
    "#11 d)\n",
    "n=int(input(\"n=\"))\n",
    "s=0\n",
    "for i in range(1,n+1):\n",
    "    s=s+1/((2*i)**2)\n",
    "print(s)"
   ]
  },
  {
   "cell_type": "code",
   "execution_count": 17,
   "id": "bf424a5c",
   "metadata": {},
   "outputs": [
    {
     "name": "stdout",
     "output_type": "stream",
     "text": [
      "n=5\n",
      "0.75\n",
      "0.8\n",
      "0.8333333333333334\n",
      "0.8571428571428571\n",
      "0.42857142857142855\n"
     ]
    }
   ],
   "source": [
    "#11 e)\n",
    "n=int(input(\"n=\"))\n",
    "s=1\n",
    "for i in range(2,n+1):\n",
    "    s=s*(i+1)/(i+2)\n",
    "print(s)"
   ]
  },
  {
   "cell_type": "code",
   "execution_count": 19,
   "id": "0349496e",
   "metadata": {},
   "outputs": [
    {
     "name": "stdout",
     "output_type": "stream",
     "text": [
      "n=5\n",
      "3.378639692141687\n"
     ]
    }
   ],
   "source": [
    "#11 f)\n",
    "n=int(input(\"n=\"))\n",
    "s=1\n",
    "for i in range(2,n+1):\n",
    "    p=1\n",
    "    for i in range(1,i+1):\n",
    "        p*=i\n",
    "    s=s*(1+1/p)**2\n",
    "print(s)"
   ]
  },
  {
   "cell_type": "code",
   "execution_count": 21,
   "id": "6854a428",
   "metadata": {},
   "outputs": [
    {
     "name": "stdout",
     "output_type": "stream",
     "text": [
      "n=5\n",
      "4.954513668915265\n"
     ]
    }
   ],
   "source": [
    "# f\n",
    "import math\n",
    "n=int(input(\"n=\"))\n",
    "s=1;p=0\n",
    "for i in range(2,n+1):\n",
    "    p+=math.sin(i)\n",
    "    s=s+1/p\n",
    "print(s)"
   ]
  },
  {
   "cell_type": "code",
   "execution_count": 23,
   "id": "1926d992",
   "metadata": {},
   "outputs": [
    {
     "name": "stdout",
     "output_type": "stream",
     "text": [
      "n=5\n",
      "-5.141941749130105\n"
     ]
    }
   ],
   "source": [
    "# g\n",
    "import math\n",
    "n=int(input(\"n=\"))\n",
    "s=1;p1=0;p2=0\n",
    "for i in range(2,n+1):\n",
    "    p1+=math.cos(i)\n",
    "    p2+=math.sin(i)\n",
    "    s=s+p1/p2\n",
    "print(s)"
   ]
  },
  {
   "cell_type": "code",
   "execution_count": 9,
   "id": "eb74f129",
   "metadata": {},
   "outputs": [
    {
     "name": "stdout",
     "output_type": "stream",
     "text": [
      "sonni kiriting=10230\n",
      "bu son qaysi sanoq sistemasida (1-10)=4\n",
      "qaysi sistemaga o`tkazish kerak (1-10)=8\n",
      "454\n"
     ]
    }
   ],
   "source": [
    "# 1-10 sanoq sisremasiga o`tkazish\n",
    "n1=int(input(\"sonni kiriting=\"))\n",
    "n2=int(input(\"bu son qaysi sanoq sistemasida (1-10)=\"))\n",
    "n3=int(input(\"qaysi sistemaga o`tkazish kerak (1-10)=\"))\n",
    "s=0\n",
    "for i in range(n1):\n",
    "    s=s+(n1%10)*(n2**i)\n",
    "    n1=n1//10\n",
    "    if n1==0:\n",
    "        break\n",
    "c=1; natija=0\n",
    "for i in range(1,s):\n",
    "    qoldiq=s%n3   \n",
    "    if qoldiq!=0:\n",
    "        natija=(s%n3)*(10**(i-1))+natija\n",
    "    if s<n3:\n",
    "        break\n",
    "    s=s//n3\n",
    "print(natija)"
   ]
  },
  {
   "cell_type": "code",
   "execution_count": 37,
   "id": "eccfeedc",
   "metadata": {},
   "outputs": [
    {
     "name": "stdout",
     "output_type": "stream",
     "text": [
      "n=10000\n",
      "220 284\n",
      "1184 1210\n",
      "2620 2924\n",
      "5020 5564\n",
      "6232 6368\n"
     ]
    }
   ],
   "source": [
    "# do`st sonlar\n",
    "n=int(input(\"n=\"))\n",
    "b=0\n",
    "for k in range(1,n+1):\n",
    "    r=0; s=0\n",
    "    for i in range(1,k):\n",
    "        if k%i==0:\n",
    "            s=s+i\n",
    "    for j in range(1,s):\n",
    "        if s%j==0:\n",
    "            r=r+j\n",
    "    if k==r and k!=s:\n",
    "        if b==k:\n",
    "            continue\n",
    "        b=s\n",
    "        print(k,s)"
   ]
  },
  {
   "cell_type": "code",
   "execution_count": 13,
   "id": "2dc74b86",
   "metadata": {},
   "outputs": [
    {
     "name": "stdout",
     "output_type": "stream",
     "text": [
      "6 and 6 is friend!\n",
      "28 and 28 is friend!\n",
      "220 and 284 is friend!\n",
      "284 and 220 is friend!\n",
      "496 and 496 is friend!\n",
      "1184 and 1210 is friend!\n",
      "1210 and 1184 is friend!\n",
      "2620 and 2924 is friend!\n",
      "2924 and 2620 is friend!\n",
      "5020 and 5564 is friend!\n",
      "5564 and 5020 is friend!\n",
      "6232 and 6368 is friend!\n",
      "6368 and 6232 is friend!\n",
      "8128 and 8128 is friend!\n"
     ]
    }
   ],
   "source": [
    "for num1 in range(1, 10001):\n",
    "    num1_del = [num for num in range(1, num1) if num1 % num == 0]\n",
    "    num2 = sum(num1_del)\n",
    "    num2_del = [num for num in range(1, num2) if num2 % num == 0]\n",
    "    if num1 == sum(num2_del) and num2 == sum(num1_del):\n",
    "        print(f'{num1} and {num2} is friend!')\n"
   ]
  },
  {
   "cell_type": "code",
   "execution_count": 17,
   "id": "8ba12fbc",
   "metadata": {},
   "outputs": [],
   "source": [
    "\n"
   ]
  },
  {
   "cell_type": "code",
   "execution_count": null,
   "id": "5f066861",
   "metadata": {},
   "outputs": [],
   "source": []
  }
 ],
 "metadata": {
  "kernelspec": {
   "display_name": "Python 3 (ipykernel)",
   "language": "python",
   "name": "python3"
  },
  "language_info": {
   "codemirror_mode": {
    "name": "ipython",
    "version": 3
   },
   "file_extension": ".py",
   "mimetype": "text/x-python",
   "name": "python",
   "nbconvert_exporter": "python",
   "pygments_lexer": "ipython3",
   "version": "3.10.0"
  }
 },
 "nbformat": 4,
 "nbformat_minor": 5
}
