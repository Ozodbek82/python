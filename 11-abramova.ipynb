{
 "cells": [
  {
   "cell_type": "code",
   "execution_count": 6,
   "id": "3ba7f845",
   "metadata": {},
   "outputs": [
    {
     "name": "stdout",
     "output_type": "stream",
     "text": [
      "n=3\n",
      "8\n"
     ]
    }
   ],
   "source": [
    "#77 a) 2**n\n",
    "n=int(input(\"n=\"))\n",
    "s=1\n",
    "for i in range(n):\n",
    "    s*=2\n",
    "print(s)"
   ]
  },
  {
   "cell_type": "code",
   "execution_count": 9,
   "id": "66da4577",
   "metadata": {},
   "outputs": [
    {
     "name": "stdout",
     "output_type": "stream",
     "text": [
      "n=5\n",
      "120\n"
     ]
    }
   ],
   "source": [
    "#77 b) n!\n",
    "n=int(input(\"n=\"))\n",
    "s=1\n",
    "for i in range(1,n+1):\n",
    "    s*=i\n",
    "print(s)"
   ]
  },
  {
   "cell_type": "code",
   "execution_count": 12,
   "id": "9cdb8f06",
   "metadata": {},
   "outputs": [
    {
     "name": "stdout",
     "output_type": "stream",
     "text": [
      "n=5\n",
      "3.0694444444444446\n"
     ]
    }
   ],
   "source": [
    "#77 v) (1+1/1**2)*(1+1/2**2)*(1+1/n**2)\n",
    "n=int(input(\"n=\"))\n",
    "s=1\n",
    "for i in range(1,n+1):\n",
    "    s*=1+1/(i**2)\n",
    "print(s)"
   ]
  },
  {
   "cell_type": "code",
   "execution_count": 14,
   "id": "09d3f226",
   "metadata": {},
   "outputs": [
    {
     "name": "stdout",
     "output_type": "stream",
     "text": [
      "n=5\n",
      "8.845740273146985\n"
     ]
    }
   ],
   "source": [
    "#77 g) 1/sin(1)+1/(sin(1)+sin(2))+...\n",
    "import math\n",
    "n=int(input(\"n=\"))\n",
    "s=0; s1=0\n",
    "for i in range(1,n+1):\n",
    "    s+=math.sin(i)\n",
    "    s1+=1/s\n",
    "print(s1)"
   ]
  },
  {
   "cell_type": "code",
   "execution_count": 10,
   "id": "0dd9d177",
   "metadata": {},
   "outputs": [
    {
     "data": {
      "text/plain": [
       "1.9975909124103448"
      ]
     },
     "execution_count": 10,
     "metadata": {},
     "output_type": "execute_result"
    }
   ],
   "source": [
    "(2+(2+(2+(2+2**(1/2))**(1/2))**(1/2))**(1/2))**(1/2)"
   ]
  },
  {
   "cell_type": "code",
   "execution_count": 11,
   "id": "27813ee7",
   "metadata": {},
   "outputs": [
    {
     "name": "stdout",
     "output_type": "stream",
     "text": [
      "n=5\n",
      "1.9975909124103448\n"
     ]
    }
   ],
   "source": [
    "#77 d)  (2+(2+...)**1/2)  n ta\n",
    "n=int(input(\"n=\"))\n",
    "s=0\n",
    "for i in range(n):\n",
    "    s=(2+s)**(1/2)\n",
    "print(s)"
   ]
  },
  {
   "cell_type": "code",
   "execution_count": 20,
   "id": "00823708",
   "metadata": {},
   "outputs": [
    {
     "name": "stdout",
     "output_type": "stream",
     "text": [
      "n=3\n",
      "-0.02083893234739401\n"
     ]
    }
   ],
   "source": [
    "#77 e) cos1/sin1*(cos1+cos2)/(sin1+sin2)...\n",
    "from math import cos as cos\n",
    "from math import sin as sin\n",
    "cos1=0; sin1=0; p=1\n",
    "n=int(input(\"n=\"))\n",
    "for i in range(1,n+1):\n",
    "    cos1=cos1+cos(i)\n",
    "    sin1=sin1+sin(i)\n",
    "    p=p*cos1/sin1\n",
    "print(p)\n",
    "    "
   ]
  },
  {
   "cell_type": "code",
   "execution_count": 19,
   "id": "d46567b4",
   "metadata": {},
   "outputs": [
    {
     "data": {
      "text/plain": [
       "-0.02083893234739401"
      ]
     },
     "execution_count": 19,
     "metadata": {},
     "output_type": "execute_result"
    }
   ],
   "source": [
    "cos(1)/sin(1)*(cos(1)+cos(2))/(sin(1)+sin(2))*(cos(1)+cos(2)+cos(3))/(sin(1)+sin(2)+sin(3))"
   ]
  },
  {
   "cell_type": "code",
   "execution_count": 28,
   "id": "0dc775c7",
   "metadata": {},
   "outputs": [
    {
     "name": "stdout",
     "output_type": "stream",
     "text": [
      "n=4\n",
      "2.467213661572348\n"
     ]
    }
   ],
   "source": [
    "#77 j)  (3+(6+(9+..+(3*(n-1)+(3*n)**(1/2))**(1/2))**(1/2))**(1/2))**(1/2)\n",
    "n=int(input(\"n=\"))\n",
    "s=0\n",
    "for i in range(n,0,-1):\n",
    "    s=(3*i+s)**(1/2)\n",
    "print(s)"
   ]
  },
  {
   "cell_type": "code",
   "execution_count": 27,
   "id": "4c82b811",
   "metadata": {},
   "outputs": [
    {
     "data": {
      "text/plain": [
       "2.467213661572348"
      ]
     },
     "execution_count": 27,
     "metadata": {},
     "output_type": "execute_result"
    }
   ],
   "source": [
    "(3+(6+(9+12**(1/2))**(1/2))**(1/2))**(1/2)"
   ]
  },
  {
   "cell_type": "code",
   "execution_count": 31,
   "id": "b37cc0e6",
   "metadata": {},
   "outputs": [
    {
     "name": "stdout",
     "output_type": "stream",
     "text": [
      "a=2\n",
      "n=4\n",
      "16.0\n"
     ]
    }
   ],
   "source": [
    "# 78 a) a**n\n",
    "a=float(input(\"a=\"))\n",
    "n=int(input(\"n=\"))\n",
    "p=1\n",
    "for i in range(n):\n",
    "    p*=a\n",
    "print(p)\n",
    "    "
   ]
  },
  {
   "cell_type": "code",
   "execution_count": 41,
   "id": "52be5b36",
   "metadata": {},
   "outputs": [
    {
     "name": "stdout",
     "output_type": "stream",
     "text": [
      "a=2\n",
      "n=6\n",
      "720.0\n"
     ]
    }
   ],
   "source": [
    "#78 b)   a*(a+1)*...(a+n-1)\n",
    "a=float(input(\"a=\"))\n",
    "n=int(input(\"n=\"))\n",
    "p=1\n",
    "for i in range(n-1):\n",
    "    p*=a\n",
    "    a+=1\n",
    "print(p)"
   ]
  },
  {
   "cell_type": "code",
   "execution_count": 37,
   "id": "dad81a56",
   "metadata": {},
   "outputs": [
    {
     "data": {
      "text/plain": [
       "720"
      ]
     },
     "execution_count": 37,
     "metadata": {},
     "output_type": "execute_result"
    }
   ],
   "source": [
    "2*3*4*5*6"
   ]
  },
  {
   "cell_type": "code",
   "execution_count": 43,
   "id": "71f421b8",
   "metadata": {},
   "outputs": [
    {
     "name": "stdout",
     "output_type": "stream",
     "text": [
      "a=2\n",
      "n=5\n",
      "0.7182539682539681\n"
     ]
    }
   ],
   "source": [
    "#78 v) 1/a+1/(a*(a+1))+...+1/(a*(a+1)*...*(a+n))\n",
    "a=float(input(\"a=\"))\n",
    "n=int(input(\"n=\"))\n",
    "p=1; s=0\n",
    "for i in range(n+1):\n",
    "    p*=a+i\n",
    "    s+=1/p\n",
    "print(s)"
   ]
  },
  {
   "cell_type": "code",
   "execution_count": 44,
   "id": "cb0ceb39",
   "metadata": {},
   "outputs": [
    {
     "data": {
      "text/plain": [
       "0.7166666666666666"
      ]
     },
     "execution_count": 44,
     "metadata": {},
     "output_type": "execute_result"
    }
   ],
   "source": [
    "1/2+1/6+1/24+1/120"
   ]
  },
  {
   "cell_type": "code",
   "execution_count": 55,
   "id": "3752fbb5",
   "metadata": {},
   "outputs": [
    {
     "name": "stdout",
     "output_type": "stream",
     "text": [
      "a=2\n",
      "n=4\n",
      "0.8164215087890625\n"
     ]
    }
   ],
   "source": [
    "#78 g)  1/a+1/a**2+1/a**4+..1/a**(2**n)\n",
    "a=float(input(\"a=\"))\n",
    "n=int(input(\"n=\"))\n",
    "p=1; s=0\n",
    "for i in range(n+1):\n",
    "    p=1/(a**(2**i))\n",
    "    s+=p\n",
    "print(s)"
   ]
  },
  {
   "cell_type": "code",
   "execution_count": 56,
   "id": "3a98fd12",
   "metadata": {},
   "outputs": [
    {
     "data": {
      "text/plain": [
       "0.8164215087890625"
      ]
     },
     "execution_count": 56,
     "metadata": {},
     "output_type": "execute_result"
    }
   ],
   "source": [
    "1/2+1/4+1/16+1/(2**8)+1/(2**16)"
   ]
  },
  {
   "cell_type": "code",
   "execution_count": 60,
   "id": "01800840",
   "metadata": {},
   "outputs": [
    {
     "name": "stdout",
     "output_type": "stream",
     "text": [
      "a=2\n",
      "n=4\n",
      "0.8164215087890625\n"
     ]
    }
   ],
   "source": [
    "#78 g) darajasiz 1/a+1/a**2+1/a**4+..1/a**(2**n)\n",
    "a=float(input(\"a=\"))\n",
    "n=int(input(\"n=\"))\n",
    "p=1; s=1/a\n",
    "for i in range(n):\n",
    "    a=a*a\n",
    "    s+=1/a\n",
    "print(s)"
   ]
  },
  {
   "cell_type": "code",
   "execution_count": 61,
   "id": "7569886c",
   "metadata": {},
   "outputs": [
    {
     "name": "stdout",
     "output_type": "stream",
     "text": [
      "a=2\n",
      "n=5\n",
      "-258336.0\n"
     ]
    }
   ],
   "source": [
    "#78 d) a*(a-n)*(a-2*n)...(a-n**2)\n",
    "a=float(input(\"a=\"))\n",
    "n=int(input(\"n=\"))\n",
    "p=1\n",
    "for i in range(n+1):\n",
    "    b=a-i*n\n",
    "    p*=b\n",
    "print(p)"
   ]
  },
  {
   "cell_type": "code",
   "execution_count": 62,
   "id": "95d81e03",
   "metadata": {},
   "outputs": [
    {
     "data": {
      "text/plain": [
       "-258336"
      ]
     },
     "execution_count": 62,
     "metadata": {},
     "output_type": "execute_result"
    }
   ],
   "source": [
    "2*(2-5)*(2-10)*(2-15)*(2-20)*(2-25)"
   ]
  },
  {
   "cell_type": "code",
   "execution_count": 64,
   "id": "c39a0462",
   "metadata": {},
   "outputs": [
    {
     "name": "stdout",
     "output_type": "stream",
     "text": [
      "1.7298409468177145e-14\n"
     ]
    }
   ],
   "source": [
    "#79 (1+sin(0.1))*(1+sin(0.2))*...*(1+sin(10))\n",
    "s=1\n",
    "for i in range(1,101):\n",
    "    a=1+sin(i/10)\n",
    "    s*=a\n",
    "print(s)"
   ]
  },
  {
   "cell_type": "code",
   "execution_count": 4,
   "id": "ec9d3192",
   "metadata": {},
   "outputs": [
    {
     "name": "stdout",
     "output_type": "stream",
     "text": [
      "x=2\n",
      "0.9092974515196738\n"
     ]
    }
   ],
   "source": [
    "# 80 \n",
    "x=float(input(\"x=\"))\n",
    "tepa=x; past=1; s=x\n",
    "for i in range(2,14,2):\n",
    "    tepa*=(-1)*x*x\n",
    "    past*=(i+1)*i\n",
    "    s+=tepa/past\n",
    "print(s)"
   ]
  },
  {
   "cell_type": "code",
   "execution_count": 2,
   "id": "346fc4ca",
   "metadata": {},
   "outputs": [
    {
     "data": {
      "text/plain": [
       "0.9092974515196738"
      ]
     },
     "execution_count": 2,
     "metadata": {},
     "output_type": "execute_result"
    }
   ],
   "source": [
    "2-8/6+32/(6*4*5)-(2**7)/(6*4*5*6*7)+(x**9)/(6*4*5*6*7*8*9)-(2**11)/(6*4*5*6*7*8*9*10*11)+(2**13)/(6*4*5*6*7*8*9*10*11*12*13)"
   ]
  },
  {
   "cell_type": "code",
   "execution_count": null,
   "id": "65edadc2",
   "metadata": {},
   "outputs": [],
   "source": [
    "# 81 \n",
    "a=int(input(\"a=\"))\n",
    "\n"
   ]
  }
 ],
 "metadata": {
  "kernelspec": {
   "display_name": "Python 3 (ipykernel)",
   "language": "python",
   "name": "python3"
  },
  "language_info": {
   "codemirror_mode": {
    "name": "ipython",
    "version": 3
   },
   "file_extension": ".py",
   "mimetype": "text/x-python",
   "name": "python",
   "nbconvert_exporter": "python",
   "pygments_lexer": "ipython3",
   "version": "3.10.0"
  }
 },
 "nbformat": 4,
 "nbformat_minor": 5
}
