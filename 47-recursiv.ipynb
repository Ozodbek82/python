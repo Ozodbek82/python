{
 "cells": [
  {
   "cell_type": "code",
   "execution_count": 4,
   "id": "217957cd",
   "metadata": {},
   "outputs": [
    {
     "name": "stdout",
     "output_type": "stream",
     "text": [
      "3628800\n"
     ]
    }
   ],
   "source": [
    "# recur 1) N! ni hisoblovchi funksiya\n",
    "def fact(n):\n",
    "    if n==1:\n",
    "        return 1\n",
    "    else:\n",
    "        return n*fact(n-1)\n",
    "print(fact(10))"
   ]
  },
  {
   "cell_type": "code",
   "execution_count": 8,
   "id": "fb57f1c2",
   "metadata": {},
   "outputs": [
    {
     "name": "stdout",
     "output_type": "stream",
     "text": [
      "3840\n"
     ]
    }
   ],
   "source": [
    "# recur 2) N!! ni hisoblovchi funksiya\n",
    "def fact2(n):\n",
    "    if n==1 or n==2:\n",
    "        return n\n",
    "    else:\n",
    "        return n*fact2(n-2)\n",
    "print(fact2(10))"
   ]
  },
  {
   "cell_type": "code",
   "execution_count": 24,
   "id": "1b381998",
   "metadata": {},
   "outputs": [
    {
     "name": "stdout",
     "output_type": "stream",
     "text": [
      "10000\n",
      "2.86797199079244e-10\n"
     ]
    }
   ],
   "source": [
    "# recur 3-1) PowerN(x,n) ni hisoblovchi funksiya\n",
    "def PowerN(x,n):\n",
    "    if n==0:\n",
    "        return 1\n",
    "    else:\n",
    "        if n>0:\n",
    "            if n%2==1:\n",
    "                return \n",
    "            return x*PowerN(x,n-1)\n",
    "        else:\n",
    "            return PowerN(1/x,-n)\n",
    "print(PowerN(10,4))\n",
    "print(PowerN(9,-10))"
   ]
  },
  {
   "cell_type": "code",
   "execution_count": null,
   "id": "3f0683c5",
   "metadata": {},
   "outputs": [],
   "source": [
    "# recur 3-2) public version PowerN(x,n) ni hisoblovchi funksiya\n",
    "def powerN(X,N):\n",
    "    if N==0:\n",
    "        return 1\n",
    "    elif N < 0:\n",
    "        return 1 / powerN(X,-N)\n",
    "    elif N%2==0:\n",
    "        return powerN(X,N/2) ** 2\n",
    "    elif N%2==1:\n",
    "        return powerN(X,N-1) * X\n",
    "\n",
    "powerN(5,-3)"
   ]
  },
  {
   "cell_type": "code",
   "execution_count": 30,
   "id": "0ef1be5e",
   "metadata": {},
   "outputs": [
    {
     "name": "stdout",
     "output_type": "stream",
     "text": [
      "55\n",
      "5\n",
      "610\n"
     ]
    }
   ],
   "source": [
    "# recur 4) Fib1(n) ni hisoblovchi funksiya, fibonachchi sonlari ketma ketligini\n",
    "# n-elementini hisoblovchi\n",
    "def Fib1(n):\n",
    "    if n==1 or n==2:\n",
    "        return 1\n",
    "    else:\n",
    "       return Fib1(n-1)+Fib1(n-2)\n",
    "print(Fib1(10))\n",
    "print(Fib1(5))\n",
    "print(Fib1(15))"
   ]
  },
  {
   "cell_type": "code",
   "execution_count": 40,
   "id": "63c5a7bd",
   "metadata": {},
   "outputs": [
    {
     "name": "stdout",
     "output_type": "stream",
     "text": [
      "55\n",
      "[1, 1, 2, 3, 5, 8, 13, 21, 34, 55]\n"
     ]
    }
   ],
   "source": [
    "# recur 5) Fib2(n) ni hisoblovchi funksiya, fibonachchi sonlari ketma ketligini\n",
    "# n-elementini hisoblovchi, yordamchi massivdan foydalaning\n",
    "arr=[1,1]\n",
    "def fib2(n):\n",
    "    \n",
    "    if n-1<len(arr):\n",
    "        return arr[n-1]\n",
    "    else:\n",
    "        fibn=fib2(n-1)+fib2(n-2)\n",
    "        arr.append(fibn)\n",
    "        return fibn\n",
    "print(fib2(10))\n",
    "print(arr)\n"
   ]
  },
  {
   "cell_type": "code",
   "execution_count": null,
   "id": "59c5a015",
   "metadata": {},
   "outputs": [],
   "source": [
    "# recur 6) public version\n",
    "def Combin(N,K):\n",
    "    if N==K or K==0:\n",
    "        return 1\n",
    "    else:\n",
    "        return Combin(N-1,K) + Combin(N-1,K-1)\n",
    "Combin(5,3)\n"
   ]
  }
 ],
 "metadata": {
  "kernelspec": {
   "display_name": "Python 3 (ipykernel)",
   "language": "python",
   "name": "python3"
  },
  "language_info": {
   "codemirror_mode": {
    "name": "ipython",
    "version": 3
   },
   "file_extension": ".py",
   "mimetype": "text/x-python",
   "name": "python",
   "nbconvert_exporter": "python",
   "pygments_lexer": "ipython3",
   "version": "3.8.10"
  }
 },
 "nbformat": 4,
 "nbformat_minor": 5
}
