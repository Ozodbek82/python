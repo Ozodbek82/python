{
 "cells": [
  {
   "cell_type": "code",
   "execution_count": 1,
   "id": "03d0d22c",
   "metadata": {},
   "outputs": [
    {
     "name": "stdout",
     "output_type": "stream",
     "text": [
      "sonni kiriting=2\n",
      "8.0\n",
      "sonni kiriting=3\n",
      "27.0\n",
      "sonni kiriting=4\n",
      "64.0\n",
      "sonni kiriting=5\n",
      "125.0\n",
      "sonni kiriting=6\n",
      "216.0\n",
      "sonni kiriting=7\n",
      "343.0\n"
     ]
    }
   ],
   "source": [
    "# proc 1\n",
    "i=0\n",
    "def PowerA3(A):\n",
    "    return A*A*A\n",
    "while i<=5:\n",
    "    a=float(input(\"sonni kiriting=\"))\n",
    "    print(\"B=\",PowerA3(a))\n",
    "    i+=1"
   ]
  },
  {
   "cell_type": "code",
   "execution_count": 1,
   "id": "7f14effc",
   "metadata": {},
   "outputs": [
    {
     "name": "stdout",
     "output_type": "stream",
     "text": [
      "sonni kiriting=2\n",
      "2.0 4.0 8.0 16.0\n",
      "sonni kiriting=3\n",
      "3.0 9.0 27.0 81.0\n",
      "sonni kiriting=4\n",
      "4.0 16.0 64.0 256.0\n",
      "sonni kiriting=5\n",
      "5.0 25.0 125.0 625.0\n",
      "sonni kiriting=10\n",
      "10.0 100.0 1000.0 10000.0\n",
      "sonni kiriting=1\n",
      "1.0 1.0 1.0 1.0\n"
     ]
    }
   ],
   "source": [
    "# proc 2   PowerA234(A,B,C,D)\n",
    "i=0\n",
    "def PowerA3(A):\n",
    "    b=A*A\n",
    "    c=A*A*A\n",
    "    d=A*A*A*A\n",
    "    print(A,b,c,d,)\n",
    "while i<=5:\n",
    "    a=float(input(\"sonni kiriting=\"))\n",
    "    PowerA3(a)\n",
    "    i+=1"
   ]
  },
  {
   "cell_type": "code",
   "execution_count": 6,
   "id": "fd90c373",
   "metadata": {},
   "outputs": [
    {
     "name": "stdout",
     "output_type": "stream",
     "text": [
      "3 4 3.5 3.4641016151377544\n",
      "3 5 4.0 3.872983346207417\n",
      "3 6 4.5 4.242640687119285\n"
     ]
    }
   ],
   "source": [
    "# proc=3 \n",
    "A=3\n",
    "B=4\n",
    "C=5\n",
    "D=6\n",
    "def Mean(x,y):\n",
    "    AMean=(x+y)/2\n",
    "    BMean=(x*y)**(1/2)\n",
    "    print(x,y,AMean,BMean)\n",
    "Mean(A,B)\n",
    "Mean(A,C)    \n",
    "Mean(A,D)      \n",
    "    "
   ]
  },
  {
   "cell_type": "code",
   "execution_count": null,
   "id": "843ee330",
   "metadata": {},
   "outputs": [],
   "source": [
    "# Funksiya 3 public version\n",
    "def uchburchak(a):\n",
    "    S = a ** 2 * 3**0.5 / 4\n",
    "    P = 3 * a\n",
    "    return S,P\n",
    "\n",
    "a = int(input(\"a = \"))\n",
    "b = int(input(\"b = \"))\n",
    "c = int(input(\"c = \"))\n",
    "\n",
    "print(\"1-uchburchak\",uchburchak(a))\n",
    "print(\"2-uchburchak\",uchburchak(b))\n",
    "print(\"3-uchburchak\",uchburchak(c))"
   ]
  },
  {
   "cell_type": "code",
   "execution_count": 10,
   "id": "5e729902",
   "metadata": {},
   "outputs": [
    {
     "name": "stdout",
     "output_type": "stream",
     "text": [
      "sonni kiriting=5\n",
      "5.0 15.0 10.825317547305483\n",
      "sonni kiriting=6\n",
      "6.0 18.0 15.588457268119894\n",
      "sonni kiriting=5\n",
      "5.0 15.0 10.825317547305483\n",
      "sonni kiriting=8\n",
      "8.0 24.0 27.712812921102035\n"
     ]
    }
   ],
   "source": [
    "#proc-4 teng tomonli uchburchak yuzasi va perimetri\n",
    "i=1\n",
    "def TrianglePS(a):\n",
    "    P=3*a\n",
    "    s=a*a*(3**(1/2))/4\n",
    "    print(a,P,s)\n",
    "while i<=3:\n",
    "    a=float(input(\"sonni kiriting=\"))\n",
    "    TrianglePS(a)\n",
    "    i+=1    \n",
    "    "
   ]
  },
  {
   "cell_type": "code",
   "execution_count": 11,
   "id": "862770f7",
   "metadata": {},
   "outputs": [
    {
     "name": "stdout",
     "output_type": "stream",
     "text": [
      "x1=1\n",
      "y1=1\n",
      "x2=6\n",
      "y2=5\n",
      "1 1 6 5 18 20\n",
      "x1=1\n",
      "y1=1\n",
      "x2=2\n",
      "y2=2\n",
      "1 1 2 2 4 1\n",
      "x1=1\n",
      "y1=1\n",
      "x2=3\n",
      "y2=3\n",
      "1 1 3 3 8 4\n",
      "x1=1\n",
      "y1=1\n",
      "x2=4\n",
      "y2=4\n",
      "1 1 4 4 12 9\n"
     ]
    }
   ],
   "source": [
    "#proc 5  RectPS(x1, y1, x2, y2, P, S)\n",
    "i=1\n",
    "def RectPS(x1, y1, x2, y2):\n",
    "    p=abs(x1-x2)*2+abs(y1-y2)*2\n",
    "    s=abs((x1-x2)*(y1-y2))\n",
    "    print(x1, y1, x2, y2,p,s)\n",
    "while i<=3:\n",
    "    i+=1\n",
    "    x1=int(input(\"x1=\"))\n",
    "    y1=int(input(\"y1=\"))\n",
    "    x2=int(input(\"x2=\"))\n",
    "    y2=int(input(\"y2=\"))\n",
    "    RectPS(x1,y1,x2,y2)\n",
    "    "
   ]
  },
  {
   "cell_type": "code",
   "execution_count": null,
   "id": "cc5edb2b",
   "metadata": {},
   "outputs": [],
   "source": [
    "# Funksiya 5  public version\n",
    "def tortburchak(x1,y1,x2,y2):\n",
    "    birinchi_tomon = abs(y1-y2)\n",
    "    ikkinchi_tomon = abs(x1-x2)\n",
    "    S = birinchi_tomon * ikkinchi_tomon\n",
    "    P = 2 * (birinchi_tomon + ikkinchi_tomon)\n",
    "    return S,P\n",
    "\n",
    "x1 = int(input(\"x1 = \"))\n",
    "y1 = int(input(\"y1 = \"))\n",
    "x2 = int(input(\"x2 = \"))\n",
    "y2 = int(input(\"y2 = \"))\n",
    "print(tortburchak(x1,y1,x2,y2))\n",
    "x1 = int(input(\"x1 = \"))\n",
    "y1 = int(input(\"y1 = \"))\n",
    "x2 = int(input(\"x2 = \"))\n",
    "y2 = int(input(\"y2 = \"))\n",
    "print(tortburchak(x1,y1,x2,y2))"
   ]
  },
  {
   "cell_type": "code",
   "execution_count": 7,
   "id": "71d1b80e",
   "metadata": {},
   "outputs": [
    {
     "name": "stdout",
     "output_type": "stream",
     "text": [
      "K=1234\n",
      "1234 soni4 xonali raqamlari yig`indisi 10\n",
      "K=222\n",
      "222 soni3 xonali raqamlari yig`indisi 6\n",
      "K=11111\n",
      "11111 soni5 xonali raqamlari yig`indisi 5\n",
      "K=666666\n",
      "666666 soni6 xonali raqamlari yig`indisi 36\n",
      "K=10101\n",
      "10101 soni5 xonali raqamlari yig`indisi 3\n"
     ]
    }
   ],
   "source": [
    "#proc 6   DigitCountSum(K, C, S) K sonini raqamlari-C yigindisi-S ni toping\n",
    "i=1;\n",
    "def  DigitCountSum(K):\n",
    "    k=K; C=0; s=0\n",
    "    while k>0:\n",
    "        s+=k%10        \n",
    "        C+=1\n",
    "        k=k//10\n",
    "        \n",
    "    return K,C,s\n",
    "while i<=5:\n",
    "    a=int(input(\"K=\"))\n",
    "    K,C,s=DigitCountSum(a)\n",
    "    print(K,f\"soni {C} xonali, raqamlari yig`indisi {s}\")\n",
    "    i+=1\n",
    "        \n"
   ]
  },
  {
   "cell_type": "code",
   "execution_count": null,
   "id": "3ad33152",
   "metadata": {},
   "outputs": [],
   "source": [
    "# Funksiya 6  public version\n",
    "\n",
    "def DigitCountSum(a):\n",
    "    S = 0; count = 0\n",
    "    while a>0:\n",
    "        S += a%10\n",
    "        count += 1\n",
    "        a //= 10\n",
    "        \n",
    "    return S, count\n",
    "\n",
    "a = int(input(\"a = \"))\n",
    "print(DigitCountSum(a))\n",
    "b = int(input(\"b = \"))\n",
    "print(DigitCountSum(b))\n",
    "c = int(input(\"c = \"))\n",
    "print(DigitCountSum(c))"
   ]
  },
  {
   "cell_type": "code",
   "execution_count": 20,
   "id": "cfc43d09",
   "metadata": {},
   "outputs": [
    {
     "name": "stdout",
     "output_type": "stream",
     "text": [
      "K=123\n",
      "123 321\n",
      "K=236\n",
      "236 632\n",
      "K=789\n",
      "789 987\n",
      "K=12356\n",
      "12356 65321\n",
      "K=3256\n",
      "3256 6523\n"
     ]
    }
   ],
   "source": [
    "#proc 7 InvertDigits(K) sonni teskarisini chiqarish\n",
    "i=1;\n",
    "def  InvertDigits(K):\n",
    "    k=K; s=0\n",
    "    while k>0:\n",
    "        s=s*10+k%10        \n",
    "        k=k//10\n",
    "        \n",
    "    print(K,s)\n",
    "while i<=5:\n",
    "    a=int(input(\"K=\"))\n",
    "    InvertDigits(a)\n",
    "    i+=1"
   ]
  },
  {
   "cell_type": "code",
   "execution_count": null,
   "id": "31cfd77b",
   "metadata": {},
   "outputs": [],
   "source": [
    "# Funksiya 7  public version\n",
    "def teskari(a):\n",
    "    S = 0; count = 0\n",
    "    while a>0:\n",
    "        S = S*10 + a%10\n",
    "        a //= 10\n",
    "\n",
    "    return S\n",
    "\n",
    "a = int(input(\"a = \"))\n",
    "print(teskari(a))\n",
    "b = int(input(\"b = \"))\n",
    "print(teskari(b))\n",
    "c = int(input(\"c = \"))\n",
    "print(teskari(c))"
   ]
  },
  {
   "cell_type": "code",
   "execution_count": 23,
   "id": "431978e4",
   "metadata": {},
   "outputs": [
    {
     "name": "stdout",
     "output_type": "stream",
     "text": [
      "K=456\n",
      "D1 (0-9)=6\n",
      "4566\n",
      "D2 (0-9)=7\n",
      "4567\n"
     ]
    }
   ],
   "source": [
    "# proc-8  AddRightDigit(D, K)  sonni o`ng tomoniga 1ta raqam qo`shish\n",
    "def AddRightDigit(D, K):\n",
    "    K=K*10+D\n",
    "    return K\n",
    "k=int(input(\"K=\"))\n",
    "d=int(input(\"D1 (0-9)=\"))\n",
    "print(AddRightDigit(d,k))\n",
    "d=int(input(\"D2 (0-9)=\"))\n",
    "print(AddRightDigit(d,k))"
   ]
  },
  {
   "cell_type": "code",
   "execution_count": 1,
   "id": "64f7875d",
   "metadata": {},
   "outputs": [
    {
     "name": "stdout",
     "output_type": "stream",
     "text": [
      "K=1234\n",
      "D1 (0-9)=5\n",
      "51234\n",
      "D2 (0-9)=134789\n",
      "1347891234\n"
     ]
    }
   ],
   "source": [
    "# proc -9  AddLeftDigit(D, K)  chap tomonga raqam qo`shish\n",
    "def AddRightDigit(D, K):\n",
    "    k=K\n",
    "    while k>0:\n",
    "        D=D*10\n",
    "        k=k//10\n",
    "    K=K+D\n",
    "    return K\n",
    "k=int(input(\"K=\"))\n",
    "d=int(input(\"D1 (0-9)=\"))\n",
    "print(AddRightDigit(d,k))\n",
    "d=int(input(\"D2 (0-9)=\"))\n",
    "print(AddRightDigit(d,k))"
   ]
  },
  {
   "cell_type": "code",
   "execution_count": null,
   "id": "390beddc",
   "metadata": {},
   "outputs": [],
   "source": [
    "# Funskiya 9 public version\n",
    "\n",
    "def AddLeft(a,k):\n",
    "    count = 0\n",
    "    d = a\n",
    "    while d>0:\n",
    "        count += 1\n",
    "        d //= 10\n",
    "    return k * 10**count + a\n",
    "\n",
    "a = int(input(\"a = \"))\n",
    "k = int(input(\"k = \"))\n",
    "print(AddLeft(a,k))\n",
    "b = int(input(\"b = \"))\n",
    "k = int(input(\"k = \"))\n",
    "print(AddLeft(b,k))\n",
    "c = int(input(\"c = \"))\n",
    "k = int(input(\"k = \"))\n",
    "print(AddLeft(c,k))"
   ]
  },
  {
   "cell_type": "code",
   "execution_count": 37,
   "id": "8439064b",
   "metadata": {
    "scrolled": false
   },
   "outputs": [
    {
     "name": "stdout",
     "output_type": "stream",
     "text": [
      "A=1\n",
      "B=2\n",
      "C=3\n",
      "D=4\n",
      "2 4 1 3\n"
     ]
    }
   ],
   "source": [
    "# proc-10 Swap(X, Y) o`rnini almashtirish\n",
    "a=int(input(\"A=\"))\n",
    "b=int(input(\"B=\"))\n",
    "c=int(input(\"C=\"))\n",
    "d=int(input(\"D=\"))\n",
    "def Swap(x, y):\n",
    "    return y,x\n",
    "a,b=Swap(a,b)\n",
    "c,d=Swap(c,d)\n",
    "b,c=Swap(b,c)\n",
    "print(a,b,c,d)"
   ]
  },
  {
   "cell_type": "code",
   "execution_count": 44,
   "id": "84a39243",
   "metadata": {},
   "outputs": [
    {
     "name": "stdout",
     "output_type": "stream",
     "text": [
      "A=9\n",
      "B=8\n",
      "C=7\n",
      "D=6\n",
      "6 9\n"
     ]
    }
   ],
   "source": [
    "# proc 11 Minmax(X, Y), eng kichik va kattasini topish\n",
    "a=int(input(\"A=\"))\n",
    "b=int(input(\"B=\"))\n",
    "c=int(input(\"C=\"))\n",
    "d=int(input(\"D=\"))\n",
    "def Minmax(x, y):\n",
    "    if x>y:\n",
    "        return y,x\n",
    "    else:\n",
    "        return x,y\n",
    "\n",
    "a,b=Minmax(a,b)\n",
    "c,d=Minmax(c,d)\n",
    "a,c=Minmax(a,c)\n",
    "b,d=Minmax(b,d)\n",
    "\n",
    "print(a,d)\n",
    "    \n"
   ]
  },
  {
   "cell_type": "code",
   "execution_count": null,
   "id": "dfe857dc",
   "metadata": {},
   "outputs": [],
   "source": [
    "# Funksiya 11 public version\n",
    "\n",
    "def Minmax(a,b):\n",
    "    if a<b:\n",
    "        a,b = b,a\n",
    "    return a,b\n",
    "\n",
    "a = int(input(\"a = \"))\n",
    "b = int(input(\"b = \"))\n",
    "c = int(input(\"c = \"))\n",
    "d = int(input(\"d = \"))\n",
    "\n",
    "a,b = Minmax(a,b)\n",
    "c,d = Minmax(c,d)\n",
    "a,c = Minmax(a,c)\n",
    "b,d = Minmax(b,d)\n",
    "\n",
    "print(a,d)"
   ]
  },
  {
   "cell_type": "code",
   "execution_count": 46,
   "id": "09eba3d3",
   "metadata": {},
   "outputs": [
    {
     "name": "stdout",
     "output_type": "stream",
     "text": [
      "A=89\n",
      "B=2\n",
      "C=5\n",
      "(2, 5, 89)\n",
      "A=2\n",
      "B=89\n",
      "C=10\n",
      "(2, 10, 89)\n",
      "A=13\n",
      "B=10\n",
      "C=9\n",
      "(9, 10, 13)\n"
     ]
    }
   ],
   "source": [
    "# proc 12  SortInc3(A, B, C)  bu sonlarni o`sish tartibida \n",
    "\n",
    "def SortInc3(a,b,c):\n",
    "    if b<a:\n",
    "        a,b=b,a\n",
    "    if c<a:\n",
    "        a,c=c,a\n",
    "    if b>c:\n",
    "        b,c=c,b\n",
    "    return a,b,c\n",
    "for i in range(2):\n",
    "    a=int(input(\"A=\"))\n",
    "    b=int(input(\"B=\"))\n",
    "    c=int(input(\"C=\"))\n",
    "    print(SortInc3(a,b,c)) \n",
    "        "
   ]
  },
  {
   "cell_type": "code",
   "execution_count": 48,
   "id": "90c789af",
   "metadata": {},
   "outputs": [
    {
     "name": "stdout",
     "output_type": "stream",
     "text": [
      "A=8\n",
      "B=10\n",
      "C=9\n",
      "(10, 9, 8)\n",
      "A=27\n",
      "B=20\n",
      "C=20\n",
      "(27, 20, 20)\n"
     ]
    }
   ],
   "source": [
    "# proc 13 SortDec3(A, B, C), pasayuvchchi tartibda\n",
    "def SortInc3(a,b,c):\n",
    "    if b>a:\n",
    "        a,b=b,a\n",
    "    if c>a:\n",
    "        a,c=c,a\n",
    "    if b<c:\n",
    "        b,c=c,b\n",
    "    return a,b,c\n",
    "for i in range(2):\n",
    "    a=int(input(\"A=\"))\n",
    "    b=int(input(\"B=\"))\n",
    "    c=int(input(\"C=\"))\n",
    "    print(SortInc3(a,b,c))"
   ]
  },
  {
   "cell_type": "code",
   "execution_count": null,
   "id": "671c649c",
   "metadata": {},
   "outputs": [],
   "source": [
    "# Funksiya 13    public version\n",
    "\n",
    "def sort3(a,b,c):\n",
    "    if a<c:\n",
    "        a,c = c,a\n",
    "    if a<b:\n",
    "        a,b = b,a\n",
    "    if b<c:\n",
    "        b,c = c,b\n",
    "    return a,b,c\n",
    "\n",
    "a = int(input(\"a = \"))\n",
    "b = int(input(\"b = \"))\n",
    "c = int(input(\"c = \"))\n",
    "\n",
    "print(sort3(a,b,c))"
   ]
  },
  {
   "cell_type": "code",
   "execution_count": 3,
   "id": "d24e6404",
   "metadata": {},
   "outputs": [
    {
     "name": "stdout",
     "output_type": "stream",
     "text": [
      "A=1\n",
      "B=2\n",
      "C=3\n",
      "(3, 1, 2)\n",
      "A=7\n",
      "B=8\n",
      "C=9\n",
      "(9, 7, 8)\n"
     ]
    }
   ],
   "source": [
    "# proc -14  ShiftRight3(A, B, C) o`ngga qiymatlari suriladi\n",
    "def ShiftRight3(a, b, c):\n",
    "    return c,a,b\n",
    "for i in range(2):\n",
    "    a=int(input(\"A=\"))\n",
    "    b=int(input(\"B=\"))\n",
    "    c=int(input(\"C=\"))\n",
    "    print(ShiftRight3(a,b,c))"
   ]
  },
  {
   "cell_type": "code",
   "execution_count": 4,
   "id": "0c52dd00",
   "metadata": {},
   "outputs": [
    {
     "name": "stdout",
     "output_type": "stream",
     "text": [
      "A=1\n",
      "B=2\n",
      "C=3\n",
      "(2, 3, 1)\n",
      "A=4\n",
      "B=5\n",
      "C=6\n",
      "(5, 6, 4)\n"
     ]
    }
   ],
   "source": [
    "# proc -15  ShiftLeft3(A, B, C) chapga siklik surilish\n",
    "def ShiftRight3(a, b, c):\n",
    "    return b,c,a\n",
    "for i in range(2):\n",
    "    a=int(input(\"A=\"))\n",
    "    b=int(input(\"B=\"))\n",
    "    c=int(input(\"C=\"))\n",
    "    print(ShiftRight3(a,b,c))"
   ]
  },
  {
   "cell_type": "code",
   "execution_count": 5,
   "id": "c47ea2ec",
   "metadata": {},
   "outputs": [
    {
     "name": "stdout",
     "output_type": "stream",
     "text": [
      "A=-9\n",
      "B=9\n",
      "0\n"
     ]
    }
   ],
   "source": [
    "#proc -16 Sign(X)  -1 agar x<0; 0 agar x=0; \n",
    "def Sign(x):\n",
    "    if x<0:\n",
    "        return -1\n",
    "    elif x==0:\n",
    "        return 0\n",
    "    else:\n",
    "        return 1\n",
    "a=int(input(\"A=\"))\n",
    "b=int(input(\"B=\"))\n",
    "print(Sign(a)+Sign(b))"
   ]
  },
  {
   "cell_type": "code",
   "execution_count": null,
   "id": "77e94b76",
   "metadata": {},
   "outputs": [],
   "source": [
    "# Funksiya 16  public version\n",
    "def ishora(a):\n",
    "    if a>0:\n",
    "        return 1\n",
    "    elif a==0:\n",
    "        return 0\n",
    "    else:\n",
    "        return -1\n",
    "    \n",
    "a = int(input(\"a = \"))\n",
    "b = int(input(\"b = \"))\n",
    "\n",
    "print(ishora(a)+ishora(b))"
   ]
  },
  {
   "cell_type": "code",
   "execution_count": 6,
   "id": "394596a8",
   "metadata": {},
   "outputs": [
    {
     "name": "stdout",
     "output_type": "stream",
     "text": [
      "A=3\n",
      "B=6\n",
      "C=10\n",
      "tenglamaning ildizi 0ta\n",
      "A=1\n",
      "B=4\n",
      "C=-21\n",
      "tenglamaning ildizi 2ta\n",
      "A=2\n",
      "B=5\n",
      "C=6\n",
      "tenglamaning ildizi 0ta\n"
     ]
    }
   ],
   "source": [
    "# proc -17 RootsCount(A, B, C)  kvadrat tenglama ildizlari sonini D=B**2-4*A*C\n",
    "def RootsCount(A, B, C):\n",
    "    D=B**2-4*A*C\n",
    "    if D>0:\n",
    "        return 2\n",
    "    elif D==0:\n",
    "        return 1\n",
    "    else:\n",
    "        return 0\n",
    "for i in range(3):    \n",
    "    a=int(input(\"A=\"))\n",
    "    b=int(input(\"B=\"))\n",
    "    c=int(input(\"C=\"))\n",
    "    d=RootsCount(a,b,c)\n",
    "    print(f\"tenglamaning ildizi {d} ta\")"
   ]
  },
  {
   "cell_type": "code",
   "execution_count": 9,
   "id": "6277866d",
   "metadata": {},
   "outputs": [
    {
     "name": "stdout",
     "output_type": "stream",
     "text": [
      "R=3\n",
      "28.26\n",
      "R=1\n",
      "3.14\n",
      "R=2\n",
      "12.56\n"
     ]
    }
   ],
   "source": [
    "# proc -18  doira yuzasini hisoblovchi CircleS(R)\n",
    "def CircleS(R):\n",
    "    PI=3.1415\n",
    "    return R*R*PI\n",
    "for i in range(3):\n",
    "    r=float(input(\"R=\"))\n",
    "    print(CircleS(r))"
   ]
  },
  {
   "cell_type": "code",
   "execution_count": 11,
   "id": "0482bc31",
   "metadata": {},
   "outputs": [
    {
     "name": "stdout",
     "output_type": "stream",
     "text": [
      "R1=1\n",
      "R2=2\n",
      "9.4245\n"
     ]
    }
   ],
   "source": [
    "# proc -19   RingS(R1, R2) markazi bir nuqtada bo`lgan kesishmaydigan yuzasini\n",
    "def RingS(R1,R2):\n",
    "    PI=3.1415\n",
    "    s1=PI*R1**2\n",
    "    s2=PI*R2**2\n",
    "    if s1>s2:\n",
    "        return s1-s2\n",
    "    elif s2>s1:\n",
    "        return s2-s1\n",
    "    else:\n",
    "        return 0\n",
    "r1=float(input(\"R1=\"))\n",
    "r2=float(input(\"R2=\"))\n",
    "print(RingS(r1,r2))"
   ]
  },
  {
   "cell_type": "code",
   "execution_count": 12,
   "id": "bb7ef8da",
   "metadata": {},
   "outputs": [
    {
     "name": "stdout",
     "output_type": "stream",
     "text": [
      "A=3\n",
      "B=4\n",
      "12.0\n"
     ]
    }
   ],
   "source": [
    "# proc -20 to`g`ri burchakli uchburchak katetlari berilgan, perimetrini \n",
    "def TriangleP(A,B):\n",
    "    C=(A**2+B**2)**(1/2)\n",
    "    return A+B+C\n",
    "a=float(input(\"A=\"))\n",
    "b=float(input(\"B=\"))\n",
    "print(TriangleP(a,b))"
   ]
  },
  {
   "cell_type": "code",
   "execution_count": 13,
   "id": "6314988b",
   "metadata": {},
   "outputs": [
    {
     "name": "stdout",
     "output_type": "stream",
     "text": [
      "A=1\n",
      "B=6\n",
      "C=8\n",
      "21\n",
      "21\n"
     ]
    }
   ],
   "source": [
    "# proc -21 A dan B gacha va Cgacha sonlar yigindisini hisoblovchi\n",
    "def SumRange(A,B):\n",
    "    if A>B:\n",
    "        return 0\n",
    "    else:\n",
    "        s=0\n",
    "        for i in range(A,B+1):\n",
    "            s+=i\n",
    "        return s\n",
    "a=int(input(\"A=\"))\n",
    "b=int(input(\"B=\"))\n",
    "c=int(input(\"C=\"))\n",
    "print(SumRange(a,b))\n",
    "print(SumRange(b,c))"
   ]
  },
  {
   "cell_type": "code",
   "execution_count": null,
   "id": "06495197",
   "metadata": {},
   "outputs": [],
   "source": [
    "# Funksiya 21  public version\n",
    "\n",
    "def a_to_b(a,b):\n",
    "    S = 0\n",
    "    if a>b:\n",
    "        return S\n",
    "    for i in range(a,b+1):\n",
    "        S += i\n",
    "    return S\n",
    "\n",
    "a = int(input(\"a = \"))\n",
    "b = int(input(\"b = \"))\n",
    "print(a_to_b(a,b))"
   ]
  },
  {
   "cell_type": "code",
   "execution_count": 14,
   "id": "35f7ffb1",
   "metadata": {},
   "outputs": [
    {
     "name": "stdout",
     "output_type": "stream",
     "text": [
      "A=8\n",
      "B=9\n",
      "N1=1\n",
      "-1.0\n",
      "N2=2\n",
      "72.0\n",
      "N3=3\n",
      "0.8888888888888888\n",
      "N4=4\n",
      "17.0\n"
     ]
    }
   ],
   "source": [
    "# proc -22 Calc(A,B,Op) funksiyasi bilan 1-ayirish, 2-ko`paytirish, 3-bo`lish qolgani qo`shish\n",
    "def Calc(A,B,Op):\n",
    "    if Op==1:\n",
    "        return A-B\n",
    "    elif Op==2:\n",
    "        return A*B\n",
    "    elif Op==3:\n",
    "        return A/B\n",
    "    else:\n",
    "        return A+B\n",
    "a=float(input(\"A=\"))\n",
    "b=float(input(\"B=\"))\n",
    "n1=int(input(\"N1=\"))\n",
    "print(Calc(a,b,n1))\n",
    "n2=int(input(\"N2=\"))\n",
    "print(Calc(a,b,n2))\n",
    "n3=int(input(\"N3=\"))\n",
    "print(Calc(a,b,n3))\n",
    "n4=int(input(\"N4=\"))\n",
    "print(Calc(a,b,n4))\n"
   ]
  },
  {
   "cell_type": "code",
   "execution_count": 15,
   "id": "43c58bfd",
   "metadata": {},
   "outputs": [
    {
     "name": "stdout",
     "output_type": "stream",
     "text": [
      "x=1\n",
      "y=2\n",
      "1 chorakda\n",
      "x=-6\n",
      "y=-9\n",
      "3 chorakda\n",
      "x=-8\n",
      "y=9\n",
      "2 chorakda\n",
      "x=8\n",
      "y=-9\n",
      "4 chorakda\n"
     ]
    }
   ],
   "source": [
    "#proc -23  x va y sonlari berilgan, (x,y) qaysi chorakda\n",
    "def Quarter(x, y):\n",
    "    if x>0 and y>0:\n",
    "        return 1\n",
    "    elif x<0 and y>0:\n",
    "        return 2\n",
    "    elif x<0 and y<0:\n",
    "        return 3\n",
    "    elif x>0 and y<0:\n",
    "        return 4\n",
    "    else:\n",
    "        return \"nuqta koordinata o`qida\"\n",
    "for i in range(4):\n",
    "    x=int(input(\"x=\"))\n",
    "    y=int(input(\"y=\"))\n",
    "    print(Quarter(x,y),\"chorakda\")"
   ]
  },
  {
   "cell_type": "code",
   "execution_count": 16,
   "id": "aacff5d5",
   "metadata": {},
   "outputs": [
    {
     "name": "stdout",
     "output_type": "stream",
     "text": [
      "k=6\n",
      "True\n",
      "k=3\n",
      "False\n",
      "k=13\n",
      "False\n"
     ]
    }
   ],
   "source": [
    "# proc -24  juft bo`lsa true toq bo`lse false qaytarsin 3ta son tekshirils\n",
    "def Even(k):\n",
    "    return k%2==0\n",
    "for i in range(3):\n",
    "    k=int(input(\"k=\"))\n",
    "    print(Even(k))"
   ]
  },
  {
   "cell_type": "code",
   "execution_count": 19,
   "id": "b2e40ceb",
   "metadata": {},
   "outputs": [
    {
     "name": "stdout",
     "output_type": "stream",
     "text": [
      "k=3\n",
      "False\n",
      "k=4\n",
      "True\n",
      "k=9\n",
      "True\n"
     ]
    }
   ],
   "source": [
    "# proc -25 agar k biror sonning kvadrati bo`lsa true aks holda false chiqsin\n",
    "def IsSquare(k):\n",
    "    a=k**(1/2)\n",
    "    return a==int(a)\n",
    "for i in range(3):\n",
    "    k=int(input(\"k=\"))\n",
    "    print(IsSquare(k))"
   ]
  },
  {
   "cell_type": "code",
   "execution_count": null,
   "id": "8cfd065c",
   "metadata": {},
   "outputs": [],
   "source": [
    "# Funksiya 25 public version\n",
    "def issquare(a):\n",
    "    if a**0.5 % 1 ==0:\n",
    "        return True\n",
    "    else:\n",
    "        return False\n",
    "    \n",
    "a = int(input(\"a = \"))\n",
    "print(issquare(a))"
   ]
  },
  {
   "cell_type": "code",
   "execution_count": 20,
   "id": "11623655",
   "metadata": {},
   "outputs": [
    {
     "name": "stdout",
     "output_type": "stream",
     "text": [
      "son=25\n",
      "True\n",
      "son=125\n",
      "True\n",
      "son=23\n",
      "False\n",
      "son=5\n",
      "True\n",
      "son=1\n",
      "True\n"
     ]
    }
   ],
   "source": [
    "#proc -26 IsPower5(k) agar k soni 5 ni nechanchidir darajasi bo`lsa true,aks xolda false,5 ta son\n",
    "def IsPower5(k):\n",
    "    pow=False\n",
    "    i=0\n",
    "    while 5**i<=k:\n",
    "        if 5**i==k:\n",
    "            pow=True\n",
    "        i+=1\n",
    "    return pow\n",
    "for i in range(5):\n",
    "    k=int(input(\"son=\"))\n",
    "    print(IsPower5(k))"
   ]
  },
  {
   "cell_type": "code",
   "execution_count": 23,
   "id": "20c88294",
   "metadata": {},
   "outputs": [
    {
     "name": "stdout",
     "output_type": "stream",
     "text": [
      "n=2\n",
      "k=8\n",
      "k=9\n",
      "k=4\n",
      "k=7\n",
      "k=10\n",
      "2\n"
     ]
    }
   ],
   "source": [
    "#proc -27 IsPowerN(K,N) k soni n sonini darajasimi\n",
    "def IsPowerN(k,n):\n",
    "    pow=False\n",
    "    i=0\n",
    "    while n**i<=k:\n",
    "        if n**i==k:\n",
    "            pow=True\n",
    "        i+=1\n",
    "    return pow\n",
    "j=0\n",
    "n=int(input(\"n=\"))\n",
    "for i in range(5):\n",
    "    k=int(input(\"k=\"))    \n",
    "    if IsPowerN(k,n):\n",
    "        j+=1\n",
    "print(j)"
   ]
  },
  {
   "cell_type": "code",
   "execution_count": 29,
   "id": "4005159f",
   "metadata": {},
   "outputs": [
    {
     "name": "stdout",
     "output_type": "stream",
     "text": [
      "k=4\n",
      "n=6\n",
      "n=16\n",
      "n=11\n",
      "n=3\n",
      "2\n"
     ]
    }
   ],
   "source": [
    "#proc -28 IsPrime(n) agar n soni tub bo`lsa true ,aks xolda false,k ta sondan nechtasi tub\n",
    "from math import sqrt\n",
    "def IsPrime(n):\n",
    "    a=True\n",
    "    if n==2:\n",
    "        return a\n",
    "    if n%2==0:\n",
    "        return False\n",
    "    for i in range(3,int(sqrt(n))+1,2):        \n",
    "        if n%i==0:\n",
    "            a=False\n",
    "            break\n",
    "    return a\n",
    "j=0\n",
    "k=int(input(\"k=\"))\n",
    "for i in range(k):\n",
    "        n=int(input(\"n=\"))\n",
    "        if IsPrime(n):\n",
    "            j+=1\n",
    "print(j)"
   ]
  },
  {
   "cell_type": "code",
   "execution_count": null,
   "id": "cd531b7b",
   "metadata": {},
   "outputs": [],
   "source": [
    "# Funksiya 28  public version\n",
    "def isprime(a):\n",
    "    tub = True\n",
    "    if a==2:\n",
    "        return tub\n",
    "    if a%2==0:\n",
    "        tub = False\n",
    "    for i in range(3,int(a**0.5)+1,2):\n",
    "        if a%i==0:\n",
    "            tub=False\n",
    "            break\n",
    "    return tub\n",
    "    \n",
    "a = int(input(\"a = \"))\n",
    "print(isprime(a))"
   ]
  },
  {
   "cell_type": "code",
   "execution_count": 31,
   "id": "3f4d73f2",
   "metadata": {},
   "outputs": [
    {
     "name": "stdout",
     "output_type": "stream",
     "text": [
      "k=0\n",
      "0 soni  1 xonali\n",
      "k=456\n",
      "456 soni  3 xonali\n",
      "k=1236955\n",
      "1236955 soni  7 xonali\n",
      "k=1\n",
      "1 soni  1 xonali\n",
      "k=125\n",
      "125 soni  3 xonali\n"
     ]
    }
   ],
   "source": [
    "# proc -29 DigitCount(k)  k sonini raqamlar sonini aniqlasin 5ta son\n",
    "def DigitCount(k):\n",
    "    i=0\n",
    "    if k==0:\n",
    "        return 1\n",
    "    while k>0:\n",
    "        k=k//10\n",
    "        i+=1\n",
    "    return i\n",
    "for i in range(5):\n",
    "    k=int(input(\"k=\"))\n",
    "    print(k,\"soni \",DigitCount(k),\"xonali\")"
   ]
  },
  {
   "cell_type": "code",
   "execution_count": 40,
   "id": "355823a1",
   "metadata": {},
   "outputs": [
    {
     "name": "stdout",
     "output_type": "stream",
     "text": [
      "n=3\n",
      "k=1001\n",
      "0\n",
      "k=1234\n",
      "2\n",
      "k=123456\n",
      "4\n"
     ]
    }
   ],
   "source": [
    "#proc -30 -1 DigitN(k,n) k sonini n-raqamini qaytarsin, yoki -1  o`ngdan \n",
    "def DigitCount(k):\n",
    "    i=0\n",
    "    if k==0:\n",
    "        return 1\n",
    "    while k>0:\n",
    "        k=k//10\n",
    "        i+=1\n",
    "    return i\n",
    "def DigitN(k,n):\n",
    "    c_num=DigitCount(k)\n",
    "    if c_num<n:\n",
    "        return -1\n",
    "    else:\n",
    "        i=0\n",
    "        while n>i:\n",
    "            num=k%10\n",
    "            k=k//10\n",
    "            i+=1\n",
    "        return num\n",
    "n=int(input(\"n=\"))\n",
    "for j in range(3):\n",
    "    k=int(input(\"k=\"))\n",
    "    print(DigitN(k,n))"
   ]
  },
  {
   "cell_type": "code",
   "execution_count": 48,
   "id": "96f2b1ef",
   "metadata": {},
   "outputs": [
    {
     "name": "stdout",
     "output_type": "stream",
     "text": [
      "k=2222\n",
      "True\n",
      "k=22222\n",
      "True\n",
      "k=10001\n",
      "True\n",
      "k=1001\n",
      "True\n",
      "k=10101\n",
      "True\n"
     ]
    }
   ],
   "source": [
    "# proc -31 IsPalindrom(k) palindrom bo`lsa true,aks xolda false 5ta sondan nechtasi palindr\n",
    "def DigitCount(k):\n",
    "    i=0\n",
    "    if k==0:\n",
    "        return 1\n",
    "    while k>0:\n",
    "        k=k//10\n",
    "        i+=1\n",
    "    return i\n",
    "def DigitN(k,n):\n",
    "    c_num=DigitCount(k)\n",
    "    if c_num<n:\n",
    "        return -1\n",
    "    else:\n",
    "        i=0\n",
    "        while n>i:\n",
    "            num=k%10\n",
    "            k=k//10\n",
    "            i+=1\n",
    "        return num\n",
    "def IsPalindrom(k):\n",
    "    c_num=DigitCount(k)\n",
    "    m_num=c_num//2\n",
    "    for i in range(m_num):\n",
    "        if DigitN(k,i+1)!=DigitN(k,c_num-i):\n",
    "            return False\n",
    "    return True\n",
    "for i in range(5):\n",
    "    k=int(input(\"k=\"))\n",
    "    print(IsPalindrom(k))\n",
    "            \n",
    "        "
   ]
  },
  {
   "cell_type": "code",
   "execution_count": null,
   "id": "e6bb73dd",
   "metadata": {},
   "outputs": [],
   "source": [
    "# proc -31 Public version  IsPalindrom(k) palindrom bo`lsa true,aks xolda false 5ta sondan necht\n",
    "def IsPolindrom(a):\n",
    "    natija = 0\n",
    "    son_kopiyasi = a\n",
    "    while son_kopiyasi>0:\n",
    "        natija = natija * 10 + son_kopiyasi % 10\n",
    "        son_kopiyasi //= 10\n",
    "    if natija == a:\n",
    "        return True\n",
    "    return False\n",
    "\n",
    "print(IsPolindrom(int(input(\"a = \"))))  "
   ]
  },
  {
   "cell_type": "code",
   "execution_count": 53,
   "id": "153383a2",
   "metadata": {},
   "outputs": [
    {
     "name": "stdout",
     "output_type": "stream",
     "text": [
      "d=360\n",
      "6.283185307179586\n",
      "d=180\n",
      "3.141592653589793\n",
      "d=90\n",
      "1.5707963267948966\n"
     ]
    }
   ],
   "source": [
    "# proc -32 DegToRad(d) gradusning radian qiymatini qaytarsin(360>d>0) 3ta burchak\n",
    "# 1 gradus=0.0175 radian\n",
    "from math import pi\n",
    "rad=pi/180\n",
    "def DegToRad(d):\n",
    "    return d*rad\n",
    "for i in range(3):\n",
    "    d=float(input(\"d=\"))\n",
    "    print(DegToRad(d))"
   ]
  },
  {
   "cell_type": "code",
   "execution_count": 54,
   "id": "e07c7b12",
   "metadata": {},
   "outputs": [
    {
     "name": "stdout",
     "output_type": "stream",
     "text": [
      "radian=1\n",
      "57.29577951308232\n",
      "radian=2\n",
      "114.59155902616465\n",
      "radian=3\n",
      "171.88733853924697\n"
     ]
    }
   ],
   "source": [
    "# proc -33 RadToDeg(r)  radianni gradusga aylantirish,3 ta burchak\n",
    "from math import pi\n",
    "grad=180/pi\n",
    "def RadToDeg(r):\n",
    "    return grad*r\n",
    "for i in range(3):\n",
    "    r=float(input(\"radian=\"))\n",
    "    print(RadToDeg(r))"
   ]
  },
  {
   "cell_type": "code",
   "execution_count": 56,
   "id": "52617c07",
   "metadata": {},
   "outputs": [
    {
     "name": "stdout",
     "output_type": "stream",
     "text": [
      "n=3\n",
      "6\n",
      "n=5\n",
      "120\n",
      "n=6\n",
      "720\n"
     ]
    }
   ],
   "source": [
    "# proc -34  n faktorialni aniqlash\n",
    "def Fact(n):\n",
    "    p=1\n",
    "    for i in range(1,n+1):\n",
    "        p*=i\n",
    "    return p\n",
    "for i in range(3):\n",
    "    n=int(input(\"n=\"))\n",
    "    print(Fact(n))"
   ]
  },
  {
   "cell_type": "code",
   "execution_count": 57,
   "id": "d366bfe4",
   "metadata": {},
   "outputs": [
    {
     "name": "stdout",
     "output_type": "stream",
     "text": [
      "n=6\n",
      "48\n",
      "n=5\n",
      "15\n",
      "n=3\n",
      "3\n"
     ]
    }
   ],
   "source": [
    "# proc -35 Fact2(n) n!! qiymatini qaytarsin 3 ta son\n",
    "def Fact2(n):\n",
    "    fak = 1\n",
    "    while n>1:\n",
    "        fak *= n\n",
    "        n -= 2\n",
    "    return fak\n",
    "for i in range(3):\n",
    "    n=int(input(\"n=\"))\n",
    "    print(Fact2(n))"
   ]
  },
  {
   "cell_type": "code",
   "execution_count": 59,
   "id": "51354e0d",
   "metadata": {},
   "outputs": [
    {
     "name": "stdout",
     "output_type": "stream",
     "text": [
      "n=7\n",
      "13\n"
     ]
    }
   ],
   "source": [
    "# proc -36  Fib(n) fibonachchi sonlarining n-elementini qaytarsin\n",
    "def Fib(n):\n",
    "    f1=1;f2=1\n",
    "    for i in range(3,n+1):\n",
    "        fn=f1+f2\n",
    "        f1=f2\n",
    "        f2=fn\n",
    "    return fn\n",
    "n=int(input(\"n=\"))\n",
    "print(Fib(n))\n"
   ]
  },
  {
   "cell_type": "code",
   "execution_count": 60,
   "id": "7aceed78",
   "metadata": {},
   "outputs": [
    {
     "name": "stdout",
     "output_type": "stream",
     "text": [
      "darajani kiriting=5\n",
      "son=2\n",
      "32.0\n",
      "son=3\n",
      "243.0\n",
      "son=2\n",
      "32.0\n"
     ]
    }
   ],
   "source": [
    "# proc -37 Power1(a,b) a**b ni chiqarsin\n",
    "def Power1(a,b):\n",
    "    return a**b\n",
    "b=int(input(\"darajani kiriting=\"))\n",
    "for i in range(3):\n",
    "    a=float(input(\"son=\"))\n",
    "    print(Power1(a,b))"
   ]
  },
  {
   "cell_type": "code",
   "execution_count": 63,
   "id": "2c890e34",
   "metadata": {},
   "outputs": [
    {
     "name": "stdout",
     "output_type": "stream",
     "text": [
      "son=2\n",
      "darajasi=-2\n",
      "0.25\n",
      "darajasi=2\n",
      "4.0\n",
      "darajasi=3\n",
      "8.0\n"
     ]
    }
   ],
   "source": [
    "# proc -38 Power2(a,n) darajasini toping \n",
    "def Power2(a,n):\n",
    "    p=1            \n",
    "    for i in range(1,abs(n)+1):\n",
    "        p=p*a\n",
    "    \n",
    "    if n>0:\n",
    "        return p \n",
    "    elif n<0: \n",
    "        return 1/p\n",
    "a=float(input(\"son=\"))\n",
    "for i in range(3):\n",
    "    n=int(input(\"darajasi=\"))\n",
    "    print(Power2(a,n))"
   ]
  },
  {
   "cell_type": "code",
   "execution_count": 10,
   "id": "b4d5e2b6",
   "metadata": {},
   "outputs": [
    {
     "name": "stdout",
     "output_type": "stream",
     "text": [
      "a=2\n",
      "b=2.5\n"
     ]
    },
    {
     "data": {
      "text/plain": [
       "5.656854249492381"
      ]
     },
     "execution_count": 10,
     "metadata": {},
     "output_type": "execute_result"
    }
   ],
   "source": [
    "# proc -39 Power3(a,b) a**b bu yerda b haqiqiy son bo`lishi mumkin\n",
    "def Power1(a,b):\n",
    "    return a**b\n",
    "def Power2(a,n):\n",
    "    p=1            \n",
    "    for i in range(1,abs(n)+1):\n",
    "        p=p*a\n",
    "    \n",
    "    if n>0:\n",
    "        return p \n",
    "    elif n<0: \n",
    "        return 1/p\n",
    "    else:\n",
    "        return 1\n",
    "def Power3(a,b):\n",
    "    if b==int(b):\n",
    "        return Power2(a,b)\n",
    "    else:\n",
    "        return Power1(a,b)\n",
    "a=float(input(\"a=\"))\n",
    "b=float(input(\"b=\"))\n",
    "Power3(a,b)"
   ]
  },
  {
   "cell_type": "code",
   "execution_count": null,
   "id": "fed1da2b",
   "metadata": {},
   "outputs": [],
   "source": [
    "# proc -39  public version  Power3(a,b) a**b bu yerda b haqiqiy son bo`lishi mumkin\n",
    "def Power1(a,b):\n",
    "    s = 1\n",
    "    for i in range(b):\n",
    "        s *= a\n",
    "    return s\n",
    "def Power2(a,n):\n",
    "    s = 1\n",
    "    if n == 0:\n",
    "        return s\n",
    "    elif n > 0:\n",
    "        for i in range(n):\n",
    "            s *= a\n",
    "    else:\n",
    "        for i in range(abs(n)):\n",
    "            s *= 1/a\n",
    "    return s\n",
    "def Power3(a,n):\n",
    "    if n % 1 != 0:\n",
    "        return Power2(a, int(n))\n",
    "    else:\n",
    "        return Power1(a, int(n))        \n",
    "a = int(input(\"a = \"))\n",
    "n = float(input(\"n = \"))\n",
    "print(Power3(a,n))"
   ]
  },
  {
   "cell_type": "code",
   "execution_count": 19,
   "id": "47377378",
   "metadata": {},
   "outputs": [
    {
     "name": "stdout",
     "output_type": "stream",
     "text": [
      "x=2\n",
      "e=1.5\n",
      "2.0 1\n",
      "4.0 2\n",
      "8.0 6\n",
      "5.0\n",
      "e=1.2\n",
      "2.0 1\n",
      "4.0 2\n",
      "8.0 6\n",
      "16.0 24\n",
      "6.333333333333333\n",
      "e=1.1\n",
      "2.0 1\n",
      "4.0 2\n",
      "8.0 6\n",
      "16.0 24\n",
      "6.333333333333333\n"
     ]
    }
   ],
   "source": [
    "# proc -40 Exp1(x,e)  1+x+x**2/(2!)+x**3/(3!)+...+x**n/(n!)+...\n",
    "def Exp1(x,e):\n",
    "    s=1; p1=1; p2=1;p=e+1; i=0\n",
    "    while p>e:\n",
    "        s1=s\n",
    "        i+=1\n",
    "        p1*=x\n",
    "        p2*=i\n",
    "        p=p1/p2\n",
    "        s+=p      \n",
    "    return s1\n",
    "# 1+2+4/2+8/6+16/24+\n",
    "x=float(input(\"x=\"))\n",
    "for i in range(3):\n",
    "    e=float(input(\"e=\"))\n",
    "    print(Exp1(x,e))\n",
    "    \n",
    "        \n",
    "    "
   ]
  },
  {
   "cell_type": "code",
   "execution_count": 5,
   "id": "4d7abe4c",
   "metadata": {},
   "outputs": [
    {
     "name": "stdout",
     "output_type": "stream",
     "text": [
      "x=2\n",
      "e=0.0024\n",
      "0.9079365079365079\n"
     ]
    }
   ],
   "source": [
    "# proc -41 sin1(x,e)\n",
    "def sin1(x,e):\n",
    "    s=x; r=0; p=x\n",
    "    while r==0 or abs(p)>e:\n",
    "        s1=s\n",
    "        r+=2\n",
    "        p*=(-1)*x*x/(r*(r+1))\n",
    "        s+=p  \n",
    "    return s1\n",
    "x=float(input(\"x=\"))\n",
    "for i in range(1):\n",
    "    e=float(input(\"e=\"))\n",
    "    print(sin1(x,e))"
   ]
  },
  {
   "cell_type": "code",
   "execution_count": null,
   "id": "052ff5b8",
   "metadata": {},
   "outputs": [],
   "source": [
    "# proc -41  public version sin1(x,e)\n",
    "def sin1(x,e):\n",
    "    S = 0\n",
    "    hadi = x; ishora = 1\n",
    "    f = 1; i = 1\n",
    "    while hadi > e:\n",
    "        S += ishora * hadi\n",
    "        f *= (2*i) * (2*i+1)\n",
    "        hadi = x**(2*i+1) / f\n",
    "        ishora *= -1\n",
    "        i+=1\n",
    "    return S\n",
    "x = int(input(\"x = \"))\n",
    "e = float(input(\"e = \"))\n",
    "print(sin1(x,e))"
   ]
  },
  {
   "cell_type": "code",
   "execution_count": 34,
   "id": "63f1284a",
   "metadata": {},
   "outputs": [
    {
     "name": "stdout",
     "output_type": "stream",
     "text": [
      "x=2\n",
      "e=0.00634\n",
      "-0.41587301587301595\n"
     ]
    }
   ],
   "source": [
    "#proc -42 cos1(x,e)  cos(x)=1-x**2/(2!)+x**4/(4!)-\n",
    "def cos1(x,e):\n",
    "    r=0; s=1; p=1\n",
    "    while r==0 or abs(p)>e:\n",
    "        s1=s\n",
    "        r+=2\n",
    "        p*=(-1)*x*x/(r*(r-1))\n",
    "        s+=p\n",
    "    return s1\n",
    "x=float(input(\"x=\"))\n",
    "for i in range(3):\n",
    "    e=float(input(\"e=\"))\n",
    "    print(cos1(x,e))"
   ]
  },
  {
   "cell_type": "code",
   "execution_count": 19,
   "id": "b2c0bad3",
   "metadata": {},
   "outputs": [
    {
     "name": "stdout",
     "output_type": "stream",
     "text": [
      "x=0.5\n",
      "e=0.002604\n",
      "-0.25 3 0.375\n",
      "0.125 4 0.4166666666666667\n",
      "-0.0625 5 0.4010416666666667\n",
      "0.03125 6 0.40729166666666666\n",
      "-0.015625 7 0.4046875\n",
      "0.0078125 8 0.40580357142857143\n",
      "0.4046875\n"
     ]
    }
   ],
   "source": [
    "# proc -43 Ln1(x, e) |x|<1, e>0  x-x**2/2+x**3/3+...  ln(1+x) ga yaqinlashadi\n",
    "# x=0.5 p=0.0026041666666666665  s1=0.4046875  6-hadi\n",
    "\n",
    "def ln1(x,e):\n",
    "    i=2; p=x; s=x\n",
    "    while i==2 or abs(p1)>e:\n",
    "        s1=s\n",
    "        p*=(-1)*x\n",
    "        p1=p/i\n",
    "        s=s+p1\n",
    "        i+=1\n",
    "    return s1\n",
    "x=float(input(\"x=\"))\n",
    "for _ in range(6):\n",
    "    e=float(input(\"e=\"))\n",
    "    print(ln1(x,e))"
   ]
  },
  {
   "cell_type": "code",
   "execution_count": 25,
   "id": "ba13a8c6",
   "metadata": {},
   "outputs": [
    {
     "name": "stdout",
     "output_type": "stream",
     "text": [
      "x=0.5\n",
      "e=0.000217\n",
      "0.46368427579365074\n"
     ]
    }
   ],
   "source": [
    "# Proc -44 Arctg1(x, ε)   , |x| < 1, ε > 0, x-x**3/3+x**5/5-...\n",
    "# x=0.5 p=0.0002170138  s=0.46368427579365074  5-had\n",
    "def Arctg1(x,e):\n",
    "    i=3; s=x; p=x\n",
    "    while i==3 or abs(p1)>e:\n",
    "        s1=s\n",
    "        p*=(-1)*x*x\n",
    "        p1=p/i\n",
    "        s+=p1\n",
    "        i+=2\n",
    "    return s1\n",
    "x=float(input(\"x=\"))\n",
    "for _ in range(6):\n",
    "    e=float(input(\"e=\"))\n",
    "    print(Arctg1(x,e))"
   ]
  },
  {
   "cell_type": "code",
   "execution_count": 37,
   "id": "abba5066",
   "metadata": {},
   "outputs": [
    {
     "name": "stdout",
     "output_type": "stream",
     "text": [
      "x=0.2\n",
      "a=0.5\n",
      "e0.000062\n",
      "1.0954375\n"
     ]
    }
   ],
   "source": [
    "# proc -45 Power4(x,a,e)  |x|<1; a,ε>0 (1+x)**a=1+a*x+a*(a-1)*x**2/(2!)+...\n",
    "# a=0.5;x=0.2; had=4; p=0.0000625; s1=1.0954375\n",
    "def Power4(x,a,e):\n",
    "    i=1; s=1;p=1\n",
    "    while i==1 or abs(p)>e:\n",
    "        s1=s\n",
    "        p*=(a-i+1)*x/i\n",
    "        s+=p\n",
    "        i+=1\n",
    "    return s1\n",
    "x=float(input(\"x=\"))\n",
    "a=float(input(\"a=\"))\n",
    "for _ in range(6):\n",
    "    e=float(input(\"e\"))\n",
    "    print(Power4(x,a,e))"
   ]
  },
  {
   "cell_type": "code",
   "execution_count": 53,
   "id": "2c84e57e",
   "metadata": {},
   "outputs": [
    {
     "name": "stdout",
     "output_type": "stream",
     "text": [
      "A=50\n",
      "B=100\n",
      "50 va 100 sonlarini EKUBi=50\n"
     ]
    }
   ],
   "source": [
    "# proc -46 NOD2(A, B)  ekubni topish evklid algoritmi bo`yicha\n",
    "import math\n",
    "def ekub(a,b):\n",
    "    a1=a;b1=b\n",
    "    a=abs(a);b=abs(b)\n",
    "    while a!=0 and b!=0 :\n",
    "        if a>b and a!=0 and b!=0:\n",
    "            a=math.fmod(a,b)\n",
    "        elif b>a and a!=0 and b!=0:\n",
    "            b=math.fmod(b,a)\n",
    "        else:\n",
    "            a=0\n",
    "    return f\"{a1} va {b1} sonlarini EKUBi={int(a+b)}\"\n",
    "a=int(input(\"A=\"))\n",
    "b=int(input(\"B=\"))\n",
    "print(ekub(a,b))\n",
    "c=int(input(\"C=\"))\n",
    "print(ekub(a,c))\n",
    "d=int(input(\"D=\"))\n",
    "print(ekub(a,d))   "
   ]
  },
  {
   "cell_type": "code",
   "execution_count": null,
   "id": "6209e130",
   "metadata": {},
   "outputs": [],
   "source": [
    "# proc -46 NOD2(A, B)  ekubni topish evklid algoritmi bo`yicha\n",
    "import math\n",
    "def ekub1(a,b):\n",
    "    a1=a;b1=b\n",
    "    a=abs(a);b=abs(b)\n",
    "    while a!=0 and b!=0 :\n",
    "        if a>b and a!=0 and b!=0:\n",
    "            a=math.fmod(a,b)\n",
    "        elif b>a and a!=0 and b!=0:\n",
    "            b=math.fmod(b,a)\n",
    "        else:\n",
    "            a=0\n",
    "    return a+b"
   ]
  },
  {
   "cell_type": "code",
   "execution_count": 68,
   "id": "25c99938",
   "metadata": {},
   "outputs": [
    {
     "name": "stdout",
     "output_type": "stream",
     "text": [
      "A=6\n",
      "B=9\n",
      "3.0\n",
      "6 9 (2, 3)\n",
      "C=12\n",
      "6.0\n",
      "6 12 (1, 2)\n",
      "D=15\n",
      "3.0\n",
      "6 15 (2, 5)\n"
     ]
    }
   ],
   "source": [
    "# proc -47  ekub(a,b) dan foydalanib frac1(a,b,p,q) funksiyasini hosil qiling \n",
    "import math\n",
    "def ekub1(a,b):\n",
    "    a1=a;b1=b\n",
    "    a=abs(a);b=abs(b)\n",
    "    while a!=0 and b!=0 :\n",
    "        if a>b and a!=0 and b!=0:\n",
    "            a=math.fmod(a,b)\n",
    "        elif b>a and a!=0 and b!=0:\n",
    "            b=math.fmod(b,a)\n",
    "        else:\n",
    "            a=0\n",
    "    return a+b\n",
    "def frac1(a,b):\n",
    "    ekb=ekub1(a,b)\n",
    "    p=a//ekb\n",
    "    q=b//ekb\n",
    "    return p,q\n",
    "a=int(input(\"A=\"))\n",
    "b=int(input(\"B=\"))\n",
    "print(a,b,frac1(a,b))\n",
    "c=int(input(\"C=\"))\n",
    "print(a,c,frac1(a,c))\n",
    "d=int(input(\"D=\"))\n",
    "print(a,d,frac1(a,d))"
   ]
  },
  {
   "cell_type": "code",
   "execution_count": null,
   "id": "5c7982ba",
   "metadata": {},
   "outputs": [],
   "source": [
    "# proc -47 public version ekub(a,b) dan foydalanib frac1(a,b,p,q) funksiyasini hosil qiling \n",
    "def EKUB(a,b):\n",
    "    while a!=b:\n",
    "        if a>b:\n",
    "            a%=b\n",
    "        else:\n",
    "            b%=a\n",
    "        if a==0:\n",
    "            a=b\n",
    "        if b==0:\n",
    "            b=a\n",
    "    return a\n",
    "def kasr(a,b):\n",
    "    boluvchi = EKUB(a,b)\n",
    "    p = a // boluvchi\n",
    "    q = b // boluvchi\n",
    "    return p,'/',q\n",
    "a = int(input(\"a = \"))\n",
    "b = int(input(\"b = \"))\n",
    "print(kasr(a,b))"
   ]
  },
  {
   "cell_type": "code",
   "execution_count": 70,
   "id": "0442bd45",
   "metadata": {},
   "outputs": [
    {
     "name": "stdout",
     "output_type": "stream",
     "text": [
      "A=5\n",
      "B=8\n",
      "5 8 40\n",
      "C=7\n",
      "5 7 35\n",
      "D=9\n",
      "5 9 45\n"
     ]
    }
   ],
   "source": [
    "# proc-48  EKUK(a,b) ni toping \n",
    "#ekub(a,b)*ekuk(a,b)==a*b\n",
    "def ekuk(a,b):\n",
    "    ekb=ekub1(a,b)\n",
    "    return a*b/ekb\n",
    "a=int(input(\"A=\"))\n",
    "b=int(input(\"B=\"))\n",
    "print(a,b,int(ekuk(a,b)))\n",
    "c=int(input(\"C=\"))\n",
    "print(a,c,int(ekuk(a,c)))\n",
    "d=int(input(\"D=\"))\n",
    "print(a,d,int(ekuk(a,d)))\n",
    "        "
   ]
  },
  {
   "cell_type": "code",
   "execution_count": 72,
   "id": "b956bf9f",
   "metadata": {},
   "outputs": [
    {
     "name": "stdout",
     "output_type": "stream",
     "text": [
      "A=10\n",
      "B=50\n",
      "C=60\n",
      "10 50 60 10\n",
      "D=15\n",
      "10 60 15 5\n",
      "10 50 15 5\n"
     ]
    }
   ],
   "source": [
    "# proc -49 ekub3(a,b,c) , 3 ta sonni ekubini topadigan f-ya\n",
    "def ekub3(a,b,c):\n",
    "    ekb=ekub1(a,b)\n",
    "    ekb=ekub1(ekb,c)\n",
    "    return ekb\n",
    "a=int(input(\"A=\"))\n",
    "b=int(input(\"B=\"))\n",
    "c=int(input(\"C=\"))\n",
    "print(a,b,c,int(ekub3(a,b,c)))\n",
    "d=int(input(\"D=\"))\n",
    "print(a,c,d,int(ekub3(a,c,d)))\n",
    "print(a,b,d,int(ekub3(a,b,d)))"
   ]
  },
  {
   "cell_type": "code",
   "execution_count": 73,
   "id": "476994d6",
   "metadata": {},
   "outputs": [
    {
     "name": "stdout",
     "output_type": "stream",
     "text": [
      "nechta son=4\n",
      "a = 20\n",
      "b = 25\n",
      "b = 55\n",
      "b = 45\n",
      "5\n"
     ]
    }
   ],
   "source": [
    "# proc qo`shimcha n ta sonni ekubi\n",
    "def ekub_n(n):\n",
    "    a = int(input(\"a = \"))\n",
    "    i=1\n",
    "    while i<n:\n",
    "        b = int(input(\"b = \"))\n",
    "        while a!=b:\n",
    "            if a>b:\n",
    "                a%=b\n",
    "            else:\n",
    "                b%=a\n",
    "        a+=b\n",
    "        i+=1\n",
    "    return a+b\n",
    "n=int(input(\"nechta son=\"))\n",
    "print(ekub_n(n))"
   ]
  },
  {
   "cell_type": "code",
   "execution_count": 74,
   "id": "1bc8d6f4",
   "metadata": {},
   "outputs": [
    {
     "name": "stdout",
     "output_type": "stream",
     "text": [
      "nechta son=5\n",
      "a = 49\n",
      "b = 77\n",
      "c = 700\n",
      "c = 14\n",
      "c = 84\n",
      "7.0\n"
     ]
    }
   ],
   "source": [
    "# proc qo`shimcha n ta sonni ekubi  version-2 funksiya bilan\n"
   ]
  },
  {
   "cell_type": "code",
   "execution_count": null,
   "id": "1031503a",
   "metadata": {},
   "outputs": [],
   "source": [
    "# proc qo`shimcha n ta sonni ekuki  version-2 funksiya bilan\n",
    "def ekuk_n(n):   \n",
    "    a=1; i=1\n",
    "    while i<n+1:\n",
    "        b=int(input(\"b=\"))\n",
    "        m=a*b\n",
    "        while a!=0 and b!=0:\n",
    "            if a>b:\n",
    "                a%=b\n",
    "            else:\n",
    "                b%=a\n",
    "        a+=b\n",
    "        a=m//a\n",
    "        i+=1\n",
    "    return a\n",
    "n=int(input(\"nechta son=\"))\n",
    "print(ekuk_n(n))"
   ]
  },
  {
   "cell_type": "code",
   "execution_count": 78,
   "id": "216f0842",
   "metadata": {},
   "outputs": [
    {
     "name": "stdout",
     "output_type": "stream",
     "text": [
      "T=3666\n",
      "01:01:06\n"
     ]
    }
   ],
   "source": [
    "# proc -50  TimeToHMS(T, H, M, S), T sekundda berilgan uni soat,minut,sekunnda qaytarsin\n",
    "def  TimeToHMS(t):\n",
    "    s=t%60\n",
    "    m=t%3600//60\n",
    "    h=t//3600\n",
    "    return h,m,s\n",
    "for _ in range(1):\n",
    "    t=int(input(\"T=\"))\n",
    "    h,m,s=TimeToHMS(t)\n",
    "    if h<10:\n",
    "        h=\"0\"+str(h)\n",
    "    if m<10:\n",
    "        m=\"0\"+str(m)\n",
    "    if s<10:\n",
    "        s=\"0\"+str(s)\n",
    "    print(f\"{h}:{m}:{s}\" )"
   ]
  },
  {
   "cell_type": "code",
   "execution_count": 82,
   "id": "4600f119",
   "metadata": {},
   "outputs": [
    {
     "name": "stdout",
     "output_type": "stream",
     "text": [
      "soat=1\n",
      "minut=59\n",
      "sekund=100\n",
      "qayta kiriting(1-59)=89\n",
      "qayta kiriting(1-59)=10\n",
      "qo`shiladigan sekundlar=3600\n",
      "(2, 59, 10)\n"
     ]
    }
   ],
   "source": [
    "# proc -51   IncTime(H, M, S, T), vaqt berilgan, qo`shiladigan sekundlar berilgan\n",
    "def  IncTime(h,m,s,t):\n",
    "    #sekundga aylantirvolamiz\n",
    "    t1=h*3600+m*60+s\n",
    "    t1=t+t1\n",
    "    return TimeToHMS(t1)\n",
    "# 1-59 gachaligini tekshiramiz\n",
    "def check_for_accuracy(a):\n",
    "    while a>59:\n",
    "        a=int(input(\"qayta kiriting(1-59)=\"))\n",
    "    return a\n",
    "h=int(input(\"soat=\"))\n",
    "m=int(input(\"minut=\"))\n",
    "if m>59:\n",
    "    m=check_for_accuracy(m)\n",
    "s=int(input(\"sekund=\"))\n",
    "if s>59:\n",
    "    s=check_for_accuracy(s)\n",
    "t=int(input(\"qo`shiladigan sekundlar=\"))\n",
    "print(IncTime(h,m,s,t))"
   ]
  },
  {
   "cell_type": "code",
   "execution_count": 90,
   "id": "e02f5ea7",
   "metadata": {},
   "outputs": [
    {
     "name": "stdout",
     "output_type": "stream",
     "text": [
      "yil=1700\n",
      "False\n",
      "yil=2128\n",
      "True\n",
      "yil=1756\n",
      "True\n",
      "yil=2400\n",
      "True\n",
      "yil=1604\n",
      "True\n"
     ]
    }
   ],
   "source": [
    "# proc -52  IsLeapYear(Y) kabisa yili bo`lsa True ,aksida False if-22 ga qarang\n",
    "def IsLeapYear(y):\n",
    "    if y%4==0:\n",
    "        if y%100==0:\n",
    "            if y%400==0:\n",
    "                return True\n",
    "            else:\n",
    "                return False\n",
    "        else:\n",
    "            return True\n",
    "    else:\n",
    "        return False\n",
    "for _ in range(5):\n",
    "    y=int(input(\"yil=\"))\n",
    "    print(IsLeapYear(y))"
   ]
  },
  {
   "cell_type": "code",
   "execution_count": 102,
   "id": "67998a7c",
   "metadata": {},
   "outputs": [
    {
     "name": "stdout",
     "output_type": "stream",
     "text": [
      "oy=0\n",
      "yil=0\n",
      "0\n",
      "oy=0\n",
      "yil=0\n",
      "0\n",
      "oy=0\n",
      "yil=0\n",
      "0\n"
     ]
    }
   ],
   "source": [
    "# proc -53  MonthDays(M, Y) yil va oy berilgan shu oydagi kunlarni \n",
    "def MonthDays(m,y):\n",
    "    if m==2 and IsLeapYear(y):\n",
    "        return 29\n",
    "    else:\n",
    "        if m==2:\n",
    "            return 28\n",
    "        elif m==4 or m==6 or m==9 or m==11:\n",
    "            return 30\n",
    "        elif 0<m<13:\n",
    "            return 31\n",
    "        else:\n",
    "            return 0\n",
    "for _ in range(3):\n",
    "    m=int(input(\"oy=\"))\n",
    "    y=int(input(\"yil=\"))\n",
    "    print(MonthDays(m,y))\n",
    "        "
   ]
  },
  {
   "cell_type": "code",
   "execution_count": 109,
   "id": "f8eabba4",
   "metadata": {},
   "outputs": [
    {
     "name": "stdout",
     "output_type": "stream",
     "text": [
      "yil=2020\n",
      "oy=3\n",
      "kun=1\n",
      "(29, 2, 2020)\n",
      "yil=2020\n",
      "oy=2\n",
      "kun=29\n",
      "(28, 2, 2020)\n",
      "yil=2019\n",
      "oy=3\n",
      "kun=1\n",
      "(28, 2, 2019)\n"
     ]
    }
   ],
   "source": [
    "# proc -54   PrevDate(D, M, Y), berilgan sanadan oldingi kunni aniqlasin\n",
    "def PrevDate(d,m,y):\n",
    "    if d==1:\n",
    "        if m==1:\n",
    "            if y==1:\n",
    "                return 31,12,-1\n",
    "            else:\n",
    "                return 31,12,y-1\n",
    "        else:\n",
    "            return MonthDays(m-1,y),m-1,y\n",
    "    else:\n",
    "        return d-1,m,y\n",
    "def chek_d(y,m,d=1):\n",
    "    while y<=0:\n",
    "        y=int(input(\"yilni qayta kiriting=\"))\n",
    "    while m >12 or m<=0:\n",
    "        m=int(input(\"oyni qayta kiriting=\"))\n",
    "    while d<=0 or d>MonthDays(m,y):\n",
    "        d=int(input(\"kunni qayta kiriting=\")) \n",
    "    return y,m,d\n",
    "for _ in range(3):\n",
    "    y=int(input(\"yil=\"))    \n",
    "    m=int(input(\"oy=\"))\n",
    "    y,m,_=chek_d(y,m)\n",
    "    d=int(input(\"kun=\"))\n",
    "    _,_,d=chek_d(y,m,d)\n",
    "    print(PrevDate(d,m,y))\n",
    "    "
   ]
  },
  {
   "cell_type": "code",
   "execution_count": 111,
   "id": "634f5694",
   "metadata": {},
   "outputs": [
    {
     "name": "stdout",
     "output_type": "stream",
     "text": [
      "yil=2020\n",
      "oy=2\n",
      "kun=30\n",
      "kunni qayta kiriting=29\n",
      "(1, 3, 2020)\n",
      "yil=1000\n",
      "oy=9\n",
      "kun=9\n",
      "(10, 9, 1000)\n",
      "yil=999\n",
      "oy=12\n",
      "kun=31\n",
      "(1, 1, 1000)\n"
     ]
    }
   ],
   "source": [
    "# proc -55 NextDate(d,m,y)  berilgan kundan keyingi kunni toping\n",
    "def IsLeapYear(y):\n",
    "    if y%4==0:\n",
    "        if y%100==0:\n",
    "            if y%400==0:\n",
    "                return True\n",
    "            else:\n",
    "                return False\n",
    "        else:\n",
    "            return True\n",
    "    else:\n",
    "        return False\n",
    "def MonthDays(m,y):\n",
    "    if m==2 and IsLeapYear(y):\n",
    "        return 29\n",
    "    else:\n",
    "        if m==2:\n",
    "            return 28\n",
    "        elif m==4 or m==6 or m==9 or m==11:\n",
    "            return 30\n",
    "        elif 0<m<13:\n",
    "            return 31\n",
    "        else:\n",
    "            return 0\n",
    "def chek_d(y,m,d=1):\n",
    "    while y<=0:\n",
    "        y=int(input(\"yilni qayta kiriting=\"))\n",
    "    while m >12 or m<=0:\n",
    "        m=int(input(\"oyni qayta kiriting=\"))\n",
    "    while d<=0 or d>MonthDays(m,y):\n",
    "        d=int(input(\"kunni qayta kiriting=\")) \n",
    "    return y,m,d\n",
    "def NextDate(d,m,y):\n",
    "    if d==31 and m==12:\n",
    "        return 1,1,y+1\n",
    "    elif d==MonthDays(m,y):\n",
    "        return 1,m+1,y\n",
    "    else:\n",
    "        return d+1,m,y\n",
    "for _ in range(3):\n",
    "    y=int(input(\"yil=\"))    \n",
    "    m=int(input(\"oy=\"))\n",
    "    y,m,_=chek_d(y,m)\n",
    "    d=int(input(\"kun=\"))\n",
    "    _,_,d=chek_d(y,m,d)\n",
    "    print(NextDate(d,m,y))\n",
    "        "
   ]
  },
  {
   "cell_type": "code",
   "execution_count": 3,
   "id": "2a3e6359",
   "metadata": {},
   "outputs": [
    {
     "name": "stdout",
     "output_type": "stream",
     "text": [
      "d = 31\n",
      "m = 12\n",
      "y = 2020\n",
      "(1, 1, 2021)\n"
     ]
    }
   ],
   "source": [
    "# proc -55 Public version  NextDate(d,m,y)  berilgan kundan keyingi kunni toping\n",
    "def IsLeapYear1(y):\n",
    "    kabisa = False\n",
    "    if y%4==0:\n",
    "        kabisa = True\n",
    "    if y%100==0 and y%400!=0:\n",
    "        kabisa = False\n",
    "    return kabisa\n",
    "def MonthDays1(m,y):\n",
    "    if m==4 or m==6 or m==9 or m==11:\n",
    "        return 30\n",
    "    elif m==2:\n",
    "        return 28+IsLeapYear1(y)\n",
    "    else:\n",
    "        return 31    \n",
    "def NextDate1(d,m,y):\n",
    "    d += 1\n",
    "    if d>MonthDays1(m,y):\n",
    "        d = 1\n",
    "        m = m + 1\n",
    "    if m==13:\n",
    "        m = 1\n",
    "        y = y + 1\n",
    "    return d,m,y\n",
    "d = int(input(\"d = \"))\n",
    "m = int(input(\"m = \"))\n",
    "y = int(input(\"y = \"))\n",
    "print(NextDate1(d,m,y),sep='.')\n"
   ]
  },
  {
   "cell_type": "code",
   "execution_count": 1,
   "id": "8af21dad",
   "metadata": {},
   "outputs": [
    {
     "name": "stdout",
     "output_type": "stream",
     "text": [
      "x1=1\n",
      "y2=1\n",
      "x2=6\n",
      "y2=5\n",
      "6.4031242374328485\n",
      "x2=5\n",
      "y2=4\n",
      "5.0\n",
      "x2=4\n",
      "y2=5\n",
      "5.0\n"
     ]
    }
   ],
   "source": [
    "# proc -56 Leng(x1,y1,x2,y2)   (x1,y1) va (x2,y2) nuqtalar orasidagi masofani aniq\n",
    "def Leng(x1,y1,x2,y2):\n",
    "    a=abs(x1-x2)\n",
    "    b=abs(y1-y2)\n",
    "    return (a**2+b**2)**(1/2)\n",
    "x1=float(input(\"x1=\"))\n",
    "y1=float(input(\"y2=\"))\n",
    "for _ in range(3):\n",
    "    x2=float(input(\"x2=\"))\n",
    "    y2=float(input(\"y2=\"))\n",
    "    print(Leng(x1,y1,x2,y2))"
   ]
  },
  {
   "cell_type": "code",
   "execution_count": 2,
   "id": "47103302",
   "metadata": {},
   "outputs": [
    {
     "name": "stdout",
     "output_type": "stream",
     "text": [
      "x1=1\n",
      "y1=1\n",
      "x2=4\n",
      "y2=5\n",
      "x3=4\n",
      "y3=1\n",
      "x4=4\n",
      "y4=5\n",
      "ABC= 12.0\n",
      "ABD= 10.0\n",
      "ACD= 12.0\n"
     ]
    }
   ],
   "source": [
    "# proc -57 Perim(x_a,y_a,x_b,y_b,x_c,y_c) uchburchak perimetri \n",
    "def Perim(x1,y1,x2,y2,x3,y3):\n",
    "    a=Leng(x1,y1,x2,y2)\n",
    "    b=Leng(x1,y1,x3,y3)\n",
    "    c=Leng(x2,y2,x3,y3)\n",
    "    return a+b+c\n",
    "x1=float(input(\"x1=\"))\n",
    "y1=float(input(\"y1=\"))\n",
    "x2=float(input(\"x2=\"))\n",
    "y2=float(input(\"y2=\"))\n",
    "x3=float(input(\"x3=\"))\n",
    "y3=float(input(\"y3=\"))\n",
    "x4=float(input(\"x4=\"))\n",
    "y4=float(input(\"y4=\"))\n",
    "print(\"ABC=\",Perim(x1,y1,x2,y2,x3,y3))\n",
    "print(\"ABD=\",Perim(x1,y1,x2,y2,x4,y4))\n",
    "print(\"ACD=\",Perim(x1,y1,x3,y3,x4,y4))"
   ]
  },
  {
   "cell_type": "code",
   "execution_count": 3,
   "id": "08242219",
   "metadata": {},
   "outputs": [
    {
     "name": "stdout",
     "output_type": "stream",
     "text": [
      "x1=1\n",
      "y1=1\n",
      "x2=4\n",
      "y2=5\n",
      "x3=4\n",
      "y3=1\n",
      "x4=5\n",
      "y4=4\n",
      "ABC= 6.0\n",
      "ABD= 3.500000000000002\n",
      "ACD= 4.500000000000002\n"
     ]
    }
   ],
   "source": [
    "# proc -58 Area(x1,y1,x2,y2,x3,y3)\n",
    "def Area(x1,y1,x2,y2,x3,y3):\n",
    "    p=Perim(x1,y1,x2,y2,x3,y3)/2\n",
    "    a=Leng(x1,y1,x2,y2)\n",
    "    b=Leng(x1,y1,x3,y3)\n",
    "    c=Leng(x2,y2,x3,y3)\n",
    "    # Geron formulasi\n",
    "    s=(p*(p-a)*(p-b)*(p-c))**0.5\n",
    "    return s\n",
    "x1=float(input(\"x1=\"))\n",
    "y1=float(input(\"y1=\"))\n",
    "x2=float(input(\"x2=\"))\n",
    "y2=float(input(\"y2=\"))\n",
    "x3=float(input(\"x3=\"))\n",
    "y3=float(input(\"y3=\"))\n",
    "x4=float(input(\"x4=\"))\n",
    "y4=float(input(\"y4=\"))\n",
    "print(\"ABC=\",Area(x1,y1,x2,y2,x3,y3))\n",
    "print(\"ABD=\",Area(x1,y1,x2,y2,x4,y4))\n",
    "print(\"ACD=\",Area(x1,y1,x3,y3,x4,y4))"
   ]
  },
  {
   "cell_type": "code",
   "execution_count": 6,
   "id": "1579c4dc",
   "metadata": {},
   "outputs": [
    {
     "name": "stdout",
     "output_type": "stream",
     "text": [
      "A_x=1\n",
      "A_y=1\n",
      "B_x=4\n",
      "B_y=5\n",
      "p_x=4\n",
      "p_y=1\n",
      "AB-p= 2.4\n",
      "C_x=5\n",
      "C_y=4\n",
      "BC-p= 2.8284271247461885\n",
      "AC-p= 1.8000000000000007\n"
     ]
    }
   ],
   "source": [
    "# proc -59 Dist(x_a,_a,x_b,y_b,x_p,y_p) AB tomonga tushirilgan balandlik\n",
    "def Dist(x1,y1,x2,y2,x3,y3):\n",
    "    s=Area(x1,y1,x2,y2,x3,y3)\n",
    "    a=Leng(x1,y1,x2,y2)\n",
    "    h=2*s/a\n",
    "    return h\n",
    "x1=float(input(\"A_x=\"))\n",
    "y1=float(input(\"A_y=\"))\n",
    "x2=float(input(\"B_x=\"))\n",
    "y2=float(input(\"B_y=\"))\n",
    "x3=float(input(\"p_x=\"))\n",
    "y3=float(input(\"p_y=\"))\n",
    "print(\"AB-h=\",Dist(x1,y1,x2,y2,x3,y3))              \n",
    "x4=float(input(\"C_x=\"))\n",
    "y4=float(input(\"C_y=\"))\n",
    "print(\"BC-h=\",Dist(x2,y2,x4,y4,x3,y3))\n",
    "print(\"AC-h=\",Dist(x1,y1,x4,y4,x3,y3))"
   ]
  },
  {
   "cell_type": "code",
   "execution_count": null,
   "id": "a556709a",
   "metadata": {},
   "outputs": [],
   "source": [
    "# proc -60 Heights(x_a,y_a,x_b,y_b,x_c,y_c,h_a,h_b,h_c) 3burchak tomonlariga tushirilganbalandliklarni\n",
    "def Leng(x1,y1,x2,y2):\n",
    "    a=abs(x1-x2)\n",
    "    b=abs(y1-y2)\n",
    "    return (a**2+b**2)**(1/2)\n",
    "def Perim(x1,y1,x2,y2,x3,y3):\n",
    "    a=Leng(x1,y1,x2,y2)\n",
    "    b=Leng(x1,y1,x3,y3)\n",
    "    c=Leng(x2,y2,x3,y3)\n",
    "    return a+b+c\n",
    "def Area(x1,y1,x2,y2,x3,y3):\n",
    "    p=Perim(x1,y1,x2,y2,x3,y3)/2\n",
    "    a=Leng(x1,y1,x2,y2)\n",
    "    b=Leng(x1,y1,x3,y3)\n",
    "    c=Leng(x2,y2,x3,y3)\n",
    "    # Geron formulasi\n",
    "    s=(p*(p-a)*(p-b)*(p-c))**0.5\n",
    "    return s\n",
    "def Heights(x1,y1,x2,y2,x3,y3):\n",
    "    s=Area(x1,y1,x2,y2,x3,y3)\n",
    "    a=Leng(x1,y1,x2,y2)\n",
    "    b=Leng(x1,y1,x3,y3)\n",
    "    c=Leng(x2,y2,x3,y3)\n",
    "    h_a=2*s/a\n",
    "    h_b=2*s/b\n",
    "    h_c=2*s/c\n",
    "    return h_a, h_b, h_c\n",
    "x1=float(input(\"A_x=\"))\n",
    "y1=float(input(\"A_y=\"))\n",
    "x2=float(input(\"B_x=\"))\n",
    "y2=float(input(\"B_y=\"))\n",
    "x3=float(input(\"C_x=\"))\n",
    "y3=float(input(\"C_y=\"))\n",
    "print(\"h_AB,h_AC,h_BC=\",Heights(x1,y1,x2,y2,x3,y3))"
   ]
  },
  {
   "cell_type": "code",
   "execution_count": null,
   "id": "f5f06ce9",
   "metadata": {},
   "outputs": [],
   "source": [
    "# Funksiya 60  public version\n",
    "from math import sqrt\n",
    "\n",
    "def Len(x1,y1,x2,y2):\n",
    "    uzunlik = sqrt((x1-x2)**2+(y1-y2)**2)\n",
    "    return uzunlik\n",
    "\n",
    "def Perim(x1,y1,x2,y2,x3,y3):\n",
    "    a = Len(x1,y1,x2,y2)\n",
    "    b = Len(x1,y1,x3,y3)\n",
    "    c = Len(x2,y2,x3,y3)\n",
    "    return a+b+c\n",
    "\n",
    "def Yuza(x1,y1,x2,y2,x3,y3):\n",
    "    p = Perim(x1,y1,x2,y2,x3,y3) / 2\n",
    "    a = Len(x1,y1,x2,y2)\n",
    "    b = Len(x1,y1,x3,y3)\n",
    "    c = Len(x2,y2,x3,y3)\n",
    "    \n",
    "    S = sqrt(p*(p-a)*(p-b)*(p-c))\n",
    "    \n",
    "    return S\n",
    "\n",
    "def Balandlik(x1,y1,x2,y2,x3,y3):\n",
    "    a = Len(x1,y1,x2,y2)\n",
    "    S = Yuza(x1,y1,x2,y2,x3,y3)\n",
    "    \n",
    "    return 2 * S / a\n",
    "\n",
    "def N_Balandlik(x1,y1,x2,y2,x3,y3):\n",
    "    a_h = Balandlik(x1,y1,x2,y2,x3,y3)\n",
    "    b_h = Balandlik(x1,y1,x3,y3,x2,y2)\n",
    "    c_h = Balandlik(x2,y2,x3,y3,x1,y1)\n",
    "    return a_h,b_h,c_h\n",
    "\n",
    "x1 = int(input(\"x1 = \"))\n",
    "y1 = int(input(\"y1 = \"))\n",
    "x2 = int(input(\"x2 \n",
    "\n",
    "= \"))\n",
    "y2 = int(input(\"y2 = \"))\n",
    "x3 = int(input(\"x3 = \"))\n",
    "y3 = int(input(\"y3 = \"))\n",
    "\n",
    "print(N_Balandlik(x1,y1,x2,y2,x3,y3))"
   ]
  },
  {
   "cell_type": "code",
   "execution_count": 5,
   "id": "02fdfe48",
   "metadata": {},
   "outputs": [
    {
     "name": "stdout",
     "output_type": "stream",
     "text": [
      "10\n",
      "[-10, -5, -2, -1, 1, 2, 5, 10]\n"
     ]
    }
   ],
   "source": [
    "z=int(input())\n",
    "if z==0:\n",
    "    print(-1)\n",
    "else:\n",
    "    s=0\n",
    "    num=[i for i in range((-1)*abs(z),abs(z)+1) if i!=0 and z%i==0]\n",
    "    for i in num:\n",
    "        for j in num:\n",
    "            if i*j==z and j>=i:\n",
    "                s+=1\n",
    "    print(num)"
   ]
  },
  {
   "cell_type": "code",
   "execution_count": 14,
   "id": "042f0f43",
   "metadata": {},
   "outputs": [
    {
     "name": "stdout",
     "output_type": "stream",
     "text": [
      "z=10\n",
      "4\n"
     ]
    }
   ],
   "source": [
    "z=int(input(\"z=\"))\n",
    "r=0\n",
    "z=abs(z)\n",
    "if z==0:\n",
    "    r=-1\n",
    "else:\n",
    "    for i in range(0-z,z+1):\n",
    "        for j in range(0-z,z+1):\n",
    "            if i*j==z and i<=j:\n",
    "                r+=1\n",
    "print(r)"
   ]
  },
  {
   "cell_type": "code",
   "execution_count": null,
   "id": "435654bf",
   "metadata": {},
   "outputs": [],
   "source": [
    "# n ta sonni ekuki\n",
    "# n kun keyingi sanani\n",
    "# funksiya 60"
   ]
  },
  {
   "cell_type": "code",
   "execution_count": 3,
   "id": "1ee639da",
   "metadata": {},
   "outputs": [
    {
     "name": "stdout",
     "output_type": "stream",
     "text": [
      "nechta son=4\n",
      "b=2\n",
      "b=3\n",
      "b=4\n",
      "b=5\n",
      "60\n"
     ]
    }
   ],
   "source": [
    "# nta sonning ekuki\n",
    "def ekuk_n(n):   \n",
    "    a=1; i=1\n",
    "    while i<n+1:\n",
    "        b=int(input(\"b=\"))\n",
    "        m=a*b\n",
    "        while a!=0 and b!=0:\n",
    "            if a>b:\n",
    "                a%=b\n",
    "            else:\n",
    "                b%=a\n",
    "        a+=b\n",
    "        a=m//a\n",
    "        i+=1\n",
    "    return a\n",
    "n=int(input(\"nechta son=\"))\n",
    "print(ekuk_n(n))"
   ]
  },
  {
   "cell_type": "code",
   "execution_count": null,
   "id": "5899bc3e",
   "metadata": {},
   "outputs": [],
   "source": [
    "# Nta sonning EKUKini topuvchi dastur public version\n",
    "def EKUB(a,b):\n",
    "    while a!=b:\n",
    "        if a>b:\n",
    "            a%=b\n",
    "        else:\n",
    "            b%=a\n",
    "        if a==0:\n",
    "            a=b\n",
    "        if b==0:\n",
    "            b=a\n",
    "    return a\n",
    "\n",
    "def EKUK(a,b):\n",
    "    return a*b//EKUB(a,b)\n",
    "\n",
    "N = int(input(\"N = \"))\n",
    "\n",
    "ekuk = int(input(\"a = \"))\n",
    "for i in range(1,N):\n",
    "    a = int(input(\"a = \"))\n",
    "    ekuk = EKUK(ekuk,a)\n",
    "    \n",
    "print(ekuk)"
   ]
  },
  {
   "cell_type": "code",
   "execution_count": 8,
   "id": "c14cdfe3",
   "metadata": {},
   "outputs": [
    {
     "name": "stdout",
     "output_type": "stream",
     "text": [
      "d = 13\n",
      "m = 12\n",
      "y = 2021\n",
      "n = 412\n",
      "(29, 1, 2023)\n"
     ]
    }
   ],
   "source": [
    "# n kundan keyingi sana\n",
    "def IsLeapYear1(y):\n",
    "    kabisa = False\n",
    "    if y%4==0:\n",
    "        kabisa = True\n",
    "    if y%100==0 and y%400!=0:\n",
    "        kabisa = False\n",
    "    return kabisa\n",
    "def MonthDays1(m,y):\n",
    "    if m==4 or m==6 or m==9 or m==11:\n",
    "        return 30\n",
    "    elif m==2:\n",
    "        return 28+IsLeapYear1(y)\n",
    "    else:\n",
    "        return 31 \n",
    "def NextDate1(d,m,y,n):\n",
    "    d+=n    \n",
    "    while d>MonthDays1(m,y):        \n",
    "        d=d-MonthDays1(m,y)\n",
    "        m+=1\n",
    "        if m==13:\n",
    "            m=1\n",
    "            y+=1\n",
    "    return d,m,y\n",
    "d = int(input(\"d = \"))\n",
    "m = int(input(\"m = \"))\n",
    "y = int(input(\"y = \"))\n",
    "n = int(input(\"n = \"))\n",
    "print(NextDate1(d,m,y,n),sep='.')"
   ]
  },
  {
   "cell_type": "code",
   "execution_count": null,
   "id": "38bdab7a",
   "metadata": {},
   "outputs": [],
   "source": [
    "# N kun keyingi sanani topuvchi dastur  public version\n",
    "\n",
    "def IsLeapYear(y):\n",
    "    kabisa = False\n",
    "    if y%4==0:\n",
    "        kabisa = True\n",
    "    if y%100==0 and y%400!=0:\n",
    "        kabisa = False\n",
    "    return kabisa\n",
    "\n",
    "def MonthDays(m,y):\n",
    "    if m==4 or m==6 or m==9 or m==11:\n",
    "        return 30\n",
    "    elif m==2:\n",
    "        return 28 + IsLeapYear(y)\n",
    "    else:\n",
    "        return 31\n",
    "    \n",
    "def NdayNext(d,m,y,N):\n",
    "    d += N\n",
    "    while d > MonthDays(m,y):\n",
    "        d -= MonthDays(m,y)\n",
    "        m = m + 1\n",
    "        if m==13:\n",
    "            m = 1\n",
    "            y = y + 1\n",
    "    return d,m,y\n",
    "\n",
    "N = int(input(\"N = \"))\n",
    "d = int(input(\"d = \"))\n",
    "m = int(input(\"m = \"))\n",
    "y = int(input(\"y = \"))\n",
    "\n",
    "print(NdayNext(d,m,y,N))"
   ]
  },
  {
   "cell_type": "code",
   "execution_count": null,
   "id": "fa37b122",
   "metadata": {},
   "outputs": [],
   "source": [
    "# n kundan oldingi sana\n",
    "def IsLeapYear1(y):\n",
    "    kabisa = False\n",
    "    if y%4==0:\n",
    "        kabisa = True\n",
    "    if y%100==0 and y%400!=0:\n",
    "        kabisa = False\n",
    "    return kabisa\n",
    "def MonthDays1(m,y):\n",
    "    if m==4 or m==6 or m==9 or m==11:\n",
    "        return 30\n",
    "    elif m==2:\n",
    "        return 28+IsLeapYear1(y)\n",
    "    else:\n",
    "        return 31 \n",
    "def PrevDateN(d,m,y,n):\n",
    "    if d>n:\n",
    "        d-=n        \n",
    "    else:\n",
    "        d=n-d\n",
    "        if d==0:\n",
    "            if (m-1)==0:\n",
    "                m=12\n",
    "                d=31\n",
    "                y-=1\n",
    "            else:\n",
    "                m=\n",
    "        while d>MonthDays1(m-1,y):        \n",
    "            d=d-MonthDays1(m-1,y)\n",
    "            m-=1\n",
    "            if m==13:\n",
    "                m=1\n",
    "                y=y+1\n",
    "    return d,m,y\n",
    "d = int(input(\"d = \"))\n",
    "m = int(input(\"m = \"))\n",
    "y = int(input(\"y = \"))\n",
    "n = int(input(\"n = \"))\n",
    "print(PrevDateN(d,m,y,n),sep='.')"
   ]
  }
 ],
 "metadata": {
  "kernelspec": {
   "display_name": "Python 3 (ipykernel)",
   "language": "python",
   "name": "python3"
  },
  "language_info": {
   "codemirror_mode": {
    "name": "ipython",
    "version": 3
   },
   "file_extension": ".py",
   "mimetype": "text/x-python",
   "name": "python",
   "nbconvert_exporter": "python",
   "pygments_lexer": "ipython3",
   "version": "3.8.10"
  }
 },
 "nbformat": 4,
 "nbformat_minor": 5
}
